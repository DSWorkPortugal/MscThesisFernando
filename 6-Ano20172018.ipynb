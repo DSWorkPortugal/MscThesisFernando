{
 "cells": [
  {
   "cell_type": "markdown",
   "metadata": {},
   "source": [
    "# Processing -Ano2017/2018"
   ]
  },
  {
   "cell_type": "code",
   "execution_count": null,
   "metadata": {},
   "outputs": [],
   "source": []
  },
  {
   "cell_type": "markdown",
   "metadata": {},
   "source": [
    "# Table of Contents\n",
    "1. [Import Packages](#imports)\n",
    "2. [Import the Data](#importdata)\n",
    "3. [Preprocess Data](#preprocess)\n",
    "4. [Liked/Disliked](#likedDisliked)\n",
    "5. [Learned/NotLearned](#LearnedNot)\n",
    "\n",
    "6. [Positives and Negatives](#posneg)\n",
    "7. [Data Visualizations](#dataviz)\n",
    "8. [Save Processed Data](#processeddata)\n",
    "\n",
    "\n"
   ]
  },
  {
   "cell_type": "markdown",
   "metadata": {},
   "source": [
    "### Import Packages   <a name=\"imports\"></a>\n",
    "* [Back to TOC](#backtoc)\n"
   ]
  },
  {
   "cell_type": "code",
   "execution_count": 57,
   "metadata": {},
   "outputs": [],
   "source": [
    "# Import  libraries\n",
    "\n",
    "import pandas as pd\n",
    "import numpy as np \n",
    "\n",
    "\n",
    "import warnings\n",
    "warnings.filterwarnings(\"ignore\")\n"
   ]
  },
  {
   "cell_type": "markdown",
   "metadata": {},
   "source": [
    "### Import the data  <a name=\"importdata\"></a>\n",
    "* [Back to TOC](#backtoc)\n"
   ]
  },
  {
   "cell_type": "code",
   "execution_count": 58,
   "metadata": {},
   "outputs": [
    {
     "data": {
      "text/html": [
       "<div>\n",
       "<style scoped>\n",
       "    .dataframe tbody tr th:only-of-type {\n",
       "        vertical-align: middle;\n",
       "    }\n",
       "\n",
       "    .dataframe tbody tr th {\n",
       "        vertical-align: top;\n",
       "    }\n",
       "\n",
       "    .dataframe thead th {\n",
       "        text-align: right;\n",
       "    }\n",
       "</style>\n",
       "<table border=\"1\" class=\"dataframe\">\n",
       "  <thead>\n",
       "    <tr style=\"text-align: right;\">\n",
       "      <th></th>\n",
       "      <th>Está satisfeito com a ferramenta DreamShaper?(Classifique de 1 a 4, sendo 1: Nada satisfeito e 4: Muito Satisfeito)</th>\n",
       "      <th>Quais são os seus 3 aspectos preferidos da ferramenta ? Aspecto Visual</th>\n",
       "      <th>Quais são os seus 3 aspectos preferidos da ferramenta ? Navegação na Ferramenta</th>\n",
       "      <th>Quais são os seus 3 aspectos preferidos da ferramenta ? Perguntas</th>\n",
       "      <th>Quais são os seus 3 aspectos preferidos da ferramenta ? Exemplos</th>\n",
       "      <th>Quais são os seus 3 aspectos preferidos da ferramenta ? Vídeos</th>\n",
       "      <th>Quais são os seus 3 aspectos preferidos da ferramenta ? Modelo de negócios</th>\n",
       "      <th>Quais são os seus 3 aspectos preferidos da ferramenta ? Indicações de Interface</th>\n",
       "      <th>Quais são os seus 3 aspectos preferidos da ferramenta ? Mural de equipa</th>\n",
       "      <th>Quais são os seus 3 aspectos preferidos da ferramenta ?  Gestão de equipa</th>\n",
       "      <th>...</th>\n",
       "      <th>E quais são os 3 aspectos que menos gosta? Perguntas</th>\n",
       "      <th>E quais são os 3 aspectos que menos gosta? Exemplos</th>\n",
       "      <th>E quais são os 3 aspectos que menos gosta? Vídeos</th>\n",
       "      <th>E quais são os 3 aspectos que menos gosta? Modelo de negócios</th>\n",
       "      <th>E quais são os 3 aspectos que menos gosta? Indicações de interface</th>\n",
       "      <th>E quais são os 3 aspectos que menos gosta? Mural de equipa</th>\n",
       "      <th>E quais são os 3 aspectos que menos gosta? Gestão de equipa</th>\n",
       "      <th>E quais são os 3 aspectos que menos gosta? Gestão de projectos</th>\n",
       "      <th>E quais são os 3 aspectos que menos gosta? Outros</th>\n",
       "      <th>Quanto aprendeu com a DreamShaper?</th>\n",
       "    </tr>\n",
       "  </thead>\n",
       "  <tbody>\n",
       "    <tr>\n",
       "      <th>0</th>\n",
       "      <td>4.0</td>\n",
       "      <td>NaN</td>\n",
       "      <td>NaN</td>\n",
       "      <td>Perguntas</td>\n",
       "      <td>Exemplos</td>\n",
       "      <td>NaN</td>\n",
       "      <td>NaN</td>\n",
       "      <td>Indicações de Interface</td>\n",
       "      <td>NaN</td>\n",
       "      <td>NaN</td>\n",
       "      <td>...</td>\n",
       "      <td>NaN</td>\n",
       "      <td>NaN</td>\n",
       "      <td>NaN</td>\n",
       "      <td>NaN</td>\n",
       "      <td>NaN</td>\n",
       "      <td>NaN</td>\n",
       "      <td>NaN</td>\n",
       "      <td>Gestão de projectos</td>\n",
       "      <td>O local onde mostra o progresso do projeto não...</td>\n",
       "      <td>Alguma coisa</td>\n",
       "    </tr>\n",
       "    <tr>\n",
       "      <th>1</th>\n",
       "      <td>4.0</td>\n",
       "      <td>NaN</td>\n",
       "      <td>Navegação na ferramenta</td>\n",
       "      <td>NaN</td>\n",
       "      <td>Exemplos</td>\n",
       "      <td>NaN</td>\n",
       "      <td>Modelo de negócios</td>\n",
       "      <td>NaN</td>\n",
       "      <td>NaN</td>\n",
       "      <td>NaN</td>\n",
       "      <td>...</td>\n",
       "      <td>NaN</td>\n",
       "      <td>NaN</td>\n",
       "      <td>NaN</td>\n",
       "      <td>NaN</td>\n",
       "      <td>NaN</td>\n",
       "      <td>Mural de equipa</td>\n",
       "      <td>Gestão de equipa</td>\n",
       "      <td>Gestão de projectos</td>\n",
       "      <td>NaN</td>\n",
       "      <td>Bastante</td>\n",
       "    </tr>\n",
       "    <tr>\n",
       "      <th>2</th>\n",
       "      <td>4.0</td>\n",
       "      <td>NaN</td>\n",
       "      <td>Navegação na ferramenta</td>\n",
       "      <td>Perguntas</td>\n",
       "      <td>NaN</td>\n",
       "      <td>NaN</td>\n",
       "      <td>NaN</td>\n",
       "      <td>NaN</td>\n",
       "      <td>NaN</td>\n",
       "      <td>NaN</td>\n",
       "      <td>...</td>\n",
       "      <td>NaN</td>\n",
       "      <td>Exemplos</td>\n",
       "      <td>NaN</td>\n",
       "      <td>NaN</td>\n",
       "      <td>NaN</td>\n",
       "      <td>NaN</td>\n",
       "      <td>NaN</td>\n",
       "      <td>NaN</td>\n",
       "      <td>NaN</td>\n",
       "      <td>Alguma coisa</td>\n",
       "    </tr>\n",
       "    <tr>\n",
       "      <th>3</th>\n",
       "      <td>4.0</td>\n",
       "      <td>Aspecto Visual</td>\n",
       "      <td>Navegação na ferramenta</td>\n",
       "      <td>NaN</td>\n",
       "      <td>Exemplos</td>\n",
       "      <td>NaN</td>\n",
       "      <td>NaN</td>\n",
       "      <td>NaN</td>\n",
       "      <td>NaN</td>\n",
       "      <td>NaN</td>\n",
       "      <td>...</td>\n",
       "      <td>NaN</td>\n",
       "      <td>NaN</td>\n",
       "      <td>NaN</td>\n",
       "      <td>Modelo de negócios</td>\n",
       "      <td>Indicações de Interface</td>\n",
       "      <td>NaN</td>\n",
       "      <td>NaN</td>\n",
       "      <td>Gestão de projectos</td>\n",
       "      <td>NaN</td>\n",
       "      <td>Bastante</td>\n",
       "    </tr>\n",
       "    <tr>\n",
       "      <th>4</th>\n",
       "      <td>4.0</td>\n",
       "      <td>NaN</td>\n",
       "      <td>NaN</td>\n",
       "      <td>Perguntas</td>\n",
       "      <td>NaN</td>\n",
       "      <td>Vídeos</td>\n",
       "      <td>NaN</td>\n",
       "      <td>Indicações de Interface</td>\n",
       "      <td>NaN</td>\n",
       "      <td>NaN</td>\n",
       "      <td>...</td>\n",
       "      <td>NaN</td>\n",
       "      <td>Exemplos</td>\n",
       "      <td>NaN</td>\n",
       "      <td>Modelo de negócios</td>\n",
       "      <td>NaN</td>\n",
       "      <td>NaN</td>\n",
       "      <td>NaN</td>\n",
       "      <td>NaN</td>\n",
       "      <td>NaN</td>\n",
       "      <td>Alguma coisa</td>\n",
       "    </tr>\n",
       "    <tr>\n",
       "      <th>...</th>\n",
       "      <td>...</td>\n",
       "      <td>...</td>\n",
       "      <td>...</td>\n",
       "      <td>...</td>\n",
       "      <td>...</td>\n",
       "      <td>...</td>\n",
       "      <td>...</td>\n",
       "      <td>...</td>\n",
       "      <td>...</td>\n",
       "      <td>...</td>\n",
       "      <td>...</td>\n",
       "      <td>...</td>\n",
       "      <td>...</td>\n",
       "      <td>...</td>\n",
       "      <td>...</td>\n",
       "      <td>...</td>\n",
       "      <td>...</td>\n",
       "      <td>...</td>\n",
       "      <td>...</td>\n",
       "      <td>...</td>\n",
       "      <td>...</td>\n",
       "    </tr>\n",
       "    <tr>\n",
       "      <th>882</th>\n",
       "      <td>4.0</td>\n",
       "      <td>Aspecto Visual</td>\n",
       "      <td>Navegação na ferramenta</td>\n",
       "      <td>NaN</td>\n",
       "      <td>Exemplos</td>\n",
       "      <td>NaN</td>\n",
       "      <td>Modelo de negócios</td>\n",
       "      <td>Indicações de Interface</td>\n",
       "      <td>NaN</td>\n",
       "      <td>NaN</td>\n",
       "      <td>...</td>\n",
       "      <td>Perguntas</td>\n",
       "      <td>NaN</td>\n",
       "      <td>Vídeos</td>\n",
       "      <td>NaN</td>\n",
       "      <td>NaN</td>\n",
       "      <td>NaN</td>\n",
       "      <td>NaN</td>\n",
       "      <td>NaN</td>\n",
       "      <td>Dimensão das etapas</td>\n",
       "      <td>Bastante</td>\n",
       "    </tr>\n",
       "    <tr>\n",
       "      <th>883</th>\n",
       "      <td>4.0</td>\n",
       "      <td>Aspecto Visual</td>\n",
       "      <td>Navegação na ferramenta</td>\n",
       "      <td>Perguntas</td>\n",
       "      <td>NaN</td>\n",
       "      <td>NaN</td>\n",
       "      <td>Modelo de negócios</td>\n",
       "      <td>NaN</td>\n",
       "      <td>NaN</td>\n",
       "      <td>NaN</td>\n",
       "      <td>...</td>\n",
       "      <td>NaN</td>\n",
       "      <td>Exemplos</td>\n",
       "      <td>NaN</td>\n",
       "      <td>NaN</td>\n",
       "      <td>NaN</td>\n",
       "      <td>Mural de equipa</td>\n",
       "      <td>NaN</td>\n",
       "      <td>NaN</td>\n",
       "      <td>sem opção</td>\n",
       "      <td>Bastante</td>\n",
       "    </tr>\n",
       "    <tr>\n",
       "      <th>884</th>\n",
       "      <td>4.0</td>\n",
       "      <td>NaN</td>\n",
       "      <td>Navegação na ferramenta</td>\n",
       "      <td>NaN</td>\n",
       "      <td>Exemplos</td>\n",
       "      <td>Vídeos</td>\n",
       "      <td>NaN</td>\n",
       "      <td>NaN</td>\n",
       "      <td>NaN</td>\n",
       "      <td>NaN</td>\n",
       "      <td>...</td>\n",
       "      <td>Perguntas</td>\n",
       "      <td>NaN</td>\n",
       "      <td>NaN</td>\n",
       "      <td>NaN</td>\n",
       "      <td>Indicações de Interface</td>\n",
       "      <td>NaN</td>\n",
       "      <td>Gestão de equipa</td>\n",
       "      <td>NaN</td>\n",
       "      <td>NaN</td>\n",
       "      <td>Alguma coisa</td>\n",
       "    </tr>\n",
       "    <tr>\n",
       "      <th>885</th>\n",
       "      <td>3.0</td>\n",
       "      <td>Aspecto Visual</td>\n",
       "      <td>NaN</td>\n",
       "      <td>Perguntas</td>\n",
       "      <td>NaN</td>\n",
       "      <td>Vídeos</td>\n",
       "      <td>NaN</td>\n",
       "      <td>NaN</td>\n",
       "      <td>NaN</td>\n",
       "      <td>NaN</td>\n",
       "      <td>...</td>\n",
       "      <td>NaN</td>\n",
       "      <td>NaN</td>\n",
       "      <td>NaN</td>\n",
       "      <td>NaN</td>\n",
       "      <td>NaN</td>\n",
       "      <td>NaN</td>\n",
       "      <td>NaN</td>\n",
       "      <td>NaN</td>\n",
       "      <td>Obrigatoriedade de Chrome</td>\n",
       "      <td>Imenso</td>\n",
       "    </tr>\n",
       "    <tr>\n",
       "      <th>886</th>\n",
       "      <td>4.0</td>\n",
       "      <td>NaN</td>\n",
       "      <td>Navegação na ferramenta</td>\n",
       "      <td>NaN</td>\n",
       "      <td>NaN</td>\n",
       "      <td>NaN</td>\n",
       "      <td>Modelo de negócios</td>\n",
       "      <td>NaN</td>\n",
       "      <td>NaN</td>\n",
       "      <td>NaN</td>\n",
       "      <td>...</td>\n",
       "      <td>NaN</td>\n",
       "      <td>Exemplos</td>\n",
       "      <td>Vídeos</td>\n",
       "      <td>NaN</td>\n",
       "      <td>Indicações de Interface</td>\n",
       "      <td>NaN</td>\n",
       "      <td>NaN</td>\n",
       "      <td>NaN</td>\n",
       "      <td>NaN</td>\n",
       "      <td>Alguma coisa</td>\n",
       "    </tr>\n",
       "  </tbody>\n",
       "</table>\n",
       "<p>887 rows × 24 columns</p>\n",
       "</div>"
      ],
      "text/plain": [
       "     Está satisfeito com a ferramenta DreamShaper?(Classifique de 1 a 4, sendo 1: Nada satisfeito e 4: Muito Satisfeito)  \\\n",
       "0                                                  4.0                                                                     \n",
       "1                                                  4.0                                                                     \n",
       "2                                                  4.0                                                                     \n",
       "3                                                  4.0                                                                     \n",
       "4                                                  4.0                                                                     \n",
       "..                                                 ...                                                                     \n",
       "882                                                4.0                                                                     \n",
       "883                                                4.0                                                                     \n",
       "884                                                4.0                                                                     \n",
       "885                                                3.0                                                                     \n",
       "886                                                4.0                                                                     \n",
       "\n",
       "    Quais são os seus 3 aspectos preferidos da ferramenta ? Aspecto Visual  \\\n",
       "0                                                  NaN                       \n",
       "1                                                  NaN                       \n",
       "2                                                  NaN                       \n",
       "3                                       Aspecto Visual                       \n",
       "4                                                  NaN                       \n",
       "..                                                 ...                       \n",
       "882                                     Aspecto Visual                       \n",
       "883                                     Aspecto Visual                       \n",
       "884                                                NaN                       \n",
       "885                                     Aspecto Visual                       \n",
       "886                                                NaN                       \n",
       "\n",
       "    Quais são os seus 3 aspectos preferidos da ferramenta ? Navegação na Ferramenta  \\\n",
       "0                                                  NaN                                \n",
       "1                              Navegação na ferramenta                                \n",
       "2                              Navegação na ferramenta                                \n",
       "3                              Navegação na ferramenta                                \n",
       "4                                                  NaN                                \n",
       "..                                                 ...                                \n",
       "882                            Navegação na ferramenta                                \n",
       "883                            Navegação na ferramenta                                \n",
       "884                            Navegação na ferramenta                                \n",
       "885                                                NaN                                \n",
       "886                            Navegação na ferramenta                                \n",
       "\n",
       "    Quais são os seus 3 aspectos preferidos da ferramenta ? Perguntas  \\\n",
       "0                                            Perguntas                  \n",
       "1                                                  NaN                  \n",
       "2                                            Perguntas                  \n",
       "3                                                  NaN                  \n",
       "4                                            Perguntas                  \n",
       "..                                                 ...                  \n",
       "882                                                NaN                  \n",
       "883                                          Perguntas                  \n",
       "884                                                NaN                  \n",
       "885                                          Perguntas                  \n",
       "886                                                NaN                  \n",
       "\n",
       "    Quais são os seus 3 aspectos preferidos da ferramenta ? Exemplos  \\\n",
       "0                                             Exemplos                 \n",
       "1                                             Exemplos                 \n",
       "2                                                  NaN                 \n",
       "3                                             Exemplos                 \n",
       "4                                                  NaN                 \n",
       "..                                                 ...                 \n",
       "882                                           Exemplos                 \n",
       "883                                                NaN                 \n",
       "884                                           Exemplos                 \n",
       "885                                                NaN                 \n",
       "886                                                NaN                 \n",
       "\n",
       "    Quais são os seus 3 aspectos preferidos da ferramenta ? Vídeos  \\\n",
       "0                                                  NaN               \n",
       "1                                                  NaN               \n",
       "2                                                  NaN               \n",
       "3                                                  NaN               \n",
       "4                                               Vídeos               \n",
       "..                                                 ...               \n",
       "882                                                NaN               \n",
       "883                                                NaN               \n",
       "884                                             Vídeos               \n",
       "885                                             Vídeos               \n",
       "886                                                NaN               \n",
       "\n",
       "    Quais são os seus 3 aspectos preferidos da ferramenta ? Modelo de negócios  \\\n",
       "0                                                  NaN                           \n",
       "1                                   Modelo de negócios                           \n",
       "2                                                  NaN                           \n",
       "3                                                  NaN                           \n",
       "4                                                  NaN                           \n",
       "..                                                 ...                           \n",
       "882                                 Modelo de negócios                           \n",
       "883                                 Modelo de negócios                           \n",
       "884                                                NaN                           \n",
       "885                                                NaN                           \n",
       "886                                 Modelo de negócios                           \n",
       "\n",
       "    Quais são os seus 3 aspectos preferidos da ferramenta ? Indicações de Interface  \\\n",
       "0                              Indicações de Interface                                \n",
       "1                                                  NaN                                \n",
       "2                                                  NaN                                \n",
       "3                                                  NaN                                \n",
       "4                              Indicações de Interface                                \n",
       "..                                                 ...                                \n",
       "882                            Indicações de Interface                                \n",
       "883                                                NaN                                \n",
       "884                                                NaN                                \n",
       "885                                                NaN                                \n",
       "886                                                NaN                                \n",
       "\n",
       "    Quais são os seus 3 aspectos preferidos da ferramenta ? Mural de equipa  \\\n",
       "0                                                  NaN                        \n",
       "1                                                  NaN                        \n",
       "2                                                  NaN                        \n",
       "3                                                  NaN                        \n",
       "4                                                  NaN                        \n",
       "..                                                 ...                        \n",
       "882                                                NaN                        \n",
       "883                                                NaN                        \n",
       "884                                                NaN                        \n",
       "885                                                NaN                        \n",
       "886                                                NaN                        \n",
       "\n",
       "    Quais são os seus 3 aspectos preferidos da ferramenta ?  Gestão de equipa  \\\n",
       "0                                                  NaN                          \n",
       "1                                                  NaN                          \n",
       "2                                                  NaN                          \n",
       "3                                                  NaN                          \n",
       "4                                                  NaN                          \n",
       "..                                                 ...                          \n",
       "882                                                NaN                          \n",
       "883                                                NaN                          \n",
       "884                                                NaN                          \n",
       "885                                                NaN                          \n",
       "886                                                NaN                          \n",
       "\n",
       "     ... E quais são os 3 aspectos que menos gosta? Perguntas  \\\n",
       "0    ...                                                NaN     \n",
       "1    ...                                                NaN     \n",
       "2    ...                                                NaN     \n",
       "3    ...                                                NaN     \n",
       "4    ...                                                NaN     \n",
       "..   ...                                                ...     \n",
       "882  ...                                          Perguntas     \n",
       "883  ...                                                NaN     \n",
       "884  ...                                          Perguntas     \n",
       "885  ...                                                NaN     \n",
       "886  ...                                                NaN     \n",
       "\n",
       "    E quais são os 3 aspectos que menos gosta? Exemplos  \\\n",
       "0                                                  NaN    \n",
       "1                                                  NaN    \n",
       "2                                             Exemplos    \n",
       "3                                                  NaN    \n",
       "4                                             Exemplos    \n",
       "..                                                 ...    \n",
       "882                                                NaN    \n",
       "883                                           Exemplos    \n",
       "884                                                NaN    \n",
       "885                                                NaN    \n",
       "886                                           Exemplos    \n",
       "\n",
       "    E quais são os 3 aspectos que menos gosta? Vídeos  \\\n",
       "0                                                 NaN   \n",
       "1                                                 NaN   \n",
       "2                                                 NaN   \n",
       "3                                                 NaN   \n",
       "4                                                 NaN   \n",
       "..                                                ...   \n",
       "882                                            Vídeos   \n",
       "883                                               NaN   \n",
       "884                                               NaN   \n",
       "885                                               NaN   \n",
       "886                                            Vídeos   \n",
       "\n",
       "    E quais são os 3 aspectos que menos gosta? Modelo de negócios  \\\n",
       "0                                                  NaN              \n",
       "1                                                  NaN              \n",
       "2                                                  NaN              \n",
       "3                                   Modelo de negócios              \n",
       "4                                   Modelo de negócios              \n",
       "..                                                 ...              \n",
       "882                                                NaN              \n",
       "883                                                NaN              \n",
       "884                                                NaN              \n",
       "885                                                NaN              \n",
       "886                                                NaN              \n",
       "\n",
       "    E quais são os 3 aspectos que menos gosta? Indicações de interface  \\\n",
       "0                                                  NaN                   \n",
       "1                                                  NaN                   \n",
       "2                                                  NaN                   \n",
       "3                              Indicações de Interface                   \n",
       "4                                                  NaN                   \n",
       "..                                                 ...                   \n",
       "882                                                NaN                   \n",
       "883                                                NaN                   \n",
       "884                            Indicações de Interface                   \n",
       "885                                                NaN                   \n",
       "886                            Indicações de Interface                   \n",
       "\n",
       "    E quais são os 3 aspectos que menos gosta? Mural de equipa  \\\n",
       "0                                                  NaN           \n",
       "1                                      Mural de equipa           \n",
       "2                                                  NaN           \n",
       "3                                                  NaN           \n",
       "4                                                  NaN           \n",
       "..                                                 ...           \n",
       "882                                                NaN           \n",
       "883                                    Mural de equipa           \n",
       "884                                                NaN           \n",
       "885                                                NaN           \n",
       "886                                                NaN           \n",
       "\n",
       "    E quais são os 3 aspectos que menos gosta? Gestão de equipa  \\\n",
       "0                                                  NaN            \n",
       "1                                     Gestão de equipa            \n",
       "2                                                  NaN            \n",
       "3                                                  NaN            \n",
       "4                                                  NaN            \n",
       "..                                                 ...            \n",
       "882                                                NaN            \n",
       "883                                                NaN            \n",
       "884                                   Gestão de equipa            \n",
       "885                                                NaN            \n",
       "886                                                NaN            \n",
       "\n",
       "    E quais são os 3 aspectos que menos gosta? Gestão de projectos  \\\n",
       "0                                  Gestão de projectos               \n",
       "1                                  Gestão de projectos               \n",
       "2                                                  NaN               \n",
       "3                                  Gestão de projectos               \n",
       "4                                                  NaN               \n",
       "..                                                 ...               \n",
       "882                                                NaN               \n",
       "883                                                NaN               \n",
       "884                                                NaN               \n",
       "885                                                NaN               \n",
       "886                                                NaN               \n",
       "\n",
       "     E quais são os 3 aspectos que menos gosta? Outros  \\\n",
       "0    O local onde mostra o progresso do projeto não...   \n",
       "1                                                  NaN   \n",
       "2                                                  NaN   \n",
       "3                                                  NaN   \n",
       "4                                                  NaN   \n",
       "..                                                 ...   \n",
       "882                                Dimensão das etapas   \n",
       "883                                          sem opção   \n",
       "884                                                NaN   \n",
       "885                          Obrigatoriedade de Chrome   \n",
       "886                                                NaN   \n",
       "\n",
       "    Quanto aprendeu com a DreamShaper?  \n",
       "0                         Alguma coisa  \n",
       "1                             Bastante  \n",
       "2                         Alguma coisa  \n",
       "3                             Bastante  \n",
       "4                         Alguma coisa  \n",
       "..                                 ...  \n",
       "882                           Bastante  \n",
       "883                           Bastante  \n",
       "884                       Alguma coisa  \n",
       "885                             Imenso  \n",
       "886                       Alguma coisa  \n",
       "\n",
       "[887 rows x 24 columns]"
      ]
     },
     "execution_count": 58,
     "metadata": {},
     "output_type": "execute_result"
    }
   ],
   "source": [
    "Ano20172018 = pd.read_csv('Data/DadosPorAno/Ano20172018.csv', encoding=\"ANSI\", sep=';')\n",
    "Ano20172018"
   ]
  },
  {
   "cell_type": "code",
   "execution_count": null,
   "metadata": {},
   "outputs": [],
   "source": []
  },
  {
   "cell_type": "code",
   "execution_count": null,
   "metadata": {},
   "outputs": [],
   "source": []
  },
  {
   "cell_type": "markdown",
   "metadata": {},
   "source": [
    "### PreProcess Data  <a name=\"preprocess\"></a>\n",
    "* [Back to TOC](#backtoc)\n"
   ]
  },
  {
   "cell_type": "markdown",
   "metadata": {},
   "source": [
    "### Liked/Disliked <a name=\"likedDisliked\"></a>\n",
    "* [Back to TOC](#backtoc)\n"
   ]
  },
  {
   "cell_type": "code",
   "execution_count": 59,
   "metadata": {},
   "outputs": [],
   "source": [
    "Ano20172018['Está satisfeito com a ferramenta DreamShaper?'] =Ano20172018[\"Está satisfeito com a ferramenta DreamShaper?(Classifique de 1 a 4, sendo 1: Nada satisfeito e 4: Muito Satisfeito)\"]"
   ]
  },
  {
   "cell_type": "code",
   "execution_count": 60,
   "metadata": {},
   "outputs": [
    {
     "data": {
      "text/plain": [
       "array([ 4.,  3.,  2., nan,  1.])"
      ]
     },
     "execution_count": 60,
     "metadata": {},
     "output_type": "execute_result"
    }
   ],
   "source": [
    "Ano20172018['Está satisfeito com a ferramenta DreamShaper?'].unique()"
   ]
  },
  {
   "cell_type": "code",
   "execution_count": 61,
   "metadata": {},
   "outputs": [
    {
     "data": {
      "text/html": [
       "<div>\n",
       "<style scoped>\n",
       "    .dataframe tbody tr th:only-of-type {\n",
       "        vertical-align: middle;\n",
       "    }\n",
       "\n",
       "    .dataframe tbody tr th {\n",
       "        vertical-align: top;\n",
       "    }\n",
       "\n",
       "    .dataframe thead th {\n",
       "        text-align: right;\n",
       "    }\n",
       "</style>\n",
       "<table border=\"1\" class=\"dataframe\">\n",
       "  <thead>\n",
       "    <tr style=\"text-align: right;\">\n",
       "      <th></th>\n",
       "      <th>Está satisfeito com a ferramenta DreamShaper?(Classifique de 1 a 4, sendo 1: Nada satisfeito e 4: Muito Satisfeito)</th>\n",
       "      <th>Quais são os seus 3 aspectos preferidos da ferramenta ? Aspecto Visual</th>\n",
       "      <th>Quais são os seus 3 aspectos preferidos da ferramenta ? Navegação na Ferramenta</th>\n",
       "      <th>Quais são os seus 3 aspectos preferidos da ferramenta ? Perguntas</th>\n",
       "      <th>Quais são os seus 3 aspectos preferidos da ferramenta ? Exemplos</th>\n",
       "      <th>Quais são os seus 3 aspectos preferidos da ferramenta ? Vídeos</th>\n",
       "      <th>Quais são os seus 3 aspectos preferidos da ferramenta ? Modelo de negócios</th>\n",
       "      <th>Quais são os seus 3 aspectos preferidos da ferramenta ? Indicações de Interface</th>\n",
       "      <th>Quais são os seus 3 aspectos preferidos da ferramenta ? Mural de equipa</th>\n",
       "      <th>Quais são os seus 3 aspectos preferidos da ferramenta ?  Gestão de equipa</th>\n",
       "      <th>...</th>\n",
       "      <th>E quais são os 3 aspectos que menos gosta? Exemplos</th>\n",
       "      <th>E quais são os 3 aspectos que menos gosta? Vídeos</th>\n",
       "      <th>E quais são os 3 aspectos que menos gosta? Modelo de negócios</th>\n",
       "      <th>E quais são os 3 aspectos que menos gosta? Indicações de interface</th>\n",
       "      <th>E quais são os 3 aspectos que menos gosta? Mural de equipa</th>\n",
       "      <th>E quais são os 3 aspectos que menos gosta? Gestão de equipa</th>\n",
       "      <th>E quais são os 3 aspectos que menos gosta? Gestão de projectos</th>\n",
       "      <th>E quais são os 3 aspectos que menos gosta? Outros</th>\n",
       "      <th>Quanto aprendeu com a DreamShaper?</th>\n",
       "      <th>Está satisfeito com a ferramenta DreamShaper?</th>\n",
       "    </tr>\n",
       "  </thead>\n",
       "  <tbody>\n",
       "    <tr>\n",
       "      <th>0</th>\n",
       "      <td>4.0</td>\n",
       "      <td>NaN</td>\n",
       "      <td>NaN</td>\n",
       "      <td>Perguntas</td>\n",
       "      <td>Exemplos</td>\n",
       "      <td>NaN</td>\n",
       "      <td>NaN</td>\n",
       "      <td>Indicações de Interface</td>\n",
       "      <td>NaN</td>\n",
       "      <td>NaN</td>\n",
       "      <td>...</td>\n",
       "      <td>NaN</td>\n",
       "      <td>NaN</td>\n",
       "      <td>NaN</td>\n",
       "      <td>NaN</td>\n",
       "      <td>NaN</td>\n",
       "      <td>NaN</td>\n",
       "      <td>Gestão de projectos</td>\n",
       "      <td>O local onde mostra o progresso do projeto não...</td>\n",
       "      <td>Alguma coisa</td>\n",
       "      <td>4.0</td>\n",
       "    </tr>\n",
       "    <tr>\n",
       "      <th>1</th>\n",
       "      <td>4.0</td>\n",
       "      <td>NaN</td>\n",
       "      <td>Navegação na ferramenta</td>\n",
       "      <td>NaN</td>\n",
       "      <td>Exemplos</td>\n",
       "      <td>NaN</td>\n",
       "      <td>Modelo de negócios</td>\n",
       "      <td>NaN</td>\n",
       "      <td>NaN</td>\n",
       "      <td>NaN</td>\n",
       "      <td>...</td>\n",
       "      <td>NaN</td>\n",
       "      <td>NaN</td>\n",
       "      <td>NaN</td>\n",
       "      <td>NaN</td>\n",
       "      <td>Mural de equipa</td>\n",
       "      <td>Gestão de equipa</td>\n",
       "      <td>Gestão de projectos</td>\n",
       "      <td>NaN</td>\n",
       "      <td>Bastante</td>\n",
       "      <td>4.0</td>\n",
       "    </tr>\n",
       "    <tr>\n",
       "      <th>2</th>\n",
       "      <td>4.0</td>\n",
       "      <td>NaN</td>\n",
       "      <td>Navegação na ferramenta</td>\n",
       "      <td>Perguntas</td>\n",
       "      <td>NaN</td>\n",
       "      <td>NaN</td>\n",
       "      <td>NaN</td>\n",
       "      <td>NaN</td>\n",
       "      <td>NaN</td>\n",
       "      <td>NaN</td>\n",
       "      <td>...</td>\n",
       "      <td>Exemplos</td>\n",
       "      <td>NaN</td>\n",
       "      <td>NaN</td>\n",
       "      <td>NaN</td>\n",
       "      <td>NaN</td>\n",
       "      <td>NaN</td>\n",
       "      <td>NaN</td>\n",
       "      <td>NaN</td>\n",
       "      <td>Alguma coisa</td>\n",
       "      <td>4.0</td>\n",
       "    </tr>\n",
       "    <tr>\n",
       "      <th>3</th>\n",
       "      <td>4.0</td>\n",
       "      <td>Aspecto Visual</td>\n",
       "      <td>Navegação na ferramenta</td>\n",
       "      <td>NaN</td>\n",
       "      <td>Exemplos</td>\n",
       "      <td>NaN</td>\n",
       "      <td>NaN</td>\n",
       "      <td>NaN</td>\n",
       "      <td>NaN</td>\n",
       "      <td>NaN</td>\n",
       "      <td>...</td>\n",
       "      <td>NaN</td>\n",
       "      <td>NaN</td>\n",
       "      <td>Modelo de negócios</td>\n",
       "      <td>Indicações de Interface</td>\n",
       "      <td>NaN</td>\n",
       "      <td>NaN</td>\n",
       "      <td>Gestão de projectos</td>\n",
       "      <td>NaN</td>\n",
       "      <td>Bastante</td>\n",
       "      <td>4.0</td>\n",
       "    </tr>\n",
       "    <tr>\n",
       "      <th>4</th>\n",
       "      <td>4.0</td>\n",
       "      <td>NaN</td>\n",
       "      <td>NaN</td>\n",
       "      <td>Perguntas</td>\n",
       "      <td>NaN</td>\n",
       "      <td>Vídeos</td>\n",
       "      <td>NaN</td>\n",
       "      <td>Indicações de Interface</td>\n",
       "      <td>NaN</td>\n",
       "      <td>NaN</td>\n",
       "      <td>...</td>\n",
       "      <td>Exemplos</td>\n",
       "      <td>NaN</td>\n",
       "      <td>Modelo de negócios</td>\n",
       "      <td>NaN</td>\n",
       "      <td>NaN</td>\n",
       "      <td>NaN</td>\n",
       "      <td>NaN</td>\n",
       "      <td>NaN</td>\n",
       "      <td>Alguma coisa</td>\n",
       "      <td>4.0</td>\n",
       "    </tr>\n",
       "    <tr>\n",
       "      <th>...</th>\n",
       "      <td>...</td>\n",
       "      <td>...</td>\n",
       "      <td>...</td>\n",
       "      <td>...</td>\n",
       "      <td>...</td>\n",
       "      <td>...</td>\n",
       "      <td>...</td>\n",
       "      <td>...</td>\n",
       "      <td>...</td>\n",
       "      <td>...</td>\n",
       "      <td>...</td>\n",
       "      <td>...</td>\n",
       "      <td>...</td>\n",
       "      <td>...</td>\n",
       "      <td>...</td>\n",
       "      <td>...</td>\n",
       "      <td>...</td>\n",
       "      <td>...</td>\n",
       "      <td>...</td>\n",
       "      <td>...</td>\n",
       "      <td>...</td>\n",
       "    </tr>\n",
       "    <tr>\n",
       "      <th>882</th>\n",
       "      <td>4.0</td>\n",
       "      <td>Aspecto Visual</td>\n",
       "      <td>Navegação na ferramenta</td>\n",
       "      <td>NaN</td>\n",
       "      <td>Exemplos</td>\n",
       "      <td>NaN</td>\n",
       "      <td>Modelo de negócios</td>\n",
       "      <td>Indicações de Interface</td>\n",
       "      <td>NaN</td>\n",
       "      <td>NaN</td>\n",
       "      <td>...</td>\n",
       "      <td>NaN</td>\n",
       "      <td>Vídeos</td>\n",
       "      <td>NaN</td>\n",
       "      <td>NaN</td>\n",
       "      <td>NaN</td>\n",
       "      <td>NaN</td>\n",
       "      <td>NaN</td>\n",
       "      <td>Dimensão das etapas</td>\n",
       "      <td>Bastante</td>\n",
       "      <td>4.0</td>\n",
       "    </tr>\n",
       "    <tr>\n",
       "      <th>883</th>\n",
       "      <td>4.0</td>\n",
       "      <td>Aspecto Visual</td>\n",
       "      <td>Navegação na ferramenta</td>\n",
       "      <td>Perguntas</td>\n",
       "      <td>NaN</td>\n",
       "      <td>NaN</td>\n",
       "      <td>Modelo de negócios</td>\n",
       "      <td>NaN</td>\n",
       "      <td>NaN</td>\n",
       "      <td>NaN</td>\n",
       "      <td>...</td>\n",
       "      <td>Exemplos</td>\n",
       "      <td>NaN</td>\n",
       "      <td>NaN</td>\n",
       "      <td>NaN</td>\n",
       "      <td>Mural de equipa</td>\n",
       "      <td>NaN</td>\n",
       "      <td>NaN</td>\n",
       "      <td>sem opção</td>\n",
       "      <td>Bastante</td>\n",
       "      <td>4.0</td>\n",
       "    </tr>\n",
       "    <tr>\n",
       "      <th>884</th>\n",
       "      <td>4.0</td>\n",
       "      <td>NaN</td>\n",
       "      <td>Navegação na ferramenta</td>\n",
       "      <td>NaN</td>\n",
       "      <td>Exemplos</td>\n",
       "      <td>Vídeos</td>\n",
       "      <td>NaN</td>\n",
       "      <td>NaN</td>\n",
       "      <td>NaN</td>\n",
       "      <td>NaN</td>\n",
       "      <td>...</td>\n",
       "      <td>NaN</td>\n",
       "      <td>NaN</td>\n",
       "      <td>NaN</td>\n",
       "      <td>Indicações de Interface</td>\n",
       "      <td>NaN</td>\n",
       "      <td>Gestão de equipa</td>\n",
       "      <td>NaN</td>\n",
       "      <td>NaN</td>\n",
       "      <td>Alguma coisa</td>\n",
       "      <td>4.0</td>\n",
       "    </tr>\n",
       "    <tr>\n",
       "      <th>885</th>\n",
       "      <td>3.0</td>\n",
       "      <td>Aspecto Visual</td>\n",
       "      <td>NaN</td>\n",
       "      <td>Perguntas</td>\n",
       "      <td>NaN</td>\n",
       "      <td>Vídeos</td>\n",
       "      <td>NaN</td>\n",
       "      <td>NaN</td>\n",
       "      <td>NaN</td>\n",
       "      <td>NaN</td>\n",
       "      <td>...</td>\n",
       "      <td>NaN</td>\n",
       "      <td>NaN</td>\n",
       "      <td>NaN</td>\n",
       "      <td>NaN</td>\n",
       "      <td>NaN</td>\n",
       "      <td>NaN</td>\n",
       "      <td>NaN</td>\n",
       "      <td>Obrigatoriedade de Chrome</td>\n",
       "      <td>Imenso</td>\n",
       "      <td>3.0</td>\n",
       "    </tr>\n",
       "    <tr>\n",
       "      <th>886</th>\n",
       "      <td>4.0</td>\n",
       "      <td>NaN</td>\n",
       "      <td>Navegação na ferramenta</td>\n",
       "      <td>NaN</td>\n",
       "      <td>NaN</td>\n",
       "      <td>NaN</td>\n",
       "      <td>Modelo de negócios</td>\n",
       "      <td>NaN</td>\n",
       "      <td>NaN</td>\n",
       "      <td>NaN</td>\n",
       "      <td>...</td>\n",
       "      <td>Exemplos</td>\n",
       "      <td>Vídeos</td>\n",
       "      <td>NaN</td>\n",
       "      <td>Indicações de Interface</td>\n",
       "      <td>NaN</td>\n",
       "      <td>NaN</td>\n",
       "      <td>NaN</td>\n",
       "      <td>NaN</td>\n",
       "      <td>Alguma coisa</td>\n",
       "      <td>4.0</td>\n",
       "    </tr>\n",
       "  </tbody>\n",
       "</table>\n",
       "<p>887 rows × 25 columns</p>\n",
       "</div>"
      ],
      "text/plain": [
       "     Está satisfeito com a ferramenta DreamShaper?(Classifique de 1 a 4, sendo 1: Nada satisfeito e 4: Muito Satisfeito)  \\\n",
       "0                                                  4.0                                                                     \n",
       "1                                                  4.0                                                                     \n",
       "2                                                  4.0                                                                     \n",
       "3                                                  4.0                                                                     \n",
       "4                                                  4.0                                                                     \n",
       "..                                                 ...                                                                     \n",
       "882                                                4.0                                                                     \n",
       "883                                                4.0                                                                     \n",
       "884                                                4.0                                                                     \n",
       "885                                                3.0                                                                     \n",
       "886                                                4.0                                                                     \n",
       "\n",
       "    Quais são os seus 3 aspectos preferidos da ferramenta ? Aspecto Visual  \\\n",
       "0                                                  NaN                       \n",
       "1                                                  NaN                       \n",
       "2                                                  NaN                       \n",
       "3                                       Aspecto Visual                       \n",
       "4                                                  NaN                       \n",
       "..                                                 ...                       \n",
       "882                                     Aspecto Visual                       \n",
       "883                                     Aspecto Visual                       \n",
       "884                                                NaN                       \n",
       "885                                     Aspecto Visual                       \n",
       "886                                                NaN                       \n",
       "\n",
       "    Quais são os seus 3 aspectos preferidos da ferramenta ? Navegação na Ferramenta  \\\n",
       "0                                                  NaN                                \n",
       "1                              Navegação na ferramenta                                \n",
       "2                              Navegação na ferramenta                                \n",
       "3                              Navegação na ferramenta                                \n",
       "4                                                  NaN                                \n",
       "..                                                 ...                                \n",
       "882                            Navegação na ferramenta                                \n",
       "883                            Navegação na ferramenta                                \n",
       "884                            Navegação na ferramenta                                \n",
       "885                                                NaN                                \n",
       "886                            Navegação na ferramenta                                \n",
       "\n",
       "    Quais são os seus 3 aspectos preferidos da ferramenta ? Perguntas  \\\n",
       "0                                            Perguntas                  \n",
       "1                                                  NaN                  \n",
       "2                                            Perguntas                  \n",
       "3                                                  NaN                  \n",
       "4                                            Perguntas                  \n",
       "..                                                 ...                  \n",
       "882                                                NaN                  \n",
       "883                                          Perguntas                  \n",
       "884                                                NaN                  \n",
       "885                                          Perguntas                  \n",
       "886                                                NaN                  \n",
       "\n",
       "    Quais são os seus 3 aspectos preferidos da ferramenta ? Exemplos  \\\n",
       "0                                             Exemplos                 \n",
       "1                                             Exemplos                 \n",
       "2                                                  NaN                 \n",
       "3                                             Exemplos                 \n",
       "4                                                  NaN                 \n",
       "..                                                 ...                 \n",
       "882                                           Exemplos                 \n",
       "883                                                NaN                 \n",
       "884                                           Exemplos                 \n",
       "885                                                NaN                 \n",
       "886                                                NaN                 \n",
       "\n",
       "    Quais são os seus 3 aspectos preferidos da ferramenta ? Vídeos  \\\n",
       "0                                                  NaN               \n",
       "1                                                  NaN               \n",
       "2                                                  NaN               \n",
       "3                                                  NaN               \n",
       "4                                               Vídeos               \n",
       "..                                                 ...               \n",
       "882                                                NaN               \n",
       "883                                                NaN               \n",
       "884                                             Vídeos               \n",
       "885                                             Vídeos               \n",
       "886                                                NaN               \n",
       "\n",
       "    Quais são os seus 3 aspectos preferidos da ferramenta ? Modelo de negócios  \\\n",
       "0                                                  NaN                           \n",
       "1                                   Modelo de negócios                           \n",
       "2                                                  NaN                           \n",
       "3                                                  NaN                           \n",
       "4                                                  NaN                           \n",
       "..                                                 ...                           \n",
       "882                                 Modelo de negócios                           \n",
       "883                                 Modelo de negócios                           \n",
       "884                                                NaN                           \n",
       "885                                                NaN                           \n",
       "886                                 Modelo de negócios                           \n",
       "\n",
       "    Quais são os seus 3 aspectos preferidos da ferramenta ? Indicações de Interface  \\\n",
       "0                              Indicações de Interface                                \n",
       "1                                                  NaN                                \n",
       "2                                                  NaN                                \n",
       "3                                                  NaN                                \n",
       "4                              Indicações de Interface                                \n",
       "..                                                 ...                                \n",
       "882                            Indicações de Interface                                \n",
       "883                                                NaN                                \n",
       "884                                                NaN                                \n",
       "885                                                NaN                                \n",
       "886                                                NaN                                \n",
       "\n",
       "    Quais são os seus 3 aspectos preferidos da ferramenta ? Mural de equipa  \\\n",
       "0                                                  NaN                        \n",
       "1                                                  NaN                        \n",
       "2                                                  NaN                        \n",
       "3                                                  NaN                        \n",
       "4                                                  NaN                        \n",
       "..                                                 ...                        \n",
       "882                                                NaN                        \n",
       "883                                                NaN                        \n",
       "884                                                NaN                        \n",
       "885                                                NaN                        \n",
       "886                                                NaN                        \n",
       "\n",
       "    Quais são os seus 3 aspectos preferidos da ferramenta ?  Gestão de equipa  \\\n",
       "0                                                  NaN                          \n",
       "1                                                  NaN                          \n",
       "2                                                  NaN                          \n",
       "3                                                  NaN                          \n",
       "4                                                  NaN                          \n",
       "..                                                 ...                          \n",
       "882                                                NaN                          \n",
       "883                                                NaN                          \n",
       "884                                                NaN                          \n",
       "885                                                NaN                          \n",
       "886                                                NaN                          \n",
       "\n",
       "     ... E quais são os 3 aspectos que menos gosta? Exemplos  \\\n",
       "0    ...                                                NaN    \n",
       "1    ...                                                NaN    \n",
       "2    ...                                           Exemplos    \n",
       "3    ...                                                NaN    \n",
       "4    ...                                           Exemplos    \n",
       "..   ...                                                ...    \n",
       "882  ...                                                NaN    \n",
       "883  ...                                           Exemplos    \n",
       "884  ...                                                NaN    \n",
       "885  ...                                                NaN    \n",
       "886  ...                                           Exemplos    \n",
       "\n",
       "    E quais são os 3 aspectos que menos gosta? Vídeos  \\\n",
       "0                                                 NaN   \n",
       "1                                                 NaN   \n",
       "2                                                 NaN   \n",
       "3                                                 NaN   \n",
       "4                                                 NaN   \n",
       "..                                                ...   \n",
       "882                                            Vídeos   \n",
       "883                                               NaN   \n",
       "884                                               NaN   \n",
       "885                                               NaN   \n",
       "886                                            Vídeos   \n",
       "\n",
       "    E quais são os 3 aspectos que menos gosta? Modelo de negócios  \\\n",
       "0                                                  NaN              \n",
       "1                                                  NaN              \n",
       "2                                                  NaN              \n",
       "3                                   Modelo de negócios              \n",
       "4                                   Modelo de negócios              \n",
       "..                                                 ...              \n",
       "882                                                NaN              \n",
       "883                                                NaN              \n",
       "884                                                NaN              \n",
       "885                                                NaN              \n",
       "886                                                NaN              \n",
       "\n",
       "    E quais são os 3 aspectos que menos gosta? Indicações de interface  \\\n",
       "0                                                  NaN                   \n",
       "1                                                  NaN                   \n",
       "2                                                  NaN                   \n",
       "3                              Indicações de Interface                   \n",
       "4                                                  NaN                   \n",
       "..                                                 ...                   \n",
       "882                                                NaN                   \n",
       "883                                                NaN                   \n",
       "884                            Indicações de Interface                   \n",
       "885                                                NaN                   \n",
       "886                            Indicações de Interface                   \n",
       "\n",
       "    E quais são os 3 aspectos que menos gosta? Mural de equipa  \\\n",
       "0                                                  NaN           \n",
       "1                                      Mural de equipa           \n",
       "2                                                  NaN           \n",
       "3                                                  NaN           \n",
       "4                                                  NaN           \n",
       "..                                                 ...           \n",
       "882                                                NaN           \n",
       "883                                    Mural de equipa           \n",
       "884                                                NaN           \n",
       "885                                                NaN           \n",
       "886                                                NaN           \n",
       "\n",
       "    E quais são os 3 aspectos que menos gosta? Gestão de equipa  \\\n",
       "0                                                  NaN            \n",
       "1                                     Gestão de equipa            \n",
       "2                                                  NaN            \n",
       "3                                                  NaN            \n",
       "4                                                  NaN            \n",
       "..                                                 ...            \n",
       "882                                                NaN            \n",
       "883                                                NaN            \n",
       "884                                   Gestão de equipa            \n",
       "885                                                NaN            \n",
       "886                                                NaN            \n",
       "\n",
       "    E quais são os 3 aspectos que menos gosta? Gestão de projectos  \\\n",
       "0                                  Gestão de projectos               \n",
       "1                                  Gestão de projectos               \n",
       "2                                                  NaN               \n",
       "3                                  Gestão de projectos               \n",
       "4                                                  NaN               \n",
       "..                                                 ...               \n",
       "882                                                NaN               \n",
       "883                                                NaN               \n",
       "884                                                NaN               \n",
       "885                                                NaN               \n",
       "886                                                NaN               \n",
       "\n",
       "     E quais são os 3 aspectos que menos gosta? Outros  \\\n",
       "0    O local onde mostra o progresso do projeto não...   \n",
       "1                                                  NaN   \n",
       "2                                                  NaN   \n",
       "3                                                  NaN   \n",
       "4                                                  NaN   \n",
       "..                                                 ...   \n",
       "882                                Dimensão das etapas   \n",
       "883                                          sem opção   \n",
       "884                                                NaN   \n",
       "885                          Obrigatoriedade de Chrome   \n",
       "886                                                NaN   \n",
       "\n",
       "    Quanto aprendeu com a DreamShaper?  \\\n",
       "0                         Alguma coisa   \n",
       "1                             Bastante   \n",
       "2                         Alguma coisa   \n",
       "3                             Bastante   \n",
       "4                         Alguma coisa   \n",
       "..                                 ...   \n",
       "882                           Bastante   \n",
       "883                           Bastante   \n",
       "884                       Alguma coisa   \n",
       "885                             Imenso   \n",
       "886                       Alguma coisa   \n",
       "\n",
       "    Está satisfeito com a ferramenta DreamShaper?  \n",
       "0                                             4.0  \n",
       "1                                             4.0  \n",
       "2                                             4.0  \n",
       "3                                             4.0  \n",
       "4                                             4.0  \n",
       "..                                            ...  \n",
       "882                                           4.0  \n",
       "883                                           4.0  \n",
       "884                                           4.0  \n",
       "885                                           3.0  \n",
       "886                                           4.0  \n",
       "\n",
       "[887 rows x 25 columns]"
      ]
     },
     "execution_count": 61,
     "metadata": {},
     "output_type": "execute_result"
    }
   ],
   "source": [
    "Ano20172018"
   ]
  },
  {
   "cell_type": "code",
   "execution_count": 62,
   "metadata": {},
   "outputs": [],
   "source": [
    "# drop rows where it is na\n",
    "Ano20172018 = Ano20172018[Ano20172018['Está satisfeito com a ferramenta DreamShaper?'].notna()]\n"
   ]
  },
  {
   "cell_type": "code",
   "execution_count": 63,
   "metadata": {},
   "outputs": [
    {
     "data": {
      "text/html": [
       "<div>\n",
       "<style scoped>\n",
       "    .dataframe tbody tr th:only-of-type {\n",
       "        vertical-align: middle;\n",
       "    }\n",
       "\n",
       "    .dataframe tbody tr th {\n",
       "        vertical-align: top;\n",
       "    }\n",
       "\n",
       "    .dataframe thead th {\n",
       "        text-align: right;\n",
       "    }\n",
       "</style>\n",
       "<table border=\"1\" class=\"dataframe\">\n",
       "  <thead>\n",
       "    <tr style=\"text-align: right;\">\n",
       "      <th></th>\n",
       "      <th>Está satisfeito com a ferramenta DreamShaper?(Classifique de 1 a 4, sendo 1: Nada satisfeito e 4: Muito Satisfeito)</th>\n",
       "      <th>Quais são os seus 3 aspectos preferidos da ferramenta ? Aspecto Visual</th>\n",
       "      <th>Quais são os seus 3 aspectos preferidos da ferramenta ? Navegação na Ferramenta</th>\n",
       "      <th>Quais são os seus 3 aspectos preferidos da ferramenta ? Perguntas</th>\n",
       "      <th>Quais são os seus 3 aspectos preferidos da ferramenta ? Exemplos</th>\n",
       "      <th>Quais são os seus 3 aspectos preferidos da ferramenta ? Vídeos</th>\n",
       "      <th>Quais são os seus 3 aspectos preferidos da ferramenta ? Modelo de negócios</th>\n",
       "      <th>Quais são os seus 3 aspectos preferidos da ferramenta ? Indicações de Interface</th>\n",
       "      <th>Quais são os seus 3 aspectos preferidos da ferramenta ? Mural de equipa</th>\n",
       "      <th>Quais são os seus 3 aspectos preferidos da ferramenta ?  Gestão de equipa</th>\n",
       "      <th>...</th>\n",
       "      <th>E quais são os 3 aspectos que menos gosta? Exemplos</th>\n",
       "      <th>E quais são os 3 aspectos que menos gosta? Vídeos</th>\n",
       "      <th>E quais são os 3 aspectos que menos gosta? Modelo de negócios</th>\n",
       "      <th>E quais são os 3 aspectos que menos gosta? Indicações de interface</th>\n",
       "      <th>E quais são os 3 aspectos que menos gosta? Mural de equipa</th>\n",
       "      <th>E quais são os 3 aspectos que menos gosta? Gestão de equipa</th>\n",
       "      <th>E quais são os 3 aspectos que menos gosta? Gestão de projectos</th>\n",
       "      <th>E quais são os 3 aspectos que menos gosta? Outros</th>\n",
       "      <th>Quanto aprendeu com a DreamShaper?</th>\n",
       "      <th>Está satisfeito com a ferramenta DreamShaper?</th>\n",
       "    </tr>\n",
       "  </thead>\n",
       "  <tbody>\n",
       "    <tr>\n",
       "      <th>0</th>\n",
       "      <td>4.0</td>\n",
       "      <td>NaN</td>\n",
       "      <td>NaN</td>\n",
       "      <td>Perguntas</td>\n",
       "      <td>Exemplos</td>\n",
       "      <td>NaN</td>\n",
       "      <td>NaN</td>\n",
       "      <td>Indicações de Interface</td>\n",
       "      <td>NaN</td>\n",
       "      <td>NaN</td>\n",
       "      <td>...</td>\n",
       "      <td>NaN</td>\n",
       "      <td>NaN</td>\n",
       "      <td>NaN</td>\n",
       "      <td>NaN</td>\n",
       "      <td>NaN</td>\n",
       "      <td>NaN</td>\n",
       "      <td>Gestão de projectos</td>\n",
       "      <td>O local onde mostra o progresso do projeto não...</td>\n",
       "      <td>Alguma coisa</td>\n",
       "      <td>4.0</td>\n",
       "    </tr>\n",
       "    <tr>\n",
       "      <th>1</th>\n",
       "      <td>4.0</td>\n",
       "      <td>NaN</td>\n",
       "      <td>Navegação na ferramenta</td>\n",
       "      <td>NaN</td>\n",
       "      <td>Exemplos</td>\n",
       "      <td>NaN</td>\n",
       "      <td>Modelo de negócios</td>\n",
       "      <td>NaN</td>\n",
       "      <td>NaN</td>\n",
       "      <td>NaN</td>\n",
       "      <td>...</td>\n",
       "      <td>NaN</td>\n",
       "      <td>NaN</td>\n",
       "      <td>NaN</td>\n",
       "      <td>NaN</td>\n",
       "      <td>Mural de equipa</td>\n",
       "      <td>Gestão de equipa</td>\n",
       "      <td>Gestão de projectos</td>\n",
       "      <td>NaN</td>\n",
       "      <td>Bastante</td>\n",
       "      <td>4.0</td>\n",
       "    </tr>\n",
       "    <tr>\n",
       "      <th>2</th>\n",
       "      <td>4.0</td>\n",
       "      <td>NaN</td>\n",
       "      <td>Navegação na ferramenta</td>\n",
       "      <td>Perguntas</td>\n",
       "      <td>NaN</td>\n",
       "      <td>NaN</td>\n",
       "      <td>NaN</td>\n",
       "      <td>NaN</td>\n",
       "      <td>NaN</td>\n",
       "      <td>NaN</td>\n",
       "      <td>...</td>\n",
       "      <td>Exemplos</td>\n",
       "      <td>NaN</td>\n",
       "      <td>NaN</td>\n",
       "      <td>NaN</td>\n",
       "      <td>NaN</td>\n",
       "      <td>NaN</td>\n",
       "      <td>NaN</td>\n",
       "      <td>NaN</td>\n",
       "      <td>Alguma coisa</td>\n",
       "      <td>4.0</td>\n",
       "    </tr>\n",
       "    <tr>\n",
       "      <th>3</th>\n",
       "      <td>4.0</td>\n",
       "      <td>Aspecto Visual</td>\n",
       "      <td>Navegação na ferramenta</td>\n",
       "      <td>NaN</td>\n",
       "      <td>Exemplos</td>\n",
       "      <td>NaN</td>\n",
       "      <td>NaN</td>\n",
       "      <td>NaN</td>\n",
       "      <td>NaN</td>\n",
       "      <td>NaN</td>\n",
       "      <td>...</td>\n",
       "      <td>NaN</td>\n",
       "      <td>NaN</td>\n",
       "      <td>Modelo de negócios</td>\n",
       "      <td>Indicações de Interface</td>\n",
       "      <td>NaN</td>\n",
       "      <td>NaN</td>\n",
       "      <td>Gestão de projectos</td>\n",
       "      <td>NaN</td>\n",
       "      <td>Bastante</td>\n",
       "      <td>4.0</td>\n",
       "    </tr>\n",
       "    <tr>\n",
       "      <th>4</th>\n",
       "      <td>4.0</td>\n",
       "      <td>NaN</td>\n",
       "      <td>NaN</td>\n",
       "      <td>Perguntas</td>\n",
       "      <td>NaN</td>\n",
       "      <td>Vídeos</td>\n",
       "      <td>NaN</td>\n",
       "      <td>Indicações de Interface</td>\n",
       "      <td>NaN</td>\n",
       "      <td>NaN</td>\n",
       "      <td>...</td>\n",
       "      <td>Exemplos</td>\n",
       "      <td>NaN</td>\n",
       "      <td>Modelo de negócios</td>\n",
       "      <td>NaN</td>\n",
       "      <td>NaN</td>\n",
       "      <td>NaN</td>\n",
       "      <td>NaN</td>\n",
       "      <td>NaN</td>\n",
       "      <td>Alguma coisa</td>\n",
       "      <td>4.0</td>\n",
       "    </tr>\n",
       "    <tr>\n",
       "      <th>...</th>\n",
       "      <td>...</td>\n",
       "      <td>...</td>\n",
       "      <td>...</td>\n",
       "      <td>...</td>\n",
       "      <td>...</td>\n",
       "      <td>...</td>\n",
       "      <td>...</td>\n",
       "      <td>...</td>\n",
       "      <td>...</td>\n",
       "      <td>...</td>\n",
       "      <td>...</td>\n",
       "      <td>...</td>\n",
       "      <td>...</td>\n",
       "      <td>...</td>\n",
       "      <td>...</td>\n",
       "      <td>...</td>\n",
       "      <td>...</td>\n",
       "      <td>...</td>\n",
       "      <td>...</td>\n",
       "      <td>...</td>\n",
       "      <td>...</td>\n",
       "    </tr>\n",
       "    <tr>\n",
       "      <th>882</th>\n",
       "      <td>4.0</td>\n",
       "      <td>Aspecto Visual</td>\n",
       "      <td>Navegação na ferramenta</td>\n",
       "      <td>NaN</td>\n",
       "      <td>Exemplos</td>\n",
       "      <td>NaN</td>\n",
       "      <td>Modelo de negócios</td>\n",
       "      <td>Indicações de Interface</td>\n",
       "      <td>NaN</td>\n",
       "      <td>NaN</td>\n",
       "      <td>...</td>\n",
       "      <td>NaN</td>\n",
       "      <td>Vídeos</td>\n",
       "      <td>NaN</td>\n",
       "      <td>NaN</td>\n",
       "      <td>NaN</td>\n",
       "      <td>NaN</td>\n",
       "      <td>NaN</td>\n",
       "      <td>Dimensão das etapas</td>\n",
       "      <td>Bastante</td>\n",
       "      <td>4.0</td>\n",
       "    </tr>\n",
       "    <tr>\n",
       "      <th>883</th>\n",
       "      <td>4.0</td>\n",
       "      <td>Aspecto Visual</td>\n",
       "      <td>Navegação na ferramenta</td>\n",
       "      <td>Perguntas</td>\n",
       "      <td>NaN</td>\n",
       "      <td>NaN</td>\n",
       "      <td>Modelo de negócios</td>\n",
       "      <td>NaN</td>\n",
       "      <td>NaN</td>\n",
       "      <td>NaN</td>\n",
       "      <td>...</td>\n",
       "      <td>Exemplos</td>\n",
       "      <td>NaN</td>\n",
       "      <td>NaN</td>\n",
       "      <td>NaN</td>\n",
       "      <td>Mural de equipa</td>\n",
       "      <td>NaN</td>\n",
       "      <td>NaN</td>\n",
       "      <td>sem opção</td>\n",
       "      <td>Bastante</td>\n",
       "      <td>4.0</td>\n",
       "    </tr>\n",
       "    <tr>\n",
       "      <th>884</th>\n",
       "      <td>4.0</td>\n",
       "      <td>NaN</td>\n",
       "      <td>Navegação na ferramenta</td>\n",
       "      <td>NaN</td>\n",
       "      <td>Exemplos</td>\n",
       "      <td>Vídeos</td>\n",
       "      <td>NaN</td>\n",
       "      <td>NaN</td>\n",
       "      <td>NaN</td>\n",
       "      <td>NaN</td>\n",
       "      <td>...</td>\n",
       "      <td>NaN</td>\n",
       "      <td>NaN</td>\n",
       "      <td>NaN</td>\n",
       "      <td>Indicações de Interface</td>\n",
       "      <td>NaN</td>\n",
       "      <td>Gestão de equipa</td>\n",
       "      <td>NaN</td>\n",
       "      <td>NaN</td>\n",
       "      <td>Alguma coisa</td>\n",
       "      <td>4.0</td>\n",
       "    </tr>\n",
       "    <tr>\n",
       "      <th>885</th>\n",
       "      <td>3.0</td>\n",
       "      <td>Aspecto Visual</td>\n",
       "      <td>NaN</td>\n",
       "      <td>Perguntas</td>\n",
       "      <td>NaN</td>\n",
       "      <td>Vídeos</td>\n",
       "      <td>NaN</td>\n",
       "      <td>NaN</td>\n",
       "      <td>NaN</td>\n",
       "      <td>NaN</td>\n",
       "      <td>...</td>\n",
       "      <td>NaN</td>\n",
       "      <td>NaN</td>\n",
       "      <td>NaN</td>\n",
       "      <td>NaN</td>\n",
       "      <td>NaN</td>\n",
       "      <td>NaN</td>\n",
       "      <td>NaN</td>\n",
       "      <td>Obrigatoriedade de Chrome</td>\n",
       "      <td>Imenso</td>\n",
       "      <td>3.0</td>\n",
       "    </tr>\n",
       "    <tr>\n",
       "      <th>886</th>\n",
       "      <td>4.0</td>\n",
       "      <td>NaN</td>\n",
       "      <td>Navegação na ferramenta</td>\n",
       "      <td>NaN</td>\n",
       "      <td>NaN</td>\n",
       "      <td>NaN</td>\n",
       "      <td>Modelo de negócios</td>\n",
       "      <td>NaN</td>\n",
       "      <td>NaN</td>\n",
       "      <td>NaN</td>\n",
       "      <td>...</td>\n",
       "      <td>Exemplos</td>\n",
       "      <td>Vídeos</td>\n",
       "      <td>NaN</td>\n",
       "      <td>Indicações de Interface</td>\n",
       "      <td>NaN</td>\n",
       "      <td>NaN</td>\n",
       "      <td>NaN</td>\n",
       "      <td>NaN</td>\n",
       "      <td>Alguma coisa</td>\n",
       "      <td>4.0</td>\n",
       "    </tr>\n",
       "  </tbody>\n",
       "</table>\n",
       "<p>870 rows × 25 columns</p>\n",
       "</div>"
      ],
      "text/plain": [
       "     Está satisfeito com a ferramenta DreamShaper?(Classifique de 1 a 4, sendo 1: Nada satisfeito e 4: Muito Satisfeito)  \\\n",
       "0                                                  4.0                                                                     \n",
       "1                                                  4.0                                                                     \n",
       "2                                                  4.0                                                                     \n",
       "3                                                  4.0                                                                     \n",
       "4                                                  4.0                                                                     \n",
       "..                                                 ...                                                                     \n",
       "882                                                4.0                                                                     \n",
       "883                                                4.0                                                                     \n",
       "884                                                4.0                                                                     \n",
       "885                                                3.0                                                                     \n",
       "886                                                4.0                                                                     \n",
       "\n",
       "    Quais são os seus 3 aspectos preferidos da ferramenta ? Aspecto Visual  \\\n",
       "0                                                  NaN                       \n",
       "1                                                  NaN                       \n",
       "2                                                  NaN                       \n",
       "3                                       Aspecto Visual                       \n",
       "4                                                  NaN                       \n",
       "..                                                 ...                       \n",
       "882                                     Aspecto Visual                       \n",
       "883                                     Aspecto Visual                       \n",
       "884                                                NaN                       \n",
       "885                                     Aspecto Visual                       \n",
       "886                                                NaN                       \n",
       "\n",
       "    Quais são os seus 3 aspectos preferidos da ferramenta ? Navegação na Ferramenta  \\\n",
       "0                                                  NaN                                \n",
       "1                              Navegação na ferramenta                                \n",
       "2                              Navegação na ferramenta                                \n",
       "3                              Navegação na ferramenta                                \n",
       "4                                                  NaN                                \n",
       "..                                                 ...                                \n",
       "882                            Navegação na ferramenta                                \n",
       "883                            Navegação na ferramenta                                \n",
       "884                            Navegação na ferramenta                                \n",
       "885                                                NaN                                \n",
       "886                            Navegação na ferramenta                                \n",
       "\n",
       "    Quais são os seus 3 aspectos preferidos da ferramenta ? Perguntas  \\\n",
       "0                                            Perguntas                  \n",
       "1                                                  NaN                  \n",
       "2                                            Perguntas                  \n",
       "3                                                  NaN                  \n",
       "4                                            Perguntas                  \n",
       "..                                                 ...                  \n",
       "882                                                NaN                  \n",
       "883                                          Perguntas                  \n",
       "884                                                NaN                  \n",
       "885                                          Perguntas                  \n",
       "886                                                NaN                  \n",
       "\n",
       "    Quais são os seus 3 aspectos preferidos da ferramenta ? Exemplos  \\\n",
       "0                                             Exemplos                 \n",
       "1                                             Exemplos                 \n",
       "2                                                  NaN                 \n",
       "3                                             Exemplos                 \n",
       "4                                                  NaN                 \n",
       "..                                                 ...                 \n",
       "882                                           Exemplos                 \n",
       "883                                                NaN                 \n",
       "884                                           Exemplos                 \n",
       "885                                                NaN                 \n",
       "886                                                NaN                 \n",
       "\n",
       "    Quais são os seus 3 aspectos preferidos da ferramenta ? Vídeos  \\\n",
       "0                                                  NaN               \n",
       "1                                                  NaN               \n",
       "2                                                  NaN               \n",
       "3                                                  NaN               \n",
       "4                                               Vídeos               \n",
       "..                                                 ...               \n",
       "882                                                NaN               \n",
       "883                                                NaN               \n",
       "884                                             Vídeos               \n",
       "885                                             Vídeos               \n",
       "886                                                NaN               \n",
       "\n",
       "    Quais são os seus 3 aspectos preferidos da ferramenta ? Modelo de negócios  \\\n",
       "0                                                  NaN                           \n",
       "1                                   Modelo de negócios                           \n",
       "2                                                  NaN                           \n",
       "3                                                  NaN                           \n",
       "4                                                  NaN                           \n",
       "..                                                 ...                           \n",
       "882                                 Modelo de negócios                           \n",
       "883                                 Modelo de negócios                           \n",
       "884                                                NaN                           \n",
       "885                                                NaN                           \n",
       "886                                 Modelo de negócios                           \n",
       "\n",
       "    Quais são os seus 3 aspectos preferidos da ferramenta ? Indicações de Interface  \\\n",
       "0                              Indicações de Interface                                \n",
       "1                                                  NaN                                \n",
       "2                                                  NaN                                \n",
       "3                                                  NaN                                \n",
       "4                              Indicações de Interface                                \n",
       "..                                                 ...                                \n",
       "882                            Indicações de Interface                                \n",
       "883                                                NaN                                \n",
       "884                                                NaN                                \n",
       "885                                                NaN                                \n",
       "886                                                NaN                                \n",
       "\n",
       "    Quais são os seus 3 aspectos preferidos da ferramenta ? Mural de equipa  \\\n",
       "0                                                  NaN                        \n",
       "1                                                  NaN                        \n",
       "2                                                  NaN                        \n",
       "3                                                  NaN                        \n",
       "4                                                  NaN                        \n",
       "..                                                 ...                        \n",
       "882                                                NaN                        \n",
       "883                                                NaN                        \n",
       "884                                                NaN                        \n",
       "885                                                NaN                        \n",
       "886                                                NaN                        \n",
       "\n",
       "    Quais são os seus 3 aspectos preferidos da ferramenta ?  Gestão de equipa  \\\n",
       "0                                                  NaN                          \n",
       "1                                                  NaN                          \n",
       "2                                                  NaN                          \n",
       "3                                                  NaN                          \n",
       "4                                                  NaN                          \n",
       "..                                                 ...                          \n",
       "882                                                NaN                          \n",
       "883                                                NaN                          \n",
       "884                                                NaN                          \n",
       "885                                                NaN                          \n",
       "886                                                NaN                          \n",
       "\n",
       "     ... E quais são os 3 aspectos que menos gosta? Exemplos  \\\n",
       "0    ...                                                NaN    \n",
       "1    ...                                                NaN    \n",
       "2    ...                                           Exemplos    \n",
       "3    ...                                                NaN    \n",
       "4    ...                                           Exemplos    \n",
       "..   ...                                                ...    \n",
       "882  ...                                                NaN    \n",
       "883  ...                                           Exemplos    \n",
       "884  ...                                                NaN    \n",
       "885  ...                                                NaN    \n",
       "886  ...                                           Exemplos    \n",
       "\n",
       "    E quais são os 3 aspectos que menos gosta? Vídeos  \\\n",
       "0                                                 NaN   \n",
       "1                                                 NaN   \n",
       "2                                                 NaN   \n",
       "3                                                 NaN   \n",
       "4                                                 NaN   \n",
       "..                                                ...   \n",
       "882                                            Vídeos   \n",
       "883                                               NaN   \n",
       "884                                               NaN   \n",
       "885                                               NaN   \n",
       "886                                            Vídeos   \n",
       "\n",
       "    E quais são os 3 aspectos que menos gosta? Modelo de negócios  \\\n",
       "0                                                  NaN              \n",
       "1                                                  NaN              \n",
       "2                                                  NaN              \n",
       "3                                   Modelo de negócios              \n",
       "4                                   Modelo de negócios              \n",
       "..                                                 ...              \n",
       "882                                                NaN              \n",
       "883                                                NaN              \n",
       "884                                                NaN              \n",
       "885                                                NaN              \n",
       "886                                                NaN              \n",
       "\n",
       "    E quais são os 3 aspectos que menos gosta? Indicações de interface  \\\n",
       "0                                                  NaN                   \n",
       "1                                                  NaN                   \n",
       "2                                                  NaN                   \n",
       "3                              Indicações de Interface                   \n",
       "4                                                  NaN                   \n",
       "..                                                 ...                   \n",
       "882                                                NaN                   \n",
       "883                                                NaN                   \n",
       "884                            Indicações de Interface                   \n",
       "885                                                NaN                   \n",
       "886                            Indicações de Interface                   \n",
       "\n",
       "    E quais são os 3 aspectos que menos gosta? Mural de equipa  \\\n",
       "0                                                  NaN           \n",
       "1                                      Mural de equipa           \n",
       "2                                                  NaN           \n",
       "3                                                  NaN           \n",
       "4                                                  NaN           \n",
       "..                                                 ...           \n",
       "882                                                NaN           \n",
       "883                                    Mural de equipa           \n",
       "884                                                NaN           \n",
       "885                                                NaN           \n",
       "886                                                NaN           \n",
       "\n",
       "    E quais são os 3 aspectos que menos gosta? Gestão de equipa  \\\n",
       "0                                                  NaN            \n",
       "1                                     Gestão de equipa            \n",
       "2                                                  NaN            \n",
       "3                                                  NaN            \n",
       "4                                                  NaN            \n",
       "..                                                 ...            \n",
       "882                                                NaN            \n",
       "883                                                NaN            \n",
       "884                                   Gestão de equipa            \n",
       "885                                                NaN            \n",
       "886                                                NaN            \n",
       "\n",
       "    E quais são os 3 aspectos que menos gosta? Gestão de projectos  \\\n",
       "0                                  Gestão de projectos               \n",
       "1                                  Gestão de projectos               \n",
       "2                                                  NaN               \n",
       "3                                  Gestão de projectos               \n",
       "4                                                  NaN               \n",
       "..                                                 ...               \n",
       "882                                                NaN               \n",
       "883                                                NaN               \n",
       "884                                                NaN               \n",
       "885                                                NaN               \n",
       "886                                                NaN               \n",
       "\n",
       "     E quais são os 3 aspectos que menos gosta? Outros  \\\n",
       "0    O local onde mostra o progresso do projeto não...   \n",
       "1                                                  NaN   \n",
       "2                                                  NaN   \n",
       "3                                                  NaN   \n",
       "4                                                  NaN   \n",
       "..                                                 ...   \n",
       "882                                Dimensão das etapas   \n",
       "883                                          sem opção   \n",
       "884                                                NaN   \n",
       "885                          Obrigatoriedade de Chrome   \n",
       "886                                                NaN   \n",
       "\n",
       "    Quanto aprendeu com a DreamShaper?  \\\n",
       "0                         Alguma coisa   \n",
       "1                             Bastante   \n",
       "2                         Alguma coisa   \n",
       "3                             Bastante   \n",
       "4                         Alguma coisa   \n",
       "..                                 ...   \n",
       "882                           Bastante   \n",
       "883                           Bastante   \n",
       "884                       Alguma coisa   \n",
       "885                             Imenso   \n",
       "886                       Alguma coisa   \n",
       "\n",
       "    Está satisfeito com a ferramenta DreamShaper?  \n",
       "0                                             4.0  \n",
       "1                                             4.0  \n",
       "2                                             4.0  \n",
       "3                                             4.0  \n",
       "4                                             4.0  \n",
       "..                                            ...  \n",
       "882                                           4.0  \n",
       "883                                           4.0  \n",
       "884                                           4.0  \n",
       "885                                           3.0  \n",
       "886                                           4.0  \n",
       "\n",
       "[870 rows x 25 columns]"
      ]
     },
     "execution_count": 63,
     "metadata": {},
     "output_type": "execute_result"
    }
   ],
   "source": [
    "Ano20172018"
   ]
  },
  {
   "cell_type": "code",
   "execution_count": null,
   "metadata": {},
   "outputs": [],
   "source": []
  },
  {
   "cell_type": "code",
   "execution_count": null,
   "metadata": {},
   "outputs": [],
   "source": []
  },
  {
   "cell_type": "code",
   "execution_count": 64,
   "metadata": {
    "scrolled": true
   },
   "outputs": [
    {
     "data": {
      "text/html": [
       "<div>\n",
       "<style scoped>\n",
       "    .dataframe tbody tr th:only-of-type {\n",
       "        vertical-align: middle;\n",
       "    }\n",
       "\n",
       "    .dataframe tbody tr th {\n",
       "        vertical-align: top;\n",
       "    }\n",
       "\n",
       "    .dataframe thead th {\n",
       "        text-align: right;\n",
       "    }\n",
       "</style>\n",
       "<table border=\"1\" class=\"dataframe\">\n",
       "  <thead>\n",
       "    <tr style=\"text-align: right;\">\n",
       "      <th></th>\n",
       "      <th>Está satisfeito com a ferramenta DreamShaper?(Classifique de 1 a 4, sendo 1: Nada satisfeito e 4: Muito Satisfeito)</th>\n",
       "      <th>Quais são os seus 3 aspectos preferidos da ferramenta ? Aspecto Visual</th>\n",
       "      <th>Quais são os seus 3 aspectos preferidos da ferramenta ? Navegação na Ferramenta</th>\n",
       "      <th>Quais são os seus 3 aspectos preferidos da ferramenta ? Perguntas</th>\n",
       "      <th>Quais são os seus 3 aspectos preferidos da ferramenta ? Exemplos</th>\n",
       "      <th>Quais são os seus 3 aspectos preferidos da ferramenta ? Vídeos</th>\n",
       "      <th>Quais são os seus 3 aspectos preferidos da ferramenta ? Modelo de negócios</th>\n",
       "      <th>Quais são os seus 3 aspectos preferidos da ferramenta ? Indicações de Interface</th>\n",
       "      <th>Quais são os seus 3 aspectos preferidos da ferramenta ? Mural de equipa</th>\n",
       "      <th>Quais são os seus 3 aspectos preferidos da ferramenta ?  Gestão de equipa</th>\n",
       "      <th>...</th>\n",
       "      <th>E quais são os 3 aspectos que menos gosta? Exemplos</th>\n",
       "      <th>E quais são os 3 aspectos que menos gosta? Vídeos</th>\n",
       "      <th>E quais são os 3 aspectos que menos gosta? Modelo de negócios</th>\n",
       "      <th>E quais são os 3 aspectos que menos gosta? Indicações de interface</th>\n",
       "      <th>E quais são os 3 aspectos que menos gosta? Mural de equipa</th>\n",
       "      <th>E quais são os 3 aspectos que menos gosta? Gestão de equipa</th>\n",
       "      <th>E quais são os 3 aspectos que menos gosta? Gestão de projectos</th>\n",
       "      <th>E quais são os 3 aspectos que menos gosta? Outros</th>\n",
       "      <th>Quanto aprendeu com a DreamShaper?</th>\n",
       "      <th>Está satisfeito com a ferramenta DreamShaper?</th>\n",
       "    </tr>\n",
       "  </thead>\n",
       "  <tbody>\n",
       "    <tr>\n",
       "      <th>0</th>\n",
       "      <td>4.0</td>\n",
       "      <td>NaN</td>\n",
       "      <td>NaN</td>\n",
       "      <td>Perguntas</td>\n",
       "      <td>Exemplos</td>\n",
       "      <td>NaN</td>\n",
       "      <td>NaN</td>\n",
       "      <td>Indicações de Interface</td>\n",
       "      <td>NaN</td>\n",
       "      <td>NaN</td>\n",
       "      <td>...</td>\n",
       "      <td>NaN</td>\n",
       "      <td>NaN</td>\n",
       "      <td>NaN</td>\n",
       "      <td>NaN</td>\n",
       "      <td>NaN</td>\n",
       "      <td>NaN</td>\n",
       "      <td>Gestão de projectos</td>\n",
       "      <td>O local onde mostra o progresso do projeto não...</td>\n",
       "      <td>Alguma coisa</td>\n",
       "      <td>4.0</td>\n",
       "    </tr>\n",
       "    <tr>\n",
       "      <th>1</th>\n",
       "      <td>4.0</td>\n",
       "      <td>NaN</td>\n",
       "      <td>Navegação na ferramenta</td>\n",
       "      <td>NaN</td>\n",
       "      <td>Exemplos</td>\n",
       "      <td>NaN</td>\n",
       "      <td>Modelo de negócios</td>\n",
       "      <td>NaN</td>\n",
       "      <td>NaN</td>\n",
       "      <td>NaN</td>\n",
       "      <td>...</td>\n",
       "      <td>NaN</td>\n",
       "      <td>NaN</td>\n",
       "      <td>NaN</td>\n",
       "      <td>NaN</td>\n",
       "      <td>Mural de equipa</td>\n",
       "      <td>Gestão de equipa</td>\n",
       "      <td>Gestão de projectos</td>\n",
       "      <td>NaN</td>\n",
       "      <td>Bastante</td>\n",
       "      <td>4.0</td>\n",
       "    </tr>\n",
       "    <tr>\n",
       "      <th>2</th>\n",
       "      <td>4.0</td>\n",
       "      <td>NaN</td>\n",
       "      <td>Navegação na ferramenta</td>\n",
       "      <td>Perguntas</td>\n",
       "      <td>NaN</td>\n",
       "      <td>NaN</td>\n",
       "      <td>NaN</td>\n",
       "      <td>NaN</td>\n",
       "      <td>NaN</td>\n",
       "      <td>NaN</td>\n",
       "      <td>...</td>\n",
       "      <td>Exemplos</td>\n",
       "      <td>NaN</td>\n",
       "      <td>NaN</td>\n",
       "      <td>NaN</td>\n",
       "      <td>NaN</td>\n",
       "      <td>NaN</td>\n",
       "      <td>NaN</td>\n",
       "      <td>NaN</td>\n",
       "      <td>Alguma coisa</td>\n",
       "      <td>4.0</td>\n",
       "    </tr>\n",
       "    <tr>\n",
       "      <th>3</th>\n",
       "      <td>4.0</td>\n",
       "      <td>Aspecto Visual</td>\n",
       "      <td>Navegação na ferramenta</td>\n",
       "      <td>NaN</td>\n",
       "      <td>Exemplos</td>\n",
       "      <td>NaN</td>\n",
       "      <td>NaN</td>\n",
       "      <td>NaN</td>\n",
       "      <td>NaN</td>\n",
       "      <td>NaN</td>\n",
       "      <td>...</td>\n",
       "      <td>NaN</td>\n",
       "      <td>NaN</td>\n",
       "      <td>Modelo de negócios</td>\n",
       "      <td>Indicações de Interface</td>\n",
       "      <td>NaN</td>\n",
       "      <td>NaN</td>\n",
       "      <td>Gestão de projectos</td>\n",
       "      <td>NaN</td>\n",
       "      <td>Bastante</td>\n",
       "      <td>4.0</td>\n",
       "    </tr>\n",
       "    <tr>\n",
       "      <th>4</th>\n",
       "      <td>4.0</td>\n",
       "      <td>NaN</td>\n",
       "      <td>NaN</td>\n",
       "      <td>Perguntas</td>\n",
       "      <td>NaN</td>\n",
       "      <td>Vídeos</td>\n",
       "      <td>NaN</td>\n",
       "      <td>Indicações de Interface</td>\n",
       "      <td>NaN</td>\n",
       "      <td>NaN</td>\n",
       "      <td>...</td>\n",
       "      <td>Exemplos</td>\n",
       "      <td>NaN</td>\n",
       "      <td>Modelo de negócios</td>\n",
       "      <td>NaN</td>\n",
       "      <td>NaN</td>\n",
       "      <td>NaN</td>\n",
       "      <td>NaN</td>\n",
       "      <td>NaN</td>\n",
       "      <td>Alguma coisa</td>\n",
       "      <td>4.0</td>\n",
       "    </tr>\n",
       "  </tbody>\n",
       "</table>\n",
       "<p>5 rows × 25 columns</p>\n",
       "</div>"
      ],
      "text/plain": [
       "   Está satisfeito com a ferramenta DreamShaper?(Classifique de 1 a 4, sendo 1: Nada satisfeito e 4: Muito Satisfeito)  \\\n",
       "0                                                4.0                                                                     \n",
       "1                                                4.0                                                                     \n",
       "2                                                4.0                                                                     \n",
       "3                                                4.0                                                                     \n",
       "4                                                4.0                                                                     \n",
       "\n",
       "  Quais são os seus 3 aspectos preferidos da ferramenta ? Aspecto Visual  \\\n",
       "0                                                NaN                       \n",
       "1                                                NaN                       \n",
       "2                                                NaN                       \n",
       "3                                     Aspecto Visual                       \n",
       "4                                                NaN                       \n",
       "\n",
       "  Quais são os seus 3 aspectos preferidos da ferramenta ? Navegação na Ferramenta  \\\n",
       "0                                                NaN                                \n",
       "1                            Navegação na ferramenta                                \n",
       "2                            Navegação na ferramenta                                \n",
       "3                            Navegação na ferramenta                                \n",
       "4                                                NaN                                \n",
       "\n",
       "  Quais são os seus 3 aspectos preferidos da ferramenta ? Perguntas  \\\n",
       "0                                          Perguntas                  \n",
       "1                                                NaN                  \n",
       "2                                          Perguntas                  \n",
       "3                                                NaN                  \n",
       "4                                          Perguntas                  \n",
       "\n",
       "  Quais são os seus 3 aspectos preferidos da ferramenta ? Exemplos  \\\n",
       "0                                           Exemplos                 \n",
       "1                                           Exemplos                 \n",
       "2                                                NaN                 \n",
       "3                                           Exemplos                 \n",
       "4                                                NaN                 \n",
       "\n",
       "  Quais são os seus 3 aspectos preferidos da ferramenta ? Vídeos  \\\n",
       "0                                                NaN               \n",
       "1                                                NaN               \n",
       "2                                                NaN               \n",
       "3                                                NaN               \n",
       "4                                             Vídeos               \n",
       "\n",
       "  Quais são os seus 3 aspectos preferidos da ferramenta ? Modelo de negócios  \\\n",
       "0                                                NaN                           \n",
       "1                                 Modelo de negócios                           \n",
       "2                                                NaN                           \n",
       "3                                                NaN                           \n",
       "4                                                NaN                           \n",
       "\n",
       "  Quais são os seus 3 aspectos preferidos da ferramenta ? Indicações de Interface  \\\n",
       "0                            Indicações de Interface                                \n",
       "1                                                NaN                                \n",
       "2                                                NaN                                \n",
       "3                                                NaN                                \n",
       "4                            Indicações de Interface                                \n",
       "\n",
       "  Quais são os seus 3 aspectos preferidos da ferramenta ? Mural de equipa  \\\n",
       "0                                                NaN                        \n",
       "1                                                NaN                        \n",
       "2                                                NaN                        \n",
       "3                                                NaN                        \n",
       "4                                                NaN                        \n",
       "\n",
       "  Quais são os seus 3 aspectos preferidos da ferramenta ?  Gestão de equipa  \\\n",
       "0                                                NaN                          \n",
       "1                                                NaN                          \n",
       "2                                                NaN                          \n",
       "3                                                NaN                          \n",
       "4                                                NaN                          \n",
       "\n",
       "   ... E quais são os 3 aspectos que menos gosta? Exemplos  \\\n",
       "0  ...                                                NaN    \n",
       "1  ...                                                NaN    \n",
       "2  ...                                           Exemplos    \n",
       "3  ...                                                NaN    \n",
       "4  ...                                           Exemplos    \n",
       "\n",
       "  E quais são os 3 aspectos que menos gosta? Vídeos  \\\n",
       "0                                               NaN   \n",
       "1                                               NaN   \n",
       "2                                               NaN   \n",
       "3                                               NaN   \n",
       "4                                               NaN   \n",
       "\n",
       "  E quais são os 3 aspectos que menos gosta? Modelo de negócios  \\\n",
       "0                                                NaN              \n",
       "1                                                NaN              \n",
       "2                                                NaN              \n",
       "3                                 Modelo de negócios              \n",
       "4                                 Modelo de negócios              \n",
       "\n",
       "  E quais são os 3 aspectos que menos gosta? Indicações de interface  \\\n",
       "0                                                NaN                   \n",
       "1                                                NaN                   \n",
       "2                                                NaN                   \n",
       "3                            Indicações de Interface                   \n",
       "4                                                NaN                   \n",
       "\n",
       "  E quais são os 3 aspectos que menos gosta? Mural de equipa  \\\n",
       "0                                                NaN           \n",
       "1                                    Mural de equipa           \n",
       "2                                                NaN           \n",
       "3                                                NaN           \n",
       "4                                                NaN           \n",
       "\n",
       "  E quais são os 3 aspectos que menos gosta? Gestão de equipa  \\\n",
       "0                                                NaN            \n",
       "1                                   Gestão de equipa            \n",
       "2                                                NaN            \n",
       "3                                                NaN            \n",
       "4                                                NaN            \n",
       "\n",
       "  E quais são os 3 aspectos que menos gosta? Gestão de projectos  \\\n",
       "0                                Gestão de projectos               \n",
       "1                                Gestão de projectos               \n",
       "2                                                NaN               \n",
       "3                                Gestão de projectos               \n",
       "4                                                NaN               \n",
       "\n",
       "   E quais são os 3 aspectos que menos gosta? Outros  \\\n",
       "0  O local onde mostra o progresso do projeto não...   \n",
       "1                                                NaN   \n",
       "2                                                NaN   \n",
       "3                                                NaN   \n",
       "4                                                NaN   \n",
       "\n",
       "  Quanto aprendeu com a DreamShaper?  \\\n",
       "0                       Alguma coisa   \n",
       "1                           Bastante   \n",
       "2                       Alguma coisa   \n",
       "3                           Bastante   \n",
       "4                       Alguma coisa   \n",
       "\n",
       "  Está satisfeito com a ferramenta DreamShaper?  \n",
       "0                                           4.0  \n",
       "1                                           4.0  \n",
       "2                                           4.0  \n",
       "3                                           4.0  \n",
       "4                                           4.0  \n",
       "\n",
       "[5 rows x 25 columns]"
      ]
     },
     "execution_count": 64,
     "metadata": {},
     "output_type": "execute_result"
    }
   ],
   "source": [
    "Ano20172018.head(5)"
   ]
  },
  {
   "cell_type": "code",
   "execution_count": null,
   "metadata": {},
   "outputs": [],
   "source": []
  },
  {
   "cell_type": "markdown",
   "metadata": {},
   "source": [
    "### Learned/NotLearned  <a name=\"LearnedNot\"></a>\n",
    "* [Back to TOC](#backtoc)\n",
    "\n"
   ]
  },
  {
   "cell_type": "code",
   "execution_count": 65,
   "metadata": {},
   "outputs": [
    {
     "data": {
      "text/plain": [
       "array(['Alguma coisa', 'Bastante', 'Imenso', 'Pouco', 'Nada'],\n",
       "      dtype=object)"
      ]
     },
     "execution_count": 65,
     "metadata": {},
     "output_type": "execute_result"
    }
   ],
   "source": [
    "Ano20172018['Quanto aprendeu com a DreamShaper?'].unique()"
   ]
  },
  {
   "cell_type": "code",
   "execution_count": 66,
   "metadata": {},
   "outputs": [],
   "source": [
    "Ano20172018.loc[Ano20172018['Quanto aprendeu com a DreamShaper?'] == \"Nada\", 'Quanto aprendeu com a DreamShaper?Encod'] = 1\n",
    "Ano20172018.loc[Ano20172018['Quanto aprendeu com a DreamShaper?'] == \"Pouco\", 'Quanto aprendeu com a DreamShaper?Encod'] = 2\n",
    "Ano20172018.loc[Ano20172018['Quanto aprendeu com a DreamShaper?'] == \"Alguma coisa\", 'Quanto aprendeu com a DreamShaper?Encod'] = 3\n",
    "Ano20172018.loc[Ano20172018['Quanto aprendeu com a DreamShaper?'] == \"Bastante\", 'Quanto aprendeu com a DreamShaper?Encod'] = 4\n",
    "Ano20172018.loc[Ano20172018['Quanto aprendeu com a DreamShaper?'] == \"Imenso\", 'Quanto aprendeu com a DreamShaper?Encod'] = 5\n",
    "\n"
   ]
  },
  {
   "cell_type": "code",
   "execution_count": null,
   "metadata": {},
   "outputs": [],
   "source": []
  },
  {
   "cell_type": "code",
   "execution_count": 67,
   "metadata": {},
   "outputs": [],
   "source": [
    "Ano20172018Learned= Ano20172018['Quanto aprendeu com a DreamShaper?Encod']\n",
    "Ano20172018LearnedOrig=Ano20172018Learned.copy()"
   ]
  },
  {
   "cell_type": "code",
   "execution_count": 68,
   "metadata": {},
   "outputs": [],
   "source": [
    "unique_elements, counts_elements = np.unique(Ano20172018Learned, return_counts=True)\n"
   ]
  },
  {
   "cell_type": "code",
   "execution_count": 69,
   "metadata": {},
   "outputs": [],
   "source": [
    "Ano20172018Learned = pd.DataFrame({'Learned?':unique_elements, 'counts':counts_elements})\n"
   ]
  },
  {
   "cell_type": "code",
   "execution_count": 70,
   "metadata": {},
   "outputs": [],
   "source": [
    "Ano20172018Learned\n",
    "Ano20172018Learned['year'] = 2018\n",
    "\n",
    "\n",
    "Ano20172018Learned['population'] = 870\n",
    "Ano20172018Learned['percentage'] = Ano20172018Learned['counts']/Ano20172018Learned['population']\n",
    "\n"
   ]
  },
  {
   "cell_type": "code",
   "execution_count": 71,
   "metadata": {},
   "outputs": [
    {
     "data": {
      "text/html": [
       "<div>\n",
       "<style scoped>\n",
       "    .dataframe tbody tr th:only-of-type {\n",
       "        vertical-align: middle;\n",
       "    }\n",
       "\n",
       "    .dataframe tbody tr th {\n",
       "        vertical-align: top;\n",
       "    }\n",
       "\n",
       "    .dataframe thead th {\n",
       "        text-align: right;\n",
       "    }\n",
       "</style>\n",
       "<table border=\"1\" class=\"dataframe\">\n",
       "  <thead>\n",
       "    <tr style=\"text-align: right;\">\n",
       "      <th></th>\n",
       "      <th>Learned?</th>\n",
       "      <th>counts</th>\n",
       "      <th>year</th>\n",
       "      <th>population</th>\n",
       "      <th>percentage</th>\n",
       "    </tr>\n",
       "  </thead>\n",
       "  <tbody>\n",
       "    <tr>\n",
       "      <th>0</th>\n",
       "      <td>1.0</td>\n",
       "      <td>3</td>\n",
       "      <td>2018</td>\n",
       "      <td>870</td>\n",
       "      <td>0.003448</td>\n",
       "    </tr>\n",
       "    <tr>\n",
       "      <th>1</th>\n",
       "      <td>2.0</td>\n",
       "      <td>19</td>\n",
       "      <td>2018</td>\n",
       "      <td>870</td>\n",
       "      <td>0.021839</td>\n",
       "    </tr>\n",
       "    <tr>\n",
       "      <th>2</th>\n",
       "      <td>3.0</td>\n",
       "      <td>232</td>\n",
       "      <td>2018</td>\n",
       "      <td>870</td>\n",
       "      <td>0.266667</td>\n",
       "    </tr>\n",
       "    <tr>\n",
       "      <th>3</th>\n",
       "      <td>4.0</td>\n",
       "      <td>490</td>\n",
       "      <td>2018</td>\n",
       "      <td>870</td>\n",
       "      <td>0.563218</td>\n",
       "    </tr>\n",
       "    <tr>\n",
       "      <th>4</th>\n",
       "      <td>5.0</td>\n",
       "      <td>126</td>\n",
       "      <td>2018</td>\n",
       "      <td>870</td>\n",
       "      <td>0.144828</td>\n",
       "    </tr>\n",
       "  </tbody>\n",
       "</table>\n",
       "</div>"
      ],
      "text/plain": [
       "   Learned?  counts  year  population  percentage\n",
       "0       1.0       3  2018         870    0.003448\n",
       "1       2.0      19  2018         870    0.021839\n",
       "2       3.0     232  2018         870    0.266667\n",
       "3       4.0     490  2018         870    0.563218\n",
       "4       5.0     126  2018         870    0.144828"
      ]
     },
     "execution_count": 71,
     "metadata": {},
     "output_type": "execute_result"
    }
   ],
   "source": [
    "Ano20172018Learned"
   ]
  },
  {
   "cell_type": "code",
   "execution_count": 72,
   "metadata": {},
   "outputs": [],
   "source": [
    "Learned = [\"Year\", \"AverageLearned\"]\n",
    "\n",
    "\n",
    "LearnedOverYears = pd.DataFrame(columns = Learned)"
   ]
  },
  {
   "cell_type": "code",
   "execution_count": 73,
   "metadata": {},
   "outputs": [],
   "source": [
    "import statistics \n",
    "meanLearned=statistics.mean(Ano20172018LearnedOrig)"
   ]
  },
  {
   "cell_type": "code",
   "execution_count": 74,
   "metadata": {},
   "outputs": [],
   "source": [
    "Ano20172018LearnedOrig =Ano20172018LearnedOrig.astype(int)"
   ]
  },
  {
   "cell_type": "code",
   "execution_count": 75,
   "metadata": {},
   "outputs": [],
   "source": [
    "df2 = pd.DataFrame([ ['6-2017/2018', meanLearned]], columns=[\"Year\", \"AverageLearned\"])\n",
    "\n",
    "\n",
    "LearnedOverYears=LearnedOverYears.append(df2)\n",
    "\n"
   ]
  },
  {
   "cell_type": "code",
   "execution_count": 76,
   "metadata": {},
   "outputs": [
    {
     "data": {
      "text/html": [
       "<div>\n",
       "<style scoped>\n",
       "    .dataframe tbody tr th:only-of-type {\n",
       "        vertical-align: middle;\n",
       "    }\n",
       "\n",
       "    .dataframe tbody tr th {\n",
       "        vertical-align: top;\n",
       "    }\n",
       "\n",
       "    .dataframe thead th {\n",
       "        text-align: right;\n",
       "    }\n",
       "</style>\n",
       "<table border=\"1\" class=\"dataframe\">\n",
       "  <thead>\n",
       "    <tr style=\"text-align: right;\">\n",
       "      <th></th>\n",
       "      <th>Year</th>\n",
       "      <th>AverageLearned</th>\n",
       "    </tr>\n",
       "  </thead>\n",
       "  <tbody>\n",
       "    <tr>\n",
       "      <th>0</th>\n",
       "      <td>6-2017/2018</td>\n",
       "      <td>3.824138</td>\n",
       "    </tr>\n",
       "  </tbody>\n",
       "</table>\n",
       "</div>"
      ],
      "text/plain": [
       "          Year  AverageLearned\n",
       "0  6-2017/2018        3.824138"
      ]
     },
     "execution_count": 76,
     "metadata": {},
     "output_type": "execute_result"
    }
   ],
   "source": [
    "LearnedOverYears"
   ]
  },
  {
   "cell_type": "code",
   "execution_count": 77,
   "metadata": {},
   "outputs": [
    {
     "data": {
      "application/vnd.plotly.v1+json": {
       "config": {
        "plotlyServerURL": "https://plot.ly"
       },
       "data": [
        {
         "alignmentgroup": "True",
         "hovertemplate": "Learned?=%{x}<br>percentage=%{y}<extra></extra>",
         "legendgroup": "",
         "marker": {
          "color": "#636efa"
         },
         "name": "",
         "offsetgroup": "",
         "orientation": "v",
         "showlegend": false,
         "textposition": "auto",
         "type": "bar",
         "x": [
          1,
          2,
          3,
          4,
          5
         ],
         "xaxis": "x",
         "y": [
          0.0034482758620689655,
          0.021839080459770115,
          0.26666666666666666,
          0.5632183908045977,
          0.14482758620689656
         ],
         "yaxis": "y"
        }
       ],
       "layout": {
        "barmode": "relative",
        "legend": {
         "tracegroupgap": 0
        },
        "margin": {
         "t": 60
        },
        "template": {
         "data": {
          "bar": [
           {
            "error_x": {
             "color": "#2a3f5f"
            },
            "error_y": {
             "color": "#2a3f5f"
            },
            "marker": {
             "line": {
              "color": "#E5ECF6",
              "width": 0.5
             }
            },
            "type": "bar"
           }
          ],
          "barpolar": [
           {
            "marker": {
             "line": {
              "color": "#E5ECF6",
              "width": 0.5
             }
            },
            "type": "barpolar"
           }
          ],
          "carpet": [
           {
            "aaxis": {
             "endlinecolor": "#2a3f5f",
             "gridcolor": "white",
             "linecolor": "white",
             "minorgridcolor": "white",
             "startlinecolor": "#2a3f5f"
            },
            "baxis": {
             "endlinecolor": "#2a3f5f",
             "gridcolor": "white",
             "linecolor": "white",
             "minorgridcolor": "white",
             "startlinecolor": "#2a3f5f"
            },
            "type": "carpet"
           }
          ],
          "choropleth": [
           {
            "colorbar": {
             "outlinewidth": 0,
             "ticks": ""
            },
            "type": "choropleth"
           }
          ],
          "contour": [
           {
            "colorbar": {
             "outlinewidth": 0,
             "ticks": ""
            },
            "colorscale": [
             [
              0,
              "#0d0887"
             ],
             [
              0.1111111111111111,
              "#46039f"
             ],
             [
              0.2222222222222222,
              "#7201a8"
             ],
             [
              0.3333333333333333,
              "#9c179e"
             ],
             [
              0.4444444444444444,
              "#bd3786"
             ],
             [
              0.5555555555555556,
              "#d8576b"
             ],
             [
              0.6666666666666666,
              "#ed7953"
             ],
             [
              0.7777777777777778,
              "#fb9f3a"
             ],
             [
              0.8888888888888888,
              "#fdca26"
             ],
             [
              1,
              "#f0f921"
             ]
            ],
            "type": "contour"
           }
          ],
          "contourcarpet": [
           {
            "colorbar": {
             "outlinewidth": 0,
             "ticks": ""
            },
            "type": "contourcarpet"
           }
          ],
          "heatmap": [
           {
            "colorbar": {
             "outlinewidth": 0,
             "ticks": ""
            },
            "colorscale": [
             [
              0,
              "#0d0887"
             ],
             [
              0.1111111111111111,
              "#46039f"
             ],
             [
              0.2222222222222222,
              "#7201a8"
             ],
             [
              0.3333333333333333,
              "#9c179e"
             ],
             [
              0.4444444444444444,
              "#bd3786"
             ],
             [
              0.5555555555555556,
              "#d8576b"
             ],
             [
              0.6666666666666666,
              "#ed7953"
             ],
             [
              0.7777777777777778,
              "#fb9f3a"
             ],
             [
              0.8888888888888888,
              "#fdca26"
             ],
             [
              1,
              "#f0f921"
             ]
            ],
            "type": "heatmap"
           }
          ],
          "heatmapgl": [
           {
            "colorbar": {
             "outlinewidth": 0,
             "ticks": ""
            },
            "colorscale": [
             [
              0,
              "#0d0887"
             ],
             [
              0.1111111111111111,
              "#46039f"
             ],
             [
              0.2222222222222222,
              "#7201a8"
             ],
             [
              0.3333333333333333,
              "#9c179e"
             ],
             [
              0.4444444444444444,
              "#bd3786"
             ],
             [
              0.5555555555555556,
              "#d8576b"
             ],
             [
              0.6666666666666666,
              "#ed7953"
             ],
             [
              0.7777777777777778,
              "#fb9f3a"
             ],
             [
              0.8888888888888888,
              "#fdca26"
             ],
             [
              1,
              "#f0f921"
             ]
            ],
            "type": "heatmapgl"
           }
          ],
          "histogram": [
           {
            "marker": {
             "colorbar": {
              "outlinewidth": 0,
              "ticks": ""
             }
            },
            "type": "histogram"
           }
          ],
          "histogram2d": [
           {
            "colorbar": {
             "outlinewidth": 0,
             "ticks": ""
            },
            "colorscale": [
             [
              0,
              "#0d0887"
             ],
             [
              0.1111111111111111,
              "#46039f"
             ],
             [
              0.2222222222222222,
              "#7201a8"
             ],
             [
              0.3333333333333333,
              "#9c179e"
             ],
             [
              0.4444444444444444,
              "#bd3786"
             ],
             [
              0.5555555555555556,
              "#d8576b"
             ],
             [
              0.6666666666666666,
              "#ed7953"
             ],
             [
              0.7777777777777778,
              "#fb9f3a"
             ],
             [
              0.8888888888888888,
              "#fdca26"
             ],
             [
              1,
              "#f0f921"
             ]
            ],
            "type": "histogram2d"
           }
          ],
          "histogram2dcontour": [
           {
            "colorbar": {
             "outlinewidth": 0,
             "ticks": ""
            },
            "colorscale": [
             [
              0,
              "#0d0887"
             ],
             [
              0.1111111111111111,
              "#46039f"
             ],
             [
              0.2222222222222222,
              "#7201a8"
             ],
             [
              0.3333333333333333,
              "#9c179e"
             ],
             [
              0.4444444444444444,
              "#bd3786"
             ],
             [
              0.5555555555555556,
              "#d8576b"
             ],
             [
              0.6666666666666666,
              "#ed7953"
             ],
             [
              0.7777777777777778,
              "#fb9f3a"
             ],
             [
              0.8888888888888888,
              "#fdca26"
             ],
             [
              1,
              "#f0f921"
             ]
            ],
            "type": "histogram2dcontour"
           }
          ],
          "mesh3d": [
           {
            "colorbar": {
             "outlinewidth": 0,
             "ticks": ""
            },
            "type": "mesh3d"
           }
          ],
          "parcoords": [
           {
            "line": {
             "colorbar": {
              "outlinewidth": 0,
              "ticks": ""
             }
            },
            "type": "parcoords"
           }
          ],
          "pie": [
           {
            "automargin": true,
            "type": "pie"
           }
          ],
          "scatter": [
           {
            "marker": {
             "colorbar": {
              "outlinewidth": 0,
              "ticks": ""
             }
            },
            "type": "scatter"
           }
          ],
          "scatter3d": [
           {
            "line": {
             "colorbar": {
              "outlinewidth": 0,
              "ticks": ""
             }
            },
            "marker": {
             "colorbar": {
              "outlinewidth": 0,
              "ticks": ""
             }
            },
            "type": "scatter3d"
           }
          ],
          "scattercarpet": [
           {
            "marker": {
             "colorbar": {
              "outlinewidth": 0,
              "ticks": ""
             }
            },
            "type": "scattercarpet"
           }
          ],
          "scattergeo": [
           {
            "marker": {
             "colorbar": {
              "outlinewidth": 0,
              "ticks": ""
             }
            },
            "type": "scattergeo"
           }
          ],
          "scattergl": [
           {
            "marker": {
             "colorbar": {
              "outlinewidth": 0,
              "ticks": ""
             }
            },
            "type": "scattergl"
           }
          ],
          "scattermapbox": [
           {
            "marker": {
             "colorbar": {
              "outlinewidth": 0,
              "ticks": ""
             }
            },
            "type": "scattermapbox"
           }
          ],
          "scatterpolar": [
           {
            "marker": {
             "colorbar": {
              "outlinewidth": 0,
              "ticks": ""
             }
            },
            "type": "scatterpolar"
           }
          ],
          "scatterpolargl": [
           {
            "marker": {
             "colorbar": {
              "outlinewidth": 0,
              "ticks": ""
             }
            },
            "type": "scatterpolargl"
           }
          ],
          "scatterternary": [
           {
            "marker": {
             "colorbar": {
              "outlinewidth": 0,
              "ticks": ""
             }
            },
            "type": "scatterternary"
           }
          ],
          "surface": [
           {
            "colorbar": {
             "outlinewidth": 0,
             "ticks": ""
            },
            "colorscale": [
             [
              0,
              "#0d0887"
             ],
             [
              0.1111111111111111,
              "#46039f"
             ],
             [
              0.2222222222222222,
              "#7201a8"
             ],
             [
              0.3333333333333333,
              "#9c179e"
             ],
             [
              0.4444444444444444,
              "#bd3786"
             ],
             [
              0.5555555555555556,
              "#d8576b"
             ],
             [
              0.6666666666666666,
              "#ed7953"
             ],
             [
              0.7777777777777778,
              "#fb9f3a"
             ],
             [
              0.8888888888888888,
              "#fdca26"
             ],
             [
              1,
              "#f0f921"
             ]
            ],
            "type": "surface"
           }
          ],
          "table": [
           {
            "cells": {
             "fill": {
              "color": "#EBF0F8"
             },
             "line": {
              "color": "white"
             }
            },
            "header": {
             "fill": {
              "color": "#C8D4E3"
             },
             "line": {
              "color": "white"
             }
            },
            "type": "table"
           }
          ]
         },
         "layout": {
          "annotationdefaults": {
           "arrowcolor": "#2a3f5f",
           "arrowhead": 0,
           "arrowwidth": 1
          },
          "coloraxis": {
           "colorbar": {
            "outlinewidth": 0,
            "ticks": ""
           }
          },
          "colorscale": {
           "diverging": [
            [
             0,
             "#8e0152"
            ],
            [
             0.1,
             "#c51b7d"
            ],
            [
             0.2,
             "#de77ae"
            ],
            [
             0.3,
             "#f1b6da"
            ],
            [
             0.4,
             "#fde0ef"
            ],
            [
             0.5,
             "#f7f7f7"
            ],
            [
             0.6,
             "#e6f5d0"
            ],
            [
             0.7,
             "#b8e186"
            ],
            [
             0.8,
             "#7fbc41"
            ],
            [
             0.9,
             "#4d9221"
            ],
            [
             1,
             "#276419"
            ]
           ],
           "sequential": [
            [
             0,
             "#0d0887"
            ],
            [
             0.1111111111111111,
             "#46039f"
            ],
            [
             0.2222222222222222,
             "#7201a8"
            ],
            [
             0.3333333333333333,
             "#9c179e"
            ],
            [
             0.4444444444444444,
             "#bd3786"
            ],
            [
             0.5555555555555556,
             "#d8576b"
            ],
            [
             0.6666666666666666,
             "#ed7953"
            ],
            [
             0.7777777777777778,
             "#fb9f3a"
            ],
            [
             0.8888888888888888,
             "#fdca26"
            ],
            [
             1,
             "#f0f921"
            ]
           ],
           "sequentialminus": [
            [
             0,
             "#0d0887"
            ],
            [
             0.1111111111111111,
             "#46039f"
            ],
            [
             0.2222222222222222,
             "#7201a8"
            ],
            [
             0.3333333333333333,
             "#9c179e"
            ],
            [
             0.4444444444444444,
             "#bd3786"
            ],
            [
             0.5555555555555556,
             "#d8576b"
            ],
            [
             0.6666666666666666,
             "#ed7953"
            ],
            [
             0.7777777777777778,
             "#fb9f3a"
            ],
            [
             0.8888888888888888,
             "#fdca26"
            ],
            [
             1,
             "#f0f921"
            ]
           ]
          },
          "colorway": [
           "#636efa",
           "#EF553B",
           "#00cc96",
           "#ab63fa",
           "#FFA15A",
           "#19d3f3",
           "#FF6692",
           "#B6E880",
           "#FF97FF",
           "#FECB52"
          ],
          "font": {
           "color": "#2a3f5f"
          },
          "geo": {
           "bgcolor": "white",
           "lakecolor": "white",
           "landcolor": "#E5ECF6",
           "showlakes": true,
           "showland": true,
           "subunitcolor": "white"
          },
          "hoverlabel": {
           "align": "left"
          },
          "hovermode": "closest",
          "mapbox": {
           "style": "light"
          },
          "paper_bgcolor": "white",
          "plot_bgcolor": "#E5ECF6",
          "polar": {
           "angularaxis": {
            "gridcolor": "white",
            "linecolor": "white",
            "ticks": ""
           },
           "bgcolor": "#E5ECF6",
           "radialaxis": {
            "gridcolor": "white",
            "linecolor": "white",
            "ticks": ""
           }
          },
          "scene": {
           "xaxis": {
            "backgroundcolor": "#E5ECF6",
            "gridcolor": "white",
            "gridwidth": 2,
            "linecolor": "white",
            "showbackground": true,
            "ticks": "",
            "zerolinecolor": "white"
           },
           "yaxis": {
            "backgroundcolor": "#E5ECF6",
            "gridcolor": "white",
            "gridwidth": 2,
            "linecolor": "white",
            "showbackground": true,
            "ticks": "",
            "zerolinecolor": "white"
           },
           "zaxis": {
            "backgroundcolor": "#E5ECF6",
            "gridcolor": "white",
            "gridwidth": 2,
            "linecolor": "white",
            "showbackground": true,
            "ticks": "",
            "zerolinecolor": "white"
           }
          },
          "shapedefaults": {
           "line": {
            "color": "#2a3f5f"
           }
          },
          "ternary": {
           "aaxis": {
            "gridcolor": "white",
            "linecolor": "white",
            "ticks": ""
           },
           "baxis": {
            "gridcolor": "white",
            "linecolor": "white",
            "ticks": ""
           },
           "bgcolor": "#E5ECF6",
           "caxis": {
            "gridcolor": "white",
            "linecolor": "white",
            "ticks": ""
           }
          },
          "title": {
           "x": 0.05
          },
          "xaxis": {
           "automargin": true,
           "gridcolor": "white",
           "linecolor": "white",
           "ticks": "",
           "title": {
            "standoff": 15
           },
           "zerolinecolor": "white",
           "zerolinewidth": 2
          },
          "yaxis": {
           "automargin": true,
           "gridcolor": "white",
           "linecolor": "white",
           "ticks": "",
           "title": {
            "standoff": 15
           },
           "zerolinecolor": "white",
           "zerolinewidth": 2
          }
         }
        },
        "title": {
         "text": "Quanto aprendeu com a DreamShaper?  - 2017/2018"
        },
        "xaxis": {
         "anchor": "y",
         "domain": [
          0,
          1
         ],
         "title": {
          "text": "Learned?"
         },
         "type": "category"
        },
        "yaxis": {
         "anchor": "x",
         "domain": [
          0,
          1
         ],
         "title": {
          "text": "percentage"
         }
        }
       }
      },
      "text/html": [
       "<div>                            <div id=\"4714f4dd-3e0c-4868-9132-f74f3c3d9b71\" class=\"plotly-graph-div\" style=\"height:525px; width:100%;\"></div>            <script type=\"text/javascript\">                require([\"plotly\"], function(Plotly) {                    window.PLOTLYENV=window.PLOTLYENV || {};                                    if (document.getElementById(\"4714f4dd-3e0c-4868-9132-f74f3c3d9b71\")) {                    Plotly.newPlot(                        \"4714f4dd-3e0c-4868-9132-f74f3c3d9b71\",                        [{\"alignmentgroup\": \"True\", \"hovertemplate\": \"Learned?=%{x}<br>percentage=%{y}<extra></extra>\", \"legendgroup\": \"\", \"marker\": {\"color\": \"#636efa\"}, \"name\": \"\", \"offsetgroup\": \"\", \"orientation\": \"v\", \"showlegend\": false, \"textposition\": \"auto\", \"type\": \"bar\", \"x\": [1.0, 2.0, 3.0, 4.0, 5.0], \"xaxis\": \"x\", \"y\": [0.0034482758620689655, 0.021839080459770115, 0.26666666666666666, 0.5632183908045977, 0.14482758620689656], \"yaxis\": \"y\"}],                        {\"barmode\": \"relative\", \"legend\": {\"tracegroupgap\": 0}, \"margin\": {\"t\": 60}, \"template\": {\"data\": {\"bar\": [{\"error_x\": {\"color\": \"#2a3f5f\"}, \"error_y\": {\"color\": \"#2a3f5f\"}, \"marker\": {\"line\": {\"color\": \"#E5ECF6\", \"width\": 0.5}}, \"type\": \"bar\"}], \"barpolar\": [{\"marker\": {\"line\": {\"color\": \"#E5ECF6\", \"width\": 0.5}}, \"type\": \"barpolar\"}], \"carpet\": [{\"aaxis\": {\"endlinecolor\": \"#2a3f5f\", \"gridcolor\": \"white\", \"linecolor\": \"white\", \"minorgridcolor\": \"white\", \"startlinecolor\": \"#2a3f5f\"}, \"baxis\": {\"endlinecolor\": \"#2a3f5f\", \"gridcolor\": \"white\", \"linecolor\": \"white\", \"minorgridcolor\": \"white\", \"startlinecolor\": \"#2a3f5f\"}, \"type\": \"carpet\"}], \"choropleth\": [{\"colorbar\": {\"outlinewidth\": 0, \"ticks\": \"\"}, \"type\": \"choropleth\"}], \"contour\": [{\"colorbar\": {\"outlinewidth\": 0, \"ticks\": \"\"}, \"colorscale\": [[0.0, \"#0d0887\"], [0.1111111111111111, \"#46039f\"], [0.2222222222222222, \"#7201a8\"], [0.3333333333333333, \"#9c179e\"], [0.4444444444444444, \"#bd3786\"], [0.5555555555555556, \"#d8576b\"], [0.6666666666666666, \"#ed7953\"], [0.7777777777777778, \"#fb9f3a\"], [0.8888888888888888, \"#fdca26\"], [1.0, \"#f0f921\"]], \"type\": \"contour\"}], \"contourcarpet\": [{\"colorbar\": {\"outlinewidth\": 0, \"ticks\": \"\"}, \"type\": \"contourcarpet\"}], \"heatmap\": [{\"colorbar\": {\"outlinewidth\": 0, \"ticks\": \"\"}, \"colorscale\": [[0.0, \"#0d0887\"], [0.1111111111111111, \"#46039f\"], [0.2222222222222222, \"#7201a8\"], [0.3333333333333333, \"#9c179e\"], [0.4444444444444444, \"#bd3786\"], [0.5555555555555556, \"#d8576b\"], [0.6666666666666666, \"#ed7953\"], [0.7777777777777778, \"#fb9f3a\"], [0.8888888888888888, \"#fdca26\"], [1.0, \"#f0f921\"]], \"type\": \"heatmap\"}], \"heatmapgl\": [{\"colorbar\": {\"outlinewidth\": 0, \"ticks\": \"\"}, \"colorscale\": [[0.0, \"#0d0887\"], [0.1111111111111111, \"#46039f\"], [0.2222222222222222, \"#7201a8\"], [0.3333333333333333, \"#9c179e\"], [0.4444444444444444, \"#bd3786\"], [0.5555555555555556, \"#d8576b\"], [0.6666666666666666, \"#ed7953\"], [0.7777777777777778, \"#fb9f3a\"], [0.8888888888888888, \"#fdca26\"], [1.0, \"#f0f921\"]], \"type\": \"heatmapgl\"}], \"histogram\": [{\"marker\": {\"colorbar\": {\"outlinewidth\": 0, \"ticks\": \"\"}}, \"type\": \"histogram\"}], \"histogram2d\": [{\"colorbar\": {\"outlinewidth\": 0, \"ticks\": \"\"}, \"colorscale\": [[0.0, \"#0d0887\"], [0.1111111111111111, \"#46039f\"], [0.2222222222222222, \"#7201a8\"], [0.3333333333333333, \"#9c179e\"], [0.4444444444444444, \"#bd3786\"], [0.5555555555555556, \"#d8576b\"], [0.6666666666666666, \"#ed7953\"], [0.7777777777777778, \"#fb9f3a\"], [0.8888888888888888, \"#fdca26\"], [1.0, \"#f0f921\"]], \"type\": \"histogram2d\"}], \"histogram2dcontour\": [{\"colorbar\": {\"outlinewidth\": 0, \"ticks\": \"\"}, \"colorscale\": [[0.0, \"#0d0887\"], [0.1111111111111111, \"#46039f\"], [0.2222222222222222, \"#7201a8\"], [0.3333333333333333, \"#9c179e\"], [0.4444444444444444, \"#bd3786\"], [0.5555555555555556, \"#d8576b\"], [0.6666666666666666, \"#ed7953\"], [0.7777777777777778, \"#fb9f3a\"], [0.8888888888888888, \"#fdca26\"], [1.0, \"#f0f921\"]], \"type\": \"histogram2dcontour\"}], \"mesh3d\": [{\"colorbar\": {\"outlinewidth\": 0, \"ticks\": \"\"}, \"type\": \"mesh3d\"}], \"parcoords\": [{\"line\": {\"colorbar\": {\"outlinewidth\": 0, \"ticks\": \"\"}}, \"type\": \"parcoords\"}], \"pie\": [{\"automargin\": true, \"type\": \"pie\"}], \"scatter\": [{\"marker\": {\"colorbar\": {\"outlinewidth\": 0, \"ticks\": \"\"}}, \"type\": \"scatter\"}], \"scatter3d\": [{\"line\": {\"colorbar\": {\"outlinewidth\": 0, \"ticks\": \"\"}}, \"marker\": {\"colorbar\": {\"outlinewidth\": 0, \"ticks\": \"\"}}, \"type\": \"scatter3d\"}], \"scattercarpet\": [{\"marker\": {\"colorbar\": {\"outlinewidth\": 0, \"ticks\": \"\"}}, \"type\": \"scattercarpet\"}], \"scattergeo\": [{\"marker\": {\"colorbar\": {\"outlinewidth\": 0, \"ticks\": \"\"}}, \"type\": \"scattergeo\"}], \"scattergl\": [{\"marker\": {\"colorbar\": {\"outlinewidth\": 0, \"ticks\": \"\"}}, \"type\": \"scattergl\"}], \"scattermapbox\": [{\"marker\": {\"colorbar\": {\"outlinewidth\": 0, \"ticks\": \"\"}}, \"type\": \"scattermapbox\"}], \"scatterpolar\": [{\"marker\": {\"colorbar\": {\"outlinewidth\": 0, \"ticks\": \"\"}}, \"type\": \"scatterpolar\"}], \"scatterpolargl\": [{\"marker\": {\"colorbar\": {\"outlinewidth\": 0, \"ticks\": \"\"}}, \"type\": \"scatterpolargl\"}], \"scatterternary\": [{\"marker\": {\"colorbar\": {\"outlinewidth\": 0, \"ticks\": \"\"}}, \"type\": \"scatterternary\"}], \"surface\": [{\"colorbar\": {\"outlinewidth\": 0, \"ticks\": \"\"}, \"colorscale\": [[0.0, \"#0d0887\"], [0.1111111111111111, \"#46039f\"], [0.2222222222222222, \"#7201a8\"], [0.3333333333333333, \"#9c179e\"], [0.4444444444444444, \"#bd3786\"], [0.5555555555555556, \"#d8576b\"], [0.6666666666666666, \"#ed7953\"], [0.7777777777777778, \"#fb9f3a\"], [0.8888888888888888, \"#fdca26\"], [1.0, \"#f0f921\"]], \"type\": \"surface\"}], \"table\": [{\"cells\": {\"fill\": {\"color\": \"#EBF0F8\"}, \"line\": {\"color\": \"white\"}}, \"header\": {\"fill\": {\"color\": \"#C8D4E3\"}, \"line\": {\"color\": \"white\"}}, \"type\": \"table\"}]}, \"layout\": {\"annotationdefaults\": {\"arrowcolor\": \"#2a3f5f\", \"arrowhead\": 0, \"arrowwidth\": 1}, \"coloraxis\": {\"colorbar\": {\"outlinewidth\": 0, \"ticks\": \"\"}}, \"colorscale\": {\"diverging\": [[0, \"#8e0152\"], [0.1, \"#c51b7d\"], [0.2, \"#de77ae\"], [0.3, \"#f1b6da\"], [0.4, \"#fde0ef\"], [0.5, \"#f7f7f7\"], [0.6, \"#e6f5d0\"], [0.7, \"#b8e186\"], [0.8, \"#7fbc41\"], [0.9, \"#4d9221\"], [1, \"#276419\"]], \"sequential\": [[0.0, \"#0d0887\"], [0.1111111111111111, \"#46039f\"], [0.2222222222222222, \"#7201a8\"], [0.3333333333333333, \"#9c179e\"], [0.4444444444444444, \"#bd3786\"], [0.5555555555555556, \"#d8576b\"], [0.6666666666666666, \"#ed7953\"], [0.7777777777777778, \"#fb9f3a\"], [0.8888888888888888, \"#fdca26\"], [1.0, \"#f0f921\"]], \"sequentialminus\": [[0.0, \"#0d0887\"], [0.1111111111111111, \"#46039f\"], [0.2222222222222222, \"#7201a8\"], [0.3333333333333333, \"#9c179e\"], [0.4444444444444444, \"#bd3786\"], [0.5555555555555556, \"#d8576b\"], [0.6666666666666666, \"#ed7953\"], [0.7777777777777778, \"#fb9f3a\"], [0.8888888888888888, \"#fdca26\"], [1.0, \"#f0f921\"]]}, \"colorway\": [\"#636efa\", \"#EF553B\", \"#00cc96\", \"#ab63fa\", \"#FFA15A\", \"#19d3f3\", \"#FF6692\", \"#B6E880\", \"#FF97FF\", \"#FECB52\"], \"font\": {\"color\": \"#2a3f5f\"}, \"geo\": {\"bgcolor\": \"white\", \"lakecolor\": \"white\", \"landcolor\": \"#E5ECF6\", \"showlakes\": true, \"showland\": true, \"subunitcolor\": \"white\"}, \"hoverlabel\": {\"align\": \"left\"}, \"hovermode\": \"closest\", \"mapbox\": {\"style\": \"light\"}, \"paper_bgcolor\": \"white\", \"plot_bgcolor\": \"#E5ECF6\", \"polar\": {\"angularaxis\": {\"gridcolor\": \"white\", \"linecolor\": \"white\", \"ticks\": \"\"}, \"bgcolor\": \"#E5ECF6\", \"radialaxis\": {\"gridcolor\": \"white\", \"linecolor\": \"white\", \"ticks\": \"\"}}, \"scene\": {\"xaxis\": {\"backgroundcolor\": \"#E5ECF6\", \"gridcolor\": \"white\", \"gridwidth\": 2, \"linecolor\": \"white\", \"showbackground\": true, \"ticks\": \"\", \"zerolinecolor\": \"white\"}, \"yaxis\": {\"backgroundcolor\": \"#E5ECF6\", \"gridcolor\": \"white\", \"gridwidth\": 2, \"linecolor\": \"white\", \"showbackground\": true, \"ticks\": \"\", \"zerolinecolor\": \"white\"}, \"zaxis\": {\"backgroundcolor\": \"#E5ECF6\", \"gridcolor\": \"white\", \"gridwidth\": 2, \"linecolor\": \"white\", \"showbackground\": true, \"ticks\": \"\", \"zerolinecolor\": \"white\"}}, \"shapedefaults\": {\"line\": {\"color\": \"#2a3f5f\"}}, \"ternary\": {\"aaxis\": {\"gridcolor\": \"white\", \"linecolor\": \"white\", \"ticks\": \"\"}, \"baxis\": {\"gridcolor\": \"white\", \"linecolor\": \"white\", \"ticks\": \"\"}, \"bgcolor\": \"#E5ECF6\", \"caxis\": {\"gridcolor\": \"white\", \"linecolor\": \"white\", \"ticks\": \"\"}}, \"title\": {\"x\": 0.05}, \"xaxis\": {\"automargin\": true, \"gridcolor\": \"white\", \"linecolor\": \"white\", \"ticks\": \"\", \"title\": {\"standoff\": 15}, \"zerolinecolor\": \"white\", \"zerolinewidth\": 2}, \"yaxis\": {\"automargin\": true, \"gridcolor\": \"white\", \"linecolor\": \"white\", \"ticks\": \"\", \"title\": {\"standoff\": 15}, \"zerolinecolor\": \"white\", \"zerolinewidth\": 2}}}, \"title\": {\"text\": \"Quanto aprendeu com a DreamShaper?  - 2017/2018\"}, \"xaxis\": {\"anchor\": \"y\", \"domain\": [0.0, 1.0], \"title\": {\"text\": \"Learned?\"}, \"type\": \"category\"}, \"yaxis\": {\"anchor\": \"x\", \"domain\": [0.0, 1.0], \"title\": {\"text\": \"percentage\"}}},                        {\"responsive\": true}                    ).then(function(){\n",
       "                            \n",
       "var gd = document.getElementById('4714f4dd-3e0c-4868-9132-f74f3c3d9b71');\n",
       "var x = new MutationObserver(function (mutations, observer) {{\n",
       "        var display = window.getComputedStyle(gd).display;\n",
       "        if (!display || display === 'none') {{\n",
       "            console.log([gd, 'removed!']);\n",
       "            Plotly.purge(gd);\n",
       "            observer.disconnect();\n",
       "        }}\n",
       "}});\n",
       "\n",
       "// Listen for the removal of the full notebook cells\n",
       "var notebookContainer = gd.closest('#notebook-container');\n",
       "if (notebookContainer) {{\n",
       "    x.observe(notebookContainer, {childList: true});\n",
       "}}\n",
       "\n",
       "// Listen for the clearing of the current output cell\n",
       "var outputEl = gd.closest('.output');\n",
       "if (outputEl) {{\n",
       "    x.observe(outputEl, {childList: true});\n",
       "}}\n",
       "\n",
       "                        })                };                });            </script>        </div>"
      ]
     },
     "metadata": {},
     "output_type": "display_data"
    }
   ],
   "source": [
    "import plotly_express as px\n",
    "\n",
    "fig = px.bar(Ano20172018Learned, x='Learned?', y='percentage')\n",
    "\n",
    "fig.update_layout(title_text='Quanto aprendeu com a DreamShaper?  - 2017/2018')\n",
    "fig.update_layout(xaxis_type='category')\n",
    "\n",
    "\n",
    "fig.show()\n",
    "fig.write_image('Outputs/ImageOutputsYear/Ano20172018Learned.png')\n"
   ]
  },
  {
   "cell_type": "code",
   "execution_count": 78,
   "metadata": {},
   "outputs": [
    {
     "data": {
      "image/png": "[encoded data removed]",
      "text/plain": [
       "<IPython.core.display.Image object>"
      ]
     },
     "execution_count": 78,
     "metadata": {},
     "output_type": "execute_result"
    }
   ],
   "source": [
    "from IPython.display import Image\n",
    "Image(filename='Outputs/ImageOutputsYear/Ano20172018Learned.png')\n",
    "\n"
   ]
  },
  {
   "cell_type": "code",
   "execution_count": null,
   "metadata": {},
   "outputs": [],
   "source": []
  },
  {
   "cell_type": "markdown",
   "metadata": {},
   "source": [
    "### Positives and Negatives  <a name=\"posneg\"></a>\n",
    "* [Back to TOC](#backtoc)\n"
   ]
  },
  {
   "cell_type": "code",
   "execution_count": 79,
   "metadata": {},
   "outputs": [],
   "source": [
    "\n",
    "#Quais são os seus 3 aspectos preferidos da ferramenta ? Aspecto Visual\t\n",
    "Ano20172018.loc[Ano20172018['Quais são os seus 3 aspectos preferidos da ferramenta ? Aspecto Visual'] == \"Aspecto Visual\", 'Quais são os seus 3 aspectos preferidos da ferramenta ? Aspecto Visual'] = 1\n",
    "Ano20172018['Quais são os seus 3 aspectos preferidos da ferramenta ? Aspecto Visual'].fillna(0, inplace=True)\n",
    "\n",
    "#Quais são os seus 3 aspectos preferidos da ferramenta ? Navegação na Ferramenta\n",
    "Ano20172018.loc[Ano20172018['Quais são os seus 3 aspectos preferidos da ferramenta ? Navegação na Ferramenta'] == \"Navegação na ferramenta\", 'Quais são os seus 3 aspectos preferidos da ferramenta ? Navegação na Ferramenta'] = 1\n",
    "Ano20172018['Quais são os seus 3 aspectos preferidos da ferramenta ? Navegação na Ferramenta'].fillna(0, inplace=True)\n",
    "\n",
    "#Quais são os seus 3 aspectos preferidos da ferramenta ? Perguntas\n",
    "Ano20172018.loc[Ano20172018['Quais são os seus 3 aspectos preferidos da ferramenta ? Perguntas'] == \"Perguntas\", 'Quais são os seus 3 aspectos preferidos da ferramenta ? Perguntas'] = 1\n",
    "Ano20172018['Quais são os seus 3 aspectos preferidos da ferramenta ? Perguntas'].fillna(0, inplace=True)\n",
    "\n",
    "\n",
    "#Quais são os seus 3 aspectos preferidos da ferramenta ? Exemplos\n",
    "Ano20172018.loc[Ano20172018['Quais são os seus 3 aspectos preferidos da ferramenta ? Exemplos'] == \"Exemplos\", 'Quais são os seus 3 aspectos preferidos da ferramenta ? Exemplos'] = 1\n",
    "Ano20172018['Quais são os seus 3 aspectos preferidos da ferramenta ? Exemplos'].fillna(0, inplace=True)\n",
    "\n",
    "#Quais são os seus 3 aspectos preferidos da ferramenta ? Vídeos\n",
    "Ano20172018.loc[Ano20172018['Quais são os seus 3 aspectos preferidos da ferramenta ? Vídeos'] == \"Vídeos\", 'Quais são os seus 3 aspectos preferidos da ferramenta ? Vídeos'] = 1\n",
    "Ano20172018['Quais são os seus 3 aspectos preferidos da ferramenta ? Vídeos'].fillna(0, inplace=True)\n",
    "\n",
    "#Quais são os seus 3 aspectos preferidos da ferramenta ? Modelo de Negócios\n",
    "Ano20172018.loc[Ano20172018['Quais são os seus 3 aspectos preferidos da ferramenta ? Modelo de negócios'] == \"Modelo de negócios\", 'Quais são os seus 3 aspectos preferidos da ferramenta ? Modelo de negócios'] = 1\n",
    "Ano20172018['Quais são os seus 3 aspectos preferidos da ferramenta ? Modelo de negócios'].fillna(0, inplace=True)\n",
    "\n",
    "#Quais são os seus 3 aspectos preferidos da ferramenta ? Indicações de Interface\n",
    "Ano20172018.loc[Ano20172018['Quais são os seus 3 aspectos preferidos da ferramenta ? Indicações de Interface'] == \"Indicações de Interface\", 'Quais são os seus 3 aspectos preferidos da ferramenta ? Indicações de Interface'] = 1\n",
    "Ano20172018['Quais são os seus 3 aspectos preferidos da ferramenta ? Indicações de Interface'].fillna(0, inplace=True)\n",
    "\n",
    "\n",
    "#Quais são os seus 3 aspectos preferidos da ferramenta ? Mural de equipa\n",
    "Ano20172018.loc[Ano20172018['Quais são os seus 3 aspectos preferidos da ferramenta ? Mural de equipa'] == \"Mural de equipa\", 'Quais são os seus 3 aspectos preferidos da ferramenta ? Mural de equipa'] = 1\n",
    "Ano20172018['Quais são os seus 3 aspectos preferidos da ferramenta ? Mural de equipa'].fillna(0, inplace=True)\n",
    "\n",
    "\n",
    "#Quais são os seus 3 aspectos preferidos da ferramenta ?  Gestão de equipa\n",
    "Ano20172018.loc[Ano20172018['Quais são os seus 3 aspectos preferidos da ferramenta ?  Gestão de equipa'] == \"Gestão de equipa\", 'Quais são os seus 3 aspectos preferidos da ferramenta ?  Gestão de equipa'] = 1\n",
    "Ano20172018['Quais são os seus 3 aspectos preferidos da ferramenta ?  Gestão de equipa'].fillna(0, inplace=True)\n",
    "\n",
    "\n",
    "#Quais são os seus 3 aspectos preferidos da ferramenta ? Gestão de projectos\n",
    "Ano20172018.loc[Ano20172018['Quais são os seus 3 aspectos preferidos da ferramenta ? Gestão de projectos'] == \"Gestão de projectos\", 'Quais são os seus 3 aspectos preferidos da ferramenta ? Gestão de projectos'] = 1\n",
    "Ano20172018['Quais são os seus 3 aspectos preferidos da ferramenta ? Gestão de projectos'].fillna(0, inplace=True)\n",
    "\n",
    "#E quais são os 3 aspectos que menos gosta? Aspecto visual\n",
    "Ano20172018.loc[Ano20172018['E quais são os 3 aspectos que menos gosta? Aspecto visual'] == \"Aspeto Visual\", 'E quais são os 3 aspectos que menos gosta? Aspecto visual'] = 1\n",
    "Ano20172018['E quais são os 3 aspectos que menos gosta? Aspecto visual'].fillna(0, inplace=True)\n",
    "\n",
    "#E quais são os 3 aspectos que menos gosta? Navegação na ferramenta\n",
    "Ano20172018.loc[Ano20172018['E quais são os 3 aspectos que menos gosta? Navegação na ferramenta'] == \"Navegação na ferramenta\", 'E quais são os 3 aspectos que menos gosta? Navegação na ferramenta'] = 1\n",
    "Ano20172018['E quais são os 3 aspectos que menos gosta? Navegação na ferramenta'].fillna(0, inplace=True)\n",
    "\n",
    "#E quais são os 3 aspectos que menos gosta? Perguntas\n",
    "Ano20172018.loc[Ano20172018['E quais são os 3 aspectos que menos gosta? Perguntas'] == \"Perguntas\", 'E quais são os 3 aspectos que menos gosta? Perguntas'] = 1\n",
    "Ano20172018['E quais são os 3 aspectos que menos gosta? Perguntas'].fillna(0, inplace=True)\n",
    "\n",
    "#E quais são os 3 aspectos que menos gosta? Exemplos\n",
    "Ano20172018.loc[Ano20172018['E quais são os 3 aspectos que menos gosta? Exemplos'] == \"Exemplos\", 'E quais são os 3 aspectos que menos gosta? Exemplos'] = 1\n",
    "Ano20172018['E quais são os 3 aspectos que menos gosta? Exemplos'].fillna(0, inplace=True)\n",
    "\n",
    "#E quais são os 3 aspectos que menos gosta? Vídeos\n",
    "Ano20172018.loc[Ano20172018['E quais são os 3 aspectos que menos gosta? Vídeos'] == \"Vídeos\", 'E quais são os 3 aspectos que menos gosta? Vídeos'] = 1\n",
    "Ano20172018['E quais são os 3 aspectos que menos gosta? Vídeos'].fillna(0, inplace=True)\n",
    "\n",
    "#E quais são os 3 aspectos que menos gosta? Modelo de negócios\n",
    "Ano20172018.loc[Ano20172018['E quais são os 3 aspectos que menos gosta? Modelo de negócios'] == \"Modelo de negócios\", 'E quais são os 3 aspectos que menos gosta? Modelo de negócios'] = 1\n",
    "Ano20172018['E quais são os 3 aspectos que menos gosta? Modelo de negócios'].fillna(0, inplace=True)\n",
    "\n",
    "\n",
    "#E quais são os 3 aspectos que menos gosta? Indicações de interface\n",
    "Ano20172018.loc[Ano20172018['E quais são os 3 aspectos que menos gosta? Indicações de interface'] == \"Indicações de Interface\", 'E quais são os 3 aspectos que menos gosta? Indicações de interface'] = 1\n",
    "Ano20172018['E quais são os 3 aspectos que menos gosta? Indicações de interface'].fillna(0, inplace=True)\n",
    "\n",
    "#E quais são os 3 aspectos que menos gosta? Mural de equipa\n",
    "Ano20172018.loc[Ano20172018['E quais são os 3 aspectos que menos gosta? Mural de equipa'] == \"Mural de equipa\", 'E quais são os 3 aspectos que menos gosta? Mural de equipa'] = 1\n",
    "Ano20172018['E quais são os 3 aspectos que menos gosta? Mural de equipa'].fillna(0, inplace=True)\n",
    "\n",
    "#E quais são os 3 aspectos que menos gosta? Gestão de equipa\n",
    "Ano20172018.loc[Ano20172018['E quais são os 3 aspectos que menos gosta? Gestão de equipa'] == \"Gestão de equipa\", 'E quais são os 3 aspectos que menos gosta? Gestão de equipa'] = 1\n",
    "Ano20172018['E quais são os 3 aspectos que menos gosta? Gestão de equipa'].fillna(0, inplace=True)\n",
    "\n",
    "#E quais são os 3 aspectos que menos gosta? Gestão de projectos\n",
    "Ano20172018.loc[Ano20172018['E quais são os 3 aspectos que menos gosta? Gestão de projectos'] == \"Gestão de projectos\", 'E quais são os 3 aspectos que menos gosta? Gestão de projectos'] = 1\n",
    "Ano20172018['E quais são os 3 aspectos que menos gosta? Gestão de projectos'].fillna(0, inplace=True)\n"
   ]
  },
  {
   "cell_type": "code",
   "execution_count": 80,
   "metadata": {},
   "outputs": [
    {
     "data": {
      "text/plain": [
       "Index(['Está satisfeito com a ferramenta DreamShaper?(Classifique de 1 a 4, sendo 1: Nada satisfeito e 4: Muito Satisfeito)',\n",
       "       'Quais são os seus 3 aspectos preferidos da ferramenta ? Aspecto Visual',\n",
       "       'Quais são os seus 3 aspectos preferidos da ferramenta ? Navegação na Ferramenta',\n",
       "       'Quais são os seus 3 aspectos preferidos da ferramenta ? Perguntas',\n",
       "       'Quais são os seus 3 aspectos preferidos da ferramenta ? Exemplos',\n",
       "       'Quais são os seus 3 aspectos preferidos da ferramenta ? Vídeos',\n",
       "       'Quais são os seus 3 aspectos preferidos da ferramenta ? Modelo de negócios',\n",
       "       'Quais são os seus 3 aspectos preferidos da ferramenta ? Indicações de Interface',\n",
       "       'Quais são os seus 3 aspectos preferidos da ferramenta ? Mural de equipa',\n",
       "       'Quais são os seus 3 aspectos preferidos da ferramenta ?  Gestão de equipa',\n",
       "       'Quais são os seus 3 aspectos preferidos da ferramenta ? Gestão de projectos',\n",
       "       'Quais são os seus 3 aspectos preferidos da ferramenta ? Outros',\n",
       "       'E quais são os 3 aspectos que menos gosta? Aspecto visual',\n",
       "       'E quais são os 3 aspectos que menos gosta? Navegação na ferramenta',\n",
       "       'E quais são os 3 aspectos que menos gosta? Perguntas',\n",
       "       'E quais são os 3 aspectos que menos gosta? Exemplos',\n",
       "       'E quais são os 3 aspectos que menos gosta? Vídeos',\n",
       "       'E quais são os 3 aspectos que menos gosta? Modelo de negócios',\n",
       "       'E quais são os 3 aspectos que menos gosta? Indicações de interface',\n",
       "       'E quais são os 3 aspectos que menos gosta? Mural de equipa',\n",
       "       'E quais são os 3 aspectos que menos gosta? Gestão de equipa',\n",
       "       'E quais são os 3 aspectos que menos gosta? Gestão de projectos',\n",
       "       'E quais são os 3 aspectos que menos gosta? Outros',\n",
       "       'Quanto aprendeu com a DreamShaper?',\n",
       "       'Está satisfeito com a ferramenta DreamShaper?',\n",
       "       'Quanto aprendeu com a DreamShaper?Encod'],\n",
       "      dtype='object')"
      ]
     },
     "execution_count": 80,
     "metadata": {},
     "output_type": "execute_result"
    }
   ],
   "source": [
    "Ano20172018.columns"
   ]
  },
  {
   "cell_type": "code",
   "execution_count": 81,
   "metadata": {},
   "outputs": [],
   "source": [
    "del Ano20172018['E quais são os 3 aspectos que menos gosta? Outros']\n",
    "del Ano20172018['Está satisfeito com a ferramenta DreamShaper?']\n",
    "del Ano20172018['Quais são os seus 3 aspectos preferidos da ferramenta ? Outros']"
   ]
  },
  {
   "cell_type": "code",
   "execution_count": 82,
   "metadata": {},
   "outputs": [],
   "source": [
    "Ano20172018.columns = [\n",
    "       'Está satisfeito com a ferramenta DreamShaper?',\n",
    "       'Positivos:Aspecto Visual',\n",
    "       'Positivos:Navegação na Ferramenta',\n",
    "       'Positivos:Perguntas',\n",
    "       'Positivos:Exemplos',\n",
    "       'Positivos:Vídeos',\n",
    "       'Positivos:Modelo de Negócios',\n",
    "       'Positivos:Indicações de Interface',\n",
    "       'Positivos:Mural de Equipa',\n",
    "       'Positivos:Gestão de Equipa',\n",
    "       'Positivos:Gestão de Projectos',\n",
    "       'Negativos:Aspecto Visual',\n",
    "       'Negativos:Navegação na Ferramenta',\n",
    "       'Negativos:Perguntas',\n",
    "       'Negativos:Exemplos',\n",
    "       'Negativos:Vídeos',\n",
    "       'Negativos:Modelo de Negócios',\n",
    "       'Negativos:Indicações de Interface',\n",
    "       'Negativos:Mural de Equipa',\n",
    "       'Negativos:Gestão de Equipa',\n",
    "       'Negativos:Gestão de Projectos',\n",
    "       'Quanto aprendeu com a DreamShaper?',\n",
    "       'Quanto aprendeu com a DreamShaper?Encod'\n",
    "]"
   ]
  },
  {
   "cell_type": "code",
   "execution_count": null,
   "metadata": {},
   "outputs": [],
   "source": []
  },
  {
   "cell_type": "code",
   "execution_count": 83,
   "metadata": {},
   "outputs": [],
   "source": [
    "#positives vs negatives\n",
    "\n",
    "Ano20172018posneg = Ano20172018.copy()\n",
    "del Ano20172018posneg['Está satisfeito com a ferramenta DreamShaper?']\n",
    "del Ano20172018posneg['Quanto aprendeu com a DreamShaper?']\n",
    "del Ano20172018posneg['Quanto aprendeu com a DreamShaper?Encod']\n",
    "\n"
   ]
  },
  {
   "cell_type": "code",
   "execution_count": 84,
   "metadata": {},
   "outputs": [],
   "source": [
    "Ano20172018posnegSum=Ano20172018posneg.sum(axis = 0, skipna = True) \n",
    "Ano20172018posnegSum = pd.DataFrame(Ano20172018posnegSum)\n",
    "Ano20172018posnegSum['Year'] = 2018\n",
    "Ano20172018posnegSum.reset_index(level=0, inplace=True)\n",
    "Ano20172018posnegSum.columns=[['Question', 'Counts', 'Year']]\n",
    "Ano20172018posnegSum['population'] = 870\n",
    "\n",
    "Ano20172018posnegSum.to_csv(r'Data/PositivosNegativosStandardized/Ano20172018posnegSum.csv', index = False)\n",
    "Ano20172018posnegSum = pd.read_csv('Data/PositivosNegativosStandardized/Ano20172018posnegSum.csv', sep=',')\n",
    "Ano20172018posnegSum['Percentage'] = Ano20172018posnegSum['Counts']/Ano20172018posnegSum['population']\n",
    "Ano20172018posnegSum.to_csv(r'Data/PositivosNegativosStandardized/Ano20172018posnegSum.csv', index = False)\n"
   ]
  },
  {
   "cell_type": "code",
   "execution_count": 85,
   "metadata": {},
   "outputs": [],
   "source": [
    "Ano20172018posnegSum[['P/N','Question']] = Ano20172018posnegSum.Question.str.split(\":\",expand=True) \n"
   ]
  },
  {
   "cell_type": "code",
   "execution_count": 86,
   "metadata": {},
   "outputs": [
    {
     "data": {
      "application/vnd.plotly.v1+json": {
       "config": {
        "plotlyServerURL": "https://plot.ly"
       },
       "data": [
        {
         "alignmentgroup": "True",
         "hovertemplate": "<b>%{hovertext}</b><br><br>P/N=Positivos<br>Year=2018<br>Question=%{x}<br>Percentage=%{y}<extra></extra>",
         "hovertext": [
          "Aspecto Visual",
          "Navegação na Ferramenta",
          "Perguntas",
          "Exemplos",
          "Vídeos",
          "Modelo de Negócios",
          "Indicações de Interface",
          "Mural de Equipa",
          "Gestão de Equipa",
          "Gestão de Projectos"
         ],
         "legendgroup": "Positivos",
         "marker": {
          "color": "#636efa"
         },
         "name": "Positivos",
         "offsetgroup": "Positivos",
         "orientation": "v",
         "showlegend": true,
         "textposition": "auto",
         "type": "bar",
         "x": [
          "Aspecto Visual",
          "Navegação na Ferramenta",
          "Perguntas",
          "Exemplos",
          "Vídeos",
          "Modelo de Negócios",
          "Indicações de Interface",
          "Mural de Equipa",
          "Gestão de Equipa",
          "Gestão de Projectos"
         ],
         "xaxis": "x",
         "y": [
          0.5287356321839081,
          0.603448275862069,
          0.27011494252873564,
          0.4160919540229885,
          0.46781609195402296,
          0.5494252873563218,
          0.2367816091954023,
          0.04367816091954023,
          0.11149425287356322,
          0.34022988505747126
         ],
         "yaxis": "y"
        },
        {
         "alignmentgroup": "True",
         "hovertemplate": "<b>%{hovertext}</b><br><br>P/N=Negativos<br>Year=2018<br>Question=%{x}<br>Percentage=%{y}<extra></extra>",
         "hovertext": [
          "Aspecto Visual",
          "Navegação na Ferramenta",
          "Perguntas",
          "Exemplos",
          "Vídeos",
          "Modelo de Negócios",
          "Indicações de Interface",
          "Mural de Equipa",
          "Gestão de Equipa",
          "Gestão de Projectos"
         ],
         "legendgroup": "Negativos",
         "marker": {
          "color": "#EF553B"
         },
         "name": "Negativos",
         "offsetgroup": "Negativos",
         "orientation": "v",
         "showlegend": true,
         "textposition": "auto",
         "type": "bar",
         "x": [
          "Aspecto Visual",
          "Navegação na Ferramenta",
          "Perguntas",
          "Exemplos",
          "Vídeos",
          "Modelo de Negócios",
          "Indicações de Interface",
          "Mural de Equipa",
          "Gestão de Equipa",
          "Gestão de Projectos"
         ],
         "xaxis": "x",
         "y": [
          0.15057471264367817,
          0.21839080459770116,
          0.3057471264367816,
          0.2988505747126437,
          0.20689655172413793,
          0.0896551724137931,
          0.3275862068965517,
          0.2574712643678161,
          0.15402298850574714,
          0.10919540229885058
         ],
         "yaxis": "y"
        }
       ],
       "layout": {
        "barmode": "group",
        "legend": {
         "title": {
          "text": "P/N"
         },
         "tracegroupgap": 0
        },
        "margin": {
         "t": 60
        },
        "template": {
         "data": {
          "bar": [
           {
            "error_x": {
             "color": "#2a3f5f"
            },
            "error_y": {
             "color": "#2a3f5f"
            },
            "marker": {
             "line": {
              "color": "#E5ECF6",
              "width": 0.5
             }
            },
            "type": "bar"
           }
          ],
          "barpolar": [
           {
            "marker": {
             "line": {
              "color": "#E5ECF6",
              "width": 0.5
             }
            },
            "type": "barpolar"
           }
          ],
          "carpet": [
           {
            "aaxis": {
             "endlinecolor": "#2a3f5f",
             "gridcolor": "white",
             "linecolor": "white",
             "minorgridcolor": "white",
             "startlinecolor": "#2a3f5f"
            },
            "baxis": {
             "endlinecolor": "#2a3f5f",
             "gridcolor": "white",
             "linecolor": "white",
             "minorgridcolor": "white",
             "startlinecolor": "#2a3f5f"
            },
            "type": "carpet"
           }
          ],
          "choropleth": [
           {
            "colorbar": {
             "outlinewidth": 0,
             "ticks": ""
            },
            "type": "choropleth"
           }
          ],
          "contour": [
           {
            "colorbar": {
             "outlinewidth": 0,
             "ticks": ""
            },
            "colorscale": [
             [
              0,
              "#0d0887"
             ],
             [
              0.1111111111111111,
              "#46039f"
             ],
             [
              0.2222222222222222,
              "#7201a8"
             ],
             [
              0.3333333333333333,
              "#9c179e"
             ],
             [
              0.4444444444444444,
              "#bd3786"
             ],
             [
              0.5555555555555556,
              "#d8576b"
             ],
             [
              0.6666666666666666,
              "#ed7953"
             ],
             [
              0.7777777777777778,
              "#fb9f3a"
             ],
             [
              0.8888888888888888,
              "#fdca26"
             ],
             [
              1,
              "#f0f921"
             ]
            ],
            "type": "contour"
           }
          ],
          "contourcarpet": [
           {
            "colorbar": {
             "outlinewidth": 0,
             "ticks": ""
            },
            "type": "contourcarpet"
           }
          ],
          "heatmap": [
           {
            "colorbar": {
             "outlinewidth": 0,
             "ticks": ""
            },
            "colorscale": [
             [
              0,
              "#0d0887"
             ],
             [
              0.1111111111111111,
              "#46039f"
             ],
             [
              0.2222222222222222,
              "#7201a8"
             ],
             [
              0.3333333333333333,
              "#9c179e"
             ],
             [
              0.4444444444444444,
              "#bd3786"
             ],
             [
              0.5555555555555556,
              "#d8576b"
             ],
             [
              0.6666666666666666,
              "#ed7953"
             ],
             [
              0.7777777777777778,
              "#fb9f3a"
             ],
             [
              0.8888888888888888,
              "#fdca26"
             ],
             [
              1,
              "#f0f921"
             ]
            ],
            "type": "heatmap"
           }
          ],
          "heatmapgl": [
           {
            "colorbar": {
             "outlinewidth": 0,
             "ticks": ""
            },
            "colorscale": [
             [
              0,
              "#0d0887"
             ],
             [
              0.1111111111111111,
              "#46039f"
             ],
             [
              0.2222222222222222,
              "#7201a8"
             ],
             [
              0.3333333333333333,
              "#9c179e"
             ],
             [
              0.4444444444444444,
              "#bd3786"
             ],
             [
              0.5555555555555556,
              "#d8576b"
             ],
             [
              0.6666666666666666,
              "#ed7953"
             ],
             [
              0.7777777777777778,
              "#fb9f3a"
             ],
             [
              0.8888888888888888,
              "#fdca26"
             ],
             [
              1,
              "#f0f921"
             ]
            ],
            "type": "heatmapgl"
           }
          ],
          "histogram": [
           {
            "marker": {
             "colorbar": {
              "outlinewidth": 0,
              "ticks": ""
             }
            },
            "type": "histogram"
           }
          ],
          "histogram2d": [
           {
            "colorbar": {
             "outlinewidth": 0,
             "ticks": ""
            },
            "colorscale": [
             [
              0,
              "#0d0887"
             ],
             [
              0.1111111111111111,
              "#46039f"
             ],
             [
              0.2222222222222222,
              "#7201a8"
             ],
             [
              0.3333333333333333,
              "#9c179e"
             ],
             [
              0.4444444444444444,
              "#bd3786"
             ],
             [
              0.5555555555555556,
              "#d8576b"
             ],
             [
              0.6666666666666666,
              "#ed7953"
             ],
             [
              0.7777777777777778,
              "#fb9f3a"
             ],
             [
              0.8888888888888888,
              "#fdca26"
             ],
             [
              1,
              "#f0f921"
             ]
            ],
            "type": "histogram2d"
           }
          ],
          "histogram2dcontour": [
           {
            "colorbar": {
             "outlinewidth": 0,
             "ticks": ""
            },
            "colorscale": [
             [
              0,
              "#0d0887"
             ],
             [
              0.1111111111111111,
              "#46039f"
             ],
             [
              0.2222222222222222,
              "#7201a8"
             ],
             [
              0.3333333333333333,
              "#9c179e"
             ],
             [
              0.4444444444444444,
              "#bd3786"
             ],
             [
              0.5555555555555556,
              "#d8576b"
             ],
             [
              0.6666666666666666,
              "#ed7953"
             ],
             [
              0.7777777777777778,
              "#fb9f3a"
             ],
             [
              0.8888888888888888,
              "#fdca26"
             ],
             [
              1,
              "#f0f921"
             ]
            ],
            "type": "histogram2dcontour"
           }
          ],
          "mesh3d": [
           {
            "colorbar": {
             "outlinewidth": 0,
             "ticks": ""
            },
            "type": "mesh3d"
           }
          ],
          "parcoords": [
           {
            "line": {
             "colorbar": {
              "outlinewidth": 0,
              "ticks": ""
             }
            },
            "type": "parcoords"
           }
          ],
          "pie": [
           {
            "automargin": true,
            "type": "pie"
           }
          ],
          "scatter": [
           {
            "marker": {
             "colorbar": {
              "outlinewidth": 0,
              "ticks": ""
             }
            },
            "type": "scatter"
           }
          ],
          "scatter3d": [
           {
            "line": {
             "colorbar": {
              "outlinewidth": 0,
              "ticks": ""
             }
            },
            "marker": {
             "colorbar": {
              "outlinewidth": 0,
              "ticks": ""
             }
            },
            "type": "scatter3d"
           }
          ],
          "scattercarpet": [
           {
            "marker": {
             "colorbar": {
              "outlinewidth": 0,
              "ticks": ""
             }
            },
            "type": "scattercarpet"
           }
          ],
          "scattergeo": [
           {
            "marker": {
             "colorbar": {
              "outlinewidth": 0,
              "ticks": ""
             }
            },
            "type": "scattergeo"
           }
          ],
          "scattergl": [
           {
            "marker": {
             "colorbar": {
              "outlinewidth": 0,
              "ticks": ""
             }
            },
            "type": "scattergl"
           }
          ],
          "scattermapbox": [
           {
            "marker": {
             "colorbar": {
              "outlinewidth": 0,
              "ticks": ""
             }
            },
            "type": "scattermapbox"
           }
          ],
          "scatterpolar": [
           {
            "marker": {
             "colorbar": {
              "outlinewidth": 0,
              "ticks": ""
             }
            },
            "type": "scatterpolar"
           }
          ],
          "scatterpolargl": [
           {
            "marker": {
             "colorbar": {
              "outlinewidth": 0,
              "ticks": ""
             }
            },
            "type": "scatterpolargl"
           }
          ],
          "scatterternary": [
           {
            "marker": {
             "colorbar": {
              "outlinewidth": 0,
              "ticks": ""
             }
            },
            "type": "scatterternary"
           }
          ],
          "surface": [
           {
            "colorbar": {
             "outlinewidth": 0,
             "ticks": ""
            },
            "colorscale": [
             [
              0,
              "#0d0887"
             ],
             [
              0.1111111111111111,
              "#46039f"
             ],
             [
              0.2222222222222222,
              "#7201a8"
             ],
             [
              0.3333333333333333,
              "#9c179e"
             ],
             [
              0.4444444444444444,
              "#bd3786"
             ],
             [
              0.5555555555555556,
              "#d8576b"
             ],
             [
              0.6666666666666666,
              "#ed7953"
             ],
             [
              0.7777777777777778,
              "#fb9f3a"
             ],
             [
              0.8888888888888888,
              "#fdca26"
             ],
             [
              1,
              "#f0f921"
             ]
            ],
            "type": "surface"
           }
          ],
          "table": [
           {
            "cells": {
             "fill": {
              "color": "#EBF0F8"
             },
             "line": {
              "color": "white"
             }
            },
            "header": {
             "fill": {
              "color": "#C8D4E3"
             },
             "line": {
              "color": "white"
             }
            },
            "type": "table"
           }
          ]
         },
         "layout": {
          "annotationdefaults": {
           "arrowcolor": "#2a3f5f",
           "arrowhead": 0,
           "arrowwidth": 1
          },
          "coloraxis": {
           "colorbar": {
            "outlinewidth": 0,
            "ticks": ""
           }
          },
          "colorscale": {
           "diverging": [
            [
             0,
             "#8e0152"
            ],
            [
             0.1,
             "#c51b7d"
            ],
            [
             0.2,
             "#de77ae"
            ],
            [
             0.3,
             "#f1b6da"
            ],
            [
             0.4,
             "#fde0ef"
            ],
            [
             0.5,
             "#f7f7f7"
            ],
            [
             0.6,
             "#e6f5d0"
            ],
            [
             0.7,
             "#b8e186"
            ],
            [
             0.8,
             "#7fbc41"
            ],
            [
             0.9,
             "#4d9221"
            ],
            [
             1,
             "#276419"
            ]
           ],
           "sequential": [
            [
             0,
             "#0d0887"
            ],
            [
             0.1111111111111111,
             "#46039f"
            ],
            [
             0.2222222222222222,
             "#7201a8"
            ],
            [
             0.3333333333333333,
             "#9c179e"
            ],
            [
             0.4444444444444444,
             "#bd3786"
            ],
            [
             0.5555555555555556,
             "#d8576b"
            ],
            [
             0.6666666666666666,
             "#ed7953"
            ],
            [
             0.7777777777777778,
             "#fb9f3a"
            ],
            [
             0.8888888888888888,
             "#fdca26"
            ],
            [
             1,
             "#f0f921"
            ]
           ],
           "sequentialminus": [
            [
             0,
             "#0d0887"
            ],
            [
             0.1111111111111111,
             "#46039f"
            ],
            [
             0.2222222222222222,
             "#7201a8"
            ],
            [
             0.3333333333333333,
             "#9c179e"
            ],
            [
             0.4444444444444444,
             "#bd3786"
            ],
            [
             0.5555555555555556,
             "#d8576b"
            ],
            [
             0.6666666666666666,
             "#ed7953"
            ],
            [
             0.7777777777777778,
             "#fb9f3a"
            ],
            [
             0.8888888888888888,
             "#fdca26"
            ],
            [
             1,
             "#f0f921"
            ]
           ]
          },
          "colorway": [
           "#636efa",
           "#EF553B",
           "#00cc96",
           "#ab63fa",
           "#FFA15A",
           "#19d3f3",
           "#FF6692",
           "#B6E880",
           "#FF97FF",
           "#FECB52"
          ],
          "font": {
           "color": "#2a3f5f"
          },
          "geo": {
           "bgcolor": "white",
           "lakecolor": "white",
           "landcolor": "#E5ECF6",
           "showlakes": true,
           "showland": true,
           "subunitcolor": "white"
          },
          "hoverlabel": {
           "align": "left"
          },
          "hovermode": "closest",
          "mapbox": {
           "style": "light"
          },
          "paper_bgcolor": "white",
          "plot_bgcolor": "#E5ECF6",
          "polar": {
           "angularaxis": {
            "gridcolor": "white",
            "linecolor": "white",
            "ticks": ""
           },
           "bgcolor": "#E5ECF6",
           "radialaxis": {
            "gridcolor": "white",
            "linecolor": "white",
            "ticks": ""
           }
          },
          "scene": {
           "xaxis": {
            "backgroundcolor": "#E5ECF6",
            "gridcolor": "white",
            "gridwidth": 2,
            "linecolor": "white",
            "showbackground": true,
            "ticks": "",
            "zerolinecolor": "white"
           },
           "yaxis": {
            "backgroundcolor": "#E5ECF6",
            "gridcolor": "white",
            "gridwidth": 2,
            "linecolor": "white",
            "showbackground": true,
            "ticks": "",
            "zerolinecolor": "white"
           },
           "zaxis": {
            "backgroundcolor": "#E5ECF6",
            "gridcolor": "white",
            "gridwidth": 2,
            "linecolor": "white",
            "showbackground": true,
            "ticks": "",
            "zerolinecolor": "white"
           }
          },
          "shapedefaults": {
           "line": {
            "color": "#2a3f5f"
           }
          },
          "ternary": {
           "aaxis": {
            "gridcolor": "white",
            "linecolor": "white",
            "ticks": ""
           },
           "baxis": {
            "gridcolor": "white",
            "linecolor": "white",
            "ticks": ""
           },
           "bgcolor": "#E5ECF6",
           "caxis": {
            "gridcolor": "white",
            "linecolor": "white",
            "ticks": ""
           }
          },
          "title": {
           "x": 0.05
          },
          "xaxis": {
           "automargin": true,
           "gridcolor": "white",
           "linecolor": "white",
           "ticks": "",
           "title": {
            "standoff": 15
           },
           "zerolinecolor": "white",
           "zerolinewidth": 2
          },
          "yaxis": {
           "automargin": true,
           "gridcolor": "white",
           "linecolor": "white",
           "ticks": "",
           "title": {
            "standoff": 15
           },
           "zerolinecolor": "white",
           "zerolinewidth": 2
          }
         }
        },
        "title": {
         "text": "Positive/Negative Features  - 2017/2018"
        },
        "xaxis": {
         "anchor": "y",
         "domain": [
          0,
          1
         ],
         "title": {
          "text": "Question"
         },
         "type": "category"
        },
        "yaxis": {
         "anchor": "x",
         "domain": [
          0,
          1
         ],
         "range": [
          0,
          1
         ],
         "title": {
          "text": "Percentage"
         }
        }
       }
      },
      "text/html": [
       "<div>                            <div id=\"73f10353-fdfe-4975-ad32-a3edaded3480\" class=\"plotly-graph-div\" style=\"height:525px; width:100%;\"></div>            <script type=\"text/javascript\">                require([\"plotly\"], function(Plotly) {                    window.PLOTLYENV=window.PLOTLYENV || {};                                    if (document.getElementById(\"73f10353-fdfe-4975-ad32-a3edaded3480\")) {                    Plotly.newPlot(                        \"73f10353-fdfe-4975-ad32-a3edaded3480\",                        [{\"alignmentgroup\": \"True\", \"hovertemplate\": \"<b>%{hovertext}</b><br><br>P/N=Positivos<br>Year=2018<br>Question=%{x}<br>Percentage=%{y}<extra></extra>\", \"hovertext\": [\"Aspecto Visual\", \"Navega\\u00e7\\u00e3o na Ferramenta\", \"Perguntas\", \"Exemplos\", \"V\\u00eddeos\", \"Modelo de Neg\\u00f3cios\", \"Indica\\u00e7\\u00f5es de Interface\", \"Mural de Equipa\", \"Gest\\u00e3o de Equipa\", \"Gest\\u00e3o de Projectos\"], \"legendgroup\": \"Positivos\", \"marker\": {\"color\": \"#636efa\"}, \"name\": \"Positivos\", \"offsetgroup\": \"Positivos\", \"orientation\": \"v\", \"showlegend\": true, \"textposition\": \"auto\", \"type\": \"bar\", \"x\": [\"Aspecto Visual\", \"Navega\\u00e7\\u00e3o na Ferramenta\", \"Perguntas\", \"Exemplos\", \"V\\u00eddeos\", \"Modelo de Neg\\u00f3cios\", \"Indica\\u00e7\\u00f5es de Interface\", \"Mural de Equipa\", \"Gest\\u00e3o de Equipa\", \"Gest\\u00e3o de Projectos\"], \"xaxis\": \"x\", \"y\": [0.5287356321839081, 0.603448275862069, 0.27011494252873564, 0.4160919540229885, 0.46781609195402296, 0.5494252873563218, 0.2367816091954023, 0.04367816091954023, 0.11149425287356322, 0.34022988505747126], \"yaxis\": \"y\"}, {\"alignmentgroup\": \"True\", \"hovertemplate\": \"<b>%{hovertext}</b><br><br>P/N=Negativos<br>Year=2018<br>Question=%{x}<br>Percentage=%{y}<extra></extra>\", \"hovertext\": [\"Aspecto Visual\", \"Navega\\u00e7\\u00e3o na Ferramenta\", \"Perguntas\", \"Exemplos\", \"V\\u00eddeos\", \"Modelo de Neg\\u00f3cios\", \"Indica\\u00e7\\u00f5es de Interface\", \"Mural de Equipa\", \"Gest\\u00e3o de Equipa\", \"Gest\\u00e3o de Projectos\"], \"legendgroup\": \"Negativos\", \"marker\": {\"color\": \"#EF553B\"}, \"name\": \"Negativos\", \"offsetgroup\": \"Negativos\", \"orientation\": \"v\", \"showlegend\": true, \"textposition\": \"auto\", \"type\": \"bar\", \"x\": [\"Aspecto Visual\", \"Navega\\u00e7\\u00e3o na Ferramenta\", \"Perguntas\", \"Exemplos\", \"V\\u00eddeos\", \"Modelo de Neg\\u00f3cios\", \"Indica\\u00e7\\u00f5es de Interface\", \"Mural de Equipa\", \"Gest\\u00e3o de Equipa\", \"Gest\\u00e3o de Projectos\"], \"xaxis\": \"x\", \"y\": [0.15057471264367817, 0.21839080459770116, 0.3057471264367816, 0.2988505747126437, 0.20689655172413793, 0.0896551724137931, 0.3275862068965517, 0.2574712643678161, 0.15402298850574714, 0.10919540229885058], \"yaxis\": \"y\"}],                        {\"barmode\": \"group\", \"legend\": {\"title\": {\"text\": \"P/N\"}, \"tracegroupgap\": 0}, \"margin\": {\"t\": 60}, \"template\": {\"data\": {\"bar\": [{\"error_x\": {\"color\": \"#2a3f5f\"}, \"error_y\": {\"color\": \"#2a3f5f\"}, \"marker\": {\"line\": {\"color\": \"#E5ECF6\", \"width\": 0.5}}, \"type\": \"bar\"}], \"barpolar\": [{\"marker\": {\"line\": {\"color\": \"#E5ECF6\", \"width\": 0.5}}, \"type\": \"barpolar\"}], \"carpet\": [{\"aaxis\": {\"endlinecolor\": \"#2a3f5f\", \"gridcolor\": \"white\", \"linecolor\": \"white\", \"minorgridcolor\": \"white\", \"startlinecolor\": \"#2a3f5f\"}, \"baxis\": {\"endlinecolor\": \"#2a3f5f\", \"gridcolor\": \"white\", \"linecolor\": \"white\", \"minorgridcolor\": \"white\", \"startlinecolor\": \"#2a3f5f\"}, \"type\": \"carpet\"}], \"choropleth\": [{\"colorbar\": {\"outlinewidth\": 0, \"ticks\": \"\"}, \"type\": \"choropleth\"}], \"contour\": [{\"colorbar\": {\"outlinewidth\": 0, \"ticks\": \"\"}, \"colorscale\": [[0.0, \"#0d0887\"], [0.1111111111111111, \"#46039f\"], [0.2222222222222222, \"#7201a8\"], [0.3333333333333333, \"#9c179e\"], [0.4444444444444444, \"#bd3786\"], [0.5555555555555556, \"#d8576b\"], [0.6666666666666666, \"#ed7953\"], [0.7777777777777778, \"#fb9f3a\"], [0.8888888888888888, \"#fdca26\"], [1.0, \"#f0f921\"]], \"type\": \"contour\"}], \"contourcarpet\": [{\"colorbar\": {\"outlinewidth\": 0, \"ticks\": \"\"}, \"type\": \"contourcarpet\"}], \"heatmap\": [{\"colorbar\": {\"outlinewidth\": 0, \"ticks\": \"\"}, \"colorscale\": [[0.0, \"#0d0887\"], [0.1111111111111111, \"#46039f\"], [0.2222222222222222, \"#7201a8\"], [0.3333333333333333, \"#9c179e\"], [0.4444444444444444, \"#bd3786\"], [0.5555555555555556, \"#d8576b\"], [0.6666666666666666, \"#ed7953\"], [0.7777777777777778, \"#fb9f3a\"], [0.8888888888888888, \"#fdca26\"], [1.0, \"#f0f921\"]], \"type\": \"heatmap\"}], \"heatmapgl\": [{\"colorbar\": {\"outlinewidth\": 0, \"ticks\": \"\"}, \"colorscale\": [[0.0, \"#0d0887\"], [0.1111111111111111, \"#46039f\"], [0.2222222222222222, \"#7201a8\"], [0.3333333333333333, \"#9c179e\"], [0.4444444444444444, \"#bd3786\"], [0.5555555555555556, \"#d8576b\"], [0.6666666666666666, \"#ed7953\"], [0.7777777777777778, \"#fb9f3a\"], [0.8888888888888888, \"#fdca26\"], [1.0, \"#f0f921\"]], \"type\": \"heatmapgl\"}], \"histogram\": [{\"marker\": {\"colorbar\": {\"outlinewidth\": 0, \"ticks\": \"\"}}, \"type\": \"histogram\"}], \"histogram2d\": [{\"colorbar\": {\"outlinewidth\": 0, \"ticks\": \"\"}, \"colorscale\": [[0.0, \"#0d0887\"], [0.1111111111111111, \"#46039f\"], [0.2222222222222222, \"#7201a8\"], [0.3333333333333333, \"#9c179e\"], [0.4444444444444444, \"#bd3786\"], [0.5555555555555556, \"#d8576b\"], [0.6666666666666666, \"#ed7953\"], [0.7777777777777778, \"#fb9f3a\"], [0.8888888888888888, \"#fdca26\"], [1.0, \"#f0f921\"]], \"type\": \"histogram2d\"}], \"histogram2dcontour\": [{\"colorbar\": {\"outlinewidth\": 0, \"ticks\": \"\"}, \"colorscale\": [[0.0, \"#0d0887\"], [0.1111111111111111, \"#46039f\"], [0.2222222222222222, \"#7201a8\"], [0.3333333333333333, \"#9c179e\"], [0.4444444444444444, \"#bd3786\"], [0.5555555555555556, \"#d8576b\"], [0.6666666666666666, \"#ed7953\"], [0.7777777777777778, \"#fb9f3a\"], [0.8888888888888888, \"#fdca26\"], [1.0, \"#f0f921\"]], \"type\": \"histogram2dcontour\"}], \"mesh3d\": [{\"colorbar\": {\"outlinewidth\": 0, \"ticks\": \"\"}, \"type\": \"mesh3d\"}], \"parcoords\": [{\"line\": {\"colorbar\": {\"outlinewidth\": 0, \"ticks\": \"\"}}, \"type\": \"parcoords\"}], \"pie\": [{\"automargin\": true, \"type\": \"pie\"}], \"scatter\": [{\"marker\": {\"colorbar\": {\"outlinewidth\": 0, \"ticks\": \"\"}}, \"type\": \"scatter\"}], \"scatter3d\": [{\"line\": {\"colorbar\": {\"outlinewidth\": 0, \"ticks\": \"\"}}, \"marker\": {\"colorbar\": {\"outlinewidth\": 0, \"ticks\": \"\"}}, \"type\": \"scatter3d\"}], \"scattercarpet\": [{\"marker\": {\"colorbar\": {\"outlinewidth\": 0, \"ticks\": \"\"}}, \"type\": \"scattercarpet\"}], \"scattergeo\": [{\"marker\": {\"colorbar\": {\"outlinewidth\": 0, \"ticks\": \"\"}}, \"type\": \"scattergeo\"}], \"scattergl\": [{\"marker\": {\"colorbar\": {\"outlinewidth\": 0, \"ticks\": \"\"}}, \"type\": \"scattergl\"}], \"scattermapbox\": [{\"marker\": {\"colorbar\": {\"outlinewidth\": 0, \"ticks\": \"\"}}, \"type\": \"scattermapbox\"}], \"scatterpolar\": [{\"marker\": {\"colorbar\": {\"outlinewidth\": 0, \"ticks\": \"\"}}, \"type\": \"scatterpolar\"}], \"scatterpolargl\": [{\"marker\": {\"colorbar\": {\"outlinewidth\": 0, \"ticks\": \"\"}}, \"type\": \"scatterpolargl\"}], \"scatterternary\": [{\"marker\": {\"colorbar\": {\"outlinewidth\": 0, \"ticks\": \"\"}}, \"type\": \"scatterternary\"}], \"surface\": [{\"colorbar\": {\"outlinewidth\": 0, \"ticks\": \"\"}, \"colorscale\": [[0.0, \"#0d0887\"], [0.1111111111111111, \"#46039f\"], [0.2222222222222222, \"#7201a8\"], [0.3333333333333333, \"#9c179e\"], [0.4444444444444444, \"#bd3786\"], [0.5555555555555556, \"#d8576b\"], [0.6666666666666666, \"#ed7953\"], [0.7777777777777778, \"#fb9f3a\"], [0.8888888888888888, \"#fdca26\"], [1.0, \"#f0f921\"]], \"type\": \"surface\"}], \"table\": [{\"cells\": {\"fill\": {\"color\": \"#EBF0F8\"}, \"line\": {\"color\": \"white\"}}, \"header\": {\"fill\": {\"color\": \"#C8D4E3\"}, \"line\": {\"color\": \"white\"}}, \"type\": \"table\"}]}, \"layout\": {\"annotationdefaults\": {\"arrowcolor\": \"#2a3f5f\", \"arrowhead\": 0, \"arrowwidth\": 1}, \"coloraxis\": {\"colorbar\": {\"outlinewidth\": 0, \"ticks\": \"\"}}, \"colorscale\": {\"diverging\": [[0, \"#8e0152\"], [0.1, \"#c51b7d\"], [0.2, \"#de77ae\"], [0.3, \"#f1b6da\"], [0.4, \"#fde0ef\"], [0.5, \"#f7f7f7\"], [0.6, \"#e6f5d0\"], [0.7, \"#b8e186\"], [0.8, \"#7fbc41\"], [0.9, \"#4d9221\"], [1, \"#276419\"]], \"sequential\": [[0.0, \"#0d0887\"], [0.1111111111111111, \"#46039f\"], [0.2222222222222222, \"#7201a8\"], [0.3333333333333333, \"#9c179e\"], [0.4444444444444444, \"#bd3786\"], [0.5555555555555556, \"#d8576b\"], [0.6666666666666666, \"#ed7953\"], [0.7777777777777778, \"#fb9f3a\"], [0.8888888888888888, \"#fdca26\"], [1.0, \"#f0f921\"]], \"sequentialminus\": [[0.0, \"#0d0887\"], [0.1111111111111111, \"#46039f\"], [0.2222222222222222, \"#7201a8\"], [0.3333333333333333, \"#9c179e\"], [0.4444444444444444, \"#bd3786\"], [0.5555555555555556, \"#d8576b\"], [0.6666666666666666, \"#ed7953\"], [0.7777777777777778, \"#fb9f3a\"], [0.8888888888888888, \"#fdca26\"], [1.0, \"#f0f921\"]]}, \"colorway\": [\"#636efa\", \"#EF553B\", \"#00cc96\", \"#ab63fa\", \"#FFA15A\", \"#19d3f3\", \"#FF6692\", \"#B6E880\", \"#FF97FF\", \"#FECB52\"], \"font\": {\"color\": \"#2a3f5f\"}, \"geo\": {\"bgcolor\": \"white\", \"lakecolor\": \"white\", \"landcolor\": \"#E5ECF6\", \"showlakes\": true, \"showland\": true, \"subunitcolor\": \"white\"}, \"hoverlabel\": {\"align\": \"left\"}, \"hovermode\": \"closest\", \"mapbox\": {\"style\": \"light\"}, \"paper_bgcolor\": \"white\", \"plot_bgcolor\": \"#E5ECF6\", \"polar\": {\"angularaxis\": {\"gridcolor\": \"white\", \"linecolor\": \"white\", \"ticks\": \"\"}, \"bgcolor\": \"#E5ECF6\", \"radialaxis\": {\"gridcolor\": \"white\", \"linecolor\": \"white\", \"ticks\": \"\"}}, \"scene\": {\"xaxis\": {\"backgroundcolor\": \"#E5ECF6\", \"gridcolor\": \"white\", \"gridwidth\": 2, \"linecolor\": \"white\", \"showbackground\": true, \"ticks\": \"\", \"zerolinecolor\": \"white\"}, \"yaxis\": {\"backgroundcolor\": \"#E5ECF6\", \"gridcolor\": \"white\", \"gridwidth\": 2, \"linecolor\": \"white\", \"showbackground\": true, \"ticks\": \"\", \"zerolinecolor\": \"white\"}, \"zaxis\": {\"backgroundcolor\": \"#E5ECF6\", \"gridcolor\": \"white\", \"gridwidth\": 2, \"linecolor\": \"white\", \"showbackground\": true, \"ticks\": \"\", \"zerolinecolor\": \"white\"}}, \"shapedefaults\": {\"line\": {\"color\": \"#2a3f5f\"}}, \"ternary\": {\"aaxis\": {\"gridcolor\": \"white\", \"linecolor\": \"white\", \"ticks\": \"\"}, \"baxis\": {\"gridcolor\": \"white\", \"linecolor\": \"white\", \"ticks\": \"\"}, \"bgcolor\": \"#E5ECF6\", \"caxis\": {\"gridcolor\": \"white\", \"linecolor\": \"white\", \"ticks\": \"\"}}, \"title\": {\"x\": 0.05}, \"xaxis\": {\"automargin\": true, \"gridcolor\": \"white\", \"linecolor\": \"white\", \"ticks\": \"\", \"title\": {\"standoff\": 15}, \"zerolinecolor\": \"white\", \"zerolinewidth\": 2}, \"yaxis\": {\"automargin\": true, \"gridcolor\": \"white\", \"linecolor\": \"white\", \"ticks\": \"\", \"title\": {\"standoff\": 15}, \"zerolinecolor\": \"white\", \"zerolinewidth\": 2}}}, \"title\": {\"text\": \"Positive/Negative Features  - 2017/2018\"}, \"xaxis\": {\"anchor\": \"y\", \"domain\": [0.0, 1.0], \"title\": {\"text\": \"Question\"}, \"type\": \"category\"}, \"yaxis\": {\"anchor\": \"x\", \"domain\": [0.0, 1.0], \"range\": [0, 1], \"title\": {\"text\": \"Percentage\"}}},                        {\"responsive\": true}                    ).then(function(){\n",
       "                            \n",
       "var gd = document.getElementById('73f10353-fdfe-4975-ad32-a3edaded3480');\n",
       "var x = new MutationObserver(function (mutations, observer) {{\n",
       "        var display = window.getComputedStyle(gd).display;\n",
       "        if (!display || display === 'none') {{\n",
       "            console.log([gd, 'removed!']);\n",
       "            Plotly.purge(gd);\n",
       "            observer.disconnect();\n",
       "        }}\n",
       "}});\n",
       "\n",
       "// Listen for the removal of the full notebook cells\n",
       "var notebookContainer = gd.closest('#notebook-container');\n",
       "if (notebookContainer) {{\n",
       "    x.observe(notebookContainer, {childList: true});\n",
       "}}\n",
       "\n",
       "// Listen for the clearing of the current output cell\n",
       "var outputEl = gd.closest('.output');\n",
       "if (outputEl) {{\n",
       "    x.observe(outputEl, {childList: true});\n",
       "}}\n",
       "\n",
       "                        })                };                });            </script>        </div>"
      ]
     },
     "metadata": {},
     "output_type": "display_data"
    }
   ],
   "source": [
    "import plotly_express as px\n",
    "\n",
    "fig = px.bar(Ano20172018posnegSum, x=\"Question\", y=\"Percentage\", color='P/N', barmode='group',\n",
    "            animation_frame='Year', hover_name='Question', range_y=[0,1])\n",
    "fig.update_layout(title_text='Positive/Negative Features  - 2017/2018')\n",
    "fig.update_layout(xaxis_type='category')\n",
    "\n",
    "\n",
    "fig.show()\n",
    "fig.write_image('Outputs/ImageOutputsYear/figurePosNeg20172018.png')"
   ]
  },
  {
   "cell_type": "code",
   "execution_count": 87,
   "metadata": {},
   "outputs": [
    {
     "data": {
      "image/png": "[encoded data removed]",
      "text/plain": [
       "<IPython.core.display.Image object>"
      ]
     },
     "execution_count": 87,
     "metadata": {},
     "output_type": "execute_result"
    }
   ],
   "source": [
    "from IPython.display import Image\n",
    "Image(filename='Outputs/ImageOutputsYear/figurePosNeg20172018.png')\n",
    "\n"
   ]
  },
  {
   "cell_type": "markdown",
   "metadata": {},
   "source": [
    "## Positive Outcome \n",
    "* [Back to TOC](#backtoc)\n"
   ]
  },
  {
   "cell_type": "code",
   "execution_count": 88,
   "metadata": {},
   "outputs": [
    {
     "data": {
      "text/plain": [
       "(560, 23)"
      ]
     },
     "execution_count": 88,
     "metadata": {},
     "output_type": "execute_result"
    }
   ],
   "source": [
    "Ano20172018PO = Ano20172018.copy()\n",
    "Ano20172018PO = Ano20172018PO[Ano20172018PO['Está satisfeito com a ferramenta DreamShaper?'] == 4] \n",
    "Ano20172018PO\n",
    "Ano20172018PO.shape\n",
    "\n"
   ]
  },
  {
   "cell_type": "code",
   "execution_count": 89,
   "metadata": {},
   "outputs": [
    {
     "data": {
      "application/vnd.plotly.v1+json": {
       "config": {
        "plotlyServerURL": "https://plot.ly"
       },
       "data": [
        {
         "alignmentgroup": "True",
         "hovertemplate": "<b>%{hovertext}</b><br><br>P/N=Positivos<br>Year=2018<br>Question=%{x}<br>Percentage=%{y}<extra></extra>",
         "hovertext": [
          "Aspecto Visual",
          "Navegação na Ferramenta",
          "Perguntas",
          "Exemplos",
          "Vídeos",
          "Modelo de Negócios",
          "Indicações de Interface",
          "Mural de Equipa",
          "Gestão de Equipa",
          "Gestão de Projectos"
         ],
         "legendgroup": "Positivos",
         "marker": {
          "color": "#636efa"
         },
         "name": "Positivos",
         "offsetgroup": "Positivos",
         "orientation": "v",
         "showlegend": true,
         "textposition": "auto",
         "type": "bar",
         "x": [
          "Aspecto Visual",
          "Navegação na Ferramenta",
          "Perguntas",
          "Exemplos",
          "Vídeos",
          "Modelo de Negócios",
          "Indicações de Interface",
          "Mural de Equipa",
          "Gestão de Equipa",
          "Gestão de Projectos"
         ],
         "xaxis": "x",
         "y": [
          0.5357142857142857,
          0.6571428571428571,
          0.30178571428571427,
          0.4392857142857143,
          0.5035714285714286,
          0.5964285714285714,
          0.26607142857142857,
          0.05178571428571429,
          0.13035714285714287,
          0.3678571428571429
         ],
         "yaxis": "y"
        },
        {
         "alignmentgroup": "True",
         "hovertemplate": "<b>%{hovertext}</b><br><br>P/N=Negativos<br>Year=2018<br>Question=%{x}<br>Percentage=%{y}<extra></extra>",
         "hovertext": [
          "Aspecto Visual",
          "Navegação na Ferramenta",
          "Perguntas",
          "Exemplos",
          "Vídeos",
          "Modelo de Negócios",
          "Indicações de Interface",
          "Mural de Equipa",
          "Gestão de Equipa",
          "Gestão de Projectos"
         ],
         "legendgroup": "Negativos",
         "marker": {
          "color": "#EF553B"
         },
         "name": "Negativos",
         "offsetgroup": "Negativos",
         "orientation": "v",
         "showlegend": true,
         "textposition": "auto",
         "type": "bar",
         "x": [
          "Aspecto Visual",
          "Navegação na Ferramenta",
          "Perguntas",
          "Exemplos",
          "Vídeos",
          "Modelo de Negócios",
          "Indicações de Interface",
          "Mural de Equipa",
          "Gestão de Equipa",
          "Gestão de Projectos"
         ],
         "xaxis": "x",
         "y": [
          0.16428571428571428,
          0.16964285714285715,
          0.25535714285714284,
          0.30892857142857144,
          0.19642857142857142,
          0.07678571428571429,
          0.31785714285714284,
          0.2892857142857143,
          0.1732142857142857,
          0.10535714285714286
         ],
         "yaxis": "y"
        }
       ],
       "layout": {
        "barmode": "group",
        "legend": {
         "title": {
          "text": "P/N"
         },
         "tracegroupgap": 0
        },
        "margin": {
         "t": 60
        },
        "template": {
         "data": {
          "bar": [
           {
            "error_x": {
             "color": "#2a3f5f"
            },
            "error_y": {
             "color": "#2a3f5f"
            },
            "marker": {
             "line": {
              "color": "#E5ECF6",
              "width": 0.5
             }
            },
            "type": "bar"
           }
          ],
          "barpolar": [
           {
            "marker": {
             "line": {
              "color": "#E5ECF6",
              "width": 0.5
             }
            },
            "type": "barpolar"
           }
          ],
          "carpet": [
           {
            "aaxis": {
             "endlinecolor": "#2a3f5f",
             "gridcolor": "white",
             "linecolor": "white",
             "minorgridcolor": "white",
             "startlinecolor": "#2a3f5f"
            },
            "baxis": {
             "endlinecolor": "#2a3f5f",
             "gridcolor": "white",
             "linecolor": "white",
             "minorgridcolor": "white",
             "startlinecolor": "#2a3f5f"
            },
            "type": "carpet"
           }
          ],
          "choropleth": [
           {
            "colorbar": {
             "outlinewidth": 0,
             "ticks": ""
            },
            "type": "choropleth"
           }
          ],
          "contour": [
           {
            "colorbar": {
             "outlinewidth": 0,
             "ticks": ""
            },
            "colorscale": [
             [
              0,
              "#0d0887"
             ],
             [
              0.1111111111111111,
              "#46039f"
             ],
             [
              0.2222222222222222,
              "#7201a8"
             ],
             [
              0.3333333333333333,
              "#9c179e"
             ],
             [
              0.4444444444444444,
              "#bd3786"
             ],
             [
              0.5555555555555556,
              "#d8576b"
             ],
             [
              0.6666666666666666,
              "#ed7953"
             ],
             [
              0.7777777777777778,
              "#fb9f3a"
             ],
             [
              0.8888888888888888,
              "#fdca26"
             ],
             [
              1,
              "#f0f921"
             ]
            ],
            "type": "contour"
           }
          ],
          "contourcarpet": [
           {
            "colorbar": {
             "outlinewidth": 0,
             "ticks": ""
            },
            "type": "contourcarpet"
           }
          ],
          "heatmap": [
           {
            "colorbar": {
             "outlinewidth": 0,
             "ticks": ""
            },
            "colorscale": [
             [
              0,
              "#0d0887"
             ],
             [
              0.1111111111111111,
              "#46039f"
             ],
             [
              0.2222222222222222,
              "#7201a8"
             ],
             [
              0.3333333333333333,
              "#9c179e"
             ],
             [
              0.4444444444444444,
              "#bd3786"
             ],
             [
              0.5555555555555556,
              "#d8576b"
             ],
             [
              0.6666666666666666,
              "#ed7953"
             ],
             [
              0.7777777777777778,
              "#fb9f3a"
             ],
             [
              0.8888888888888888,
              "#fdca26"
             ],
             [
              1,
              "#f0f921"
             ]
            ],
            "type": "heatmap"
           }
          ],
          "heatmapgl": [
           {
            "colorbar": {
             "outlinewidth": 0,
             "ticks": ""
            },
            "colorscale": [
             [
              0,
              "#0d0887"
             ],
             [
              0.1111111111111111,
              "#46039f"
             ],
             [
              0.2222222222222222,
              "#7201a8"
             ],
             [
              0.3333333333333333,
              "#9c179e"
             ],
             [
              0.4444444444444444,
              "#bd3786"
             ],
             [
              0.5555555555555556,
              "#d8576b"
             ],
             [
              0.6666666666666666,
              "#ed7953"
             ],
             [
              0.7777777777777778,
              "#fb9f3a"
             ],
             [
              0.8888888888888888,
              "#fdca26"
             ],
             [
              1,
              "#f0f921"
             ]
            ],
            "type": "heatmapgl"
           }
          ],
          "histogram": [
           {
            "marker": {
             "colorbar": {
              "outlinewidth": 0,
              "ticks": ""
             }
            },
            "type": "histogram"
           }
          ],
          "histogram2d": [
           {
            "colorbar": {
             "outlinewidth": 0,
             "ticks": ""
            },
            "colorscale": [
             [
              0,
              "#0d0887"
             ],
             [
              0.1111111111111111,
              "#46039f"
             ],
             [
              0.2222222222222222,
              "#7201a8"
             ],
             [
              0.3333333333333333,
              "#9c179e"
             ],
             [
              0.4444444444444444,
              "#bd3786"
             ],
             [
              0.5555555555555556,
              "#d8576b"
             ],
             [
              0.6666666666666666,
              "#ed7953"
             ],
             [
              0.7777777777777778,
              "#fb9f3a"
             ],
             [
              0.8888888888888888,
              "#fdca26"
             ],
             [
              1,
              "#f0f921"
             ]
            ],
            "type": "histogram2d"
           }
          ],
          "histogram2dcontour": [
           {
            "colorbar": {
             "outlinewidth": 0,
             "ticks": ""
            },
            "colorscale": [
             [
              0,
              "#0d0887"
             ],
             [
              0.1111111111111111,
              "#46039f"
             ],
             [
              0.2222222222222222,
              "#7201a8"
             ],
             [
              0.3333333333333333,
              "#9c179e"
             ],
             [
              0.4444444444444444,
              "#bd3786"
             ],
             [
              0.5555555555555556,
              "#d8576b"
             ],
             [
              0.6666666666666666,
              "#ed7953"
             ],
             [
              0.7777777777777778,
              "#fb9f3a"
             ],
             [
              0.8888888888888888,
              "#fdca26"
             ],
             [
              1,
              "#f0f921"
             ]
            ],
            "type": "histogram2dcontour"
           }
          ],
          "mesh3d": [
           {
            "colorbar": {
             "outlinewidth": 0,
             "ticks": ""
            },
            "type": "mesh3d"
           }
          ],
          "parcoords": [
           {
            "line": {
             "colorbar": {
              "outlinewidth": 0,
              "ticks": ""
             }
            },
            "type": "parcoords"
           }
          ],
          "pie": [
           {
            "automargin": true,
            "type": "pie"
           }
          ],
          "scatter": [
           {
            "marker": {
             "colorbar": {
              "outlinewidth": 0,
              "ticks": ""
             }
            },
            "type": "scatter"
           }
          ],
          "scatter3d": [
           {
            "line": {
             "colorbar": {
              "outlinewidth": 0,
              "ticks": ""
             }
            },
            "marker": {
             "colorbar": {
              "outlinewidth": 0,
              "ticks": ""
             }
            },
            "type": "scatter3d"
           }
          ],
          "scattercarpet": [
           {
            "marker": {
             "colorbar": {
              "outlinewidth": 0,
              "ticks": ""
             }
            },
            "type": "scattercarpet"
           }
          ],
          "scattergeo": [
           {
            "marker": {
             "colorbar": {
              "outlinewidth": 0,
              "ticks": ""
             }
            },
            "type": "scattergeo"
           }
          ],
          "scattergl": [
           {
            "marker": {
             "colorbar": {
              "outlinewidth": 0,
              "ticks": ""
             }
            },
            "type": "scattergl"
           }
          ],
          "scattermapbox": [
           {
            "marker": {
             "colorbar": {
              "outlinewidth": 0,
              "ticks": ""
             }
            },
            "type": "scattermapbox"
           }
          ],
          "scatterpolar": [
           {
            "marker": {
             "colorbar": {
              "outlinewidth": 0,
              "ticks": ""
             }
            },
            "type": "scatterpolar"
           }
          ],
          "scatterpolargl": [
           {
            "marker": {
             "colorbar": {
              "outlinewidth": 0,
              "ticks": ""
             }
            },
            "type": "scatterpolargl"
           }
          ],
          "scatterternary": [
           {
            "marker": {
             "colorbar": {
              "outlinewidth": 0,
              "ticks": ""
             }
            },
            "type": "scatterternary"
           }
          ],
          "surface": [
           {
            "colorbar": {
             "outlinewidth": 0,
             "ticks": ""
            },
            "colorscale": [
             [
              0,
              "#0d0887"
             ],
             [
              0.1111111111111111,
              "#46039f"
             ],
             [
              0.2222222222222222,
              "#7201a8"
             ],
             [
              0.3333333333333333,
              "#9c179e"
             ],
             [
              0.4444444444444444,
              "#bd3786"
             ],
             [
              0.5555555555555556,
              "#d8576b"
             ],
             [
              0.6666666666666666,
              "#ed7953"
             ],
             [
              0.7777777777777778,
              "#fb9f3a"
             ],
             [
              0.8888888888888888,
              "#fdca26"
             ],
             [
              1,
              "#f0f921"
             ]
            ],
            "type": "surface"
           }
          ],
          "table": [
           {
            "cells": {
             "fill": {
              "color": "#EBF0F8"
             },
             "line": {
              "color": "white"
             }
            },
            "header": {
             "fill": {
              "color": "#C8D4E3"
             },
             "line": {
              "color": "white"
             }
            },
            "type": "table"
           }
          ]
         },
         "layout": {
          "annotationdefaults": {
           "arrowcolor": "#2a3f5f",
           "arrowhead": 0,
           "arrowwidth": 1
          },
          "coloraxis": {
           "colorbar": {
            "outlinewidth": 0,
            "ticks": ""
           }
          },
          "colorscale": {
           "diverging": [
            [
             0,
             "#8e0152"
            ],
            [
             0.1,
             "#c51b7d"
            ],
            [
             0.2,
             "#de77ae"
            ],
            [
             0.3,
             "#f1b6da"
            ],
            [
             0.4,
             "#fde0ef"
            ],
            [
             0.5,
             "#f7f7f7"
            ],
            [
             0.6,
             "#e6f5d0"
            ],
            [
             0.7,
             "#b8e186"
            ],
            [
             0.8,
             "#7fbc41"
            ],
            [
             0.9,
             "#4d9221"
            ],
            [
             1,
             "#276419"
            ]
           ],
           "sequential": [
            [
             0,
             "#0d0887"
            ],
            [
             0.1111111111111111,
             "#46039f"
            ],
            [
             0.2222222222222222,
             "#7201a8"
            ],
            [
             0.3333333333333333,
             "#9c179e"
            ],
            [
             0.4444444444444444,
             "#bd3786"
            ],
            [
             0.5555555555555556,
             "#d8576b"
            ],
            [
             0.6666666666666666,
             "#ed7953"
            ],
            [
             0.7777777777777778,
             "#fb9f3a"
            ],
            [
             0.8888888888888888,
             "#fdca26"
            ],
            [
             1,
             "#f0f921"
            ]
           ],
           "sequentialminus": [
            [
             0,
             "#0d0887"
            ],
            [
             0.1111111111111111,
             "#46039f"
            ],
            [
             0.2222222222222222,
             "#7201a8"
            ],
            [
             0.3333333333333333,
             "#9c179e"
            ],
            [
             0.4444444444444444,
             "#bd3786"
            ],
            [
             0.5555555555555556,
             "#d8576b"
            ],
            [
             0.6666666666666666,
             "#ed7953"
            ],
            [
             0.7777777777777778,
             "#fb9f3a"
            ],
            [
             0.8888888888888888,
             "#fdca26"
            ],
            [
             1,
             "#f0f921"
            ]
           ]
          },
          "colorway": [
           "#636efa",
           "#EF553B",
           "#00cc96",
           "#ab63fa",
           "#FFA15A",
           "#19d3f3",
           "#FF6692",
           "#B6E880",
           "#FF97FF",
           "#FECB52"
          ],
          "font": {
           "color": "#2a3f5f"
          },
          "geo": {
           "bgcolor": "white",
           "lakecolor": "white",
           "landcolor": "#E5ECF6",
           "showlakes": true,
           "showland": true,
           "subunitcolor": "white"
          },
          "hoverlabel": {
           "align": "left"
          },
          "hovermode": "closest",
          "mapbox": {
           "style": "light"
          },
          "paper_bgcolor": "white",
          "plot_bgcolor": "#E5ECF6",
          "polar": {
           "angularaxis": {
            "gridcolor": "white",
            "linecolor": "white",
            "ticks": ""
           },
           "bgcolor": "#E5ECF6",
           "radialaxis": {
            "gridcolor": "white",
            "linecolor": "white",
            "ticks": ""
           }
          },
          "scene": {
           "xaxis": {
            "backgroundcolor": "#E5ECF6",
            "gridcolor": "white",
            "gridwidth": 2,
            "linecolor": "white",
            "showbackground": true,
            "ticks": "",
            "zerolinecolor": "white"
           },
           "yaxis": {
            "backgroundcolor": "#E5ECF6",
            "gridcolor": "white",
            "gridwidth": 2,
            "linecolor": "white",
            "showbackground": true,
            "ticks": "",
            "zerolinecolor": "white"
           },
           "zaxis": {
            "backgroundcolor": "#E5ECF6",
            "gridcolor": "white",
            "gridwidth": 2,
            "linecolor": "white",
            "showbackground": true,
            "ticks": "",
            "zerolinecolor": "white"
           }
          },
          "shapedefaults": {
           "line": {
            "color": "#2a3f5f"
           }
          },
          "ternary": {
           "aaxis": {
            "gridcolor": "white",
            "linecolor": "white",
            "ticks": ""
           },
           "baxis": {
            "gridcolor": "white",
            "linecolor": "white",
            "ticks": ""
           },
           "bgcolor": "#E5ECF6",
           "caxis": {
            "gridcolor": "white",
            "linecolor": "white",
            "ticks": ""
           }
          },
          "title": {
           "x": 0.05
          },
          "xaxis": {
           "automargin": true,
           "gridcolor": "white",
           "linecolor": "white",
           "ticks": "",
           "title": {
            "standoff": 15
           },
           "zerolinecolor": "white",
           "zerolinewidth": 2
          },
          "yaxis": {
           "automargin": true,
           "gridcolor": "white",
           "linecolor": "white",
           "ticks": "",
           "title": {
            "standoff": 15
           },
           "zerolinecolor": "white",
           "zerolinewidth": 2
          }
         }
        },
        "title": {
         "text": "Positive/Negative Features - Positive Outcome  - 2017/2018"
        },
        "xaxis": {
         "anchor": "y",
         "domain": [
          0,
          1
         ],
         "title": {
          "text": "Question"
         },
         "type": "category"
        },
        "yaxis": {
         "anchor": "x",
         "domain": [
          0,
          1
         ],
         "range": [
          0,
          1
         ],
         "title": {
          "text": "Percentage"
         }
        }
       }
      },
      "text/html": [
       "<div>                            <div id=\"f2cbd880-1663-4fd2-b1eb-947d93b7f590\" class=\"plotly-graph-div\" style=\"height:525px; width:100%;\"></div>            <script type=\"text/javascript\">                require([\"plotly\"], function(Plotly) {                    window.PLOTLYENV=window.PLOTLYENV || {};                                    if (document.getElementById(\"f2cbd880-1663-4fd2-b1eb-947d93b7f590\")) {                    Plotly.newPlot(                        \"f2cbd880-1663-4fd2-b1eb-947d93b7f590\",                        [{\"alignmentgroup\": \"True\", \"hovertemplate\": \"<b>%{hovertext}</b><br><br>P/N=Positivos<br>Year=2018<br>Question=%{x}<br>Percentage=%{y}<extra></extra>\", \"hovertext\": [\"Aspecto Visual\", \"Navega\\u00e7\\u00e3o na Ferramenta\", \"Perguntas\", \"Exemplos\", \"V\\u00eddeos\", \"Modelo de Neg\\u00f3cios\", \"Indica\\u00e7\\u00f5es de Interface\", \"Mural de Equipa\", \"Gest\\u00e3o de Equipa\", \"Gest\\u00e3o de Projectos\"], \"legendgroup\": \"Positivos\", \"marker\": {\"color\": \"#636efa\"}, \"name\": \"Positivos\", \"offsetgroup\": \"Positivos\", \"orientation\": \"v\", \"showlegend\": true, \"textposition\": \"auto\", \"type\": \"bar\", \"x\": [\"Aspecto Visual\", \"Navega\\u00e7\\u00e3o na Ferramenta\", \"Perguntas\", \"Exemplos\", \"V\\u00eddeos\", \"Modelo de Neg\\u00f3cios\", \"Indica\\u00e7\\u00f5es de Interface\", \"Mural de Equipa\", \"Gest\\u00e3o de Equipa\", \"Gest\\u00e3o de Projectos\"], \"xaxis\": \"x\", \"y\": [0.5357142857142857, 0.6571428571428571, 0.30178571428571427, 0.4392857142857143, 0.5035714285714286, 0.5964285714285714, 0.26607142857142857, 0.05178571428571429, 0.13035714285714287, 0.3678571428571429], \"yaxis\": \"y\"}, {\"alignmentgroup\": \"True\", \"hovertemplate\": \"<b>%{hovertext}</b><br><br>P/N=Negativos<br>Year=2018<br>Question=%{x}<br>Percentage=%{y}<extra></extra>\", \"hovertext\": [\"Aspecto Visual\", \"Navega\\u00e7\\u00e3o na Ferramenta\", \"Perguntas\", \"Exemplos\", \"V\\u00eddeos\", \"Modelo de Neg\\u00f3cios\", \"Indica\\u00e7\\u00f5es de Interface\", \"Mural de Equipa\", \"Gest\\u00e3o de Equipa\", \"Gest\\u00e3o de Projectos\"], \"legendgroup\": \"Negativos\", \"marker\": {\"color\": \"#EF553B\"}, \"name\": \"Negativos\", \"offsetgroup\": \"Negativos\", \"orientation\": \"v\", \"showlegend\": true, \"textposition\": \"auto\", \"type\": \"bar\", \"x\": [\"Aspecto Visual\", \"Navega\\u00e7\\u00e3o na Ferramenta\", \"Perguntas\", \"Exemplos\", \"V\\u00eddeos\", \"Modelo de Neg\\u00f3cios\", \"Indica\\u00e7\\u00f5es de Interface\", \"Mural de Equipa\", \"Gest\\u00e3o de Equipa\", \"Gest\\u00e3o de Projectos\"], \"xaxis\": \"x\", \"y\": [0.16428571428571428, 0.16964285714285715, 0.25535714285714284, 0.30892857142857144, 0.19642857142857142, 0.07678571428571429, 0.31785714285714284, 0.2892857142857143, 0.1732142857142857, 0.10535714285714286], \"yaxis\": \"y\"}],                        {\"barmode\": \"group\", \"legend\": {\"title\": {\"text\": \"P/N\"}, \"tracegroupgap\": 0}, \"margin\": {\"t\": 60}, \"template\": {\"data\": {\"bar\": [{\"error_x\": {\"color\": \"#2a3f5f\"}, \"error_y\": {\"color\": \"#2a3f5f\"}, \"marker\": {\"line\": {\"color\": \"#E5ECF6\", \"width\": 0.5}}, \"type\": \"bar\"}], \"barpolar\": [{\"marker\": {\"line\": {\"color\": \"#E5ECF6\", \"width\": 0.5}}, \"type\": \"barpolar\"}], \"carpet\": [{\"aaxis\": {\"endlinecolor\": \"#2a3f5f\", \"gridcolor\": \"white\", \"linecolor\": \"white\", \"minorgridcolor\": \"white\", \"startlinecolor\": \"#2a3f5f\"}, \"baxis\": {\"endlinecolor\": \"#2a3f5f\", \"gridcolor\": \"white\", \"linecolor\": \"white\", \"minorgridcolor\": \"white\", \"startlinecolor\": \"#2a3f5f\"}, \"type\": \"carpet\"}], \"choropleth\": [{\"colorbar\": {\"outlinewidth\": 0, \"ticks\": \"\"}, \"type\": \"choropleth\"}], \"contour\": [{\"colorbar\": {\"outlinewidth\": 0, \"ticks\": \"\"}, \"colorscale\": [[0.0, \"#0d0887\"], [0.1111111111111111, \"#46039f\"], [0.2222222222222222, \"#7201a8\"], [0.3333333333333333, \"#9c179e\"], [0.4444444444444444, \"#bd3786\"], [0.5555555555555556, \"#d8576b\"], [0.6666666666666666, \"#ed7953\"], [0.7777777777777778, \"#fb9f3a\"], [0.8888888888888888, \"#fdca26\"], [1.0, \"#f0f921\"]], \"type\": \"contour\"}], \"contourcarpet\": [{\"colorbar\": {\"outlinewidth\": 0, \"ticks\": \"\"}, \"type\": \"contourcarpet\"}], \"heatmap\": [{\"colorbar\": {\"outlinewidth\": 0, \"ticks\": \"\"}, \"colorscale\": [[0.0, \"#0d0887\"], [0.1111111111111111, \"#46039f\"], [0.2222222222222222, \"#7201a8\"], [0.3333333333333333, \"#9c179e\"], [0.4444444444444444, \"#bd3786\"], [0.5555555555555556, \"#d8576b\"], [0.6666666666666666, \"#ed7953\"], [0.7777777777777778, \"#fb9f3a\"], [0.8888888888888888, \"#fdca26\"], [1.0, \"#f0f921\"]], \"type\": \"heatmap\"}], \"heatmapgl\": [{\"colorbar\": {\"outlinewidth\": 0, \"ticks\": \"\"}, \"colorscale\": [[0.0, \"#0d0887\"], [0.1111111111111111, \"#46039f\"], [0.2222222222222222, \"#7201a8\"], [0.3333333333333333, \"#9c179e\"], [0.4444444444444444, \"#bd3786\"], [0.5555555555555556, \"#d8576b\"], [0.6666666666666666, \"#ed7953\"], [0.7777777777777778, \"#fb9f3a\"], [0.8888888888888888, \"#fdca26\"], [1.0, \"#f0f921\"]], \"type\": \"heatmapgl\"}], \"histogram\": [{\"marker\": {\"colorbar\": {\"outlinewidth\": 0, \"ticks\": \"\"}}, \"type\": \"histogram\"}], \"histogram2d\": [{\"colorbar\": {\"outlinewidth\": 0, \"ticks\": \"\"}, \"colorscale\": [[0.0, \"#0d0887\"], [0.1111111111111111, \"#46039f\"], [0.2222222222222222, \"#7201a8\"], [0.3333333333333333, \"#9c179e\"], [0.4444444444444444, \"#bd3786\"], [0.5555555555555556, \"#d8576b\"], [0.6666666666666666, \"#ed7953\"], [0.7777777777777778, \"#fb9f3a\"], [0.8888888888888888, \"#fdca26\"], [1.0, \"#f0f921\"]], \"type\": \"histogram2d\"}], \"histogram2dcontour\": [{\"colorbar\": {\"outlinewidth\": 0, \"ticks\": \"\"}, \"colorscale\": [[0.0, \"#0d0887\"], [0.1111111111111111, \"#46039f\"], [0.2222222222222222, \"#7201a8\"], [0.3333333333333333, \"#9c179e\"], [0.4444444444444444, \"#bd3786\"], [0.5555555555555556, \"#d8576b\"], [0.6666666666666666, \"#ed7953\"], [0.7777777777777778, \"#fb9f3a\"], [0.8888888888888888, \"#fdca26\"], [1.0, \"#f0f921\"]], \"type\": \"histogram2dcontour\"}], \"mesh3d\": [{\"colorbar\": {\"outlinewidth\": 0, \"ticks\": \"\"}, \"type\": \"mesh3d\"}], \"parcoords\": [{\"line\": {\"colorbar\": {\"outlinewidth\": 0, \"ticks\": \"\"}}, \"type\": \"parcoords\"}], \"pie\": [{\"automargin\": true, \"type\": \"pie\"}], \"scatter\": [{\"marker\": {\"colorbar\": {\"outlinewidth\": 0, \"ticks\": \"\"}}, \"type\": \"scatter\"}], \"scatter3d\": [{\"line\": {\"colorbar\": {\"outlinewidth\": 0, \"ticks\": \"\"}}, \"marker\": {\"colorbar\": {\"outlinewidth\": 0, \"ticks\": \"\"}}, \"type\": \"scatter3d\"}], \"scattercarpet\": [{\"marker\": {\"colorbar\": {\"outlinewidth\": 0, \"ticks\": \"\"}}, \"type\": \"scattercarpet\"}], \"scattergeo\": [{\"marker\": {\"colorbar\": {\"outlinewidth\": 0, \"ticks\": \"\"}}, \"type\": \"scattergeo\"}], \"scattergl\": [{\"marker\": {\"colorbar\": {\"outlinewidth\": 0, \"ticks\": \"\"}}, \"type\": \"scattergl\"}], \"scattermapbox\": [{\"marker\": {\"colorbar\": {\"outlinewidth\": 0, \"ticks\": \"\"}}, \"type\": \"scattermapbox\"}], \"scatterpolar\": [{\"marker\": {\"colorbar\": {\"outlinewidth\": 0, \"ticks\": \"\"}}, \"type\": \"scatterpolar\"}], \"scatterpolargl\": [{\"marker\": {\"colorbar\": {\"outlinewidth\": 0, \"ticks\": \"\"}}, \"type\": \"scatterpolargl\"}], \"scatterternary\": [{\"marker\": {\"colorbar\": {\"outlinewidth\": 0, \"ticks\": \"\"}}, \"type\": \"scatterternary\"}], \"surface\": [{\"colorbar\": {\"outlinewidth\": 0, \"ticks\": \"\"}, \"colorscale\": [[0.0, \"#0d0887\"], [0.1111111111111111, \"#46039f\"], [0.2222222222222222, \"#7201a8\"], [0.3333333333333333, \"#9c179e\"], [0.4444444444444444, \"#bd3786\"], [0.5555555555555556, \"#d8576b\"], [0.6666666666666666, \"#ed7953\"], [0.7777777777777778, \"#fb9f3a\"], [0.8888888888888888, \"#fdca26\"], [1.0, \"#f0f921\"]], \"type\": \"surface\"}], \"table\": [{\"cells\": {\"fill\": {\"color\": \"#EBF0F8\"}, \"line\": {\"color\": \"white\"}}, \"header\": {\"fill\": {\"color\": \"#C8D4E3\"}, \"line\": {\"color\": \"white\"}}, \"type\": \"table\"}]}, \"layout\": {\"annotationdefaults\": {\"arrowcolor\": \"#2a3f5f\", \"arrowhead\": 0, \"arrowwidth\": 1}, \"coloraxis\": {\"colorbar\": {\"outlinewidth\": 0, \"ticks\": \"\"}}, \"colorscale\": {\"diverging\": [[0, \"#8e0152\"], [0.1, \"#c51b7d\"], [0.2, \"#de77ae\"], [0.3, \"#f1b6da\"], [0.4, \"#fde0ef\"], [0.5, \"#f7f7f7\"], [0.6, \"#e6f5d0\"], [0.7, \"#b8e186\"], [0.8, \"#7fbc41\"], [0.9, \"#4d9221\"], [1, \"#276419\"]], \"sequential\": [[0.0, \"#0d0887\"], [0.1111111111111111, \"#46039f\"], [0.2222222222222222, \"#7201a8\"], [0.3333333333333333, \"#9c179e\"], [0.4444444444444444, \"#bd3786\"], [0.5555555555555556, \"#d8576b\"], [0.6666666666666666, \"#ed7953\"], [0.7777777777777778, \"#fb9f3a\"], [0.8888888888888888, \"#fdca26\"], [1.0, \"#f0f921\"]], \"sequentialminus\": [[0.0, \"#0d0887\"], [0.1111111111111111, \"#46039f\"], [0.2222222222222222, \"#7201a8\"], [0.3333333333333333, \"#9c179e\"], [0.4444444444444444, \"#bd3786\"], [0.5555555555555556, \"#d8576b\"], [0.6666666666666666, \"#ed7953\"], [0.7777777777777778, \"#fb9f3a\"], [0.8888888888888888, \"#fdca26\"], [1.0, \"#f0f921\"]]}, \"colorway\": [\"#636efa\", \"#EF553B\", \"#00cc96\", \"#ab63fa\", \"#FFA15A\", \"#19d3f3\", \"#FF6692\", \"#B6E880\", \"#FF97FF\", \"#FECB52\"], \"font\": {\"color\": \"#2a3f5f\"}, \"geo\": {\"bgcolor\": \"white\", \"lakecolor\": \"white\", \"landcolor\": \"#E5ECF6\", \"showlakes\": true, \"showland\": true, \"subunitcolor\": \"white\"}, \"hoverlabel\": {\"align\": \"left\"}, \"hovermode\": \"closest\", \"mapbox\": {\"style\": \"light\"}, \"paper_bgcolor\": \"white\", \"plot_bgcolor\": \"#E5ECF6\", \"polar\": {\"angularaxis\": {\"gridcolor\": \"white\", \"linecolor\": \"white\", \"ticks\": \"\"}, \"bgcolor\": \"#E5ECF6\", \"radialaxis\": {\"gridcolor\": \"white\", \"linecolor\": \"white\", \"ticks\": \"\"}}, \"scene\": {\"xaxis\": {\"backgroundcolor\": \"#E5ECF6\", \"gridcolor\": \"white\", \"gridwidth\": 2, \"linecolor\": \"white\", \"showbackground\": true, \"ticks\": \"\", \"zerolinecolor\": \"white\"}, \"yaxis\": {\"backgroundcolor\": \"#E5ECF6\", \"gridcolor\": \"white\", \"gridwidth\": 2, \"linecolor\": \"white\", \"showbackground\": true, \"ticks\": \"\", \"zerolinecolor\": \"white\"}, \"zaxis\": {\"backgroundcolor\": \"#E5ECF6\", \"gridcolor\": \"white\", \"gridwidth\": 2, \"linecolor\": \"white\", \"showbackground\": true, \"ticks\": \"\", \"zerolinecolor\": \"white\"}}, \"shapedefaults\": {\"line\": {\"color\": \"#2a3f5f\"}}, \"ternary\": {\"aaxis\": {\"gridcolor\": \"white\", \"linecolor\": \"white\", \"ticks\": \"\"}, \"baxis\": {\"gridcolor\": \"white\", \"linecolor\": \"white\", \"ticks\": \"\"}, \"bgcolor\": \"#E5ECF6\", \"caxis\": {\"gridcolor\": \"white\", \"linecolor\": \"white\", \"ticks\": \"\"}}, \"title\": {\"x\": 0.05}, \"xaxis\": {\"automargin\": true, \"gridcolor\": \"white\", \"linecolor\": \"white\", \"ticks\": \"\", \"title\": {\"standoff\": 15}, \"zerolinecolor\": \"white\", \"zerolinewidth\": 2}, \"yaxis\": {\"automargin\": true, \"gridcolor\": \"white\", \"linecolor\": \"white\", \"ticks\": \"\", \"title\": {\"standoff\": 15}, \"zerolinecolor\": \"white\", \"zerolinewidth\": 2}}}, \"title\": {\"text\": \"Positive/Negative Features - Positive Outcome  - 2017/2018\"}, \"xaxis\": {\"anchor\": \"y\", \"domain\": [0.0, 1.0], \"title\": {\"text\": \"Question\"}, \"type\": \"category\"}, \"yaxis\": {\"anchor\": \"x\", \"domain\": [0.0, 1.0], \"range\": [0, 1], \"title\": {\"text\": \"Percentage\"}}},                        {\"responsive\": true}                    ).then(function(){\n",
       "                            \n",
       "var gd = document.getElementById('f2cbd880-1663-4fd2-b1eb-947d93b7f590');\n",
       "var x = new MutationObserver(function (mutations, observer) {{\n",
       "        var display = window.getComputedStyle(gd).display;\n",
       "        if (!display || display === 'none') {{\n",
       "            console.log([gd, 'removed!']);\n",
       "            Plotly.purge(gd);\n",
       "            observer.disconnect();\n",
       "        }}\n",
       "}});\n",
       "\n",
       "// Listen for the removal of the full notebook cells\n",
       "var notebookContainer = gd.closest('#notebook-container');\n",
       "if (notebookContainer) {{\n",
       "    x.observe(notebookContainer, {childList: true});\n",
       "}}\n",
       "\n",
       "// Listen for the clearing of the current output cell\n",
       "var outputEl = gd.closest('.output');\n",
       "if (outputEl) {{\n",
       "    x.observe(outputEl, {childList: true});\n",
       "}}\n",
       "\n",
       "                        })                };                });            </script>        </div>"
      ]
     },
     "metadata": {},
     "output_type": "display_data"
    }
   ],
   "source": [
    "\n",
    "del Ano20172018PO['Está satisfeito com a ferramenta DreamShaper?']\n",
    "del Ano20172018PO['Quanto aprendeu com a DreamShaper?']\n",
    "del Ano20172018PO['Quanto aprendeu com a DreamShaper?Encod']\n",
    "\n",
    "\n",
    "Ano20172018POSum=Ano20172018PO.sum(axis = 0, skipna = True) \n",
    "Ano20172018POSum = pd.DataFrame(Ano20172018POSum)\n",
    "Ano20172018POSum['Year'] = 2018\n",
    "Ano20172018POSum.reset_index(level=0, inplace=True)\n",
    "Ano20172018POSum.columns=[['Question', 'Counts', 'Year']]\n",
    "Ano20172018POSum['population'] = 560\n",
    "\n",
    "Ano20172018POSum.to_csv(r'Data/PositivosNegativosStandardized/Ano20172018POSum.csv', index = False)\n",
    "Ano20172018POSum = pd.read_csv('Data/PositivosNegativosStandardized/Ano20172018POSum.csv', sep=',')\n",
    "Ano20172018POSum['Percentage'] = Ano20172018POSum['Counts']/Ano20172018POSum['population']\n",
    "Ano20172018POSum.to_csv(r'Data/PositivosNegativosStandardized/Ano20172018POSum.csv', index = False)\n",
    "\n",
    "\n",
    "\n",
    "Ano20172018POSum[['P/N','Question']] = Ano20172018POSum.Question.str.split(\":\",expand=True) \n",
    "\n",
    "import plotly_express as px\n",
    "\n",
    "fig = px.bar(Ano20172018POSum, x=\"Question\", y=\"Percentage\", color='P/N', barmode='group',\n",
    "            animation_frame='Year', hover_name='Question', range_y=[0,1])\n",
    "fig.update_layout(title_text='Positive/Negative Features - Positive Outcome  - 2017/2018')\n",
    "fig.update_layout(xaxis_type='category')\n",
    "\n",
    "\n",
    "fig.show()\n",
    "fig.write_image('Outputs/ImageOutputsYear/figurePosNegLiked20172018.png')\n",
    "\n"
   ]
  },
  {
   "cell_type": "code",
   "execution_count": 90,
   "metadata": {},
   "outputs": [
    {
     "data": {
      "image/png": "[encoded data removed]",
      "text/plain": [
       "<IPython.core.display.Image object>"
      ]
     },
     "execution_count": 90,
     "metadata": {},
     "output_type": "execute_result"
    }
   ],
   "source": [
    "from IPython.display import Image\n",
    "Image(filename='Outputs/ImageOutputsYear/figurePosNegLiked20172018.png')\n",
    "\n"
   ]
  },
  {
   "cell_type": "code",
   "execution_count": null,
   "metadata": {},
   "outputs": [],
   "source": []
  },
  {
   "cell_type": "markdown",
   "metadata": {},
   "source": [
    "## Negative Outcome \n",
    "* [Back to TOC](#backtoc)\n"
   ]
  },
  {
   "cell_type": "code",
   "execution_count": 91,
   "metadata": {},
   "outputs": [
    {
     "data": {
      "text/plain": [
       "(4, 20)"
      ]
     },
     "execution_count": 91,
     "metadata": {},
     "output_type": "execute_result"
    }
   ],
   "source": [
    "Ano20172018NO = Ano20172018.copy()\n",
    "#subset for positive outcome and negative learning\n",
    "Ano20172018NO = Ano20172018NO[Ano20172018NO['Está satisfeito com a ferramenta DreamShaper?'] == 1]\n",
    "\n",
    "del Ano20172018NO['Está satisfeito com a ferramenta DreamShaper?']\n",
    "del Ano20172018NO['Quanto aprendeu com a DreamShaper?']\n",
    "del Ano20172018NO['Quanto aprendeu com a DreamShaper?Encod']\n",
    "\n",
    "\n",
    "Ano20172018NO.shape\n"
   ]
  },
  {
   "cell_type": "code",
   "execution_count": 92,
   "metadata": {},
   "outputs": [
    {
     "data": {
      "application/vnd.plotly.v1+json": {
       "config": {
        "plotlyServerURL": "https://plot.ly"
       },
       "data": [
        {
         "alignmentgroup": "True",
         "hovertemplate": "<b>%{hovertext}</b><br><br>P/N=Positivos<br>Year=2018<br>Question=%{x}<br>Percentage=%{y}<extra></extra>",
         "hovertext": [
          "Aspecto Visual",
          "Navegação na Ferramenta",
          "Perguntas",
          "Exemplos",
          "Vídeos",
          "Modelo de Negócios",
          "Indicações de Interface",
          "Mural de Equipa",
          "Gestão de Equipa",
          "Gestão de Projectos"
         ],
         "legendgroup": "Positivos",
         "marker": {
          "color": "#636efa"
         },
         "name": "Positivos",
         "offsetgroup": "Positivos",
         "orientation": "v",
         "showlegend": true,
         "textposition": "auto",
         "type": "bar",
         "x": [
          "Aspecto Visual",
          "Navegação na Ferramenta",
          "Perguntas",
          "Exemplos",
          "Vídeos",
          "Modelo de Negócios",
          "Indicações de Interface",
          "Mural de Equipa",
          "Gestão de Equipa",
          "Gestão de Projectos"
         ],
         "xaxis": "x",
         "y": [
          0.5,
          0.5,
          0,
          0.75,
          0.25,
          0,
          0,
          0,
          0,
          0
         ],
         "yaxis": "y"
        },
        {
         "alignmentgroup": "True",
         "hovertemplate": "<b>%{hovertext}</b><br><br>P/N=Negativos<br>Year=2018<br>Question=%{x}<br>Percentage=%{y}<extra></extra>",
         "hovertext": [
          "Aspecto Visual",
          "Navegação na Ferramenta",
          "Perguntas",
          "Exemplos",
          "Vídeos",
          "Modelo de Negócios",
          "Indicações de Interface",
          "Mural de Equipa",
          "Gestão de Equipa",
          "Gestão de Projectos"
         ],
         "legendgroup": "Negativos",
         "marker": {
          "color": "#EF553B"
         },
         "name": "Negativos",
         "offsetgroup": "Negativos",
         "orientation": "v",
         "showlegend": true,
         "textposition": "auto",
         "type": "bar",
         "x": [
          "Aspecto Visual",
          "Navegação na Ferramenta",
          "Perguntas",
          "Exemplos",
          "Vídeos",
          "Modelo de Negócios",
          "Indicações de Interface",
          "Mural de Equipa",
          "Gestão de Equipa",
          "Gestão de Projectos"
         ],
         "xaxis": "x",
         "y": [
          0.5,
          0.5,
          0.75,
          0,
          0,
          0,
          0,
          0.25,
          0.25,
          0
         ],
         "yaxis": "y"
        }
       ],
       "layout": {
        "barmode": "group",
        "legend": {
         "title": {
          "text": "P/N"
         },
         "tracegroupgap": 0
        },
        "margin": {
         "t": 60
        },
        "template": {
         "data": {
          "bar": [
           {
            "error_x": {
             "color": "#2a3f5f"
            },
            "error_y": {
             "color": "#2a3f5f"
            },
            "marker": {
             "line": {
              "color": "#E5ECF6",
              "width": 0.5
             }
            },
            "type": "bar"
           }
          ],
          "barpolar": [
           {
            "marker": {
             "line": {
              "color": "#E5ECF6",
              "width": 0.5
             }
            },
            "type": "barpolar"
           }
          ],
          "carpet": [
           {
            "aaxis": {
             "endlinecolor": "#2a3f5f",
             "gridcolor": "white",
             "linecolor": "white",
             "minorgridcolor": "white",
             "startlinecolor": "#2a3f5f"
            },
            "baxis": {
             "endlinecolor": "#2a3f5f",
             "gridcolor": "white",
             "linecolor": "white",
             "minorgridcolor": "white",
             "startlinecolor": "#2a3f5f"
            },
            "type": "carpet"
           }
          ],
          "choropleth": [
           {
            "colorbar": {
             "outlinewidth": 0,
             "ticks": ""
            },
            "type": "choropleth"
           }
          ],
          "contour": [
           {
            "colorbar": {
             "outlinewidth": 0,
             "ticks": ""
            },
            "colorscale": [
             [
              0,
              "#0d0887"
             ],
             [
              0.1111111111111111,
              "#46039f"
             ],
             [
              0.2222222222222222,
              "#7201a8"
             ],
             [
              0.3333333333333333,
              "#9c179e"
             ],
             [
              0.4444444444444444,
              "#bd3786"
             ],
             [
              0.5555555555555556,
              "#d8576b"
             ],
             [
              0.6666666666666666,
              "#ed7953"
             ],
             [
              0.7777777777777778,
              "#fb9f3a"
             ],
             [
              0.8888888888888888,
              "#fdca26"
             ],
             [
              1,
              "#f0f921"
             ]
            ],
            "type": "contour"
           }
          ],
          "contourcarpet": [
           {
            "colorbar": {
             "outlinewidth": 0,
             "ticks": ""
            },
            "type": "contourcarpet"
           }
          ],
          "heatmap": [
           {
            "colorbar": {
             "outlinewidth": 0,
             "ticks": ""
            },
            "colorscale": [
             [
              0,
              "#0d0887"
             ],
             [
              0.1111111111111111,
              "#46039f"
             ],
             [
              0.2222222222222222,
              "#7201a8"
             ],
             [
              0.3333333333333333,
              "#9c179e"
             ],
             [
              0.4444444444444444,
              "#bd3786"
             ],
             [
              0.5555555555555556,
              "#d8576b"
             ],
             [
              0.6666666666666666,
              "#ed7953"
             ],
             [
              0.7777777777777778,
              "#fb9f3a"
             ],
             [
              0.8888888888888888,
              "#fdca26"
             ],
             [
              1,
              "#f0f921"
             ]
            ],
            "type": "heatmap"
           }
          ],
          "heatmapgl": [
           {
            "colorbar": {
             "outlinewidth": 0,
             "ticks": ""
            },
            "colorscale": [
             [
              0,
              "#0d0887"
             ],
             [
              0.1111111111111111,
              "#46039f"
             ],
             [
              0.2222222222222222,
              "#7201a8"
             ],
             [
              0.3333333333333333,
              "#9c179e"
             ],
             [
              0.4444444444444444,
              "#bd3786"
             ],
             [
              0.5555555555555556,
              "#d8576b"
             ],
             [
              0.6666666666666666,
              "#ed7953"
             ],
             [
              0.7777777777777778,
              "#fb9f3a"
             ],
             [
              0.8888888888888888,
              "#fdca26"
             ],
             [
              1,
              "#f0f921"
             ]
            ],
            "type": "heatmapgl"
           }
          ],
          "histogram": [
           {
            "marker": {
             "colorbar": {
              "outlinewidth": 0,
              "ticks": ""
             }
            },
            "type": "histogram"
           }
          ],
          "histogram2d": [
           {
            "colorbar": {
             "outlinewidth": 0,
             "ticks": ""
            },
            "colorscale": [
             [
              0,
              "#0d0887"
             ],
             [
              0.1111111111111111,
              "#46039f"
             ],
             [
              0.2222222222222222,
              "#7201a8"
             ],
             [
              0.3333333333333333,
              "#9c179e"
             ],
             [
              0.4444444444444444,
              "#bd3786"
             ],
             [
              0.5555555555555556,
              "#d8576b"
             ],
             [
              0.6666666666666666,
              "#ed7953"
             ],
             [
              0.7777777777777778,
              "#fb9f3a"
             ],
             [
              0.8888888888888888,
              "#fdca26"
             ],
             [
              1,
              "#f0f921"
             ]
            ],
            "type": "histogram2d"
           }
          ],
          "histogram2dcontour": [
           {
            "colorbar": {
             "outlinewidth": 0,
             "ticks": ""
            },
            "colorscale": [
             [
              0,
              "#0d0887"
             ],
             [
              0.1111111111111111,
              "#46039f"
             ],
             [
              0.2222222222222222,
              "#7201a8"
             ],
             [
              0.3333333333333333,
              "#9c179e"
             ],
             [
              0.4444444444444444,
              "#bd3786"
             ],
             [
              0.5555555555555556,
              "#d8576b"
             ],
             [
              0.6666666666666666,
              "#ed7953"
             ],
             [
              0.7777777777777778,
              "#fb9f3a"
             ],
             [
              0.8888888888888888,
              "#fdca26"
             ],
             [
              1,
              "#f0f921"
             ]
            ],
            "type": "histogram2dcontour"
           }
          ],
          "mesh3d": [
           {
            "colorbar": {
             "outlinewidth": 0,
             "ticks": ""
            },
            "type": "mesh3d"
           }
          ],
          "parcoords": [
           {
            "line": {
             "colorbar": {
              "outlinewidth": 0,
              "ticks": ""
             }
            },
            "type": "parcoords"
           }
          ],
          "pie": [
           {
            "automargin": true,
            "type": "pie"
           }
          ],
          "scatter": [
           {
            "marker": {
             "colorbar": {
              "outlinewidth": 0,
              "ticks": ""
             }
            },
            "type": "scatter"
           }
          ],
          "scatter3d": [
           {
            "line": {
             "colorbar": {
              "outlinewidth": 0,
              "ticks": ""
             }
            },
            "marker": {
             "colorbar": {
              "outlinewidth": 0,
              "ticks": ""
             }
            },
            "type": "scatter3d"
           }
          ],
          "scattercarpet": [
           {
            "marker": {
             "colorbar": {
              "outlinewidth": 0,
              "ticks": ""
             }
            },
            "type": "scattercarpet"
           }
          ],
          "scattergeo": [
           {
            "marker": {
             "colorbar": {
              "outlinewidth": 0,
              "ticks": ""
             }
            },
            "type": "scattergeo"
           }
          ],
          "scattergl": [
           {
            "marker": {
             "colorbar": {
              "outlinewidth": 0,
              "ticks": ""
             }
            },
            "type": "scattergl"
           }
          ],
          "scattermapbox": [
           {
            "marker": {
             "colorbar": {
              "outlinewidth": 0,
              "ticks": ""
             }
            },
            "type": "scattermapbox"
           }
          ],
          "scatterpolar": [
           {
            "marker": {
             "colorbar": {
              "outlinewidth": 0,
              "ticks": ""
             }
            },
            "type": "scatterpolar"
           }
          ],
          "scatterpolargl": [
           {
            "marker": {
             "colorbar": {
              "outlinewidth": 0,
              "ticks": ""
             }
            },
            "type": "scatterpolargl"
           }
          ],
          "scatterternary": [
           {
            "marker": {
             "colorbar": {
              "outlinewidth": 0,
              "ticks": ""
             }
            },
            "type": "scatterternary"
           }
          ],
          "surface": [
           {
            "colorbar": {
             "outlinewidth": 0,
             "ticks": ""
            },
            "colorscale": [
             [
              0,
              "#0d0887"
             ],
             [
              0.1111111111111111,
              "#46039f"
             ],
             [
              0.2222222222222222,
              "#7201a8"
             ],
             [
              0.3333333333333333,
              "#9c179e"
             ],
             [
              0.4444444444444444,
              "#bd3786"
             ],
             [
              0.5555555555555556,
              "#d8576b"
             ],
             [
              0.6666666666666666,
              "#ed7953"
             ],
             [
              0.7777777777777778,
              "#fb9f3a"
             ],
             [
              0.8888888888888888,
              "#fdca26"
             ],
             [
              1,
              "#f0f921"
             ]
            ],
            "type": "surface"
           }
          ],
          "table": [
           {
            "cells": {
             "fill": {
              "color": "#EBF0F8"
             },
             "line": {
              "color": "white"
             }
            },
            "header": {
             "fill": {
              "color": "#C8D4E3"
             },
             "line": {
              "color": "white"
             }
            },
            "type": "table"
           }
          ]
         },
         "layout": {
          "annotationdefaults": {
           "arrowcolor": "#2a3f5f",
           "arrowhead": 0,
           "arrowwidth": 1
          },
          "coloraxis": {
           "colorbar": {
            "outlinewidth": 0,
            "ticks": ""
           }
          },
          "colorscale": {
           "diverging": [
            [
             0,
             "#8e0152"
            ],
            [
             0.1,
             "#c51b7d"
            ],
            [
             0.2,
             "#de77ae"
            ],
            [
             0.3,
             "#f1b6da"
            ],
            [
             0.4,
             "#fde0ef"
            ],
            [
             0.5,
             "#f7f7f7"
            ],
            [
             0.6,
             "#e6f5d0"
            ],
            [
             0.7,
             "#b8e186"
            ],
            [
             0.8,
             "#7fbc41"
            ],
            [
             0.9,
             "#4d9221"
            ],
            [
             1,
             "#276419"
            ]
           ],
           "sequential": [
            [
             0,
             "#0d0887"
            ],
            [
             0.1111111111111111,
             "#46039f"
            ],
            [
             0.2222222222222222,
             "#7201a8"
            ],
            [
             0.3333333333333333,
             "#9c179e"
            ],
            [
             0.4444444444444444,
             "#bd3786"
            ],
            [
             0.5555555555555556,
             "#d8576b"
            ],
            [
             0.6666666666666666,
             "#ed7953"
            ],
            [
             0.7777777777777778,
             "#fb9f3a"
            ],
            [
             0.8888888888888888,
             "#fdca26"
            ],
            [
             1,
             "#f0f921"
            ]
           ],
           "sequentialminus": [
            [
             0,
             "#0d0887"
            ],
            [
             0.1111111111111111,
             "#46039f"
            ],
            [
             0.2222222222222222,
             "#7201a8"
            ],
            [
             0.3333333333333333,
             "#9c179e"
            ],
            [
             0.4444444444444444,
             "#bd3786"
            ],
            [
             0.5555555555555556,
             "#d8576b"
            ],
            [
             0.6666666666666666,
             "#ed7953"
            ],
            [
             0.7777777777777778,
             "#fb9f3a"
            ],
            [
             0.8888888888888888,
             "#fdca26"
            ],
            [
             1,
             "#f0f921"
            ]
           ]
          },
          "colorway": [
           "#636efa",
           "#EF553B",
           "#00cc96",
           "#ab63fa",
           "#FFA15A",
           "#19d3f3",
           "#FF6692",
           "#B6E880",
           "#FF97FF",
           "#FECB52"
          ],
          "font": {
           "color": "#2a3f5f"
          },
          "geo": {
           "bgcolor": "white",
           "lakecolor": "white",
           "landcolor": "#E5ECF6",
           "showlakes": true,
           "showland": true,
           "subunitcolor": "white"
          },
          "hoverlabel": {
           "align": "left"
          },
          "hovermode": "closest",
          "mapbox": {
           "style": "light"
          },
          "paper_bgcolor": "white",
          "plot_bgcolor": "#E5ECF6",
          "polar": {
           "angularaxis": {
            "gridcolor": "white",
            "linecolor": "white",
            "ticks": ""
           },
           "bgcolor": "#E5ECF6",
           "radialaxis": {
            "gridcolor": "white",
            "linecolor": "white",
            "ticks": ""
           }
          },
          "scene": {
           "xaxis": {
            "backgroundcolor": "#E5ECF6",
            "gridcolor": "white",
            "gridwidth": 2,
            "linecolor": "white",
            "showbackground": true,
            "ticks": "",
            "zerolinecolor": "white"
           },
           "yaxis": {
            "backgroundcolor": "#E5ECF6",
            "gridcolor": "white",
            "gridwidth": 2,
            "linecolor": "white",
            "showbackground": true,
            "ticks": "",
            "zerolinecolor": "white"
           },
           "zaxis": {
            "backgroundcolor": "#E5ECF6",
            "gridcolor": "white",
            "gridwidth": 2,
            "linecolor": "white",
            "showbackground": true,
            "ticks": "",
            "zerolinecolor": "white"
           }
          },
          "shapedefaults": {
           "line": {
            "color": "#2a3f5f"
           }
          },
          "ternary": {
           "aaxis": {
            "gridcolor": "white",
            "linecolor": "white",
            "ticks": ""
           },
           "baxis": {
            "gridcolor": "white",
            "linecolor": "white",
            "ticks": ""
           },
           "bgcolor": "#E5ECF6",
           "caxis": {
            "gridcolor": "white",
            "linecolor": "white",
            "ticks": ""
           }
          },
          "title": {
           "x": 0.05
          },
          "xaxis": {
           "automargin": true,
           "gridcolor": "white",
           "linecolor": "white",
           "ticks": "",
           "title": {
            "standoff": 15
           },
           "zerolinecolor": "white",
           "zerolinewidth": 2
          },
          "yaxis": {
           "automargin": true,
           "gridcolor": "white",
           "linecolor": "white",
           "ticks": "",
           "title": {
            "standoff": 15
           },
           "zerolinecolor": "white",
           "zerolinewidth": 2
          }
         }
        },
        "title": {
         "text": "Positive/Negative Features - Negative Outcome  - 2017/2018"
        },
        "xaxis": {
         "anchor": "y",
         "domain": [
          0,
          1
         ],
         "title": {
          "text": "Question"
         },
         "type": "category"
        },
        "yaxis": {
         "anchor": "x",
         "domain": [
          0,
          1
         ],
         "range": [
          0,
          1
         ],
         "title": {
          "text": "Percentage"
         }
        }
       }
      },
      "text/html": [
       "<div>                            <div id=\"e4e06f9a-9f6e-4b20-9cb0-f09adba392cd\" class=\"plotly-graph-div\" style=\"height:525px; width:100%;\"></div>            <script type=\"text/javascript\">                require([\"plotly\"], function(Plotly) {                    window.PLOTLYENV=window.PLOTLYENV || {};                                    if (document.getElementById(\"e4e06f9a-9f6e-4b20-9cb0-f09adba392cd\")) {                    Plotly.newPlot(                        \"e4e06f9a-9f6e-4b20-9cb0-f09adba392cd\",                        [{\"alignmentgroup\": \"True\", \"hovertemplate\": \"<b>%{hovertext}</b><br><br>P/N=Positivos<br>Year=2018<br>Question=%{x}<br>Percentage=%{y}<extra></extra>\", \"hovertext\": [\"Aspecto Visual\", \"Navega\\u00e7\\u00e3o na Ferramenta\", \"Perguntas\", \"Exemplos\", \"V\\u00eddeos\", \"Modelo de Neg\\u00f3cios\", \"Indica\\u00e7\\u00f5es de Interface\", \"Mural de Equipa\", \"Gest\\u00e3o de Equipa\", \"Gest\\u00e3o de Projectos\"], \"legendgroup\": \"Positivos\", \"marker\": {\"color\": \"#636efa\"}, \"name\": \"Positivos\", \"offsetgroup\": \"Positivos\", \"orientation\": \"v\", \"showlegend\": true, \"textposition\": \"auto\", \"type\": \"bar\", \"x\": [\"Aspecto Visual\", \"Navega\\u00e7\\u00e3o na Ferramenta\", \"Perguntas\", \"Exemplos\", \"V\\u00eddeos\", \"Modelo de Neg\\u00f3cios\", \"Indica\\u00e7\\u00f5es de Interface\", \"Mural de Equipa\", \"Gest\\u00e3o de Equipa\", \"Gest\\u00e3o de Projectos\"], \"xaxis\": \"x\", \"y\": [0.5, 0.5, 0.0, 0.75, 0.25, 0.0, 0.0, 0.0, 0.0, 0.0], \"yaxis\": \"y\"}, {\"alignmentgroup\": \"True\", \"hovertemplate\": \"<b>%{hovertext}</b><br><br>P/N=Negativos<br>Year=2018<br>Question=%{x}<br>Percentage=%{y}<extra></extra>\", \"hovertext\": [\"Aspecto Visual\", \"Navega\\u00e7\\u00e3o na Ferramenta\", \"Perguntas\", \"Exemplos\", \"V\\u00eddeos\", \"Modelo de Neg\\u00f3cios\", \"Indica\\u00e7\\u00f5es de Interface\", \"Mural de Equipa\", \"Gest\\u00e3o de Equipa\", \"Gest\\u00e3o de Projectos\"], \"legendgroup\": \"Negativos\", \"marker\": {\"color\": \"#EF553B\"}, \"name\": \"Negativos\", \"offsetgroup\": \"Negativos\", \"orientation\": \"v\", \"showlegend\": true, \"textposition\": \"auto\", \"type\": \"bar\", \"x\": [\"Aspecto Visual\", \"Navega\\u00e7\\u00e3o na Ferramenta\", \"Perguntas\", \"Exemplos\", \"V\\u00eddeos\", \"Modelo de Neg\\u00f3cios\", \"Indica\\u00e7\\u00f5es de Interface\", \"Mural de Equipa\", \"Gest\\u00e3o de Equipa\", \"Gest\\u00e3o de Projectos\"], \"xaxis\": \"x\", \"y\": [0.5, 0.5, 0.75, 0.0, 0.0, 0.0, 0.0, 0.25, 0.25, 0.0], \"yaxis\": \"y\"}],                        {\"barmode\": \"group\", \"legend\": {\"title\": {\"text\": \"P/N\"}, \"tracegroupgap\": 0}, \"margin\": {\"t\": 60}, \"template\": {\"data\": {\"bar\": [{\"error_x\": {\"color\": \"#2a3f5f\"}, \"error_y\": {\"color\": \"#2a3f5f\"}, \"marker\": {\"line\": {\"color\": \"#E5ECF6\", \"width\": 0.5}}, \"type\": \"bar\"}], \"barpolar\": [{\"marker\": {\"line\": {\"color\": \"#E5ECF6\", \"width\": 0.5}}, \"type\": \"barpolar\"}], \"carpet\": [{\"aaxis\": {\"endlinecolor\": \"#2a3f5f\", \"gridcolor\": \"white\", \"linecolor\": \"white\", \"minorgridcolor\": \"white\", \"startlinecolor\": \"#2a3f5f\"}, \"baxis\": {\"endlinecolor\": \"#2a3f5f\", \"gridcolor\": \"white\", \"linecolor\": \"white\", \"minorgridcolor\": \"white\", \"startlinecolor\": \"#2a3f5f\"}, \"type\": \"carpet\"}], \"choropleth\": [{\"colorbar\": {\"outlinewidth\": 0, \"ticks\": \"\"}, \"type\": \"choropleth\"}], \"contour\": [{\"colorbar\": {\"outlinewidth\": 0, \"ticks\": \"\"}, \"colorscale\": [[0.0, \"#0d0887\"], [0.1111111111111111, \"#46039f\"], [0.2222222222222222, \"#7201a8\"], [0.3333333333333333, \"#9c179e\"], [0.4444444444444444, \"#bd3786\"], [0.5555555555555556, \"#d8576b\"], [0.6666666666666666, \"#ed7953\"], [0.7777777777777778, \"#fb9f3a\"], [0.8888888888888888, \"#fdca26\"], [1.0, \"#f0f921\"]], \"type\": \"contour\"}], \"contourcarpet\": [{\"colorbar\": {\"outlinewidth\": 0, \"ticks\": \"\"}, \"type\": \"contourcarpet\"}], \"heatmap\": [{\"colorbar\": {\"outlinewidth\": 0, \"ticks\": \"\"}, \"colorscale\": [[0.0, \"#0d0887\"], [0.1111111111111111, \"#46039f\"], [0.2222222222222222, \"#7201a8\"], [0.3333333333333333, \"#9c179e\"], [0.4444444444444444, \"#bd3786\"], [0.5555555555555556, \"#d8576b\"], [0.6666666666666666, \"#ed7953\"], [0.7777777777777778, \"#fb9f3a\"], [0.8888888888888888, \"#fdca26\"], [1.0, \"#f0f921\"]], \"type\": \"heatmap\"}], \"heatmapgl\": [{\"colorbar\": {\"outlinewidth\": 0, \"ticks\": \"\"}, \"colorscale\": [[0.0, \"#0d0887\"], [0.1111111111111111, \"#46039f\"], [0.2222222222222222, \"#7201a8\"], [0.3333333333333333, \"#9c179e\"], [0.4444444444444444, \"#bd3786\"], [0.5555555555555556, \"#d8576b\"], [0.6666666666666666, \"#ed7953\"], [0.7777777777777778, \"#fb9f3a\"], [0.8888888888888888, \"#fdca26\"], [1.0, \"#f0f921\"]], \"type\": \"heatmapgl\"}], \"histogram\": [{\"marker\": {\"colorbar\": {\"outlinewidth\": 0, \"ticks\": \"\"}}, \"type\": \"histogram\"}], \"histogram2d\": [{\"colorbar\": {\"outlinewidth\": 0, \"ticks\": \"\"}, \"colorscale\": [[0.0, \"#0d0887\"], [0.1111111111111111, \"#46039f\"], [0.2222222222222222, \"#7201a8\"], [0.3333333333333333, \"#9c179e\"], [0.4444444444444444, \"#bd3786\"], [0.5555555555555556, \"#d8576b\"], [0.6666666666666666, \"#ed7953\"], [0.7777777777777778, \"#fb9f3a\"], [0.8888888888888888, \"#fdca26\"], [1.0, \"#f0f921\"]], \"type\": \"histogram2d\"}], \"histogram2dcontour\": [{\"colorbar\": {\"outlinewidth\": 0, \"ticks\": \"\"}, \"colorscale\": [[0.0, \"#0d0887\"], [0.1111111111111111, \"#46039f\"], [0.2222222222222222, \"#7201a8\"], [0.3333333333333333, \"#9c179e\"], [0.4444444444444444, \"#bd3786\"], [0.5555555555555556, \"#d8576b\"], [0.6666666666666666, \"#ed7953\"], [0.7777777777777778, \"#fb9f3a\"], [0.8888888888888888, \"#fdca26\"], [1.0, \"#f0f921\"]], \"type\": \"histogram2dcontour\"}], \"mesh3d\": [{\"colorbar\": {\"outlinewidth\": 0, \"ticks\": \"\"}, \"type\": \"mesh3d\"}], \"parcoords\": [{\"line\": {\"colorbar\": {\"outlinewidth\": 0, \"ticks\": \"\"}}, \"type\": \"parcoords\"}], \"pie\": [{\"automargin\": true, \"type\": \"pie\"}], \"scatter\": [{\"marker\": {\"colorbar\": {\"outlinewidth\": 0, \"ticks\": \"\"}}, \"type\": \"scatter\"}], \"scatter3d\": [{\"line\": {\"colorbar\": {\"outlinewidth\": 0, \"ticks\": \"\"}}, \"marker\": {\"colorbar\": {\"outlinewidth\": 0, \"ticks\": \"\"}}, \"type\": \"scatter3d\"}], \"scattercarpet\": [{\"marker\": {\"colorbar\": {\"outlinewidth\": 0, \"ticks\": \"\"}}, \"type\": \"scattercarpet\"}], \"scattergeo\": [{\"marker\": {\"colorbar\": {\"outlinewidth\": 0, \"ticks\": \"\"}}, \"type\": \"scattergeo\"}], \"scattergl\": [{\"marker\": {\"colorbar\": {\"outlinewidth\": 0, \"ticks\": \"\"}}, \"type\": \"scattergl\"}], \"scattermapbox\": [{\"marker\": {\"colorbar\": {\"outlinewidth\": 0, \"ticks\": \"\"}}, \"type\": \"scattermapbox\"}], \"scatterpolar\": [{\"marker\": {\"colorbar\": {\"outlinewidth\": 0, \"ticks\": \"\"}}, \"type\": \"scatterpolar\"}], \"scatterpolargl\": [{\"marker\": {\"colorbar\": {\"outlinewidth\": 0, \"ticks\": \"\"}}, \"type\": \"scatterpolargl\"}], \"scatterternary\": [{\"marker\": {\"colorbar\": {\"outlinewidth\": 0, \"ticks\": \"\"}}, \"type\": \"scatterternary\"}], \"surface\": [{\"colorbar\": {\"outlinewidth\": 0, \"ticks\": \"\"}, \"colorscale\": [[0.0, \"#0d0887\"], [0.1111111111111111, \"#46039f\"], [0.2222222222222222, \"#7201a8\"], [0.3333333333333333, \"#9c179e\"], [0.4444444444444444, \"#bd3786\"], [0.5555555555555556, \"#d8576b\"], [0.6666666666666666, \"#ed7953\"], [0.7777777777777778, \"#fb9f3a\"], [0.8888888888888888, \"#fdca26\"], [1.0, \"#f0f921\"]], \"type\": \"surface\"}], \"table\": [{\"cells\": {\"fill\": {\"color\": \"#EBF0F8\"}, \"line\": {\"color\": \"white\"}}, \"header\": {\"fill\": {\"color\": \"#C8D4E3\"}, \"line\": {\"color\": \"white\"}}, \"type\": \"table\"}]}, \"layout\": {\"annotationdefaults\": {\"arrowcolor\": \"#2a3f5f\", \"arrowhead\": 0, \"arrowwidth\": 1}, \"coloraxis\": {\"colorbar\": {\"outlinewidth\": 0, \"ticks\": \"\"}}, \"colorscale\": {\"diverging\": [[0, \"#8e0152\"], [0.1, \"#c51b7d\"], [0.2, \"#de77ae\"], [0.3, \"#f1b6da\"], [0.4, \"#fde0ef\"], [0.5, \"#f7f7f7\"], [0.6, \"#e6f5d0\"], [0.7, \"#b8e186\"], [0.8, \"#7fbc41\"], [0.9, \"#4d9221\"], [1, \"#276419\"]], \"sequential\": [[0.0, \"#0d0887\"], [0.1111111111111111, \"#46039f\"], [0.2222222222222222, \"#7201a8\"], [0.3333333333333333, \"#9c179e\"], [0.4444444444444444, \"#bd3786\"], [0.5555555555555556, \"#d8576b\"], [0.6666666666666666, \"#ed7953\"], [0.7777777777777778, \"#fb9f3a\"], [0.8888888888888888, \"#fdca26\"], [1.0, \"#f0f921\"]], \"sequentialminus\": [[0.0, \"#0d0887\"], [0.1111111111111111, \"#46039f\"], [0.2222222222222222, \"#7201a8\"], [0.3333333333333333, \"#9c179e\"], [0.4444444444444444, \"#bd3786\"], [0.5555555555555556, \"#d8576b\"], [0.6666666666666666, \"#ed7953\"], [0.7777777777777778, \"#fb9f3a\"], [0.8888888888888888, \"#fdca26\"], [1.0, \"#f0f921\"]]}, \"colorway\": [\"#636efa\", \"#EF553B\", \"#00cc96\", \"#ab63fa\", \"#FFA15A\", \"#19d3f3\", \"#FF6692\", \"#B6E880\", \"#FF97FF\", \"#FECB52\"], \"font\": {\"color\": \"#2a3f5f\"}, \"geo\": {\"bgcolor\": \"white\", \"lakecolor\": \"white\", \"landcolor\": \"#E5ECF6\", \"showlakes\": true, \"showland\": true, \"subunitcolor\": \"white\"}, \"hoverlabel\": {\"align\": \"left\"}, \"hovermode\": \"closest\", \"mapbox\": {\"style\": \"light\"}, \"paper_bgcolor\": \"white\", \"plot_bgcolor\": \"#E5ECF6\", \"polar\": {\"angularaxis\": {\"gridcolor\": \"white\", \"linecolor\": \"white\", \"ticks\": \"\"}, \"bgcolor\": \"#E5ECF6\", \"radialaxis\": {\"gridcolor\": \"white\", \"linecolor\": \"white\", \"ticks\": \"\"}}, \"scene\": {\"xaxis\": {\"backgroundcolor\": \"#E5ECF6\", \"gridcolor\": \"white\", \"gridwidth\": 2, \"linecolor\": \"white\", \"showbackground\": true, \"ticks\": \"\", \"zerolinecolor\": \"white\"}, \"yaxis\": {\"backgroundcolor\": \"#E5ECF6\", \"gridcolor\": \"white\", \"gridwidth\": 2, \"linecolor\": \"white\", \"showbackground\": true, \"ticks\": \"\", \"zerolinecolor\": \"white\"}, \"zaxis\": {\"backgroundcolor\": \"#E5ECF6\", \"gridcolor\": \"white\", \"gridwidth\": 2, \"linecolor\": \"white\", \"showbackground\": true, \"ticks\": \"\", \"zerolinecolor\": \"white\"}}, \"shapedefaults\": {\"line\": {\"color\": \"#2a3f5f\"}}, \"ternary\": {\"aaxis\": {\"gridcolor\": \"white\", \"linecolor\": \"white\", \"ticks\": \"\"}, \"baxis\": {\"gridcolor\": \"white\", \"linecolor\": \"white\", \"ticks\": \"\"}, \"bgcolor\": \"#E5ECF6\", \"caxis\": {\"gridcolor\": \"white\", \"linecolor\": \"white\", \"ticks\": \"\"}}, \"title\": {\"x\": 0.05}, \"xaxis\": {\"automargin\": true, \"gridcolor\": \"white\", \"linecolor\": \"white\", \"ticks\": \"\", \"title\": {\"standoff\": 15}, \"zerolinecolor\": \"white\", \"zerolinewidth\": 2}, \"yaxis\": {\"automargin\": true, \"gridcolor\": \"white\", \"linecolor\": \"white\", \"ticks\": \"\", \"title\": {\"standoff\": 15}, \"zerolinecolor\": \"white\", \"zerolinewidth\": 2}}}, \"title\": {\"text\": \"Positive/Negative Features - Negative Outcome  - 2017/2018\"}, \"xaxis\": {\"anchor\": \"y\", \"domain\": [0.0, 1.0], \"title\": {\"text\": \"Question\"}, \"type\": \"category\"}, \"yaxis\": {\"anchor\": \"x\", \"domain\": [0.0, 1.0], \"range\": [0, 1], \"title\": {\"text\": \"Percentage\"}}},                        {\"responsive\": true}                    ).then(function(){\n",
       "                            \n",
       "var gd = document.getElementById('e4e06f9a-9f6e-4b20-9cb0-f09adba392cd');\n",
       "var x = new MutationObserver(function (mutations, observer) {{\n",
       "        var display = window.getComputedStyle(gd).display;\n",
       "        if (!display || display === 'none') {{\n",
       "            console.log([gd, 'removed!']);\n",
       "            Plotly.purge(gd);\n",
       "            observer.disconnect();\n",
       "        }}\n",
       "}});\n",
       "\n",
       "// Listen for the removal of the full notebook cells\n",
       "var notebookContainer = gd.closest('#notebook-container');\n",
       "if (notebookContainer) {{\n",
       "    x.observe(notebookContainer, {childList: true});\n",
       "}}\n",
       "\n",
       "// Listen for the clearing of the current output cell\n",
       "var outputEl = gd.closest('.output');\n",
       "if (outputEl) {{\n",
       "    x.observe(outputEl, {childList: true});\n",
       "}}\n",
       "\n",
       "                        })                };                });            </script>        </div>"
      ]
     },
     "metadata": {},
     "output_type": "display_data"
    }
   ],
   "source": [
    "Ano20172018NOSum=Ano20172018NO.sum(axis = 0, skipna = True) \n",
    "Ano20172018NOSum = pd.DataFrame(Ano20172018NOSum)\n",
    "Ano20172018NOSum['year'] = 2018\n",
    "Ano20172018NOSum.reset_index(level=0, inplace=True)\n",
    "Ano20172018NOSum.columns=[['Question', 'Counts', 'Year']]\n",
    "Ano20172018NOSum['population'] = 4\n",
    "\n",
    "Ano20172018NOSum.to_csv(r'Data/PositivosNegativosStandardized/Ano20172018NOSum.csv', index = False)\n",
    "Ano20172018NOSum = pd.read_csv('Data/PositivosNegativosStandardized/Ano20172018NOSum.csv', sep=',')\n",
    "Ano20172018NOSum['Percentage'] = Ano20172018NOSum['Counts']/Ano20172018NOSum['population']\n",
    "Ano20172018NOSum.to_csv(r'Data/PositivosNegativosStandardized/Ano20172018NOSum.csv', index = False)\n",
    "\n",
    "Ano20172018NOSum[['P/N','Question']] = Ano20172018NOSum.Question.str.split(\":\",expand=True) \n",
    "\n",
    "\n",
    "import plotly_express as px\n",
    "\n",
    "fig = px.bar(Ano20172018NOSum, x=\"Question\", y=\"Percentage\", color='P/N', barmode='group',\n",
    "            animation_frame='Year', hover_name='Question', range_y=[0,1])\n",
    "fig.update_layout(title_text='Positive/Negative Features - Negative Outcome  - 2017/2018')\n",
    "fig.update_layout(xaxis_type='category')\n",
    "\n",
    "\n",
    "fig.show()\n",
    "fig.write_image('Outputs/ImageOutputsYear/figurePosNegDisLiked20172018.png')\n"
   ]
  },
  {
   "cell_type": "code",
   "execution_count": 93,
   "metadata": {},
   "outputs": [
    {
     "data": {
      "image/png": "[encoded data removed]",
      "text/plain": [
       "<IPython.core.display.Image object>"
      ]
     },
     "execution_count": 93,
     "metadata": {},
     "output_type": "execute_result"
    }
   ],
   "source": [
    "from IPython.display import Image\n",
    "Image(filename='Outputs/ImageOutputsYear/figurePosNegDisLiked20172018.png')\n",
    "\n"
   ]
  },
  {
   "cell_type": "code",
   "execution_count": null,
   "metadata": {},
   "outputs": [],
   "source": []
  },
  {
   "cell_type": "markdown",
   "metadata": {},
   "source": [
    "## Oddballs\n",
    "* [Back to TOC](#backtoc)\n",
    "\n",
    "### Liked but No Learning\n"
   ]
  },
  {
   "cell_type": "code",
   "execution_count": 94,
   "metadata": {},
   "outputs": [
    {
     "data": {
      "text/plain": [
       "(0, 23)"
      ]
     },
     "execution_count": 94,
     "metadata": {},
     "output_type": "execute_result"
    }
   ],
   "source": [
    "Ano20172018likednolearn = Ano20172018.copy()\n",
    "#subset for positive outcome and negative learning\n",
    "Ano20172018likednolearn = Ano20172018likednolearn[Ano20172018likednolearn['Está satisfeito com a ferramenta DreamShaper?'] == 4] \n",
    "Ano20172018likednolearn = Ano20172018likednolearn[Ano20172018likednolearn['Quanto aprendeu com a DreamShaper?'] == 1] \n",
    "Ano20172018likednolearn.shape"
   ]
  },
  {
   "cell_type": "code",
   "execution_count": null,
   "metadata": {},
   "outputs": [],
   "source": []
  },
  {
   "cell_type": "markdown",
   "metadata": {},
   "source": [
    "### Disliked but Learned\n"
   ]
  },
  {
   "cell_type": "code",
   "execution_count": 95,
   "metadata": {},
   "outputs": [
    {
     "data": {
      "text/plain": [
       "(0, 23)"
      ]
     },
     "execution_count": 95,
     "metadata": {},
     "output_type": "execute_result"
    }
   ],
   "source": [
    "Ano20172018dislikedlearn = Ano20172018.copy()\n",
    "#subset for positive outcome and negative learning\n",
    "Ano20172018dislikedlearn = Ano20172018dislikedlearn[Ano20172018dislikedlearn['Está satisfeito com a ferramenta DreamShaper?'] == 1] \n",
    "Ano20172018dislikedlearn = Ano20172018dislikedlearn[Ano20172018dislikedlearn['Quanto aprendeu com a DreamShaper?'] == 5] \n",
    "Ano20172018dislikedlearn.shape"
   ]
  },
  {
   "cell_type": "code",
   "execution_count": null,
   "metadata": {},
   "outputs": [],
   "source": []
  },
  {
   "cell_type": "code",
   "execution_count": null,
   "metadata": {},
   "outputs": [],
   "source": []
  },
  {
   "cell_type": "markdown",
   "metadata": {},
   "source": [
    "### Data Visualizations  <a name=\"dataviz\"></a>\n",
    "\n",
    "* [Back to TOC](#backtoc)\n"
   ]
  },
  {
   "cell_type": "code",
   "execution_count": 96,
   "metadata": {},
   "outputs": [],
   "source": [
    "Ano20172018Liked = Ano20172018['Está satisfeito com a ferramenta DreamShaper?']\n",
    "Ano20172018LikedOrig= Ano20172018Liked.copy()"
   ]
  },
  {
   "cell_type": "code",
   "execution_count": 97,
   "metadata": {},
   "outputs": [],
   "source": [
    "unique_elements, counts_elements = np.unique(Ano20172018Liked, return_counts=True)\n"
   ]
  },
  {
   "cell_type": "code",
   "execution_count": 98,
   "metadata": {},
   "outputs": [],
   "source": [
    "Ano20172018Liked = pd.DataFrame({'Liked?':unique_elements, 'counts':counts_elements})\n"
   ]
  },
  {
   "cell_type": "code",
   "execution_count": 99,
   "metadata": {},
   "outputs": [],
   "source": [
    "Ano20172018Liked\n",
    "Ano20172018Liked['year'] = 2018\n",
    "Ano20172018Liked['population'] = 870\n",
    "Ano20172018Liked['percentage'] = Ano20172018Liked['counts']/Ano20172018Liked['population']\n",
    "\n"
   ]
  },
  {
   "cell_type": "code",
   "execution_count": 100,
   "metadata": {},
   "outputs": [],
   "source": [
    "Liked = [\"Year\", \"AverageLiked\"]\n",
    "\n",
    "LikedOverYears = pd.DataFrame(columns = Liked)"
   ]
  },
  {
   "cell_type": "code",
   "execution_count": 101,
   "metadata": {},
   "outputs": [],
   "source": [
    "import statistics \n",
    "meanLiked=statistics.mean(Ano20172018LikedOrig)"
   ]
  },
  {
   "cell_type": "code",
   "execution_count": 102,
   "metadata": {},
   "outputs": [
    {
     "data": {
      "text/plain": [
       "3.6149425287356323"
      ]
     },
     "execution_count": 102,
     "metadata": {},
     "output_type": "execute_result"
    }
   ],
   "source": [
    "meanLiked"
   ]
  },
  {
   "cell_type": "code",
   "execution_count": 103,
   "metadata": {},
   "outputs": [],
   "source": [
    "df2 = pd.DataFrame([ ['6-2017/2018', meanLiked]], columns=[\"Year\", \"AverageLiked\"])\n",
    "\n",
    "\n",
    "LikedOverYears=LikedOverYears.append(df2)\n",
    "\n"
   ]
  },
  {
   "cell_type": "code",
   "execution_count": 104,
   "metadata": {},
   "outputs": [
    {
     "data": {
      "text/html": [
       "<div>\n",
       "<style scoped>\n",
       "    .dataframe tbody tr th:only-of-type {\n",
       "        vertical-align: middle;\n",
       "    }\n",
       "\n",
       "    .dataframe tbody tr th {\n",
       "        vertical-align: top;\n",
       "    }\n",
       "\n",
       "    .dataframe thead th {\n",
       "        text-align: right;\n",
       "    }\n",
       "</style>\n",
       "<table border=\"1\" class=\"dataframe\">\n",
       "  <thead>\n",
       "    <tr style=\"text-align: right;\">\n",
       "      <th></th>\n",
       "      <th>Year</th>\n",
       "      <th>AverageLiked</th>\n",
       "    </tr>\n",
       "  </thead>\n",
       "  <tbody>\n",
       "    <tr>\n",
       "      <th>0</th>\n",
       "      <td>6-2017/2018</td>\n",
       "      <td>3.614943</td>\n",
       "    </tr>\n",
       "  </tbody>\n",
       "</table>\n",
       "</div>"
      ],
      "text/plain": [
       "          Year  AverageLiked\n",
       "0  6-2017/2018      3.614943"
      ]
     },
     "execution_count": 104,
     "metadata": {},
     "output_type": "execute_result"
    }
   ],
   "source": [
    "LikedOverYears"
   ]
  },
  {
   "cell_type": "code",
   "execution_count": 105,
   "metadata": {},
   "outputs": [
    {
     "data": {
      "application/vnd.plotly.v1+json": {
       "config": {
        "plotlyServerURL": "https://plot.ly"
       },
       "data": [
        {
         "alignmentgroup": "True",
         "hovertemplate": "Liked?=%{x}<br>percentage=%{y}<extra></extra>",
         "legendgroup": "",
         "marker": {
          "color": "#636efa"
         },
         "name": "",
         "offsetgroup": "",
         "orientation": "v",
         "showlegend": false,
         "textposition": "auto",
         "type": "bar",
         "x": [
          1,
          2,
          3,
          4
         ],
         "xaxis": "x",
         "y": [
          0.004597701149425287,
          0.01954022988505747,
          0.332183908045977,
          0.6436781609195402
         ],
         "yaxis": "y"
        }
       ],
       "layout": {
        "barmode": "relative",
        "legend": {
         "tracegroupgap": 0
        },
        "margin": {
         "t": 60
        },
        "template": {
         "data": {
          "bar": [
           {
            "error_x": {
             "color": "#2a3f5f"
            },
            "error_y": {
             "color": "#2a3f5f"
            },
            "marker": {
             "line": {
              "color": "#E5ECF6",
              "width": 0.5
             }
            },
            "type": "bar"
           }
          ],
          "barpolar": [
           {
            "marker": {
             "line": {
              "color": "#E5ECF6",
              "width": 0.5
             }
            },
            "type": "barpolar"
           }
          ],
          "carpet": [
           {
            "aaxis": {
             "endlinecolor": "#2a3f5f",
             "gridcolor": "white",
             "linecolor": "white",
             "minorgridcolor": "white",
             "startlinecolor": "#2a3f5f"
            },
            "baxis": {
             "endlinecolor": "#2a3f5f",
             "gridcolor": "white",
             "linecolor": "white",
             "minorgridcolor": "white",
             "startlinecolor": "#2a3f5f"
            },
            "type": "carpet"
           }
          ],
          "choropleth": [
           {
            "colorbar": {
             "outlinewidth": 0,
             "ticks": ""
            },
            "type": "choropleth"
           }
          ],
          "contour": [
           {
            "colorbar": {
             "outlinewidth": 0,
             "ticks": ""
            },
            "colorscale": [
             [
              0,
              "#0d0887"
             ],
             [
              0.1111111111111111,
              "#46039f"
             ],
             [
              0.2222222222222222,
              "#7201a8"
             ],
             [
              0.3333333333333333,
              "#9c179e"
             ],
             [
              0.4444444444444444,
              "#bd3786"
             ],
             [
              0.5555555555555556,
              "#d8576b"
             ],
             [
              0.6666666666666666,
              "#ed7953"
             ],
             [
              0.7777777777777778,
              "#fb9f3a"
             ],
             [
              0.8888888888888888,
              "#fdca26"
             ],
             [
              1,
              "#f0f921"
             ]
            ],
            "type": "contour"
           }
          ],
          "contourcarpet": [
           {
            "colorbar": {
             "outlinewidth": 0,
             "ticks": ""
            },
            "type": "contourcarpet"
           }
          ],
          "heatmap": [
           {
            "colorbar": {
             "outlinewidth": 0,
             "ticks": ""
            },
            "colorscale": [
             [
              0,
              "#0d0887"
             ],
             [
              0.1111111111111111,
              "#46039f"
             ],
             [
              0.2222222222222222,
              "#7201a8"
             ],
             [
              0.3333333333333333,
              "#9c179e"
             ],
             [
              0.4444444444444444,
              "#bd3786"
             ],
             [
              0.5555555555555556,
              "#d8576b"
             ],
             [
              0.6666666666666666,
              "#ed7953"
             ],
             [
              0.7777777777777778,
              "#fb9f3a"
             ],
             [
              0.8888888888888888,
              "#fdca26"
             ],
             [
              1,
              "#f0f921"
             ]
            ],
            "type": "heatmap"
           }
          ],
          "heatmapgl": [
           {
            "colorbar": {
             "outlinewidth": 0,
             "ticks": ""
            },
            "colorscale": [
             [
              0,
              "#0d0887"
             ],
             [
              0.1111111111111111,
              "#46039f"
             ],
             [
              0.2222222222222222,
              "#7201a8"
             ],
             [
              0.3333333333333333,
              "#9c179e"
             ],
             [
              0.4444444444444444,
              "#bd3786"
             ],
             [
              0.5555555555555556,
              "#d8576b"
             ],
             [
              0.6666666666666666,
              "#ed7953"
             ],
             [
              0.7777777777777778,
              "#fb9f3a"
             ],
             [
              0.8888888888888888,
              "#fdca26"
             ],
             [
              1,
              "#f0f921"
             ]
            ],
            "type": "heatmapgl"
           }
          ],
          "histogram": [
           {
            "marker": {
             "colorbar": {
              "outlinewidth": 0,
              "ticks": ""
             }
            },
            "type": "histogram"
           }
          ],
          "histogram2d": [
           {
            "colorbar": {
             "outlinewidth": 0,
             "ticks": ""
            },
            "colorscale": [
             [
              0,
              "#0d0887"
             ],
             [
              0.1111111111111111,
              "#46039f"
             ],
             [
              0.2222222222222222,
              "#7201a8"
             ],
             [
              0.3333333333333333,
              "#9c179e"
             ],
             [
              0.4444444444444444,
              "#bd3786"
             ],
             [
              0.5555555555555556,
              "#d8576b"
             ],
             [
              0.6666666666666666,
              "#ed7953"
             ],
             [
              0.7777777777777778,
              "#fb9f3a"
             ],
             [
              0.8888888888888888,
              "#fdca26"
             ],
             [
              1,
              "#f0f921"
             ]
            ],
            "type": "histogram2d"
           }
          ],
          "histogram2dcontour": [
           {
            "colorbar": {
             "outlinewidth": 0,
             "ticks": ""
            },
            "colorscale": [
             [
              0,
              "#0d0887"
             ],
             [
              0.1111111111111111,
              "#46039f"
             ],
             [
              0.2222222222222222,
              "#7201a8"
             ],
             [
              0.3333333333333333,
              "#9c179e"
             ],
             [
              0.4444444444444444,
              "#bd3786"
             ],
             [
              0.5555555555555556,
              "#d8576b"
             ],
             [
              0.6666666666666666,
              "#ed7953"
             ],
             [
              0.7777777777777778,
              "#fb9f3a"
             ],
             [
              0.8888888888888888,
              "#fdca26"
             ],
             [
              1,
              "#f0f921"
             ]
            ],
            "type": "histogram2dcontour"
           }
          ],
          "mesh3d": [
           {
            "colorbar": {
             "outlinewidth": 0,
             "ticks": ""
            },
            "type": "mesh3d"
           }
          ],
          "parcoords": [
           {
            "line": {
             "colorbar": {
              "outlinewidth": 0,
              "ticks": ""
             }
            },
            "type": "parcoords"
           }
          ],
          "pie": [
           {
            "automargin": true,
            "type": "pie"
           }
          ],
          "scatter": [
           {
            "marker": {
             "colorbar": {
              "outlinewidth": 0,
              "ticks": ""
             }
            },
            "type": "scatter"
           }
          ],
          "scatter3d": [
           {
            "line": {
             "colorbar": {
              "outlinewidth": 0,
              "ticks": ""
             }
            },
            "marker": {
             "colorbar": {
              "outlinewidth": 0,
              "ticks": ""
             }
            },
            "type": "scatter3d"
           }
          ],
          "scattercarpet": [
           {
            "marker": {
             "colorbar": {
              "outlinewidth": 0,
              "ticks": ""
             }
            },
            "type": "scattercarpet"
           }
          ],
          "scattergeo": [
           {
            "marker": {
             "colorbar": {
              "outlinewidth": 0,
              "ticks": ""
             }
            },
            "type": "scattergeo"
           }
          ],
          "scattergl": [
           {
            "marker": {
             "colorbar": {
              "outlinewidth": 0,
              "ticks": ""
             }
            },
            "type": "scattergl"
           }
          ],
          "scattermapbox": [
           {
            "marker": {
             "colorbar": {
              "outlinewidth": 0,
              "ticks": ""
             }
            },
            "type": "scattermapbox"
           }
          ],
          "scatterpolar": [
           {
            "marker": {
             "colorbar": {
              "outlinewidth": 0,
              "ticks": ""
             }
            },
            "type": "scatterpolar"
           }
          ],
          "scatterpolargl": [
           {
            "marker": {
             "colorbar": {
              "outlinewidth": 0,
              "ticks": ""
             }
            },
            "type": "scatterpolargl"
           }
          ],
          "scatterternary": [
           {
            "marker": {
             "colorbar": {
              "outlinewidth": 0,
              "ticks": ""
             }
            },
            "type": "scatterternary"
           }
          ],
          "surface": [
           {
            "colorbar": {
             "outlinewidth": 0,
             "ticks": ""
            },
            "colorscale": [
             [
              0,
              "#0d0887"
             ],
             [
              0.1111111111111111,
              "#46039f"
             ],
             [
              0.2222222222222222,
              "#7201a8"
             ],
             [
              0.3333333333333333,
              "#9c179e"
             ],
             [
              0.4444444444444444,
              "#bd3786"
             ],
             [
              0.5555555555555556,
              "#d8576b"
             ],
             [
              0.6666666666666666,
              "#ed7953"
             ],
             [
              0.7777777777777778,
              "#fb9f3a"
             ],
             [
              0.8888888888888888,
              "#fdca26"
             ],
             [
              1,
              "#f0f921"
             ]
            ],
            "type": "surface"
           }
          ],
          "table": [
           {
            "cells": {
             "fill": {
              "color": "#EBF0F8"
             },
             "line": {
              "color": "white"
             }
            },
            "header": {
             "fill": {
              "color": "#C8D4E3"
             },
             "line": {
              "color": "white"
             }
            },
            "type": "table"
           }
          ]
         },
         "layout": {
          "annotationdefaults": {
           "arrowcolor": "#2a3f5f",
           "arrowhead": 0,
           "arrowwidth": 1
          },
          "coloraxis": {
           "colorbar": {
            "outlinewidth": 0,
            "ticks": ""
           }
          },
          "colorscale": {
           "diverging": [
            [
             0,
             "#8e0152"
            ],
            [
             0.1,
             "#c51b7d"
            ],
            [
             0.2,
             "#de77ae"
            ],
            [
             0.3,
             "#f1b6da"
            ],
            [
             0.4,
             "#fde0ef"
            ],
            [
             0.5,
             "#f7f7f7"
            ],
            [
             0.6,
             "#e6f5d0"
            ],
            [
             0.7,
             "#b8e186"
            ],
            [
             0.8,
             "#7fbc41"
            ],
            [
             0.9,
             "#4d9221"
            ],
            [
             1,
             "#276419"
            ]
           ],
           "sequential": [
            [
             0,
             "#0d0887"
            ],
            [
             0.1111111111111111,
             "#46039f"
            ],
            [
             0.2222222222222222,
             "#7201a8"
            ],
            [
             0.3333333333333333,
             "#9c179e"
            ],
            [
             0.4444444444444444,
             "#bd3786"
            ],
            [
             0.5555555555555556,
             "#d8576b"
            ],
            [
             0.6666666666666666,
             "#ed7953"
            ],
            [
             0.7777777777777778,
             "#fb9f3a"
            ],
            [
             0.8888888888888888,
             "#fdca26"
            ],
            [
             1,
             "#f0f921"
            ]
           ],
           "sequentialminus": [
            [
             0,
             "#0d0887"
            ],
            [
             0.1111111111111111,
             "#46039f"
            ],
            [
             0.2222222222222222,
             "#7201a8"
            ],
            [
             0.3333333333333333,
             "#9c179e"
            ],
            [
             0.4444444444444444,
             "#bd3786"
            ],
            [
             0.5555555555555556,
             "#d8576b"
            ],
            [
             0.6666666666666666,
             "#ed7953"
            ],
            [
             0.7777777777777778,
             "#fb9f3a"
            ],
            [
             0.8888888888888888,
             "#fdca26"
            ],
            [
             1,
             "#f0f921"
            ]
           ]
          },
          "colorway": [
           "#636efa",
           "#EF553B",
           "#00cc96",
           "#ab63fa",
           "#FFA15A",
           "#19d3f3",
           "#FF6692",
           "#B6E880",
           "#FF97FF",
           "#FECB52"
          ],
          "font": {
           "color": "#2a3f5f"
          },
          "geo": {
           "bgcolor": "white",
           "lakecolor": "white",
           "landcolor": "#E5ECF6",
           "showlakes": true,
           "showland": true,
           "subunitcolor": "white"
          },
          "hoverlabel": {
           "align": "left"
          },
          "hovermode": "closest",
          "mapbox": {
           "style": "light"
          },
          "paper_bgcolor": "white",
          "plot_bgcolor": "#E5ECF6",
          "polar": {
           "angularaxis": {
            "gridcolor": "white",
            "linecolor": "white",
            "ticks": ""
           },
           "bgcolor": "#E5ECF6",
           "radialaxis": {
            "gridcolor": "white",
            "linecolor": "white",
            "ticks": ""
           }
          },
          "scene": {
           "xaxis": {
            "backgroundcolor": "#E5ECF6",
            "gridcolor": "white",
            "gridwidth": 2,
            "linecolor": "white",
            "showbackground": true,
            "ticks": "",
            "zerolinecolor": "white"
           },
           "yaxis": {
            "backgroundcolor": "#E5ECF6",
            "gridcolor": "white",
            "gridwidth": 2,
            "linecolor": "white",
            "showbackground": true,
            "ticks": "",
            "zerolinecolor": "white"
           },
           "zaxis": {
            "backgroundcolor": "#E5ECF6",
            "gridcolor": "white",
            "gridwidth": 2,
            "linecolor": "white",
            "showbackground": true,
            "ticks": "",
            "zerolinecolor": "white"
           }
          },
          "shapedefaults": {
           "line": {
            "color": "#2a3f5f"
           }
          },
          "ternary": {
           "aaxis": {
            "gridcolor": "white",
            "linecolor": "white",
            "ticks": ""
           },
           "baxis": {
            "gridcolor": "white",
            "linecolor": "white",
            "ticks": ""
           },
           "bgcolor": "#E5ECF6",
           "caxis": {
            "gridcolor": "white",
            "linecolor": "white",
            "ticks": ""
           }
          },
          "title": {
           "x": 0.05
          },
          "xaxis": {
           "automargin": true,
           "gridcolor": "white",
           "linecolor": "white",
           "ticks": "",
           "title": {
            "standoff": 15
           },
           "zerolinecolor": "white",
           "zerolinewidth": 2
          },
          "yaxis": {
           "automargin": true,
           "gridcolor": "white",
           "linecolor": "white",
           "ticks": "",
           "title": {
            "standoff": 15
           },
           "zerolinecolor": "white",
           "zerolinewidth": 2
          }
         }
        },
        "title": {
         "text": "Está satisfeito com a ferramenta DreamShaper? - 2017/2018"
        },
        "xaxis": {
         "anchor": "y",
         "domain": [
          0,
          1
         ],
         "title": {
          "text": "Liked?"
         },
         "type": "category"
        },
        "yaxis": {
         "anchor": "x",
         "domain": [
          0,
          1
         ],
         "title": {
          "text": "percentage"
         }
        }
       }
      },
      "text/html": [
       "<div>                            <div id=\"58b80f2e-5294-4fab-abba-7b90db4769bb\" class=\"plotly-graph-div\" style=\"height:525px; width:100%;\"></div>            <script type=\"text/javascript\">                require([\"plotly\"], function(Plotly) {                    window.PLOTLYENV=window.PLOTLYENV || {};                                    if (document.getElementById(\"58b80f2e-5294-4fab-abba-7b90db4769bb\")) {                    Plotly.newPlot(                        \"58b80f2e-5294-4fab-abba-7b90db4769bb\",                        [{\"alignmentgroup\": \"True\", \"hovertemplate\": \"Liked?=%{x}<br>percentage=%{y}<extra></extra>\", \"legendgroup\": \"\", \"marker\": {\"color\": \"#636efa\"}, \"name\": \"\", \"offsetgroup\": \"\", \"orientation\": \"v\", \"showlegend\": false, \"textposition\": \"auto\", \"type\": \"bar\", \"x\": [1.0, 2.0, 3.0, 4.0], \"xaxis\": \"x\", \"y\": [0.004597701149425287, 0.01954022988505747, 0.332183908045977, 0.6436781609195402], \"yaxis\": \"y\"}],                        {\"barmode\": \"relative\", \"legend\": {\"tracegroupgap\": 0}, \"margin\": {\"t\": 60}, \"template\": {\"data\": {\"bar\": [{\"error_x\": {\"color\": \"#2a3f5f\"}, \"error_y\": {\"color\": \"#2a3f5f\"}, \"marker\": {\"line\": {\"color\": \"#E5ECF6\", \"width\": 0.5}}, \"type\": \"bar\"}], \"barpolar\": [{\"marker\": {\"line\": {\"color\": \"#E5ECF6\", \"width\": 0.5}}, \"type\": \"barpolar\"}], \"carpet\": [{\"aaxis\": {\"endlinecolor\": \"#2a3f5f\", \"gridcolor\": \"white\", \"linecolor\": \"white\", \"minorgridcolor\": \"white\", \"startlinecolor\": \"#2a3f5f\"}, \"baxis\": {\"endlinecolor\": \"#2a3f5f\", \"gridcolor\": \"white\", \"linecolor\": \"white\", \"minorgridcolor\": \"white\", \"startlinecolor\": \"#2a3f5f\"}, \"type\": \"carpet\"}], \"choropleth\": [{\"colorbar\": {\"outlinewidth\": 0, \"ticks\": \"\"}, \"type\": \"choropleth\"}], \"contour\": [{\"colorbar\": {\"outlinewidth\": 0, \"ticks\": \"\"}, \"colorscale\": [[0.0, \"#0d0887\"], [0.1111111111111111, \"#46039f\"], [0.2222222222222222, \"#7201a8\"], [0.3333333333333333, \"#9c179e\"], [0.4444444444444444, \"#bd3786\"], [0.5555555555555556, \"#d8576b\"], [0.6666666666666666, \"#ed7953\"], [0.7777777777777778, \"#fb9f3a\"], [0.8888888888888888, \"#fdca26\"], [1.0, \"#f0f921\"]], \"type\": \"contour\"}], \"contourcarpet\": [{\"colorbar\": {\"outlinewidth\": 0, \"ticks\": \"\"}, \"type\": \"contourcarpet\"}], \"heatmap\": [{\"colorbar\": {\"outlinewidth\": 0, \"ticks\": \"\"}, \"colorscale\": [[0.0, \"#0d0887\"], [0.1111111111111111, \"#46039f\"], [0.2222222222222222, \"#7201a8\"], [0.3333333333333333, \"#9c179e\"], [0.4444444444444444, \"#bd3786\"], [0.5555555555555556, \"#d8576b\"], [0.6666666666666666, \"#ed7953\"], [0.7777777777777778, \"#fb9f3a\"], [0.8888888888888888, \"#fdca26\"], [1.0, \"#f0f921\"]], \"type\": \"heatmap\"}], \"heatmapgl\": [{\"colorbar\": {\"outlinewidth\": 0, \"ticks\": \"\"}, \"colorscale\": [[0.0, \"#0d0887\"], [0.1111111111111111, \"#46039f\"], [0.2222222222222222, \"#7201a8\"], [0.3333333333333333, \"#9c179e\"], [0.4444444444444444, \"#bd3786\"], [0.5555555555555556, \"#d8576b\"], [0.6666666666666666, \"#ed7953\"], [0.7777777777777778, \"#fb9f3a\"], [0.8888888888888888, \"#fdca26\"], [1.0, \"#f0f921\"]], \"type\": \"heatmapgl\"}], \"histogram\": [{\"marker\": {\"colorbar\": {\"outlinewidth\": 0, \"ticks\": \"\"}}, \"type\": \"histogram\"}], \"histogram2d\": [{\"colorbar\": {\"outlinewidth\": 0, \"ticks\": \"\"}, \"colorscale\": [[0.0, \"#0d0887\"], [0.1111111111111111, \"#46039f\"], [0.2222222222222222, \"#7201a8\"], [0.3333333333333333, \"#9c179e\"], [0.4444444444444444, \"#bd3786\"], [0.5555555555555556, \"#d8576b\"], [0.6666666666666666, \"#ed7953\"], [0.7777777777777778, \"#fb9f3a\"], [0.8888888888888888, \"#fdca26\"], [1.0, \"#f0f921\"]], \"type\": \"histogram2d\"}], \"histogram2dcontour\": [{\"colorbar\": {\"outlinewidth\": 0, \"ticks\": \"\"}, \"colorscale\": [[0.0, \"#0d0887\"], [0.1111111111111111, \"#46039f\"], [0.2222222222222222, \"#7201a8\"], [0.3333333333333333, \"#9c179e\"], [0.4444444444444444, \"#bd3786\"], [0.5555555555555556, \"#d8576b\"], [0.6666666666666666, \"#ed7953\"], [0.7777777777777778, \"#fb9f3a\"], [0.8888888888888888, \"#fdca26\"], [1.0, \"#f0f921\"]], \"type\": \"histogram2dcontour\"}], \"mesh3d\": [{\"colorbar\": {\"outlinewidth\": 0, \"ticks\": \"\"}, \"type\": \"mesh3d\"}], \"parcoords\": [{\"line\": {\"colorbar\": {\"outlinewidth\": 0, \"ticks\": \"\"}}, \"type\": \"parcoords\"}], \"pie\": [{\"automargin\": true, \"type\": \"pie\"}], \"scatter\": [{\"marker\": {\"colorbar\": {\"outlinewidth\": 0, \"ticks\": \"\"}}, \"type\": \"scatter\"}], \"scatter3d\": [{\"line\": {\"colorbar\": {\"outlinewidth\": 0, \"ticks\": \"\"}}, \"marker\": {\"colorbar\": {\"outlinewidth\": 0, \"ticks\": \"\"}}, \"type\": \"scatter3d\"}], \"scattercarpet\": [{\"marker\": {\"colorbar\": {\"outlinewidth\": 0, \"ticks\": \"\"}}, \"type\": \"scattercarpet\"}], \"scattergeo\": [{\"marker\": {\"colorbar\": {\"outlinewidth\": 0, \"ticks\": \"\"}}, \"type\": \"scattergeo\"}], \"scattergl\": [{\"marker\": {\"colorbar\": {\"outlinewidth\": 0, \"ticks\": \"\"}}, \"type\": \"scattergl\"}], \"scattermapbox\": [{\"marker\": {\"colorbar\": {\"outlinewidth\": 0, \"ticks\": \"\"}}, \"type\": \"scattermapbox\"}], \"scatterpolar\": [{\"marker\": {\"colorbar\": {\"outlinewidth\": 0, \"ticks\": \"\"}}, \"type\": \"scatterpolar\"}], \"scatterpolargl\": [{\"marker\": {\"colorbar\": {\"outlinewidth\": 0, \"ticks\": \"\"}}, \"type\": \"scatterpolargl\"}], \"scatterternary\": [{\"marker\": {\"colorbar\": {\"outlinewidth\": 0, \"ticks\": \"\"}}, \"type\": \"scatterternary\"}], \"surface\": [{\"colorbar\": {\"outlinewidth\": 0, \"ticks\": \"\"}, \"colorscale\": [[0.0, \"#0d0887\"], [0.1111111111111111, \"#46039f\"], [0.2222222222222222, \"#7201a8\"], [0.3333333333333333, \"#9c179e\"], [0.4444444444444444, \"#bd3786\"], [0.5555555555555556, \"#d8576b\"], [0.6666666666666666, \"#ed7953\"], [0.7777777777777778, \"#fb9f3a\"], [0.8888888888888888, \"#fdca26\"], [1.0, \"#f0f921\"]], \"type\": \"surface\"}], \"table\": [{\"cells\": {\"fill\": {\"color\": \"#EBF0F8\"}, \"line\": {\"color\": \"white\"}}, \"header\": {\"fill\": {\"color\": \"#C8D4E3\"}, \"line\": {\"color\": \"white\"}}, \"type\": \"table\"}]}, \"layout\": {\"annotationdefaults\": {\"arrowcolor\": \"#2a3f5f\", \"arrowhead\": 0, \"arrowwidth\": 1}, \"coloraxis\": {\"colorbar\": {\"outlinewidth\": 0, \"ticks\": \"\"}}, \"colorscale\": {\"diverging\": [[0, \"#8e0152\"], [0.1, \"#c51b7d\"], [0.2, \"#de77ae\"], [0.3, \"#f1b6da\"], [0.4, \"#fde0ef\"], [0.5, \"#f7f7f7\"], [0.6, \"#e6f5d0\"], [0.7, \"#b8e186\"], [0.8, \"#7fbc41\"], [0.9, \"#4d9221\"], [1, \"#276419\"]], \"sequential\": [[0.0, \"#0d0887\"], [0.1111111111111111, \"#46039f\"], [0.2222222222222222, \"#7201a8\"], [0.3333333333333333, \"#9c179e\"], [0.4444444444444444, \"#bd3786\"], [0.5555555555555556, \"#d8576b\"], [0.6666666666666666, \"#ed7953\"], [0.7777777777777778, \"#fb9f3a\"], [0.8888888888888888, \"#fdca26\"], [1.0, \"#f0f921\"]], \"sequentialminus\": [[0.0, \"#0d0887\"], [0.1111111111111111, \"#46039f\"], [0.2222222222222222, \"#7201a8\"], [0.3333333333333333, \"#9c179e\"], [0.4444444444444444, \"#bd3786\"], [0.5555555555555556, \"#d8576b\"], [0.6666666666666666, \"#ed7953\"], [0.7777777777777778, \"#fb9f3a\"], [0.8888888888888888, \"#fdca26\"], [1.0, \"#f0f921\"]]}, \"colorway\": [\"#636efa\", \"#EF553B\", \"#00cc96\", \"#ab63fa\", \"#FFA15A\", \"#19d3f3\", \"#FF6692\", \"#B6E880\", \"#FF97FF\", \"#FECB52\"], \"font\": {\"color\": \"#2a3f5f\"}, \"geo\": {\"bgcolor\": \"white\", \"lakecolor\": \"white\", \"landcolor\": \"#E5ECF6\", \"showlakes\": true, \"showland\": true, \"subunitcolor\": \"white\"}, \"hoverlabel\": {\"align\": \"left\"}, \"hovermode\": \"closest\", \"mapbox\": {\"style\": \"light\"}, \"paper_bgcolor\": \"white\", \"plot_bgcolor\": \"#E5ECF6\", \"polar\": {\"angularaxis\": {\"gridcolor\": \"white\", \"linecolor\": \"white\", \"ticks\": \"\"}, \"bgcolor\": \"#E5ECF6\", \"radialaxis\": {\"gridcolor\": \"white\", \"linecolor\": \"white\", \"ticks\": \"\"}}, \"scene\": {\"xaxis\": {\"backgroundcolor\": \"#E5ECF6\", \"gridcolor\": \"white\", \"gridwidth\": 2, \"linecolor\": \"white\", \"showbackground\": true, \"ticks\": \"\", \"zerolinecolor\": \"white\"}, \"yaxis\": {\"backgroundcolor\": \"#E5ECF6\", \"gridcolor\": \"white\", \"gridwidth\": 2, \"linecolor\": \"white\", \"showbackground\": true, \"ticks\": \"\", \"zerolinecolor\": \"white\"}, \"zaxis\": {\"backgroundcolor\": \"#E5ECF6\", \"gridcolor\": \"white\", \"gridwidth\": 2, \"linecolor\": \"white\", \"showbackground\": true, \"ticks\": \"\", \"zerolinecolor\": \"white\"}}, \"shapedefaults\": {\"line\": {\"color\": \"#2a3f5f\"}}, \"ternary\": {\"aaxis\": {\"gridcolor\": \"white\", \"linecolor\": \"white\", \"ticks\": \"\"}, \"baxis\": {\"gridcolor\": \"white\", \"linecolor\": \"white\", \"ticks\": \"\"}, \"bgcolor\": \"#E5ECF6\", \"caxis\": {\"gridcolor\": \"white\", \"linecolor\": \"white\", \"ticks\": \"\"}}, \"title\": {\"x\": 0.05}, \"xaxis\": {\"automargin\": true, \"gridcolor\": \"white\", \"linecolor\": \"white\", \"ticks\": \"\", \"title\": {\"standoff\": 15}, \"zerolinecolor\": \"white\", \"zerolinewidth\": 2}, \"yaxis\": {\"automargin\": true, \"gridcolor\": \"white\", \"linecolor\": \"white\", \"ticks\": \"\", \"title\": {\"standoff\": 15}, \"zerolinecolor\": \"white\", \"zerolinewidth\": 2}}}, \"title\": {\"text\": \"Est\\u00e1 satisfeito com a ferramenta DreamShaper? - 2017/2018\"}, \"xaxis\": {\"anchor\": \"y\", \"domain\": [0.0, 1.0], \"title\": {\"text\": \"Liked?\"}, \"type\": \"category\"}, \"yaxis\": {\"anchor\": \"x\", \"domain\": [0.0, 1.0], \"title\": {\"text\": \"percentage\"}}},                        {\"responsive\": true}                    ).then(function(){\n",
       "                            \n",
       "var gd = document.getElementById('58b80f2e-5294-4fab-abba-7b90db4769bb');\n",
       "var x = new MutationObserver(function (mutations, observer) {{\n",
       "        var display = window.getComputedStyle(gd).display;\n",
       "        if (!display || display === 'none') {{\n",
       "            console.log([gd, 'removed!']);\n",
       "            Plotly.purge(gd);\n",
       "            observer.disconnect();\n",
       "        }}\n",
       "}});\n",
       "\n",
       "// Listen for the removal of the full notebook cells\n",
       "var notebookContainer = gd.closest('#notebook-container');\n",
       "if (notebookContainer) {{\n",
       "    x.observe(notebookContainer, {childList: true});\n",
       "}}\n",
       "\n",
       "// Listen for the clearing of the current output cell\n",
       "var outputEl = gd.closest('.output');\n",
       "if (outputEl) {{\n",
       "    x.observe(outputEl, {childList: true});\n",
       "}}\n",
       "\n",
       "                        })                };                });            </script>        </div>"
      ]
     },
     "metadata": {},
     "output_type": "display_data"
    }
   ],
   "source": [
    "import plotly_express as px\n",
    "\n",
    "fig = px.bar(Ano20172018Liked, x='Liked?', y='percentage')\n",
    "\n",
    "fig.update_layout(title_text='Está satisfeito com a ferramenta DreamShaper? - 2017/2018')\n",
    "fig.update_layout(xaxis_type='category')\n",
    "\n",
    "\n",
    "fig.show()\n",
    "fig.write_image('Outputs/ImageOutputsYear/Ano20172018Liked.png')\n"
   ]
  },
  {
   "cell_type": "code",
   "execution_count": 106,
   "metadata": {},
   "outputs": [
    {
     "data": {
      "image/png": "[encoded data removed]",
      "text/plain": [
       "<IPython.core.display.Image object>"
      ]
     },
     "execution_count": 106,
     "metadata": {},
     "output_type": "execute_result"
    }
   ],
   "source": [
    "from IPython.display import Image\n",
    "Image(filename='Outputs/ImageOutputsYear/Ano20172018Liked.png')\n"
   ]
  },
  {
   "cell_type": "code",
   "execution_count": null,
   "metadata": {},
   "outputs": [],
   "source": []
  },
  {
   "cell_type": "code",
   "execution_count": null,
   "metadata": {},
   "outputs": [],
   "source": []
  },
  {
   "cell_type": "markdown",
   "metadata": {},
   "source": [
    "### Save Processed Data<a name=\"processeddata\"></a>\n",
    "* [Back to TOC](#backtoc)\n"
   ]
  },
  {
   "cell_type": "code",
   "execution_count": 107,
   "metadata": {},
   "outputs": [],
   "source": [
    "Ano20172018.to_csv(r'Data/DadosPorAnoProcessados/Ano20172018Processed.csv', index = False)\n"
   ]
  },
  {
   "cell_type": "code",
   "execution_count": 108,
   "metadata": {},
   "outputs": [
    {
     "data": {
      "text/html": [
       "<div>\n",
       "<style scoped>\n",
       "    .dataframe tbody tr th:only-of-type {\n",
       "        vertical-align: middle;\n",
       "    }\n",
       "\n",
       "    .dataframe tbody tr th {\n",
       "        vertical-align: top;\n",
       "    }\n",
       "\n",
       "    .dataframe thead th {\n",
       "        text-align: right;\n",
       "    }\n",
       "</style>\n",
       "<table border=\"1\" class=\"dataframe\">\n",
       "  <thead>\n",
       "    <tr style=\"text-align: right;\">\n",
       "      <th></th>\n",
       "      <th>Está satisfeito com a ferramenta DreamShaper?</th>\n",
       "      <th>Positivos:Aspecto Visual</th>\n",
       "      <th>Positivos:Navegação na Ferramenta</th>\n",
       "      <th>Positivos:Perguntas</th>\n",
       "      <th>Positivos:Exemplos</th>\n",
       "      <th>Positivos:Vídeos</th>\n",
       "      <th>Positivos:Modelo de Negócios</th>\n",
       "      <th>Positivos:Indicações de Interface</th>\n",
       "      <th>Positivos:Mural de Equipa</th>\n",
       "      <th>Positivos:Gestão de Equipa</th>\n",
       "      <th>...</th>\n",
       "      <th>Negativos:Perguntas</th>\n",
       "      <th>Negativos:Exemplos</th>\n",
       "      <th>Negativos:Vídeos</th>\n",
       "      <th>Negativos:Modelo de Negócios</th>\n",
       "      <th>Negativos:Indicações de Interface</th>\n",
       "      <th>Negativos:Mural de Equipa</th>\n",
       "      <th>Negativos:Gestão de Equipa</th>\n",
       "      <th>Negativos:Gestão de Projectos</th>\n",
       "      <th>Quanto aprendeu com a DreamShaper?</th>\n",
       "      <th>Quanto aprendeu com a DreamShaper?Encod</th>\n",
       "    </tr>\n",
       "  </thead>\n",
       "  <tbody>\n",
       "    <tr>\n",
       "      <th>0</th>\n",
       "      <td>4.0</td>\n",
       "      <td>0</td>\n",
       "      <td>0</td>\n",
       "      <td>1</td>\n",
       "      <td>1</td>\n",
       "      <td>0</td>\n",
       "      <td>0</td>\n",
       "      <td>1</td>\n",
       "      <td>0</td>\n",
       "      <td>0</td>\n",
       "      <td>...</td>\n",
       "      <td>0</td>\n",
       "      <td>0</td>\n",
       "      <td>0</td>\n",
       "      <td>0</td>\n",
       "      <td>0</td>\n",
       "      <td>0</td>\n",
       "      <td>0</td>\n",
       "      <td>1</td>\n",
       "      <td>Alguma coisa</td>\n",
       "      <td>3.0</td>\n",
       "    </tr>\n",
       "    <tr>\n",
       "      <th>1</th>\n",
       "      <td>4.0</td>\n",
       "      <td>0</td>\n",
       "      <td>1</td>\n",
       "      <td>0</td>\n",
       "      <td>1</td>\n",
       "      <td>0</td>\n",
       "      <td>1</td>\n",
       "      <td>0</td>\n",
       "      <td>0</td>\n",
       "      <td>0</td>\n",
       "      <td>...</td>\n",
       "      <td>0</td>\n",
       "      <td>0</td>\n",
       "      <td>0</td>\n",
       "      <td>0</td>\n",
       "      <td>0</td>\n",
       "      <td>1</td>\n",
       "      <td>1</td>\n",
       "      <td>1</td>\n",
       "      <td>Bastante</td>\n",
       "      <td>4.0</td>\n",
       "    </tr>\n",
       "    <tr>\n",
       "      <th>2</th>\n",
       "      <td>4.0</td>\n",
       "      <td>0</td>\n",
       "      <td>1</td>\n",
       "      <td>1</td>\n",
       "      <td>0</td>\n",
       "      <td>0</td>\n",
       "      <td>0</td>\n",
       "      <td>0</td>\n",
       "      <td>0</td>\n",
       "      <td>0</td>\n",
       "      <td>...</td>\n",
       "      <td>0</td>\n",
       "      <td>1</td>\n",
       "      <td>0</td>\n",
       "      <td>0</td>\n",
       "      <td>0</td>\n",
       "      <td>0</td>\n",
       "      <td>0</td>\n",
       "      <td>0</td>\n",
       "      <td>Alguma coisa</td>\n",
       "      <td>3.0</td>\n",
       "    </tr>\n",
       "    <tr>\n",
       "      <th>3</th>\n",
       "      <td>4.0</td>\n",
       "      <td>1</td>\n",
       "      <td>1</td>\n",
       "      <td>0</td>\n",
       "      <td>1</td>\n",
       "      <td>0</td>\n",
       "      <td>0</td>\n",
       "      <td>0</td>\n",
       "      <td>0</td>\n",
       "      <td>0</td>\n",
       "      <td>...</td>\n",
       "      <td>0</td>\n",
       "      <td>0</td>\n",
       "      <td>0</td>\n",
       "      <td>1</td>\n",
       "      <td>1</td>\n",
       "      <td>0</td>\n",
       "      <td>0</td>\n",
       "      <td>1</td>\n",
       "      <td>Bastante</td>\n",
       "      <td>4.0</td>\n",
       "    </tr>\n",
       "    <tr>\n",
       "      <th>4</th>\n",
       "      <td>4.0</td>\n",
       "      <td>0</td>\n",
       "      <td>0</td>\n",
       "      <td>1</td>\n",
       "      <td>0</td>\n",
       "      <td>1</td>\n",
       "      <td>0</td>\n",
       "      <td>1</td>\n",
       "      <td>0</td>\n",
       "      <td>0</td>\n",
       "      <td>...</td>\n",
       "      <td>0</td>\n",
       "      <td>1</td>\n",
       "      <td>0</td>\n",
       "      <td>1</td>\n",
       "      <td>0</td>\n",
       "      <td>0</td>\n",
       "      <td>0</td>\n",
       "      <td>0</td>\n",
       "      <td>Alguma coisa</td>\n",
       "      <td>3.0</td>\n",
       "    </tr>\n",
       "    <tr>\n",
       "      <th>...</th>\n",
       "      <td>...</td>\n",
       "      <td>...</td>\n",
       "      <td>...</td>\n",
       "      <td>...</td>\n",
       "      <td>...</td>\n",
       "      <td>...</td>\n",
       "      <td>...</td>\n",
       "      <td>...</td>\n",
       "      <td>...</td>\n",
       "      <td>...</td>\n",
       "      <td>...</td>\n",
       "      <td>...</td>\n",
       "      <td>...</td>\n",
       "      <td>...</td>\n",
       "      <td>...</td>\n",
       "      <td>...</td>\n",
       "      <td>...</td>\n",
       "      <td>...</td>\n",
       "      <td>...</td>\n",
       "      <td>...</td>\n",
       "      <td>...</td>\n",
       "    </tr>\n",
       "    <tr>\n",
       "      <th>882</th>\n",
       "      <td>4.0</td>\n",
       "      <td>1</td>\n",
       "      <td>1</td>\n",
       "      <td>0</td>\n",
       "      <td>1</td>\n",
       "      <td>0</td>\n",
       "      <td>1</td>\n",
       "      <td>1</td>\n",
       "      <td>0</td>\n",
       "      <td>0</td>\n",
       "      <td>...</td>\n",
       "      <td>1</td>\n",
       "      <td>0</td>\n",
       "      <td>1</td>\n",
       "      <td>0</td>\n",
       "      <td>0</td>\n",
       "      <td>0</td>\n",
       "      <td>0</td>\n",
       "      <td>0</td>\n",
       "      <td>Bastante</td>\n",
       "      <td>4.0</td>\n",
       "    </tr>\n",
       "    <tr>\n",
       "      <th>883</th>\n",
       "      <td>4.0</td>\n",
       "      <td>1</td>\n",
       "      <td>1</td>\n",
       "      <td>1</td>\n",
       "      <td>0</td>\n",
       "      <td>0</td>\n",
       "      <td>1</td>\n",
       "      <td>0</td>\n",
       "      <td>0</td>\n",
       "      <td>0</td>\n",
       "      <td>...</td>\n",
       "      <td>0</td>\n",
       "      <td>1</td>\n",
       "      <td>0</td>\n",
       "      <td>0</td>\n",
       "      <td>0</td>\n",
       "      <td>1</td>\n",
       "      <td>0</td>\n",
       "      <td>0</td>\n",
       "      <td>Bastante</td>\n",
       "      <td>4.0</td>\n",
       "    </tr>\n",
       "    <tr>\n",
       "      <th>884</th>\n",
       "      <td>4.0</td>\n",
       "      <td>0</td>\n",
       "      <td>1</td>\n",
       "      <td>0</td>\n",
       "      <td>1</td>\n",
       "      <td>1</td>\n",
       "      <td>0</td>\n",
       "      <td>0</td>\n",
       "      <td>0</td>\n",
       "      <td>0</td>\n",
       "      <td>...</td>\n",
       "      <td>1</td>\n",
       "      <td>0</td>\n",
       "      <td>0</td>\n",
       "      <td>0</td>\n",
       "      <td>1</td>\n",
       "      <td>0</td>\n",
       "      <td>1</td>\n",
       "      <td>0</td>\n",
       "      <td>Alguma coisa</td>\n",
       "      <td>3.0</td>\n",
       "    </tr>\n",
       "    <tr>\n",
       "      <th>885</th>\n",
       "      <td>3.0</td>\n",
       "      <td>1</td>\n",
       "      <td>0</td>\n",
       "      <td>1</td>\n",
       "      <td>0</td>\n",
       "      <td>1</td>\n",
       "      <td>0</td>\n",
       "      <td>0</td>\n",
       "      <td>0</td>\n",
       "      <td>0</td>\n",
       "      <td>...</td>\n",
       "      <td>0</td>\n",
       "      <td>0</td>\n",
       "      <td>0</td>\n",
       "      <td>0</td>\n",
       "      <td>0</td>\n",
       "      <td>0</td>\n",
       "      <td>0</td>\n",
       "      <td>0</td>\n",
       "      <td>Imenso</td>\n",
       "      <td>5.0</td>\n",
       "    </tr>\n",
       "    <tr>\n",
       "      <th>886</th>\n",
       "      <td>4.0</td>\n",
       "      <td>0</td>\n",
       "      <td>1</td>\n",
       "      <td>0</td>\n",
       "      <td>0</td>\n",
       "      <td>0</td>\n",
       "      <td>1</td>\n",
       "      <td>0</td>\n",
       "      <td>0</td>\n",
       "      <td>0</td>\n",
       "      <td>...</td>\n",
       "      <td>0</td>\n",
       "      <td>1</td>\n",
       "      <td>1</td>\n",
       "      <td>0</td>\n",
       "      <td>1</td>\n",
       "      <td>0</td>\n",
       "      <td>0</td>\n",
       "      <td>0</td>\n",
       "      <td>Alguma coisa</td>\n",
       "      <td>3.0</td>\n",
       "    </tr>\n",
       "  </tbody>\n",
       "</table>\n",
       "<p>870 rows × 23 columns</p>\n",
       "</div>"
      ],
      "text/plain": [
       "     Está satisfeito com a ferramenta DreamShaper?  Positivos:Aspecto Visual  \\\n",
       "0                                              4.0                         0   \n",
       "1                                              4.0                         0   \n",
       "2                                              4.0                         0   \n",
       "3                                              4.0                         1   \n",
       "4                                              4.0                         0   \n",
       "..                                             ...                       ...   \n",
       "882                                            4.0                         1   \n",
       "883                                            4.0                         1   \n",
       "884                                            4.0                         0   \n",
       "885                                            3.0                         1   \n",
       "886                                            4.0                         0   \n",
       "\n",
       "     Positivos:Navegação na Ferramenta  Positivos:Perguntas  \\\n",
       "0                                    0                    1   \n",
       "1                                    1                    0   \n",
       "2                                    1                    1   \n",
       "3                                    1                    0   \n",
       "4                                    0                    1   \n",
       "..                                 ...                  ...   \n",
       "882                                  1                    0   \n",
       "883                                  1                    1   \n",
       "884                                  1                    0   \n",
       "885                                  0                    1   \n",
       "886                                  1                    0   \n",
       "\n",
       "     Positivos:Exemplos  Positivos:Vídeos  Positivos:Modelo de Negócios  \\\n",
       "0                     1                 0                             0   \n",
       "1                     1                 0                             1   \n",
       "2                     0                 0                             0   \n",
       "3                     1                 0                             0   \n",
       "4                     0                 1                             0   \n",
       "..                  ...               ...                           ...   \n",
       "882                   1                 0                             1   \n",
       "883                   0                 0                             1   \n",
       "884                   1                 1                             0   \n",
       "885                   0                 1                             0   \n",
       "886                   0                 0                             1   \n",
       "\n",
       "     Positivos:Indicações de Interface  Positivos:Mural de Equipa  \\\n",
       "0                                    1                          0   \n",
       "1                                    0                          0   \n",
       "2                                    0                          0   \n",
       "3                                    0                          0   \n",
       "4                                    1                          0   \n",
       "..                                 ...                        ...   \n",
       "882                                  1                          0   \n",
       "883                                  0                          0   \n",
       "884                                  0                          0   \n",
       "885                                  0                          0   \n",
       "886                                  0                          0   \n",
       "\n",
       "     Positivos:Gestão de Equipa  ...  Negativos:Perguntas  Negativos:Exemplos  \\\n",
       "0                             0  ...                    0                   0   \n",
       "1                             0  ...                    0                   0   \n",
       "2                             0  ...                    0                   1   \n",
       "3                             0  ...                    0                   0   \n",
       "4                             0  ...                    0                   1   \n",
       "..                          ...  ...                  ...                 ...   \n",
       "882                           0  ...                    1                   0   \n",
       "883                           0  ...                    0                   1   \n",
       "884                           0  ...                    1                   0   \n",
       "885                           0  ...                    0                   0   \n",
       "886                           0  ...                    0                   1   \n",
       "\n",
       "     Negativos:Vídeos  Negativos:Modelo de Negócios  \\\n",
       "0                   0                             0   \n",
       "1                   0                             0   \n",
       "2                   0                             0   \n",
       "3                   0                             1   \n",
       "4                   0                             1   \n",
       "..                ...                           ...   \n",
       "882                 1                             0   \n",
       "883                 0                             0   \n",
       "884                 0                             0   \n",
       "885                 0                             0   \n",
       "886                 1                             0   \n",
       "\n",
       "     Negativos:Indicações de Interface  Negativos:Mural de Equipa  \\\n",
       "0                                    0                          0   \n",
       "1                                    0                          1   \n",
       "2                                    0                          0   \n",
       "3                                    1                          0   \n",
       "4                                    0                          0   \n",
       "..                                 ...                        ...   \n",
       "882                                  0                          0   \n",
       "883                                  0                          1   \n",
       "884                                  1                          0   \n",
       "885                                  0                          0   \n",
       "886                                  1                          0   \n",
       "\n",
       "     Negativos:Gestão de Equipa  Negativos:Gestão de Projectos  \\\n",
       "0                             0                              1   \n",
       "1                             1                              1   \n",
       "2                             0                              0   \n",
       "3                             0                              1   \n",
       "4                             0                              0   \n",
       "..                          ...                            ...   \n",
       "882                           0                              0   \n",
       "883                           0                              0   \n",
       "884                           1                              0   \n",
       "885                           0                              0   \n",
       "886                           0                              0   \n",
       "\n",
       "     Quanto aprendeu com a DreamShaper?  \\\n",
       "0                          Alguma coisa   \n",
       "1                              Bastante   \n",
       "2                          Alguma coisa   \n",
       "3                              Bastante   \n",
       "4                          Alguma coisa   \n",
       "..                                  ...   \n",
       "882                            Bastante   \n",
       "883                            Bastante   \n",
       "884                        Alguma coisa   \n",
       "885                              Imenso   \n",
       "886                        Alguma coisa   \n",
       "\n",
       "     Quanto aprendeu com a DreamShaper?Encod  \n",
       "0                                        3.0  \n",
       "1                                        4.0  \n",
       "2                                        3.0  \n",
       "3                                        4.0  \n",
       "4                                        3.0  \n",
       "..                                       ...  \n",
       "882                                      4.0  \n",
       "883                                      4.0  \n",
       "884                                      3.0  \n",
       "885                                      5.0  \n",
       "886                                      3.0  \n",
       "\n",
       "[870 rows x 23 columns]"
      ]
     },
     "execution_count": 108,
     "metadata": {},
     "output_type": "execute_result"
    }
   ],
   "source": [
    "Ano20172018"
   ]
  },
  {
   "cell_type": "code",
   "execution_count": 109,
   "metadata": {},
   "outputs": [],
   "source": [
    "LikedOverYears.to_csv(r'Data/DadosAoLongoDosAnos/LikedOverYearsAno20172018.csv', index = False)\n"
   ]
  },
  {
   "cell_type": "code",
   "execution_count": 110,
   "metadata": {},
   "outputs": [
    {
     "data": {
      "text/html": [
       "<div>\n",
       "<style scoped>\n",
       "    .dataframe tbody tr th:only-of-type {\n",
       "        vertical-align: middle;\n",
       "    }\n",
       "\n",
       "    .dataframe tbody tr th {\n",
       "        vertical-align: top;\n",
       "    }\n",
       "\n",
       "    .dataframe thead th {\n",
       "        text-align: right;\n",
       "    }\n",
       "</style>\n",
       "<table border=\"1\" class=\"dataframe\">\n",
       "  <thead>\n",
       "    <tr style=\"text-align: right;\">\n",
       "      <th></th>\n",
       "      <th>Year</th>\n",
       "      <th>AverageLiked</th>\n",
       "    </tr>\n",
       "  </thead>\n",
       "  <tbody>\n",
       "    <tr>\n",
       "      <th>0</th>\n",
       "      <td>6-2017/2018</td>\n",
       "      <td>3.614943</td>\n",
       "    </tr>\n",
       "  </tbody>\n",
       "</table>\n",
       "</div>"
      ],
      "text/plain": [
       "          Year  AverageLiked\n",
       "0  6-2017/2018      3.614943"
      ]
     },
     "execution_count": 110,
     "metadata": {},
     "output_type": "execute_result"
    }
   ],
   "source": [
    "LikedOverYears"
   ]
  },
  {
   "cell_type": "code",
   "execution_count": 111,
   "metadata": {},
   "outputs": [],
   "source": [
    "LearnedOverYears.to_csv(r'Data/DadosAoLongoDosAnos/LearnedOverYearsAno20172018.csv', index = False)\n"
   ]
  },
  {
   "cell_type": "code",
   "execution_count": 112,
   "metadata": {},
   "outputs": [
    {
     "data": {
      "text/html": [
       "<div>\n",
       "<style scoped>\n",
       "    .dataframe tbody tr th:only-of-type {\n",
       "        vertical-align: middle;\n",
       "    }\n",
       "\n",
       "    .dataframe tbody tr th {\n",
       "        vertical-align: top;\n",
       "    }\n",
       "\n",
       "    .dataframe thead th {\n",
       "        text-align: right;\n",
       "    }\n",
       "</style>\n",
       "<table border=\"1\" class=\"dataframe\">\n",
       "  <thead>\n",
       "    <tr style=\"text-align: right;\">\n",
       "      <th></th>\n",
       "      <th>Year</th>\n",
       "      <th>AverageLearned</th>\n",
       "    </tr>\n",
       "  </thead>\n",
       "  <tbody>\n",
       "    <tr>\n",
       "      <th>0</th>\n",
       "      <td>6-2017/2018</td>\n",
       "      <td>3.824138</td>\n",
       "    </tr>\n",
       "  </tbody>\n",
       "</table>\n",
       "</div>"
      ],
      "text/plain": [
       "          Year  AverageLearned\n",
       "0  6-2017/2018        3.824138"
      ]
     },
     "execution_count": 112,
     "metadata": {},
     "output_type": "execute_result"
    }
   ],
   "source": [
    "LearnedOverYears"
   ]
  },
  {
   "cell_type": "code",
   "execution_count": null,
   "metadata": {},
   "outputs": [],
   "source": []
  },
  {
   "cell_type": "code",
   "execution_count": null,
   "metadata": {},
   "outputs": [],
   "source": []
  }
 ],
 "metadata": {
  "kernelspec": {
   "display_name": "Python 3",
   "language": "python",
   "name": "python3"
  },
  "language_info": {
   "codemirror_mode": {
    "name": "ipython",
    "version": 3
   },
   "file_extension": ".py",
   "mimetype": "text/x-python",
   "name": "python",
   "nbconvert_exporter": "python",
   "pygments_lexer": "ipython3",
   "version": "3.8.5"
  }
 },
 "nbformat": 4,
 "nbformat_minor": 4
}
