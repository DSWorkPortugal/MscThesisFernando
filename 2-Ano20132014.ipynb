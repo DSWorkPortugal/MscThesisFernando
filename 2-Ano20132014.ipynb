{
 "cells": [
  {
   "cell_type": "markdown",
   "metadata": {},
   "source": [
    "# Processing Ano 2013/2014"
   ]
  },
  {
   "cell_type": "markdown",
   "metadata": {},
   "source": [
    "<a class=\"anchor\" id=\"backtoc\"></a>"
   ]
  },
  {
   "cell_type": "markdown",
   "metadata": {},
   "source": [
    "# Table of Contents\n",
    "1. [Import Packages](#imports)\n",
    "2. [Import the Data](#importdata)\n",
    "3. [Preprocess Data](#preprocess)\n",
    "4. [Liked/Disliked](#likedDisliked)\n",
    "5. [Learned/NotLearned](#LearnedNot)\n",
    "\n",
    "6. [Positives and Negatives](#posneg)\n",
    "7. [Data Visualizations](#dataviz)\n",
    "8. [Save Processed Data](#processeddata)\n",
    "\n",
    "\n"
   ]
  },
  {
   "cell_type": "markdown",
   "metadata": {},
   "source": [
    "### Import Packages   <a name=\"imports\"></a>\n",
    "* [Back to TOC](#backtoc)\n"
   ]
  },
  {
   "cell_type": "code",
   "execution_count": 1,
   "metadata": {},
   "outputs": [],
   "source": [
    "# Import  libraries\n",
    "\n",
    "import pandas as pd\n",
    "import numpy as np \n",
    "\n",
    "\n",
    "import warnings\n",
    "warnings.filterwarnings(\"ignore\")\n"
   ]
  },
  {
   "cell_type": "markdown",
   "metadata": {},
   "source": [
    "### Import the data  <a name=\"importdata\"></a>\n",
    "* [Back to TOC](#backtoc)\n"
   ]
  },
  {
   "cell_type": "code",
   "execution_count": 2,
   "metadata": {},
   "outputs": [
    {
     "data": {
      "text/html": [
       "<div>\n",
       "<style scoped>\n",
       "    .dataframe tbody tr th:only-of-type {\n",
       "        vertical-align: middle;\n",
       "    }\n",
       "\n",
       "    .dataframe tbody tr th {\n",
       "        vertical-align: top;\n",
       "    }\n",
       "\n",
       "    .dataframe thead th {\n",
       "        text-align: right;\n",
       "    }\n",
       "</style>\n",
       "<table border=\"1\" class=\"dataframe\">\n",
       "  <thead>\n",
       "    <tr style=\"text-align: right;\">\n",
       "      <th></th>\n",
       "      <th>Está satisfeito com a ferramenta DreamShaper?</th>\n",
       "      <th>Sentiu que os vídeos da DreamShaper foram úteis para si?</th>\n",
       "      <th>Os exemplos foram úteis para si?</th>\n",
       "      <th>Acha que a ferramenta tem perguntas a mais ou, pelo contrário, gostaria de ter mais perguntas intermédias que ajudam a ir ‘entrando’ nos novos conceitos?</th>\n",
       "      <th>Quais são os seus 3 aspectos preferidos da ferramenta ? Aspecto Visual</th>\n",
       "      <th>Quais são os seus 3 aspectos preferidos da ferramenta ? Navegação na Ferramenta</th>\n",
       "      <th>Quais são os seus 3 aspectos preferidos da ferramenta ? Perguntas</th>\n",
       "      <th>Quais são os seus 3 aspectos preferidos da ferramenta ? Exemplos</th>\n",
       "      <th>Quais são os seus 3 aspectos preferidos da ferramenta ? Vídeos</th>\n",
       "      <th>Quais são os seus 3 aspectos preferidos da ferramenta ? Modelo de Negócios</th>\n",
       "      <th>...</th>\n",
       "      <th>E quais são os 3 aspectos que menos gosta? Exemplos</th>\n",
       "      <th>E quais são os 3 aspectos que menos gosta? Vídeos</th>\n",
       "      <th>E quais são os 3 aspectos que menos gosta? Modelo de negócios</th>\n",
       "      <th>E quais são os 3 aspectos que menos gosta? Indicações de interface</th>\n",
       "      <th>E quais são os 3 aspectos que menos gosta? Mural de equipa</th>\n",
       "      <th>E quais são os 3 aspectos que menos gosta? Gestão de equipa</th>\n",
       "      <th>E quais são os 3 aspectos que menos gosta? Gestão de projectos</th>\n",
       "      <th>E quais são os 3 aspectos que menos gosta? Acesso a recursos externos</th>\n",
       "      <th>E quais são os 3 aspectos que menos gosta? Outros</th>\n",
       "      <th>Quanto aprendeu com a DreamShaper?</th>\n",
       "    </tr>\n",
       "  </thead>\n",
       "  <tbody>\n",
       "    <tr>\n",
       "      <th>0</th>\n",
       "      <td>Satisfeito</td>\n",
       "      <td>Não foram úteis</td>\n",
       "      <td>Não, nada úteis</td>\n",
       "      <td>Tem perguntas a mais; gostaria de ir mais dire...</td>\n",
       "      <td>Aspecto visual</td>\n",
       "      <td>Navegação na ferramenta</td>\n",
       "      <td>NaN</td>\n",
       "      <td>NaN</td>\n",
       "      <td>NaN</td>\n",
       "      <td>Modelo de negócios</td>\n",
       "      <td>...</td>\n",
       "      <td>NaN</td>\n",
       "      <td>NaN</td>\n",
       "      <td>NaN</td>\n",
       "      <td>NaN</td>\n",
       "      <td>Mural de equipa</td>\n",
       "      <td>Gestão de equipa</td>\n",
       "      <td>NaN</td>\n",
       "      <td>Acesso a recursos externos</td>\n",
       "      <td>NaN</td>\n",
       "      <td>Pouco</td>\n",
       "    </tr>\n",
       "    <tr>\n",
       "      <th>1</th>\n",
       "      <td>Satisfeito</td>\n",
       "      <td>Não foram úteis</td>\n",
       "      <td>Não, nada úteis</td>\n",
       "      <td>Gosto do actual equilíbrio de perguntas</td>\n",
       "      <td>Aspecto visual</td>\n",
       "      <td>Navegação na ferramenta</td>\n",
       "      <td>NaN</td>\n",
       "      <td>NaN</td>\n",
       "      <td>NaN</td>\n",
       "      <td>NaN</td>\n",
       "      <td>...</td>\n",
       "      <td>NaN</td>\n",
       "      <td>Vídeos</td>\n",
       "      <td>Modelo de negócios</td>\n",
       "      <td>NaN</td>\n",
       "      <td>NaN</td>\n",
       "      <td>NaN</td>\n",
       "      <td>NaN</td>\n",
       "      <td>Acesso a recursos externos</td>\n",
       "      <td>NaN</td>\n",
       "      <td>Pouco</td>\n",
       "    </tr>\n",
       "    <tr>\n",
       "      <th>2</th>\n",
       "      <td>Satisfeito</td>\n",
       "      <td>Foram muito úteis</td>\n",
       "      <td>Muito úteis</td>\n",
       "      <td>Gosto do actual equilíbrio de perguntas</td>\n",
       "      <td>Aspecto visual</td>\n",
       "      <td>NaN</td>\n",
       "      <td>NaN</td>\n",
       "      <td>Exemplos</td>\n",
       "      <td>NaN</td>\n",
       "      <td>NaN</td>\n",
       "      <td>...</td>\n",
       "      <td>NaN</td>\n",
       "      <td>NaN</td>\n",
       "      <td>NaN</td>\n",
       "      <td>NaN</td>\n",
       "      <td>NaN</td>\n",
       "      <td>NaN</td>\n",
       "      <td>NaN</td>\n",
       "      <td>Acesso a recursos externos</td>\n",
       "      <td>NaN</td>\n",
       "      <td>Pouco</td>\n",
       "    </tr>\n",
       "    <tr>\n",
       "      <th>3</th>\n",
       "      <td>Satisfeito</td>\n",
       "      <td>Úteis, mas pouco</td>\n",
       "      <td>Não, nada úteis</td>\n",
       "      <td>Gosto do actual equilíbrio de perguntas</td>\n",
       "      <td>Aspecto visual</td>\n",
       "      <td>Navegação na ferramenta</td>\n",
       "      <td>Perguntas</td>\n",
       "      <td>NaN</td>\n",
       "      <td>NaN</td>\n",
       "      <td>NaN</td>\n",
       "      <td>...</td>\n",
       "      <td>Exemplos</td>\n",
       "      <td>NaN</td>\n",
       "      <td>NaN</td>\n",
       "      <td>NaN</td>\n",
       "      <td>Mural de equipa</td>\n",
       "      <td>Gestão de equipa</td>\n",
       "      <td>NaN</td>\n",
       "      <td>NaN</td>\n",
       "      <td>NaN</td>\n",
       "      <td>Pouco</td>\n",
       "    </tr>\n",
       "    <tr>\n",
       "      <th>4</th>\n",
       "      <td>Satisfeito</td>\n",
       "      <td>Úteis, mas pouco</td>\n",
       "      <td>Não, nada úteis</td>\n",
       "      <td>Tem perguntas a mais; gostaria de ir mais dire...</td>\n",
       "      <td>Aspecto visual</td>\n",
       "      <td>NaN</td>\n",
       "      <td>Perguntas</td>\n",
       "      <td>Exemplos</td>\n",
       "      <td>NaN</td>\n",
       "      <td>NaN</td>\n",
       "      <td>...</td>\n",
       "      <td>NaN</td>\n",
       "      <td>Vídeos</td>\n",
       "      <td>NaN</td>\n",
       "      <td>Indicações de interface</td>\n",
       "      <td>NaN</td>\n",
       "      <td>NaN</td>\n",
       "      <td>NaN</td>\n",
       "      <td>Acesso a recursos externos</td>\n",
       "      <td>NaN</td>\n",
       "      <td>Pouco</td>\n",
       "    </tr>\n",
       "  </tbody>\n",
       "</table>\n",
       "<p>5 rows × 29 columns</p>\n",
       "</div>"
      ],
      "text/plain": [
       "  Está satisfeito com a ferramenta DreamShaper?  \\\n",
       "0                                    Satisfeito   \n",
       "1                                    Satisfeito   \n",
       "2                                    Satisfeito   \n",
       "3                                    Satisfeito   \n",
       "4                                    Satisfeito   \n",
       "\n",
       "  Sentiu que os vídeos da DreamShaper foram úteis para si?  \\\n",
       "0                                    Não foram úteis         \n",
       "1                                    Não foram úteis         \n",
       "2                                  Foram muito úteis         \n",
       "3                                   Úteis, mas pouco         \n",
       "4                                   Úteis, mas pouco         \n",
       "\n",
       "  Os exemplos foram úteis para si?  \\\n",
       "0                  Não, nada úteis   \n",
       "1                  Não, nada úteis   \n",
       "2                      Muito úteis   \n",
       "3                  Não, nada úteis   \n",
       "4                  Não, nada úteis   \n",
       "\n",
       "  Acha que a ferramenta tem perguntas a mais ou, pelo contrário, gostaria de ter mais perguntas intermédias que ajudam a ir ‘entrando’ nos novos conceitos?  \\\n",
       "0  Tem perguntas a mais; gostaria de ir mais dire...                                                                                                          \n",
       "1            Gosto do actual equilíbrio de perguntas                                                                                                          \n",
       "2            Gosto do actual equilíbrio de perguntas                                                                                                          \n",
       "3            Gosto do actual equilíbrio de perguntas                                                                                                          \n",
       "4  Tem perguntas a mais; gostaria de ir mais dire...                                                                                                          \n",
       "\n",
       "  Quais são os seus 3 aspectos preferidos da ferramenta ? Aspecto Visual  \\\n",
       "0                                     Aspecto visual                       \n",
       "1                                     Aspecto visual                       \n",
       "2                                     Aspecto visual                       \n",
       "3                                     Aspecto visual                       \n",
       "4                                     Aspecto visual                       \n",
       "\n",
       "  Quais são os seus 3 aspectos preferidos da ferramenta ? Navegação na Ferramenta  \\\n",
       "0                            Navegação na ferramenta                                \n",
       "1                            Navegação na ferramenta                                \n",
       "2                                                NaN                                \n",
       "3                            Navegação na ferramenta                                \n",
       "4                                                NaN                                \n",
       "\n",
       "  Quais são os seus 3 aspectos preferidos da ferramenta ? Perguntas  \\\n",
       "0                                                NaN                  \n",
       "1                                                NaN                  \n",
       "2                                                NaN                  \n",
       "3                                          Perguntas                  \n",
       "4                                          Perguntas                  \n",
       "\n",
       "  Quais são os seus 3 aspectos preferidos da ferramenta ? Exemplos  \\\n",
       "0                                                NaN                 \n",
       "1                                                NaN                 \n",
       "2                                           Exemplos                 \n",
       "3                                                NaN                 \n",
       "4                                           Exemplos                 \n",
       "\n",
       "  Quais são os seus 3 aspectos preferidos da ferramenta ? Vídeos  \\\n",
       "0                                                NaN               \n",
       "1                                                NaN               \n",
       "2                                                NaN               \n",
       "3                                                NaN               \n",
       "4                                                NaN               \n",
       "\n",
       "  Quais são os seus 3 aspectos preferidos da ferramenta ? Modelo de Negócios  \\\n",
       "0                                 Modelo de negócios                           \n",
       "1                                                NaN                           \n",
       "2                                                NaN                           \n",
       "3                                                NaN                           \n",
       "4                                                NaN                           \n",
       "\n",
       "   ... E quais são os 3 aspectos que menos gosta? Exemplos  \\\n",
       "0  ...                                                NaN    \n",
       "1  ...                                                NaN    \n",
       "2  ...                                                NaN    \n",
       "3  ...                                           Exemplos    \n",
       "4  ...                                                NaN    \n",
       "\n",
       "  E quais são os 3 aspectos que menos gosta? Vídeos  \\\n",
       "0                                               NaN   \n",
       "1                                            Vídeos   \n",
       "2                                               NaN   \n",
       "3                                               NaN   \n",
       "4                                            Vídeos   \n",
       "\n",
       "  E quais são os 3 aspectos que menos gosta? Modelo de negócios  \\\n",
       "0                                                NaN              \n",
       "1                                 Modelo de negócios              \n",
       "2                                                NaN              \n",
       "3                                                NaN              \n",
       "4                                                NaN              \n",
       "\n",
       "  E quais são os 3 aspectos que menos gosta? Indicações de interface  \\\n",
       "0                                                NaN                   \n",
       "1                                                NaN                   \n",
       "2                                                NaN                   \n",
       "3                                                NaN                   \n",
       "4                            Indicações de interface                   \n",
       "\n",
       "  E quais são os 3 aspectos que menos gosta? Mural de equipa  \\\n",
       "0                                    Mural de equipa           \n",
       "1                                                NaN           \n",
       "2                                                NaN           \n",
       "3                                    Mural de equipa           \n",
       "4                                                NaN           \n",
       "\n",
       "  E quais são os 3 aspectos que menos gosta? Gestão de equipa  \\\n",
       "0                                   Gestão de equipa            \n",
       "1                                                NaN            \n",
       "2                                                NaN            \n",
       "3                                   Gestão de equipa            \n",
       "4                                                NaN            \n",
       "\n",
       "  E quais são os 3 aspectos que menos gosta? Gestão de projectos  \\\n",
       "0                                                NaN               \n",
       "1                                                NaN               \n",
       "2                                                NaN               \n",
       "3                                                NaN               \n",
       "4                                                NaN               \n",
       "\n",
       "  E quais são os 3 aspectos que menos gosta? Acesso a recursos externos  \\\n",
       "0                         Acesso a recursos externos                      \n",
       "1                         Acesso a recursos externos                      \n",
       "2                         Acesso a recursos externos                      \n",
       "3                                                NaN                      \n",
       "4                         Acesso a recursos externos                      \n",
       "\n",
       "  E quais são os 3 aspectos que menos gosta? Outros  \\\n",
       "0                                               NaN   \n",
       "1                                               NaN   \n",
       "2                                               NaN   \n",
       "3                                               NaN   \n",
       "4                                               NaN   \n",
       "\n",
       "  Quanto aprendeu com a DreamShaper?  \n",
       "0                              Pouco  \n",
       "1                              Pouco  \n",
       "2                              Pouco  \n",
       "3                              Pouco  \n",
       "4                              Pouco  \n",
       "\n",
       "[5 rows x 29 columns]"
      ]
     },
     "execution_count": 2,
     "metadata": {},
     "output_type": "execute_result"
    }
   ],
   "source": [
    "Ano20132014 = pd.read_csv('Data/DadosPorAno/Ano20132014.csv', encoding=\"ANSI\", sep=';')\n",
    "Ano20132014.head(5)"
   ]
  },
  {
   "cell_type": "code",
   "execution_count": null,
   "metadata": {},
   "outputs": [],
   "source": []
  },
  {
   "cell_type": "code",
   "execution_count": null,
   "metadata": {},
   "outputs": [],
   "source": []
  },
  {
   "cell_type": "markdown",
   "metadata": {},
   "source": [
    "### PreProcess Data  <a name=\"preprocess\"></a>\n",
    "* [Back to TOC](#backtoc)\n"
   ]
  },
  {
   "cell_type": "code",
   "execution_count": null,
   "metadata": {},
   "outputs": [],
   "source": []
  },
  {
   "cell_type": "code",
   "execution_count": null,
   "metadata": {},
   "outputs": [],
   "source": []
  },
  {
   "cell_type": "markdown",
   "metadata": {},
   "source": [
    "### Liked/Disliked <a name=\"likedDisliked\"></a>\n",
    "* [Back to TOC](#backtoc)\n"
   ]
  },
  {
   "cell_type": "code",
   "execution_count": 3,
   "metadata": {},
   "outputs": [
    {
     "data": {
      "text/plain": [
       "array(['Satisfeito', 'Nem satisfeito nem insatisfeito',\n",
       "       'Muito Satisfeito', 'Insatisfeito', 'Muito insatisfeito',\n",
       "       'Response'], dtype=object)"
      ]
     },
     "execution_count": 3,
     "metadata": {},
     "output_type": "execute_result"
    }
   ],
   "source": [
    "Ano20132014['Está satisfeito com a ferramenta DreamShaper?'].unique()"
   ]
  },
  {
   "cell_type": "code",
   "execution_count": null,
   "metadata": {},
   "outputs": [],
   "source": []
  },
  {
   "cell_type": "code",
   "execution_count": 4,
   "metadata": {},
   "outputs": [],
   "source": [
    "Ano20132014[Ano20132014[\"Está satisfeito com a ferramenta DreamShaper?\"] == \"Response\"]\n",
    "\n",
    "\n",
    "\n",
    "Ano20132014 = Ano20132014.drop(Ano20132014[Ano20132014[\"Está satisfeito com a ferramenta DreamShaper?\"] == \"Response\"].index)\n",
    "\n"
   ]
  },
  {
   "cell_type": "code",
   "execution_count": 5,
   "metadata": {},
   "outputs": [],
   "source": [
    "Ano20132014.loc[Ano20132014['Está satisfeito com a ferramenta DreamShaper?']== \"Muito insatisfeito\", 'Está satisfeito com a ferramenta DreamShaper?NumOrig'] = 1\n",
    "Ano20132014.loc[Ano20132014['Está satisfeito com a ferramenta DreamShaper?']== \"Insatisfeito\", 'Está satisfeito com a ferramenta DreamShaper?NumOrig'] = 2\n",
    "Ano20132014.loc[Ano20132014['Está satisfeito com a ferramenta DreamShaper?']== \"Nem satisfeito nem insatisfeito\", 'Está satisfeito com a ferramenta DreamShaper?NumOrig'] = 3\n",
    "Ano20132014.loc[Ano20132014['Está satisfeito com a ferramenta DreamShaper?']== \"Satisfeito\", 'Está satisfeito com a ferramenta DreamShaper?NumOrig'] = 4\n",
    "Ano20132014.loc[Ano20132014['Está satisfeito com a ferramenta DreamShaper?']== \"Muito Satisfeito\", 'Está satisfeito com a ferramenta DreamShaper?NumOrig'] = 5\n"
   ]
  },
  {
   "cell_type": "code",
   "execution_count": 6,
   "metadata": {},
   "outputs": [
    {
     "data": {
      "text/html": [
       "<div>\n",
       "<style scoped>\n",
       "    .dataframe tbody tr th:only-of-type {\n",
       "        vertical-align: middle;\n",
       "    }\n",
       "\n",
       "    .dataframe tbody tr th {\n",
       "        vertical-align: top;\n",
       "    }\n",
       "\n",
       "    .dataframe thead th {\n",
       "        text-align: right;\n",
       "    }\n",
       "</style>\n",
       "<table border=\"1\" class=\"dataframe\">\n",
       "  <thead>\n",
       "    <tr style=\"text-align: right;\">\n",
       "      <th></th>\n",
       "      <th>Está satisfeito com a ferramenta DreamShaper?</th>\n",
       "      <th>Sentiu que os vídeos da DreamShaper foram úteis para si?</th>\n",
       "      <th>Os exemplos foram úteis para si?</th>\n",
       "      <th>Acha que a ferramenta tem perguntas a mais ou, pelo contrário, gostaria de ter mais perguntas intermédias que ajudam a ir ‘entrando’ nos novos conceitos?</th>\n",
       "      <th>Quais são os seus 3 aspectos preferidos da ferramenta ? Aspecto Visual</th>\n",
       "      <th>Quais são os seus 3 aspectos preferidos da ferramenta ? Navegação na Ferramenta</th>\n",
       "      <th>Quais são os seus 3 aspectos preferidos da ferramenta ? Perguntas</th>\n",
       "      <th>Quais são os seus 3 aspectos preferidos da ferramenta ? Exemplos</th>\n",
       "      <th>Quais são os seus 3 aspectos preferidos da ferramenta ? Vídeos</th>\n",
       "      <th>Quais são os seus 3 aspectos preferidos da ferramenta ? Modelo de Negócios</th>\n",
       "      <th>...</th>\n",
       "      <th>E quais são os 3 aspectos que menos gosta? Vídeos</th>\n",
       "      <th>E quais são os 3 aspectos que menos gosta? Modelo de negócios</th>\n",
       "      <th>E quais são os 3 aspectos que menos gosta? Indicações de interface</th>\n",
       "      <th>E quais são os 3 aspectos que menos gosta? Mural de equipa</th>\n",
       "      <th>E quais são os 3 aspectos que menos gosta? Gestão de equipa</th>\n",
       "      <th>E quais são os 3 aspectos que menos gosta? Gestão de projectos</th>\n",
       "      <th>E quais são os 3 aspectos que menos gosta? Acesso a recursos externos</th>\n",
       "      <th>E quais são os 3 aspectos que menos gosta? Outros</th>\n",
       "      <th>Quanto aprendeu com a DreamShaper?</th>\n",
       "      <th>Está satisfeito com a ferramenta DreamShaper?NumOrig</th>\n",
       "    </tr>\n",
       "  </thead>\n",
       "  <tbody>\n",
       "    <tr>\n",
       "      <th>0</th>\n",
       "      <td>Satisfeito</td>\n",
       "      <td>Não foram úteis</td>\n",
       "      <td>Não, nada úteis</td>\n",
       "      <td>Tem perguntas a mais; gostaria de ir mais dire...</td>\n",
       "      <td>Aspecto visual</td>\n",
       "      <td>Navegação na ferramenta</td>\n",
       "      <td>NaN</td>\n",
       "      <td>NaN</td>\n",
       "      <td>NaN</td>\n",
       "      <td>Modelo de negócios</td>\n",
       "      <td>...</td>\n",
       "      <td>NaN</td>\n",
       "      <td>NaN</td>\n",
       "      <td>NaN</td>\n",
       "      <td>Mural de equipa</td>\n",
       "      <td>Gestão de equipa</td>\n",
       "      <td>NaN</td>\n",
       "      <td>Acesso a recursos externos</td>\n",
       "      <td>NaN</td>\n",
       "      <td>Pouco</td>\n",
       "      <td>4.0</td>\n",
       "    </tr>\n",
       "    <tr>\n",
       "      <th>1</th>\n",
       "      <td>Satisfeito</td>\n",
       "      <td>Não foram úteis</td>\n",
       "      <td>Não, nada úteis</td>\n",
       "      <td>Gosto do actual equilíbrio de perguntas</td>\n",
       "      <td>Aspecto visual</td>\n",
       "      <td>Navegação na ferramenta</td>\n",
       "      <td>NaN</td>\n",
       "      <td>NaN</td>\n",
       "      <td>NaN</td>\n",
       "      <td>NaN</td>\n",
       "      <td>...</td>\n",
       "      <td>Vídeos</td>\n",
       "      <td>Modelo de negócios</td>\n",
       "      <td>NaN</td>\n",
       "      <td>NaN</td>\n",
       "      <td>NaN</td>\n",
       "      <td>NaN</td>\n",
       "      <td>Acesso a recursos externos</td>\n",
       "      <td>NaN</td>\n",
       "      <td>Pouco</td>\n",
       "      <td>4.0</td>\n",
       "    </tr>\n",
       "    <tr>\n",
       "      <th>2</th>\n",
       "      <td>Satisfeito</td>\n",
       "      <td>Foram muito úteis</td>\n",
       "      <td>Muito úteis</td>\n",
       "      <td>Gosto do actual equilíbrio de perguntas</td>\n",
       "      <td>Aspecto visual</td>\n",
       "      <td>NaN</td>\n",
       "      <td>NaN</td>\n",
       "      <td>Exemplos</td>\n",
       "      <td>NaN</td>\n",
       "      <td>NaN</td>\n",
       "      <td>...</td>\n",
       "      <td>NaN</td>\n",
       "      <td>NaN</td>\n",
       "      <td>NaN</td>\n",
       "      <td>NaN</td>\n",
       "      <td>NaN</td>\n",
       "      <td>NaN</td>\n",
       "      <td>Acesso a recursos externos</td>\n",
       "      <td>NaN</td>\n",
       "      <td>Pouco</td>\n",
       "      <td>4.0</td>\n",
       "    </tr>\n",
       "    <tr>\n",
       "      <th>3</th>\n",
       "      <td>Satisfeito</td>\n",
       "      <td>Úteis, mas pouco</td>\n",
       "      <td>Não, nada úteis</td>\n",
       "      <td>Gosto do actual equilíbrio de perguntas</td>\n",
       "      <td>Aspecto visual</td>\n",
       "      <td>Navegação na ferramenta</td>\n",
       "      <td>Perguntas</td>\n",
       "      <td>NaN</td>\n",
       "      <td>NaN</td>\n",
       "      <td>NaN</td>\n",
       "      <td>...</td>\n",
       "      <td>NaN</td>\n",
       "      <td>NaN</td>\n",
       "      <td>NaN</td>\n",
       "      <td>Mural de equipa</td>\n",
       "      <td>Gestão de equipa</td>\n",
       "      <td>NaN</td>\n",
       "      <td>NaN</td>\n",
       "      <td>NaN</td>\n",
       "      <td>Pouco</td>\n",
       "      <td>4.0</td>\n",
       "    </tr>\n",
       "    <tr>\n",
       "      <th>4</th>\n",
       "      <td>Satisfeito</td>\n",
       "      <td>Úteis, mas pouco</td>\n",
       "      <td>Não, nada úteis</td>\n",
       "      <td>Tem perguntas a mais; gostaria de ir mais dire...</td>\n",
       "      <td>Aspecto visual</td>\n",
       "      <td>NaN</td>\n",
       "      <td>Perguntas</td>\n",
       "      <td>Exemplos</td>\n",
       "      <td>NaN</td>\n",
       "      <td>NaN</td>\n",
       "      <td>...</td>\n",
       "      <td>Vídeos</td>\n",
       "      <td>NaN</td>\n",
       "      <td>Indicações de interface</td>\n",
       "      <td>NaN</td>\n",
       "      <td>NaN</td>\n",
       "      <td>NaN</td>\n",
       "      <td>Acesso a recursos externos</td>\n",
       "      <td>NaN</td>\n",
       "      <td>Pouco</td>\n",
       "      <td>4.0</td>\n",
       "    </tr>\n",
       "    <tr>\n",
       "      <th>...</th>\n",
       "      <td>...</td>\n",
       "      <td>...</td>\n",
       "      <td>...</td>\n",
       "      <td>...</td>\n",
       "      <td>...</td>\n",
       "      <td>...</td>\n",
       "      <td>...</td>\n",
       "      <td>...</td>\n",
       "      <td>...</td>\n",
       "      <td>...</td>\n",
       "      <td>...</td>\n",
       "      <td>...</td>\n",
       "      <td>...</td>\n",
       "      <td>...</td>\n",
       "      <td>...</td>\n",
       "      <td>...</td>\n",
       "      <td>...</td>\n",
       "      <td>...</td>\n",
       "      <td>...</td>\n",
       "      <td>...</td>\n",
       "      <td>...</td>\n",
       "    </tr>\n",
       "    <tr>\n",
       "      <th>1545</th>\n",
       "      <td>Muito Satisfeito</td>\n",
       "      <td>Úteis, mas pouco</td>\n",
       "      <td>Muito úteis</td>\n",
       "      <td>NaN</td>\n",
       "      <td>NaN</td>\n",
       "      <td>Navegação na ferramenta</td>\n",
       "      <td>Perguntas</td>\n",
       "      <td>Exemplos</td>\n",
       "      <td>NaN</td>\n",
       "      <td>NaN</td>\n",
       "      <td>...</td>\n",
       "      <td>Vídeos</td>\n",
       "      <td>NaN</td>\n",
       "      <td>NaN</td>\n",
       "      <td>Mural de equipa</td>\n",
       "      <td>NaN</td>\n",
       "      <td>NaN</td>\n",
       "      <td>Acesso a recursos externos</td>\n",
       "      <td>NaN</td>\n",
       "      <td>Alguma coisa</td>\n",
       "      <td>5.0</td>\n",
       "    </tr>\n",
       "    <tr>\n",
       "      <th>1546</th>\n",
       "      <td>Muito insatisfeito</td>\n",
       "      <td>NaN</td>\n",
       "      <td>NaN</td>\n",
       "      <td>NaN</td>\n",
       "      <td>NaN</td>\n",
       "      <td>Navegação na ferramenta</td>\n",
       "      <td>NaN</td>\n",
       "      <td>Exemplos</td>\n",
       "      <td>Vídeos</td>\n",
       "      <td>NaN</td>\n",
       "      <td>...</td>\n",
       "      <td>NaN</td>\n",
       "      <td>NaN</td>\n",
       "      <td>NaN</td>\n",
       "      <td>NaN</td>\n",
       "      <td>NaN</td>\n",
       "      <td>NaN</td>\n",
       "      <td>Acesso a recursos externos</td>\n",
       "      <td>nenhum que me lembre</td>\n",
       "      <td>Alguma coisa</td>\n",
       "      <td>1.0</td>\n",
       "    </tr>\n",
       "    <tr>\n",
       "      <th>1547</th>\n",
       "      <td>Muito insatisfeito</td>\n",
       "      <td>Foram muito úteis</td>\n",
       "      <td>Algo úteis</td>\n",
       "      <td>NaN</td>\n",
       "      <td>NaN</td>\n",
       "      <td>Navegação na ferramenta</td>\n",
       "      <td>NaN</td>\n",
       "      <td>Exemplos</td>\n",
       "      <td>Vídeos</td>\n",
       "      <td>NaN</td>\n",
       "      <td>...</td>\n",
       "      <td>NaN</td>\n",
       "      <td>NaN</td>\n",
       "      <td>NaN</td>\n",
       "      <td>Mural de equipa</td>\n",
       "      <td>NaN</td>\n",
       "      <td>NaN</td>\n",
       "      <td>Acesso a recursos externos</td>\n",
       "      <td>Na reedição de respostas gostava de ter botões...</td>\n",
       "      <td>Alguma coisa</td>\n",
       "      <td>1.0</td>\n",
       "    </tr>\n",
       "    <tr>\n",
       "      <th>1548</th>\n",
       "      <td>Insatisfeito</td>\n",
       "      <td>Úteis, mas pouco</td>\n",
       "      <td>Muito úteis</td>\n",
       "      <td>NaN</td>\n",
       "      <td>NaN</td>\n",
       "      <td>NaN</td>\n",
       "      <td>Perguntas</td>\n",
       "      <td>NaN</td>\n",
       "      <td>NaN</td>\n",
       "      <td>Modelo de negócios</td>\n",
       "      <td>...</td>\n",
       "      <td>NaN</td>\n",
       "      <td>NaN</td>\n",
       "      <td>NaN</td>\n",
       "      <td>NaN</td>\n",
       "      <td>NaN</td>\n",
       "      <td>NaN</td>\n",
       "      <td>Acesso a recursos externos</td>\n",
       "      <td>NaN</td>\n",
       "      <td>Alguma coisa</td>\n",
       "      <td>2.0</td>\n",
       "    </tr>\n",
       "    <tr>\n",
       "      <th>1549</th>\n",
       "      <td>Insatisfeito</td>\n",
       "      <td>Úteis, mas pouco</td>\n",
       "      <td>Algo úteis</td>\n",
       "      <td>NaN</td>\n",
       "      <td>NaN</td>\n",
       "      <td>NaN</td>\n",
       "      <td>NaN</td>\n",
       "      <td>NaN</td>\n",
       "      <td>NaN</td>\n",
       "      <td>Modelo de negócios</td>\n",
       "      <td>...</td>\n",
       "      <td>NaN</td>\n",
       "      <td>NaN</td>\n",
       "      <td>NaN</td>\n",
       "      <td>NaN</td>\n",
       "      <td>Gestão de equipa</td>\n",
       "      <td>NaN</td>\n",
       "      <td>NaN</td>\n",
       "      <td>organização e disposição geral dos conteúdos.</td>\n",
       "      <td>Alguma coisa</td>\n",
       "      <td>2.0</td>\n",
       "    </tr>\n",
       "  </tbody>\n",
       "</table>\n",
       "<p>1549 rows × 30 columns</p>\n",
       "</div>"
      ],
      "text/plain": [
       "     Está satisfeito com a ferramenta DreamShaper?  \\\n",
       "0                                       Satisfeito   \n",
       "1                                       Satisfeito   \n",
       "2                                       Satisfeito   \n",
       "3                                       Satisfeito   \n",
       "4                                       Satisfeito   \n",
       "...                                            ...   \n",
       "1545                              Muito Satisfeito   \n",
       "1546                            Muito insatisfeito   \n",
       "1547                            Muito insatisfeito   \n",
       "1548                                  Insatisfeito   \n",
       "1549                                  Insatisfeito   \n",
       "\n",
       "     Sentiu que os vídeos da DreamShaper foram úteis para si?  \\\n",
       "0                                       Não foram úteis         \n",
       "1                                       Não foram úteis         \n",
       "2                                     Foram muito úteis         \n",
       "3                                      Úteis, mas pouco         \n",
       "4                                      Úteis, mas pouco         \n",
       "...                                                 ...         \n",
       "1545                                   Úteis, mas pouco         \n",
       "1546                                                NaN         \n",
       "1547                                  Foram muito úteis         \n",
       "1548                                   Úteis, mas pouco         \n",
       "1549                                   Úteis, mas pouco         \n",
       "\n",
       "     Os exemplos foram úteis para si?  \\\n",
       "0                     Não, nada úteis   \n",
       "1                     Não, nada úteis   \n",
       "2                         Muito úteis   \n",
       "3                     Não, nada úteis   \n",
       "4                     Não, nada úteis   \n",
       "...                               ...   \n",
       "1545                      Muito úteis   \n",
       "1546                              NaN   \n",
       "1547                       Algo úteis   \n",
       "1548                      Muito úteis   \n",
       "1549                       Algo úteis   \n",
       "\n",
       "     Acha que a ferramenta tem perguntas a mais ou, pelo contrário, gostaria de ter mais perguntas intermédias que ajudam a ir ‘entrando’ nos novos conceitos?  \\\n",
       "0     Tem perguntas a mais; gostaria de ir mais dire...                                                                                                          \n",
       "1               Gosto do actual equilíbrio de perguntas                                                                                                          \n",
       "2               Gosto do actual equilíbrio de perguntas                                                                                                          \n",
       "3               Gosto do actual equilíbrio de perguntas                                                                                                          \n",
       "4     Tem perguntas a mais; gostaria de ir mais dire...                                                                                                          \n",
       "...                                                 ...                                                                                                          \n",
       "1545                                                NaN                                                                                                          \n",
       "1546                                                NaN                                                                                                          \n",
       "1547                                                NaN                                                                                                          \n",
       "1548                                                NaN                                                                                                          \n",
       "1549                                                NaN                                                                                                          \n",
       "\n",
       "     Quais são os seus 3 aspectos preferidos da ferramenta ? Aspecto Visual  \\\n",
       "0                                        Aspecto visual                       \n",
       "1                                        Aspecto visual                       \n",
       "2                                        Aspecto visual                       \n",
       "3                                        Aspecto visual                       \n",
       "4                                        Aspecto visual                       \n",
       "...                                                 ...                       \n",
       "1545                                                NaN                       \n",
       "1546                                                NaN                       \n",
       "1547                                                NaN                       \n",
       "1548                                                NaN                       \n",
       "1549                                                NaN                       \n",
       "\n",
       "     Quais são os seus 3 aspectos preferidos da ferramenta ? Navegação na Ferramenta  \\\n",
       "0                               Navegação na ferramenta                                \n",
       "1                               Navegação na ferramenta                                \n",
       "2                                                   NaN                                \n",
       "3                               Navegação na ferramenta                                \n",
       "4                                                   NaN                                \n",
       "...                                                 ...                                \n",
       "1545                            Navegação na ferramenta                                \n",
       "1546                            Navegação na ferramenta                                \n",
       "1547                            Navegação na ferramenta                                \n",
       "1548                                                NaN                                \n",
       "1549                                                NaN                                \n",
       "\n",
       "     Quais são os seus 3 aspectos preferidos da ferramenta ? Perguntas  \\\n",
       "0                                                   NaN                  \n",
       "1                                                   NaN                  \n",
       "2                                                   NaN                  \n",
       "3                                             Perguntas                  \n",
       "4                                             Perguntas                  \n",
       "...                                                 ...                  \n",
       "1545                                          Perguntas                  \n",
       "1546                                                NaN                  \n",
       "1547                                                NaN                  \n",
       "1548                                          Perguntas                  \n",
       "1549                                                NaN                  \n",
       "\n",
       "     Quais são os seus 3 aspectos preferidos da ferramenta ? Exemplos  \\\n",
       "0                                                   NaN                 \n",
       "1                                                   NaN                 \n",
       "2                                              Exemplos                 \n",
       "3                                                   NaN                 \n",
       "4                                              Exemplos                 \n",
       "...                                                 ...                 \n",
       "1545                                           Exemplos                 \n",
       "1546                                           Exemplos                 \n",
       "1547                                           Exemplos                 \n",
       "1548                                                NaN                 \n",
       "1549                                                NaN                 \n",
       "\n",
       "     Quais são os seus 3 aspectos preferidos da ferramenta ? Vídeos  \\\n",
       "0                                                   NaN               \n",
       "1                                                   NaN               \n",
       "2                                                   NaN               \n",
       "3                                                   NaN               \n",
       "4                                                   NaN               \n",
       "...                                                 ...               \n",
       "1545                                                NaN               \n",
       "1546                                             Vídeos               \n",
       "1547                                             Vídeos               \n",
       "1548                                                NaN               \n",
       "1549                                                NaN               \n",
       "\n",
       "     Quais são os seus 3 aspectos preferidos da ferramenta ? Modelo de Negócios  \\\n",
       "0                                    Modelo de negócios                           \n",
       "1                                                   NaN                           \n",
       "2                                                   NaN                           \n",
       "3                                                   NaN                           \n",
       "4                                                   NaN                           \n",
       "...                                                 ...                           \n",
       "1545                                                NaN                           \n",
       "1546                                                NaN                           \n",
       "1547                                                NaN                           \n",
       "1548                                 Modelo de negócios                           \n",
       "1549                                 Modelo de negócios                           \n",
       "\n",
       "      ... E quais são os 3 aspectos que menos gosta? Vídeos  \\\n",
       "0     ...                                               NaN   \n",
       "1     ...                                            Vídeos   \n",
       "2     ...                                               NaN   \n",
       "3     ...                                               NaN   \n",
       "4     ...                                            Vídeos   \n",
       "...   ...                                               ...   \n",
       "1545  ...                                            Vídeos   \n",
       "1546  ...                                               NaN   \n",
       "1547  ...                                               NaN   \n",
       "1548  ...                                               NaN   \n",
       "1549  ...                                               NaN   \n",
       "\n",
       "     E quais são os 3 aspectos que menos gosta? Modelo de negócios  \\\n",
       "0                                                   NaN              \n",
       "1                                    Modelo de negócios              \n",
       "2                                                   NaN              \n",
       "3                                                   NaN              \n",
       "4                                                   NaN              \n",
       "...                                                 ...              \n",
       "1545                                                NaN              \n",
       "1546                                                NaN              \n",
       "1547                                                NaN              \n",
       "1548                                                NaN              \n",
       "1549                                                NaN              \n",
       "\n",
       "     E quais são os 3 aspectos que menos gosta? Indicações de interface  \\\n",
       "0                                                   NaN                   \n",
       "1                                                   NaN                   \n",
       "2                                                   NaN                   \n",
       "3                                                   NaN                   \n",
       "4                               Indicações de interface                   \n",
       "...                                                 ...                   \n",
       "1545                                                NaN                   \n",
       "1546                                                NaN                   \n",
       "1547                                                NaN                   \n",
       "1548                                                NaN                   \n",
       "1549                                                NaN                   \n",
       "\n",
       "     E quais são os 3 aspectos que menos gosta? Mural de equipa  \\\n",
       "0                                       Mural de equipa           \n",
       "1                                                   NaN           \n",
       "2                                                   NaN           \n",
       "3                                       Mural de equipa           \n",
       "4                                                   NaN           \n",
       "...                                                 ...           \n",
       "1545                                    Mural de equipa           \n",
       "1546                                                NaN           \n",
       "1547                                    Mural de equipa           \n",
       "1548                                                NaN           \n",
       "1549                                                NaN           \n",
       "\n",
       "     E quais são os 3 aspectos que menos gosta? Gestão de equipa  \\\n",
       "0                                      Gestão de equipa            \n",
       "1                                                   NaN            \n",
       "2                                                   NaN            \n",
       "3                                      Gestão de equipa            \n",
       "4                                                   NaN            \n",
       "...                                                 ...            \n",
       "1545                                                NaN            \n",
       "1546                                                NaN            \n",
       "1547                                                NaN            \n",
       "1548                                                NaN            \n",
       "1549                                   Gestão de equipa            \n",
       "\n",
       "     E quais são os 3 aspectos que menos gosta? Gestão de projectos  \\\n",
       "0                                                   NaN               \n",
       "1                                                   NaN               \n",
       "2                                                   NaN               \n",
       "3                                                   NaN               \n",
       "4                                                   NaN               \n",
       "...                                                 ...               \n",
       "1545                                                NaN               \n",
       "1546                                                NaN               \n",
       "1547                                                NaN               \n",
       "1548                                                NaN               \n",
       "1549                                                NaN               \n",
       "\n",
       "     E quais são os 3 aspectos que menos gosta? Acesso a recursos externos  \\\n",
       "0                            Acesso a recursos externos                      \n",
       "1                            Acesso a recursos externos                      \n",
       "2                            Acesso a recursos externos                      \n",
       "3                                                   NaN                      \n",
       "4                            Acesso a recursos externos                      \n",
       "...                                                 ...                      \n",
       "1545                         Acesso a recursos externos                      \n",
       "1546                         Acesso a recursos externos                      \n",
       "1547                         Acesso a recursos externos                      \n",
       "1548                         Acesso a recursos externos                      \n",
       "1549                                                NaN                      \n",
       "\n",
       "      E quais são os 3 aspectos que menos gosta? Outros  \\\n",
       "0                                                   NaN   \n",
       "1                                                   NaN   \n",
       "2                                                   NaN   \n",
       "3                                                   NaN   \n",
       "4                                                   NaN   \n",
       "...                                                 ...   \n",
       "1545                                                NaN   \n",
       "1546                               nenhum que me lembre   \n",
       "1547  Na reedição de respostas gostava de ter botões...   \n",
       "1548                                                NaN   \n",
       "1549      organização e disposição geral dos conteúdos.   \n",
       "\n",
       "     Quanto aprendeu com a DreamShaper?  \\\n",
       "0                                 Pouco   \n",
       "1                                 Pouco   \n",
       "2                                 Pouco   \n",
       "3                                 Pouco   \n",
       "4                                 Pouco   \n",
       "...                                 ...   \n",
       "1545                       Alguma coisa   \n",
       "1546                       Alguma coisa   \n",
       "1547                       Alguma coisa   \n",
       "1548                       Alguma coisa   \n",
       "1549                       Alguma coisa   \n",
       "\n",
       "     Está satisfeito com a ferramenta DreamShaper?NumOrig  \n",
       "0                                                   4.0    \n",
       "1                                                   4.0    \n",
       "2                                                   4.0    \n",
       "3                                                   4.0    \n",
       "4                                                   4.0    \n",
       "...                                                 ...    \n",
       "1545                                                5.0    \n",
       "1546                                                1.0    \n",
       "1547                                                1.0    \n",
       "1548                                                2.0    \n",
       "1549                                                2.0    \n",
       "\n",
       "[1549 rows x 30 columns]"
      ]
     },
     "execution_count": 6,
     "metadata": {},
     "output_type": "execute_result"
    }
   ],
   "source": [
    "Ano20132014"
   ]
  },
  {
   "cell_type": "code",
   "execution_count": 7,
   "metadata": {},
   "outputs": [],
   "source": [
    "\n",
    "#standardize scale\n",
    "\n",
    "Ano20132014.loc[Ano20132014['Está satisfeito com a ferramenta DreamShaper?NumOrig'] == 1, 'Está satisfeito com a ferramenta DreamShaper?Num'] = 0.8 \n",
    "Ano20132014.loc[Ano20132014['Está satisfeito com a ferramenta DreamShaper?NumOrig'] == 2, 'Está satisfeito com a ferramenta DreamShaper?Num'] = 1.6 \n",
    "Ano20132014.loc[Ano20132014['Está satisfeito com a ferramenta DreamShaper?NumOrig'] == 3, 'Está satisfeito com a ferramenta DreamShaper?Num'] = 2.4 \n",
    "Ano20132014.loc[Ano20132014['Está satisfeito com a ferramenta DreamShaper?NumOrig'] == 4, 'Está satisfeito com a ferramenta DreamShaper?Num'] = 3.2 \n",
    "Ano20132014.loc[Ano20132014['Está satisfeito com a ferramenta DreamShaper?NumOrig'] == 5, 'Está satisfeito com a ferramenta DreamShaper?Num'] = 4 \n"
   ]
  },
  {
   "cell_type": "code",
   "execution_count": 8,
   "metadata": {},
   "outputs": [
    {
     "data": {
      "text/html": [
       "<div>\n",
       "<style scoped>\n",
       "    .dataframe tbody tr th:only-of-type {\n",
       "        vertical-align: middle;\n",
       "    }\n",
       "\n",
       "    .dataframe tbody tr th {\n",
       "        vertical-align: top;\n",
       "    }\n",
       "\n",
       "    .dataframe thead th {\n",
       "        text-align: right;\n",
       "    }\n",
       "</style>\n",
       "<table border=\"1\" class=\"dataframe\">\n",
       "  <thead>\n",
       "    <tr style=\"text-align: right;\">\n",
       "      <th></th>\n",
       "      <th>Está satisfeito com a ferramenta DreamShaper?</th>\n",
       "      <th>Sentiu que os vídeos da DreamShaper foram úteis para si?</th>\n",
       "      <th>Os exemplos foram úteis para si?</th>\n",
       "      <th>Acha que a ferramenta tem perguntas a mais ou, pelo contrário, gostaria de ter mais perguntas intermédias que ajudam a ir ‘entrando’ nos novos conceitos?</th>\n",
       "      <th>Quais são os seus 3 aspectos preferidos da ferramenta ? Aspecto Visual</th>\n",
       "      <th>Quais são os seus 3 aspectos preferidos da ferramenta ? Navegação na Ferramenta</th>\n",
       "      <th>Quais são os seus 3 aspectos preferidos da ferramenta ? Perguntas</th>\n",
       "      <th>Quais são os seus 3 aspectos preferidos da ferramenta ? Exemplos</th>\n",
       "      <th>Quais são os seus 3 aspectos preferidos da ferramenta ? Vídeos</th>\n",
       "      <th>Quais são os seus 3 aspectos preferidos da ferramenta ? Modelo de Negócios</th>\n",
       "      <th>...</th>\n",
       "      <th>E quais são os 3 aspectos que menos gosta? Modelo de negócios</th>\n",
       "      <th>E quais são os 3 aspectos que menos gosta? Indicações de interface</th>\n",
       "      <th>E quais são os 3 aspectos que menos gosta? Mural de equipa</th>\n",
       "      <th>E quais são os 3 aspectos que menos gosta? Gestão de equipa</th>\n",
       "      <th>E quais são os 3 aspectos que menos gosta? Gestão de projectos</th>\n",
       "      <th>E quais são os 3 aspectos que menos gosta? Acesso a recursos externos</th>\n",
       "      <th>E quais são os 3 aspectos que menos gosta? Outros</th>\n",
       "      <th>Quanto aprendeu com a DreamShaper?</th>\n",
       "      <th>Está satisfeito com a ferramenta DreamShaper?NumOrig</th>\n",
       "      <th>Está satisfeito com a ferramenta DreamShaper?Num</th>\n",
       "    </tr>\n",
       "  </thead>\n",
       "  <tbody>\n",
       "    <tr>\n",
       "      <th>0</th>\n",
       "      <td>Satisfeito</td>\n",
       "      <td>Não foram úteis</td>\n",
       "      <td>Não, nada úteis</td>\n",
       "      <td>Tem perguntas a mais; gostaria de ir mais dire...</td>\n",
       "      <td>Aspecto visual</td>\n",
       "      <td>Navegação na ferramenta</td>\n",
       "      <td>NaN</td>\n",
       "      <td>NaN</td>\n",
       "      <td>NaN</td>\n",
       "      <td>Modelo de negócios</td>\n",
       "      <td>...</td>\n",
       "      <td>NaN</td>\n",
       "      <td>NaN</td>\n",
       "      <td>Mural de equipa</td>\n",
       "      <td>Gestão de equipa</td>\n",
       "      <td>NaN</td>\n",
       "      <td>Acesso a recursos externos</td>\n",
       "      <td>NaN</td>\n",
       "      <td>Pouco</td>\n",
       "      <td>4.0</td>\n",
       "      <td>3.2</td>\n",
       "    </tr>\n",
       "    <tr>\n",
       "      <th>1</th>\n",
       "      <td>Satisfeito</td>\n",
       "      <td>Não foram úteis</td>\n",
       "      <td>Não, nada úteis</td>\n",
       "      <td>Gosto do actual equilíbrio de perguntas</td>\n",
       "      <td>Aspecto visual</td>\n",
       "      <td>Navegação na ferramenta</td>\n",
       "      <td>NaN</td>\n",
       "      <td>NaN</td>\n",
       "      <td>NaN</td>\n",
       "      <td>NaN</td>\n",
       "      <td>...</td>\n",
       "      <td>Modelo de negócios</td>\n",
       "      <td>NaN</td>\n",
       "      <td>NaN</td>\n",
       "      <td>NaN</td>\n",
       "      <td>NaN</td>\n",
       "      <td>Acesso a recursos externos</td>\n",
       "      <td>NaN</td>\n",
       "      <td>Pouco</td>\n",
       "      <td>4.0</td>\n",
       "      <td>3.2</td>\n",
       "    </tr>\n",
       "    <tr>\n",
       "      <th>2</th>\n",
       "      <td>Satisfeito</td>\n",
       "      <td>Foram muito úteis</td>\n",
       "      <td>Muito úteis</td>\n",
       "      <td>Gosto do actual equilíbrio de perguntas</td>\n",
       "      <td>Aspecto visual</td>\n",
       "      <td>NaN</td>\n",
       "      <td>NaN</td>\n",
       "      <td>Exemplos</td>\n",
       "      <td>NaN</td>\n",
       "      <td>NaN</td>\n",
       "      <td>...</td>\n",
       "      <td>NaN</td>\n",
       "      <td>NaN</td>\n",
       "      <td>NaN</td>\n",
       "      <td>NaN</td>\n",
       "      <td>NaN</td>\n",
       "      <td>Acesso a recursos externos</td>\n",
       "      <td>NaN</td>\n",
       "      <td>Pouco</td>\n",
       "      <td>4.0</td>\n",
       "      <td>3.2</td>\n",
       "    </tr>\n",
       "    <tr>\n",
       "      <th>3</th>\n",
       "      <td>Satisfeito</td>\n",
       "      <td>Úteis, mas pouco</td>\n",
       "      <td>Não, nada úteis</td>\n",
       "      <td>Gosto do actual equilíbrio de perguntas</td>\n",
       "      <td>Aspecto visual</td>\n",
       "      <td>Navegação na ferramenta</td>\n",
       "      <td>Perguntas</td>\n",
       "      <td>NaN</td>\n",
       "      <td>NaN</td>\n",
       "      <td>NaN</td>\n",
       "      <td>...</td>\n",
       "      <td>NaN</td>\n",
       "      <td>NaN</td>\n",
       "      <td>Mural de equipa</td>\n",
       "      <td>Gestão de equipa</td>\n",
       "      <td>NaN</td>\n",
       "      <td>NaN</td>\n",
       "      <td>NaN</td>\n",
       "      <td>Pouco</td>\n",
       "      <td>4.0</td>\n",
       "      <td>3.2</td>\n",
       "    </tr>\n",
       "    <tr>\n",
       "      <th>4</th>\n",
       "      <td>Satisfeito</td>\n",
       "      <td>Úteis, mas pouco</td>\n",
       "      <td>Não, nada úteis</td>\n",
       "      <td>Tem perguntas a mais; gostaria de ir mais dire...</td>\n",
       "      <td>Aspecto visual</td>\n",
       "      <td>NaN</td>\n",
       "      <td>Perguntas</td>\n",
       "      <td>Exemplos</td>\n",
       "      <td>NaN</td>\n",
       "      <td>NaN</td>\n",
       "      <td>...</td>\n",
       "      <td>NaN</td>\n",
       "      <td>Indicações de interface</td>\n",
       "      <td>NaN</td>\n",
       "      <td>NaN</td>\n",
       "      <td>NaN</td>\n",
       "      <td>Acesso a recursos externos</td>\n",
       "      <td>NaN</td>\n",
       "      <td>Pouco</td>\n",
       "      <td>4.0</td>\n",
       "      <td>3.2</td>\n",
       "    </tr>\n",
       "  </tbody>\n",
       "</table>\n",
       "<p>5 rows × 31 columns</p>\n",
       "</div>"
      ],
      "text/plain": [
       "  Está satisfeito com a ferramenta DreamShaper?  \\\n",
       "0                                    Satisfeito   \n",
       "1                                    Satisfeito   \n",
       "2                                    Satisfeito   \n",
       "3                                    Satisfeito   \n",
       "4                                    Satisfeito   \n",
       "\n",
       "  Sentiu que os vídeos da DreamShaper foram úteis para si?  \\\n",
       "0                                    Não foram úteis         \n",
       "1                                    Não foram úteis         \n",
       "2                                  Foram muito úteis         \n",
       "3                                   Úteis, mas pouco         \n",
       "4                                   Úteis, mas pouco         \n",
       "\n",
       "  Os exemplos foram úteis para si?  \\\n",
       "0                  Não, nada úteis   \n",
       "1                  Não, nada úteis   \n",
       "2                      Muito úteis   \n",
       "3                  Não, nada úteis   \n",
       "4                  Não, nada úteis   \n",
       "\n",
       "  Acha que a ferramenta tem perguntas a mais ou, pelo contrário, gostaria de ter mais perguntas intermédias que ajudam a ir ‘entrando’ nos novos conceitos?  \\\n",
       "0  Tem perguntas a mais; gostaria de ir mais dire...                                                                                                          \n",
       "1            Gosto do actual equilíbrio de perguntas                                                                                                          \n",
       "2            Gosto do actual equilíbrio de perguntas                                                                                                          \n",
       "3            Gosto do actual equilíbrio de perguntas                                                                                                          \n",
       "4  Tem perguntas a mais; gostaria de ir mais dire...                                                                                                          \n",
       "\n",
       "  Quais são os seus 3 aspectos preferidos da ferramenta ? Aspecto Visual  \\\n",
       "0                                     Aspecto visual                       \n",
       "1                                     Aspecto visual                       \n",
       "2                                     Aspecto visual                       \n",
       "3                                     Aspecto visual                       \n",
       "4                                     Aspecto visual                       \n",
       "\n",
       "  Quais são os seus 3 aspectos preferidos da ferramenta ? Navegação na Ferramenta  \\\n",
       "0                            Navegação na ferramenta                                \n",
       "1                            Navegação na ferramenta                                \n",
       "2                                                NaN                                \n",
       "3                            Navegação na ferramenta                                \n",
       "4                                                NaN                                \n",
       "\n",
       "  Quais são os seus 3 aspectos preferidos da ferramenta ? Perguntas  \\\n",
       "0                                                NaN                  \n",
       "1                                                NaN                  \n",
       "2                                                NaN                  \n",
       "3                                          Perguntas                  \n",
       "4                                          Perguntas                  \n",
       "\n",
       "  Quais são os seus 3 aspectos preferidos da ferramenta ? Exemplos  \\\n",
       "0                                                NaN                 \n",
       "1                                                NaN                 \n",
       "2                                           Exemplos                 \n",
       "3                                                NaN                 \n",
       "4                                           Exemplos                 \n",
       "\n",
       "  Quais são os seus 3 aspectos preferidos da ferramenta ? Vídeos  \\\n",
       "0                                                NaN               \n",
       "1                                                NaN               \n",
       "2                                                NaN               \n",
       "3                                                NaN               \n",
       "4                                                NaN               \n",
       "\n",
       "  Quais são os seus 3 aspectos preferidos da ferramenta ? Modelo de Negócios  \\\n",
       "0                                 Modelo de negócios                           \n",
       "1                                                NaN                           \n",
       "2                                                NaN                           \n",
       "3                                                NaN                           \n",
       "4                                                NaN                           \n",
       "\n",
       "   ... E quais são os 3 aspectos que menos gosta? Modelo de negócios  \\\n",
       "0  ...                                                NaN              \n",
       "1  ...                                 Modelo de negócios              \n",
       "2  ...                                                NaN              \n",
       "3  ...                                                NaN              \n",
       "4  ...                                                NaN              \n",
       "\n",
       "  E quais são os 3 aspectos que menos gosta? Indicações de interface  \\\n",
       "0                                                NaN                   \n",
       "1                                                NaN                   \n",
       "2                                                NaN                   \n",
       "3                                                NaN                   \n",
       "4                            Indicações de interface                   \n",
       "\n",
       "  E quais são os 3 aspectos que menos gosta? Mural de equipa  \\\n",
       "0                                    Mural de equipa           \n",
       "1                                                NaN           \n",
       "2                                                NaN           \n",
       "3                                    Mural de equipa           \n",
       "4                                                NaN           \n",
       "\n",
       "  E quais são os 3 aspectos que menos gosta? Gestão de equipa  \\\n",
       "0                                   Gestão de equipa            \n",
       "1                                                NaN            \n",
       "2                                                NaN            \n",
       "3                                   Gestão de equipa            \n",
       "4                                                NaN            \n",
       "\n",
       "  E quais são os 3 aspectos que menos gosta? Gestão de projectos  \\\n",
       "0                                                NaN               \n",
       "1                                                NaN               \n",
       "2                                                NaN               \n",
       "3                                                NaN               \n",
       "4                                                NaN               \n",
       "\n",
       "  E quais são os 3 aspectos que menos gosta? Acesso a recursos externos  \\\n",
       "0                         Acesso a recursos externos                      \n",
       "1                         Acesso a recursos externos                      \n",
       "2                         Acesso a recursos externos                      \n",
       "3                                                NaN                      \n",
       "4                         Acesso a recursos externos                      \n",
       "\n",
       "  E quais são os 3 aspectos que menos gosta? Outros  \\\n",
       "0                                               NaN   \n",
       "1                                               NaN   \n",
       "2                                               NaN   \n",
       "3                                               NaN   \n",
       "4                                               NaN   \n",
       "\n",
       "  Quanto aprendeu com a DreamShaper?  \\\n",
       "0                              Pouco   \n",
       "1                              Pouco   \n",
       "2                              Pouco   \n",
       "3                              Pouco   \n",
       "4                              Pouco   \n",
       "\n",
       "  Está satisfeito com a ferramenta DreamShaper?NumOrig  \\\n",
       "0                                                4.0     \n",
       "1                                                4.0     \n",
       "2                                                4.0     \n",
       "3                                                4.0     \n",
       "4                                                4.0     \n",
       "\n",
       "  Está satisfeito com a ferramenta DreamShaper?Num  \n",
       "0                                              3.2  \n",
       "1                                              3.2  \n",
       "2                                              3.2  \n",
       "3                                              3.2  \n",
       "4                                              3.2  \n",
       "\n",
       "[5 rows x 31 columns]"
      ]
     },
     "execution_count": 8,
     "metadata": {},
     "output_type": "execute_result"
    }
   ],
   "source": [
    "Ano20132014.head(5)"
   ]
  },
  {
   "cell_type": "markdown",
   "metadata": {},
   "source": [
    "### Learned/NotLearned  <a name=\"LearnedNot\"></a>\n",
    "* [Back to TOC](#backtoc)\n",
    "\n"
   ]
  },
  {
   "cell_type": "code",
   "execution_count": 9,
   "metadata": {},
   "outputs": [
    {
     "data": {
      "text/plain": [
       "array(['Pouco', 'Nada', 'Imenso', 'Bastante', 'Alguma coisa'],\n",
       "      dtype=object)"
      ]
     },
     "execution_count": 9,
     "metadata": {},
     "output_type": "execute_result"
    }
   ],
   "source": [
    "Ano20132014['Quanto aprendeu com a DreamShaper?'].unique()"
   ]
  },
  {
   "cell_type": "code",
   "execution_count": 10,
   "metadata": {},
   "outputs": [],
   "source": [
    "Ano20132014.loc[Ano20132014['Quanto aprendeu com a DreamShaper?'] == \"Nada\", 'Quanto aprendeu com a DreamShaper?Encod'] = 1\n",
    "Ano20132014.loc[Ano20132014['Quanto aprendeu com a DreamShaper?'] == \"Pouco\", 'Quanto aprendeu com a DreamShaper?Encod'] = 2\n",
    "Ano20132014.loc[Ano20132014['Quanto aprendeu com a DreamShaper?'] == \"Alguma coisa\", 'Quanto aprendeu com a DreamShaper?Encod'] = 3\n",
    "Ano20132014.loc[Ano20132014['Quanto aprendeu com a DreamShaper?'] == \"Bastante\", 'Quanto aprendeu com a DreamShaper?Encod'] = 4\n",
    "Ano20132014.loc[Ano20132014['Quanto aprendeu com a DreamShaper?'] == \"Imenso\", 'Quanto aprendeu com a DreamShaper?Encod'] = 5\n"
   ]
  },
  {
   "cell_type": "code",
   "execution_count": null,
   "metadata": {},
   "outputs": [],
   "source": []
  },
  {
   "cell_type": "code",
   "execution_count": 11,
   "metadata": {},
   "outputs": [],
   "source": [
    "Ano20132014Learned= Ano20132014['Quanto aprendeu com a DreamShaper?Encod']\n",
    "Ano20132014LearnedOrig=Ano20132014Learned.copy()"
   ]
  },
  {
   "cell_type": "code",
   "execution_count": 12,
   "metadata": {},
   "outputs": [],
   "source": [
    "unique_elements, counts_elements = np.unique(Ano20132014Learned, return_counts=True)\n"
   ]
  },
  {
   "cell_type": "code",
   "execution_count": 13,
   "metadata": {},
   "outputs": [],
   "source": [
    "Ano20132014Learned = pd.DataFrame({'Learned?':unique_elements, 'counts':counts_elements})\n"
   ]
  },
  {
   "cell_type": "code",
   "execution_count": 14,
   "metadata": {},
   "outputs": [],
   "source": [
    "Ano20132014Learned\n",
    "Ano20132014Learned['year'] = 2014\n",
    "\n",
    "Ano20132014Learned['population'] = 1550\n",
    "Ano20132014Learned['percentage'] = Ano20132014Learned['counts']/Ano20132014Learned['population']\n",
    "\n"
   ]
  },
  {
   "cell_type": "code",
   "execution_count": 15,
   "metadata": {},
   "outputs": [
    {
     "data": {
      "text/html": [
       "<div>\n",
       "<style scoped>\n",
       "    .dataframe tbody tr th:only-of-type {\n",
       "        vertical-align: middle;\n",
       "    }\n",
       "\n",
       "    .dataframe tbody tr th {\n",
       "        vertical-align: top;\n",
       "    }\n",
       "\n",
       "    .dataframe thead th {\n",
       "        text-align: right;\n",
       "    }\n",
       "</style>\n",
       "<table border=\"1\" class=\"dataframe\">\n",
       "  <thead>\n",
       "    <tr style=\"text-align: right;\">\n",
       "      <th></th>\n",
       "      <th>Learned?</th>\n",
       "      <th>counts</th>\n",
       "      <th>year</th>\n",
       "      <th>population</th>\n",
       "      <th>percentage</th>\n",
       "    </tr>\n",
       "  </thead>\n",
       "  <tbody>\n",
       "    <tr>\n",
       "      <th>0</th>\n",
       "      <td>1.0</td>\n",
       "      <td>16</td>\n",
       "      <td>2014</td>\n",
       "      <td>1550</td>\n",
       "      <td>0.010323</td>\n",
       "    </tr>\n",
       "    <tr>\n",
       "      <th>1</th>\n",
       "      <td>2.0</td>\n",
       "      <td>75</td>\n",
       "      <td>2014</td>\n",
       "      <td>1550</td>\n",
       "      <td>0.048387</td>\n",
       "    </tr>\n",
       "    <tr>\n",
       "      <th>2</th>\n",
       "      <td>3.0</td>\n",
       "      <td>549</td>\n",
       "      <td>2014</td>\n",
       "      <td>1550</td>\n",
       "      <td>0.354194</td>\n",
       "    </tr>\n",
       "    <tr>\n",
       "      <th>3</th>\n",
       "      <td>4.0</td>\n",
       "      <td>771</td>\n",
       "      <td>2014</td>\n",
       "      <td>1550</td>\n",
       "      <td>0.497419</td>\n",
       "    </tr>\n",
       "    <tr>\n",
       "      <th>4</th>\n",
       "      <td>5.0</td>\n",
       "      <td>138</td>\n",
       "      <td>2014</td>\n",
       "      <td>1550</td>\n",
       "      <td>0.089032</td>\n",
       "    </tr>\n",
       "  </tbody>\n",
       "</table>\n",
       "</div>"
      ],
      "text/plain": [
       "   Learned?  counts  year  population  percentage\n",
       "0       1.0      16  2014        1550    0.010323\n",
       "1       2.0      75  2014        1550    0.048387\n",
       "2       3.0     549  2014        1550    0.354194\n",
       "3       4.0     771  2014        1550    0.497419\n",
       "4       5.0     138  2014        1550    0.089032"
      ]
     },
     "execution_count": 15,
     "metadata": {},
     "output_type": "execute_result"
    }
   ],
   "source": [
    "Ano20132014Learned"
   ]
  },
  {
   "cell_type": "code",
   "execution_count": 16,
   "metadata": {},
   "outputs": [],
   "source": [
    "Learned = [\"Year\", \"AverageLearned\"]\n",
    "\n",
    "\n",
    "LearnedOverYears = pd.DataFrame(columns = Learned)"
   ]
  },
  {
   "cell_type": "code",
   "execution_count": 17,
   "metadata": {},
   "outputs": [],
   "source": [
    "import statistics \n",
    "meanLearned=statistics.mean(Ano20132014LearnedOrig)"
   ]
  },
  {
   "cell_type": "code",
   "execution_count": null,
   "metadata": {},
   "outputs": [],
   "source": []
  },
  {
   "cell_type": "code",
   "execution_count": 18,
   "metadata": {},
   "outputs": [],
   "source": [
    "Ano20132014LearnedOrig =Ano20132014LearnedOrig.astype(int)"
   ]
  },
  {
   "cell_type": "code",
   "execution_count": 19,
   "metadata": {},
   "outputs": [],
   "source": [
    "df2 = pd.DataFrame([ [2014, meanLearned]], columns=[\"Year\", \"AverageLearned\"])\n",
    "\n",
    "\n",
    "LearnedOverYears=LearnedOverYears.append(df2)\n",
    "\n"
   ]
  },
  {
   "cell_type": "code",
   "execution_count": 20,
   "metadata": {},
   "outputs": [
    {
     "data": {
      "text/html": [
       "<div>\n",
       "<style scoped>\n",
       "    .dataframe tbody tr th:only-of-type {\n",
       "        vertical-align: middle;\n",
       "    }\n",
       "\n",
       "    .dataframe tbody tr th {\n",
       "        vertical-align: top;\n",
       "    }\n",
       "\n",
       "    .dataframe thead th {\n",
       "        text-align: right;\n",
       "    }\n",
       "</style>\n",
       "<table border=\"1\" class=\"dataframe\">\n",
       "  <thead>\n",
       "    <tr style=\"text-align: right;\">\n",
       "      <th></th>\n",
       "      <th>Year</th>\n",
       "      <th>AverageLearned</th>\n",
       "    </tr>\n",
       "  </thead>\n",
       "  <tbody>\n",
       "    <tr>\n",
       "      <th>0</th>\n",
       "      <td>2014</td>\n",
       "      <td>3.606843</td>\n",
       "    </tr>\n",
       "  </tbody>\n",
       "</table>\n",
       "</div>"
      ],
      "text/plain": [
       "   Year  AverageLearned\n",
       "0  2014        3.606843"
      ]
     },
     "execution_count": 20,
     "metadata": {},
     "output_type": "execute_result"
    }
   ],
   "source": [
    "LearnedOverYears"
   ]
  },
  {
   "cell_type": "code",
   "execution_count": 42,
   "metadata": {},
   "outputs": [
    {
     "data": {
      "application/vnd.plotly.v1+json": {
       "config": {
        "plotlyServerURL": "https://plot.ly"
       },
       "data": [
        {
         "alignmentgroup": "True",
         "hovertemplate": "Learned?=%{x}<br>counts=%{y}<extra></extra>",
         "legendgroup": "",
         "marker": {
          "color": "#636efa"
         },
         "name": "",
         "offsetgroup": "",
         "orientation": "v",
         "showlegend": false,
         "textposition": "auto",
         "type": "bar",
         "x": [
          1,
          2,
          3,
          4,
          5
         ],
         "xaxis": "x",
         "y": [
          16,
          75,
          549,
          771,
          138
         ],
         "yaxis": "y"
        }
       ],
       "layout": {
        "barmode": "relative",
        "legend": {
         "tracegroupgap": 0
        },
        "margin": {
         "t": 60
        },
        "template": {
         "data": {
          "bar": [
           {
            "error_x": {
             "color": "#2a3f5f"
            },
            "error_y": {
             "color": "#2a3f5f"
            },
            "marker": {
             "line": {
              "color": "#E5ECF6",
              "width": 0.5
             }
            },
            "type": "bar"
           }
          ],
          "barpolar": [
           {
            "marker": {
             "line": {
              "color": "#E5ECF6",
              "width": 0.5
             }
            },
            "type": "barpolar"
           }
          ],
          "carpet": [
           {
            "aaxis": {
             "endlinecolor": "#2a3f5f",
             "gridcolor": "white",
             "linecolor": "white",
             "minorgridcolor": "white",
             "startlinecolor": "#2a3f5f"
            },
            "baxis": {
             "endlinecolor": "#2a3f5f",
             "gridcolor": "white",
             "linecolor": "white",
             "minorgridcolor": "white",
             "startlinecolor": "#2a3f5f"
            },
            "type": "carpet"
           }
          ],
          "choropleth": [
           {
            "colorbar": {
             "outlinewidth": 0,
             "ticks": ""
            },
            "type": "choropleth"
           }
          ],
          "contour": [
           {
            "colorbar": {
             "outlinewidth": 0,
             "ticks": ""
            },
            "colorscale": [
             [
              0,
              "#0d0887"
             ],
             [
              0.1111111111111111,
              "#46039f"
             ],
             [
              0.2222222222222222,
              "#7201a8"
             ],
             [
              0.3333333333333333,
              "#9c179e"
             ],
             [
              0.4444444444444444,
              "#bd3786"
             ],
             [
              0.5555555555555556,
              "#d8576b"
             ],
             [
              0.6666666666666666,
              "#ed7953"
             ],
             [
              0.7777777777777778,
              "#fb9f3a"
             ],
             [
              0.8888888888888888,
              "#fdca26"
             ],
             [
              1,
              "#f0f921"
             ]
            ],
            "type": "contour"
           }
          ],
          "contourcarpet": [
           {
            "colorbar": {
             "outlinewidth": 0,
             "ticks": ""
            },
            "type": "contourcarpet"
           }
          ],
          "heatmap": [
           {
            "colorbar": {
             "outlinewidth": 0,
             "ticks": ""
            },
            "colorscale": [
             [
              0,
              "#0d0887"
             ],
             [
              0.1111111111111111,
              "#46039f"
             ],
             [
              0.2222222222222222,
              "#7201a8"
             ],
             [
              0.3333333333333333,
              "#9c179e"
             ],
             [
              0.4444444444444444,
              "#bd3786"
             ],
             [
              0.5555555555555556,
              "#d8576b"
             ],
             [
              0.6666666666666666,
              "#ed7953"
             ],
             [
              0.7777777777777778,
              "#fb9f3a"
             ],
             [
              0.8888888888888888,
              "#fdca26"
             ],
             [
              1,
              "#f0f921"
             ]
            ],
            "type": "heatmap"
           }
          ],
          "heatmapgl": [
           {
            "colorbar": {
             "outlinewidth": 0,
             "ticks": ""
            },
            "colorscale": [
             [
              0,
              "#0d0887"
             ],
             [
              0.1111111111111111,
              "#46039f"
             ],
             [
              0.2222222222222222,
              "#7201a8"
             ],
             [
              0.3333333333333333,
              "#9c179e"
             ],
             [
              0.4444444444444444,
              "#bd3786"
             ],
             [
              0.5555555555555556,
              "#d8576b"
             ],
             [
              0.6666666666666666,
              "#ed7953"
             ],
             [
              0.7777777777777778,
              "#fb9f3a"
             ],
             [
              0.8888888888888888,
              "#fdca26"
             ],
             [
              1,
              "#f0f921"
             ]
            ],
            "type": "heatmapgl"
           }
          ],
          "histogram": [
           {
            "marker": {
             "colorbar": {
              "outlinewidth": 0,
              "ticks": ""
             }
            },
            "type": "histogram"
           }
          ],
          "histogram2d": [
           {
            "colorbar": {
             "outlinewidth": 0,
             "ticks": ""
            },
            "colorscale": [
             [
              0,
              "#0d0887"
             ],
             [
              0.1111111111111111,
              "#46039f"
             ],
             [
              0.2222222222222222,
              "#7201a8"
             ],
             [
              0.3333333333333333,
              "#9c179e"
             ],
             [
              0.4444444444444444,
              "#bd3786"
             ],
             [
              0.5555555555555556,
              "#d8576b"
             ],
             [
              0.6666666666666666,
              "#ed7953"
             ],
             [
              0.7777777777777778,
              "#fb9f3a"
             ],
             [
              0.8888888888888888,
              "#fdca26"
             ],
             [
              1,
              "#f0f921"
             ]
            ],
            "type": "histogram2d"
           }
          ],
          "histogram2dcontour": [
           {
            "colorbar": {
             "outlinewidth": 0,
             "ticks": ""
            },
            "colorscale": [
             [
              0,
              "#0d0887"
             ],
             [
              0.1111111111111111,
              "#46039f"
             ],
             [
              0.2222222222222222,
              "#7201a8"
             ],
             [
              0.3333333333333333,
              "#9c179e"
             ],
             [
              0.4444444444444444,
              "#bd3786"
             ],
             [
              0.5555555555555556,
              "#d8576b"
             ],
             [
              0.6666666666666666,
              "#ed7953"
             ],
             [
              0.7777777777777778,
              "#fb9f3a"
             ],
             [
              0.8888888888888888,
              "#fdca26"
             ],
             [
              1,
              "#f0f921"
             ]
            ],
            "type": "histogram2dcontour"
           }
          ],
          "mesh3d": [
           {
            "colorbar": {
             "outlinewidth": 0,
             "ticks": ""
            },
            "type": "mesh3d"
           }
          ],
          "parcoords": [
           {
            "line": {
             "colorbar": {
              "outlinewidth": 0,
              "ticks": ""
             }
            },
            "type": "parcoords"
           }
          ],
          "pie": [
           {
            "automargin": true,
            "type": "pie"
           }
          ],
          "scatter": [
           {
            "marker": {
             "colorbar": {
              "outlinewidth": 0,
              "ticks": ""
             }
            },
            "type": "scatter"
           }
          ],
          "scatter3d": [
           {
            "line": {
             "colorbar": {
              "outlinewidth": 0,
              "ticks": ""
             }
            },
            "marker": {
             "colorbar": {
              "outlinewidth": 0,
              "ticks": ""
             }
            },
            "type": "scatter3d"
           }
          ],
          "scattercarpet": [
           {
            "marker": {
             "colorbar": {
              "outlinewidth": 0,
              "ticks": ""
             }
            },
            "type": "scattercarpet"
           }
          ],
          "scattergeo": [
           {
            "marker": {
             "colorbar": {
              "outlinewidth": 0,
              "ticks": ""
             }
            },
            "type": "scattergeo"
           }
          ],
          "scattergl": [
           {
            "marker": {
             "colorbar": {
              "outlinewidth": 0,
              "ticks": ""
             }
            },
            "type": "scattergl"
           }
          ],
          "scattermapbox": [
           {
            "marker": {
             "colorbar": {
              "outlinewidth": 0,
              "ticks": ""
             }
            },
            "type": "scattermapbox"
           }
          ],
          "scatterpolar": [
           {
            "marker": {
             "colorbar": {
              "outlinewidth": 0,
              "ticks": ""
             }
            },
            "type": "scatterpolar"
           }
          ],
          "scatterpolargl": [
           {
            "marker": {
             "colorbar": {
              "outlinewidth": 0,
              "ticks": ""
             }
            },
            "type": "scatterpolargl"
           }
          ],
          "scatterternary": [
           {
            "marker": {
             "colorbar": {
              "outlinewidth": 0,
              "ticks": ""
             }
            },
            "type": "scatterternary"
           }
          ],
          "surface": [
           {
            "colorbar": {
             "outlinewidth": 0,
             "ticks": ""
            },
            "colorscale": [
             [
              0,
              "#0d0887"
             ],
             [
              0.1111111111111111,
              "#46039f"
             ],
             [
              0.2222222222222222,
              "#7201a8"
             ],
             [
              0.3333333333333333,
              "#9c179e"
             ],
             [
              0.4444444444444444,
              "#bd3786"
             ],
             [
              0.5555555555555556,
              "#d8576b"
             ],
             [
              0.6666666666666666,
              "#ed7953"
             ],
             [
              0.7777777777777778,
              "#fb9f3a"
             ],
             [
              0.8888888888888888,
              "#fdca26"
             ],
             [
              1,
              "#f0f921"
             ]
            ],
            "type": "surface"
           }
          ],
          "table": [
           {
            "cells": {
             "fill": {
              "color": "#EBF0F8"
             },
             "line": {
              "color": "white"
             }
            },
            "header": {
             "fill": {
              "color": "#C8D4E3"
             },
             "line": {
              "color": "white"
             }
            },
            "type": "table"
           }
          ]
         },
         "layout": {
          "annotationdefaults": {
           "arrowcolor": "#2a3f5f",
           "arrowhead": 0,
           "arrowwidth": 1
          },
          "coloraxis": {
           "colorbar": {
            "outlinewidth": 0,
            "ticks": ""
           }
          },
          "colorscale": {
           "diverging": [
            [
             0,
             "#8e0152"
            ],
            [
             0.1,
             "#c51b7d"
            ],
            [
             0.2,
             "#de77ae"
            ],
            [
             0.3,
             "#f1b6da"
            ],
            [
             0.4,
             "#fde0ef"
            ],
            [
             0.5,
             "#f7f7f7"
            ],
            [
             0.6,
             "#e6f5d0"
            ],
            [
             0.7,
             "#b8e186"
            ],
            [
             0.8,
             "#7fbc41"
            ],
            [
             0.9,
             "#4d9221"
            ],
            [
             1,
             "#276419"
            ]
           ],
           "sequential": [
            [
             0,
             "#0d0887"
            ],
            [
             0.1111111111111111,
             "#46039f"
            ],
            [
             0.2222222222222222,
             "#7201a8"
            ],
            [
             0.3333333333333333,
             "#9c179e"
            ],
            [
             0.4444444444444444,
             "#bd3786"
            ],
            [
             0.5555555555555556,
             "#d8576b"
            ],
            [
             0.6666666666666666,
             "#ed7953"
            ],
            [
             0.7777777777777778,
             "#fb9f3a"
            ],
            [
             0.8888888888888888,
             "#fdca26"
            ],
            [
             1,
             "#f0f921"
            ]
           ],
           "sequentialminus": [
            [
             0,
             "#0d0887"
            ],
            [
             0.1111111111111111,
             "#46039f"
            ],
            [
             0.2222222222222222,
             "#7201a8"
            ],
            [
             0.3333333333333333,
             "#9c179e"
            ],
            [
             0.4444444444444444,
             "#bd3786"
            ],
            [
             0.5555555555555556,
             "#d8576b"
            ],
            [
             0.6666666666666666,
             "#ed7953"
            ],
            [
             0.7777777777777778,
             "#fb9f3a"
            ],
            [
             0.8888888888888888,
             "#fdca26"
            ],
            [
             1,
             "#f0f921"
            ]
           ]
          },
          "colorway": [
           "#636efa",
           "#EF553B",
           "#00cc96",
           "#ab63fa",
           "#FFA15A",
           "#19d3f3",
           "#FF6692",
           "#B6E880",
           "#FF97FF",
           "#FECB52"
          ],
          "font": {
           "color": "#2a3f5f"
          },
          "geo": {
           "bgcolor": "white",
           "lakecolor": "white",
           "landcolor": "#E5ECF6",
           "showlakes": true,
           "showland": true,
           "subunitcolor": "white"
          },
          "hoverlabel": {
           "align": "left"
          },
          "hovermode": "closest",
          "mapbox": {
           "style": "light"
          },
          "paper_bgcolor": "white",
          "plot_bgcolor": "#E5ECF6",
          "polar": {
           "angularaxis": {
            "gridcolor": "white",
            "linecolor": "white",
            "ticks": ""
           },
           "bgcolor": "#E5ECF6",
           "radialaxis": {
            "gridcolor": "white",
            "linecolor": "white",
            "ticks": ""
           }
          },
          "scene": {
           "xaxis": {
            "backgroundcolor": "#E5ECF6",
            "gridcolor": "white",
            "gridwidth": 2,
            "linecolor": "white",
            "showbackground": true,
            "ticks": "",
            "zerolinecolor": "white"
           },
           "yaxis": {
            "backgroundcolor": "#E5ECF6",
            "gridcolor": "white",
            "gridwidth": 2,
            "linecolor": "white",
            "showbackground": true,
            "ticks": "",
            "zerolinecolor": "white"
           },
           "zaxis": {
            "backgroundcolor": "#E5ECF6",
            "gridcolor": "white",
            "gridwidth": 2,
            "linecolor": "white",
            "showbackground": true,
            "ticks": "",
            "zerolinecolor": "white"
           }
          },
          "shapedefaults": {
           "line": {
            "color": "#2a3f5f"
           }
          },
          "ternary": {
           "aaxis": {
            "gridcolor": "white",
            "linecolor": "white",
            "ticks": ""
           },
           "baxis": {
            "gridcolor": "white",
            "linecolor": "white",
            "ticks": ""
           },
           "bgcolor": "#E5ECF6",
           "caxis": {
            "gridcolor": "white",
            "linecolor": "white",
            "ticks": ""
           }
          },
          "title": {
           "x": 0.05
          },
          "xaxis": {
           "automargin": true,
           "gridcolor": "white",
           "linecolor": "white",
           "ticks": "",
           "title": {
            "standoff": 15
           },
           "zerolinecolor": "white",
           "zerolinewidth": 2
          },
          "yaxis": {
           "automargin": true,
           "gridcolor": "white",
           "linecolor": "white",
           "ticks": "",
           "title": {
            "standoff": 15
           },
           "zerolinecolor": "white",
           "zerolinewidth": 2
          }
         }
        },
        "title": {
         "text": "Quanto aprendeu com a DreamShaper? - 2013/2014"
        },
        "xaxis": {
         "anchor": "y",
         "domain": [
          0,
          1
         ],
         "title": {
          "text": "Learned?"
         }
        },
        "yaxis": {
         "anchor": "x",
         "domain": [
          0,
          1
         ],
         "title": {
          "text": "counts"
         }
        }
       }
      },
      "text/html": [
       "<div>                            <div id=\"77b6dc3e-7446-47a2-ada2-032f5504599f\" class=\"plotly-graph-div\" style=\"height:525px; width:100%;\"></div>            <script type=\"text/javascript\">                require([\"plotly\"], function(Plotly) {                    window.PLOTLYENV=window.PLOTLYENV || {};                                    if (document.getElementById(\"77b6dc3e-7446-47a2-ada2-032f5504599f\")) {                    Plotly.newPlot(                        \"77b6dc3e-7446-47a2-ada2-032f5504599f\",                        [{\"alignmentgroup\": \"True\", \"hovertemplate\": \"Learned?=%{x}<br>counts=%{y}<extra></extra>\", \"legendgroup\": \"\", \"marker\": {\"color\": \"#636efa\"}, \"name\": \"\", \"offsetgroup\": \"\", \"orientation\": \"v\", \"showlegend\": false, \"textposition\": \"auto\", \"type\": \"bar\", \"x\": [1.0, 2.0, 3.0, 4.0, 5.0], \"xaxis\": \"x\", \"y\": [16, 75, 549, 771, 138], \"yaxis\": \"y\"}],                        {\"barmode\": \"relative\", \"legend\": {\"tracegroupgap\": 0}, \"margin\": {\"t\": 60}, \"template\": {\"data\": {\"bar\": [{\"error_x\": {\"color\": \"#2a3f5f\"}, \"error_y\": {\"color\": \"#2a3f5f\"}, \"marker\": {\"line\": {\"color\": \"#E5ECF6\", \"width\": 0.5}}, \"type\": \"bar\"}], \"barpolar\": [{\"marker\": {\"line\": {\"color\": \"#E5ECF6\", \"width\": 0.5}}, \"type\": \"barpolar\"}], \"carpet\": [{\"aaxis\": {\"endlinecolor\": \"#2a3f5f\", \"gridcolor\": \"white\", \"linecolor\": \"white\", \"minorgridcolor\": \"white\", \"startlinecolor\": \"#2a3f5f\"}, \"baxis\": {\"endlinecolor\": \"#2a3f5f\", \"gridcolor\": \"white\", \"linecolor\": \"white\", \"minorgridcolor\": \"white\", \"startlinecolor\": \"#2a3f5f\"}, \"type\": \"carpet\"}], \"choropleth\": [{\"colorbar\": {\"outlinewidth\": 0, \"ticks\": \"\"}, \"type\": \"choropleth\"}], \"contour\": [{\"colorbar\": {\"outlinewidth\": 0, \"ticks\": \"\"}, \"colorscale\": [[0.0, \"#0d0887\"], [0.1111111111111111, \"#46039f\"], [0.2222222222222222, \"#7201a8\"], [0.3333333333333333, \"#9c179e\"], [0.4444444444444444, \"#bd3786\"], [0.5555555555555556, \"#d8576b\"], [0.6666666666666666, \"#ed7953\"], [0.7777777777777778, \"#fb9f3a\"], [0.8888888888888888, \"#fdca26\"], [1.0, \"#f0f921\"]], \"type\": \"contour\"}], \"contourcarpet\": [{\"colorbar\": {\"outlinewidth\": 0, \"ticks\": \"\"}, \"type\": \"contourcarpet\"}], \"heatmap\": [{\"colorbar\": {\"outlinewidth\": 0, \"ticks\": \"\"}, \"colorscale\": [[0.0, \"#0d0887\"], [0.1111111111111111, \"#46039f\"], [0.2222222222222222, \"#7201a8\"], [0.3333333333333333, \"#9c179e\"], [0.4444444444444444, \"#bd3786\"], [0.5555555555555556, \"#d8576b\"], [0.6666666666666666, \"#ed7953\"], [0.7777777777777778, \"#fb9f3a\"], [0.8888888888888888, \"#fdca26\"], [1.0, \"#f0f921\"]], \"type\": \"heatmap\"}], \"heatmapgl\": [{\"colorbar\": {\"outlinewidth\": 0, \"ticks\": \"\"}, \"colorscale\": [[0.0, \"#0d0887\"], [0.1111111111111111, \"#46039f\"], [0.2222222222222222, \"#7201a8\"], [0.3333333333333333, \"#9c179e\"], [0.4444444444444444, \"#bd3786\"], [0.5555555555555556, \"#d8576b\"], [0.6666666666666666, \"#ed7953\"], [0.7777777777777778, \"#fb9f3a\"], [0.8888888888888888, \"#fdca26\"], [1.0, \"#f0f921\"]], \"type\": \"heatmapgl\"}], \"histogram\": [{\"marker\": {\"colorbar\": {\"outlinewidth\": 0, \"ticks\": \"\"}}, \"type\": \"histogram\"}], \"histogram2d\": [{\"colorbar\": {\"outlinewidth\": 0, \"ticks\": \"\"}, \"colorscale\": [[0.0, \"#0d0887\"], [0.1111111111111111, \"#46039f\"], [0.2222222222222222, \"#7201a8\"], [0.3333333333333333, \"#9c179e\"], [0.4444444444444444, \"#bd3786\"], [0.5555555555555556, \"#d8576b\"], [0.6666666666666666, \"#ed7953\"], [0.7777777777777778, \"#fb9f3a\"], [0.8888888888888888, \"#fdca26\"], [1.0, \"#f0f921\"]], \"type\": \"histogram2d\"}], \"histogram2dcontour\": [{\"colorbar\": {\"outlinewidth\": 0, \"ticks\": \"\"}, \"colorscale\": [[0.0, \"#0d0887\"], [0.1111111111111111, \"#46039f\"], [0.2222222222222222, \"#7201a8\"], [0.3333333333333333, \"#9c179e\"], [0.4444444444444444, \"#bd3786\"], [0.5555555555555556, \"#d8576b\"], [0.6666666666666666, \"#ed7953\"], [0.7777777777777778, \"#fb9f3a\"], [0.8888888888888888, \"#fdca26\"], [1.0, \"#f0f921\"]], \"type\": \"histogram2dcontour\"}], \"mesh3d\": [{\"colorbar\": {\"outlinewidth\": 0, \"ticks\": \"\"}, \"type\": \"mesh3d\"}], \"parcoords\": [{\"line\": {\"colorbar\": {\"outlinewidth\": 0, \"ticks\": \"\"}}, \"type\": \"parcoords\"}], \"pie\": [{\"automargin\": true, \"type\": \"pie\"}], \"scatter\": [{\"marker\": {\"colorbar\": {\"outlinewidth\": 0, \"ticks\": \"\"}}, \"type\": \"scatter\"}], \"scatter3d\": [{\"line\": {\"colorbar\": {\"outlinewidth\": 0, \"ticks\": \"\"}}, \"marker\": {\"colorbar\": {\"outlinewidth\": 0, \"ticks\": \"\"}}, \"type\": \"scatter3d\"}], \"scattercarpet\": [{\"marker\": {\"colorbar\": {\"outlinewidth\": 0, \"ticks\": \"\"}}, \"type\": \"scattercarpet\"}], \"scattergeo\": [{\"marker\": {\"colorbar\": {\"outlinewidth\": 0, \"ticks\": \"\"}}, \"type\": \"scattergeo\"}], \"scattergl\": [{\"marker\": {\"colorbar\": {\"outlinewidth\": 0, \"ticks\": \"\"}}, \"type\": \"scattergl\"}], \"scattermapbox\": [{\"marker\": {\"colorbar\": {\"outlinewidth\": 0, \"ticks\": \"\"}}, \"type\": \"scattermapbox\"}], \"scatterpolar\": [{\"marker\": {\"colorbar\": {\"outlinewidth\": 0, \"ticks\": \"\"}}, \"type\": \"scatterpolar\"}], \"scatterpolargl\": [{\"marker\": {\"colorbar\": {\"outlinewidth\": 0, \"ticks\": \"\"}}, \"type\": \"scatterpolargl\"}], \"scatterternary\": [{\"marker\": {\"colorbar\": {\"outlinewidth\": 0, \"ticks\": \"\"}}, \"type\": \"scatterternary\"}], \"surface\": [{\"colorbar\": {\"outlinewidth\": 0, \"ticks\": \"\"}, \"colorscale\": [[0.0, \"#0d0887\"], [0.1111111111111111, \"#46039f\"], [0.2222222222222222, \"#7201a8\"], [0.3333333333333333, \"#9c179e\"], [0.4444444444444444, \"#bd3786\"], [0.5555555555555556, \"#d8576b\"], [0.6666666666666666, \"#ed7953\"], [0.7777777777777778, \"#fb9f3a\"], [0.8888888888888888, \"#fdca26\"], [1.0, \"#f0f921\"]], \"type\": \"surface\"}], \"table\": [{\"cells\": {\"fill\": {\"color\": \"#EBF0F8\"}, \"line\": {\"color\": \"white\"}}, \"header\": {\"fill\": {\"color\": \"#C8D4E3\"}, \"line\": {\"color\": \"white\"}}, \"type\": \"table\"}]}, \"layout\": {\"annotationdefaults\": {\"arrowcolor\": \"#2a3f5f\", \"arrowhead\": 0, \"arrowwidth\": 1}, \"coloraxis\": {\"colorbar\": {\"outlinewidth\": 0, \"ticks\": \"\"}}, \"colorscale\": {\"diverging\": [[0, \"#8e0152\"], [0.1, \"#c51b7d\"], [0.2, \"#de77ae\"], [0.3, \"#f1b6da\"], [0.4, \"#fde0ef\"], [0.5, \"#f7f7f7\"], [0.6, \"#e6f5d0\"], [0.7, \"#b8e186\"], [0.8, \"#7fbc41\"], [0.9, \"#4d9221\"], [1, \"#276419\"]], \"sequential\": [[0.0, \"#0d0887\"], [0.1111111111111111, \"#46039f\"], [0.2222222222222222, \"#7201a8\"], [0.3333333333333333, \"#9c179e\"], [0.4444444444444444, \"#bd3786\"], [0.5555555555555556, \"#d8576b\"], [0.6666666666666666, \"#ed7953\"], [0.7777777777777778, \"#fb9f3a\"], [0.8888888888888888, \"#fdca26\"], [1.0, \"#f0f921\"]], \"sequentialminus\": [[0.0, \"#0d0887\"], [0.1111111111111111, \"#46039f\"], [0.2222222222222222, \"#7201a8\"], [0.3333333333333333, \"#9c179e\"], [0.4444444444444444, \"#bd3786\"], [0.5555555555555556, \"#d8576b\"], [0.6666666666666666, \"#ed7953\"], [0.7777777777777778, \"#fb9f3a\"], [0.8888888888888888, \"#fdca26\"], [1.0, \"#f0f921\"]]}, \"colorway\": [\"#636efa\", \"#EF553B\", \"#00cc96\", \"#ab63fa\", \"#FFA15A\", \"#19d3f3\", \"#FF6692\", \"#B6E880\", \"#FF97FF\", \"#FECB52\"], \"font\": {\"color\": \"#2a3f5f\"}, \"geo\": {\"bgcolor\": \"white\", \"lakecolor\": \"white\", \"landcolor\": \"#E5ECF6\", \"showlakes\": true, \"showland\": true, \"subunitcolor\": \"white\"}, \"hoverlabel\": {\"align\": \"left\"}, \"hovermode\": \"closest\", \"mapbox\": {\"style\": \"light\"}, \"paper_bgcolor\": \"white\", \"plot_bgcolor\": \"#E5ECF6\", \"polar\": {\"angularaxis\": {\"gridcolor\": \"white\", \"linecolor\": \"white\", \"ticks\": \"\"}, \"bgcolor\": \"#E5ECF6\", \"radialaxis\": {\"gridcolor\": \"white\", \"linecolor\": \"white\", \"ticks\": \"\"}}, \"scene\": {\"xaxis\": {\"backgroundcolor\": \"#E5ECF6\", \"gridcolor\": \"white\", \"gridwidth\": 2, \"linecolor\": \"white\", \"showbackground\": true, \"ticks\": \"\", \"zerolinecolor\": \"white\"}, \"yaxis\": {\"backgroundcolor\": \"#E5ECF6\", \"gridcolor\": \"white\", \"gridwidth\": 2, \"linecolor\": \"white\", \"showbackground\": true, \"ticks\": \"\", \"zerolinecolor\": \"white\"}, \"zaxis\": {\"backgroundcolor\": \"#E5ECF6\", \"gridcolor\": \"white\", \"gridwidth\": 2, \"linecolor\": \"white\", \"showbackground\": true, \"ticks\": \"\", \"zerolinecolor\": \"white\"}}, \"shapedefaults\": {\"line\": {\"color\": \"#2a3f5f\"}}, \"ternary\": {\"aaxis\": {\"gridcolor\": \"white\", \"linecolor\": \"white\", \"ticks\": \"\"}, \"baxis\": {\"gridcolor\": \"white\", \"linecolor\": \"white\", \"ticks\": \"\"}, \"bgcolor\": \"#E5ECF6\", \"caxis\": {\"gridcolor\": \"white\", \"linecolor\": \"white\", \"ticks\": \"\"}}, \"title\": {\"x\": 0.05}, \"xaxis\": {\"automargin\": true, \"gridcolor\": \"white\", \"linecolor\": \"white\", \"ticks\": \"\", \"title\": {\"standoff\": 15}, \"zerolinecolor\": \"white\", \"zerolinewidth\": 2}, \"yaxis\": {\"automargin\": true, \"gridcolor\": \"white\", \"linecolor\": \"white\", \"ticks\": \"\", \"title\": {\"standoff\": 15}, \"zerolinecolor\": \"white\", \"zerolinewidth\": 2}}}, \"title\": {\"text\": \"Quanto aprendeu com a DreamShaper? - 2013/2014\"}, \"xaxis\": {\"anchor\": \"y\", \"domain\": [0.0, 1.0], \"title\": {\"text\": \"Learned?\"}}, \"yaxis\": {\"anchor\": \"x\", \"domain\": [0.0, 1.0], \"title\": {\"text\": \"counts\"}}},                        {\"responsive\": true}                    ).then(function(){\n",
       "                            \n",
       "var gd = document.getElementById('77b6dc3e-7446-47a2-ada2-032f5504599f');\n",
       "var x = new MutationObserver(function (mutations, observer) {{\n",
       "        var display = window.getComputedStyle(gd).display;\n",
       "        if (!display || display === 'none') {{\n",
       "            console.log([gd, 'removed!']);\n",
       "            Plotly.purge(gd);\n",
       "            observer.disconnect();\n",
       "        }}\n",
       "}});\n",
       "\n",
       "// Listen for the removal of the full notebook cells\n",
       "var notebookContainer = gd.closest('#notebook-container');\n",
       "if (notebookContainer) {{\n",
       "    x.observe(notebookContainer, {childList: true});\n",
       "}}\n",
       "\n",
       "// Listen for the clearing of the current output cell\n",
       "var outputEl = gd.closest('.output');\n",
       "if (outputEl) {{\n",
       "    x.observe(outputEl, {childList: true});\n",
       "}}\n",
       "\n",
       "                        })                };                });            </script>        </div>"
      ]
     },
     "metadata": {},
     "output_type": "display_data"
    }
   ],
   "source": [
    "import plotly_express as px\n",
    "\n",
    "fig = px.bar(Ano20132014Learned, x='Learned?', y='counts')\n",
    "\n",
    "fig.update_layout(title_text='Quanto aprendeu com a DreamShaper? - 2013/2014')\n",
    "\n",
    "fig.show()\n",
    "fig.write_image('Outputs/ImageOutputsYear/Ano20132014Learned.png')\n"
   ]
  },
  {
   "cell_type": "code",
   "execution_count": 43,
   "metadata": {},
   "outputs": [
    {
     "data": {
      "image/png": "[encoded data removed]",
      "text/plain": [
       "<IPython.core.display.Image object>"
      ]
     },
     "execution_count": 43,
     "metadata": {},
     "output_type": "execute_result"
    }
   ],
   "source": [
    "from IPython.display import Image\n",
    "Image(filename='Outputs/ImageOutputsYear/Ano20132014Learned.png')\n",
    "\n"
   ]
  },
  {
   "cell_type": "code",
   "execution_count": null,
   "metadata": {},
   "outputs": [],
   "source": []
  },
  {
   "cell_type": "code",
   "execution_count": null,
   "metadata": {},
   "outputs": [],
   "source": []
  },
  {
   "cell_type": "markdown",
   "metadata": {},
   "source": [
    "### Positives and Negatives  <a name=\"posneg\"></a>\n",
    "* [Back to TOC](#backtoc)\n"
   ]
  },
  {
   "cell_type": "code",
   "execution_count": 44,
   "metadata": {},
   "outputs": [],
   "source": [
    "\n",
    "#Quais são os seus 3 aspectos preferidos da ferramenta ? Aspecto Visual\t\n",
    "Ano20132014.loc[Ano20132014['Quais são os seus 3 aspectos preferidos da ferramenta ? Aspecto Visual'] == \"Aspecto visual\", 'Quais são os seus 3 aspectos preferidos da ferramenta ? Aspecto Visual'] = 1\n",
    "Ano20132014['Quais são os seus 3 aspectos preferidos da ferramenta ? Aspecto Visual'].fillna(0, inplace=True)\n",
    "\n",
    "#Quais são os seus 3 aspectos preferidos da ferramenta ? Navegação na Ferramenta\n",
    "Ano20132014.loc[Ano20132014['Quais são os seus 3 aspectos preferidos da ferramenta ? Navegação na Ferramenta'] == \"Navegação na ferramenta\", 'Quais são os seus 3 aspectos preferidos da ferramenta ? Navegação na Ferramenta'] = 1\n",
    "Ano20132014['Quais são os seus 3 aspectos preferidos da ferramenta ? Navegação na Ferramenta'].fillna(0, inplace=True)\n",
    "\n",
    "#Quais são os seus 3 aspectos preferidos da ferramenta ? Perguntas\n",
    "Ano20132014.loc[Ano20132014['Quais são os seus 3 aspectos preferidos da ferramenta ? Perguntas'] == \"Perguntas\", 'Quais são os seus 3 aspectos preferidos da ferramenta ? Perguntas'] = 1\n",
    "Ano20132014['Quais são os seus 3 aspectos preferidos da ferramenta ? Perguntas'].fillna(0, inplace=True)\n",
    "\n",
    "\n",
    "#Quais são os seus 3 aspectos preferidos da ferramenta ? Exemplos\n",
    "Ano20132014.loc[Ano20132014['Quais são os seus 3 aspectos preferidos da ferramenta ? Exemplos'] == \"Exemplos\", 'Quais são os seus 3 aspectos preferidos da ferramenta ? Exemplos'] = 1\n",
    "Ano20132014['Quais são os seus 3 aspectos preferidos da ferramenta ? Exemplos'].fillna(0, inplace=True)\n",
    "\n",
    "#Quais são os seus 3 aspectos preferidos da ferramenta ? Vídeos\n",
    "Ano20132014.loc[Ano20132014['Quais são os seus 3 aspectos preferidos da ferramenta ? Vídeos'] == \"Vídeos\", 'Quais são os seus 3 aspectos preferidos da ferramenta ? Vídeos'] = 1\n",
    "Ano20132014['Quais são os seus 3 aspectos preferidos da ferramenta ? Vídeos'].fillna(0, inplace=True)\n",
    "\n",
    "#Quais são os seus 3 aspectos preferidos da ferramenta ? Modelo de Negócios\n",
    "Ano20132014.loc[Ano20132014['Quais são os seus 3 aspectos preferidos da ferramenta ? Modelo de Negócios'] == \"Modelo de negócios\", 'Quais são os seus 3 aspectos preferidos da ferramenta ? Modelo de Negócios'] = 1\n",
    "Ano20132014['Quais são os seus 3 aspectos preferidos da ferramenta ? Modelo de Negócios'].fillna(0, inplace=True)\n",
    "\n",
    "#Quais são os seus 3 aspectos preferidos da ferramenta ? Indicações de Interface\n",
    "Ano20132014.loc[Ano20132014['Quais são os seus 3 aspectos preferidos da ferramenta ? Indicações de Interface'] == \"Indicações de interface\", 'Quais são os seus 3 aspectos preferidos da ferramenta ? Indicações de Interface'] = 1\n",
    "Ano20132014['Quais são os seus 3 aspectos preferidos da ferramenta ? Indicações de Interface'].fillna(0, inplace=True)\n",
    "\n",
    "\n",
    "#Quais são os seus 3 aspectos preferidos da ferramenta ? Mural de equipa\n",
    "Ano20132014.loc[Ano20132014['Quais são os seus 3 aspectos preferidos da ferramenta ? Mural de equipa'] == \"Mural de equipa\", 'Quais são os seus 3 aspectos preferidos da ferramenta ? Mural de equipa'] = 1\n",
    "Ano20132014['Quais são os seus 3 aspectos preferidos da ferramenta ? Mural de equipa'].fillna(0, inplace=True)\n",
    "\n",
    "\n",
    "#Quais são os seus 3 aspectos preferidos da ferramenta ?  Gestão de equipa\n",
    "Ano20132014.loc[Ano20132014['Quais são os seus 3 aspectos preferidos da ferramenta ?  Gestão de equipa'] == \"Gestão de equipa\", 'Quais são os seus 3 aspectos preferidos da ferramenta ?  Gestão de equipa'] = 1\n",
    "Ano20132014['Quais são os seus 3 aspectos preferidos da ferramenta ?  Gestão de equipa'].fillna(0, inplace=True)\n",
    "\n",
    "\n",
    "#Quais são os seus 3 aspectos preferidos da ferramenta ? Gestão de projectos\n",
    "Ano20132014.loc[Ano20132014['Quais são os seus 3 aspectos preferidos da ferramenta ? Gestão de projectos'] == \"Gestão de projectos\", 'Quais são os seus 3 aspectos preferidos da ferramenta ? Gestão de projectos'] = 1\n",
    "Ano20132014['Quais são os seus 3 aspectos preferidos da ferramenta ? Gestão de projectos'].fillna(0, inplace=True)\n",
    "\n",
    "#Quais são os seus 3 aspectos preferidos da ferramenta ? Acesso a recursos externos\n",
    "Ano20132014.loc[Ano20132014['Quais são os seus 3 aspectos preferidos da ferramenta ? Acesso a recursos externos'] == \"Acesso a recursos externos\", 'Quais são os seus 3 aspectos preferidos da ferramenta ? Acesso a recursos externos'] = 1\n",
    "Ano20132014['Quais são os seus 3 aspectos preferidos da ferramenta ? Acesso a recursos externos'].fillna(0, inplace=True)\n",
    "\n",
    "\n",
    "#E quais são os 3 aspectos que menos gosta? Aspecto visual\n",
    "Ano20132014.loc[Ano20132014['E quais são os 3 aspectos que menos gosta? Aspecto visual'] == \"Aspecto visual\", 'E quais são os 3 aspectos que menos gosta? Aspecto visual'] = 1\n",
    "Ano20132014['E quais são os 3 aspectos que menos gosta? Aspecto visual'].fillna(0, inplace=True)\n",
    "\n",
    "#E quais são os 3 aspectos que menos gosta? Navegação na ferramenta\n",
    "Ano20132014.loc[Ano20132014['E quais são os 3 aspectos que menos gosta? Navegação na ferramenta'] == \"Navegação na ferramenta\", 'E quais são os 3 aspectos que menos gosta? Navegação na ferramenta'] = 1\n",
    "Ano20132014['E quais são os 3 aspectos que menos gosta? Navegação na ferramenta'].fillna(0, inplace=True)\n",
    "\n",
    "#E quais são os 3 aspectos que menos gosta? Perguntas\n",
    "Ano20132014.loc[Ano20132014['E quais são os 3 aspectos que menos gosta? Perguntas'] == \"Perguntas\", 'E quais são os 3 aspectos que menos gosta? Perguntas'] = 1\n",
    "Ano20132014['E quais são os 3 aspectos que menos gosta? Perguntas'].fillna(0, inplace=True)\n",
    "\n",
    "#E quais são os 3 aspectos que menos gosta? Exemplos\n",
    "Ano20132014.loc[Ano20132014['E quais são os 3 aspectos que menos gosta? Exemplos'] == \"Exemplos\", 'E quais são os 3 aspectos que menos gosta? Exemplos'] = 1\n",
    "Ano20132014['E quais são os 3 aspectos que menos gosta? Exemplos'].fillna(0, inplace=True)\n",
    "\n",
    "#E quais são os 3 aspectos que menos gosta? Vídeos\n",
    "Ano20132014.loc[Ano20132014['E quais são os 3 aspectos que menos gosta? Vídeos'] == \"Vídeos\", 'E quais são os 3 aspectos que menos gosta? Vídeos'] = 1\n",
    "Ano20132014['E quais são os 3 aspectos que menos gosta? Vídeos'].fillna(0, inplace=True)\n",
    "\n",
    "#E quais são os 3 aspectos que menos gosta? Modelo de negócios\n",
    "Ano20132014.loc[Ano20132014['E quais são os 3 aspectos que menos gosta? Modelo de negócios'] == \"Modelo de negócios\", 'E quais são os 3 aspectos que menos gosta? Modelo de negócios'] = 1\n",
    "Ano20132014['E quais são os 3 aspectos que menos gosta? Modelo de negócios'].fillna(0, inplace=True)\n",
    "\n",
    "\n",
    "#E quais são os 3 aspectos que menos gosta? Indicações de interface\n",
    "Ano20132014.loc[Ano20132014['E quais são os 3 aspectos que menos gosta? Indicações de interface'] == \"Indicações de interface\", 'E quais são os 3 aspectos que menos gosta? Indicações de interface'] = 1\n",
    "Ano20132014['E quais são os 3 aspectos que menos gosta? Indicações de interface'].fillna(0, inplace=True)\n",
    "\n",
    "#E quais são os 3 aspectos que menos gosta? Mural de equipa\n",
    "Ano20132014.loc[Ano20132014['E quais são os 3 aspectos que menos gosta? Mural de equipa'] == \"Mural de equipa\", 'E quais são os 3 aspectos que menos gosta? Mural de equipa'] = 1\n",
    "Ano20132014['E quais são os 3 aspectos que menos gosta? Mural de equipa'].fillna(0, inplace=True)\n",
    "\n",
    "#E quais são os 3 aspectos que menos gosta? Gestão de equipa\n",
    "Ano20132014.loc[Ano20132014['E quais são os 3 aspectos que menos gosta? Gestão de equipa'] == \"Gestão de equipa\", 'E quais são os 3 aspectos que menos gosta? Gestão de equipa'] = 1\n",
    "Ano20132014['E quais são os 3 aspectos que menos gosta? Gestão de equipa'].fillna(0, inplace=True)\n",
    "\n",
    "#E quais são os 3 aspectos que menos gosta? Gestão de projectos\n",
    "Ano20132014.loc[Ano20132014['E quais são os 3 aspectos que menos gosta? Gestão de projectos'] == \"Gestão de projectos\", 'E quais são os 3 aspectos que menos gosta? Gestão de projectos'] = 1\n",
    "Ano20132014['E quais são os 3 aspectos que menos gosta? Gestão de projectos'].fillna(0, inplace=True)\n",
    "\n",
    "#E quais são os 3 aspectos que menos gosta? Acesso a recursos externos\n",
    "Ano20132014.loc[Ano20132014['E quais são os 3 aspectos que menos gosta? Acesso a recursos externos'] == \"Acesso a recursos externos\", 'E quais são os 3 aspectos que menos gosta? Acesso a recursos externos'] = 1\n",
    "Ano20132014['E quais são os 3 aspectos que menos gosta? Acesso a recursos externos'].fillna(0, inplace=True)\n",
    "\n",
    "\n"
   ]
  },
  {
   "cell_type": "code",
   "execution_count": null,
   "metadata": {},
   "outputs": [],
   "source": []
  },
  {
   "cell_type": "code",
   "execution_count": null,
   "metadata": {},
   "outputs": [],
   "source": []
  },
  {
   "cell_type": "code",
   "execution_count": null,
   "metadata": {},
   "outputs": [],
   "source": []
  },
  {
   "cell_type": "markdown",
   "metadata": {},
   "source": [
    "### Data Visualizations  <a name=\"dataviz\"></a>\n",
    "\n",
    "* [Back to TOC](#backtoc)\n"
   ]
  },
  {
   "cell_type": "code",
   "execution_count": 45,
   "metadata": {},
   "outputs": [],
   "source": [
    "Ano20132014Liked = Ano20132014['Está satisfeito com a ferramenta DreamShaper?Num']\n",
    "Ano20132014LikedOrig= Ano20132014Liked.copy()"
   ]
  },
  {
   "cell_type": "code",
   "execution_count": 46,
   "metadata": {},
   "outputs": [],
   "source": [
    "unique_elements, counts_elements = np.unique(Ano20132014Liked, return_counts=True)\n"
   ]
  },
  {
   "cell_type": "code",
   "execution_count": 47,
   "metadata": {},
   "outputs": [],
   "source": [
    "Ano20132014Liked = pd.DataFrame({'Liked?':unique_elements, 'counts':counts_elements})\n"
   ]
  },
  {
   "cell_type": "code",
   "execution_count": 48,
   "metadata": {},
   "outputs": [],
   "source": [
    "Ano20132014Liked\n",
    "Ano20132014Liked['year'] = 2014\n",
    "Ano20132014Liked['population'] = 1550\n",
    "Ano20132014Liked['percentage'] = Ano20132014Liked['counts']/Ano20132014Liked['population']\n",
    "\n"
   ]
  },
  {
   "cell_type": "code",
   "execution_count": 49,
   "metadata": {},
   "outputs": [],
   "source": [
    "Liked = [\"Year\", \"AverageLiked\"]\n",
    "\n",
    "LikedOverYears = pd.DataFrame(columns = Liked)"
   ]
  },
  {
   "cell_type": "code",
   "execution_count": 50,
   "metadata": {},
   "outputs": [],
   "source": [
    "import statistics \n",
    "meanLiked=statistics.mean(Ano20132014LikedOrig)"
   ]
  },
  {
   "cell_type": "code",
   "execution_count": 51,
   "metadata": {},
   "outputs": [
    {
     "data": {
      "text/plain": [
       "array([3.2, 2.4, 4. , 1.6, 0.8])"
      ]
     },
     "execution_count": 51,
     "metadata": {},
     "output_type": "execute_result"
    }
   ],
   "source": [
    "Ano20132014LikedOrig.unique()"
   ]
  },
  {
   "cell_type": "code",
   "execution_count": null,
   "metadata": {},
   "outputs": [],
   "source": []
  },
  {
   "cell_type": "code",
   "execution_count": 52,
   "metadata": {},
   "outputs": [
    {
     "data": {
      "text/plain": [
       "3.170561652679148"
      ]
     },
     "execution_count": 52,
     "metadata": {},
     "output_type": "execute_result"
    }
   ],
   "source": [
    "statistics.mean(Ano20132014LikedOrig)"
   ]
  },
  {
   "cell_type": "code",
   "execution_count": 53,
   "metadata": {},
   "outputs": [
    {
     "data": {
      "text/plain": [
       "3.170561652679148"
      ]
     },
     "execution_count": 53,
     "metadata": {},
     "output_type": "execute_result"
    }
   ],
   "source": [
    "meanLiked"
   ]
  },
  {
   "cell_type": "code",
   "execution_count": 54,
   "metadata": {},
   "outputs": [],
   "source": [
    "df2 = pd.DataFrame([ [2014, meanLiked]], columns=[\"Year\", \"AverageLiked\"])\n",
    "\n",
    "\n",
    "LikedOverYears=LikedOverYears.append(df2)\n",
    "\n"
   ]
  },
  {
   "cell_type": "code",
   "execution_count": null,
   "metadata": {},
   "outputs": [],
   "source": []
  },
  {
   "cell_type": "code",
   "execution_count": 55,
   "metadata": {},
   "outputs": [
    {
     "data": {
      "application/vnd.plotly.v1+json": {
       "config": {
        "plotlyServerURL": "https://plot.ly"
       },
       "data": [
        {
         "alignmentgroup": "True",
         "hovertemplate": "Liked?=%{x}<br>percentage=%{y}<extra></extra>",
         "legendgroup": "",
         "marker": {
          "color": "#636efa"
         },
         "name": "",
         "offsetgroup": "",
         "orientation": "v",
         "showlegend": false,
         "textposition": "auto",
         "type": "bar",
         "x": [
          0.8,
          1.6,
          2.4,
          3.2,
          4
         ],
         "xaxis": "x",
         "y": [
          0.07483870967741936,
          0.016774193548387096,
          0.06387096774193549,
          0.5587096774193548,
          0.28516129032258064
         ],
         "yaxis": "y"
        }
       ],
       "layout": {
        "barmode": "relative",
        "legend": {
         "tracegroupgap": 0
        },
        "margin": {
         "t": 60
        },
        "template": {
         "data": {
          "bar": [
           {
            "error_x": {
             "color": "#2a3f5f"
            },
            "error_y": {
             "color": "#2a3f5f"
            },
            "marker": {
             "line": {
              "color": "#E5ECF6",
              "width": 0.5
             }
            },
            "type": "bar"
           }
          ],
          "barpolar": [
           {
            "marker": {
             "line": {
              "color": "#E5ECF6",
              "width": 0.5
             }
            },
            "type": "barpolar"
           }
          ],
          "carpet": [
           {
            "aaxis": {
             "endlinecolor": "#2a3f5f",
             "gridcolor": "white",
             "linecolor": "white",
             "minorgridcolor": "white",
             "startlinecolor": "#2a3f5f"
            },
            "baxis": {
             "endlinecolor": "#2a3f5f",
             "gridcolor": "white",
             "linecolor": "white",
             "minorgridcolor": "white",
             "startlinecolor": "#2a3f5f"
            },
            "type": "carpet"
           }
          ],
          "choropleth": [
           {
            "colorbar": {
             "outlinewidth": 0,
             "ticks": ""
            },
            "type": "choropleth"
           }
          ],
          "contour": [
           {
            "colorbar": {
             "outlinewidth": 0,
             "ticks": ""
            },
            "colorscale": [
             [
              0,
              "#0d0887"
             ],
             [
              0.1111111111111111,
              "#46039f"
             ],
             [
              0.2222222222222222,
              "#7201a8"
             ],
             [
              0.3333333333333333,
              "#9c179e"
             ],
             [
              0.4444444444444444,
              "#bd3786"
             ],
             [
              0.5555555555555556,
              "#d8576b"
             ],
             [
              0.6666666666666666,
              "#ed7953"
             ],
             [
              0.7777777777777778,
              "#fb9f3a"
             ],
             [
              0.8888888888888888,
              "#fdca26"
             ],
             [
              1,
              "#f0f921"
             ]
            ],
            "type": "contour"
           }
          ],
          "contourcarpet": [
           {
            "colorbar": {
             "outlinewidth": 0,
             "ticks": ""
            },
            "type": "contourcarpet"
           }
          ],
          "heatmap": [
           {
            "colorbar": {
             "outlinewidth": 0,
             "ticks": ""
            },
            "colorscale": [
             [
              0,
              "#0d0887"
             ],
             [
              0.1111111111111111,
              "#46039f"
             ],
             [
              0.2222222222222222,
              "#7201a8"
             ],
             [
              0.3333333333333333,
              "#9c179e"
             ],
             [
              0.4444444444444444,
              "#bd3786"
             ],
             [
              0.5555555555555556,
              "#d8576b"
             ],
             [
              0.6666666666666666,
              "#ed7953"
             ],
             [
              0.7777777777777778,
              "#fb9f3a"
             ],
             [
              0.8888888888888888,
              "#fdca26"
             ],
             [
              1,
              "#f0f921"
             ]
            ],
            "type": "heatmap"
           }
          ],
          "heatmapgl": [
           {
            "colorbar": {
             "outlinewidth": 0,
             "ticks": ""
            },
            "colorscale": [
             [
              0,
              "#0d0887"
             ],
             [
              0.1111111111111111,
              "#46039f"
             ],
             [
              0.2222222222222222,
              "#7201a8"
             ],
             [
              0.3333333333333333,
              "#9c179e"
             ],
             [
              0.4444444444444444,
              "#bd3786"
             ],
             [
              0.5555555555555556,
              "#d8576b"
             ],
             [
              0.6666666666666666,
              "#ed7953"
             ],
             [
              0.7777777777777778,
              "#fb9f3a"
             ],
             [
              0.8888888888888888,
              "#fdca26"
             ],
             [
              1,
              "#f0f921"
             ]
            ],
            "type": "heatmapgl"
           }
          ],
          "histogram": [
           {
            "marker": {
             "colorbar": {
              "outlinewidth": 0,
              "ticks": ""
             }
            },
            "type": "histogram"
           }
          ],
          "histogram2d": [
           {
            "colorbar": {
             "outlinewidth": 0,
             "ticks": ""
            },
            "colorscale": [
             [
              0,
              "#0d0887"
             ],
             [
              0.1111111111111111,
              "#46039f"
             ],
             [
              0.2222222222222222,
              "#7201a8"
             ],
             [
              0.3333333333333333,
              "#9c179e"
             ],
             [
              0.4444444444444444,
              "#bd3786"
             ],
             [
              0.5555555555555556,
              "#d8576b"
             ],
             [
              0.6666666666666666,
              "#ed7953"
             ],
             [
              0.7777777777777778,
              "#fb9f3a"
             ],
             [
              0.8888888888888888,
              "#fdca26"
             ],
             [
              1,
              "#f0f921"
             ]
            ],
            "type": "histogram2d"
           }
          ],
          "histogram2dcontour": [
           {
            "colorbar": {
             "outlinewidth": 0,
             "ticks": ""
            },
            "colorscale": [
             [
              0,
              "#0d0887"
             ],
             [
              0.1111111111111111,
              "#46039f"
             ],
             [
              0.2222222222222222,
              "#7201a8"
             ],
             [
              0.3333333333333333,
              "#9c179e"
             ],
             [
              0.4444444444444444,
              "#bd3786"
             ],
             [
              0.5555555555555556,
              "#d8576b"
             ],
             [
              0.6666666666666666,
              "#ed7953"
             ],
             [
              0.7777777777777778,
              "#fb9f3a"
             ],
             [
              0.8888888888888888,
              "#fdca26"
             ],
             [
              1,
              "#f0f921"
             ]
            ],
            "type": "histogram2dcontour"
           }
          ],
          "mesh3d": [
           {
            "colorbar": {
             "outlinewidth": 0,
             "ticks": ""
            },
            "type": "mesh3d"
           }
          ],
          "parcoords": [
           {
            "line": {
             "colorbar": {
              "outlinewidth": 0,
              "ticks": ""
             }
            },
            "type": "parcoords"
           }
          ],
          "pie": [
           {
            "automargin": true,
            "type": "pie"
           }
          ],
          "scatter": [
           {
            "marker": {
             "colorbar": {
              "outlinewidth": 0,
              "ticks": ""
             }
            },
            "type": "scatter"
           }
          ],
          "scatter3d": [
           {
            "line": {
             "colorbar": {
              "outlinewidth": 0,
              "ticks": ""
             }
            },
            "marker": {
             "colorbar": {
              "outlinewidth": 0,
              "ticks": ""
             }
            },
            "type": "scatter3d"
           }
          ],
          "scattercarpet": [
           {
            "marker": {
             "colorbar": {
              "outlinewidth": 0,
              "ticks": ""
             }
            },
            "type": "scattercarpet"
           }
          ],
          "scattergeo": [
           {
            "marker": {
             "colorbar": {
              "outlinewidth": 0,
              "ticks": ""
             }
            },
            "type": "scattergeo"
           }
          ],
          "scattergl": [
           {
            "marker": {
             "colorbar": {
              "outlinewidth": 0,
              "ticks": ""
             }
            },
            "type": "scattergl"
           }
          ],
          "scattermapbox": [
           {
            "marker": {
             "colorbar": {
              "outlinewidth": 0,
              "ticks": ""
             }
            },
            "type": "scattermapbox"
           }
          ],
          "scatterpolar": [
           {
            "marker": {
             "colorbar": {
              "outlinewidth": 0,
              "ticks": ""
             }
            },
            "type": "scatterpolar"
           }
          ],
          "scatterpolargl": [
           {
            "marker": {
             "colorbar": {
              "outlinewidth": 0,
              "ticks": ""
             }
            },
            "type": "scatterpolargl"
           }
          ],
          "scatterternary": [
           {
            "marker": {
             "colorbar": {
              "outlinewidth": 0,
              "ticks": ""
             }
            },
            "type": "scatterternary"
           }
          ],
          "surface": [
           {
            "colorbar": {
             "outlinewidth": 0,
             "ticks": ""
            },
            "colorscale": [
             [
              0,
              "#0d0887"
             ],
             [
              0.1111111111111111,
              "#46039f"
             ],
             [
              0.2222222222222222,
              "#7201a8"
             ],
             [
              0.3333333333333333,
              "#9c179e"
             ],
             [
              0.4444444444444444,
              "#bd3786"
             ],
             [
              0.5555555555555556,
              "#d8576b"
             ],
             [
              0.6666666666666666,
              "#ed7953"
             ],
             [
              0.7777777777777778,
              "#fb9f3a"
             ],
             [
              0.8888888888888888,
              "#fdca26"
             ],
             [
              1,
              "#f0f921"
             ]
            ],
            "type": "surface"
           }
          ],
          "table": [
           {
            "cells": {
             "fill": {
              "color": "#EBF0F8"
             },
             "line": {
              "color": "white"
             }
            },
            "header": {
             "fill": {
              "color": "#C8D4E3"
             },
             "line": {
              "color": "white"
             }
            },
            "type": "table"
           }
          ]
         },
         "layout": {
          "annotationdefaults": {
           "arrowcolor": "#2a3f5f",
           "arrowhead": 0,
           "arrowwidth": 1
          },
          "coloraxis": {
           "colorbar": {
            "outlinewidth": 0,
            "ticks": ""
           }
          },
          "colorscale": {
           "diverging": [
            [
             0,
             "#8e0152"
            ],
            [
             0.1,
             "#c51b7d"
            ],
            [
             0.2,
             "#de77ae"
            ],
            [
             0.3,
             "#f1b6da"
            ],
            [
             0.4,
             "#fde0ef"
            ],
            [
             0.5,
             "#f7f7f7"
            ],
            [
             0.6,
             "#e6f5d0"
            ],
            [
             0.7,
             "#b8e186"
            ],
            [
             0.8,
             "#7fbc41"
            ],
            [
             0.9,
             "#4d9221"
            ],
            [
             1,
             "#276419"
            ]
           ],
           "sequential": [
            [
             0,
             "#0d0887"
            ],
            [
             0.1111111111111111,
             "#46039f"
            ],
            [
             0.2222222222222222,
             "#7201a8"
            ],
            [
             0.3333333333333333,
             "#9c179e"
            ],
            [
             0.4444444444444444,
             "#bd3786"
            ],
            [
             0.5555555555555556,
             "#d8576b"
            ],
            [
             0.6666666666666666,
             "#ed7953"
            ],
            [
             0.7777777777777778,
             "#fb9f3a"
            ],
            [
             0.8888888888888888,
             "#fdca26"
            ],
            [
             1,
             "#f0f921"
            ]
           ],
           "sequentialminus": [
            [
             0,
             "#0d0887"
            ],
            [
             0.1111111111111111,
             "#46039f"
            ],
            [
             0.2222222222222222,
             "#7201a8"
            ],
            [
             0.3333333333333333,
             "#9c179e"
            ],
            [
             0.4444444444444444,
             "#bd3786"
            ],
            [
             0.5555555555555556,
             "#d8576b"
            ],
            [
             0.6666666666666666,
             "#ed7953"
            ],
            [
             0.7777777777777778,
             "#fb9f3a"
            ],
            [
             0.8888888888888888,
             "#fdca26"
            ],
            [
             1,
             "#f0f921"
            ]
           ]
          },
          "colorway": [
           "#636efa",
           "#EF553B",
           "#00cc96",
           "#ab63fa",
           "#FFA15A",
           "#19d3f3",
           "#FF6692",
           "#B6E880",
           "#FF97FF",
           "#FECB52"
          ],
          "font": {
           "color": "#2a3f5f"
          },
          "geo": {
           "bgcolor": "white",
           "lakecolor": "white",
           "landcolor": "#E5ECF6",
           "showlakes": true,
           "showland": true,
           "subunitcolor": "white"
          },
          "hoverlabel": {
           "align": "left"
          },
          "hovermode": "closest",
          "mapbox": {
           "style": "light"
          },
          "paper_bgcolor": "white",
          "plot_bgcolor": "#E5ECF6",
          "polar": {
           "angularaxis": {
            "gridcolor": "white",
            "linecolor": "white",
            "ticks": ""
           },
           "bgcolor": "#E5ECF6",
           "radialaxis": {
            "gridcolor": "white",
            "linecolor": "white",
            "ticks": ""
           }
          },
          "scene": {
           "xaxis": {
            "backgroundcolor": "#E5ECF6",
            "gridcolor": "white",
            "gridwidth": 2,
            "linecolor": "white",
            "showbackground": true,
            "ticks": "",
            "zerolinecolor": "white"
           },
           "yaxis": {
            "backgroundcolor": "#E5ECF6",
            "gridcolor": "white",
            "gridwidth": 2,
            "linecolor": "white",
            "showbackground": true,
            "ticks": "",
            "zerolinecolor": "white"
           },
           "zaxis": {
            "backgroundcolor": "#E5ECF6",
            "gridcolor": "white",
            "gridwidth": 2,
            "linecolor": "white",
            "showbackground": true,
            "ticks": "",
            "zerolinecolor": "white"
           }
          },
          "shapedefaults": {
           "line": {
            "color": "#2a3f5f"
           }
          },
          "ternary": {
           "aaxis": {
            "gridcolor": "white",
            "linecolor": "white",
            "ticks": ""
           },
           "baxis": {
            "gridcolor": "white",
            "linecolor": "white",
            "ticks": ""
           },
           "bgcolor": "#E5ECF6",
           "caxis": {
            "gridcolor": "white",
            "linecolor": "white",
            "ticks": ""
           }
          },
          "title": {
           "x": 0.05
          },
          "xaxis": {
           "automargin": true,
           "gridcolor": "white",
           "linecolor": "white",
           "ticks": "",
           "title": {
            "standoff": 15
           },
           "zerolinecolor": "white",
           "zerolinewidth": 2
          },
          "yaxis": {
           "automargin": true,
           "gridcolor": "white",
           "linecolor": "white",
           "ticks": "",
           "title": {
            "standoff": 15
           },
           "zerolinecolor": "white",
           "zerolinewidth": 2
          }
         }
        },
        "title": {
         "text": "Está satisfeito com a ferramenta DreamShaper? - 2013/2014"
        },
        "xaxis": {
         "anchor": "y",
         "domain": [
          0,
          1
         ],
         "title": {
          "text": "Liked?"
         }
        },
        "yaxis": {
         "anchor": "x",
         "domain": [
          0,
          1
         ],
         "title": {
          "text": "percentage"
         }
        }
       }
      },
      "text/html": [
       "<div>                            <div id=\"6a6c179e-2ead-47ab-8a8f-2a5915419479\" class=\"plotly-graph-div\" style=\"height:525px; width:100%;\"></div>            <script type=\"text/javascript\">                require([\"plotly\"], function(Plotly) {                    window.PLOTLYENV=window.PLOTLYENV || {};                                    if (document.getElementById(\"6a6c179e-2ead-47ab-8a8f-2a5915419479\")) {                    Plotly.newPlot(                        \"6a6c179e-2ead-47ab-8a8f-2a5915419479\",                        [{\"alignmentgroup\": \"True\", \"hovertemplate\": \"Liked?=%{x}<br>percentage=%{y}<extra></extra>\", \"legendgroup\": \"\", \"marker\": {\"color\": \"#636efa\"}, \"name\": \"\", \"offsetgroup\": \"\", \"orientation\": \"v\", \"showlegend\": false, \"textposition\": \"auto\", \"type\": \"bar\", \"x\": [0.8, 1.6, 2.4, 3.2, 4.0], \"xaxis\": \"x\", \"y\": [0.07483870967741936, 0.016774193548387096, 0.06387096774193549, 0.5587096774193548, 0.28516129032258064], \"yaxis\": \"y\"}],                        {\"barmode\": \"relative\", \"legend\": {\"tracegroupgap\": 0}, \"margin\": {\"t\": 60}, \"template\": {\"data\": {\"bar\": [{\"error_x\": {\"color\": \"#2a3f5f\"}, \"error_y\": {\"color\": \"#2a3f5f\"}, \"marker\": {\"line\": {\"color\": \"#E5ECF6\", \"width\": 0.5}}, \"type\": \"bar\"}], \"barpolar\": [{\"marker\": {\"line\": {\"color\": \"#E5ECF6\", \"width\": 0.5}}, \"type\": \"barpolar\"}], \"carpet\": [{\"aaxis\": {\"endlinecolor\": \"#2a3f5f\", \"gridcolor\": \"white\", \"linecolor\": \"white\", \"minorgridcolor\": \"white\", \"startlinecolor\": \"#2a3f5f\"}, \"baxis\": {\"endlinecolor\": \"#2a3f5f\", \"gridcolor\": \"white\", \"linecolor\": \"white\", \"minorgridcolor\": \"white\", \"startlinecolor\": \"#2a3f5f\"}, \"type\": \"carpet\"}], \"choropleth\": [{\"colorbar\": {\"outlinewidth\": 0, \"ticks\": \"\"}, \"type\": \"choropleth\"}], \"contour\": [{\"colorbar\": {\"outlinewidth\": 0, \"ticks\": \"\"}, \"colorscale\": [[0.0, \"#0d0887\"], [0.1111111111111111, \"#46039f\"], [0.2222222222222222, \"#7201a8\"], [0.3333333333333333, \"#9c179e\"], [0.4444444444444444, \"#bd3786\"], [0.5555555555555556, \"#d8576b\"], [0.6666666666666666, \"#ed7953\"], [0.7777777777777778, \"#fb9f3a\"], [0.8888888888888888, \"#fdca26\"], [1.0, \"#f0f921\"]], \"type\": \"contour\"}], \"contourcarpet\": [{\"colorbar\": {\"outlinewidth\": 0, \"ticks\": \"\"}, \"type\": \"contourcarpet\"}], \"heatmap\": [{\"colorbar\": {\"outlinewidth\": 0, \"ticks\": \"\"}, \"colorscale\": [[0.0, \"#0d0887\"], [0.1111111111111111, \"#46039f\"], [0.2222222222222222, \"#7201a8\"], [0.3333333333333333, \"#9c179e\"], [0.4444444444444444, \"#bd3786\"], [0.5555555555555556, \"#d8576b\"], [0.6666666666666666, \"#ed7953\"], [0.7777777777777778, \"#fb9f3a\"], [0.8888888888888888, \"#fdca26\"], [1.0, \"#f0f921\"]], \"type\": \"heatmap\"}], \"heatmapgl\": [{\"colorbar\": {\"outlinewidth\": 0, \"ticks\": \"\"}, \"colorscale\": [[0.0, \"#0d0887\"], [0.1111111111111111, \"#46039f\"], [0.2222222222222222, \"#7201a8\"], [0.3333333333333333, \"#9c179e\"], [0.4444444444444444, \"#bd3786\"], [0.5555555555555556, \"#d8576b\"], [0.6666666666666666, \"#ed7953\"], [0.7777777777777778, \"#fb9f3a\"], [0.8888888888888888, \"#fdca26\"], [1.0, \"#f0f921\"]], \"type\": \"heatmapgl\"}], \"histogram\": [{\"marker\": {\"colorbar\": {\"outlinewidth\": 0, \"ticks\": \"\"}}, \"type\": \"histogram\"}], \"histogram2d\": [{\"colorbar\": {\"outlinewidth\": 0, \"ticks\": \"\"}, \"colorscale\": [[0.0, \"#0d0887\"], [0.1111111111111111, \"#46039f\"], [0.2222222222222222, \"#7201a8\"], [0.3333333333333333, \"#9c179e\"], [0.4444444444444444, \"#bd3786\"], [0.5555555555555556, \"#d8576b\"], [0.6666666666666666, \"#ed7953\"], [0.7777777777777778, \"#fb9f3a\"], [0.8888888888888888, \"#fdca26\"], [1.0, \"#f0f921\"]], \"type\": \"histogram2d\"}], \"histogram2dcontour\": [{\"colorbar\": {\"outlinewidth\": 0, \"ticks\": \"\"}, \"colorscale\": [[0.0, \"#0d0887\"], [0.1111111111111111, \"#46039f\"], [0.2222222222222222, \"#7201a8\"], [0.3333333333333333, \"#9c179e\"], [0.4444444444444444, \"#bd3786\"], [0.5555555555555556, \"#d8576b\"], [0.6666666666666666, \"#ed7953\"], [0.7777777777777778, \"#fb9f3a\"], [0.8888888888888888, \"#fdca26\"], [1.0, \"#f0f921\"]], \"type\": \"histogram2dcontour\"}], \"mesh3d\": [{\"colorbar\": {\"outlinewidth\": 0, \"ticks\": \"\"}, \"type\": \"mesh3d\"}], \"parcoords\": [{\"line\": {\"colorbar\": {\"outlinewidth\": 0, \"ticks\": \"\"}}, \"type\": \"parcoords\"}], \"pie\": [{\"automargin\": true, \"type\": \"pie\"}], \"scatter\": [{\"marker\": {\"colorbar\": {\"outlinewidth\": 0, \"ticks\": \"\"}}, \"type\": \"scatter\"}], \"scatter3d\": [{\"line\": {\"colorbar\": {\"outlinewidth\": 0, \"ticks\": \"\"}}, \"marker\": {\"colorbar\": {\"outlinewidth\": 0, \"ticks\": \"\"}}, \"type\": \"scatter3d\"}], \"scattercarpet\": [{\"marker\": {\"colorbar\": {\"outlinewidth\": 0, \"ticks\": \"\"}}, \"type\": \"scattercarpet\"}], \"scattergeo\": [{\"marker\": {\"colorbar\": {\"outlinewidth\": 0, \"ticks\": \"\"}}, \"type\": \"scattergeo\"}], \"scattergl\": [{\"marker\": {\"colorbar\": {\"outlinewidth\": 0, \"ticks\": \"\"}}, \"type\": \"scattergl\"}], \"scattermapbox\": [{\"marker\": {\"colorbar\": {\"outlinewidth\": 0, \"ticks\": \"\"}}, \"type\": \"scattermapbox\"}], \"scatterpolar\": [{\"marker\": {\"colorbar\": {\"outlinewidth\": 0, \"ticks\": \"\"}}, \"type\": \"scatterpolar\"}], \"scatterpolargl\": [{\"marker\": {\"colorbar\": {\"outlinewidth\": 0, \"ticks\": \"\"}}, \"type\": \"scatterpolargl\"}], \"scatterternary\": [{\"marker\": {\"colorbar\": {\"outlinewidth\": 0, \"ticks\": \"\"}}, \"type\": \"scatterternary\"}], \"surface\": [{\"colorbar\": {\"outlinewidth\": 0, \"ticks\": \"\"}, \"colorscale\": [[0.0, \"#0d0887\"], [0.1111111111111111, \"#46039f\"], [0.2222222222222222, \"#7201a8\"], [0.3333333333333333, \"#9c179e\"], [0.4444444444444444, \"#bd3786\"], [0.5555555555555556, \"#d8576b\"], [0.6666666666666666, \"#ed7953\"], [0.7777777777777778, \"#fb9f3a\"], [0.8888888888888888, \"#fdca26\"], [1.0, \"#f0f921\"]], \"type\": \"surface\"}], \"table\": [{\"cells\": {\"fill\": {\"color\": \"#EBF0F8\"}, \"line\": {\"color\": \"white\"}}, \"header\": {\"fill\": {\"color\": \"#C8D4E3\"}, \"line\": {\"color\": \"white\"}}, \"type\": \"table\"}]}, \"layout\": {\"annotationdefaults\": {\"arrowcolor\": \"#2a3f5f\", \"arrowhead\": 0, \"arrowwidth\": 1}, \"coloraxis\": {\"colorbar\": {\"outlinewidth\": 0, \"ticks\": \"\"}}, \"colorscale\": {\"diverging\": [[0, \"#8e0152\"], [0.1, \"#c51b7d\"], [0.2, \"#de77ae\"], [0.3, \"#f1b6da\"], [0.4, \"#fde0ef\"], [0.5, \"#f7f7f7\"], [0.6, \"#e6f5d0\"], [0.7, \"#b8e186\"], [0.8, \"#7fbc41\"], [0.9, \"#4d9221\"], [1, \"#276419\"]], \"sequential\": [[0.0, \"#0d0887\"], [0.1111111111111111, \"#46039f\"], [0.2222222222222222, \"#7201a8\"], [0.3333333333333333, \"#9c179e\"], [0.4444444444444444, \"#bd3786\"], [0.5555555555555556, \"#d8576b\"], [0.6666666666666666, \"#ed7953\"], [0.7777777777777778, \"#fb9f3a\"], [0.8888888888888888, \"#fdca26\"], [1.0, \"#f0f921\"]], \"sequentialminus\": [[0.0, \"#0d0887\"], [0.1111111111111111, \"#46039f\"], [0.2222222222222222, \"#7201a8\"], [0.3333333333333333, \"#9c179e\"], [0.4444444444444444, \"#bd3786\"], [0.5555555555555556, \"#d8576b\"], [0.6666666666666666, \"#ed7953\"], [0.7777777777777778, \"#fb9f3a\"], [0.8888888888888888, \"#fdca26\"], [1.0, \"#f0f921\"]]}, \"colorway\": [\"#636efa\", \"#EF553B\", \"#00cc96\", \"#ab63fa\", \"#FFA15A\", \"#19d3f3\", \"#FF6692\", \"#B6E880\", \"#FF97FF\", \"#FECB52\"], \"font\": {\"color\": \"#2a3f5f\"}, \"geo\": {\"bgcolor\": \"white\", \"lakecolor\": \"white\", \"landcolor\": \"#E5ECF6\", \"showlakes\": true, \"showland\": true, \"subunitcolor\": \"white\"}, \"hoverlabel\": {\"align\": \"left\"}, \"hovermode\": \"closest\", \"mapbox\": {\"style\": \"light\"}, \"paper_bgcolor\": \"white\", \"plot_bgcolor\": \"#E5ECF6\", \"polar\": {\"angularaxis\": {\"gridcolor\": \"white\", \"linecolor\": \"white\", \"ticks\": \"\"}, \"bgcolor\": \"#E5ECF6\", \"radialaxis\": {\"gridcolor\": \"white\", \"linecolor\": \"white\", \"ticks\": \"\"}}, \"scene\": {\"xaxis\": {\"backgroundcolor\": \"#E5ECF6\", \"gridcolor\": \"white\", \"gridwidth\": 2, \"linecolor\": \"white\", \"showbackground\": true, \"ticks\": \"\", \"zerolinecolor\": \"white\"}, \"yaxis\": {\"backgroundcolor\": \"#E5ECF6\", \"gridcolor\": \"white\", \"gridwidth\": 2, \"linecolor\": \"white\", \"showbackground\": true, \"ticks\": \"\", \"zerolinecolor\": \"white\"}, \"zaxis\": {\"backgroundcolor\": \"#E5ECF6\", \"gridcolor\": \"white\", \"gridwidth\": 2, \"linecolor\": \"white\", \"showbackground\": true, \"ticks\": \"\", \"zerolinecolor\": \"white\"}}, \"shapedefaults\": {\"line\": {\"color\": \"#2a3f5f\"}}, \"ternary\": {\"aaxis\": {\"gridcolor\": \"white\", \"linecolor\": \"white\", \"ticks\": \"\"}, \"baxis\": {\"gridcolor\": \"white\", \"linecolor\": \"white\", \"ticks\": \"\"}, \"bgcolor\": \"#E5ECF6\", \"caxis\": {\"gridcolor\": \"white\", \"linecolor\": \"white\", \"ticks\": \"\"}}, \"title\": {\"x\": 0.05}, \"xaxis\": {\"automargin\": true, \"gridcolor\": \"white\", \"linecolor\": \"white\", \"ticks\": \"\", \"title\": {\"standoff\": 15}, \"zerolinecolor\": \"white\", \"zerolinewidth\": 2}, \"yaxis\": {\"automargin\": true, \"gridcolor\": \"white\", \"linecolor\": \"white\", \"ticks\": \"\", \"title\": {\"standoff\": 15}, \"zerolinecolor\": \"white\", \"zerolinewidth\": 2}}}, \"title\": {\"text\": \"Est\\u00e1 satisfeito com a ferramenta DreamShaper? - 2013/2014\"}, \"xaxis\": {\"anchor\": \"y\", \"domain\": [0.0, 1.0], \"title\": {\"text\": \"Liked?\"}}, \"yaxis\": {\"anchor\": \"x\", \"domain\": [0.0, 1.0], \"title\": {\"text\": \"percentage\"}}},                        {\"responsive\": true}                    ).then(function(){\n",
       "                            \n",
       "var gd = document.getElementById('6a6c179e-2ead-47ab-8a8f-2a5915419479');\n",
       "var x = new MutationObserver(function (mutations, observer) {{\n",
       "        var display = window.getComputedStyle(gd).display;\n",
       "        if (!display || display === 'none') {{\n",
       "            console.log([gd, 'removed!']);\n",
       "            Plotly.purge(gd);\n",
       "            observer.disconnect();\n",
       "        }}\n",
       "}});\n",
       "\n",
       "// Listen for the removal of the full notebook cells\n",
       "var notebookContainer = gd.closest('#notebook-container');\n",
       "if (notebookContainer) {{\n",
       "    x.observe(notebookContainer, {childList: true});\n",
       "}}\n",
       "\n",
       "// Listen for the clearing of the current output cell\n",
       "var outputEl = gd.closest('.output');\n",
       "if (outputEl) {{\n",
       "    x.observe(outputEl, {childList: true});\n",
       "}}\n",
       "\n",
       "                        })                };                });            </script>        </div>"
      ]
     },
     "metadata": {},
     "output_type": "display_data"
    }
   ],
   "source": [
    "import plotly_express as px\n",
    "\n",
    "fig = px.bar(Ano20132014Liked, x='Liked?', y='percentage')\n",
    "\n",
    "fig.update_layout(title_text='Está satisfeito com a ferramenta DreamShaper? - 2013/2014')\n",
    "\n",
    "fig.show()\n",
    "fig.write_image('Outputs/ImageOutputsYear/Ano20132014Liked.png')\n"
   ]
  },
  {
   "cell_type": "code",
   "execution_count": 56,
   "metadata": {},
   "outputs": [
    {
     "data": {
      "image/png": "[encoded data removed]",
      "text/plain": [
       "<IPython.core.display.Image object>"
      ]
     },
     "execution_count": 56,
     "metadata": {},
     "output_type": "execute_result"
    }
   ],
   "source": [
    "from IPython.display import Image\n",
    "Image(filename='Outputs/ImageOutputsYear/Ano20132014Liked.png')\n"
   ]
  },
  {
   "cell_type": "code",
   "execution_count": null,
   "metadata": {},
   "outputs": [],
   "source": []
  },
  {
   "cell_type": "code",
   "execution_count": null,
   "metadata": {},
   "outputs": [],
   "source": []
  },
  {
   "cell_type": "markdown",
   "metadata": {},
   "source": [
    "### Save Processed Data<a name=\"processeddata\"></a>\n",
    "\n",
    "* [Back to TOC](#backtoc)\n"
   ]
  },
  {
   "cell_type": "code",
   "execution_count": 57,
   "metadata": {},
   "outputs": [],
   "source": [
    "Ano20132014.to_csv(r'Data/DadosPorAnoProcessados/Ano20132014Processed.csv', index = False)\n"
   ]
  },
  {
   "cell_type": "code",
   "execution_count": 58,
   "metadata": {},
   "outputs": [
    {
     "data": {
      "text/html": [
       "<div>\n",
       "<style scoped>\n",
       "    .dataframe tbody tr th:only-of-type {\n",
       "        vertical-align: middle;\n",
       "    }\n",
       "\n",
       "    .dataframe tbody tr th {\n",
       "        vertical-align: top;\n",
       "    }\n",
       "\n",
       "    .dataframe thead th {\n",
       "        text-align: right;\n",
       "    }\n",
       "</style>\n",
       "<table border=\"1\" class=\"dataframe\">\n",
       "  <thead>\n",
       "    <tr style=\"text-align: right;\">\n",
       "      <th></th>\n",
       "      <th>Está satisfeito com a ferramenta DreamShaper?</th>\n",
       "      <th>Sentiu que os vídeos da DreamShaper foram úteis para si?</th>\n",
       "      <th>Os exemplos foram úteis para si?</th>\n",
       "      <th>Acha que a ferramenta tem perguntas a mais ou, pelo contrário, gostaria de ter mais perguntas intermédias que ajudam a ir ‘entrando’ nos novos conceitos?</th>\n",
       "      <th>Quais são os seus 3 aspectos preferidos da ferramenta ? Aspecto Visual</th>\n",
       "      <th>Quais são os seus 3 aspectos preferidos da ferramenta ? Navegação na Ferramenta</th>\n",
       "      <th>Quais são os seus 3 aspectos preferidos da ferramenta ? Perguntas</th>\n",
       "      <th>Quais são os seus 3 aspectos preferidos da ferramenta ? Exemplos</th>\n",
       "      <th>Quais são os seus 3 aspectos preferidos da ferramenta ? Vídeos</th>\n",
       "      <th>Quais são os seus 3 aspectos preferidos da ferramenta ? Modelo de Negócios</th>\n",
       "      <th>...</th>\n",
       "      <th>E quais são os 3 aspectos que menos gosta? Indicações de interface</th>\n",
       "      <th>E quais são os 3 aspectos que menos gosta? Mural de equipa</th>\n",
       "      <th>E quais são os 3 aspectos que menos gosta? Gestão de equipa</th>\n",
       "      <th>E quais são os 3 aspectos que menos gosta? Gestão de projectos</th>\n",
       "      <th>E quais são os 3 aspectos que menos gosta? Acesso a recursos externos</th>\n",
       "      <th>E quais são os 3 aspectos que menos gosta? Outros</th>\n",
       "      <th>Quanto aprendeu com a DreamShaper?</th>\n",
       "      <th>Está satisfeito com a ferramenta DreamShaper?NumOrig</th>\n",
       "      <th>Está satisfeito com a ferramenta DreamShaper?Num</th>\n",
       "      <th>Quanto aprendeu com a DreamShaper?Encod</th>\n",
       "    </tr>\n",
       "  </thead>\n",
       "  <tbody>\n",
       "    <tr>\n",
       "      <th>0</th>\n",
       "      <td>Satisfeito</td>\n",
       "      <td>Não foram úteis</td>\n",
       "      <td>Não, nada úteis</td>\n",
       "      <td>Tem perguntas a mais; gostaria de ir mais dire...</td>\n",
       "      <td>1</td>\n",
       "      <td>1</td>\n",
       "      <td>0</td>\n",
       "      <td>0</td>\n",
       "      <td>0</td>\n",
       "      <td>1</td>\n",
       "      <td>...</td>\n",
       "      <td>0</td>\n",
       "      <td>1</td>\n",
       "      <td>1</td>\n",
       "      <td>0</td>\n",
       "      <td>1</td>\n",
       "      <td>NaN</td>\n",
       "      <td>Pouco</td>\n",
       "      <td>4.0</td>\n",
       "      <td>3.2</td>\n",
       "      <td>2.0</td>\n",
       "    </tr>\n",
       "    <tr>\n",
       "      <th>1</th>\n",
       "      <td>Satisfeito</td>\n",
       "      <td>Não foram úteis</td>\n",
       "      <td>Não, nada úteis</td>\n",
       "      <td>Gosto do actual equilíbrio de perguntas</td>\n",
       "      <td>1</td>\n",
       "      <td>1</td>\n",
       "      <td>0</td>\n",
       "      <td>0</td>\n",
       "      <td>0</td>\n",
       "      <td>0</td>\n",
       "      <td>...</td>\n",
       "      <td>0</td>\n",
       "      <td>0</td>\n",
       "      <td>0</td>\n",
       "      <td>0</td>\n",
       "      <td>1</td>\n",
       "      <td>NaN</td>\n",
       "      <td>Pouco</td>\n",
       "      <td>4.0</td>\n",
       "      <td>3.2</td>\n",
       "      <td>2.0</td>\n",
       "    </tr>\n",
       "    <tr>\n",
       "      <th>2</th>\n",
       "      <td>Satisfeito</td>\n",
       "      <td>Foram muito úteis</td>\n",
       "      <td>Muito úteis</td>\n",
       "      <td>Gosto do actual equilíbrio de perguntas</td>\n",
       "      <td>1</td>\n",
       "      <td>0</td>\n",
       "      <td>0</td>\n",
       "      <td>1</td>\n",
       "      <td>0</td>\n",
       "      <td>0</td>\n",
       "      <td>...</td>\n",
       "      <td>0</td>\n",
       "      <td>0</td>\n",
       "      <td>0</td>\n",
       "      <td>0</td>\n",
       "      <td>1</td>\n",
       "      <td>NaN</td>\n",
       "      <td>Pouco</td>\n",
       "      <td>4.0</td>\n",
       "      <td>3.2</td>\n",
       "      <td>2.0</td>\n",
       "    </tr>\n",
       "    <tr>\n",
       "      <th>3</th>\n",
       "      <td>Satisfeito</td>\n",
       "      <td>Úteis, mas pouco</td>\n",
       "      <td>Não, nada úteis</td>\n",
       "      <td>Gosto do actual equilíbrio de perguntas</td>\n",
       "      <td>1</td>\n",
       "      <td>1</td>\n",
       "      <td>1</td>\n",
       "      <td>0</td>\n",
       "      <td>0</td>\n",
       "      <td>0</td>\n",
       "      <td>...</td>\n",
       "      <td>0</td>\n",
       "      <td>1</td>\n",
       "      <td>1</td>\n",
       "      <td>0</td>\n",
       "      <td>0</td>\n",
       "      <td>NaN</td>\n",
       "      <td>Pouco</td>\n",
       "      <td>4.0</td>\n",
       "      <td>3.2</td>\n",
       "      <td>2.0</td>\n",
       "    </tr>\n",
       "    <tr>\n",
       "      <th>4</th>\n",
       "      <td>Satisfeito</td>\n",
       "      <td>Úteis, mas pouco</td>\n",
       "      <td>Não, nada úteis</td>\n",
       "      <td>Tem perguntas a mais; gostaria de ir mais dire...</td>\n",
       "      <td>1</td>\n",
       "      <td>0</td>\n",
       "      <td>1</td>\n",
       "      <td>1</td>\n",
       "      <td>0</td>\n",
       "      <td>0</td>\n",
       "      <td>...</td>\n",
       "      <td>1</td>\n",
       "      <td>0</td>\n",
       "      <td>0</td>\n",
       "      <td>0</td>\n",
       "      <td>1</td>\n",
       "      <td>NaN</td>\n",
       "      <td>Pouco</td>\n",
       "      <td>4.0</td>\n",
       "      <td>3.2</td>\n",
       "      <td>2.0</td>\n",
       "    </tr>\n",
       "  </tbody>\n",
       "</table>\n",
       "<p>5 rows × 32 columns</p>\n",
       "</div>"
      ],
      "text/plain": [
       "  Está satisfeito com a ferramenta DreamShaper?  \\\n",
       "0                                    Satisfeito   \n",
       "1                                    Satisfeito   \n",
       "2                                    Satisfeito   \n",
       "3                                    Satisfeito   \n",
       "4                                    Satisfeito   \n",
       "\n",
       "  Sentiu que os vídeos da DreamShaper foram úteis para si?  \\\n",
       "0                                    Não foram úteis         \n",
       "1                                    Não foram úteis         \n",
       "2                                  Foram muito úteis         \n",
       "3                                   Úteis, mas pouco         \n",
       "4                                   Úteis, mas pouco         \n",
       "\n",
       "  Os exemplos foram úteis para si?  \\\n",
       "0                  Não, nada úteis   \n",
       "1                  Não, nada úteis   \n",
       "2                      Muito úteis   \n",
       "3                  Não, nada úteis   \n",
       "4                  Não, nada úteis   \n",
       "\n",
       "  Acha que a ferramenta tem perguntas a mais ou, pelo contrário, gostaria de ter mais perguntas intermédias que ajudam a ir ‘entrando’ nos novos conceitos?  \\\n",
       "0  Tem perguntas a mais; gostaria de ir mais dire...                                                                                                          \n",
       "1            Gosto do actual equilíbrio de perguntas                                                                                                          \n",
       "2            Gosto do actual equilíbrio de perguntas                                                                                                          \n",
       "3            Gosto do actual equilíbrio de perguntas                                                                                                          \n",
       "4  Tem perguntas a mais; gostaria de ir mais dire...                                                                                                          \n",
       "\n",
       "   Quais são os seus 3 aspectos preferidos da ferramenta ? Aspecto Visual  \\\n",
       "0                                                  1                        \n",
       "1                                                  1                        \n",
       "2                                                  1                        \n",
       "3                                                  1                        \n",
       "4                                                  1                        \n",
       "\n",
       "   Quais são os seus 3 aspectos preferidos da ferramenta ? Navegação na Ferramenta  \\\n",
       "0                                                  1                                 \n",
       "1                                                  1                                 \n",
       "2                                                  0                                 \n",
       "3                                                  1                                 \n",
       "4                                                  0                                 \n",
       "\n",
       "   Quais são os seus 3 aspectos preferidos da ferramenta ? Perguntas  \\\n",
       "0                                                  0                   \n",
       "1                                                  0                   \n",
       "2                                                  0                   \n",
       "3                                                  1                   \n",
       "4                                                  1                   \n",
       "\n",
       "   Quais são os seus 3 aspectos preferidos da ferramenta ? Exemplos  \\\n",
       "0                                                  0                  \n",
       "1                                                  0                  \n",
       "2                                                  1                  \n",
       "3                                                  0                  \n",
       "4                                                  1                  \n",
       "\n",
       "   Quais são os seus 3 aspectos preferidos da ferramenta ? Vídeos  \\\n",
       "0                                                  0                \n",
       "1                                                  0                \n",
       "2                                                  0                \n",
       "3                                                  0                \n",
       "4                                                  0                \n",
       "\n",
       "   Quais são os seus 3 aspectos preferidos da ferramenta ? Modelo de Negócios  \\\n",
       "0                                                  1                            \n",
       "1                                                  0                            \n",
       "2                                                  0                            \n",
       "3                                                  0                            \n",
       "4                                                  0                            \n",
       "\n",
       "   ...  E quais são os 3 aspectos que menos gosta? Indicações de interface  \\\n",
       "0  ...                                                  0                    \n",
       "1  ...                                                  0                    \n",
       "2  ...                                                  0                    \n",
       "3  ...                                                  0                    \n",
       "4  ...                                                  1                    \n",
       "\n",
       "   E quais são os 3 aspectos que menos gosta? Mural de equipa  \\\n",
       "0                                                  1            \n",
       "1                                                  0            \n",
       "2                                                  0            \n",
       "3                                                  1            \n",
       "4                                                  0            \n",
       "\n",
       "   E quais são os 3 aspectos que menos gosta? Gestão de equipa  \\\n",
       "0                                                  1             \n",
       "1                                                  0             \n",
       "2                                                  0             \n",
       "3                                                  1             \n",
       "4                                                  0             \n",
       "\n",
       "   E quais são os 3 aspectos que menos gosta? Gestão de projectos  \\\n",
       "0                                                  0                \n",
       "1                                                  0                \n",
       "2                                                  0                \n",
       "3                                                  0                \n",
       "4                                                  0                \n",
       "\n",
       "   E quais são os 3 aspectos que menos gosta? Acesso a recursos externos  \\\n",
       "0                                                  1                       \n",
       "1                                                  1                       \n",
       "2                                                  1                       \n",
       "3                                                  0                       \n",
       "4                                                  1                       \n",
       "\n",
       "  E quais são os 3 aspectos que menos gosta? Outros  \\\n",
       "0                                               NaN   \n",
       "1                                               NaN   \n",
       "2                                               NaN   \n",
       "3                                               NaN   \n",
       "4                                               NaN   \n",
       "\n",
       "   Quanto aprendeu com a DreamShaper?  \\\n",
       "0                               Pouco   \n",
       "1                               Pouco   \n",
       "2                               Pouco   \n",
       "3                               Pouco   \n",
       "4                               Pouco   \n",
       "\n",
       "   Está satisfeito com a ferramenta DreamShaper?NumOrig  \\\n",
       "0                                                4.0      \n",
       "1                                                4.0      \n",
       "2                                                4.0      \n",
       "3                                                4.0      \n",
       "4                                                4.0      \n",
       "\n",
       "   Está satisfeito com a ferramenta DreamShaper?Num  \\\n",
       "0                                               3.2   \n",
       "1                                               3.2   \n",
       "2                                               3.2   \n",
       "3                                               3.2   \n",
       "4                                               3.2   \n",
       "\n",
       "   Quanto aprendeu com a DreamShaper?Encod  \n",
       "0                                      2.0  \n",
       "1                                      2.0  \n",
       "2                                      2.0  \n",
       "3                                      2.0  \n",
       "4                                      2.0  \n",
       "\n",
       "[5 rows x 32 columns]"
      ]
     },
     "execution_count": 58,
     "metadata": {},
     "output_type": "execute_result"
    }
   ],
   "source": [
    "Ano20132014.head()"
   ]
  },
  {
   "cell_type": "code",
   "execution_count": 59,
   "metadata": {},
   "outputs": [],
   "source": [
    "LikedOverYears.to_csv(r'Data/DadosAoLongoDosAnos/LikedOverYearsAno20132014.csv', index = False)\n"
   ]
  },
  {
   "cell_type": "code",
   "execution_count": 60,
   "metadata": {},
   "outputs": [
    {
     "data": {
      "text/html": [
       "<div>\n",
       "<style scoped>\n",
       "    .dataframe tbody tr th:only-of-type {\n",
       "        vertical-align: middle;\n",
       "    }\n",
       "\n",
       "    .dataframe tbody tr th {\n",
       "        vertical-align: top;\n",
       "    }\n",
       "\n",
       "    .dataframe thead th {\n",
       "        text-align: right;\n",
       "    }\n",
       "</style>\n",
       "<table border=\"1\" class=\"dataframe\">\n",
       "  <thead>\n",
       "    <tr style=\"text-align: right;\">\n",
       "      <th></th>\n",
       "      <th>Year</th>\n",
       "      <th>AverageLiked</th>\n",
       "    </tr>\n",
       "  </thead>\n",
       "  <tbody>\n",
       "    <tr>\n",
       "      <th>0</th>\n",
       "      <td>2014</td>\n",
       "      <td>3.170562</td>\n",
       "    </tr>\n",
       "  </tbody>\n",
       "</table>\n",
       "</div>"
      ],
      "text/plain": [
       "   Year  AverageLiked\n",
       "0  2014      3.170562"
      ]
     },
     "execution_count": 60,
     "metadata": {},
     "output_type": "execute_result"
    }
   ],
   "source": [
    "LikedOverYears"
   ]
  },
  {
   "cell_type": "code",
   "execution_count": 61,
   "metadata": {},
   "outputs": [],
   "source": [
    "LearnedOverYears.to_csv(r'Data/DadosAoLongoDosAnos/LearnedOverYearsAno20132014.csv', index = False)\n"
   ]
  },
  {
   "cell_type": "code",
   "execution_count": 62,
   "metadata": {},
   "outputs": [
    {
     "data": {
      "text/html": [
       "<div>\n",
       "<style scoped>\n",
       "    .dataframe tbody tr th:only-of-type {\n",
       "        vertical-align: middle;\n",
       "    }\n",
       "\n",
       "    .dataframe tbody tr th {\n",
       "        vertical-align: top;\n",
       "    }\n",
       "\n",
       "    .dataframe thead th {\n",
       "        text-align: right;\n",
       "    }\n",
       "</style>\n",
       "<table border=\"1\" class=\"dataframe\">\n",
       "  <thead>\n",
       "    <tr style=\"text-align: right;\">\n",
       "      <th></th>\n",
       "      <th>Year</th>\n",
       "      <th>AverageLearned</th>\n",
       "    </tr>\n",
       "  </thead>\n",
       "  <tbody>\n",
       "    <tr>\n",
       "      <th>0</th>\n",
       "      <td>2014</td>\n",
       "      <td>3.606843</td>\n",
       "    </tr>\n",
       "  </tbody>\n",
       "</table>\n",
       "</div>"
      ],
      "text/plain": [
       "   Year  AverageLearned\n",
       "0  2014        3.606843"
      ]
     },
     "execution_count": 62,
     "metadata": {},
     "output_type": "execute_result"
    }
   ],
   "source": [
    "LearnedOverYears"
   ]
  },
  {
   "cell_type": "code",
   "execution_count": null,
   "metadata": {},
   "outputs": [],
   "source": []
  }
 ],
 "metadata": {
  "kernelspec": {
   "display_name": "Python 3",
   "language": "python",
   "name": "python3"
  },
  "language_info": {
   "codemirror_mode": {
    "name": "ipython",
    "version": 3
   },
   "file_extension": ".py",
   "mimetype": "text/x-python",
   "name": "python",
   "nbconvert_exporter": "python",
   "pygments_lexer": "ipython3",
   "version": "3.8.5"
  }
 },
 "nbformat": 4,
 "nbformat_minor": 4
}
