{
 "cells": [
  {
   "cell_type": "code",
   "execution_count": null,
   "metadata": {},
   "outputs": [],
   "source": [
    "import pandas as pd\n",
    "import numpy as np"
   ]
  },
  {
   "cell_type": "code",
   "execution_count": null,
   "metadata": {},
   "outputs": [],
   "source": []
  },
  {
   "cell_type": "markdown",
   "metadata": {},
   "source": [
    "# Ano20132014"
   ]
  },
  {
   "cell_type": "code",
   "execution_count": null,
   "metadata": {},
   "outputs": [],
   "source": [
    "Ano20132014 = pd.read_csv('Data/ProcessedDataPerYear/Ano20132014.csv', sep=',')\n",
    "Ano20132014.head(2)\n",
    "\n",
    "\n",
    "Ano20132014['Está satisfeito com a ferramenta DreamShaper?'].unique()"
   ]
  },
  {
   "cell_type": "code",
   "execution_count": null,
   "metadata": {},
   "outputs": [],
   "source": [
    "#positives vs negatives\n",
    "\n",
    "Ano20132014posneg = Ano20132014.copy()\n",
    "del Ano20132014posneg['Está satisfeito com a ferramenta DreamShaper?']\n",
    "del Ano20132014posneg['Quanto aprendeu com a DreamShaper?']\n"
   ]
  },
  {
   "cell_type": "code",
   "execution_count": null,
   "metadata": {},
   "outputs": [],
   "source": [
    "Ano20132014posnegSum=Ano20132014posneg.sum(axis = 0, skipna = True) \n",
    "Ano20132014posnegSum = pd.DataFrame(Ano20132014posnegSum)\n",
    "Ano20132014posnegSum['year'] = 2014\n",
    "Ano20132014posnegSum.reset_index(level=0, inplace=True)\n",
    "Ano20132014posnegSum.columns=[['Question', 'Counts', 'Year']]\n",
    "Ano20132014posnegSum['population'] = 1550\n",
    "\n",
    "Ano20132014posnegSum.to_csv(r'Data/PositivosNegativosStandardized/Ano20132014posnegSum.csv', index = False)\n",
    "Ano20132014posnegSum = pd.read_csv('Data/PositivosNegativosStandardized/Ano20132014posnegSum.csv', sep=',')\n",
    "Ano20132014posnegSum['Percentage'] = Ano20132014posnegSum['Counts']/Ano20132014posnegSum['population']\n",
    "Ano20132014posnegSum.to_csv(r'Data/PositivosNegativosStandardized/Ano20132014posnegSum.csv', index = False)\n"
   ]
  },
  {
   "cell_type": "code",
   "execution_count": null,
   "metadata": {},
   "outputs": [],
   "source": [
    "Ano20132014posnegSum[['P/N','Question']] = Ano20132014posnegSum.Question.str.split(\":\",expand=True) \n"
   ]
  },
  {
   "cell_type": "code",
   "execution_count": null,
   "metadata": {},
   "outputs": [],
   "source": [
    "Ano20132014posnegSum"
   ]
  },
  {
   "cell_type": "code",
   "execution_count": null,
   "metadata": {},
   "outputs": [],
   "source": [
    "import plotly_express as px\n",
    "\n",
    "fig = px.bar(Ano20132014posnegSum, x=\"Question\", y=\"Percentage\", color='P/N', barmode='group',\n",
    "            animation_frame='Year', hover_name='Question', range_y=[0,1])\n",
    "fig.update_layout(title_text='Positive/Negative Features  - 2013/2014')\n",
    "\n",
    "fig.show()\n"
   ]
  },
  {
   "cell_type": "markdown",
   "metadata": {},
   "source": [
    "## Positive Outcome"
   ]
  },
  {
   "cell_type": "code",
   "execution_count": null,
   "metadata": {},
   "outputs": [],
   "source": [
    "Ano20132014PO = Ano20132014.copy()\n",
    "Ano20132014PO = Ano20132014PO[Ano20132014PO['Está satisfeito com a ferramenta DreamShaper?'] == 5] \n",
    "Ano20132014PO\n",
    "Ano20132014PO.shape"
   ]
  },
  {
   "cell_type": "code",
   "execution_count": null,
   "metadata": {},
   "outputs": [],
   "source": [
    "#subset for positive outcome and negative learning\n",
    "\n",
    "del Ano20132014PO['Está satisfeito com a ferramenta DreamShaper?']\n",
    "del Ano20132014PO['Quanto aprendeu com a DreamShaper?']\n",
    "\n",
    "Ano20132014POSum=Ano20132014PO.sum(axis = 0, skipna = True) \n",
    "Ano20132014POSum = pd.DataFrame(Ano20132014POSum)\n",
    "Ano20132014POSum['Year'] = 2014\n",
    "Ano20132014POSum.reset_index(level=0, inplace=True)\n",
    "Ano20132014POSum.columns=[['Question', 'Counts', 'Year']]\n",
    "Ano20132014POSum['population'] = 442\n",
    "\n",
    "Ano20132014POSum.to_csv(r'Data/PositivosNegativosStandardized/Ano20132014POSum.csv', index = False)\n",
    "Ano20132014POSum = pd.read_csv('Data/PositivosNegativosStandardized/Ano20132014POSum.csv', sep=',')\n",
    "Ano20132014POSum['Percentage'] = Ano20132014POSum['Counts']/Ano20132014POSum['population']\n",
    "Ano20132014POSum.to_csv(r'Data/PositivosNegativosStandardized/Ano20132014POSum.csv', index = False)\n",
    "\n"
   ]
  },
  {
   "cell_type": "code",
   "execution_count": null,
   "metadata": {},
   "outputs": [],
   "source": [
    "Ano20132014POSum[['P/N','Question']] = Ano20132014POSum.Question.str.split(\":\",expand=True) \n"
   ]
  },
  {
   "cell_type": "code",
   "execution_count": null,
   "metadata": {},
   "outputs": [],
   "source": [
    "import plotly_express as px\n",
    "\n",
    "fig = px.bar(Ano20132014POSum, x=\"Question\", y=\"Percentage\", color='P/N', barmode='group',\n",
    "            animation_frame='Year', hover_name='Question', range_y=[0,1])\n",
    "fig.update_layout(title_text='Positive/Negative Features - Positive Outcome  - 2013/2014')\n",
    "\n",
    "fig.show()\n"
   ]
  },
  {
   "cell_type": "markdown",
   "metadata": {},
   "source": [
    "## Negative Outcome"
   ]
  },
  {
   "cell_type": "code",
   "execution_count": null,
   "metadata": {},
   "outputs": [],
   "source": [
    "Ano20132014NO = Ano20132014.copy()\n",
    "#subset for positive outcome and negative learning\n",
    "Ano20132014NO = Ano20132014NO[Ano20132014NO['Está satisfeito com a ferramenta DreamShaper?'] == 1] \n",
    "Ano20132014NO.shape"
   ]
  },
  {
   "cell_type": "code",
   "execution_count": null,
   "metadata": {},
   "outputs": [],
   "source": [
    "del Ano20132014NO['Está satisfeito com a ferramenta DreamShaper?']\n",
    "del Ano20132014NO['Quanto aprendeu com a DreamShaper?']\n",
    "\n",
    "Ano20132014NOSum=Ano20132014NO.sum(axis = 0, skipna = True) \n",
    "Ano20132014NOSum = pd.DataFrame(Ano20132014NOSum)\n",
    "Ano20132014NOSum['Year'] = 2014\n",
    "Ano20132014NOSum.reset_index(level=0, inplace=True)\n",
    "Ano20132014NOSum.columns=[['Question', 'Counts', 'Year']]\n",
    "Ano20132014NOSum['population'] = 117\n",
    "\n",
    "Ano20132014NOSum.to_csv(r'Data/PositivosNegativosStandardized/Ano20132014NOSum.csv', index = False)\n",
    "Ano20132014NOSum = pd.read_csv('Data/PositivosNegativosStandardized/Ano20132014NOSum.csv', sep=',')\n",
    "Ano20132014NOSum['Percentage'] = Ano20132014NOSum['Counts']/Ano20132014NOSum['population']\n",
    "Ano20132014NOSum.to_csv(r'Data/PositivosNegativosStandardized/Ano20132014NOSum.csv', index = False)\n",
    "\n"
   ]
  },
  {
   "cell_type": "code",
   "execution_count": null,
   "metadata": {},
   "outputs": [],
   "source": [
    "Ano20132014NOSum[['P/N','Question']] = Ano20132014NOSum.Question.str.split(\":\",expand=True) \n"
   ]
  },
  {
   "cell_type": "code",
   "execution_count": null,
   "metadata": {},
   "outputs": [],
   "source": [
    "import plotly_express as px\n",
    "\n",
    "fig = px.bar(Ano20132014NOSum, x=\"Question\", y=\"Percentage\", color='P/N', barmode='group',\n",
    "            animation_frame='Year', hover_name='Question', range_y=[0,1])\n",
    "fig.update_layout(title_text='Positive/Negative Features - Negative Outcome  - 2013/2014')\n",
    "\n",
    "fig.show()\n"
   ]
  },
  {
   "cell_type": "code",
   "execution_count": null,
   "metadata": {},
   "outputs": [],
   "source": []
  },
  {
   "cell_type": "code",
   "execution_count": null,
   "metadata": {},
   "outputs": [],
   "source": []
  },
  {
   "cell_type": "markdown",
   "metadata": {},
   "source": [
    "# Ano20142015"
   ]
  },
  {
   "cell_type": "code",
   "execution_count": null,
   "metadata": {},
   "outputs": [],
   "source": [
    "Ano20142015 = pd.read_csv('Data/ProcessedDataPerYear/Ano20142015.csv', sep=',')\n"
   ]
  },
  {
   "cell_type": "code",
   "execution_count": null,
   "metadata": {},
   "outputs": [],
   "source": [
    "Ano20142015"
   ]
  },
  {
   "cell_type": "code",
   "execution_count": null,
   "metadata": {},
   "outputs": [],
   "source": [
    "#positives vs negatives\n",
    "\n",
    "Ano20142015posneg = Ano20142015.copy()\n",
    "del Ano20142015posneg['Está satisfeito com a ferramenta DreamShaper?']\n",
    "del Ano20142015posneg['Quanto aprendeu com a DreamShaper?']\n"
   ]
  },
  {
   "cell_type": "code",
   "execution_count": null,
   "metadata": {},
   "outputs": [],
   "source": [
    "Ano20142015posneg"
   ]
  },
  {
   "cell_type": "code",
   "execution_count": null,
   "metadata": {},
   "outputs": [],
   "source": [
    "Ano20142015posnegSum=Ano20142015posneg.sum(axis = 0, skipna = True) \n",
    "Ano20142015posnegSum = pd.DataFrame(Ano20142015posnegSum)\n",
    "Ano20142015posnegSum['Year'] = 2015\n",
    "Ano20142015posnegSum.reset_index(level=0, inplace=True)\n",
    "Ano20142015posnegSum.columns=[['Question', 'Counts', 'Year']]\n",
    "Ano20142015posnegSum['population'] = 88\n",
    "\n",
    "Ano20142015posnegSum.to_csv(r'Data/PositivosNegativosStandardized/Ano20142015posnegSum.csv', index = False)\n",
    "Ano20142015posnegSum = pd.read_csv('Data/PositivosNegativosStandardized/Ano20142015posnegSum.csv', sep=',')\n",
    "Ano20142015posnegSum['Percentage'] = Ano20142015posnegSum['Counts']/Ano20142015posnegSum['population']\n",
    "Ano20142015posnegSum.to_csv(r'Data/PositivosNegativosStandardized/Ano20142015posnegSum.csv', index = False)\n"
   ]
  },
  {
   "cell_type": "code",
   "execution_count": null,
   "metadata": {},
   "outputs": [],
   "source": [
    "Ano20142015posnegSum[['P/N','Question']] = Ano20142015posnegSum.Question.str.split(\":\",expand=True) \n"
   ]
  },
  {
   "cell_type": "code",
   "execution_count": null,
   "metadata": {},
   "outputs": [],
   "source": [
    "import plotly_express as px\n",
    "\n",
    "fig = px.bar(Ano20142015posnegSum, x=\"Question\", y=\"Percentage\", color='P/N', barmode='group',\n",
    "            animation_frame='Year', hover_name='Question', range_y=[0,1])\n",
    "fig.update_layout(title_text='Positive/Negative Features  - 2014/2015')\n",
    "\n",
    "fig.show()"
   ]
  },
  {
   "cell_type": "markdown",
   "metadata": {},
   "source": [
    "## Positive Outcome"
   ]
  },
  {
   "cell_type": "code",
   "execution_count": null,
   "metadata": {},
   "outputs": [],
   "source": [
    "Ano20142015PO = Ano20142015.copy()\n",
    "Ano20142015PO = Ano20142015PO[Ano20142015PO['Está satisfeito com a ferramenta DreamShaper?'] == 5] \n",
    "Ano20142015PO\n",
    "Ano20142015PO.shape"
   ]
  },
  {
   "cell_type": "code",
   "execution_count": null,
   "metadata": {},
   "outputs": [],
   "source": [
    "#subset for positive outcome and negative learning\n",
    "\n",
    "del Ano20142015PO['Está satisfeito com a ferramenta DreamShaper?']\n",
    "del Ano20142015PO['Quanto aprendeu com a DreamShaper?']\n",
    "\n",
    "Ano20142015POSum=Ano20142015PO.sum(axis = 0, skipna = True) \n",
    "Ano20142015POSum = pd.DataFrame(Ano20142015POSum)\n",
    "Ano20142015POSum['Year'] = 2015\n",
    "Ano20142015POSum.reset_index(level=0, inplace=True)\n",
    "Ano20142015POSum.columns=[['Question', 'Counts', 'Year']]\n",
    "Ano20142015POSum['population'] = 39\n",
    "\n",
    "Ano20142015POSum.to_csv(r'Data/PositivosNegativosStandardized/Ano20142015POSum.csv', index = False)\n",
    "Ano20142015POSum = pd.read_csv('Data/PositivosNegativosStandardized/Ano20142015POSum.csv', sep=',')\n",
    "Ano20142015POSum['Percentage'] = Ano20142015POSum['Counts']/Ano20142015POSum['population']\n",
    "Ano20142015POSum.to_csv(r'Data/PositivosNegativosStandardized/Ano20142015POSum.csv', index = False)\n",
    "\n"
   ]
  },
  {
   "cell_type": "code",
   "execution_count": null,
   "metadata": {},
   "outputs": [],
   "source": [
    "Ano20142015POSum[['P/N','Question']] = Ano20142015POSum.Question.str.split(\":\",expand=True) \n"
   ]
  },
  {
   "cell_type": "code",
   "execution_count": null,
   "metadata": {},
   "outputs": [],
   "source": [
    "import plotly_express as px\n",
    "\n",
    "fig = px.bar(Ano20142015POSum, x=\"Question\", y=\"Percentage\", color='P/N', barmode='group',\n",
    "            animation_frame='Year', hover_name='Question', range_y=[0,1])\n",
    "fig.update_layout(title_text='Positive/Negative Features - Positive Outcome  - 2014/2015')\n",
    "\n",
    "fig.show()\n"
   ]
  },
  {
   "cell_type": "markdown",
   "metadata": {},
   "source": [
    "## Negative Outcome"
   ]
  },
  {
   "cell_type": "code",
   "execution_count": null,
   "metadata": {},
   "outputs": [],
   "source": [
    "Ano20142015NO = Ano20142015.copy()\n",
    "#subset for positive outcome and negative learning\n",
    "Ano20142015NO = Ano20142015NO[Ano20142015NO['Está satisfeito com a ferramenta DreamShaper?'] == 1] \n",
    "del Ano20142015NO['Está satisfeito com a ferramenta DreamShaper?']\n",
    "del Ano20142015NO['Quanto aprendeu com a DreamShaper?']\n",
    "Ano20142015NO.shape"
   ]
  },
  {
   "cell_type": "code",
   "execution_count": null,
   "metadata": {},
   "outputs": [],
   "source": [
    "\n",
    "\n",
    "Ano20142015NOSum=Ano20142015NO.sum(axis = 0, skipna = True) \n",
    "Ano20142015NOSum = pd.DataFrame(Ano20142015NOSum)\n",
    "Ano20142015NOSum['Year'] = 2015\n",
    "Ano20142015NOSum.reset_index(level=0, inplace=True)\n",
    "Ano20142015NOSum.columns=[['Question', 'Counts', 'Year']]\n",
    "Ano20142015NOSum['population'] = 22\n",
    "\n",
    "Ano20142015NOSum.to_csv(r'Data/PositivosNegativosStandardized/Ano20142015NOSum.csv', index = False)\n",
    "Ano20142015NOSum = pd.read_csv('Data/PositivosNegativosStandardized/Ano20142015NOSum.csv', sep=',')\n",
    "Ano20142015NOSum['Percentage'] = Ano20142015NOSum['Counts']/Ano20142015NOSum['population']\n",
    "Ano20142015NOSum.to_csv(r'Data/PositivosNegativosStandardized/Ano20142015NOSum.csv', index = False)\n",
    "\n"
   ]
  },
  {
   "cell_type": "code",
   "execution_count": null,
   "metadata": {},
   "outputs": [],
   "source": [
    "Ano20142015NOSum[['P/N','Question']] = Ano20142015NOSum.Question.str.split(\":\",expand=True) \n"
   ]
  },
  {
   "cell_type": "code",
   "execution_count": null,
   "metadata": {},
   "outputs": [],
   "source": [
    "import plotly_express as px\n",
    "\n",
    "fig = px.bar(Ano20142015NOSum, x=\"Question\", y=\"Percentage\", color='P/N', barmode='group',\n",
    "            animation_frame='Year', hover_name='Question', range_y=[0,1])\n",
    "fig.update_layout(title_text='Positive/Negative Features - Negative Outcome  - 2014/2015')\n",
    "\n",
    "fig.show()\n"
   ]
  },
  {
   "cell_type": "markdown",
   "metadata": {},
   "source": []
  },
  {
   "cell_type": "code",
   "execution_count": null,
   "metadata": {},
   "outputs": [],
   "source": []
  },
  {
   "cell_type": "code",
   "execution_count": null,
   "metadata": {},
   "outputs": [],
   "source": []
  },
  {
   "cell_type": "code",
   "execution_count": null,
   "metadata": {},
   "outputs": [],
   "source": []
  },
  {
   "cell_type": "code",
   "execution_count": null,
   "metadata": {},
   "outputs": [],
   "source": []
  },
  {
   "cell_type": "markdown",
   "metadata": {},
   "source": [
    "# Ano20152016"
   ]
  },
  {
   "cell_type": "code",
   "execution_count": null,
   "metadata": {},
   "outputs": [],
   "source": [
    "Ano20152016 = pd.read_csv('Data/ProcessedDataPerYear/Ano20152016.csv', sep=',')\n",
    "Ano20152016"
   ]
  },
  {
   "cell_type": "code",
   "execution_count": null,
   "metadata": {},
   "outputs": [],
   "source": [
    "#positives vs negatives\n",
    "\n",
    "Ano20152016posneg = Ano20152016.copy()\n",
    "del Ano20152016posneg['Está satisfeito com a ferramenta DreamShaper?']\n",
    "del Ano20152016posneg['Quanto aprendeu com a DreamShaper?']\n",
    "Ano20152016posneg"
   ]
  },
  {
   "cell_type": "code",
   "execution_count": null,
   "metadata": {},
   "outputs": [],
   "source": [
    "Ano20152016posnegSum=Ano20152016posneg.sum(axis = 0, skipna = True) \n",
    "Ano20152016posnegSum = pd.DataFrame(Ano20152016posnegSum)\n",
    "Ano20152016posnegSum['Year'] = 2016\n",
    "Ano20152016posnegSum.reset_index(level=0, inplace=True)\n",
    "Ano20152016posnegSum.columns=[['Question', 'Counts', 'Year']]\n",
    "Ano20152016posnegSum['population'] = 249\n",
    "\n",
    "Ano20152016posnegSum.to_csv(r'Data/PositivosNegativosStandardized/Ano20152016posnegSum.csv', index = False)\n",
    "Ano20152016posnegSum = pd.read_csv('Data/PositivosNegativosStandardized/Ano20152016posnegSum.csv', sep=',')\n",
    "Ano20152016posnegSum['Percentage'] = Ano20142015posnegSum['Counts']/Ano20152016posnegSum['population']\n",
    "Ano20152016posnegSum.to_csv(r'Data/PositivosNegativosStandardized/Ano20152016posnegSum.csv', index = False)\n"
   ]
  },
  {
   "cell_type": "code",
   "execution_count": null,
   "metadata": {},
   "outputs": [],
   "source": []
  },
  {
   "cell_type": "code",
   "execution_count": null,
   "metadata": {},
   "outputs": [],
   "source": [
    "Ano20152016posnegSum[['P/N','Question']] = Ano20152016posnegSum.Question.str.split(\":\",expand=True) \n"
   ]
  },
  {
   "cell_type": "code",
   "execution_count": null,
   "metadata": {},
   "outputs": [],
   "source": [
    "import plotly_express as px\n",
    "\n",
    "fig = px.bar(Ano20152016posnegSum, x=\"Question\", y=\"Percentage\", color='P/N', barmode='group',\n",
    "            animation_frame='Year', hover_name='Question', range_y=[0,1])\n",
    "fig.update_layout(title_text='Positive/Negative Features  - 2015/2016')\n",
    "\n",
    "fig.show()"
   ]
  },
  {
   "cell_type": "markdown",
   "metadata": {},
   "source": [
    "## Positive Outcome\n"
   ]
  },
  {
   "cell_type": "code",
   "execution_count": null,
   "metadata": {},
   "outputs": [],
   "source": [
    "Ano20152016PO = Ano20152016.copy()\n",
    "Ano20152016PO = Ano20152016PO[Ano20152016PO['Está satisfeito com a ferramenta DreamShaper?'] == 4] \n",
    "Ano20152016PO\n",
    "Ano20152016PO.shape"
   ]
  },
  {
   "cell_type": "code",
   "execution_count": null,
   "metadata": {},
   "outputs": [],
   "source": [
    "#subset for positive outcome and negative learning\n",
    "\n",
    "del Ano20152016PO['Está satisfeito com a ferramenta DreamShaper?']\n",
    "del Ano20152016PO['Quanto aprendeu com a DreamShaper?']\n",
    "\n",
    "Ano20152016POSum=Ano20152016PO.sum(axis = 0, skipna = True) \n",
    "Ano20152016POSum = pd.DataFrame(Ano20152016POSum)\n",
    "Ano20152016POSum['Year'] = 2016\n",
    "Ano20152016POSum.reset_index(level=0, inplace=True)\n",
    "Ano20152016POSum.columns=[['Question', 'Counts', 'Year']]\n",
    "Ano20152016POSum['population'] = 121\n",
    "\n",
    "Ano20152016POSum.to_csv(r'Data/PositivosNegativosStandardized/Ano20152016POSum.csv', index = False)\n",
    "Ano20152016POSum = pd.read_csv('Data/PositivosNegativosStandardized/Ano20152016POSum.csv', sep=',')\n",
    "Ano20152016POSum['Percentage'] = Ano20152016POSum['Counts']/Ano20152016POSum['population']\n",
    "Ano20152016POSum.to_csv(r'Data/PositivosNegativosStandardized/Ano20152016POSum.csv', index = False)\n",
    "\n",
    "\n",
    "\n",
    "Ano20152016POSum[['P/N','Question']] = Ano20152016POSum.Question.str.split(\":\",expand=True) \n",
    "\n",
    "import plotly_express as px\n",
    "\n",
    "fig = px.bar(Ano20152016POSum, x=\"Question\", y=\"Percentage\", color='P/N', barmode='group',\n",
    "            animation_frame='Year', hover_name='Question', range_y=[0,1])\n",
    "fig.update_layout(title_text='Positive/Negative Features - Positive Outcome  - 2015/2016')\n",
    "\n",
    "fig.show()"
   ]
  },
  {
   "cell_type": "markdown",
   "metadata": {},
   "source": [
    "## Negative Outcome"
   ]
  },
  {
   "cell_type": "code",
   "execution_count": null,
   "metadata": {},
   "outputs": [],
   "source": [
    "Ano20152016NO = Ano20152016.copy()\n",
    "#subset for positive outcome and negative learning\n",
    "Ano20152016NO = Ano20152016NO[Ano20152016NO['Está satisfeito com a ferramenta DreamShaper?'] == 1] \n",
    "del Ano20152016NO['Está satisfeito com a ferramenta DreamShaper?']\n",
    "del Ano20152016NO['Quanto aprendeu com a DreamShaper?']\n",
    "Ano20152016NO.shape"
   ]
  },
  {
   "cell_type": "code",
   "execution_count": null,
   "metadata": {},
   "outputs": [],
   "source": [
    "Ano20152016NOSum=Ano20152016NO.sum(axis = 0, skipna = True) \n",
    "Ano20152016NOSum = pd.DataFrame(Ano20152016NOSum)\n",
    "Ano20152016NOSum['Year'] = 2016\n",
    "Ano20152016NOSum.reset_index(level=0, inplace=True)\n",
    "Ano20152016NOSum.columns=[['Question', 'Counts', 'Year']]\n",
    "Ano20152016NOSum['population'] = 10\n",
    "\n",
    "Ano20152016NOSum.to_csv(r'Data/PositivosNegativosStandardized/Ano20152016NOSum.csv', index = False)\n",
    "Ano20152016NOSum = pd.read_csv('Data/PositivosNegativosStandardized/Ano20152016NOSum.csv', sep=',')\n",
    "Ano20152016NOSum['Percentage'] = Ano20152016NOSum['Counts']/Ano20152016NOSum['population']\n",
    "Ano20152016NOSum.to_csv(r'Data/PositivosNegativosStandardized/Ano20152016NOSum.csv', index = False)\n",
    "\n",
    "Ano20152016NOSum[['P/N','Question']] = Ano20152016NOSum.Question.str.split(\":\",expand=True) \n",
    "\n",
    "\n",
    "import plotly_express as px\n",
    "\n",
    "fig = px.bar(Ano20152016NOSum, x=\"Question\", y=\"Percentage\", color='P/N', barmode='group',\n",
    "            animation_frame='Year', hover_name='Question', range_y=[0,1])\n",
    "fig.update_layout(title_text='Positive/Negative Features - Negative Outcome  - 2015/2016')\n",
    "\n",
    "fig.show()\n"
   ]
  },
  {
   "cell_type": "code",
   "execution_count": null,
   "metadata": {},
   "outputs": [],
   "source": []
  },
  {
   "cell_type": "code",
   "execution_count": null,
   "metadata": {},
   "outputs": [],
   "source": []
  },
  {
   "cell_type": "code",
   "execution_count": null,
   "metadata": {},
   "outputs": [],
   "source": []
  },
  {
   "cell_type": "markdown",
   "metadata": {},
   "source": [
    "# Ano20162017"
   ]
  },
  {
   "cell_type": "code",
   "execution_count": null,
   "metadata": {},
   "outputs": [],
   "source": [
    "Ano20162017 = pd.read_csv('Data/ProcessedDataPerYear/Ano20162017.csv', sep=',')\n"
   ]
  },
  {
   "cell_type": "code",
   "execution_count": null,
   "metadata": {},
   "outputs": [],
   "source": [
    "#positives vs negatives\n",
    "\n",
    "Ano20162017posneg = Ano20162017.copy()\n",
    "del Ano20162017posneg['Está satisfeito com a ferramenta DreamShaper?']\n",
    "del Ano20162017posneg['Quanto aprendeu com a DreamShaper?']\n"
   ]
  },
  {
   "cell_type": "code",
   "execution_count": null,
   "metadata": {},
   "outputs": [],
   "source": [
    "Ano20162017posnegSum=Ano20162017posneg.sum(axis = 0, skipna = True) \n",
    "Ano20162017posnegSum = pd.DataFrame(Ano20162017posnegSum)\n",
    "Ano20162017posnegSum['Year'] = 2017\n",
    "Ano20162017posnegSum.reset_index(level=0, inplace=True)\n",
    "Ano20162017posnegSum.columns=[['Question', 'Counts', 'Year']]\n",
    "Ano20162017posnegSum['population'] = 442\n",
    "\n",
    "Ano20162017posnegSum.to_csv(r'Data/PositivosNegativosStandardized/Ano20162017posnegSum.csv', index = False)\n",
    "Ano20162017posnegSum = pd.read_csv('Data/PositivosNegativosStandardized/Ano20162017posnegSum.csv', sep=',')\n",
    "Ano20162017posnegSum['Percentage'] = Ano20162017posnegSum['Counts']/Ano20162017posnegSum['population']\n",
    "Ano20162017posnegSum.to_csv(r'Data/PositivosNegativosStandardized/Ano20162017posnegSum.csv', index = False)\n"
   ]
  },
  {
   "cell_type": "code",
   "execution_count": null,
   "metadata": {},
   "outputs": [],
   "source": [
    "Ano20162017posnegSum[['P/N','Question']] = Ano20162017posnegSum.Question.str.split(\":\",expand=True) \n"
   ]
  },
  {
   "cell_type": "code",
   "execution_count": null,
   "metadata": {},
   "outputs": [],
   "source": [
    "import plotly_express as px\n",
    "\n",
    "fig = px.bar(Ano20162017posnegSum, x=\"Question\", y=\"Percentage\", color='P/N', barmode='group',\n",
    "            animation_frame='Year', hover_name='Question', range_y=[0,1])\n",
    "fig.update_layout(title_text='Positive/Negative Features  - 2016/2017')\n",
    "\n",
    "fig.show()"
   ]
  },
  {
   "cell_type": "markdown",
   "metadata": {},
   "source": [
    "## Positive Outcome"
   ]
  },
  {
   "cell_type": "code",
   "execution_count": null,
   "metadata": {},
   "outputs": [],
   "source": [
    "Ano20162017PO = Ano20162017.copy()\n",
    "Ano20162017PO = Ano20162017PO[Ano20162017PO['Está satisfeito com a ferramenta DreamShaper?'] == 4] \n",
    "Ano20162017PO\n",
    "Ano20162017PO.shape\n"
   ]
  },
  {
   "cell_type": "code",
   "execution_count": null,
   "metadata": {},
   "outputs": [],
   "source": [
    "\n",
    "del Ano20162017PO['Está satisfeito com a ferramenta DreamShaper?']\n",
    "del Ano20162017PO['Quanto aprendeu com a DreamShaper?']\n",
    "\n",
    "Ano20162017POSum=Ano20162017PO.sum(axis = 0, skipna = True) \n",
    "Ano20162017POSum = pd.DataFrame(Ano20162017POSum)\n",
    "Ano20162017POSum['Year'] = 2017\n",
    "Ano20162017POSum.reset_index(level=0, inplace=True)\n",
    "Ano20162017POSum.columns=[['Question', 'Counts', 'Year']]\n",
    "Ano20162017POSum['population'] = 304\n",
    "\n",
    "Ano20162017POSum.to_csv(r'Data/PositivosNegativosStandardized/Ano20162017POSum.csv', index = False)\n",
    "Ano20162017POSum = pd.read_csv('Data/PositivosNegativosStandardized/Ano20162017POSum.csv', sep=',')\n",
    "Ano20162017POSum['Percentage'] = Ano20162017POSum['Counts']/Ano20162017POSum['population']\n",
    "Ano20162017POSum.to_csv(r'Data/PositivosNegativosStandardized/Ano20162017POSum.csv', index = False)\n",
    "\n",
    "\n",
    "\n",
    "Ano20162017POSum[['P/N','Question']] = Ano20162017POSum.Question.str.split(\":\",expand=True) \n",
    "\n",
    "import plotly_express as px\n",
    "\n",
    "fig = px.bar(Ano20162017POSum, x=\"Question\", y=\"Percentage\", color='P/N', barmode='group',\n",
    "            animation_frame='Year', hover_name='Question', range_y=[0,1])\n",
    "fig.update_layout(title_text='Positive/Negative Features - Positive Outcome  - 2016/2017')\n",
    "\n",
    "fig.show()\n",
    "\n",
    "\n",
    "\n"
   ]
  },
  {
   "cell_type": "markdown",
   "metadata": {},
   "source": [
    "## Negative Outcome"
   ]
  },
  {
   "cell_type": "code",
   "execution_count": null,
   "metadata": {},
   "outputs": [],
   "source": [
    "Ano20162017NO = Ano20162017.copy()\n",
    "#subset for positive outcome and negative learning\n",
    "Ano20162017NO = Ano20162017NO[Ano20162017NO['Está satisfeito com a ferramenta DreamShaper?'] == 1] \n",
    "del Ano20162017NO['Está satisfeito com a ferramenta DreamShaper?']\n",
    "del Ano20162017NO['Quanto aprendeu com a DreamShaper?']\n",
    "Ano20162017NO.shape\n"
   ]
  },
  {
   "cell_type": "code",
   "execution_count": null,
   "metadata": {},
   "outputs": [],
   "source": [
    "Ano20162017NOSum=Ano20162017NO.sum(axis = 0, skipna = True) \n",
    "Ano20162017NOSum = pd.DataFrame(Ano20162017NOSum)\n",
    "Ano20162017NOSum['Year'] = 2017\n",
    "Ano20162017NOSum.reset_index(level=0, inplace=True)\n",
    "Ano20162017NOSum.columns=[['Question', 'Counts', 'Year']]\n",
    "Ano20162017NOSum['population'] = 3\n",
    "\n",
    "Ano20162017NOSum.to_csv(r'Data/PositivosNegativosStandardized/Ano20162017NOSum.csv', index = False)\n",
    "Ano20162017NOSum = pd.read_csv('Data/PositivosNegativosStandardized/Ano20162017NOSum.csv', sep=',')\n",
    "Ano20162017NOSum['Percentage'] = Ano20162017NOSum['Counts']/Ano20162017NOSum['population']\n",
    "Ano20162017NOSum.to_csv(r'Data/PositivosNegativosStandardized/Ano20162017NOSum.csv', index = False)\n",
    "\n",
    "Ano20162017NOSum[['P/N','Question']] = Ano20162017NOSum.Question.str.split(\":\",expand=True) \n",
    "\n",
    "\n",
    "import plotly_express as px\n",
    "\n",
    "fig = px.bar(Ano20162017NOSum, x=\"Question\", y=\"Percentage\", color='P/N', barmode='group',\n",
    "            animation_frame='Year', hover_name='Question', range_y=[0,1])\n",
    "fig.update_layout(title_text='Positive/Negative Features - Negative Outcome  - 2016/2017')\n",
    "\n",
    "fig.show()\n"
   ]
  },
  {
   "cell_type": "code",
   "execution_count": null,
   "metadata": {},
   "outputs": [],
   "source": []
  },
  {
   "cell_type": "code",
   "execution_count": null,
   "metadata": {},
   "outputs": [],
   "source": []
  },
  {
   "cell_type": "code",
   "execution_count": null,
   "metadata": {},
   "outputs": [],
   "source": []
  },
  {
   "cell_type": "markdown",
   "metadata": {},
   "source": [
    "# Ano20172018"
   ]
  },
  {
   "cell_type": "code",
   "execution_count": null,
   "metadata": {},
   "outputs": [],
   "source": [
    "Ano20172018 = pd.read_csv('Data/ProcessedDataPerYear/Ano20172018.csv', sep=',')\n"
   ]
  },
  {
   "cell_type": "code",
   "execution_count": null,
   "metadata": {},
   "outputs": [],
   "source": [
    "#positives vs negatives\n",
    "\n",
    "Ano20172018posneg = Ano20172018.copy()\n",
    "del Ano20172018posneg['Está satisfeito com a ferramenta DreamShaper?']\n",
    "del Ano20172018posneg['Quanto aprendeu com a DreamShaper?']\n"
   ]
  },
  {
   "cell_type": "code",
   "execution_count": null,
   "metadata": {},
   "outputs": [],
   "source": [
    "Ano20172018posnegSum=Ano20172018posneg.sum(axis = 0, skipna = True) \n",
    "Ano20172018posnegSum = pd.DataFrame(Ano20172018posnegSum)\n",
    "Ano20172018posnegSum['Year'] = 2018\n",
    "Ano20172018posnegSum.reset_index(level=0, inplace=True)\n",
    "Ano20172018posnegSum.columns=[['Question', 'Counts', 'Year']]\n",
    "Ano20172018posnegSum['population'] = 870\n",
    "\n",
    "Ano20172018posnegSum.to_csv(r'Data/PositivosNegativosStandardized/Ano20172018posnegSum.csv', index = False)\n",
    "Ano20172018posnegSum = pd.read_csv('Data/PositivosNegativosStandardized/Ano20172018posnegSum.csv', sep=',')\n",
    "Ano20172018posnegSum['Percentage'] = Ano20172018posnegSum['Counts']/Ano20172018posnegSum['population']\n",
    "Ano20172018posnegSum.to_csv(r'Data/PositivosNegativosStandardized/Ano20172018posnegSum.csv', index = False)\n"
   ]
  },
  {
   "cell_type": "code",
   "execution_count": null,
   "metadata": {},
   "outputs": [],
   "source": [
    "Ano20172018posnegSum[['P/N','Question']] = Ano20172018posnegSum.Question.str.split(\":\",expand=True) \n"
   ]
  },
  {
   "cell_type": "code",
   "execution_count": null,
   "metadata": {},
   "outputs": [],
   "source": [
    "import plotly_express as px\n",
    "\n",
    "fig = px.bar(Ano20172018posnegSum, x=\"Question\", y=\"Percentage\", color='P/N', barmode='group',\n",
    "            animation_frame='Year', hover_name='Question', range_y=[0,1])\n",
    "fig.update_layout(title_text='Positive/Negative Features  - 2017/2018')\n",
    "\n",
    "fig.show()"
   ]
  },
  {
   "cell_type": "markdown",
   "metadata": {},
   "source": [
    "## Positive Outcome "
   ]
  },
  {
   "cell_type": "code",
   "execution_count": null,
   "metadata": {},
   "outputs": [],
   "source": [
    "Ano20172018PO = Ano20172018.copy()\n",
    "Ano20172018PO = Ano20172018PO[Ano20172018PO['Está satisfeito com a ferramenta DreamShaper?'] == 4] \n",
    "Ano20172018PO\n",
    "Ano20172018PO.shape\n",
    "\n"
   ]
  },
  {
   "cell_type": "code",
   "execution_count": null,
   "metadata": {},
   "outputs": [],
   "source": [
    "\n",
    "del Ano20172018PO['Está satisfeito com a ferramenta DreamShaper?']\n",
    "del Ano20172018PO['Quanto aprendeu com a DreamShaper?']\n",
    "\n",
    "Ano20172018POSum=Ano20172018PO.sum(axis = 0, skipna = True) \n",
    "Ano20172018POSum = pd.DataFrame(Ano20172018POSum)\n",
    "Ano20172018POSum['Year'] = 2018\n",
    "Ano20172018POSum.reset_index(level=0, inplace=True)\n",
    "Ano20172018POSum.columns=[['Question', 'Counts', 'Year']]\n",
    "Ano20172018POSum['population'] = 560\n",
    "\n",
    "Ano20172018POSum.to_csv(r'Data/PositivosNegativosStandardized/Ano20172018POSum.csv', index = False)\n",
    "Ano20172018POSum = pd.read_csv('Data/PositivosNegativosStandardized/Ano20172018POSum.csv', sep=',')\n",
    "Ano20172018POSum['Percentage'] = Ano20172018POSum['Counts']/Ano20172018POSum['population']\n",
    "Ano20172018POSum.to_csv(r'Data/PositivosNegativosStandardized/Ano20172018POSum.csv', index = False)\n",
    "\n",
    "\n",
    "\n",
    "Ano20172018POSum[['P/N','Question']] = Ano20172018POSum.Question.str.split(\":\",expand=True) \n",
    "\n",
    "import plotly_express as px\n",
    "\n",
    "fig = px.bar(Ano20172018POSum, x=\"Question\", y=\"Percentage\", color='P/N', barmode='group',\n",
    "            animation_frame='Year', hover_name='Question', range_y=[0,1])\n",
    "fig.update_layout(title_text='Positive/Negative Features - Positive Outcome  - 2017/2018')\n",
    "\n",
    "fig.show()\n",
    "\n",
    "\n",
    "\n"
   ]
  },
  {
   "cell_type": "code",
   "execution_count": null,
   "metadata": {},
   "outputs": [],
   "source": []
  },
  {
   "cell_type": "markdown",
   "metadata": {},
   "source": [
    "## Negative Outcome "
   ]
  },
  {
   "cell_type": "code",
   "execution_count": null,
   "metadata": {},
   "outputs": [],
   "source": [
    "Ano20172018NO = Ano20172018.copy()\n",
    "#subset for positive outcome and negative learning\n",
    "Ano20172018NO = Ano20172018NO[Ano20172018NO['Está satisfeito com a ferramenta DreamShaper?'] == 1] \n",
    "del Ano20172018NO['Está satisfeito com a ferramenta DreamShaper?']\n",
    "del Ano20172018NO['Quanto aprendeu com a DreamShaper?']\n",
    "Ano20172018NO.shape\n"
   ]
  },
  {
   "cell_type": "code",
   "execution_count": null,
   "metadata": {},
   "outputs": [],
   "source": [
    "Ano20172018NOSum=Ano20172018NO.sum(axis = 0, skipna = True) \n",
    "Ano20172018NOSum = pd.DataFrame(Ano20172018NOSum)\n",
    "Ano20172018NOSum['year'] = 2014\n",
    "Ano20172018NOSum.reset_index(level=0, inplace=True)\n",
    "Ano20172018NOSum.columns=[['Question', 'Counts', 'Year']]\n",
    "Ano20172018NOSum['population'] = 4\n",
    "\n",
    "Ano20172018NOSum.to_csv(r'Data/PositivosNegativosStandardized/Ano20172018NOSum.csv', index = False)\n",
    "Ano20172018NOSum = pd.read_csv('Data/PositivosNegativosStandardized/Ano20172018NOSum.csv', sep=',')\n",
    "Ano20172018NOSum['Percentage'] = Ano20172018NOSum['Counts']/Ano20172018NOSum['population']\n",
    "Ano20172018NOSum.to_csv(r'Data/PositivosNegativosStandardized/Ano20172018NOSum.csv', index = False)\n",
    "\n",
    "Ano20172018NOSum[['P/N','Question']] = Ano20172018NOSum.Question.str.split(\":\",expand=True) \n",
    "\n",
    "\n",
    "import plotly_express as px\n",
    "\n",
    "fig = px.bar(Ano20172018NOSum, x=\"Question\", y=\"Percentage\", color='P/N', barmode='group',\n",
    "            animation_frame='Year', hover_name='Question', range_y=[0,1])\n",
    "fig.update_layout(title_text='Positive/Negative Features - Negative Outcome  - 2017/2018')\n",
    "\n",
    "fig.show()\n"
   ]
  },
  {
   "cell_type": "code",
   "execution_count": null,
   "metadata": {},
   "outputs": [],
   "source": []
  },
  {
   "cell_type": "code",
   "execution_count": null,
   "metadata": {},
   "outputs": [],
   "source": [
    "\n",
    "featuresperyear = pd.concat([Ano20132014posnegSum, Ano20142015posnegSum, Ano20152016posnegSum, Ano20162017posnegSum, Ano20172018posnegSum], ignore_index=True)"
   ]
  },
  {
   "cell_type": "code",
   "execution_count": null,
   "metadata": {},
   "outputs": [],
   "source": [
    "featuresperyear"
   ]
  },
  {
   "cell_type": "code",
   "execution_count": null,
   "metadata": {},
   "outputs": [],
   "source": [
    "featuresperyear.to_csv(r'Data/DataforApp/featuresperyear.csv', index = False)\n"
   ]
  },
  {
   "cell_type": "code",
   "execution_count": null,
   "metadata": {},
   "outputs": [],
   "source": []
  }
 ],
 "metadata": {
  "kernelspec": {
   "display_name": "Python 3",
   "language": "python",
   "name": "python3"
  },
  "language_info": {
   "codemirror_mode": {
    "name": "ipython",
    "version": 3
   },
   "file_extension": ".py",
   "mimetype": "text/x-python",
   "name": "python",
   "nbconvert_exporter": "python",
   "pygments_lexer": "ipython3",
   "version": "3.7.6"
  }
 },
 "nbformat": 4,
 "nbformat_minor": 4
}
