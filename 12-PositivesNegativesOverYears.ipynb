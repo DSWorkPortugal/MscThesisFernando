{
 "cells": [
  {
   "cell_type": "markdown",
   "metadata": {},
   "source": [
    "# Liked Over Years"
   ]
  },
  {
   "cell_type": "code",
   "execution_count": null,
   "metadata": {},
   "outputs": [],
   "source": []
  },
  {
   "cell_type": "markdown",
   "metadata": {},
   "source": [
    "# Table of Contents\n",
    "1. [Import Packages](#imports)\n",
    "2. [Import the Data](#importdata)\n",
    "3. [Preprocess Data](#preprocess)\n"
   ]
  },
  {
   "cell_type": "markdown",
   "metadata": {},
   "source": [
    "### Import Packages   <a name=\"imports\"></a>\n",
    "* [Back to TOC](#backtoc)\n"
   ]
  },
  {
   "cell_type": "code",
   "execution_count": 23,
   "metadata": {},
   "outputs": [],
   "source": [
    "# Import  libraries\n",
    "\n",
    "import pandas as pd\n",
    "import numpy as np \n",
    "\n",
    "\n",
    "import warnings\n",
    "warnings.filterwarnings(\"ignore\")\n"
   ]
  },
  {
   "cell_type": "markdown",
   "metadata": {},
   "source": [
    "### Import the data  <a name=\"importdata\"></a>\n",
    "* [Back to TOC](#backtoc)\n"
   ]
  },
  {
   "cell_type": "code",
   "execution_count": 24,
   "metadata": {},
   "outputs": [],
   "source": [
    "# Learned\n",
    "Ano20132014 = pd.read_csv('Data/PositivosNegativosStandardized/Ano20132014posnegSum.csv')\n",
    "\n",
    "Ano20142015 = pd.read_csv('Data/PositivosNegativosStandardized/Ano20142015posnegSum.csv')\n",
    "\n",
    "Ano20152016 = pd.read_csv('Data/PositivosNegativosStandardized/Ano20152016posnegSum.csv')\n",
    "\n",
    "Ano20162017 = pd.read_csv('Data/PositivosNegativosStandardized/Ano20162017posnegSum.csv')\n",
    "\n",
    "Ano20172018 = pd.read_csv('Data/PositivosNegativosStandardized/Ano20172018posnegSum.csv')\n",
    "\n",
    "Ano20182019 = pd.read_csv('Data/PositivosNegativosStandardized/Ano20182019posnegSum.csv')\n",
    "\n",
    "Ano20192020 = pd.read_csv('Data/PositivosNegativosStandardized/Ano20192020posnegSum.csv')\n"
   ]
  },
  {
   "cell_type": "code",
   "execution_count": 25,
   "metadata": {},
   "outputs": [],
   "source": [
    "PosNegOverYears= pd.concat([ Ano20132014, Ano20142015, Ano20152016,Ano20162017, Ano20172018, Ano20182019, Ano20192020  ], ignore_index=True)"
   ]
  },
  {
   "cell_type": "code",
   "execution_count": null,
   "metadata": {},
   "outputs": [],
   "source": []
  },
  {
   "cell_type": "code",
   "execution_count": 26,
   "metadata": {},
   "outputs": [
    {
     "data": {
      "text/html": [
       "<div>\n",
       "<style scoped>\n",
       "    .dataframe tbody tr th:only-of-type {\n",
       "        vertical-align: middle;\n",
       "    }\n",
       "\n",
       "    .dataframe tbody tr th {\n",
       "        vertical-align: top;\n",
       "    }\n",
       "\n",
       "    .dataframe thead th {\n",
       "        text-align: right;\n",
       "    }\n",
       "</style>\n",
       "<table border=\"1\" class=\"dataframe\">\n",
       "  <thead>\n",
       "    <tr style=\"text-align: right;\">\n",
       "      <th></th>\n",
       "      <th>Question</th>\n",
       "      <th>Counts</th>\n",
       "      <th>Year</th>\n",
       "      <th>population</th>\n",
       "      <th>Percentage</th>\n",
       "      <th>P/N</th>\n",
       "    </tr>\n",
       "  </thead>\n",
       "  <tbody>\n",
       "    <tr>\n",
       "      <th>0</th>\n",
       "      <td>Aspecto Visual</td>\n",
       "      <td>226</td>\n",
       "      <td>2017</td>\n",
       "      <td>442</td>\n",
       "      <td>0.511312</td>\n",
       "      <td>Positivos</td>\n",
       "    </tr>\n",
       "    <tr>\n",
       "      <th>1</th>\n",
       "      <td>Navegação na Ferramenta</td>\n",
       "      <td>270</td>\n",
       "      <td>2017</td>\n",
       "      <td>442</td>\n",
       "      <td>0.610860</td>\n",
       "      <td>Positivos</td>\n",
       "    </tr>\n",
       "    <tr>\n",
       "      <th>2</th>\n",
       "      <td>Perguntas</td>\n",
       "      <td>112</td>\n",
       "      <td>2017</td>\n",
       "      <td>442</td>\n",
       "      <td>0.253394</td>\n",
       "      <td>Positivos</td>\n",
       "    </tr>\n",
       "    <tr>\n",
       "      <th>3</th>\n",
       "      <td>Exemplos</td>\n",
       "      <td>192</td>\n",
       "      <td>2017</td>\n",
       "      <td>442</td>\n",
       "      <td>0.434389</td>\n",
       "      <td>Positivos</td>\n",
       "    </tr>\n",
       "    <tr>\n",
       "      <th>4</th>\n",
       "      <td>Vídeos</td>\n",
       "      <td>273</td>\n",
       "      <td>2017</td>\n",
       "      <td>442</td>\n",
       "      <td>0.617647</td>\n",
       "      <td>Positivos</td>\n",
       "    </tr>\n",
       "    <tr>\n",
       "      <th>5</th>\n",
       "      <td>Modelo de Negócios</td>\n",
       "      <td>245</td>\n",
       "      <td>2017</td>\n",
       "      <td>442</td>\n",
       "      <td>0.554299</td>\n",
       "      <td>Positivos</td>\n",
       "    </tr>\n",
       "    <tr>\n",
       "      <th>6</th>\n",
       "      <td>Indicações de Interface</td>\n",
       "      <td>107</td>\n",
       "      <td>2017</td>\n",
       "      <td>442</td>\n",
       "      <td>0.242081</td>\n",
       "      <td>Positivos</td>\n",
       "    </tr>\n",
       "    <tr>\n",
       "      <th>7</th>\n",
       "      <td>Mural de Equipa</td>\n",
       "      <td>23</td>\n",
       "      <td>2017</td>\n",
       "      <td>442</td>\n",
       "      <td>0.052036</td>\n",
       "      <td>Positivos</td>\n",
       "    </tr>\n",
       "    <tr>\n",
       "      <th>8</th>\n",
       "      <td>Gestão de Equipa</td>\n",
       "      <td>46</td>\n",
       "      <td>2017</td>\n",
       "      <td>442</td>\n",
       "      <td>0.104072</td>\n",
       "      <td>Positivos</td>\n",
       "    </tr>\n",
       "    <tr>\n",
       "      <th>9</th>\n",
       "      <td>Gestão de Projectos</td>\n",
       "      <td>176</td>\n",
       "      <td>2017</td>\n",
       "      <td>442</td>\n",
       "      <td>0.398190</td>\n",
       "      <td>Positivos</td>\n",
       "    </tr>\n",
       "    <tr>\n",
       "      <th>10</th>\n",
       "      <td>Aspecto Visual</td>\n",
       "      <td>59</td>\n",
       "      <td>2017</td>\n",
       "      <td>442</td>\n",
       "      <td>0.133484</td>\n",
       "      <td>Negativos</td>\n",
       "    </tr>\n",
       "    <tr>\n",
       "      <th>11</th>\n",
       "      <td>Navegação na Ferramenta</td>\n",
       "      <td>100</td>\n",
       "      <td>2017</td>\n",
       "      <td>442</td>\n",
       "      <td>0.226244</td>\n",
       "      <td>Negativos</td>\n",
       "    </tr>\n",
       "    <tr>\n",
       "      <th>12</th>\n",
       "      <td>Perguntas</td>\n",
       "      <td>106</td>\n",
       "      <td>2017</td>\n",
       "      <td>442</td>\n",
       "      <td>0.239819</td>\n",
       "      <td>Negativos</td>\n",
       "    </tr>\n",
       "    <tr>\n",
       "      <th>13</th>\n",
       "      <td>Exemplos</td>\n",
       "      <td>107</td>\n",
       "      <td>2017</td>\n",
       "      <td>442</td>\n",
       "      <td>0.242081</td>\n",
       "      <td>Negativos</td>\n",
       "    </tr>\n",
       "    <tr>\n",
       "      <th>14</th>\n",
       "      <td>Vídeos</td>\n",
       "      <td>63</td>\n",
       "      <td>2017</td>\n",
       "      <td>442</td>\n",
       "      <td>0.142534</td>\n",
       "      <td>Negativos</td>\n",
       "    </tr>\n",
       "    <tr>\n",
       "      <th>15</th>\n",
       "      <td>Modelo de Negócios</td>\n",
       "      <td>33</td>\n",
       "      <td>2017</td>\n",
       "      <td>442</td>\n",
       "      <td>0.074661</td>\n",
       "      <td>Negativos</td>\n",
       "    </tr>\n",
       "    <tr>\n",
       "      <th>16</th>\n",
       "      <td>Indicações de Interface</td>\n",
       "      <td>131</td>\n",
       "      <td>2017</td>\n",
       "      <td>442</td>\n",
       "      <td>0.296380</td>\n",
       "      <td>Negativos</td>\n",
       "    </tr>\n",
       "    <tr>\n",
       "      <th>17</th>\n",
       "      <td>Mural de Equipa</td>\n",
       "      <td>107</td>\n",
       "      <td>2017</td>\n",
       "      <td>442</td>\n",
       "      <td>0.242081</td>\n",
       "      <td>Negativos</td>\n",
       "    </tr>\n",
       "    <tr>\n",
       "      <th>18</th>\n",
       "      <td>Gestão de Equipa</td>\n",
       "      <td>80</td>\n",
       "      <td>2017</td>\n",
       "      <td>442</td>\n",
       "      <td>0.180995</td>\n",
       "      <td>Negativos</td>\n",
       "    </tr>\n",
       "    <tr>\n",
       "      <th>19</th>\n",
       "      <td>Gestão de Projectos</td>\n",
       "      <td>52</td>\n",
       "      <td>2017</td>\n",
       "      <td>442</td>\n",
       "      <td>0.117647</td>\n",
       "      <td>Negativos</td>\n",
       "    </tr>\n",
       "  </tbody>\n",
       "</table>\n",
       "</div>"
      ],
      "text/plain": [
       "                   Question  Counts  Year  population  Percentage        P/N\n",
       "0            Aspecto Visual     226  2017         442    0.511312  Positivos\n",
       "1   Navegação na Ferramenta     270  2017         442    0.610860  Positivos\n",
       "2                 Perguntas     112  2017         442    0.253394  Positivos\n",
       "3                  Exemplos     192  2017         442    0.434389  Positivos\n",
       "4                    Vídeos     273  2017         442    0.617647  Positivos\n",
       "5        Modelo de Negócios     245  2017         442    0.554299  Positivos\n",
       "6   Indicações de Interface     107  2017         442    0.242081  Positivos\n",
       "7           Mural de Equipa      23  2017         442    0.052036  Positivos\n",
       "8          Gestão de Equipa      46  2017         442    0.104072  Positivos\n",
       "9       Gestão de Projectos     176  2017         442    0.398190  Positivos\n",
       "10           Aspecto Visual      59  2017         442    0.133484  Negativos\n",
       "11  Navegação na Ferramenta     100  2017         442    0.226244  Negativos\n",
       "12                Perguntas     106  2017         442    0.239819  Negativos\n",
       "13                 Exemplos     107  2017         442    0.242081  Negativos\n",
       "14                   Vídeos      63  2017         442    0.142534  Negativos\n",
       "15       Modelo de Negócios      33  2017         442    0.074661  Negativos\n",
       "16  Indicações de Interface     131  2017         442    0.296380  Negativos\n",
       "17          Mural de Equipa     107  2017         442    0.242081  Negativos\n",
       "18         Gestão de Equipa      80  2017         442    0.180995  Negativos\n",
       "19      Gestão de Projectos      52  2017         442    0.117647  Negativos"
      ]
     },
     "execution_count": 26,
     "metadata": {},
     "output_type": "execute_result"
    }
   ],
   "source": [
    "Ano20162017"
   ]
  },
  {
   "cell_type": "code",
   "execution_count": 27,
   "metadata": {},
   "outputs": [
    {
     "data": {
      "text/plain": [
       "array(['Aspecto Visual', 'Navegação na Ferramenta', 'Perguntas',\n",
       "       'Exemplos', 'Vídeos', 'Modelo de Negócios',\n",
       "       'Indicações de Interface', 'Mural de Equipa', 'Gestão de Equipa',\n",
       "       'Gestão de Projectos', ' Acesso a recursos externos',\n",
       "       'Resumo do negócio', 'Modelo de negócios',\n",
       "       'Indicações de interface', 'Navegação na ferramenta',\n",
       "       'Aspecto visual', 'Acesso a recursos externos'], dtype=object)"
      ]
     },
     "execution_count": 27,
     "metadata": {},
     "output_type": "execute_result"
    }
   ],
   "source": [
    "PosNegOverYears['Question'].unique()"
   ]
  },
  {
   "cell_type": "code",
   "execution_count": null,
   "metadata": {},
   "outputs": [],
   "source": []
  },
  {
   "cell_type": "code",
   "execution_count": 28,
   "metadata": {},
   "outputs": [],
   "source": [
    "PosNegOverYears['Question'] = PosNegOverYears['Question'].str.replace('Navegação na ferramenta','Navegação na Ferramenta')\n",
    "\n",
    "\n",
    "PosNegOverYears['Question'] = PosNegOverYears['Question'].str.replace(' Acesso a recursos externos','Acesso a recursos externos')\n",
    "\n",
    "\n",
    "PosNegOverYears['Question'] = PosNegOverYears['Question'].str.replace('Modelo de negócios','Modelo de Negócios')\n",
    "\n",
    "PosNegOverYears['Question'] = PosNegOverYears['Question'].str.replace('Aspecto visual','Aspecto Visual')\n",
    "\n",
    "\n",
    "PosNegOverYears['Question'] = PosNegOverYears['Question'].str.replace('Indicações de interface','Indicações de Interface')\n",
    "\n"
   ]
  },
  {
   "cell_type": "code",
   "execution_count": null,
   "metadata": {},
   "outputs": [],
   "source": []
  },
  {
   "cell_type": "code",
   "execution_count": 29,
   "metadata": {},
   "outputs": [
    {
     "data": {
      "text/plain": [
       "array(['Aspecto Visual', 'Navegação na Ferramenta', 'Perguntas',\n",
       "       'Exemplos', 'Vídeos', 'Modelo de Negócios',\n",
       "       'Indicações de Interface', 'Mural de Equipa', 'Gestão de Equipa',\n",
       "       'Gestão de Projectos', 'Acesso a recursos externos',\n",
       "       'Resumo do negócio'], dtype=object)"
      ]
     },
     "execution_count": 29,
     "metadata": {},
     "output_type": "execute_result"
    }
   ],
   "source": [
    "PosNegOverYears['Question'].unique()"
   ]
  },
  {
   "cell_type": "code",
   "execution_count": 30,
   "metadata": {},
   "outputs": [],
   "source": [
    "PosNegOverYears[\"Questao\"] =  PosNegOverYears[\"P/N\"]  + ' : ' +  PosNegOverYears[\"Question\"]\n"
   ]
  },
  {
   "cell_type": "code",
   "execution_count": 31,
   "metadata": {},
   "outputs": [],
   "source": [
    "PosNegOverYears['Year']=PosNegOverYears['Year'].astype(str)"
   ]
  },
  {
   "cell_type": "code",
   "execution_count": null,
   "metadata": {},
   "outputs": [],
   "source": []
  },
  {
   "cell_type": "markdown",
   "metadata": {},
   "source": [
    "### PreProcess Data  <a name=\"preprocess\"></a>\n",
    "* [Back to TOC](#backtoc)\n"
   ]
  },
  {
   "cell_type": "code",
   "execution_count": null,
   "metadata": {},
   "outputs": [],
   "source": []
  },
  {
   "cell_type": "code",
   "execution_count": 32,
   "metadata": {},
   "outputs": [
    {
     "data": {
      "text/html": [
       "<div>\n",
       "<style scoped>\n",
       "    .dataframe tbody tr th:only-of-type {\n",
       "        vertical-align: middle;\n",
       "    }\n",
       "\n",
       "    .dataframe tbody tr th {\n",
       "        vertical-align: top;\n",
       "    }\n",
       "\n",
       "    .dataframe thead th {\n",
       "        text-align: right;\n",
       "    }\n",
       "</style>\n",
       "<table border=\"1\" class=\"dataframe\">\n",
       "  <thead>\n",
       "    <tr style=\"text-align: right;\">\n",
       "      <th></th>\n",
       "      <th>Question</th>\n",
       "      <th>Counts</th>\n",
       "      <th>Year</th>\n",
       "      <th>population</th>\n",
       "      <th>Percentage</th>\n",
       "      <th>P/N</th>\n",
       "      <th>Questao</th>\n",
       "    </tr>\n",
       "  </thead>\n",
       "  <tbody>\n",
       "    <tr>\n",
       "      <th>0</th>\n",
       "      <td>Aspecto Visual</td>\n",
       "      <td>906</td>\n",
       "      <td>2014</td>\n",
       "      <td>1550</td>\n",
       "      <td>0.584516</td>\n",
       "      <td>Positivos</td>\n",
       "      <td>Positivos : Aspecto Visual</td>\n",
       "    </tr>\n",
       "    <tr>\n",
       "      <th>1</th>\n",
       "      <td>Navegação na Ferramenta</td>\n",
       "      <td>890</td>\n",
       "      <td>2014</td>\n",
       "      <td>1550</td>\n",
       "      <td>0.574194</td>\n",
       "      <td>Positivos</td>\n",
       "      <td>Positivos : Navegação na Ferramenta</td>\n",
       "    </tr>\n",
       "    <tr>\n",
       "      <th>2</th>\n",
       "      <td>Perguntas</td>\n",
       "      <td>516</td>\n",
       "      <td>2014</td>\n",
       "      <td>1550</td>\n",
       "      <td>0.332903</td>\n",
       "      <td>Positivos</td>\n",
       "      <td>Positivos : Perguntas</td>\n",
       "    </tr>\n",
       "    <tr>\n",
       "      <th>3</th>\n",
       "      <td>Exemplos</td>\n",
       "      <td>668</td>\n",
       "      <td>2014</td>\n",
       "      <td>1550</td>\n",
       "      <td>0.430968</td>\n",
       "      <td>Positivos</td>\n",
       "      <td>Positivos : Exemplos</td>\n",
       "    </tr>\n",
       "    <tr>\n",
       "      <th>4</th>\n",
       "      <td>Vídeos</td>\n",
       "      <td>252</td>\n",
       "      <td>2014</td>\n",
       "      <td>1550</td>\n",
       "      <td>0.162581</td>\n",
       "      <td>Positivos</td>\n",
       "      <td>Positivos : Vídeos</td>\n",
       "    </tr>\n",
       "    <tr>\n",
       "      <th>...</th>\n",
       "      <td>...</td>\n",
       "      <td>...</td>\n",
       "      <td>...</td>\n",
       "      <td>...</td>\n",
       "      <td>...</td>\n",
       "      <td>...</td>\n",
       "      <td>...</td>\n",
       "    </tr>\n",
       "    <tr>\n",
       "      <th>139</th>\n",
       "      <td>Exemplos</td>\n",
       "      <td>19</td>\n",
       "      <td>2020</td>\n",
       "      <td>132</td>\n",
       "      <td>0.143939</td>\n",
       "      <td>Negativos</td>\n",
       "      <td>Negativos : Exemplos</td>\n",
       "    </tr>\n",
       "    <tr>\n",
       "      <th>140</th>\n",
       "      <td>Perguntas</td>\n",
       "      <td>27</td>\n",
       "      <td>2020</td>\n",
       "      <td>132</td>\n",
       "      <td>0.204545</td>\n",
       "      <td>Negativos</td>\n",
       "      <td>Negativos : Perguntas</td>\n",
       "    </tr>\n",
       "    <tr>\n",
       "      <th>141</th>\n",
       "      <td>Vídeos</td>\n",
       "      <td>14</td>\n",
       "      <td>2020</td>\n",
       "      <td>132</td>\n",
       "      <td>0.106061</td>\n",
       "      <td>Negativos</td>\n",
       "      <td>Negativos : Vídeos</td>\n",
       "    </tr>\n",
       "    <tr>\n",
       "      <th>142</th>\n",
       "      <td>Gestão de Equipa</td>\n",
       "      <td>25</td>\n",
       "      <td>2020</td>\n",
       "      <td>132</td>\n",
       "      <td>0.189394</td>\n",
       "      <td>Negativos</td>\n",
       "      <td>Negativos : Gestão de Equipa</td>\n",
       "    </tr>\n",
       "    <tr>\n",
       "      <th>143</th>\n",
       "      <td>Acesso a recursos externos</td>\n",
       "      <td>37</td>\n",
       "      <td>2020</td>\n",
       "      <td>132</td>\n",
       "      <td>0.280303</td>\n",
       "      <td>Negativos</td>\n",
       "      <td>Negativos : Acesso a recursos externos</td>\n",
       "    </tr>\n",
       "  </tbody>\n",
       "</table>\n",
       "<p>144 rows × 7 columns</p>\n",
       "</div>"
      ],
      "text/plain": [
       "                       Question  Counts  Year  population  Percentage  \\\n",
       "0                Aspecto Visual     906  2014        1550    0.584516   \n",
       "1       Navegação na Ferramenta     890  2014        1550    0.574194   \n",
       "2                     Perguntas     516  2014        1550    0.332903   \n",
       "3                      Exemplos     668  2014        1550    0.430968   \n",
       "4                        Vídeos     252  2014        1550    0.162581   \n",
       "..                          ...     ...   ...         ...         ...   \n",
       "139                    Exemplos      19  2020         132    0.143939   \n",
       "140                   Perguntas      27  2020         132    0.204545   \n",
       "141                      Vídeos      14  2020         132    0.106061   \n",
       "142            Gestão de Equipa      25  2020         132    0.189394   \n",
       "143  Acesso a recursos externos      37  2020         132    0.280303   \n",
       "\n",
       "           P/N                                 Questao  \n",
       "0    Positivos              Positivos : Aspecto Visual  \n",
       "1    Positivos     Positivos : Navegação na Ferramenta  \n",
       "2    Positivos                   Positivos : Perguntas  \n",
       "3    Positivos                    Positivos : Exemplos  \n",
       "4    Positivos                      Positivos : Vídeos  \n",
       "..         ...                                     ...  \n",
       "139  Negativos                    Negativos : Exemplos  \n",
       "140  Negativos                   Negativos : Perguntas  \n",
       "141  Negativos                      Negativos : Vídeos  \n",
       "142  Negativos            Negativos : Gestão de Equipa  \n",
       "143  Negativos  Negativos : Acesso a recursos externos  \n",
       "\n",
       "[144 rows x 7 columns]"
      ]
     },
     "execution_count": 32,
     "metadata": {},
     "output_type": "execute_result"
    }
   ],
   "source": [
    "PosNegOverYears"
   ]
  },
  {
   "cell_type": "code",
   "execution_count": 33,
   "metadata": {},
   "outputs": [],
   "source": [
    "#PosNegOverYears[\"Questao\"]= PosNegOverYears[\"Questao\"].str.upper() \n"
   ]
  },
  {
   "cell_type": "code",
   "execution_count": 34,
   "metadata": {},
   "outputs": [
    {
     "data": {
      "text/plain": [
       "array(['Positivos', 'Negativos'], dtype=object)"
      ]
     },
     "execution_count": 34,
     "metadata": {},
     "output_type": "execute_result"
    }
   ],
   "source": [
    "PosNegOverYears[\"P/N\"].unique()"
   ]
  },
  {
   "cell_type": "code",
   "execution_count": null,
   "metadata": {},
   "outputs": [],
   "source": []
  },
  {
   "cell_type": "code",
   "execution_count": 35,
   "metadata": {},
   "outputs": [],
   "source": [
    "PosOverYears = PosNegOverYears[PosNegOverYears['P/N'] == \"Positivos\"]\n"
   ]
  },
  {
   "cell_type": "code",
   "execution_count": 36,
   "metadata": {},
   "outputs": [],
   "source": [
    "NegOverYears = PosNegOverYears[PosNegOverYears['P/N'] == \"Negativos\"]\n"
   ]
  },
  {
   "cell_type": "code",
   "execution_count": null,
   "metadata": {},
   "outputs": [],
   "source": []
  },
  {
   "cell_type": "code",
   "execution_count": null,
   "metadata": {},
   "outputs": [],
   "source": []
  },
  {
   "cell_type": "code",
   "execution_count": null,
   "metadata": {},
   "outputs": [],
   "source": []
  },
  {
   "cell_type": "markdown",
   "metadata": {},
   "source": [
    "### Data Visualizations  <a name=\"dataviz\"></a>\n",
    "\n",
    "* [Back to TOC](#backtoc)\n"
   ]
  },
  {
   "cell_type": "code",
   "execution_count": 37,
   "metadata": {},
   "outputs": [
    {
     "data": {
      "application/vnd.plotly.v1+json": {
       "config": {
        "plotlyServerURL": "https://plot.ly"
       },
       "data": [
        {
         "alignmentgroup": "True",
         "hovertemplate": "<b>%{hovertext}</b><br><br>Year=2014<br>Questao=%{x}<br>Percentage=%{y}<extra></extra>",
         "hovertext": [
          "Aspecto Visual",
          "Navegação na Ferramenta",
          "Perguntas",
          "Exemplos",
          "Vídeos",
          "Modelo de Negócios",
          "Indicações de Interface",
          "Mural de Equipa",
          "Gestão de Equipa",
          "Gestão de Projectos",
          "Acesso a recursos externos",
          "Aspecto Visual",
          "Navegação na Ferramenta",
          "Perguntas",
          "Exemplos",
          "Vídeos",
          "Modelo de Negócios",
          "Indicações de Interface",
          "Mural de Equipa",
          "Gestão de Equipa",
          "Gestão de Projectos",
          "Acesso a recursos externos"
         ],
         "legendgroup": "2014",
         "marker": {
          "color": "#636efa"
         },
         "name": "2014",
         "offsetgroup": "2014",
         "orientation": "v",
         "showlegend": true,
         "textposition": "auto",
         "type": "bar",
         "x": [
          "Positivos : Aspecto Visual",
          "Positivos : Navegação na Ferramenta",
          "Positivos : Perguntas",
          "Positivos : Exemplos",
          "Positivos : Vídeos",
          "Positivos : Modelo de Negócios",
          "Positivos : Indicações de Interface",
          "Positivos : Mural de Equipa",
          "Positivos : Gestão de Equipa",
          "Positivos : Gestão de Projectos",
          "Positivos : Acesso a recursos externos",
          "Negativos : Aspecto Visual",
          "Negativos : Navegação na Ferramenta",
          "Negativos : Perguntas",
          "Negativos : Exemplos",
          "Negativos : Vídeos",
          "Negativos : Modelo de Negócios",
          "Negativos : Indicações de Interface",
          "Negativos : Mural de Equipa",
          "Negativos : Gestão de Equipa",
          "Negativos : Gestão de Projectos",
          "Negativos : Acesso a recursos externos"
         ],
         "xaxis": "x",
         "y": [
          0.5845161290322579,
          0.5741935483870968,
          0.3329032258064516,
          0.4309677419354839,
          0.1625806451612903,
          0.3825806451612903,
          0.12322580645161292,
          0.04387096774193548,
          0.035483870967741936,
          0.2806451612903226,
          0.029677419354838714,
          0.09741935483870967,
          0.17806451612903226,
          0.15870967741935485,
          0.2032258064516129,
          0.41483870967741937,
          0.08903225806451613,
          0.3103225806451613,
          0.3709677419354839,
          0.3212903225806452,
          0.1335483870967742,
          0.54
         ],
         "yaxis": "y"
        },
        {
         "alignmentgroup": "True",
         "hovertemplate": "<b>%{hovertext}</b><br><br>Year=2015<br>Questao=%{x}<br>Percentage=%{y}<extra></extra>",
         "hovertext": [
          "Aspecto Visual",
          "Navegação na Ferramenta",
          "Perguntas",
          "Exemplos",
          "Vídeos",
          "Modelo de Negócios",
          "Indicações de Interface",
          "Mural de Equipa",
          "Gestão de Equipa",
          "Gestão de Projectos",
          "Acesso a recursos externos",
          "Aspecto Visual",
          "Navegação na Ferramenta",
          "Perguntas",
          "Exemplos",
          "Vídeos",
          "Modelo de Negócios",
          "Indicações de Interface",
          "Mural de Equipa",
          "Gestão de Equipa",
          "Gestão de Projectos",
          "Acesso a recursos externos"
         ],
         "legendgroup": "2015",
         "marker": {
          "color": "#EF553B"
         },
         "name": "2015",
         "offsetgroup": "2015",
         "orientation": "v",
         "showlegend": true,
         "textposition": "auto",
         "type": "bar",
         "x": [
          "Positivos : Aspecto Visual",
          "Positivos : Navegação na Ferramenta",
          "Positivos : Perguntas",
          "Positivos : Exemplos",
          "Positivos : Vídeos",
          "Positivos : Modelo de Negócios",
          "Positivos : Indicações de Interface",
          "Positivos : Mural de Equipa",
          "Positivos : Gestão de Equipa",
          "Positivos : Gestão de Projectos",
          "Positivos : Acesso a recursos externos",
          "Negativos : Aspecto Visual",
          "Negativos : Navegação na Ferramenta",
          "Negativos : Perguntas",
          "Negativos : Exemplos",
          "Negativos : Vídeos",
          "Negativos : Modelo de Negócios",
          "Negativos : Indicações de Interface",
          "Negativos : Mural de Equipa",
          "Negativos : Gestão de Equipa",
          "Negativos : Gestão de Projectos",
          "Negativos : Acesso a recursos externos"
         ],
         "xaxis": "x",
         "y": [
          0.4090909090909091,
          0.5,
          0.17045454545454544,
          0.2840909090909091,
          0.3636363636363637,
          0.5340909090909091,
          0.125,
          0.045454545454545456,
          0.045454545454545456,
          0.4318181818181818,
          0.022727272727272728,
          0.14772727272727273,
          0.26136363636363635,
          0.25,
          0.23863636363636365,
          0.25,
          0.10227272727272728,
          0.3636363636363637,
          0.3181818181818182,
          0.2840909090909091,
          0.125,
          0.6590909090909091
         ],
         "yaxis": "y"
        },
        {
         "alignmentgroup": "True",
         "hovertemplate": "<b>%{hovertext}</b><br><br>Year=2016<br>Questao=%{x}<br>Percentage=%{y}<extra></extra>",
         "hovertext": [
          "Aspecto Visual",
          "Navegação na Ferramenta",
          "Perguntas",
          "Exemplos",
          "Vídeos",
          "Modelo de Negócios",
          "Indicações de Interface",
          "Mural de Equipa",
          "Gestão de Equipa",
          "Gestão de Projectos",
          "Aspecto Visual",
          "Navegação na Ferramenta",
          "Perguntas",
          "Exemplos",
          "Vídeos",
          "Modelo de Negócios",
          "Indicações de Interface",
          "Mural de Equipa",
          "Gestão de Equipa",
          "Gestão de Projectos"
         ],
         "legendgroup": "2016",
         "marker": {
          "color": "#00cc96"
         },
         "name": "2016",
         "offsetgroup": "2016",
         "orientation": "v",
         "showlegend": true,
         "textposition": "auto",
         "type": "bar",
         "x": [
          "Positivos : Aspecto Visual",
          "Positivos : Navegação na Ferramenta",
          "Positivos : Perguntas",
          "Positivos : Exemplos",
          "Positivos : Vídeos",
          "Positivos : Modelo de Negócios",
          "Positivos : Indicações de Interface",
          "Positivos : Mural de Equipa",
          "Positivos : Gestão de Equipa",
          "Positivos : Gestão de Projectos",
          "Negativos : Aspecto Visual",
          "Negativos : Navegação na Ferramenta",
          "Negativos : Perguntas",
          "Negativos : Exemplos",
          "Negativos : Vídeos",
          "Negativos : Modelo de Negócios",
          "Negativos : Indicações de Interface",
          "Negativos : Mural de Equipa",
          "Negativos : Gestão de Equipa",
          "Negativos : Gestão de Projectos"
         ],
         "xaxis": "x",
         "y": [
          0.4297188755020081,
          0.4738955823293173,
          0.2329317269076305,
          0.3694779116465863,
          0.3614457831325301,
          0.5180722891566265,
          0.1686746987951807,
          0.0642570281124498,
          0.10843373493975904,
          0.3373493975903614,
          0.14056224899598393,
          0.2289156626506024,
          0.22088353413654616,
          0.2329317269076305,
          0.17269076305220885,
          0.10441767068273093,
          0.3734939759036144,
          0.2891566265060241,
          0.20481927710843373,
          0.18875502008032127
         ],
         "yaxis": "y"
        },
        {
         "alignmentgroup": "True",
         "hovertemplate": "<b>%{hovertext}</b><br><br>Year=2017<br>Questao=%{x}<br>Percentage=%{y}<extra></extra>",
         "hovertext": [
          "Aspecto Visual",
          "Navegação na Ferramenta",
          "Perguntas",
          "Exemplos",
          "Vídeos",
          "Modelo de Negócios",
          "Indicações de Interface",
          "Mural de Equipa",
          "Gestão de Equipa",
          "Gestão de Projectos",
          "Aspecto Visual",
          "Navegação na Ferramenta",
          "Perguntas",
          "Exemplos",
          "Vídeos",
          "Modelo de Negócios",
          "Indicações de Interface",
          "Mural de Equipa",
          "Gestão de Equipa",
          "Gestão de Projectos"
         ],
         "legendgroup": "2017",
         "marker": {
          "color": "#ab63fa"
         },
         "name": "2017",
         "offsetgroup": "2017",
         "orientation": "v",
         "showlegend": true,
         "textposition": "auto",
         "type": "bar",
         "x": [
          "Positivos : Aspecto Visual",
          "Positivos : Navegação na Ferramenta",
          "Positivos : Perguntas",
          "Positivos : Exemplos",
          "Positivos : Vídeos",
          "Positivos : Modelo de Negócios",
          "Positivos : Indicações de Interface",
          "Positivos : Mural de Equipa",
          "Positivos : Gestão de Equipa",
          "Positivos : Gestão de Projectos",
          "Negativos : Aspecto Visual",
          "Negativos : Navegação na Ferramenta",
          "Negativos : Perguntas",
          "Negativos : Exemplos",
          "Negativos : Vídeos",
          "Negativos : Modelo de Negócios",
          "Negativos : Indicações de Interface",
          "Negativos : Mural de Equipa",
          "Negativos : Gestão de Equipa",
          "Negativos : Gestão de Projectos"
         ],
         "xaxis": "x",
         "y": [
          0.5113122171945701,
          0.6108597285067874,
          0.25339366515837103,
          0.4343891402714932,
          0.6176470588235294,
          0.5542986425339367,
          0.2420814479638009,
          0.052036199095022634,
          0.10407239819004524,
          0.3981900452488688,
          0.1334841628959276,
          0.2262443438914027,
          0.2398190045248869,
          0.2420814479638009,
          0.1425339366515837,
          0.0746606334841629,
          0.2963800904977376,
          0.2420814479638009,
          0.18099547511312214,
          0.1176470588235294
         ],
         "yaxis": "y"
        },
        {
         "alignmentgroup": "True",
         "hovertemplate": "<b>%{hovertext}</b><br><br>Year=2018<br>Questao=%{x}<br>Percentage=%{y}<extra></extra>",
         "hovertext": [
          "Aspecto Visual",
          "Navegação na Ferramenta",
          "Perguntas",
          "Exemplos",
          "Vídeos",
          "Modelo de Negócios",
          "Indicações de Interface",
          "Mural de Equipa",
          "Gestão de Equipa",
          "Gestão de Projectos",
          "Aspecto Visual",
          "Navegação na Ferramenta",
          "Perguntas",
          "Exemplos",
          "Vídeos",
          "Modelo de Negócios",
          "Indicações de Interface",
          "Mural de Equipa",
          "Gestão de Equipa",
          "Gestão de Projectos"
         ],
         "legendgroup": "2018",
         "marker": {
          "color": "#FFA15A"
         },
         "name": "2018",
         "offsetgroup": "2018",
         "orientation": "v",
         "showlegend": true,
         "textposition": "auto",
         "type": "bar",
         "x": [
          "Positivos : Aspecto Visual",
          "Positivos : Navegação na Ferramenta",
          "Positivos : Perguntas",
          "Positivos : Exemplos",
          "Positivos : Vídeos",
          "Positivos : Modelo de Negócios",
          "Positivos : Indicações de Interface",
          "Positivos : Mural de Equipa",
          "Positivos : Gestão de Equipa",
          "Positivos : Gestão de Projectos",
          "Negativos : Aspecto Visual",
          "Negativos : Navegação na Ferramenta",
          "Negativos : Perguntas",
          "Negativos : Exemplos",
          "Negativos : Vídeos",
          "Negativos : Modelo de Negócios",
          "Negativos : Indicações de Interface",
          "Negativos : Mural de Equipa",
          "Negativos : Gestão de Equipa",
          "Negativos : Gestão de Projectos"
         ],
         "xaxis": "x",
         "y": [
          0.5287356321839081,
          0.603448275862069,
          0.27011494252873564,
          0.4160919540229885,
          0.467816091954023,
          0.5494252873563218,
          0.2367816091954023,
          0.04367816091954023,
          0.11149425287356322,
          0.3402298850574713,
          0.15057471264367814,
          0.2183908045977012,
          0.3057471264367816,
          0.2988505747126437,
          0.20689655172413796,
          0.0896551724137931,
          0.3275862068965517,
          0.2574712643678161,
          0.15402298850574714,
          0.10919540229885058
         ],
         "yaxis": "y"
        },
        {
         "alignmentgroup": "True",
         "hovertemplate": "<b>%{hovertext}</b><br><br>Year=2019<br>Questao=%{x}<br>Percentage=%{y}<extra></extra>",
         "hovertext": [
          "Resumo do negócio",
          "Modelo de Negócios",
          "Indicações de Interface",
          "Navegação na Ferramenta",
          "Aspecto Visual",
          "Exemplos",
          "Perguntas",
          "Vídeos",
          "Gestão de Equipa",
          "Acesso a recursos externos",
          "Resumo do negócio",
          "Modelo de Negócios",
          "Indicações de Interface",
          "Navegação na Ferramenta",
          "Aspecto Visual",
          "Exemplos",
          "Perguntas",
          "Vídeos",
          "Gestão de Equipa",
          "Acesso a recursos externos"
         ],
         "legendgroup": "2019",
         "marker": {
          "color": "#19d3f3"
         },
         "name": "2019",
         "offsetgroup": "2019",
         "orientation": "v",
         "showlegend": true,
         "textposition": "auto",
         "type": "bar",
         "x": [
          "Positivos : Resumo do negócio",
          "Positivos : Modelo de Negócios",
          "Positivos : Indicações de Interface",
          "Positivos : Navegação na Ferramenta",
          "Positivos : Aspecto Visual",
          "Positivos : Exemplos",
          "Positivos : Perguntas",
          "Positivos : Vídeos",
          "Positivos : Gestão de Equipa",
          "Positivos : Acesso a recursos externos",
          "Negativos : Resumo do negócio",
          "Negativos : Modelo de Negócios",
          "Negativos : Indicações de Interface",
          "Negativos : Navegação na Ferramenta",
          "Negativos : Aspecto Visual",
          "Negativos : Exemplos",
          "Negativos : Perguntas",
          "Negativos : Vídeos",
          "Negativos : Gestão de Equipa",
          "Negativos : Acesso a recursos externos"
         ],
         "xaxis": "x",
         "y": [
          0.005263157894736842,
          0.5631578947368421,
          0.10526315789473684,
          0.4631578947368421,
          0.3736842105263158,
          0.3473684210526316,
          0.18947368421052632,
          0.2894736842105263,
          0.13157894736842105,
          0.05789473684210526,
          0,
          0.13157894736842105,
          0.2842105263157895,
          0.23157894736842105,
          0.18947368421052632,
          0.2,
          0.22105263157894736,
          0.1263157894736842,
          0.21578947368421053,
          0.4105263157894737
         ],
         "yaxis": "y"
        },
        {
         "alignmentgroup": "True",
         "hovertemplate": "<b>%{hovertext}</b><br><br>Year=2020<br>Questao=%{x}<br>Percentage=%{y}<extra></extra>",
         "hovertext": [
          "Resumo do negócio",
          "Modelo de Negócios",
          "Indicações de Interface",
          "Navegação na Ferramenta",
          "Aspecto Visual",
          "Exemplos",
          "Perguntas",
          "Vídeos",
          "Gestão de Equipa",
          "Acesso a recursos externos",
          "Resumo do negócio",
          "Modelo de Negócios",
          "Indicações de Interface",
          "Navegação na Ferramenta",
          "Aspecto Visual",
          "Exemplos",
          "Perguntas",
          "Vídeos",
          "Gestão de Equipa",
          "Acesso a recursos externos"
         ],
         "legendgroup": "2020",
         "marker": {
          "color": "#FF6692"
         },
         "name": "2020",
         "offsetgroup": "2020",
         "orientation": "v",
         "showlegend": true,
         "textposition": "auto",
         "type": "bar",
         "x": [
          "Positivos : Resumo do negócio",
          "Positivos : Modelo de Negócios",
          "Positivos : Indicações de Interface",
          "Positivos : Navegação na Ferramenta",
          "Positivos : Aspecto Visual",
          "Positivos : Exemplos",
          "Positivos : Perguntas",
          "Positivos : Vídeos",
          "Positivos : Gestão de Equipa",
          "Positivos : Acesso a recursos externos",
          "Negativos : Resumo do negócio",
          "Negativos : Modelo de Negócios",
          "Negativos : Indicações de Interface",
          "Negativos : Navegação na Ferramenta",
          "Negativos : Aspecto Visual",
          "Negativos : Exemplos",
          "Negativos : Perguntas",
          "Negativos : Vídeos",
          "Negativos : Gestão de Equipa",
          "Negativos : Acesso a recursos externos"
         ],
         "xaxis": "x",
         "y": [
          0,
          0.5909090909090909,
          0.09848484848484848,
          0.3636363636363637,
          0.3257575757575757,
          0.3484848484848485,
          0.18181818181818185,
          0.3939393939393939,
          0.13636363636363635,
          0.11363636363636365,
          0,
          0.09848484848484848,
          0.26515151515151514,
          0.3409090909090909,
          0.20454545454545456,
          0.14393939393939395,
          0.20454545454545456,
          0.10606060606060606,
          0.1893939393939394,
          0.2803030303030303
         ],
         "yaxis": "y"
        }
       ],
       "layout": {
        "autosize": false,
        "barmode": "group",
        "legend": {
         "title": {
          "text": "Year"
         },
         "tracegroupgap": 0
        },
        "margin": {
         "t": 60
        },
        "template": {
         "data": {
          "bar": [
           {
            "error_x": {
             "color": "#2a3f5f"
            },
            "error_y": {
             "color": "#2a3f5f"
            },
            "marker": {
             "line": {
              "color": "#E5ECF6",
              "width": 0.5
             }
            },
            "type": "bar"
           }
          ],
          "barpolar": [
           {
            "marker": {
             "line": {
              "color": "#E5ECF6",
              "width": 0.5
             }
            },
            "type": "barpolar"
           }
          ],
          "carpet": [
           {
            "aaxis": {
             "endlinecolor": "#2a3f5f",
             "gridcolor": "white",
             "linecolor": "white",
             "minorgridcolor": "white",
             "startlinecolor": "#2a3f5f"
            },
            "baxis": {
             "endlinecolor": "#2a3f5f",
             "gridcolor": "white",
             "linecolor": "white",
             "minorgridcolor": "white",
             "startlinecolor": "#2a3f5f"
            },
            "type": "carpet"
           }
          ],
          "choropleth": [
           {
            "colorbar": {
             "outlinewidth": 0,
             "ticks": ""
            },
            "type": "choropleth"
           }
          ],
          "contour": [
           {
            "colorbar": {
             "outlinewidth": 0,
             "ticks": ""
            },
            "colorscale": [
             [
              0,
              "#0d0887"
             ],
             [
              0.1111111111111111,
              "#46039f"
             ],
             [
              0.2222222222222222,
              "#7201a8"
             ],
             [
              0.3333333333333333,
              "#9c179e"
             ],
             [
              0.4444444444444444,
              "#bd3786"
             ],
             [
              0.5555555555555556,
              "#d8576b"
             ],
             [
              0.6666666666666666,
              "#ed7953"
             ],
             [
              0.7777777777777778,
              "#fb9f3a"
             ],
             [
              0.8888888888888888,
              "#fdca26"
             ],
             [
              1,
              "#f0f921"
             ]
            ],
            "type": "contour"
           }
          ],
          "contourcarpet": [
           {
            "colorbar": {
             "outlinewidth": 0,
             "ticks": ""
            },
            "type": "contourcarpet"
           }
          ],
          "heatmap": [
           {
            "colorbar": {
             "outlinewidth": 0,
             "ticks": ""
            },
            "colorscale": [
             [
              0,
              "#0d0887"
             ],
             [
              0.1111111111111111,
              "#46039f"
             ],
             [
              0.2222222222222222,
              "#7201a8"
             ],
             [
              0.3333333333333333,
              "#9c179e"
             ],
             [
              0.4444444444444444,
              "#bd3786"
             ],
             [
              0.5555555555555556,
              "#d8576b"
             ],
             [
              0.6666666666666666,
              "#ed7953"
             ],
             [
              0.7777777777777778,
              "#fb9f3a"
             ],
             [
              0.8888888888888888,
              "#fdca26"
             ],
             [
              1,
              "#f0f921"
             ]
            ],
            "type": "heatmap"
           }
          ],
          "heatmapgl": [
           {
            "colorbar": {
             "outlinewidth": 0,
             "ticks": ""
            },
            "colorscale": [
             [
              0,
              "#0d0887"
             ],
             [
              0.1111111111111111,
              "#46039f"
             ],
             [
              0.2222222222222222,
              "#7201a8"
             ],
             [
              0.3333333333333333,
              "#9c179e"
             ],
             [
              0.4444444444444444,
              "#bd3786"
             ],
             [
              0.5555555555555556,
              "#d8576b"
             ],
             [
              0.6666666666666666,
              "#ed7953"
             ],
             [
              0.7777777777777778,
              "#fb9f3a"
             ],
             [
              0.8888888888888888,
              "#fdca26"
             ],
             [
              1,
              "#f0f921"
             ]
            ],
            "type": "heatmapgl"
           }
          ],
          "histogram": [
           {
            "marker": {
             "colorbar": {
              "outlinewidth": 0,
              "ticks": ""
             }
            },
            "type": "histogram"
           }
          ],
          "histogram2d": [
           {
            "colorbar": {
             "outlinewidth": 0,
             "ticks": ""
            },
            "colorscale": [
             [
              0,
              "#0d0887"
             ],
             [
              0.1111111111111111,
              "#46039f"
             ],
             [
              0.2222222222222222,
              "#7201a8"
             ],
             [
              0.3333333333333333,
              "#9c179e"
             ],
             [
              0.4444444444444444,
              "#bd3786"
             ],
             [
              0.5555555555555556,
              "#d8576b"
             ],
             [
              0.6666666666666666,
              "#ed7953"
             ],
             [
              0.7777777777777778,
              "#fb9f3a"
             ],
             [
              0.8888888888888888,
              "#fdca26"
             ],
             [
              1,
              "#f0f921"
             ]
            ],
            "type": "histogram2d"
           }
          ],
          "histogram2dcontour": [
           {
            "colorbar": {
             "outlinewidth": 0,
             "ticks": ""
            },
            "colorscale": [
             [
              0,
              "#0d0887"
             ],
             [
              0.1111111111111111,
              "#46039f"
             ],
             [
              0.2222222222222222,
              "#7201a8"
             ],
             [
              0.3333333333333333,
              "#9c179e"
             ],
             [
              0.4444444444444444,
              "#bd3786"
             ],
             [
              0.5555555555555556,
              "#d8576b"
             ],
             [
              0.6666666666666666,
              "#ed7953"
             ],
             [
              0.7777777777777778,
              "#fb9f3a"
             ],
             [
              0.8888888888888888,
              "#fdca26"
             ],
             [
              1,
              "#f0f921"
             ]
            ],
            "type": "histogram2dcontour"
           }
          ],
          "mesh3d": [
           {
            "colorbar": {
             "outlinewidth": 0,
             "ticks": ""
            },
            "type": "mesh3d"
           }
          ],
          "parcoords": [
           {
            "line": {
             "colorbar": {
              "outlinewidth": 0,
              "ticks": ""
             }
            },
            "type": "parcoords"
           }
          ],
          "pie": [
           {
            "automargin": true,
            "type": "pie"
           }
          ],
          "scatter": [
           {
            "marker": {
             "colorbar": {
              "outlinewidth": 0,
              "ticks": ""
             }
            },
            "type": "scatter"
           }
          ],
          "scatter3d": [
           {
            "line": {
             "colorbar": {
              "outlinewidth": 0,
              "ticks": ""
             }
            },
            "marker": {
             "colorbar": {
              "outlinewidth": 0,
              "ticks": ""
             }
            },
            "type": "scatter3d"
           }
          ],
          "scattercarpet": [
           {
            "marker": {
             "colorbar": {
              "outlinewidth": 0,
              "ticks": ""
             }
            },
            "type": "scattercarpet"
           }
          ],
          "scattergeo": [
           {
            "marker": {
             "colorbar": {
              "outlinewidth": 0,
              "ticks": ""
             }
            },
            "type": "scattergeo"
           }
          ],
          "scattergl": [
           {
            "marker": {
             "colorbar": {
              "outlinewidth": 0,
              "ticks": ""
             }
            },
            "type": "scattergl"
           }
          ],
          "scattermapbox": [
           {
            "marker": {
             "colorbar": {
              "outlinewidth": 0,
              "ticks": ""
             }
            },
            "type": "scattermapbox"
           }
          ],
          "scatterpolar": [
           {
            "marker": {
             "colorbar": {
              "outlinewidth": 0,
              "ticks": ""
             }
            },
            "type": "scatterpolar"
           }
          ],
          "scatterpolargl": [
           {
            "marker": {
             "colorbar": {
              "outlinewidth": 0,
              "ticks": ""
             }
            },
            "type": "scatterpolargl"
           }
          ],
          "scatterternary": [
           {
            "marker": {
             "colorbar": {
              "outlinewidth": 0,
              "ticks": ""
             }
            },
            "type": "scatterternary"
           }
          ],
          "surface": [
           {
            "colorbar": {
             "outlinewidth": 0,
             "ticks": ""
            },
            "colorscale": [
             [
              0,
              "#0d0887"
             ],
             [
              0.1111111111111111,
              "#46039f"
             ],
             [
              0.2222222222222222,
              "#7201a8"
             ],
             [
              0.3333333333333333,
              "#9c179e"
             ],
             [
              0.4444444444444444,
              "#bd3786"
             ],
             [
              0.5555555555555556,
              "#d8576b"
             ],
             [
              0.6666666666666666,
              "#ed7953"
             ],
             [
              0.7777777777777778,
              "#fb9f3a"
             ],
             [
              0.8888888888888888,
              "#fdca26"
             ],
             [
              1,
              "#f0f921"
             ]
            ],
            "type": "surface"
           }
          ],
          "table": [
           {
            "cells": {
             "fill": {
              "color": "#EBF0F8"
             },
             "line": {
              "color": "white"
             }
            },
            "header": {
             "fill": {
              "color": "#C8D4E3"
             },
             "line": {
              "color": "white"
             }
            },
            "type": "table"
           }
          ]
         },
         "layout": {
          "annotationdefaults": {
           "arrowcolor": "#2a3f5f",
           "arrowhead": 0,
           "arrowwidth": 1
          },
          "coloraxis": {
           "colorbar": {
            "outlinewidth": 0,
            "ticks": ""
           }
          },
          "colorscale": {
           "diverging": [
            [
             0,
             "#8e0152"
            ],
            [
             0.1,
             "#c51b7d"
            ],
            [
             0.2,
             "#de77ae"
            ],
            [
             0.3,
             "#f1b6da"
            ],
            [
             0.4,
             "#fde0ef"
            ],
            [
             0.5,
             "#f7f7f7"
            ],
            [
             0.6,
             "#e6f5d0"
            ],
            [
             0.7,
             "#b8e186"
            ],
            [
             0.8,
             "#7fbc41"
            ],
            [
             0.9,
             "#4d9221"
            ],
            [
             1,
             "#276419"
            ]
           ],
           "sequential": [
            [
             0,
             "#0d0887"
            ],
            [
             0.1111111111111111,
             "#46039f"
            ],
            [
             0.2222222222222222,
             "#7201a8"
            ],
            [
             0.3333333333333333,
             "#9c179e"
            ],
            [
             0.4444444444444444,
             "#bd3786"
            ],
            [
             0.5555555555555556,
             "#d8576b"
            ],
            [
             0.6666666666666666,
             "#ed7953"
            ],
            [
             0.7777777777777778,
             "#fb9f3a"
            ],
            [
             0.8888888888888888,
             "#fdca26"
            ],
            [
             1,
             "#f0f921"
            ]
           ],
           "sequentialminus": [
            [
             0,
             "#0d0887"
            ],
            [
             0.1111111111111111,
             "#46039f"
            ],
            [
             0.2222222222222222,
             "#7201a8"
            ],
            [
             0.3333333333333333,
             "#9c179e"
            ],
            [
             0.4444444444444444,
             "#bd3786"
            ],
            [
             0.5555555555555556,
             "#d8576b"
            ],
            [
             0.6666666666666666,
             "#ed7953"
            ],
            [
             0.7777777777777778,
             "#fb9f3a"
            ],
            [
             0.8888888888888888,
             "#fdca26"
            ],
            [
             1,
             "#f0f921"
            ]
           ]
          },
          "colorway": [
           "#636efa",
           "#EF553B",
           "#00cc96",
           "#ab63fa",
           "#FFA15A",
           "#19d3f3",
           "#FF6692",
           "#B6E880",
           "#FF97FF",
           "#FECB52"
          ],
          "font": {
           "color": "#2a3f5f"
          },
          "geo": {
           "bgcolor": "white",
           "lakecolor": "white",
           "landcolor": "#E5ECF6",
           "showlakes": true,
           "showland": true,
           "subunitcolor": "white"
          },
          "hoverlabel": {
           "align": "left"
          },
          "hovermode": "closest",
          "mapbox": {
           "style": "light"
          },
          "paper_bgcolor": "white",
          "plot_bgcolor": "#E5ECF6",
          "polar": {
           "angularaxis": {
            "gridcolor": "white",
            "linecolor": "white",
            "ticks": ""
           },
           "bgcolor": "#E5ECF6",
           "radialaxis": {
            "gridcolor": "white",
            "linecolor": "white",
            "ticks": ""
           }
          },
          "scene": {
           "xaxis": {
            "backgroundcolor": "#E5ECF6",
            "gridcolor": "white",
            "gridwidth": 2,
            "linecolor": "white",
            "showbackground": true,
            "ticks": "",
            "zerolinecolor": "white"
           },
           "yaxis": {
            "backgroundcolor": "#E5ECF6",
            "gridcolor": "white",
            "gridwidth": 2,
            "linecolor": "white",
            "showbackground": true,
            "ticks": "",
            "zerolinecolor": "white"
           },
           "zaxis": {
            "backgroundcolor": "#E5ECF6",
            "gridcolor": "white",
            "gridwidth": 2,
            "linecolor": "white",
            "showbackground": true,
            "ticks": "",
            "zerolinecolor": "white"
           }
          },
          "shapedefaults": {
           "line": {
            "color": "#2a3f5f"
           }
          },
          "ternary": {
           "aaxis": {
            "gridcolor": "white",
            "linecolor": "white",
            "ticks": ""
           },
           "baxis": {
            "gridcolor": "white",
            "linecolor": "white",
            "ticks": ""
           },
           "bgcolor": "#E5ECF6",
           "caxis": {
            "gridcolor": "white",
            "linecolor": "white",
            "ticks": ""
           }
          },
          "title": {
           "x": 0.05
          },
          "xaxis": {
           "automargin": true,
           "gridcolor": "white",
           "linecolor": "white",
           "ticks": "",
           "title": {
            "standoff": 15
           },
           "zerolinecolor": "white",
           "zerolinewidth": 2
          },
          "yaxis": {
           "automargin": true,
           "gridcolor": "white",
           "linecolor": "white",
           "ticks": "",
           "title": {
            "standoff": 15
           },
           "zerolinecolor": "white",
           "zerolinewidth": 2
          }
         }
        },
        "title": {
         "text": "Positive/Negative Features  - 2018/2019"
        },
        "width": 1000,
        "xaxis": {
         "anchor": "y",
         "domain": [
          0,
          1
         ],
         "title": {
          "text": "Questao"
         },
         "type": "category"
        },
        "yaxis": {
         "anchor": "x",
         "domain": [
          0,
          1
         ],
         "range": [
          0,
          0.8
         ],
         "title": {
          "text": "Percentage"
         }
        }
       }
      },
      "text/html": [
       "<div>                            <div id=\"fa394c1f-445e-4d41-a638-464ff050b2c3\" class=\"plotly-graph-div\" style=\"height:525px; width:1000px;\"></div>            <script type=\"text/javascript\">                require([\"plotly\"], function(Plotly) {                    window.PLOTLYENV=window.PLOTLYENV || {};                                    if (document.getElementById(\"fa394c1f-445e-4d41-a638-464ff050b2c3\")) {                    Plotly.newPlot(                        \"fa394c1f-445e-4d41-a638-464ff050b2c3\",                        [{\"alignmentgroup\": \"True\", \"hovertemplate\": \"<b>%{hovertext}</b><br><br>Year=2014<br>Questao=%{x}<br>Percentage=%{y}<extra></extra>\", \"hovertext\": [\"Aspecto Visual\", \"Navega\\u00e7\\u00e3o na Ferramenta\", \"Perguntas\", \"Exemplos\", \"V\\u00eddeos\", \"Modelo de Neg\\u00f3cios\", \"Indica\\u00e7\\u00f5es de Interface\", \"Mural de Equipa\", \"Gest\\u00e3o de Equipa\", \"Gest\\u00e3o de Projectos\", \"Acesso a recursos externos\", \"Aspecto Visual\", \"Navega\\u00e7\\u00e3o na Ferramenta\", \"Perguntas\", \"Exemplos\", \"V\\u00eddeos\", \"Modelo de Neg\\u00f3cios\", \"Indica\\u00e7\\u00f5es de Interface\", \"Mural de Equipa\", \"Gest\\u00e3o de Equipa\", \"Gest\\u00e3o de Projectos\", \"Acesso a recursos externos\"], \"legendgroup\": \"2014\", \"marker\": {\"color\": \"#636efa\"}, \"name\": \"2014\", \"offsetgroup\": \"2014\", \"orientation\": \"v\", \"showlegend\": true, \"textposition\": \"auto\", \"type\": \"bar\", \"x\": [\"Positivos : Aspecto Visual\", \"Positivos : Navega\\u00e7\\u00e3o na Ferramenta\", \"Positivos : Perguntas\", \"Positivos : Exemplos\", \"Positivos : V\\u00eddeos\", \"Positivos : Modelo de Neg\\u00f3cios\", \"Positivos : Indica\\u00e7\\u00f5es de Interface\", \"Positivos : Mural de Equipa\", \"Positivos : Gest\\u00e3o de Equipa\", \"Positivos : Gest\\u00e3o de Projectos\", \"Positivos : Acesso a recursos externos\", \"Negativos : Aspecto Visual\", \"Negativos : Navega\\u00e7\\u00e3o na Ferramenta\", \"Negativos : Perguntas\", \"Negativos : Exemplos\", \"Negativos : V\\u00eddeos\", \"Negativos : Modelo de Neg\\u00f3cios\", \"Negativos : Indica\\u00e7\\u00f5es de Interface\", \"Negativos : Mural de Equipa\", \"Negativos : Gest\\u00e3o de Equipa\", \"Negativos : Gest\\u00e3o de Projectos\", \"Negativos : Acesso a recursos externos\"], \"xaxis\": \"x\", \"y\": [0.5845161290322579, 0.5741935483870968, 0.3329032258064516, 0.4309677419354839, 0.1625806451612903, 0.3825806451612903, 0.12322580645161292, 0.04387096774193548, 0.035483870967741936, 0.2806451612903226, 0.029677419354838714, 0.09741935483870967, 0.17806451612903226, 0.15870967741935485, 0.2032258064516129, 0.41483870967741937, 0.08903225806451613, 0.3103225806451613, 0.3709677419354839, 0.3212903225806452, 0.1335483870967742, 0.54], \"yaxis\": \"y\"}, {\"alignmentgroup\": \"True\", \"hovertemplate\": \"<b>%{hovertext}</b><br><br>Year=2015<br>Questao=%{x}<br>Percentage=%{y}<extra></extra>\", \"hovertext\": [\"Aspecto Visual\", \"Navega\\u00e7\\u00e3o na Ferramenta\", \"Perguntas\", \"Exemplos\", \"V\\u00eddeos\", \"Modelo de Neg\\u00f3cios\", \"Indica\\u00e7\\u00f5es de Interface\", \"Mural de Equipa\", \"Gest\\u00e3o de Equipa\", \"Gest\\u00e3o de Projectos\", \"Acesso a recursos externos\", \"Aspecto Visual\", \"Navega\\u00e7\\u00e3o na Ferramenta\", \"Perguntas\", \"Exemplos\", \"V\\u00eddeos\", \"Modelo de Neg\\u00f3cios\", \"Indica\\u00e7\\u00f5es de Interface\", \"Mural de Equipa\", \"Gest\\u00e3o de Equipa\", \"Gest\\u00e3o de Projectos\", \"Acesso a recursos externos\"], \"legendgroup\": \"2015\", \"marker\": {\"color\": \"#EF553B\"}, \"name\": \"2015\", \"offsetgroup\": \"2015\", \"orientation\": \"v\", \"showlegend\": true, \"textposition\": \"auto\", \"type\": \"bar\", \"x\": [\"Positivos : Aspecto Visual\", \"Positivos : Navega\\u00e7\\u00e3o na Ferramenta\", \"Positivos : Perguntas\", \"Positivos : Exemplos\", \"Positivos : V\\u00eddeos\", \"Positivos : Modelo de Neg\\u00f3cios\", \"Positivos : Indica\\u00e7\\u00f5es de Interface\", \"Positivos : Mural de Equipa\", \"Positivos : Gest\\u00e3o de Equipa\", \"Positivos : Gest\\u00e3o de Projectos\", \"Positivos : Acesso a recursos externos\", \"Negativos : Aspecto Visual\", \"Negativos : Navega\\u00e7\\u00e3o na Ferramenta\", \"Negativos : Perguntas\", \"Negativos : Exemplos\", \"Negativos : V\\u00eddeos\", \"Negativos : Modelo de Neg\\u00f3cios\", \"Negativos : Indica\\u00e7\\u00f5es de Interface\", \"Negativos : Mural de Equipa\", \"Negativos : Gest\\u00e3o de Equipa\", \"Negativos : Gest\\u00e3o de Projectos\", \"Negativos : Acesso a recursos externos\"], \"xaxis\": \"x\", \"y\": [0.4090909090909091, 0.5, 0.17045454545454544, 0.2840909090909091, 0.3636363636363637, 0.5340909090909091, 0.125, 0.045454545454545456, 0.045454545454545456, 0.4318181818181818, 0.022727272727272728, 0.14772727272727273, 0.26136363636363635, 0.25, 0.23863636363636365, 0.25, 0.10227272727272728, 0.3636363636363637, 0.3181818181818182, 0.2840909090909091, 0.125, 0.6590909090909091], \"yaxis\": \"y\"}, {\"alignmentgroup\": \"True\", \"hovertemplate\": \"<b>%{hovertext}</b><br><br>Year=2016<br>Questao=%{x}<br>Percentage=%{y}<extra></extra>\", \"hovertext\": [\"Aspecto Visual\", \"Navega\\u00e7\\u00e3o na Ferramenta\", \"Perguntas\", \"Exemplos\", \"V\\u00eddeos\", \"Modelo de Neg\\u00f3cios\", \"Indica\\u00e7\\u00f5es de Interface\", \"Mural de Equipa\", \"Gest\\u00e3o de Equipa\", \"Gest\\u00e3o de Projectos\", \"Aspecto Visual\", \"Navega\\u00e7\\u00e3o na Ferramenta\", \"Perguntas\", \"Exemplos\", \"V\\u00eddeos\", \"Modelo de Neg\\u00f3cios\", \"Indica\\u00e7\\u00f5es de Interface\", \"Mural de Equipa\", \"Gest\\u00e3o de Equipa\", \"Gest\\u00e3o de Projectos\"], \"legendgroup\": \"2016\", \"marker\": {\"color\": \"#00cc96\"}, \"name\": \"2016\", \"offsetgroup\": \"2016\", \"orientation\": \"v\", \"showlegend\": true, \"textposition\": \"auto\", \"type\": \"bar\", \"x\": [\"Positivos : Aspecto Visual\", \"Positivos : Navega\\u00e7\\u00e3o na Ferramenta\", \"Positivos : Perguntas\", \"Positivos : Exemplos\", \"Positivos : V\\u00eddeos\", \"Positivos : Modelo de Neg\\u00f3cios\", \"Positivos : Indica\\u00e7\\u00f5es de Interface\", \"Positivos : Mural de Equipa\", \"Positivos : Gest\\u00e3o de Equipa\", \"Positivos : Gest\\u00e3o de Projectos\", \"Negativos : Aspecto Visual\", \"Negativos : Navega\\u00e7\\u00e3o na Ferramenta\", \"Negativos : Perguntas\", \"Negativos : Exemplos\", \"Negativos : V\\u00eddeos\", \"Negativos : Modelo de Neg\\u00f3cios\", \"Negativos : Indica\\u00e7\\u00f5es de Interface\", \"Negativos : Mural de Equipa\", \"Negativos : Gest\\u00e3o de Equipa\", \"Negativos : Gest\\u00e3o de Projectos\"], \"xaxis\": \"x\", \"y\": [0.4297188755020081, 0.4738955823293173, 0.2329317269076305, 0.3694779116465863, 0.3614457831325301, 0.5180722891566265, 0.1686746987951807, 0.0642570281124498, 0.10843373493975904, 0.3373493975903614, 0.14056224899598393, 0.2289156626506024, 0.22088353413654616, 0.2329317269076305, 0.17269076305220885, 0.10441767068273093, 0.3734939759036144, 0.2891566265060241, 0.20481927710843373, 0.18875502008032127], \"yaxis\": \"y\"}, {\"alignmentgroup\": \"True\", \"hovertemplate\": \"<b>%{hovertext}</b><br><br>Year=2017<br>Questao=%{x}<br>Percentage=%{y}<extra></extra>\", \"hovertext\": [\"Aspecto Visual\", \"Navega\\u00e7\\u00e3o na Ferramenta\", \"Perguntas\", \"Exemplos\", \"V\\u00eddeos\", \"Modelo de Neg\\u00f3cios\", \"Indica\\u00e7\\u00f5es de Interface\", \"Mural de Equipa\", \"Gest\\u00e3o de Equipa\", \"Gest\\u00e3o de Projectos\", \"Aspecto Visual\", \"Navega\\u00e7\\u00e3o na Ferramenta\", \"Perguntas\", \"Exemplos\", \"V\\u00eddeos\", \"Modelo de Neg\\u00f3cios\", \"Indica\\u00e7\\u00f5es de Interface\", \"Mural de Equipa\", \"Gest\\u00e3o de Equipa\", \"Gest\\u00e3o de Projectos\"], \"legendgroup\": \"2017\", \"marker\": {\"color\": \"#ab63fa\"}, \"name\": \"2017\", \"offsetgroup\": \"2017\", \"orientation\": \"v\", \"showlegend\": true, \"textposition\": \"auto\", \"type\": \"bar\", \"x\": [\"Positivos : Aspecto Visual\", \"Positivos : Navega\\u00e7\\u00e3o na Ferramenta\", \"Positivos : Perguntas\", \"Positivos : Exemplos\", \"Positivos : V\\u00eddeos\", \"Positivos : Modelo de Neg\\u00f3cios\", \"Positivos : Indica\\u00e7\\u00f5es de Interface\", \"Positivos : Mural de Equipa\", \"Positivos : Gest\\u00e3o de Equipa\", \"Positivos : Gest\\u00e3o de Projectos\", \"Negativos : Aspecto Visual\", \"Negativos : Navega\\u00e7\\u00e3o na Ferramenta\", \"Negativos : Perguntas\", \"Negativos : Exemplos\", \"Negativos : V\\u00eddeos\", \"Negativos : Modelo de Neg\\u00f3cios\", \"Negativos : Indica\\u00e7\\u00f5es de Interface\", \"Negativos : Mural de Equipa\", \"Negativos : Gest\\u00e3o de Equipa\", \"Negativos : Gest\\u00e3o de Projectos\"], \"xaxis\": \"x\", \"y\": [0.5113122171945701, 0.6108597285067874, 0.25339366515837103, 0.4343891402714932, 0.6176470588235294, 0.5542986425339367, 0.2420814479638009, 0.052036199095022634, 0.10407239819004524, 0.3981900452488688, 0.1334841628959276, 0.2262443438914027, 0.2398190045248869, 0.2420814479638009, 0.1425339366515837, 0.0746606334841629, 0.2963800904977376, 0.2420814479638009, 0.18099547511312214, 0.1176470588235294], \"yaxis\": \"y\"}, {\"alignmentgroup\": \"True\", \"hovertemplate\": \"<b>%{hovertext}</b><br><br>Year=2018<br>Questao=%{x}<br>Percentage=%{y}<extra></extra>\", \"hovertext\": [\"Aspecto Visual\", \"Navega\\u00e7\\u00e3o na Ferramenta\", \"Perguntas\", \"Exemplos\", \"V\\u00eddeos\", \"Modelo de Neg\\u00f3cios\", \"Indica\\u00e7\\u00f5es de Interface\", \"Mural de Equipa\", \"Gest\\u00e3o de Equipa\", \"Gest\\u00e3o de Projectos\", \"Aspecto Visual\", \"Navega\\u00e7\\u00e3o na Ferramenta\", \"Perguntas\", \"Exemplos\", \"V\\u00eddeos\", \"Modelo de Neg\\u00f3cios\", \"Indica\\u00e7\\u00f5es de Interface\", \"Mural de Equipa\", \"Gest\\u00e3o de Equipa\", \"Gest\\u00e3o de Projectos\"], \"legendgroup\": \"2018\", \"marker\": {\"color\": \"#FFA15A\"}, \"name\": \"2018\", \"offsetgroup\": \"2018\", \"orientation\": \"v\", \"showlegend\": true, \"textposition\": \"auto\", \"type\": \"bar\", \"x\": [\"Positivos : Aspecto Visual\", \"Positivos : Navega\\u00e7\\u00e3o na Ferramenta\", \"Positivos : Perguntas\", \"Positivos : Exemplos\", \"Positivos : V\\u00eddeos\", \"Positivos : Modelo de Neg\\u00f3cios\", \"Positivos : Indica\\u00e7\\u00f5es de Interface\", \"Positivos : Mural de Equipa\", \"Positivos : Gest\\u00e3o de Equipa\", \"Positivos : Gest\\u00e3o de Projectos\", \"Negativos : Aspecto Visual\", \"Negativos : Navega\\u00e7\\u00e3o na Ferramenta\", \"Negativos : Perguntas\", \"Negativos : Exemplos\", \"Negativos : V\\u00eddeos\", \"Negativos : Modelo de Neg\\u00f3cios\", \"Negativos : Indica\\u00e7\\u00f5es de Interface\", \"Negativos : Mural de Equipa\", \"Negativos : Gest\\u00e3o de Equipa\", \"Negativos : Gest\\u00e3o de Projectos\"], \"xaxis\": \"x\", \"y\": [0.5287356321839081, 0.603448275862069, 0.27011494252873564, 0.4160919540229885, 0.467816091954023, 0.5494252873563218, 0.2367816091954023, 0.04367816091954023, 0.11149425287356322, 0.3402298850574713, 0.15057471264367814, 0.2183908045977012, 0.3057471264367816, 0.2988505747126437, 0.20689655172413796, 0.0896551724137931, 0.3275862068965517, 0.2574712643678161, 0.15402298850574714, 0.10919540229885058], \"yaxis\": \"y\"}, {\"alignmentgroup\": \"True\", \"hovertemplate\": \"<b>%{hovertext}</b><br><br>Year=2019<br>Questao=%{x}<br>Percentage=%{y}<extra></extra>\", \"hovertext\": [\"Resumo do neg\\u00f3cio\", \"Modelo de Neg\\u00f3cios\", \"Indica\\u00e7\\u00f5es de Interface\", \"Navega\\u00e7\\u00e3o na Ferramenta\", \"Aspecto Visual\", \"Exemplos\", \"Perguntas\", \"V\\u00eddeos\", \"Gest\\u00e3o de Equipa\", \"Acesso a recursos externos\", \"Resumo do neg\\u00f3cio\", \"Modelo de Neg\\u00f3cios\", \"Indica\\u00e7\\u00f5es de Interface\", \"Navega\\u00e7\\u00e3o na Ferramenta\", \"Aspecto Visual\", \"Exemplos\", \"Perguntas\", \"V\\u00eddeos\", \"Gest\\u00e3o de Equipa\", \"Acesso a recursos externos\"], \"legendgroup\": \"2019\", \"marker\": {\"color\": \"#19d3f3\"}, \"name\": \"2019\", \"offsetgroup\": \"2019\", \"orientation\": \"v\", \"showlegend\": true, \"textposition\": \"auto\", \"type\": \"bar\", \"x\": [\"Positivos : Resumo do neg\\u00f3cio\", \"Positivos : Modelo de Neg\\u00f3cios\", \"Positivos : Indica\\u00e7\\u00f5es de Interface\", \"Positivos : Navega\\u00e7\\u00e3o na Ferramenta\", \"Positivos : Aspecto Visual\", \"Positivos : Exemplos\", \"Positivos : Perguntas\", \"Positivos : V\\u00eddeos\", \"Positivos : Gest\\u00e3o de Equipa\", \"Positivos : Acesso a recursos externos\", \"Negativos : Resumo do neg\\u00f3cio\", \"Negativos : Modelo de Neg\\u00f3cios\", \"Negativos : Indica\\u00e7\\u00f5es de Interface\", \"Negativos : Navega\\u00e7\\u00e3o na Ferramenta\", \"Negativos : Aspecto Visual\", \"Negativos : Exemplos\", \"Negativos : Perguntas\", \"Negativos : V\\u00eddeos\", \"Negativos : Gest\\u00e3o de Equipa\", \"Negativos : Acesso a recursos externos\"], \"xaxis\": \"x\", \"y\": [0.005263157894736842, 0.5631578947368421, 0.10526315789473684, 0.4631578947368421, 0.3736842105263158, 0.3473684210526316, 0.18947368421052632, 0.2894736842105263, 0.13157894736842105, 0.05789473684210526, 0.0, 0.13157894736842105, 0.2842105263157895, 0.23157894736842105, 0.18947368421052632, 0.2, 0.22105263157894736, 0.1263157894736842, 0.21578947368421053, 0.4105263157894737], \"yaxis\": \"y\"}, {\"alignmentgroup\": \"True\", \"hovertemplate\": \"<b>%{hovertext}</b><br><br>Year=2020<br>Questao=%{x}<br>Percentage=%{y}<extra></extra>\", \"hovertext\": [\"Resumo do neg\\u00f3cio\", \"Modelo de Neg\\u00f3cios\", \"Indica\\u00e7\\u00f5es de Interface\", \"Navega\\u00e7\\u00e3o na Ferramenta\", \"Aspecto Visual\", \"Exemplos\", \"Perguntas\", \"V\\u00eddeos\", \"Gest\\u00e3o de Equipa\", \"Acesso a recursos externos\", \"Resumo do neg\\u00f3cio\", \"Modelo de Neg\\u00f3cios\", \"Indica\\u00e7\\u00f5es de Interface\", \"Navega\\u00e7\\u00e3o na Ferramenta\", \"Aspecto Visual\", \"Exemplos\", \"Perguntas\", \"V\\u00eddeos\", \"Gest\\u00e3o de Equipa\", \"Acesso a recursos externos\"], \"legendgroup\": \"2020\", \"marker\": {\"color\": \"#FF6692\"}, \"name\": \"2020\", \"offsetgroup\": \"2020\", \"orientation\": \"v\", \"showlegend\": true, \"textposition\": \"auto\", \"type\": \"bar\", \"x\": [\"Positivos : Resumo do neg\\u00f3cio\", \"Positivos : Modelo de Neg\\u00f3cios\", \"Positivos : Indica\\u00e7\\u00f5es de Interface\", \"Positivos : Navega\\u00e7\\u00e3o na Ferramenta\", \"Positivos : Aspecto Visual\", \"Positivos : Exemplos\", \"Positivos : Perguntas\", \"Positivos : V\\u00eddeos\", \"Positivos : Gest\\u00e3o de Equipa\", \"Positivos : Acesso a recursos externos\", \"Negativos : Resumo do neg\\u00f3cio\", \"Negativos : Modelo de Neg\\u00f3cios\", \"Negativos : Indica\\u00e7\\u00f5es de Interface\", \"Negativos : Navega\\u00e7\\u00e3o na Ferramenta\", \"Negativos : Aspecto Visual\", \"Negativos : Exemplos\", \"Negativos : Perguntas\", \"Negativos : V\\u00eddeos\", \"Negativos : Gest\\u00e3o de Equipa\", \"Negativos : Acesso a recursos externos\"], \"xaxis\": \"x\", \"y\": [0.0, 0.5909090909090909, 0.09848484848484848, 0.3636363636363637, 0.3257575757575757, 0.3484848484848485, 0.18181818181818185, 0.3939393939393939, 0.13636363636363635, 0.11363636363636365, 0.0, 0.09848484848484848, 0.26515151515151514, 0.3409090909090909, 0.20454545454545456, 0.14393939393939395, 0.20454545454545456, 0.10606060606060606, 0.1893939393939394, 0.2803030303030303], \"yaxis\": \"y\"}],                        {\"autosize\": false, \"barmode\": \"group\", \"legend\": {\"title\": {\"text\": \"Year\"}, \"tracegroupgap\": 0}, \"margin\": {\"t\": 60}, \"template\": {\"data\": {\"bar\": [{\"error_x\": {\"color\": \"#2a3f5f\"}, \"error_y\": {\"color\": \"#2a3f5f\"}, \"marker\": {\"line\": {\"color\": \"#E5ECF6\", \"width\": 0.5}}, \"type\": \"bar\"}], \"barpolar\": [{\"marker\": {\"line\": {\"color\": \"#E5ECF6\", \"width\": 0.5}}, \"type\": \"barpolar\"}], \"carpet\": [{\"aaxis\": {\"endlinecolor\": \"#2a3f5f\", \"gridcolor\": \"white\", \"linecolor\": \"white\", \"minorgridcolor\": \"white\", \"startlinecolor\": \"#2a3f5f\"}, \"baxis\": {\"endlinecolor\": \"#2a3f5f\", \"gridcolor\": \"white\", \"linecolor\": \"white\", \"minorgridcolor\": \"white\", \"startlinecolor\": \"#2a3f5f\"}, \"type\": \"carpet\"}], \"choropleth\": [{\"colorbar\": {\"outlinewidth\": 0, \"ticks\": \"\"}, \"type\": \"choropleth\"}], \"contour\": [{\"colorbar\": {\"outlinewidth\": 0, \"ticks\": \"\"}, \"colorscale\": [[0.0, \"#0d0887\"], [0.1111111111111111, \"#46039f\"], [0.2222222222222222, \"#7201a8\"], [0.3333333333333333, \"#9c179e\"], [0.4444444444444444, \"#bd3786\"], [0.5555555555555556, \"#d8576b\"], [0.6666666666666666, \"#ed7953\"], [0.7777777777777778, \"#fb9f3a\"], [0.8888888888888888, \"#fdca26\"], [1.0, \"#f0f921\"]], \"type\": \"contour\"}], \"contourcarpet\": [{\"colorbar\": {\"outlinewidth\": 0, \"ticks\": \"\"}, \"type\": \"contourcarpet\"}], \"heatmap\": [{\"colorbar\": {\"outlinewidth\": 0, \"ticks\": \"\"}, \"colorscale\": [[0.0, \"#0d0887\"], [0.1111111111111111, \"#46039f\"], [0.2222222222222222, \"#7201a8\"], [0.3333333333333333, \"#9c179e\"], [0.4444444444444444, \"#bd3786\"], [0.5555555555555556, \"#d8576b\"], [0.6666666666666666, \"#ed7953\"], [0.7777777777777778, \"#fb9f3a\"], [0.8888888888888888, \"#fdca26\"], [1.0, \"#f0f921\"]], \"type\": \"heatmap\"}], \"heatmapgl\": [{\"colorbar\": {\"outlinewidth\": 0, \"ticks\": \"\"}, \"colorscale\": [[0.0, \"#0d0887\"], [0.1111111111111111, \"#46039f\"], [0.2222222222222222, \"#7201a8\"], [0.3333333333333333, \"#9c179e\"], [0.4444444444444444, \"#bd3786\"], [0.5555555555555556, \"#d8576b\"], [0.6666666666666666, \"#ed7953\"], [0.7777777777777778, \"#fb9f3a\"], [0.8888888888888888, \"#fdca26\"], [1.0, \"#f0f921\"]], \"type\": \"heatmapgl\"}], \"histogram\": [{\"marker\": {\"colorbar\": {\"outlinewidth\": 0, \"ticks\": \"\"}}, \"type\": \"histogram\"}], \"histogram2d\": [{\"colorbar\": {\"outlinewidth\": 0, \"ticks\": \"\"}, \"colorscale\": [[0.0, \"#0d0887\"], [0.1111111111111111, \"#46039f\"], [0.2222222222222222, \"#7201a8\"], [0.3333333333333333, \"#9c179e\"], [0.4444444444444444, \"#bd3786\"], [0.5555555555555556, \"#d8576b\"], [0.6666666666666666, \"#ed7953\"], [0.7777777777777778, \"#fb9f3a\"], [0.8888888888888888, \"#fdca26\"], [1.0, \"#f0f921\"]], \"type\": \"histogram2d\"}], \"histogram2dcontour\": [{\"colorbar\": {\"outlinewidth\": 0, \"ticks\": \"\"}, \"colorscale\": [[0.0, \"#0d0887\"], [0.1111111111111111, \"#46039f\"], [0.2222222222222222, \"#7201a8\"], [0.3333333333333333, \"#9c179e\"], [0.4444444444444444, \"#bd3786\"], [0.5555555555555556, \"#d8576b\"], [0.6666666666666666, \"#ed7953\"], [0.7777777777777778, \"#fb9f3a\"], [0.8888888888888888, \"#fdca26\"], [1.0, \"#f0f921\"]], \"type\": \"histogram2dcontour\"}], \"mesh3d\": [{\"colorbar\": {\"outlinewidth\": 0, \"ticks\": \"\"}, \"type\": \"mesh3d\"}], \"parcoords\": [{\"line\": {\"colorbar\": {\"outlinewidth\": 0, \"ticks\": \"\"}}, \"type\": \"parcoords\"}], \"pie\": [{\"automargin\": true, \"type\": \"pie\"}], \"scatter\": [{\"marker\": {\"colorbar\": {\"outlinewidth\": 0, \"ticks\": \"\"}}, \"type\": \"scatter\"}], \"scatter3d\": [{\"line\": {\"colorbar\": {\"outlinewidth\": 0, \"ticks\": \"\"}}, \"marker\": {\"colorbar\": {\"outlinewidth\": 0, \"ticks\": \"\"}}, \"type\": \"scatter3d\"}], \"scattercarpet\": [{\"marker\": {\"colorbar\": {\"outlinewidth\": 0, \"ticks\": \"\"}}, \"type\": \"scattercarpet\"}], \"scattergeo\": [{\"marker\": {\"colorbar\": {\"outlinewidth\": 0, \"ticks\": \"\"}}, \"type\": \"scattergeo\"}], \"scattergl\": [{\"marker\": {\"colorbar\": {\"outlinewidth\": 0, \"ticks\": \"\"}}, \"type\": \"scattergl\"}], \"scattermapbox\": [{\"marker\": {\"colorbar\": {\"outlinewidth\": 0, \"ticks\": \"\"}}, \"type\": \"scattermapbox\"}], \"scatterpolar\": [{\"marker\": {\"colorbar\": {\"outlinewidth\": 0, \"ticks\": \"\"}}, \"type\": \"scatterpolar\"}], \"scatterpolargl\": [{\"marker\": {\"colorbar\": {\"outlinewidth\": 0, \"ticks\": \"\"}}, \"type\": \"scatterpolargl\"}], \"scatterternary\": [{\"marker\": {\"colorbar\": {\"outlinewidth\": 0, \"ticks\": \"\"}}, \"type\": \"scatterternary\"}], \"surface\": [{\"colorbar\": {\"outlinewidth\": 0, \"ticks\": \"\"}, \"colorscale\": [[0.0, \"#0d0887\"], [0.1111111111111111, \"#46039f\"], [0.2222222222222222, \"#7201a8\"], [0.3333333333333333, \"#9c179e\"], [0.4444444444444444, \"#bd3786\"], [0.5555555555555556, \"#d8576b\"], [0.6666666666666666, \"#ed7953\"], [0.7777777777777778, \"#fb9f3a\"], [0.8888888888888888, \"#fdca26\"], [1.0, \"#f0f921\"]], \"type\": \"surface\"}], \"table\": [{\"cells\": {\"fill\": {\"color\": \"#EBF0F8\"}, \"line\": {\"color\": \"white\"}}, \"header\": {\"fill\": {\"color\": \"#C8D4E3\"}, \"line\": {\"color\": \"white\"}}, \"type\": \"table\"}]}, \"layout\": {\"annotationdefaults\": {\"arrowcolor\": \"#2a3f5f\", \"arrowhead\": 0, \"arrowwidth\": 1}, \"coloraxis\": {\"colorbar\": {\"outlinewidth\": 0, \"ticks\": \"\"}}, \"colorscale\": {\"diverging\": [[0, \"#8e0152\"], [0.1, \"#c51b7d\"], [0.2, \"#de77ae\"], [0.3, \"#f1b6da\"], [0.4, \"#fde0ef\"], [0.5, \"#f7f7f7\"], [0.6, \"#e6f5d0\"], [0.7, \"#b8e186\"], [0.8, \"#7fbc41\"], [0.9, \"#4d9221\"], [1, \"#276419\"]], \"sequential\": [[0.0, \"#0d0887\"], [0.1111111111111111, \"#46039f\"], [0.2222222222222222, \"#7201a8\"], [0.3333333333333333, \"#9c179e\"], [0.4444444444444444, \"#bd3786\"], [0.5555555555555556, \"#d8576b\"], [0.6666666666666666, \"#ed7953\"], [0.7777777777777778, \"#fb9f3a\"], [0.8888888888888888, \"#fdca26\"], [1.0, \"#f0f921\"]], \"sequentialminus\": [[0.0, \"#0d0887\"], [0.1111111111111111, \"#46039f\"], [0.2222222222222222, \"#7201a8\"], [0.3333333333333333, \"#9c179e\"], [0.4444444444444444, \"#bd3786\"], [0.5555555555555556, \"#d8576b\"], [0.6666666666666666, \"#ed7953\"], [0.7777777777777778, \"#fb9f3a\"], [0.8888888888888888, \"#fdca26\"], [1.0, \"#f0f921\"]]}, \"colorway\": [\"#636efa\", \"#EF553B\", \"#00cc96\", \"#ab63fa\", \"#FFA15A\", \"#19d3f3\", \"#FF6692\", \"#B6E880\", \"#FF97FF\", \"#FECB52\"], \"font\": {\"color\": \"#2a3f5f\"}, \"geo\": {\"bgcolor\": \"white\", \"lakecolor\": \"white\", \"landcolor\": \"#E5ECF6\", \"showlakes\": true, \"showland\": true, \"subunitcolor\": \"white\"}, \"hoverlabel\": {\"align\": \"left\"}, \"hovermode\": \"closest\", \"mapbox\": {\"style\": \"light\"}, \"paper_bgcolor\": \"white\", \"plot_bgcolor\": \"#E5ECF6\", \"polar\": {\"angularaxis\": {\"gridcolor\": \"white\", \"linecolor\": \"white\", \"ticks\": \"\"}, \"bgcolor\": \"#E5ECF6\", \"radialaxis\": {\"gridcolor\": \"white\", \"linecolor\": \"white\", \"ticks\": \"\"}}, \"scene\": {\"xaxis\": {\"backgroundcolor\": \"#E5ECF6\", \"gridcolor\": \"white\", \"gridwidth\": 2, \"linecolor\": \"white\", \"showbackground\": true, \"ticks\": \"\", \"zerolinecolor\": \"white\"}, \"yaxis\": {\"backgroundcolor\": \"#E5ECF6\", \"gridcolor\": \"white\", \"gridwidth\": 2, \"linecolor\": \"white\", \"showbackground\": true, \"ticks\": \"\", \"zerolinecolor\": \"white\"}, \"zaxis\": {\"backgroundcolor\": \"#E5ECF6\", \"gridcolor\": \"white\", \"gridwidth\": 2, \"linecolor\": \"white\", \"showbackground\": true, \"ticks\": \"\", \"zerolinecolor\": \"white\"}}, \"shapedefaults\": {\"line\": {\"color\": \"#2a3f5f\"}}, \"ternary\": {\"aaxis\": {\"gridcolor\": \"white\", \"linecolor\": \"white\", \"ticks\": \"\"}, \"baxis\": {\"gridcolor\": \"white\", \"linecolor\": \"white\", \"ticks\": \"\"}, \"bgcolor\": \"#E5ECF6\", \"caxis\": {\"gridcolor\": \"white\", \"linecolor\": \"white\", \"ticks\": \"\"}}, \"title\": {\"x\": 0.05}, \"xaxis\": {\"automargin\": true, \"gridcolor\": \"white\", \"linecolor\": \"white\", \"ticks\": \"\", \"title\": {\"standoff\": 15}, \"zerolinecolor\": \"white\", \"zerolinewidth\": 2}, \"yaxis\": {\"automargin\": true, \"gridcolor\": \"white\", \"linecolor\": \"white\", \"ticks\": \"\", \"title\": {\"standoff\": 15}, \"zerolinecolor\": \"white\", \"zerolinewidth\": 2}}}, \"title\": {\"text\": \"Positive/Negative Features  - 2018/2019\"}, \"width\": 1000, \"xaxis\": {\"anchor\": \"y\", \"domain\": [0.0, 1.0], \"title\": {\"text\": \"Questao\"}, \"type\": \"category\"}, \"yaxis\": {\"anchor\": \"x\", \"domain\": [0.0, 1.0], \"range\": [0, 0.8], \"title\": {\"text\": \"Percentage\"}}},                        {\"responsive\": true}                    ).then(function(){\n",
       "                            \n",
       "var gd = document.getElementById('fa394c1f-445e-4d41-a638-464ff050b2c3');\n",
       "var x = new MutationObserver(function (mutations, observer) {{\n",
       "        var display = window.getComputedStyle(gd).display;\n",
       "        if (!display || display === 'none') {{\n",
       "            console.log([gd, 'removed!']);\n",
       "            Plotly.purge(gd);\n",
       "            observer.disconnect();\n",
       "        }}\n",
       "}});\n",
       "\n",
       "// Listen for the removal of the full notebook cells\n",
       "var notebookContainer = gd.closest('#notebook-container');\n",
       "if (notebookContainer) {{\n",
       "    x.observe(notebookContainer, {childList: true});\n",
       "}}\n",
       "\n",
       "// Listen for the clearing of the current output cell\n",
       "var outputEl = gd.closest('.output');\n",
       "if (outputEl) {{\n",
       "    x.observe(outputEl, {childList: true});\n",
       "}}\n",
       "\n",
       "                        })                };                });            </script>        </div>"
      ]
     },
     "metadata": {},
     "output_type": "display_data"
    }
   ],
   "source": [
    "import plotly_express as px\n",
    "\n",
    "fig = px.bar(PosNegOverYears, x=\"Questao\", y=\"Percentage\", color='Year', barmode='group',\n",
    "             hover_name='Question', range_y=[0,0.8])\n",
    "fig.update_layout(title_text='Positive/Negative Features  - 2018/2019')\n",
    "fig.update_layout(xaxis_type='category')\n",
    "fig.update_layout(autosize=False, width= 1000)\n",
    "\n",
    "fig.show()\n",
    "fig.write_image('Outputs/YearlyAverage/PosNegOverYears.png')"
   ]
  },
  {
   "cell_type": "code",
   "execution_count": 38,
   "metadata": {},
   "outputs": [
    {
     "data": {
      "image/png": "[encoded data removed]",
      "text/plain": [
       "<IPython.core.display.Image object>"
      ]
     },
     "execution_count": 38,
     "metadata": {},
     "output_type": "execute_result"
    }
   ],
   "source": [
    "from IPython.display import Image\n",
    "Image(filename='Outputs/YearlyAverage/PosNegOverYears.png')\n",
    "\n"
   ]
  },
  {
   "cell_type": "code",
   "execution_count": null,
   "metadata": {},
   "outputs": [],
   "source": []
  },
  {
   "cell_type": "code",
   "execution_count": 39,
   "metadata": {},
   "outputs": [
    {
     "data": {
      "text/html": [
       "<div>\n",
       "<style scoped>\n",
       "    .dataframe tbody tr th:only-of-type {\n",
       "        vertical-align: middle;\n",
       "    }\n",
       "\n",
       "    .dataframe tbody tr th {\n",
       "        vertical-align: top;\n",
       "    }\n",
       "\n",
       "    .dataframe thead th {\n",
       "        text-align: right;\n",
       "    }\n",
       "</style>\n",
       "<table border=\"1\" class=\"dataframe\">\n",
       "  <thead>\n",
       "    <tr style=\"text-align: right;\">\n",
       "      <th></th>\n",
       "      <th>Question</th>\n",
       "      <th>Counts</th>\n",
       "      <th>Year</th>\n",
       "      <th>population</th>\n",
       "      <th>Percentage</th>\n",
       "      <th>P/N</th>\n",
       "      <th>Questao</th>\n",
       "    </tr>\n",
       "  </thead>\n",
       "  <tbody>\n",
       "    <tr>\n",
       "      <th>0</th>\n",
       "      <td>Aspecto Visual</td>\n",
       "      <td>906</td>\n",
       "      <td>2014</td>\n",
       "      <td>1550</td>\n",
       "      <td>0.584516</td>\n",
       "      <td>Positivos</td>\n",
       "      <td>Positivos : Aspecto Visual</td>\n",
       "    </tr>\n",
       "    <tr>\n",
       "      <th>1</th>\n",
       "      <td>Navegação na Ferramenta</td>\n",
       "      <td>890</td>\n",
       "      <td>2014</td>\n",
       "      <td>1550</td>\n",
       "      <td>0.574194</td>\n",
       "      <td>Positivos</td>\n",
       "      <td>Positivos : Navegação na Ferramenta</td>\n",
       "    </tr>\n",
       "    <tr>\n",
       "      <th>2</th>\n",
       "      <td>Perguntas</td>\n",
       "      <td>516</td>\n",
       "      <td>2014</td>\n",
       "      <td>1550</td>\n",
       "      <td>0.332903</td>\n",
       "      <td>Positivos</td>\n",
       "      <td>Positivos : Perguntas</td>\n",
       "    </tr>\n",
       "    <tr>\n",
       "      <th>3</th>\n",
       "      <td>Exemplos</td>\n",
       "      <td>668</td>\n",
       "      <td>2014</td>\n",
       "      <td>1550</td>\n",
       "      <td>0.430968</td>\n",
       "      <td>Positivos</td>\n",
       "      <td>Positivos : Exemplos</td>\n",
       "    </tr>\n",
       "    <tr>\n",
       "      <th>4</th>\n",
       "      <td>Vídeos</td>\n",
       "      <td>252</td>\n",
       "      <td>2014</td>\n",
       "      <td>1550</td>\n",
       "      <td>0.162581</td>\n",
       "      <td>Positivos</td>\n",
       "      <td>Positivos : Vídeos</td>\n",
       "    </tr>\n",
       "    <tr>\n",
       "      <th>...</th>\n",
       "      <td>...</td>\n",
       "      <td>...</td>\n",
       "      <td>...</td>\n",
       "      <td>...</td>\n",
       "      <td>...</td>\n",
       "      <td>...</td>\n",
       "      <td>...</td>\n",
       "    </tr>\n",
       "    <tr>\n",
       "      <th>129</th>\n",
       "      <td>Exemplos</td>\n",
       "      <td>46</td>\n",
       "      <td>2020</td>\n",
       "      <td>132</td>\n",
       "      <td>0.348485</td>\n",
       "      <td>Positivos</td>\n",
       "      <td>Positivos : Exemplos</td>\n",
       "    </tr>\n",
       "    <tr>\n",
       "      <th>130</th>\n",
       "      <td>Perguntas</td>\n",
       "      <td>24</td>\n",
       "      <td>2020</td>\n",
       "      <td>132</td>\n",
       "      <td>0.181818</td>\n",
       "      <td>Positivos</td>\n",
       "      <td>Positivos : Perguntas</td>\n",
       "    </tr>\n",
       "    <tr>\n",
       "      <th>131</th>\n",
       "      <td>Vídeos</td>\n",
       "      <td>52</td>\n",
       "      <td>2020</td>\n",
       "      <td>132</td>\n",
       "      <td>0.393939</td>\n",
       "      <td>Positivos</td>\n",
       "      <td>Positivos : Vídeos</td>\n",
       "    </tr>\n",
       "    <tr>\n",
       "      <th>132</th>\n",
       "      <td>Gestão de Equipa</td>\n",
       "      <td>18</td>\n",
       "      <td>2020</td>\n",
       "      <td>132</td>\n",
       "      <td>0.136364</td>\n",
       "      <td>Positivos</td>\n",
       "      <td>Positivos : Gestão de Equipa</td>\n",
       "    </tr>\n",
       "    <tr>\n",
       "      <th>133</th>\n",
       "      <td>Acesso a recursos externos</td>\n",
       "      <td>15</td>\n",
       "      <td>2020</td>\n",
       "      <td>132</td>\n",
       "      <td>0.113636</td>\n",
       "      <td>Positivos</td>\n",
       "      <td>Positivos : Acesso a recursos externos</td>\n",
       "    </tr>\n",
       "  </tbody>\n",
       "</table>\n",
       "<p>72 rows × 7 columns</p>\n",
       "</div>"
      ],
      "text/plain": [
       "                       Question  Counts  Year  population  Percentage  \\\n",
       "0                Aspecto Visual     906  2014        1550    0.584516   \n",
       "1       Navegação na Ferramenta     890  2014        1550    0.574194   \n",
       "2                     Perguntas     516  2014        1550    0.332903   \n",
       "3                      Exemplos     668  2014        1550    0.430968   \n",
       "4                        Vídeos     252  2014        1550    0.162581   \n",
       "..                          ...     ...   ...         ...         ...   \n",
       "129                    Exemplos      46  2020         132    0.348485   \n",
       "130                   Perguntas      24  2020         132    0.181818   \n",
       "131                      Vídeos      52  2020         132    0.393939   \n",
       "132            Gestão de Equipa      18  2020         132    0.136364   \n",
       "133  Acesso a recursos externos      15  2020         132    0.113636   \n",
       "\n",
       "           P/N                                 Questao  \n",
       "0    Positivos              Positivos : Aspecto Visual  \n",
       "1    Positivos     Positivos : Navegação na Ferramenta  \n",
       "2    Positivos                   Positivos : Perguntas  \n",
       "3    Positivos                    Positivos : Exemplos  \n",
       "4    Positivos                      Positivos : Vídeos  \n",
       "..         ...                                     ...  \n",
       "129  Positivos                    Positivos : Exemplos  \n",
       "130  Positivos                   Positivos : Perguntas  \n",
       "131  Positivos                      Positivos : Vídeos  \n",
       "132  Positivos            Positivos : Gestão de Equipa  \n",
       "133  Positivos  Positivos : Acesso a recursos externos  \n",
       "\n",
       "[72 rows x 7 columns]"
      ]
     },
     "execution_count": 39,
     "metadata": {},
     "output_type": "execute_result"
    }
   ],
   "source": [
    "PosOverYears"
   ]
  },
  {
   "cell_type": "code",
   "execution_count": 40,
   "metadata": {},
   "outputs": [
    {
     "data": {
      "application/vnd.plotly.v1+json": {
       "config": {
        "plotlyServerURL": "https://plot.ly"
       },
       "data": [
        {
         "alignmentgroup": "True",
         "hovertemplate": "<b>%{hovertext}</b><br><br>Year=2014<br>Question=%{x}<br>Percentage=%{y}<extra></extra>",
         "hovertext": [
          "Aspecto Visual",
          "Navegação na Ferramenta",
          "Perguntas",
          "Exemplos",
          "Vídeos",
          "Modelo de Negócios",
          "Indicações de Interface",
          "Mural de Equipa",
          "Gestão de Equipa",
          "Gestão de Projectos",
          "Acesso a recursos externos"
         ],
         "legendgroup": "2014",
         "marker": {
          "color": "#636efa"
         },
         "name": "2014",
         "offsetgroup": "2014",
         "orientation": "v",
         "showlegend": true,
         "textposition": "auto",
         "type": "bar",
         "x": [
          "Aspecto Visual",
          "Navegação na Ferramenta",
          "Perguntas",
          "Exemplos",
          "Vídeos",
          "Modelo de Negócios",
          "Indicações de Interface",
          "Mural de Equipa",
          "Gestão de Equipa",
          "Gestão de Projectos",
          "Acesso a recursos externos"
         ],
         "xaxis": "x",
         "y": [
          0.5845161290322579,
          0.5741935483870968,
          0.3329032258064516,
          0.4309677419354839,
          0.1625806451612903,
          0.3825806451612903,
          0.12322580645161292,
          0.04387096774193548,
          0.035483870967741936,
          0.2806451612903226,
          0.029677419354838714
         ],
         "yaxis": "y"
        },
        {
         "alignmentgroup": "True",
         "hovertemplate": "<b>%{hovertext}</b><br><br>Year=2015<br>Question=%{x}<br>Percentage=%{y}<extra></extra>",
         "hovertext": [
          "Aspecto Visual",
          "Navegação na Ferramenta",
          "Perguntas",
          "Exemplos",
          "Vídeos",
          "Modelo de Negócios",
          "Indicações de Interface",
          "Mural de Equipa",
          "Gestão de Equipa",
          "Gestão de Projectos",
          "Acesso a recursos externos"
         ],
         "legendgroup": "2015",
         "marker": {
          "color": "#EF553B"
         },
         "name": "2015",
         "offsetgroup": "2015",
         "orientation": "v",
         "showlegend": true,
         "textposition": "auto",
         "type": "bar",
         "x": [
          "Aspecto Visual",
          "Navegação na Ferramenta",
          "Perguntas",
          "Exemplos",
          "Vídeos",
          "Modelo de Negócios",
          "Indicações de Interface",
          "Mural de Equipa",
          "Gestão de Equipa",
          "Gestão de Projectos",
          "Acesso a recursos externos"
         ],
         "xaxis": "x",
         "y": [
          0.4090909090909091,
          0.5,
          0.17045454545454544,
          0.2840909090909091,
          0.3636363636363637,
          0.5340909090909091,
          0.125,
          0.045454545454545456,
          0.045454545454545456,
          0.4318181818181818,
          0.022727272727272728
         ],
         "yaxis": "y"
        },
        {
         "alignmentgroup": "True",
         "hovertemplate": "<b>%{hovertext}</b><br><br>Year=2016<br>Question=%{x}<br>Percentage=%{y}<extra></extra>",
         "hovertext": [
          "Aspecto Visual",
          "Navegação na Ferramenta",
          "Perguntas",
          "Exemplos",
          "Vídeos",
          "Modelo de Negócios",
          "Indicações de Interface",
          "Mural de Equipa",
          "Gestão de Equipa",
          "Gestão de Projectos"
         ],
         "legendgroup": "2016",
         "marker": {
          "color": "#00cc96"
         },
         "name": "2016",
         "offsetgroup": "2016",
         "orientation": "v",
         "showlegend": true,
         "textposition": "auto",
         "type": "bar",
         "x": [
          "Aspecto Visual",
          "Navegação na Ferramenta",
          "Perguntas",
          "Exemplos",
          "Vídeos",
          "Modelo de Negócios",
          "Indicações de Interface",
          "Mural de Equipa",
          "Gestão de Equipa",
          "Gestão de Projectos"
         ],
         "xaxis": "x",
         "y": [
          0.4297188755020081,
          0.4738955823293173,
          0.2329317269076305,
          0.3694779116465863,
          0.3614457831325301,
          0.5180722891566265,
          0.1686746987951807,
          0.0642570281124498,
          0.10843373493975904,
          0.3373493975903614
         ],
         "yaxis": "y"
        },
        {
         "alignmentgroup": "True",
         "hovertemplate": "<b>%{hovertext}</b><br><br>Year=2017<br>Question=%{x}<br>Percentage=%{y}<extra></extra>",
         "hovertext": [
          "Aspecto Visual",
          "Navegação na Ferramenta",
          "Perguntas",
          "Exemplos",
          "Vídeos",
          "Modelo de Negócios",
          "Indicações de Interface",
          "Mural de Equipa",
          "Gestão de Equipa",
          "Gestão de Projectos"
         ],
         "legendgroup": "2017",
         "marker": {
          "color": "#ab63fa"
         },
         "name": "2017",
         "offsetgroup": "2017",
         "orientation": "v",
         "showlegend": true,
         "textposition": "auto",
         "type": "bar",
         "x": [
          "Aspecto Visual",
          "Navegação na Ferramenta",
          "Perguntas",
          "Exemplos",
          "Vídeos",
          "Modelo de Negócios",
          "Indicações de Interface",
          "Mural de Equipa",
          "Gestão de Equipa",
          "Gestão de Projectos"
         ],
         "xaxis": "x",
         "y": [
          0.5113122171945701,
          0.6108597285067874,
          0.25339366515837103,
          0.4343891402714932,
          0.6176470588235294,
          0.5542986425339367,
          0.2420814479638009,
          0.052036199095022634,
          0.10407239819004524,
          0.3981900452488688
         ],
         "yaxis": "y"
        },
        {
         "alignmentgroup": "True",
         "hovertemplate": "<b>%{hovertext}</b><br><br>Year=2018<br>Question=%{x}<br>Percentage=%{y}<extra></extra>",
         "hovertext": [
          "Aspecto Visual",
          "Navegação na Ferramenta",
          "Perguntas",
          "Exemplos",
          "Vídeos",
          "Modelo de Negócios",
          "Indicações de Interface",
          "Mural de Equipa",
          "Gestão de Equipa",
          "Gestão de Projectos"
         ],
         "legendgroup": "2018",
         "marker": {
          "color": "#FFA15A"
         },
         "name": "2018",
         "offsetgroup": "2018",
         "orientation": "v",
         "showlegend": true,
         "textposition": "auto",
         "type": "bar",
         "x": [
          "Aspecto Visual",
          "Navegação na Ferramenta",
          "Perguntas",
          "Exemplos",
          "Vídeos",
          "Modelo de Negócios",
          "Indicações de Interface",
          "Mural de Equipa",
          "Gestão de Equipa",
          "Gestão de Projectos"
         ],
         "xaxis": "x",
         "y": [
          0.5287356321839081,
          0.603448275862069,
          0.27011494252873564,
          0.4160919540229885,
          0.467816091954023,
          0.5494252873563218,
          0.2367816091954023,
          0.04367816091954023,
          0.11149425287356322,
          0.3402298850574713
         ],
         "yaxis": "y"
        },
        {
         "alignmentgroup": "True",
         "hovertemplate": "<b>%{hovertext}</b><br><br>Year=2019<br>Question=%{x}<br>Percentage=%{y}<extra></extra>",
         "hovertext": [
          "Resumo do negócio",
          "Modelo de Negócios",
          "Indicações de Interface",
          "Navegação na Ferramenta",
          "Aspecto Visual",
          "Exemplos",
          "Perguntas",
          "Vídeos",
          "Gestão de Equipa",
          "Acesso a recursos externos"
         ],
         "legendgroup": "2019",
         "marker": {
          "color": "#19d3f3"
         },
         "name": "2019",
         "offsetgroup": "2019",
         "orientation": "v",
         "showlegend": true,
         "textposition": "auto",
         "type": "bar",
         "x": [
          "Resumo do negócio",
          "Modelo de Negócios",
          "Indicações de Interface",
          "Navegação na Ferramenta",
          "Aspecto Visual",
          "Exemplos",
          "Perguntas",
          "Vídeos",
          "Gestão de Equipa",
          "Acesso a recursos externos"
         ],
         "xaxis": "x",
         "y": [
          0.005263157894736842,
          0.5631578947368421,
          0.10526315789473684,
          0.4631578947368421,
          0.3736842105263158,
          0.3473684210526316,
          0.18947368421052632,
          0.2894736842105263,
          0.13157894736842105,
          0.05789473684210526
         ],
         "yaxis": "y"
        },
        {
         "alignmentgroup": "True",
         "hovertemplate": "<b>%{hovertext}</b><br><br>Year=2020<br>Question=%{x}<br>Percentage=%{y}<extra></extra>",
         "hovertext": [
          "Resumo do negócio",
          "Modelo de Negócios",
          "Indicações de Interface",
          "Navegação na Ferramenta",
          "Aspecto Visual",
          "Exemplos",
          "Perguntas",
          "Vídeos",
          "Gestão de Equipa",
          "Acesso a recursos externos"
         ],
         "legendgroup": "2020",
         "marker": {
          "color": "#FF6692"
         },
         "name": "2020",
         "offsetgroup": "2020",
         "orientation": "v",
         "showlegend": true,
         "textposition": "auto",
         "type": "bar",
         "x": [
          "Resumo do negócio",
          "Modelo de Negócios",
          "Indicações de Interface",
          "Navegação na Ferramenta",
          "Aspecto Visual",
          "Exemplos",
          "Perguntas",
          "Vídeos",
          "Gestão de Equipa",
          "Acesso a recursos externos"
         ],
         "xaxis": "x",
         "y": [
          0,
          0.5909090909090909,
          0.09848484848484848,
          0.3636363636363637,
          0.3257575757575757,
          0.3484848484848485,
          0.18181818181818185,
          0.3939393939393939,
          0.13636363636363635,
          0.11363636363636365
         ],
         "yaxis": "y"
        }
       ],
       "layout": {
        "barmode": "group",
        "legend": {
         "title": {
          "text": "Year"
         },
         "tracegroupgap": 0
        },
        "margin": {
         "t": 60
        },
        "template": {
         "data": {
          "bar": [
           {
            "error_x": {
             "color": "#2a3f5f"
            },
            "error_y": {
             "color": "#2a3f5f"
            },
            "marker": {
             "line": {
              "color": "#E5ECF6",
              "width": 0.5
             }
            },
            "type": "bar"
           }
          ],
          "barpolar": [
           {
            "marker": {
             "line": {
              "color": "#E5ECF6",
              "width": 0.5
             }
            },
            "type": "barpolar"
           }
          ],
          "carpet": [
           {
            "aaxis": {
             "endlinecolor": "#2a3f5f",
             "gridcolor": "white",
             "linecolor": "white",
             "minorgridcolor": "white",
             "startlinecolor": "#2a3f5f"
            },
            "baxis": {
             "endlinecolor": "#2a3f5f",
             "gridcolor": "white",
             "linecolor": "white",
             "minorgridcolor": "white",
             "startlinecolor": "#2a3f5f"
            },
            "type": "carpet"
           }
          ],
          "choropleth": [
           {
            "colorbar": {
             "outlinewidth": 0,
             "ticks": ""
            },
            "type": "choropleth"
           }
          ],
          "contour": [
           {
            "colorbar": {
             "outlinewidth": 0,
             "ticks": ""
            },
            "colorscale": [
             [
              0,
              "#0d0887"
             ],
             [
              0.1111111111111111,
              "#46039f"
             ],
             [
              0.2222222222222222,
              "#7201a8"
             ],
             [
              0.3333333333333333,
              "#9c179e"
             ],
             [
              0.4444444444444444,
              "#bd3786"
             ],
             [
              0.5555555555555556,
              "#d8576b"
             ],
             [
              0.6666666666666666,
              "#ed7953"
             ],
             [
              0.7777777777777778,
              "#fb9f3a"
             ],
             [
              0.8888888888888888,
              "#fdca26"
             ],
             [
              1,
              "#f0f921"
             ]
            ],
            "type": "contour"
           }
          ],
          "contourcarpet": [
           {
            "colorbar": {
             "outlinewidth": 0,
             "ticks": ""
            },
            "type": "contourcarpet"
           }
          ],
          "heatmap": [
           {
            "colorbar": {
             "outlinewidth": 0,
             "ticks": ""
            },
            "colorscale": [
             [
              0,
              "#0d0887"
             ],
             [
              0.1111111111111111,
              "#46039f"
             ],
             [
              0.2222222222222222,
              "#7201a8"
             ],
             [
              0.3333333333333333,
              "#9c179e"
             ],
             [
              0.4444444444444444,
              "#bd3786"
             ],
             [
              0.5555555555555556,
              "#d8576b"
             ],
             [
              0.6666666666666666,
              "#ed7953"
             ],
             [
              0.7777777777777778,
              "#fb9f3a"
             ],
             [
              0.8888888888888888,
              "#fdca26"
             ],
             [
              1,
              "#f0f921"
             ]
            ],
            "type": "heatmap"
           }
          ],
          "heatmapgl": [
           {
            "colorbar": {
             "outlinewidth": 0,
             "ticks": ""
            },
            "colorscale": [
             [
              0,
              "#0d0887"
             ],
             [
              0.1111111111111111,
              "#46039f"
             ],
             [
              0.2222222222222222,
              "#7201a8"
             ],
             [
              0.3333333333333333,
              "#9c179e"
             ],
             [
              0.4444444444444444,
              "#bd3786"
             ],
             [
              0.5555555555555556,
              "#d8576b"
             ],
             [
              0.6666666666666666,
              "#ed7953"
             ],
             [
              0.7777777777777778,
              "#fb9f3a"
             ],
             [
              0.8888888888888888,
              "#fdca26"
             ],
             [
              1,
              "#f0f921"
             ]
            ],
            "type": "heatmapgl"
           }
          ],
          "histogram": [
           {
            "marker": {
             "colorbar": {
              "outlinewidth": 0,
              "ticks": ""
             }
            },
            "type": "histogram"
           }
          ],
          "histogram2d": [
           {
            "colorbar": {
             "outlinewidth": 0,
             "ticks": ""
            },
            "colorscale": [
             [
              0,
              "#0d0887"
             ],
             [
              0.1111111111111111,
              "#46039f"
             ],
             [
              0.2222222222222222,
              "#7201a8"
             ],
             [
              0.3333333333333333,
              "#9c179e"
             ],
             [
              0.4444444444444444,
              "#bd3786"
             ],
             [
              0.5555555555555556,
              "#d8576b"
             ],
             [
              0.6666666666666666,
              "#ed7953"
             ],
             [
              0.7777777777777778,
              "#fb9f3a"
             ],
             [
              0.8888888888888888,
              "#fdca26"
             ],
             [
              1,
              "#f0f921"
             ]
            ],
            "type": "histogram2d"
           }
          ],
          "histogram2dcontour": [
           {
            "colorbar": {
             "outlinewidth": 0,
             "ticks": ""
            },
            "colorscale": [
             [
              0,
              "#0d0887"
             ],
             [
              0.1111111111111111,
              "#46039f"
             ],
             [
              0.2222222222222222,
              "#7201a8"
             ],
             [
              0.3333333333333333,
              "#9c179e"
             ],
             [
              0.4444444444444444,
              "#bd3786"
             ],
             [
              0.5555555555555556,
              "#d8576b"
             ],
             [
              0.6666666666666666,
              "#ed7953"
             ],
             [
              0.7777777777777778,
              "#fb9f3a"
             ],
             [
              0.8888888888888888,
              "#fdca26"
             ],
             [
              1,
              "#f0f921"
             ]
            ],
            "type": "histogram2dcontour"
           }
          ],
          "mesh3d": [
           {
            "colorbar": {
             "outlinewidth": 0,
             "ticks": ""
            },
            "type": "mesh3d"
           }
          ],
          "parcoords": [
           {
            "line": {
             "colorbar": {
              "outlinewidth": 0,
              "ticks": ""
             }
            },
            "type": "parcoords"
           }
          ],
          "pie": [
           {
            "automargin": true,
            "type": "pie"
           }
          ],
          "scatter": [
           {
            "marker": {
             "colorbar": {
              "outlinewidth": 0,
              "ticks": ""
             }
            },
            "type": "scatter"
           }
          ],
          "scatter3d": [
           {
            "line": {
             "colorbar": {
              "outlinewidth": 0,
              "ticks": ""
             }
            },
            "marker": {
             "colorbar": {
              "outlinewidth": 0,
              "ticks": ""
             }
            },
            "type": "scatter3d"
           }
          ],
          "scattercarpet": [
           {
            "marker": {
             "colorbar": {
              "outlinewidth": 0,
              "ticks": ""
             }
            },
            "type": "scattercarpet"
           }
          ],
          "scattergeo": [
           {
            "marker": {
             "colorbar": {
              "outlinewidth": 0,
              "ticks": ""
             }
            },
            "type": "scattergeo"
           }
          ],
          "scattergl": [
           {
            "marker": {
             "colorbar": {
              "outlinewidth": 0,
              "ticks": ""
             }
            },
            "type": "scattergl"
           }
          ],
          "scattermapbox": [
           {
            "marker": {
             "colorbar": {
              "outlinewidth": 0,
              "ticks": ""
             }
            },
            "type": "scattermapbox"
           }
          ],
          "scatterpolar": [
           {
            "marker": {
             "colorbar": {
              "outlinewidth": 0,
              "ticks": ""
             }
            },
            "type": "scatterpolar"
           }
          ],
          "scatterpolargl": [
           {
            "marker": {
             "colorbar": {
              "outlinewidth": 0,
              "ticks": ""
             }
            },
            "type": "scatterpolargl"
           }
          ],
          "scatterternary": [
           {
            "marker": {
             "colorbar": {
              "outlinewidth": 0,
              "ticks": ""
             }
            },
            "type": "scatterternary"
           }
          ],
          "surface": [
           {
            "colorbar": {
             "outlinewidth": 0,
             "ticks": ""
            },
            "colorscale": [
             [
              0,
              "#0d0887"
             ],
             [
              0.1111111111111111,
              "#46039f"
             ],
             [
              0.2222222222222222,
              "#7201a8"
             ],
             [
              0.3333333333333333,
              "#9c179e"
             ],
             [
              0.4444444444444444,
              "#bd3786"
             ],
             [
              0.5555555555555556,
              "#d8576b"
             ],
             [
              0.6666666666666666,
              "#ed7953"
             ],
             [
              0.7777777777777778,
              "#fb9f3a"
             ],
             [
              0.8888888888888888,
              "#fdca26"
             ],
             [
              1,
              "#f0f921"
             ]
            ],
            "type": "surface"
           }
          ],
          "table": [
           {
            "cells": {
             "fill": {
              "color": "#EBF0F8"
             },
             "line": {
              "color": "white"
             }
            },
            "header": {
             "fill": {
              "color": "#C8D4E3"
             },
             "line": {
              "color": "white"
             }
            },
            "type": "table"
           }
          ]
         },
         "layout": {
          "annotationdefaults": {
           "arrowcolor": "#2a3f5f",
           "arrowhead": 0,
           "arrowwidth": 1
          },
          "coloraxis": {
           "colorbar": {
            "outlinewidth": 0,
            "ticks": ""
           }
          },
          "colorscale": {
           "diverging": [
            [
             0,
             "#8e0152"
            ],
            [
             0.1,
             "#c51b7d"
            ],
            [
             0.2,
             "#de77ae"
            ],
            [
             0.3,
             "#f1b6da"
            ],
            [
             0.4,
             "#fde0ef"
            ],
            [
             0.5,
             "#f7f7f7"
            ],
            [
             0.6,
             "#e6f5d0"
            ],
            [
             0.7,
             "#b8e186"
            ],
            [
             0.8,
             "#7fbc41"
            ],
            [
             0.9,
             "#4d9221"
            ],
            [
             1,
             "#276419"
            ]
           ],
           "sequential": [
            [
             0,
             "#0d0887"
            ],
            [
             0.1111111111111111,
             "#46039f"
            ],
            [
             0.2222222222222222,
             "#7201a8"
            ],
            [
             0.3333333333333333,
             "#9c179e"
            ],
            [
             0.4444444444444444,
             "#bd3786"
            ],
            [
             0.5555555555555556,
             "#d8576b"
            ],
            [
             0.6666666666666666,
             "#ed7953"
            ],
            [
             0.7777777777777778,
             "#fb9f3a"
            ],
            [
             0.8888888888888888,
             "#fdca26"
            ],
            [
             1,
             "#f0f921"
            ]
           ],
           "sequentialminus": [
            [
             0,
             "#0d0887"
            ],
            [
             0.1111111111111111,
             "#46039f"
            ],
            [
             0.2222222222222222,
             "#7201a8"
            ],
            [
             0.3333333333333333,
             "#9c179e"
            ],
            [
             0.4444444444444444,
             "#bd3786"
            ],
            [
             0.5555555555555556,
             "#d8576b"
            ],
            [
             0.6666666666666666,
             "#ed7953"
            ],
            [
             0.7777777777777778,
             "#fb9f3a"
            ],
            [
             0.8888888888888888,
             "#fdca26"
            ],
            [
             1,
             "#f0f921"
            ]
           ]
          },
          "colorway": [
           "#636efa",
           "#EF553B",
           "#00cc96",
           "#ab63fa",
           "#FFA15A",
           "#19d3f3",
           "#FF6692",
           "#B6E880",
           "#FF97FF",
           "#FECB52"
          ],
          "font": {
           "color": "#2a3f5f"
          },
          "geo": {
           "bgcolor": "white",
           "lakecolor": "white",
           "landcolor": "#E5ECF6",
           "showlakes": true,
           "showland": true,
           "subunitcolor": "white"
          },
          "hoverlabel": {
           "align": "left"
          },
          "hovermode": "closest",
          "mapbox": {
           "style": "light"
          },
          "paper_bgcolor": "white",
          "plot_bgcolor": "#E5ECF6",
          "polar": {
           "angularaxis": {
            "gridcolor": "white",
            "linecolor": "white",
            "ticks": ""
           },
           "bgcolor": "#E5ECF6",
           "radialaxis": {
            "gridcolor": "white",
            "linecolor": "white",
            "ticks": ""
           }
          },
          "scene": {
           "xaxis": {
            "backgroundcolor": "#E5ECF6",
            "gridcolor": "white",
            "gridwidth": 2,
            "linecolor": "white",
            "showbackground": true,
            "ticks": "",
            "zerolinecolor": "white"
           },
           "yaxis": {
            "backgroundcolor": "#E5ECF6",
            "gridcolor": "white",
            "gridwidth": 2,
            "linecolor": "white",
            "showbackground": true,
            "ticks": "",
            "zerolinecolor": "white"
           },
           "zaxis": {
            "backgroundcolor": "#E5ECF6",
            "gridcolor": "white",
            "gridwidth": 2,
            "linecolor": "white",
            "showbackground": true,
            "ticks": "",
            "zerolinecolor": "white"
           }
          },
          "shapedefaults": {
           "line": {
            "color": "#2a3f5f"
           }
          },
          "ternary": {
           "aaxis": {
            "gridcolor": "white",
            "linecolor": "white",
            "ticks": ""
           },
           "baxis": {
            "gridcolor": "white",
            "linecolor": "white",
            "ticks": ""
           },
           "bgcolor": "#E5ECF6",
           "caxis": {
            "gridcolor": "white",
            "linecolor": "white",
            "ticks": ""
           }
          },
          "title": {
           "x": 0.05
          },
          "xaxis": {
           "automargin": true,
           "gridcolor": "white",
           "linecolor": "white",
           "ticks": "",
           "title": {
            "standoff": 15
           },
           "zerolinecolor": "white",
           "zerolinewidth": 2
          },
          "yaxis": {
           "automargin": true,
           "gridcolor": "white",
           "linecolor": "white",
           "ticks": "",
           "title": {
            "standoff": 15
           },
           "zerolinecolor": "white",
           "zerolinewidth": 2
          }
         }
        },
        "title": {
         "text": "Positive Features Along the Years"
        },
        "xaxis": {
         "anchor": "y",
         "domain": [
          0,
          1
         ],
         "title": {
          "text": "Question"
         },
         "type": "category"
        },
        "yaxis": {
         "anchor": "x",
         "domain": [
          0,
          1
         ],
         "range": [
          0,
          0.8
         ],
         "title": {
          "text": "Percentage"
         }
        }
       }
      },
      "text/html": [
       "<div>                            <div id=\"1f2399c5-ff4f-496a-a41c-a2e10aed4068\" class=\"plotly-graph-div\" style=\"height:525px; width:100%;\"></div>            <script type=\"text/javascript\">                require([\"plotly\"], function(Plotly) {                    window.PLOTLYENV=window.PLOTLYENV || {};                                    if (document.getElementById(\"1f2399c5-ff4f-496a-a41c-a2e10aed4068\")) {                    Plotly.newPlot(                        \"1f2399c5-ff4f-496a-a41c-a2e10aed4068\",                        [{\"alignmentgroup\": \"True\", \"hovertemplate\": \"<b>%{hovertext}</b><br><br>Year=2014<br>Question=%{x}<br>Percentage=%{y}<extra></extra>\", \"hovertext\": [\"Aspecto Visual\", \"Navega\\u00e7\\u00e3o na Ferramenta\", \"Perguntas\", \"Exemplos\", \"V\\u00eddeos\", \"Modelo de Neg\\u00f3cios\", \"Indica\\u00e7\\u00f5es de Interface\", \"Mural de Equipa\", \"Gest\\u00e3o de Equipa\", \"Gest\\u00e3o de Projectos\", \"Acesso a recursos externos\"], \"legendgroup\": \"2014\", \"marker\": {\"color\": \"#636efa\"}, \"name\": \"2014\", \"offsetgroup\": \"2014\", \"orientation\": \"v\", \"showlegend\": true, \"textposition\": \"auto\", \"type\": \"bar\", \"x\": [\"Aspecto Visual\", \"Navega\\u00e7\\u00e3o na Ferramenta\", \"Perguntas\", \"Exemplos\", \"V\\u00eddeos\", \"Modelo de Neg\\u00f3cios\", \"Indica\\u00e7\\u00f5es de Interface\", \"Mural de Equipa\", \"Gest\\u00e3o de Equipa\", \"Gest\\u00e3o de Projectos\", \"Acesso a recursos externos\"], \"xaxis\": \"x\", \"y\": [0.5845161290322579, 0.5741935483870968, 0.3329032258064516, 0.4309677419354839, 0.1625806451612903, 0.3825806451612903, 0.12322580645161292, 0.04387096774193548, 0.035483870967741936, 0.2806451612903226, 0.029677419354838714], \"yaxis\": \"y\"}, {\"alignmentgroup\": \"True\", \"hovertemplate\": \"<b>%{hovertext}</b><br><br>Year=2015<br>Question=%{x}<br>Percentage=%{y}<extra></extra>\", \"hovertext\": [\"Aspecto Visual\", \"Navega\\u00e7\\u00e3o na Ferramenta\", \"Perguntas\", \"Exemplos\", \"V\\u00eddeos\", \"Modelo de Neg\\u00f3cios\", \"Indica\\u00e7\\u00f5es de Interface\", \"Mural de Equipa\", \"Gest\\u00e3o de Equipa\", \"Gest\\u00e3o de Projectos\", \"Acesso a recursos externos\"], \"legendgroup\": \"2015\", \"marker\": {\"color\": \"#EF553B\"}, \"name\": \"2015\", \"offsetgroup\": \"2015\", \"orientation\": \"v\", \"showlegend\": true, \"textposition\": \"auto\", \"type\": \"bar\", \"x\": [\"Aspecto Visual\", \"Navega\\u00e7\\u00e3o na Ferramenta\", \"Perguntas\", \"Exemplos\", \"V\\u00eddeos\", \"Modelo de Neg\\u00f3cios\", \"Indica\\u00e7\\u00f5es de Interface\", \"Mural de Equipa\", \"Gest\\u00e3o de Equipa\", \"Gest\\u00e3o de Projectos\", \"Acesso a recursos externos\"], \"xaxis\": \"x\", \"y\": [0.4090909090909091, 0.5, 0.17045454545454544, 0.2840909090909091, 0.3636363636363637, 0.5340909090909091, 0.125, 0.045454545454545456, 0.045454545454545456, 0.4318181818181818, 0.022727272727272728], \"yaxis\": \"y\"}, {\"alignmentgroup\": \"True\", \"hovertemplate\": \"<b>%{hovertext}</b><br><br>Year=2016<br>Question=%{x}<br>Percentage=%{y}<extra></extra>\", \"hovertext\": [\"Aspecto Visual\", \"Navega\\u00e7\\u00e3o na Ferramenta\", \"Perguntas\", \"Exemplos\", \"V\\u00eddeos\", \"Modelo de Neg\\u00f3cios\", \"Indica\\u00e7\\u00f5es de Interface\", \"Mural de Equipa\", \"Gest\\u00e3o de Equipa\", \"Gest\\u00e3o de Projectos\"], \"legendgroup\": \"2016\", \"marker\": {\"color\": \"#00cc96\"}, \"name\": \"2016\", \"offsetgroup\": \"2016\", \"orientation\": \"v\", \"showlegend\": true, \"textposition\": \"auto\", \"type\": \"bar\", \"x\": [\"Aspecto Visual\", \"Navega\\u00e7\\u00e3o na Ferramenta\", \"Perguntas\", \"Exemplos\", \"V\\u00eddeos\", \"Modelo de Neg\\u00f3cios\", \"Indica\\u00e7\\u00f5es de Interface\", \"Mural de Equipa\", \"Gest\\u00e3o de Equipa\", \"Gest\\u00e3o de Projectos\"], \"xaxis\": \"x\", \"y\": [0.4297188755020081, 0.4738955823293173, 0.2329317269076305, 0.3694779116465863, 0.3614457831325301, 0.5180722891566265, 0.1686746987951807, 0.0642570281124498, 0.10843373493975904, 0.3373493975903614], \"yaxis\": \"y\"}, {\"alignmentgroup\": \"True\", \"hovertemplate\": \"<b>%{hovertext}</b><br><br>Year=2017<br>Question=%{x}<br>Percentage=%{y}<extra></extra>\", \"hovertext\": [\"Aspecto Visual\", \"Navega\\u00e7\\u00e3o na Ferramenta\", \"Perguntas\", \"Exemplos\", \"V\\u00eddeos\", \"Modelo de Neg\\u00f3cios\", \"Indica\\u00e7\\u00f5es de Interface\", \"Mural de Equipa\", \"Gest\\u00e3o de Equipa\", \"Gest\\u00e3o de Projectos\"], \"legendgroup\": \"2017\", \"marker\": {\"color\": \"#ab63fa\"}, \"name\": \"2017\", \"offsetgroup\": \"2017\", \"orientation\": \"v\", \"showlegend\": true, \"textposition\": \"auto\", \"type\": \"bar\", \"x\": [\"Aspecto Visual\", \"Navega\\u00e7\\u00e3o na Ferramenta\", \"Perguntas\", \"Exemplos\", \"V\\u00eddeos\", \"Modelo de Neg\\u00f3cios\", \"Indica\\u00e7\\u00f5es de Interface\", \"Mural de Equipa\", \"Gest\\u00e3o de Equipa\", \"Gest\\u00e3o de Projectos\"], \"xaxis\": \"x\", \"y\": [0.5113122171945701, 0.6108597285067874, 0.25339366515837103, 0.4343891402714932, 0.6176470588235294, 0.5542986425339367, 0.2420814479638009, 0.052036199095022634, 0.10407239819004524, 0.3981900452488688], \"yaxis\": \"y\"}, {\"alignmentgroup\": \"True\", \"hovertemplate\": \"<b>%{hovertext}</b><br><br>Year=2018<br>Question=%{x}<br>Percentage=%{y}<extra></extra>\", \"hovertext\": [\"Aspecto Visual\", \"Navega\\u00e7\\u00e3o na Ferramenta\", \"Perguntas\", \"Exemplos\", \"V\\u00eddeos\", \"Modelo de Neg\\u00f3cios\", \"Indica\\u00e7\\u00f5es de Interface\", \"Mural de Equipa\", \"Gest\\u00e3o de Equipa\", \"Gest\\u00e3o de Projectos\"], \"legendgroup\": \"2018\", \"marker\": {\"color\": \"#FFA15A\"}, \"name\": \"2018\", \"offsetgroup\": \"2018\", \"orientation\": \"v\", \"showlegend\": true, \"textposition\": \"auto\", \"type\": \"bar\", \"x\": [\"Aspecto Visual\", \"Navega\\u00e7\\u00e3o na Ferramenta\", \"Perguntas\", \"Exemplos\", \"V\\u00eddeos\", \"Modelo de Neg\\u00f3cios\", \"Indica\\u00e7\\u00f5es de Interface\", \"Mural de Equipa\", \"Gest\\u00e3o de Equipa\", \"Gest\\u00e3o de Projectos\"], \"xaxis\": \"x\", \"y\": [0.5287356321839081, 0.603448275862069, 0.27011494252873564, 0.4160919540229885, 0.467816091954023, 0.5494252873563218, 0.2367816091954023, 0.04367816091954023, 0.11149425287356322, 0.3402298850574713], \"yaxis\": \"y\"}, {\"alignmentgroup\": \"True\", \"hovertemplate\": \"<b>%{hovertext}</b><br><br>Year=2019<br>Question=%{x}<br>Percentage=%{y}<extra></extra>\", \"hovertext\": [\"Resumo do neg\\u00f3cio\", \"Modelo de Neg\\u00f3cios\", \"Indica\\u00e7\\u00f5es de Interface\", \"Navega\\u00e7\\u00e3o na Ferramenta\", \"Aspecto Visual\", \"Exemplos\", \"Perguntas\", \"V\\u00eddeos\", \"Gest\\u00e3o de Equipa\", \"Acesso a recursos externos\"], \"legendgroup\": \"2019\", \"marker\": {\"color\": \"#19d3f3\"}, \"name\": \"2019\", \"offsetgroup\": \"2019\", \"orientation\": \"v\", \"showlegend\": true, \"textposition\": \"auto\", \"type\": \"bar\", \"x\": [\"Resumo do neg\\u00f3cio\", \"Modelo de Neg\\u00f3cios\", \"Indica\\u00e7\\u00f5es de Interface\", \"Navega\\u00e7\\u00e3o na Ferramenta\", \"Aspecto Visual\", \"Exemplos\", \"Perguntas\", \"V\\u00eddeos\", \"Gest\\u00e3o de Equipa\", \"Acesso a recursos externos\"], \"xaxis\": \"x\", \"y\": [0.005263157894736842, 0.5631578947368421, 0.10526315789473684, 0.4631578947368421, 0.3736842105263158, 0.3473684210526316, 0.18947368421052632, 0.2894736842105263, 0.13157894736842105, 0.05789473684210526], \"yaxis\": \"y\"}, {\"alignmentgroup\": \"True\", \"hovertemplate\": \"<b>%{hovertext}</b><br><br>Year=2020<br>Question=%{x}<br>Percentage=%{y}<extra></extra>\", \"hovertext\": [\"Resumo do neg\\u00f3cio\", \"Modelo de Neg\\u00f3cios\", \"Indica\\u00e7\\u00f5es de Interface\", \"Navega\\u00e7\\u00e3o na Ferramenta\", \"Aspecto Visual\", \"Exemplos\", \"Perguntas\", \"V\\u00eddeos\", \"Gest\\u00e3o de Equipa\", \"Acesso a recursos externos\"], \"legendgroup\": \"2020\", \"marker\": {\"color\": \"#FF6692\"}, \"name\": \"2020\", \"offsetgroup\": \"2020\", \"orientation\": \"v\", \"showlegend\": true, \"textposition\": \"auto\", \"type\": \"bar\", \"x\": [\"Resumo do neg\\u00f3cio\", \"Modelo de Neg\\u00f3cios\", \"Indica\\u00e7\\u00f5es de Interface\", \"Navega\\u00e7\\u00e3o na Ferramenta\", \"Aspecto Visual\", \"Exemplos\", \"Perguntas\", \"V\\u00eddeos\", \"Gest\\u00e3o de Equipa\", \"Acesso a recursos externos\"], \"xaxis\": \"x\", \"y\": [0.0, 0.5909090909090909, 0.09848484848484848, 0.3636363636363637, 0.3257575757575757, 0.3484848484848485, 0.18181818181818185, 0.3939393939393939, 0.13636363636363635, 0.11363636363636365], \"yaxis\": \"y\"}],                        {\"barmode\": \"group\", \"legend\": {\"title\": {\"text\": \"Year\"}, \"tracegroupgap\": 0}, \"margin\": {\"t\": 60}, \"template\": {\"data\": {\"bar\": [{\"error_x\": {\"color\": \"#2a3f5f\"}, \"error_y\": {\"color\": \"#2a3f5f\"}, \"marker\": {\"line\": {\"color\": \"#E5ECF6\", \"width\": 0.5}}, \"type\": \"bar\"}], \"barpolar\": [{\"marker\": {\"line\": {\"color\": \"#E5ECF6\", \"width\": 0.5}}, \"type\": \"barpolar\"}], \"carpet\": [{\"aaxis\": {\"endlinecolor\": \"#2a3f5f\", \"gridcolor\": \"white\", \"linecolor\": \"white\", \"minorgridcolor\": \"white\", \"startlinecolor\": \"#2a3f5f\"}, \"baxis\": {\"endlinecolor\": \"#2a3f5f\", \"gridcolor\": \"white\", \"linecolor\": \"white\", \"minorgridcolor\": \"white\", \"startlinecolor\": \"#2a3f5f\"}, \"type\": \"carpet\"}], \"choropleth\": [{\"colorbar\": {\"outlinewidth\": 0, \"ticks\": \"\"}, \"type\": \"choropleth\"}], \"contour\": [{\"colorbar\": {\"outlinewidth\": 0, \"ticks\": \"\"}, \"colorscale\": [[0.0, \"#0d0887\"], [0.1111111111111111, \"#46039f\"], [0.2222222222222222, \"#7201a8\"], [0.3333333333333333, \"#9c179e\"], [0.4444444444444444, \"#bd3786\"], [0.5555555555555556, \"#d8576b\"], [0.6666666666666666, \"#ed7953\"], [0.7777777777777778, \"#fb9f3a\"], [0.8888888888888888, \"#fdca26\"], [1.0, \"#f0f921\"]], \"type\": \"contour\"}], \"contourcarpet\": [{\"colorbar\": {\"outlinewidth\": 0, \"ticks\": \"\"}, \"type\": \"contourcarpet\"}], \"heatmap\": [{\"colorbar\": {\"outlinewidth\": 0, \"ticks\": \"\"}, \"colorscale\": [[0.0, \"#0d0887\"], [0.1111111111111111, \"#46039f\"], [0.2222222222222222, \"#7201a8\"], [0.3333333333333333, \"#9c179e\"], [0.4444444444444444, \"#bd3786\"], [0.5555555555555556, \"#d8576b\"], [0.6666666666666666, \"#ed7953\"], [0.7777777777777778, \"#fb9f3a\"], [0.8888888888888888, \"#fdca26\"], [1.0, \"#f0f921\"]], \"type\": \"heatmap\"}], \"heatmapgl\": [{\"colorbar\": {\"outlinewidth\": 0, \"ticks\": \"\"}, \"colorscale\": [[0.0, \"#0d0887\"], [0.1111111111111111, \"#46039f\"], [0.2222222222222222, \"#7201a8\"], [0.3333333333333333, \"#9c179e\"], [0.4444444444444444, \"#bd3786\"], [0.5555555555555556, \"#d8576b\"], [0.6666666666666666, \"#ed7953\"], [0.7777777777777778, \"#fb9f3a\"], [0.8888888888888888, \"#fdca26\"], [1.0, \"#f0f921\"]], \"type\": \"heatmapgl\"}], \"histogram\": [{\"marker\": {\"colorbar\": {\"outlinewidth\": 0, \"ticks\": \"\"}}, \"type\": \"histogram\"}], \"histogram2d\": [{\"colorbar\": {\"outlinewidth\": 0, \"ticks\": \"\"}, \"colorscale\": [[0.0, \"#0d0887\"], [0.1111111111111111, \"#46039f\"], [0.2222222222222222, \"#7201a8\"], [0.3333333333333333, \"#9c179e\"], [0.4444444444444444, \"#bd3786\"], [0.5555555555555556, \"#d8576b\"], [0.6666666666666666, \"#ed7953\"], [0.7777777777777778, \"#fb9f3a\"], [0.8888888888888888, \"#fdca26\"], [1.0, \"#f0f921\"]], \"type\": \"histogram2d\"}], \"histogram2dcontour\": [{\"colorbar\": {\"outlinewidth\": 0, \"ticks\": \"\"}, \"colorscale\": [[0.0, \"#0d0887\"], [0.1111111111111111, \"#46039f\"], [0.2222222222222222, \"#7201a8\"], [0.3333333333333333, \"#9c179e\"], [0.4444444444444444, \"#bd3786\"], [0.5555555555555556, \"#d8576b\"], [0.6666666666666666, \"#ed7953\"], [0.7777777777777778, \"#fb9f3a\"], [0.8888888888888888, \"#fdca26\"], [1.0, \"#f0f921\"]], \"type\": \"histogram2dcontour\"}], \"mesh3d\": [{\"colorbar\": {\"outlinewidth\": 0, \"ticks\": \"\"}, \"type\": \"mesh3d\"}], \"parcoords\": [{\"line\": {\"colorbar\": {\"outlinewidth\": 0, \"ticks\": \"\"}}, \"type\": \"parcoords\"}], \"pie\": [{\"automargin\": true, \"type\": \"pie\"}], \"scatter\": [{\"marker\": {\"colorbar\": {\"outlinewidth\": 0, \"ticks\": \"\"}}, \"type\": \"scatter\"}], \"scatter3d\": [{\"line\": {\"colorbar\": {\"outlinewidth\": 0, \"ticks\": \"\"}}, \"marker\": {\"colorbar\": {\"outlinewidth\": 0, \"ticks\": \"\"}}, \"type\": \"scatter3d\"}], \"scattercarpet\": [{\"marker\": {\"colorbar\": {\"outlinewidth\": 0, \"ticks\": \"\"}}, \"type\": \"scattercarpet\"}], \"scattergeo\": [{\"marker\": {\"colorbar\": {\"outlinewidth\": 0, \"ticks\": \"\"}}, \"type\": \"scattergeo\"}], \"scattergl\": [{\"marker\": {\"colorbar\": {\"outlinewidth\": 0, \"ticks\": \"\"}}, \"type\": \"scattergl\"}], \"scattermapbox\": [{\"marker\": {\"colorbar\": {\"outlinewidth\": 0, \"ticks\": \"\"}}, \"type\": \"scattermapbox\"}], \"scatterpolar\": [{\"marker\": {\"colorbar\": {\"outlinewidth\": 0, \"ticks\": \"\"}}, \"type\": \"scatterpolar\"}], \"scatterpolargl\": [{\"marker\": {\"colorbar\": {\"outlinewidth\": 0, \"ticks\": \"\"}}, \"type\": \"scatterpolargl\"}], \"scatterternary\": [{\"marker\": {\"colorbar\": {\"outlinewidth\": 0, \"ticks\": \"\"}}, \"type\": \"scatterternary\"}], \"surface\": [{\"colorbar\": {\"outlinewidth\": 0, \"ticks\": \"\"}, \"colorscale\": [[0.0, \"#0d0887\"], [0.1111111111111111, \"#46039f\"], [0.2222222222222222, \"#7201a8\"], [0.3333333333333333, \"#9c179e\"], [0.4444444444444444, \"#bd3786\"], [0.5555555555555556, \"#d8576b\"], [0.6666666666666666, \"#ed7953\"], [0.7777777777777778, \"#fb9f3a\"], [0.8888888888888888, \"#fdca26\"], [1.0, \"#f0f921\"]], \"type\": \"surface\"}], \"table\": [{\"cells\": {\"fill\": {\"color\": \"#EBF0F8\"}, \"line\": {\"color\": \"white\"}}, \"header\": {\"fill\": {\"color\": \"#C8D4E3\"}, \"line\": {\"color\": \"white\"}}, \"type\": \"table\"}]}, \"layout\": {\"annotationdefaults\": {\"arrowcolor\": \"#2a3f5f\", \"arrowhead\": 0, \"arrowwidth\": 1}, \"coloraxis\": {\"colorbar\": {\"outlinewidth\": 0, \"ticks\": \"\"}}, \"colorscale\": {\"diverging\": [[0, \"#8e0152\"], [0.1, \"#c51b7d\"], [0.2, \"#de77ae\"], [0.3, \"#f1b6da\"], [0.4, \"#fde0ef\"], [0.5, \"#f7f7f7\"], [0.6, \"#e6f5d0\"], [0.7, \"#b8e186\"], [0.8, \"#7fbc41\"], [0.9, \"#4d9221\"], [1, \"#276419\"]], \"sequential\": [[0.0, \"#0d0887\"], [0.1111111111111111, \"#46039f\"], [0.2222222222222222, \"#7201a8\"], [0.3333333333333333, \"#9c179e\"], [0.4444444444444444, \"#bd3786\"], [0.5555555555555556, \"#d8576b\"], [0.6666666666666666, \"#ed7953\"], [0.7777777777777778, \"#fb9f3a\"], [0.8888888888888888, \"#fdca26\"], [1.0, \"#f0f921\"]], \"sequentialminus\": [[0.0, \"#0d0887\"], [0.1111111111111111, \"#46039f\"], [0.2222222222222222, \"#7201a8\"], [0.3333333333333333, \"#9c179e\"], [0.4444444444444444, \"#bd3786\"], [0.5555555555555556, \"#d8576b\"], [0.6666666666666666, \"#ed7953\"], [0.7777777777777778, \"#fb9f3a\"], [0.8888888888888888, \"#fdca26\"], [1.0, \"#f0f921\"]]}, \"colorway\": [\"#636efa\", \"#EF553B\", \"#00cc96\", \"#ab63fa\", \"#FFA15A\", \"#19d3f3\", \"#FF6692\", \"#B6E880\", \"#FF97FF\", \"#FECB52\"], \"font\": {\"color\": \"#2a3f5f\"}, \"geo\": {\"bgcolor\": \"white\", \"lakecolor\": \"white\", \"landcolor\": \"#E5ECF6\", \"showlakes\": true, \"showland\": true, \"subunitcolor\": \"white\"}, \"hoverlabel\": {\"align\": \"left\"}, \"hovermode\": \"closest\", \"mapbox\": {\"style\": \"light\"}, \"paper_bgcolor\": \"white\", \"plot_bgcolor\": \"#E5ECF6\", \"polar\": {\"angularaxis\": {\"gridcolor\": \"white\", \"linecolor\": \"white\", \"ticks\": \"\"}, \"bgcolor\": \"#E5ECF6\", \"radialaxis\": {\"gridcolor\": \"white\", \"linecolor\": \"white\", \"ticks\": \"\"}}, \"scene\": {\"xaxis\": {\"backgroundcolor\": \"#E5ECF6\", \"gridcolor\": \"white\", \"gridwidth\": 2, \"linecolor\": \"white\", \"showbackground\": true, \"ticks\": \"\", \"zerolinecolor\": \"white\"}, \"yaxis\": {\"backgroundcolor\": \"#E5ECF6\", \"gridcolor\": \"white\", \"gridwidth\": 2, \"linecolor\": \"white\", \"showbackground\": true, \"ticks\": \"\", \"zerolinecolor\": \"white\"}, \"zaxis\": {\"backgroundcolor\": \"#E5ECF6\", \"gridcolor\": \"white\", \"gridwidth\": 2, \"linecolor\": \"white\", \"showbackground\": true, \"ticks\": \"\", \"zerolinecolor\": \"white\"}}, \"shapedefaults\": {\"line\": {\"color\": \"#2a3f5f\"}}, \"ternary\": {\"aaxis\": {\"gridcolor\": \"white\", \"linecolor\": \"white\", \"ticks\": \"\"}, \"baxis\": {\"gridcolor\": \"white\", \"linecolor\": \"white\", \"ticks\": \"\"}, \"bgcolor\": \"#E5ECF6\", \"caxis\": {\"gridcolor\": \"white\", \"linecolor\": \"white\", \"ticks\": \"\"}}, \"title\": {\"x\": 0.05}, \"xaxis\": {\"automargin\": true, \"gridcolor\": \"white\", \"linecolor\": \"white\", \"ticks\": \"\", \"title\": {\"standoff\": 15}, \"zerolinecolor\": \"white\", \"zerolinewidth\": 2}, \"yaxis\": {\"automargin\": true, \"gridcolor\": \"white\", \"linecolor\": \"white\", \"ticks\": \"\", \"title\": {\"standoff\": 15}, \"zerolinecolor\": \"white\", \"zerolinewidth\": 2}}}, \"title\": {\"text\": \"Positive Features Along the Years\"}, \"xaxis\": {\"anchor\": \"y\", \"domain\": [0.0, 1.0], \"title\": {\"text\": \"Question\"}, \"type\": \"category\"}, \"yaxis\": {\"anchor\": \"x\", \"domain\": [0.0, 1.0], \"range\": [0, 0.8], \"title\": {\"text\": \"Percentage\"}}},                        {\"responsive\": true}                    ).then(function(){\n",
       "                            \n",
       "var gd = document.getElementById('1f2399c5-ff4f-496a-a41c-a2e10aed4068');\n",
       "var x = new MutationObserver(function (mutations, observer) {{\n",
       "        var display = window.getComputedStyle(gd).display;\n",
       "        if (!display || display === 'none') {{\n",
       "            console.log([gd, 'removed!']);\n",
       "            Plotly.purge(gd);\n",
       "            observer.disconnect();\n",
       "        }}\n",
       "}});\n",
       "\n",
       "// Listen for the removal of the full notebook cells\n",
       "var notebookContainer = gd.closest('#notebook-container');\n",
       "if (notebookContainer) {{\n",
       "    x.observe(notebookContainer, {childList: true});\n",
       "}}\n",
       "\n",
       "// Listen for the clearing of the current output cell\n",
       "var outputEl = gd.closest('.output');\n",
       "if (outputEl) {{\n",
       "    x.observe(outputEl, {childList: true});\n",
       "}}\n",
       "\n",
       "                        })                };                });            </script>        </div>"
      ]
     },
     "metadata": {},
     "output_type": "display_data"
    },
    {
     "data": {
      "image/png": "[encoded data removed]",
      "text/plain": [
       "<IPython.core.display.Image object>"
      ]
     },
     "execution_count": 40,
     "metadata": {},
     "output_type": "execute_result"
    }
   ],
   "source": [
    "import plotly_express as px\n",
    "\n",
    "fig = px.bar(PosOverYears, x=\"Question\", y=\"Percentage\", color='Year', barmode='group',\n",
    "             hover_name='Question', range_y=[0,0.8])\n",
    "fig.update_layout(title_text='Positive Features Along the Years')\n",
    "fig.update_layout(xaxis_type='category')\n",
    "\n",
    "fig.show()\n",
    "fig.write_image('Outputs/YearlyAverage/PosOverYears.png')\n",
    "\n",
    "\n",
    "\n",
    "from IPython.display import Image\n",
    "Image(filename='Outputs/YearlyAverage/PosOverYears.png')\n",
    "\n"
   ]
  },
  {
   "cell_type": "code",
   "execution_count": 41,
   "metadata": {},
   "outputs": [
    {
     "data": {
      "application/vnd.plotly.v1+json": {
       "config": {
        "plotlyServerURL": "https://plot.ly"
       },
       "data": [
        {
         "alignmentgroup": "True",
         "hovertemplate": "<b>%{hovertext}</b><br><br>Year=2014<br>Question=%{x}<br>Percentage=%{y}<extra></extra>",
         "hovertext": [
          "Aspecto Visual",
          "Navegação na Ferramenta",
          "Perguntas",
          "Exemplos",
          "Vídeos",
          "Modelo de Negócios",
          "Indicações de Interface",
          "Mural de Equipa",
          "Gestão de Equipa",
          "Gestão de Projectos",
          "Acesso a recursos externos"
         ],
         "legendgroup": "2014",
         "marker": {
          "color": "#636efa"
         },
         "name": "2014",
         "offsetgroup": "2014",
         "orientation": "v",
         "showlegend": true,
         "textposition": "auto",
         "type": "bar",
         "x": [
          "Aspecto Visual",
          "Navegação na Ferramenta",
          "Perguntas",
          "Exemplos",
          "Vídeos",
          "Modelo de Negócios",
          "Indicações de Interface",
          "Mural de Equipa",
          "Gestão de Equipa",
          "Gestão de Projectos",
          "Acesso a recursos externos"
         ],
         "xaxis": "x",
         "y": [
          0.09741935483870967,
          0.17806451612903226,
          0.15870967741935485,
          0.2032258064516129,
          0.41483870967741937,
          0.08903225806451613,
          0.3103225806451613,
          0.3709677419354839,
          0.3212903225806452,
          0.1335483870967742,
          0.54
         ],
         "yaxis": "y"
        },
        {
         "alignmentgroup": "True",
         "hovertemplate": "<b>%{hovertext}</b><br><br>Year=2015<br>Question=%{x}<br>Percentage=%{y}<extra></extra>",
         "hovertext": [
          "Aspecto Visual",
          "Navegação na Ferramenta",
          "Perguntas",
          "Exemplos",
          "Vídeos",
          "Modelo de Negócios",
          "Indicações de Interface",
          "Mural de Equipa",
          "Gestão de Equipa",
          "Gestão de Projectos",
          "Acesso a recursos externos"
         ],
         "legendgroup": "2015",
         "marker": {
          "color": "#EF553B"
         },
         "name": "2015",
         "offsetgroup": "2015",
         "orientation": "v",
         "showlegend": true,
         "textposition": "auto",
         "type": "bar",
         "x": [
          "Aspecto Visual",
          "Navegação na Ferramenta",
          "Perguntas",
          "Exemplos",
          "Vídeos",
          "Modelo de Negócios",
          "Indicações de Interface",
          "Mural de Equipa",
          "Gestão de Equipa",
          "Gestão de Projectos",
          "Acesso a recursos externos"
         ],
         "xaxis": "x",
         "y": [
          0.14772727272727273,
          0.26136363636363635,
          0.25,
          0.23863636363636365,
          0.25,
          0.10227272727272728,
          0.3636363636363637,
          0.3181818181818182,
          0.2840909090909091,
          0.125,
          0.6590909090909091
         ],
         "yaxis": "y"
        },
        {
         "alignmentgroup": "True",
         "hovertemplate": "<b>%{hovertext}</b><br><br>Year=2016<br>Question=%{x}<br>Percentage=%{y}<extra></extra>",
         "hovertext": [
          "Aspecto Visual",
          "Navegação na Ferramenta",
          "Perguntas",
          "Exemplos",
          "Vídeos",
          "Modelo de Negócios",
          "Indicações de Interface",
          "Mural de Equipa",
          "Gestão de Equipa",
          "Gestão de Projectos"
         ],
         "legendgroup": "2016",
         "marker": {
          "color": "#00cc96"
         },
         "name": "2016",
         "offsetgroup": "2016",
         "orientation": "v",
         "showlegend": true,
         "textposition": "auto",
         "type": "bar",
         "x": [
          "Aspecto Visual",
          "Navegação na Ferramenta",
          "Perguntas",
          "Exemplos",
          "Vídeos",
          "Modelo de Negócios",
          "Indicações de Interface",
          "Mural de Equipa",
          "Gestão de Equipa",
          "Gestão de Projectos"
         ],
         "xaxis": "x",
         "y": [
          0.14056224899598393,
          0.2289156626506024,
          0.22088353413654616,
          0.2329317269076305,
          0.17269076305220885,
          0.10441767068273093,
          0.3734939759036144,
          0.2891566265060241,
          0.20481927710843373,
          0.18875502008032127
         ],
         "yaxis": "y"
        },
        {
         "alignmentgroup": "True",
         "hovertemplate": "<b>%{hovertext}</b><br><br>Year=2017<br>Question=%{x}<br>Percentage=%{y}<extra></extra>",
         "hovertext": [
          "Aspecto Visual",
          "Navegação na Ferramenta",
          "Perguntas",
          "Exemplos",
          "Vídeos",
          "Modelo de Negócios",
          "Indicações de Interface",
          "Mural de Equipa",
          "Gestão de Equipa",
          "Gestão de Projectos"
         ],
         "legendgroup": "2017",
         "marker": {
          "color": "#ab63fa"
         },
         "name": "2017",
         "offsetgroup": "2017",
         "orientation": "v",
         "showlegend": true,
         "textposition": "auto",
         "type": "bar",
         "x": [
          "Aspecto Visual",
          "Navegação na Ferramenta",
          "Perguntas",
          "Exemplos",
          "Vídeos",
          "Modelo de Negócios",
          "Indicações de Interface",
          "Mural de Equipa",
          "Gestão de Equipa",
          "Gestão de Projectos"
         ],
         "xaxis": "x",
         "y": [
          0.1334841628959276,
          0.2262443438914027,
          0.2398190045248869,
          0.2420814479638009,
          0.1425339366515837,
          0.0746606334841629,
          0.2963800904977376,
          0.2420814479638009,
          0.18099547511312214,
          0.1176470588235294
         ],
         "yaxis": "y"
        },
        {
         "alignmentgroup": "True",
         "hovertemplate": "<b>%{hovertext}</b><br><br>Year=2018<br>Question=%{x}<br>Percentage=%{y}<extra></extra>",
         "hovertext": [
          "Aspecto Visual",
          "Navegação na Ferramenta",
          "Perguntas",
          "Exemplos",
          "Vídeos",
          "Modelo de Negócios",
          "Indicações de Interface",
          "Mural de Equipa",
          "Gestão de Equipa",
          "Gestão de Projectos"
         ],
         "legendgroup": "2018",
         "marker": {
          "color": "#FFA15A"
         },
         "name": "2018",
         "offsetgroup": "2018",
         "orientation": "v",
         "showlegend": true,
         "textposition": "auto",
         "type": "bar",
         "x": [
          "Aspecto Visual",
          "Navegação na Ferramenta",
          "Perguntas",
          "Exemplos",
          "Vídeos",
          "Modelo de Negócios",
          "Indicações de Interface",
          "Mural de Equipa",
          "Gestão de Equipa",
          "Gestão de Projectos"
         ],
         "xaxis": "x",
         "y": [
          0.15057471264367814,
          0.2183908045977012,
          0.3057471264367816,
          0.2988505747126437,
          0.20689655172413796,
          0.0896551724137931,
          0.3275862068965517,
          0.2574712643678161,
          0.15402298850574714,
          0.10919540229885058
         ],
         "yaxis": "y"
        },
        {
         "alignmentgroup": "True",
         "hovertemplate": "<b>%{hovertext}</b><br><br>Year=2019<br>Question=%{x}<br>Percentage=%{y}<extra></extra>",
         "hovertext": [
          "Resumo do negócio",
          "Modelo de Negócios",
          "Indicações de Interface",
          "Navegação na Ferramenta",
          "Aspecto Visual",
          "Exemplos",
          "Perguntas",
          "Vídeos",
          "Gestão de Equipa",
          "Acesso a recursos externos"
         ],
         "legendgroup": "2019",
         "marker": {
          "color": "#19d3f3"
         },
         "name": "2019",
         "offsetgroup": "2019",
         "orientation": "v",
         "showlegend": true,
         "textposition": "auto",
         "type": "bar",
         "x": [
          "Resumo do negócio",
          "Modelo de Negócios",
          "Indicações de Interface",
          "Navegação na Ferramenta",
          "Aspecto Visual",
          "Exemplos",
          "Perguntas",
          "Vídeos",
          "Gestão de Equipa",
          "Acesso a recursos externos"
         ],
         "xaxis": "x",
         "y": [
          0,
          0.13157894736842105,
          0.2842105263157895,
          0.23157894736842105,
          0.18947368421052632,
          0.2,
          0.22105263157894736,
          0.1263157894736842,
          0.21578947368421053,
          0.4105263157894737
         ],
         "yaxis": "y"
        },
        {
         "alignmentgroup": "True",
         "hovertemplate": "<b>%{hovertext}</b><br><br>Year=2020<br>Question=%{x}<br>Percentage=%{y}<extra></extra>",
         "hovertext": [
          "Resumo do negócio",
          "Modelo de Negócios",
          "Indicações de Interface",
          "Navegação na Ferramenta",
          "Aspecto Visual",
          "Exemplos",
          "Perguntas",
          "Vídeos",
          "Gestão de Equipa",
          "Acesso a recursos externos"
         ],
         "legendgroup": "2020",
         "marker": {
          "color": "#FF6692"
         },
         "name": "2020",
         "offsetgroup": "2020",
         "orientation": "v",
         "showlegend": true,
         "textposition": "auto",
         "type": "bar",
         "x": [
          "Resumo do negócio",
          "Modelo de Negócios",
          "Indicações de Interface",
          "Navegação na Ferramenta",
          "Aspecto Visual",
          "Exemplos",
          "Perguntas",
          "Vídeos",
          "Gestão de Equipa",
          "Acesso a recursos externos"
         ],
         "xaxis": "x",
         "y": [
          0,
          0.09848484848484848,
          0.26515151515151514,
          0.3409090909090909,
          0.20454545454545456,
          0.14393939393939395,
          0.20454545454545456,
          0.10606060606060606,
          0.1893939393939394,
          0.2803030303030303
         ],
         "yaxis": "y"
        }
       ],
       "layout": {
        "barmode": "group",
        "legend": {
         "title": {
          "text": "Year"
         },
         "tracegroupgap": 0
        },
        "margin": {
         "t": 60
        },
        "template": {
         "data": {
          "bar": [
           {
            "error_x": {
             "color": "#2a3f5f"
            },
            "error_y": {
             "color": "#2a3f5f"
            },
            "marker": {
             "line": {
              "color": "#E5ECF6",
              "width": 0.5
             }
            },
            "type": "bar"
           }
          ],
          "barpolar": [
           {
            "marker": {
             "line": {
              "color": "#E5ECF6",
              "width": 0.5
             }
            },
            "type": "barpolar"
           }
          ],
          "carpet": [
           {
            "aaxis": {
             "endlinecolor": "#2a3f5f",
             "gridcolor": "white",
             "linecolor": "white",
             "minorgridcolor": "white",
             "startlinecolor": "#2a3f5f"
            },
            "baxis": {
             "endlinecolor": "#2a3f5f",
             "gridcolor": "white",
             "linecolor": "white",
             "minorgridcolor": "white",
             "startlinecolor": "#2a3f5f"
            },
            "type": "carpet"
           }
          ],
          "choropleth": [
           {
            "colorbar": {
             "outlinewidth": 0,
             "ticks": ""
            },
            "type": "choropleth"
           }
          ],
          "contour": [
           {
            "colorbar": {
             "outlinewidth": 0,
             "ticks": ""
            },
            "colorscale": [
             [
              0,
              "#0d0887"
             ],
             [
              0.1111111111111111,
              "#46039f"
             ],
             [
              0.2222222222222222,
              "#7201a8"
             ],
             [
              0.3333333333333333,
              "#9c179e"
             ],
             [
              0.4444444444444444,
              "#bd3786"
             ],
             [
              0.5555555555555556,
              "#d8576b"
             ],
             [
              0.6666666666666666,
              "#ed7953"
             ],
             [
              0.7777777777777778,
              "#fb9f3a"
             ],
             [
              0.8888888888888888,
              "#fdca26"
             ],
             [
              1,
              "#f0f921"
             ]
            ],
            "type": "contour"
           }
          ],
          "contourcarpet": [
           {
            "colorbar": {
             "outlinewidth": 0,
             "ticks": ""
            },
            "type": "contourcarpet"
           }
          ],
          "heatmap": [
           {
            "colorbar": {
             "outlinewidth": 0,
             "ticks": ""
            },
            "colorscale": [
             [
              0,
              "#0d0887"
             ],
             [
              0.1111111111111111,
              "#46039f"
             ],
             [
              0.2222222222222222,
              "#7201a8"
             ],
             [
              0.3333333333333333,
              "#9c179e"
             ],
             [
              0.4444444444444444,
              "#bd3786"
             ],
             [
              0.5555555555555556,
              "#d8576b"
             ],
             [
              0.6666666666666666,
              "#ed7953"
             ],
             [
              0.7777777777777778,
              "#fb9f3a"
             ],
             [
              0.8888888888888888,
              "#fdca26"
             ],
             [
              1,
              "#f0f921"
             ]
            ],
            "type": "heatmap"
           }
          ],
          "heatmapgl": [
           {
            "colorbar": {
             "outlinewidth": 0,
             "ticks": ""
            },
            "colorscale": [
             [
              0,
              "#0d0887"
             ],
             [
              0.1111111111111111,
              "#46039f"
             ],
             [
              0.2222222222222222,
              "#7201a8"
             ],
             [
              0.3333333333333333,
              "#9c179e"
             ],
             [
              0.4444444444444444,
              "#bd3786"
             ],
             [
              0.5555555555555556,
              "#d8576b"
             ],
             [
              0.6666666666666666,
              "#ed7953"
             ],
             [
              0.7777777777777778,
              "#fb9f3a"
             ],
             [
              0.8888888888888888,
              "#fdca26"
             ],
             [
              1,
              "#f0f921"
             ]
            ],
            "type": "heatmapgl"
           }
          ],
          "histogram": [
           {
            "marker": {
             "colorbar": {
              "outlinewidth": 0,
              "ticks": ""
             }
            },
            "type": "histogram"
           }
          ],
          "histogram2d": [
           {
            "colorbar": {
             "outlinewidth": 0,
             "ticks": ""
            },
            "colorscale": [
             [
              0,
              "#0d0887"
             ],
             [
              0.1111111111111111,
              "#46039f"
             ],
             [
              0.2222222222222222,
              "#7201a8"
             ],
             [
              0.3333333333333333,
              "#9c179e"
             ],
             [
              0.4444444444444444,
              "#bd3786"
             ],
             [
              0.5555555555555556,
              "#d8576b"
             ],
             [
              0.6666666666666666,
              "#ed7953"
             ],
             [
              0.7777777777777778,
              "#fb9f3a"
             ],
             [
              0.8888888888888888,
              "#fdca26"
             ],
             [
              1,
              "#f0f921"
             ]
            ],
            "type": "histogram2d"
           }
          ],
          "histogram2dcontour": [
           {
            "colorbar": {
             "outlinewidth": 0,
             "ticks": ""
            },
            "colorscale": [
             [
              0,
              "#0d0887"
             ],
             [
              0.1111111111111111,
              "#46039f"
             ],
             [
              0.2222222222222222,
              "#7201a8"
             ],
             [
              0.3333333333333333,
              "#9c179e"
             ],
             [
              0.4444444444444444,
              "#bd3786"
             ],
             [
              0.5555555555555556,
              "#d8576b"
             ],
             [
              0.6666666666666666,
              "#ed7953"
             ],
             [
              0.7777777777777778,
              "#fb9f3a"
             ],
             [
              0.8888888888888888,
              "#fdca26"
             ],
             [
              1,
              "#f0f921"
             ]
            ],
            "type": "histogram2dcontour"
           }
          ],
          "mesh3d": [
           {
            "colorbar": {
             "outlinewidth": 0,
             "ticks": ""
            },
            "type": "mesh3d"
           }
          ],
          "parcoords": [
           {
            "line": {
             "colorbar": {
              "outlinewidth": 0,
              "ticks": ""
             }
            },
            "type": "parcoords"
           }
          ],
          "pie": [
           {
            "automargin": true,
            "type": "pie"
           }
          ],
          "scatter": [
           {
            "marker": {
             "colorbar": {
              "outlinewidth": 0,
              "ticks": ""
             }
            },
            "type": "scatter"
           }
          ],
          "scatter3d": [
           {
            "line": {
             "colorbar": {
              "outlinewidth": 0,
              "ticks": ""
             }
            },
            "marker": {
             "colorbar": {
              "outlinewidth": 0,
              "ticks": ""
             }
            },
            "type": "scatter3d"
           }
          ],
          "scattercarpet": [
           {
            "marker": {
             "colorbar": {
              "outlinewidth": 0,
              "ticks": ""
             }
            },
            "type": "scattercarpet"
           }
          ],
          "scattergeo": [
           {
            "marker": {
             "colorbar": {
              "outlinewidth": 0,
              "ticks": ""
             }
            },
            "type": "scattergeo"
           }
          ],
          "scattergl": [
           {
            "marker": {
             "colorbar": {
              "outlinewidth": 0,
              "ticks": ""
             }
            },
            "type": "scattergl"
           }
          ],
          "scattermapbox": [
           {
            "marker": {
             "colorbar": {
              "outlinewidth": 0,
              "ticks": ""
             }
            },
            "type": "scattermapbox"
           }
          ],
          "scatterpolar": [
           {
            "marker": {
             "colorbar": {
              "outlinewidth": 0,
              "ticks": ""
             }
            },
            "type": "scatterpolar"
           }
          ],
          "scatterpolargl": [
           {
            "marker": {
             "colorbar": {
              "outlinewidth": 0,
              "ticks": ""
             }
            },
            "type": "scatterpolargl"
           }
          ],
          "scatterternary": [
           {
            "marker": {
             "colorbar": {
              "outlinewidth": 0,
              "ticks": ""
             }
            },
            "type": "scatterternary"
           }
          ],
          "surface": [
           {
            "colorbar": {
             "outlinewidth": 0,
             "ticks": ""
            },
            "colorscale": [
             [
              0,
              "#0d0887"
             ],
             [
              0.1111111111111111,
              "#46039f"
             ],
             [
              0.2222222222222222,
              "#7201a8"
             ],
             [
              0.3333333333333333,
              "#9c179e"
             ],
             [
              0.4444444444444444,
              "#bd3786"
             ],
             [
              0.5555555555555556,
              "#d8576b"
             ],
             [
              0.6666666666666666,
              "#ed7953"
             ],
             [
              0.7777777777777778,
              "#fb9f3a"
             ],
             [
              0.8888888888888888,
              "#fdca26"
             ],
             [
              1,
              "#f0f921"
             ]
            ],
            "type": "surface"
           }
          ],
          "table": [
           {
            "cells": {
             "fill": {
              "color": "#EBF0F8"
             },
             "line": {
              "color": "white"
             }
            },
            "header": {
             "fill": {
              "color": "#C8D4E3"
             },
             "line": {
              "color": "white"
             }
            },
            "type": "table"
           }
          ]
         },
         "layout": {
          "annotationdefaults": {
           "arrowcolor": "#2a3f5f",
           "arrowhead": 0,
           "arrowwidth": 1
          },
          "coloraxis": {
           "colorbar": {
            "outlinewidth": 0,
            "ticks": ""
           }
          },
          "colorscale": {
           "diverging": [
            [
             0,
             "#8e0152"
            ],
            [
             0.1,
             "#c51b7d"
            ],
            [
             0.2,
             "#de77ae"
            ],
            [
             0.3,
             "#f1b6da"
            ],
            [
             0.4,
             "#fde0ef"
            ],
            [
             0.5,
             "#f7f7f7"
            ],
            [
             0.6,
             "#e6f5d0"
            ],
            [
             0.7,
             "#b8e186"
            ],
            [
             0.8,
             "#7fbc41"
            ],
            [
             0.9,
             "#4d9221"
            ],
            [
             1,
             "#276419"
            ]
           ],
           "sequential": [
            [
             0,
             "#0d0887"
            ],
            [
             0.1111111111111111,
             "#46039f"
            ],
            [
             0.2222222222222222,
             "#7201a8"
            ],
            [
             0.3333333333333333,
             "#9c179e"
            ],
            [
             0.4444444444444444,
             "#bd3786"
            ],
            [
             0.5555555555555556,
             "#d8576b"
            ],
            [
             0.6666666666666666,
             "#ed7953"
            ],
            [
             0.7777777777777778,
             "#fb9f3a"
            ],
            [
             0.8888888888888888,
             "#fdca26"
            ],
            [
             1,
             "#f0f921"
            ]
           ],
           "sequentialminus": [
            [
             0,
             "#0d0887"
            ],
            [
             0.1111111111111111,
             "#46039f"
            ],
            [
             0.2222222222222222,
             "#7201a8"
            ],
            [
             0.3333333333333333,
             "#9c179e"
            ],
            [
             0.4444444444444444,
             "#bd3786"
            ],
            [
             0.5555555555555556,
             "#d8576b"
            ],
            [
             0.6666666666666666,
             "#ed7953"
            ],
            [
             0.7777777777777778,
             "#fb9f3a"
            ],
            [
             0.8888888888888888,
             "#fdca26"
            ],
            [
             1,
             "#f0f921"
            ]
           ]
          },
          "colorway": [
           "#636efa",
           "#EF553B",
           "#00cc96",
           "#ab63fa",
           "#FFA15A",
           "#19d3f3",
           "#FF6692",
           "#B6E880",
           "#FF97FF",
           "#FECB52"
          ],
          "font": {
           "color": "#2a3f5f"
          },
          "geo": {
           "bgcolor": "white",
           "lakecolor": "white",
           "landcolor": "#E5ECF6",
           "showlakes": true,
           "showland": true,
           "subunitcolor": "white"
          },
          "hoverlabel": {
           "align": "left"
          },
          "hovermode": "closest",
          "mapbox": {
           "style": "light"
          },
          "paper_bgcolor": "white",
          "plot_bgcolor": "#E5ECF6",
          "polar": {
           "angularaxis": {
            "gridcolor": "white",
            "linecolor": "white",
            "ticks": ""
           },
           "bgcolor": "#E5ECF6",
           "radialaxis": {
            "gridcolor": "white",
            "linecolor": "white",
            "ticks": ""
           }
          },
          "scene": {
           "xaxis": {
            "backgroundcolor": "#E5ECF6",
            "gridcolor": "white",
            "gridwidth": 2,
            "linecolor": "white",
            "showbackground": true,
            "ticks": "",
            "zerolinecolor": "white"
           },
           "yaxis": {
            "backgroundcolor": "#E5ECF6",
            "gridcolor": "white",
            "gridwidth": 2,
            "linecolor": "white",
            "showbackground": true,
            "ticks": "",
            "zerolinecolor": "white"
           },
           "zaxis": {
            "backgroundcolor": "#E5ECF6",
            "gridcolor": "white",
            "gridwidth": 2,
            "linecolor": "white",
            "showbackground": true,
            "ticks": "",
            "zerolinecolor": "white"
           }
          },
          "shapedefaults": {
           "line": {
            "color": "#2a3f5f"
           }
          },
          "ternary": {
           "aaxis": {
            "gridcolor": "white",
            "linecolor": "white",
            "ticks": ""
           },
           "baxis": {
            "gridcolor": "white",
            "linecolor": "white",
            "ticks": ""
           },
           "bgcolor": "#E5ECF6",
           "caxis": {
            "gridcolor": "white",
            "linecolor": "white",
            "ticks": ""
           }
          },
          "title": {
           "x": 0.05
          },
          "xaxis": {
           "automargin": true,
           "gridcolor": "white",
           "linecolor": "white",
           "ticks": "",
           "title": {
            "standoff": 15
           },
           "zerolinecolor": "white",
           "zerolinewidth": 2
          },
          "yaxis": {
           "automargin": true,
           "gridcolor": "white",
           "linecolor": "white",
           "ticks": "",
           "title": {
            "standoff": 15
           },
           "zerolinecolor": "white",
           "zerolinewidth": 2
          }
         }
        },
        "title": {
         "text": "Negative Features Along the Years"
        },
        "xaxis": {
         "anchor": "y",
         "domain": [
          0,
          1
         ],
         "title": {
          "text": "Question"
         },
         "type": "category"
        },
        "yaxis": {
         "anchor": "x",
         "domain": [
          0,
          1
         ],
         "range": [
          0,
          0.8
         ],
         "title": {
          "text": "Percentage"
         }
        }
       }
      },
      "text/html": [
       "<div>                            <div id=\"abc07b77-9247-4039-8b51-a06ed6a58c7e\" class=\"plotly-graph-div\" style=\"height:525px; width:100%;\"></div>            <script type=\"text/javascript\">                require([\"plotly\"], function(Plotly) {                    window.PLOTLYENV=window.PLOTLYENV || {};                                    if (document.getElementById(\"abc07b77-9247-4039-8b51-a06ed6a58c7e\")) {                    Plotly.newPlot(                        \"abc07b77-9247-4039-8b51-a06ed6a58c7e\",                        [{\"alignmentgroup\": \"True\", \"hovertemplate\": \"<b>%{hovertext}</b><br><br>Year=2014<br>Question=%{x}<br>Percentage=%{y}<extra></extra>\", \"hovertext\": [\"Aspecto Visual\", \"Navega\\u00e7\\u00e3o na Ferramenta\", \"Perguntas\", \"Exemplos\", \"V\\u00eddeos\", \"Modelo de Neg\\u00f3cios\", \"Indica\\u00e7\\u00f5es de Interface\", \"Mural de Equipa\", \"Gest\\u00e3o de Equipa\", \"Gest\\u00e3o de Projectos\", \"Acesso a recursos externos\"], \"legendgroup\": \"2014\", \"marker\": {\"color\": \"#636efa\"}, \"name\": \"2014\", \"offsetgroup\": \"2014\", \"orientation\": \"v\", \"showlegend\": true, \"textposition\": \"auto\", \"type\": \"bar\", \"x\": [\"Aspecto Visual\", \"Navega\\u00e7\\u00e3o na Ferramenta\", \"Perguntas\", \"Exemplos\", \"V\\u00eddeos\", \"Modelo de Neg\\u00f3cios\", \"Indica\\u00e7\\u00f5es de Interface\", \"Mural de Equipa\", \"Gest\\u00e3o de Equipa\", \"Gest\\u00e3o de Projectos\", \"Acesso a recursos externos\"], \"xaxis\": \"x\", \"y\": [0.09741935483870967, 0.17806451612903226, 0.15870967741935485, 0.2032258064516129, 0.41483870967741937, 0.08903225806451613, 0.3103225806451613, 0.3709677419354839, 0.3212903225806452, 0.1335483870967742, 0.54], \"yaxis\": \"y\"}, {\"alignmentgroup\": \"True\", \"hovertemplate\": \"<b>%{hovertext}</b><br><br>Year=2015<br>Question=%{x}<br>Percentage=%{y}<extra></extra>\", \"hovertext\": [\"Aspecto Visual\", \"Navega\\u00e7\\u00e3o na Ferramenta\", \"Perguntas\", \"Exemplos\", \"V\\u00eddeos\", \"Modelo de Neg\\u00f3cios\", \"Indica\\u00e7\\u00f5es de Interface\", \"Mural de Equipa\", \"Gest\\u00e3o de Equipa\", \"Gest\\u00e3o de Projectos\", \"Acesso a recursos externos\"], \"legendgroup\": \"2015\", \"marker\": {\"color\": \"#EF553B\"}, \"name\": \"2015\", \"offsetgroup\": \"2015\", \"orientation\": \"v\", \"showlegend\": true, \"textposition\": \"auto\", \"type\": \"bar\", \"x\": [\"Aspecto Visual\", \"Navega\\u00e7\\u00e3o na Ferramenta\", \"Perguntas\", \"Exemplos\", \"V\\u00eddeos\", \"Modelo de Neg\\u00f3cios\", \"Indica\\u00e7\\u00f5es de Interface\", \"Mural de Equipa\", \"Gest\\u00e3o de Equipa\", \"Gest\\u00e3o de Projectos\", \"Acesso a recursos externos\"], \"xaxis\": \"x\", \"y\": [0.14772727272727273, 0.26136363636363635, 0.25, 0.23863636363636365, 0.25, 0.10227272727272728, 0.3636363636363637, 0.3181818181818182, 0.2840909090909091, 0.125, 0.6590909090909091], \"yaxis\": \"y\"}, {\"alignmentgroup\": \"True\", \"hovertemplate\": \"<b>%{hovertext}</b><br><br>Year=2016<br>Question=%{x}<br>Percentage=%{y}<extra></extra>\", \"hovertext\": [\"Aspecto Visual\", \"Navega\\u00e7\\u00e3o na Ferramenta\", \"Perguntas\", \"Exemplos\", \"V\\u00eddeos\", \"Modelo de Neg\\u00f3cios\", \"Indica\\u00e7\\u00f5es de Interface\", \"Mural de Equipa\", \"Gest\\u00e3o de Equipa\", \"Gest\\u00e3o de Projectos\"], \"legendgroup\": \"2016\", \"marker\": {\"color\": \"#00cc96\"}, \"name\": \"2016\", \"offsetgroup\": \"2016\", \"orientation\": \"v\", \"showlegend\": true, \"textposition\": \"auto\", \"type\": \"bar\", \"x\": [\"Aspecto Visual\", \"Navega\\u00e7\\u00e3o na Ferramenta\", \"Perguntas\", \"Exemplos\", \"V\\u00eddeos\", \"Modelo de Neg\\u00f3cios\", \"Indica\\u00e7\\u00f5es de Interface\", \"Mural de Equipa\", \"Gest\\u00e3o de Equipa\", \"Gest\\u00e3o de Projectos\"], \"xaxis\": \"x\", \"y\": [0.14056224899598393, 0.2289156626506024, 0.22088353413654616, 0.2329317269076305, 0.17269076305220885, 0.10441767068273093, 0.3734939759036144, 0.2891566265060241, 0.20481927710843373, 0.18875502008032127], \"yaxis\": \"y\"}, {\"alignmentgroup\": \"True\", \"hovertemplate\": \"<b>%{hovertext}</b><br><br>Year=2017<br>Question=%{x}<br>Percentage=%{y}<extra></extra>\", \"hovertext\": [\"Aspecto Visual\", \"Navega\\u00e7\\u00e3o na Ferramenta\", \"Perguntas\", \"Exemplos\", \"V\\u00eddeos\", \"Modelo de Neg\\u00f3cios\", \"Indica\\u00e7\\u00f5es de Interface\", \"Mural de Equipa\", \"Gest\\u00e3o de Equipa\", \"Gest\\u00e3o de Projectos\"], \"legendgroup\": \"2017\", \"marker\": {\"color\": \"#ab63fa\"}, \"name\": \"2017\", \"offsetgroup\": \"2017\", \"orientation\": \"v\", \"showlegend\": true, \"textposition\": \"auto\", \"type\": \"bar\", \"x\": [\"Aspecto Visual\", \"Navega\\u00e7\\u00e3o na Ferramenta\", \"Perguntas\", \"Exemplos\", \"V\\u00eddeos\", \"Modelo de Neg\\u00f3cios\", \"Indica\\u00e7\\u00f5es de Interface\", \"Mural de Equipa\", \"Gest\\u00e3o de Equipa\", \"Gest\\u00e3o de Projectos\"], \"xaxis\": \"x\", \"y\": [0.1334841628959276, 0.2262443438914027, 0.2398190045248869, 0.2420814479638009, 0.1425339366515837, 0.0746606334841629, 0.2963800904977376, 0.2420814479638009, 0.18099547511312214, 0.1176470588235294], \"yaxis\": \"y\"}, {\"alignmentgroup\": \"True\", \"hovertemplate\": \"<b>%{hovertext}</b><br><br>Year=2018<br>Question=%{x}<br>Percentage=%{y}<extra></extra>\", \"hovertext\": [\"Aspecto Visual\", \"Navega\\u00e7\\u00e3o na Ferramenta\", \"Perguntas\", \"Exemplos\", \"V\\u00eddeos\", \"Modelo de Neg\\u00f3cios\", \"Indica\\u00e7\\u00f5es de Interface\", \"Mural de Equipa\", \"Gest\\u00e3o de Equipa\", \"Gest\\u00e3o de Projectos\"], \"legendgroup\": \"2018\", \"marker\": {\"color\": \"#FFA15A\"}, \"name\": \"2018\", \"offsetgroup\": \"2018\", \"orientation\": \"v\", \"showlegend\": true, \"textposition\": \"auto\", \"type\": \"bar\", \"x\": [\"Aspecto Visual\", \"Navega\\u00e7\\u00e3o na Ferramenta\", \"Perguntas\", \"Exemplos\", \"V\\u00eddeos\", \"Modelo de Neg\\u00f3cios\", \"Indica\\u00e7\\u00f5es de Interface\", \"Mural de Equipa\", \"Gest\\u00e3o de Equipa\", \"Gest\\u00e3o de Projectos\"], \"xaxis\": \"x\", \"y\": [0.15057471264367814, 0.2183908045977012, 0.3057471264367816, 0.2988505747126437, 0.20689655172413796, 0.0896551724137931, 0.3275862068965517, 0.2574712643678161, 0.15402298850574714, 0.10919540229885058], \"yaxis\": \"y\"}, {\"alignmentgroup\": \"True\", \"hovertemplate\": \"<b>%{hovertext}</b><br><br>Year=2019<br>Question=%{x}<br>Percentage=%{y}<extra></extra>\", \"hovertext\": [\"Resumo do neg\\u00f3cio\", \"Modelo de Neg\\u00f3cios\", \"Indica\\u00e7\\u00f5es de Interface\", \"Navega\\u00e7\\u00e3o na Ferramenta\", \"Aspecto Visual\", \"Exemplos\", \"Perguntas\", \"V\\u00eddeos\", \"Gest\\u00e3o de Equipa\", \"Acesso a recursos externos\"], \"legendgroup\": \"2019\", \"marker\": {\"color\": \"#19d3f3\"}, \"name\": \"2019\", \"offsetgroup\": \"2019\", \"orientation\": \"v\", \"showlegend\": true, \"textposition\": \"auto\", \"type\": \"bar\", \"x\": [\"Resumo do neg\\u00f3cio\", \"Modelo de Neg\\u00f3cios\", \"Indica\\u00e7\\u00f5es de Interface\", \"Navega\\u00e7\\u00e3o na Ferramenta\", \"Aspecto Visual\", \"Exemplos\", \"Perguntas\", \"V\\u00eddeos\", \"Gest\\u00e3o de Equipa\", \"Acesso a recursos externos\"], \"xaxis\": \"x\", \"y\": [0.0, 0.13157894736842105, 0.2842105263157895, 0.23157894736842105, 0.18947368421052632, 0.2, 0.22105263157894736, 0.1263157894736842, 0.21578947368421053, 0.4105263157894737], \"yaxis\": \"y\"}, {\"alignmentgroup\": \"True\", \"hovertemplate\": \"<b>%{hovertext}</b><br><br>Year=2020<br>Question=%{x}<br>Percentage=%{y}<extra></extra>\", \"hovertext\": [\"Resumo do neg\\u00f3cio\", \"Modelo de Neg\\u00f3cios\", \"Indica\\u00e7\\u00f5es de Interface\", \"Navega\\u00e7\\u00e3o na Ferramenta\", \"Aspecto Visual\", \"Exemplos\", \"Perguntas\", \"V\\u00eddeos\", \"Gest\\u00e3o de Equipa\", \"Acesso a recursos externos\"], \"legendgroup\": \"2020\", \"marker\": {\"color\": \"#FF6692\"}, \"name\": \"2020\", \"offsetgroup\": \"2020\", \"orientation\": \"v\", \"showlegend\": true, \"textposition\": \"auto\", \"type\": \"bar\", \"x\": [\"Resumo do neg\\u00f3cio\", \"Modelo de Neg\\u00f3cios\", \"Indica\\u00e7\\u00f5es de Interface\", \"Navega\\u00e7\\u00e3o na Ferramenta\", \"Aspecto Visual\", \"Exemplos\", \"Perguntas\", \"V\\u00eddeos\", \"Gest\\u00e3o de Equipa\", \"Acesso a recursos externos\"], \"xaxis\": \"x\", \"y\": [0.0, 0.09848484848484848, 0.26515151515151514, 0.3409090909090909, 0.20454545454545456, 0.14393939393939395, 0.20454545454545456, 0.10606060606060606, 0.1893939393939394, 0.2803030303030303], \"yaxis\": \"y\"}],                        {\"barmode\": \"group\", \"legend\": {\"title\": {\"text\": \"Year\"}, \"tracegroupgap\": 0}, \"margin\": {\"t\": 60}, \"template\": {\"data\": {\"bar\": [{\"error_x\": {\"color\": \"#2a3f5f\"}, \"error_y\": {\"color\": \"#2a3f5f\"}, \"marker\": {\"line\": {\"color\": \"#E5ECF6\", \"width\": 0.5}}, \"type\": \"bar\"}], \"barpolar\": [{\"marker\": {\"line\": {\"color\": \"#E5ECF6\", \"width\": 0.5}}, \"type\": \"barpolar\"}], \"carpet\": [{\"aaxis\": {\"endlinecolor\": \"#2a3f5f\", \"gridcolor\": \"white\", \"linecolor\": \"white\", \"minorgridcolor\": \"white\", \"startlinecolor\": \"#2a3f5f\"}, \"baxis\": {\"endlinecolor\": \"#2a3f5f\", \"gridcolor\": \"white\", \"linecolor\": \"white\", \"minorgridcolor\": \"white\", \"startlinecolor\": \"#2a3f5f\"}, \"type\": \"carpet\"}], \"choropleth\": [{\"colorbar\": {\"outlinewidth\": 0, \"ticks\": \"\"}, \"type\": \"choropleth\"}], \"contour\": [{\"colorbar\": {\"outlinewidth\": 0, \"ticks\": \"\"}, \"colorscale\": [[0.0, \"#0d0887\"], [0.1111111111111111, \"#46039f\"], [0.2222222222222222, \"#7201a8\"], [0.3333333333333333, \"#9c179e\"], [0.4444444444444444, \"#bd3786\"], [0.5555555555555556, \"#d8576b\"], [0.6666666666666666, \"#ed7953\"], [0.7777777777777778, \"#fb9f3a\"], [0.8888888888888888, \"#fdca26\"], [1.0, \"#f0f921\"]], \"type\": \"contour\"}], \"contourcarpet\": [{\"colorbar\": {\"outlinewidth\": 0, \"ticks\": \"\"}, \"type\": \"contourcarpet\"}], \"heatmap\": [{\"colorbar\": {\"outlinewidth\": 0, \"ticks\": \"\"}, \"colorscale\": [[0.0, \"#0d0887\"], [0.1111111111111111, \"#46039f\"], [0.2222222222222222, \"#7201a8\"], [0.3333333333333333, \"#9c179e\"], [0.4444444444444444, \"#bd3786\"], [0.5555555555555556, \"#d8576b\"], [0.6666666666666666, \"#ed7953\"], [0.7777777777777778, \"#fb9f3a\"], [0.8888888888888888, \"#fdca26\"], [1.0, \"#f0f921\"]], \"type\": \"heatmap\"}], \"heatmapgl\": [{\"colorbar\": {\"outlinewidth\": 0, \"ticks\": \"\"}, \"colorscale\": [[0.0, \"#0d0887\"], [0.1111111111111111, \"#46039f\"], [0.2222222222222222, \"#7201a8\"], [0.3333333333333333, \"#9c179e\"], [0.4444444444444444, \"#bd3786\"], [0.5555555555555556, \"#d8576b\"], [0.6666666666666666, \"#ed7953\"], [0.7777777777777778, \"#fb9f3a\"], [0.8888888888888888, \"#fdca26\"], [1.0, \"#f0f921\"]], \"type\": \"heatmapgl\"}], \"histogram\": [{\"marker\": {\"colorbar\": {\"outlinewidth\": 0, \"ticks\": \"\"}}, \"type\": \"histogram\"}], \"histogram2d\": [{\"colorbar\": {\"outlinewidth\": 0, \"ticks\": \"\"}, \"colorscale\": [[0.0, \"#0d0887\"], [0.1111111111111111, \"#46039f\"], [0.2222222222222222, \"#7201a8\"], [0.3333333333333333, \"#9c179e\"], [0.4444444444444444, \"#bd3786\"], [0.5555555555555556, \"#d8576b\"], [0.6666666666666666, \"#ed7953\"], [0.7777777777777778, \"#fb9f3a\"], [0.8888888888888888, \"#fdca26\"], [1.0, \"#f0f921\"]], \"type\": \"histogram2d\"}], \"histogram2dcontour\": [{\"colorbar\": {\"outlinewidth\": 0, \"ticks\": \"\"}, \"colorscale\": [[0.0, \"#0d0887\"], [0.1111111111111111, \"#46039f\"], [0.2222222222222222, \"#7201a8\"], [0.3333333333333333, \"#9c179e\"], [0.4444444444444444, \"#bd3786\"], [0.5555555555555556, \"#d8576b\"], [0.6666666666666666, \"#ed7953\"], [0.7777777777777778, \"#fb9f3a\"], [0.8888888888888888, \"#fdca26\"], [1.0, \"#f0f921\"]], \"type\": \"histogram2dcontour\"}], \"mesh3d\": [{\"colorbar\": {\"outlinewidth\": 0, \"ticks\": \"\"}, \"type\": \"mesh3d\"}], \"parcoords\": [{\"line\": {\"colorbar\": {\"outlinewidth\": 0, \"ticks\": \"\"}}, \"type\": \"parcoords\"}], \"pie\": [{\"automargin\": true, \"type\": \"pie\"}], \"scatter\": [{\"marker\": {\"colorbar\": {\"outlinewidth\": 0, \"ticks\": \"\"}}, \"type\": \"scatter\"}], \"scatter3d\": [{\"line\": {\"colorbar\": {\"outlinewidth\": 0, \"ticks\": \"\"}}, \"marker\": {\"colorbar\": {\"outlinewidth\": 0, \"ticks\": \"\"}}, \"type\": \"scatter3d\"}], \"scattercarpet\": [{\"marker\": {\"colorbar\": {\"outlinewidth\": 0, \"ticks\": \"\"}}, \"type\": \"scattercarpet\"}], \"scattergeo\": [{\"marker\": {\"colorbar\": {\"outlinewidth\": 0, \"ticks\": \"\"}}, \"type\": \"scattergeo\"}], \"scattergl\": [{\"marker\": {\"colorbar\": {\"outlinewidth\": 0, \"ticks\": \"\"}}, \"type\": \"scattergl\"}], \"scattermapbox\": [{\"marker\": {\"colorbar\": {\"outlinewidth\": 0, \"ticks\": \"\"}}, \"type\": \"scattermapbox\"}], \"scatterpolar\": [{\"marker\": {\"colorbar\": {\"outlinewidth\": 0, \"ticks\": \"\"}}, \"type\": \"scatterpolar\"}], \"scatterpolargl\": [{\"marker\": {\"colorbar\": {\"outlinewidth\": 0, \"ticks\": \"\"}}, \"type\": \"scatterpolargl\"}], \"scatterternary\": [{\"marker\": {\"colorbar\": {\"outlinewidth\": 0, \"ticks\": \"\"}}, \"type\": \"scatterternary\"}], \"surface\": [{\"colorbar\": {\"outlinewidth\": 0, \"ticks\": \"\"}, \"colorscale\": [[0.0, \"#0d0887\"], [0.1111111111111111, \"#46039f\"], [0.2222222222222222, \"#7201a8\"], [0.3333333333333333, \"#9c179e\"], [0.4444444444444444, \"#bd3786\"], [0.5555555555555556, \"#d8576b\"], [0.6666666666666666, \"#ed7953\"], [0.7777777777777778, \"#fb9f3a\"], [0.8888888888888888, \"#fdca26\"], [1.0, \"#f0f921\"]], \"type\": \"surface\"}], \"table\": [{\"cells\": {\"fill\": {\"color\": \"#EBF0F8\"}, \"line\": {\"color\": \"white\"}}, \"header\": {\"fill\": {\"color\": \"#C8D4E3\"}, \"line\": {\"color\": \"white\"}}, \"type\": \"table\"}]}, \"layout\": {\"annotationdefaults\": {\"arrowcolor\": \"#2a3f5f\", \"arrowhead\": 0, \"arrowwidth\": 1}, \"coloraxis\": {\"colorbar\": {\"outlinewidth\": 0, \"ticks\": \"\"}}, \"colorscale\": {\"diverging\": [[0, \"#8e0152\"], [0.1, \"#c51b7d\"], [0.2, \"#de77ae\"], [0.3, \"#f1b6da\"], [0.4, \"#fde0ef\"], [0.5, \"#f7f7f7\"], [0.6, \"#e6f5d0\"], [0.7, \"#b8e186\"], [0.8, \"#7fbc41\"], [0.9, \"#4d9221\"], [1, \"#276419\"]], \"sequential\": [[0.0, \"#0d0887\"], [0.1111111111111111, \"#46039f\"], [0.2222222222222222, \"#7201a8\"], [0.3333333333333333, \"#9c179e\"], [0.4444444444444444, \"#bd3786\"], [0.5555555555555556, \"#d8576b\"], [0.6666666666666666, \"#ed7953\"], [0.7777777777777778, \"#fb9f3a\"], [0.8888888888888888, \"#fdca26\"], [1.0, \"#f0f921\"]], \"sequentialminus\": [[0.0, \"#0d0887\"], [0.1111111111111111, \"#46039f\"], [0.2222222222222222, \"#7201a8\"], [0.3333333333333333, \"#9c179e\"], [0.4444444444444444, \"#bd3786\"], [0.5555555555555556, \"#d8576b\"], [0.6666666666666666, \"#ed7953\"], [0.7777777777777778, \"#fb9f3a\"], [0.8888888888888888, \"#fdca26\"], [1.0, \"#f0f921\"]]}, \"colorway\": [\"#636efa\", \"#EF553B\", \"#00cc96\", \"#ab63fa\", \"#FFA15A\", \"#19d3f3\", \"#FF6692\", \"#B6E880\", \"#FF97FF\", \"#FECB52\"], \"font\": {\"color\": \"#2a3f5f\"}, \"geo\": {\"bgcolor\": \"white\", \"lakecolor\": \"white\", \"landcolor\": \"#E5ECF6\", \"showlakes\": true, \"showland\": true, \"subunitcolor\": \"white\"}, \"hoverlabel\": {\"align\": \"left\"}, \"hovermode\": \"closest\", \"mapbox\": {\"style\": \"light\"}, \"paper_bgcolor\": \"white\", \"plot_bgcolor\": \"#E5ECF6\", \"polar\": {\"angularaxis\": {\"gridcolor\": \"white\", \"linecolor\": \"white\", \"ticks\": \"\"}, \"bgcolor\": \"#E5ECF6\", \"radialaxis\": {\"gridcolor\": \"white\", \"linecolor\": \"white\", \"ticks\": \"\"}}, \"scene\": {\"xaxis\": {\"backgroundcolor\": \"#E5ECF6\", \"gridcolor\": \"white\", \"gridwidth\": 2, \"linecolor\": \"white\", \"showbackground\": true, \"ticks\": \"\", \"zerolinecolor\": \"white\"}, \"yaxis\": {\"backgroundcolor\": \"#E5ECF6\", \"gridcolor\": \"white\", \"gridwidth\": 2, \"linecolor\": \"white\", \"showbackground\": true, \"ticks\": \"\", \"zerolinecolor\": \"white\"}, \"zaxis\": {\"backgroundcolor\": \"#E5ECF6\", \"gridcolor\": \"white\", \"gridwidth\": 2, \"linecolor\": \"white\", \"showbackground\": true, \"ticks\": \"\", \"zerolinecolor\": \"white\"}}, \"shapedefaults\": {\"line\": {\"color\": \"#2a3f5f\"}}, \"ternary\": {\"aaxis\": {\"gridcolor\": \"white\", \"linecolor\": \"white\", \"ticks\": \"\"}, \"baxis\": {\"gridcolor\": \"white\", \"linecolor\": \"white\", \"ticks\": \"\"}, \"bgcolor\": \"#E5ECF6\", \"caxis\": {\"gridcolor\": \"white\", \"linecolor\": \"white\", \"ticks\": \"\"}}, \"title\": {\"x\": 0.05}, \"xaxis\": {\"automargin\": true, \"gridcolor\": \"white\", \"linecolor\": \"white\", \"ticks\": \"\", \"title\": {\"standoff\": 15}, \"zerolinecolor\": \"white\", \"zerolinewidth\": 2}, \"yaxis\": {\"automargin\": true, \"gridcolor\": \"white\", \"linecolor\": \"white\", \"ticks\": \"\", \"title\": {\"standoff\": 15}, \"zerolinecolor\": \"white\", \"zerolinewidth\": 2}}}, \"title\": {\"text\": \"Negative Features Along the Years\"}, \"xaxis\": {\"anchor\": \"y\", \"domain\": [0.0, 1.0], \"title\": {\"text\": \"Question\"}, \"type\": \"category\"}, \"yaxis\": {\"anchor\": \"x\", \"domain\": [0.0, 1.0], \"range\": [0, 0.8], \"title\": {\"text\": \"Percentage\"}}},                        {\"responsive\": true}                    ).then(function(){\n",
       "                            \n",
       "var gd = document.getElementById('abc07b77-9247-4039-8b51-a06ed6a58c7e');\n",
       "var x = new MutationObserver(function (mutations, observer) {{\n",
       "        var display = window.getComputedStyle(gd).display;\n",
       "        if (!display || display === 'none') {{\n",
       "            console.log([gd, 'removed!']);\n",
       "            Plotly.purge(gd);\n",
       "            observer.disconnect();\n",
       "        }}\n",
       "}});\n",
       "\n",
       "// Listen for the removal of the full notebook cells\n",
       "var notebookContainer = gd.closest('#notebook-container');\n",
       "if (notebookContainer) {{\n",
       "    x.observe(notebookContainer, {childList: true});\n",
       "}}\n",
       "\n",
       "// Listen for the clearing of the current output cell\n",
       "var outputEl = gd.closest('.output');\n",
       "if (outputEl) {{\n",
       "    x.observe(outputEl, {childList: true});\n",
       "}}\n",
       "\n",
       "                        })                };                });            </script>        </div>"
      ]
     },
     "metadata": {},
     "output_type": "display_data"
    },
    {
     "data": {
      "image/png": "[encoded data removed]",
      "text/plain": [
       "<IPython.core.display.Image object>"
      ]
     },
     "execution_count": 41,
     "metadata": {},
     "output_type": "execute_result"
    }
   ],
   "source": [
    "\n",
    "import plotly_express as px\n",
    "\n",
    "fig = px.bar(NegOverYears, x=\"Question\", y=\"Percentage\", color='Year', barmode='group',\n",
    "             hover_name='Question', range_y=[0,0.8])\n",
    "fig.update_layout(title_text='Negative Features Along the Years')\n",
    "fig.update_layout(xaxis_type='category')\n",
    "\n",
    "fig.show()\n",
    "fig.write_image('Outputs/YearlyAverage/NegOverYears.png')\n",
    "\n",
    "\n",
    "\n",
    "from IPython.display import Image\n",
    "Image(filename='Outputs/YearlyAverage/NegOverYears.png')\n"
   ]
  },
  {
   "cell_type": "code",
   "execution_count": null,
   "metadata": {},
   "outputs": [],
   "source": []
  },
  {
   "cell_type": "code",
   "execution_count": null,
   "metadata": {},
   "outputs": [],
   "source": []
  },
  {
   "cell_type": "code",
   "execution_count": null,
   "metadata": {},
   "outputs": [],
   "source": []
  },
  {
   "cell_type": "markdown",
   "metadata": {},
   "source": [
    "### Save Processed Data<a name=\"processeddata\"></a>\n",
    "* [Back to TOC](#backtoc)\n"
   ]
  },
  {
   "cell_type": "code",
   "execution_count": null,
   "metadata": {},
   "outputs": [],
   "source": []
  },
  {
   "cell_type": "code",
   "execution_count": 42,
   "metadata": {},
   "outputs": [],
   "source": [
    "PosNegOverYears.to_csv(r'Data/DadosAoLongoDosAnos/PosNegOverYearsTotal.csv', index = False)\n"
   ]
  },
  {
   "cell_type": "code",
   "execution_count": 43,
   "metadata": {},
   "outputs": [],
   "source": [
    "NegOverYears.to_csv(r'Data/DadosAoLongoDosAnos/NegOverYearsTotal.csv', index = False)\n"
   ]
  },
  {
   "cell_type": "code",
   "execution_count": 44,
   "metadata": {},
   "outputs": [],
   "source": [
    "PosOverYears.to_csv(r'Data/DadosAoLongoDosAnos/PosOverYearsTotal.csv', index = False)\n"
   ]
  },
  {
   "cell_type": "code",
   "execution_count": null,
   "metadata": {},
   "outputs": [],
   "source": []
  },
  {
   "cell_type": "code",
   "execution_count": null,
   "metadata": {},
   "outputs": [],
   "source": []
  }
 ],
 "metadata": {
  "kernelspec": {
   "display_name": "Python 3",
   "language": "python",
   "name": "python3"
  },
  "language_info": {
   "codemirror_mode": {
    "name": "ipython",
    "version": 3
   },
   "file_extension": ".py",
   "mimetype": "text/x-python",
   "name": "python",
   "nbconvert_exporter": "python",
   "pygments_lexer": "ipython3",
   "version": "3.8.5"
  }
 },
 "nbformat": 4,
 "nbformat_minor": 4
}
