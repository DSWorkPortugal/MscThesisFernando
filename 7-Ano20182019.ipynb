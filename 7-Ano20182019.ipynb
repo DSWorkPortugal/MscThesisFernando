{
 "cells": [
  {
   "cell_type": "markdown",
   "metadata": {},
   "source": [
    "# Processing -Ano2018/2019"
   ]
  },
  {
   "cell_type": "code",
   "execution_count": null,
   "metadata": {},
   "outputs": [],
   "source": []
  },
  {
   "cell_type": "markdown",
   "metadata": {},
   "source": [
    "# Table of Contents\n",
    "1. [Import Packages](#imports)\n",
    "2. [Import the Data](#importdata)\n",
    "3. [Preprocess Data](#preprocess)\n",
    "4. [Liked/Disliked](#likedDisliked)\n",
    "5. [Learned/NotLearned](#LearnedNot)\n",
    "\n",
    "6. [Positives and Negatives](#posneg)\n",
    "7. [Data Visualizations](#dataviz)\n",
    "8. [Save Processed Data](#processeddata)\n",
    "\n",
    "\n"
   ]
  },
  {
   "cell_type": "markdown",
   "metadata": {},
   "source": [
    "### Import Packages   <a name=\"imports\"></a>\n",
    "* [Back to TOC](#backtoc)\n"
   ]
  },
  {
   "cell_type": "code",
   "execution_count": 43,
   "metadata": {},
   "outputs": [],
   "source": [
    "# Import  libraries\n",
    "\n",
    "import pandas as pd\n",
    "import numpy as np \n",
    "\n",
    "\n",
    "import warnings\n",
    "warnings.filterwarnings(\"ignore\")\n"
   ]
  },
  {
   "cell_type": "markdown",
   "metadata": {},
   "source": [
    "### Import the data  <a name=\"importdata\"></a>\n",
    "* [Back to TOC](#backtoc)\n"
   ]
  },
  {
   "cell_type": "code",
   "execution_count": 44,
   "metadata": {},
   "outputs": [
    {
     "data": {
      "text/html": [
       "<div>\n",
       "<style scoped>\n",
       "    .dataframe tbody tr th:only-of-type {\n",
       "        vertical-align: middle;\n",
       "    }\n",
       "\n",
       "    .dataframe tbody tr th {\n",
       "        vertical-align: top;\n",
       "    }\n",
       "\n",
       "    .dataframe thead th {\n",
       "        text-align: right;\n",
       "    }\n",
       "</style>\n",
       "<table border=\"1\" class=\"dataframe\">\n",
       "  <thead>\n",
       "    <tr style=\"text-align: right;\">\n",
       "      <th></th>\n",
       "      <th>Está satisfeito com a ferramenta DreamShaper?(Classifique de 1 a 4, sendo 1: Nada satisfeito e 4: Muito Satisfeito)</th>\n",
       "      <th>Sentiu que os videos da Dreamshaper foram úteis para si?</th>\n",
       "      <th>Os exemplos foram úteis para si?</th>\n",
       "      <th>Acha que a ferramenta tem perguntas a mais ou, pelo contrário, gostaria de ter mais perguntas intermédias que ajudam a ir ‘entrando’ nos novos conceitos?</th>\n",
       "      <th>Quais são os seus 3 aspectos preferidos da ferramenta?</th>\n",
       "      <th>E quais são os 3 aspectos que menos gosta?</th>\n",
       "      <th>Quanto aprendeu com a DreamShaper?</th>\n",
       "    </tr>\n",
       "  </thead>\n",
       "  <tbody>\n",
       "    <tr>\n",
       "      <th>0</th>\n",
       "      <td>3</td>\n",
       "      <td>Foram muito úteis</td>\n",
       "      <td>Muito úteis</td>\n",
       "      <td>Tem perguntas a mais; gostaria de ir mais dire...</td>\n",
       "      <td>Resumo do negócio;Aspecto visual;Modelo de neg...</td>\n",
       "      <td>Navegação na ferramenta;Indicações de interfac...</td>\n",
       "      <td>Alguma coisa</td>\n",
       "    </tr>\n",
       "    <tr>\n",
       "      <th>1</th>\n",
       "      <td>3</td>\n",
       "      <td>Foram muito úteis</td>\n",
       "      <td>Algo úteis</td>\n",
       "      <td>Tem perguntas a mais; gostaria de ir mais dire...</td>\n",
       "      <td>Modelo de negócios;</td>\n",
       "      <td>Aspecto visual;Navegação na ferramenta;</td>\n",
       "      <td>Alguma coisa</td>\n",
       "    </tr>\n",
       "    <tr>\n",
       "      <th>2</th>\n",
       "      <td>1- Nada Satisfeito</td>\n",
       "      <td>Não foram úteis</td>\n",
       "      <td>Não, nada úteis</td>\n",
       "      <td>Tem perguntas a mais; gostaria de ir mais dire...</td>\n",
       "      <td>Indicações de interface;</td>\n",
       "      <td>Monte pio ;</td>\n",
       "      <td>Alguma coisa</td>\n",
       "    </tr>\n",
       "    <tr>\n",
       "      <th>3</th>\n",
       "      <td>3</td>\n",
       "      <td>Foram muito úteis</td>\n",
       "      <td>Muito úteis</td>\n",
       "      <td>Tem perguntas a mais; gostaria de ir mais dire...</td>\n",
       "      <td>Navegação na ferramenta;Perguntas;Exemplos;</td>\n",
       "      <td>Aspecto visual;Modelo de negócios;Acesso a rec...</td>\n",
       "      <td>Bastante</td>\n",
       "    </tr>\n",
       "    <tr>\n",
       "      <th>4</th>\n",
       "      <td>2</td>\n",
       "      <td>Úteis, mas pouco</td>\n",
       "      <td>Pouco úteis</td>\n",
       "      <td>Tem perguntas a mais; gostaria de ir mais dire...</td>\n",
       "      <td>Aspecto visual;</td>\n",
       "      <td>Navegação na ferramenta;Perguntas;Modelo de ne...</td>\n",
       "      <td>Pouco</td>\n",
       "    </tr>\n",
       "    <tr>\n",
       "      <th>...</th>\n",
       "      <td>...</td>\n",
       "      <td>...</td>\n",
       "      <td>...</td>\n",
       "      <td>...</td>\n",
       "      <td>...</td>\n",
       "      <td>...</td>\n",
       "      <td>...</td>\n",
       "    </tr>\n",
       "    <tr>\n",
       "      <th>185</th>\n",
       "      <td>4- Muito Satisfeito</td>\n",
       "      <td>Foram muito úteis</td>\n",
       "      <td>Algo úteis</td>\n",
       "      <td>Gosto do actual equilíbrio de perguntas</td>\n",
       "      <td>Vídeos;Gestão de equipa;</td>\n",
       "      <td>gostei de tudo;</td>\n",
       "      <td>Bastante</td>\n",
       "    </tr>\n",
       "    <tr>\n",
       "      <th>186</th>\n",
       "      <td>3</td>\n",
       "      <td>Úteis, mas pouco</td>\n",
       "      <td>Pouco úteis</td>\n",
       "      <td>Gosto do actual equilíbrio de perguntas</td>\n",
       "      <td>Vídeos;Modelo de negócios;Gestão de equipa;</td>\n",
       "      <td>Navegação na ferramenta;Perguntas;Acesso a rec...</td>\n",
       "      <td>Pouco</td>\n",
       "    </tr>\n",
       "    <tr>\n",
       "      <th>187</th>\n",
       "      <td>3</td>\n",
       "      <td>Foram muito úteis</td>\n",
       "      <td>Muito úteis</td>\n",
       "      <td>Gosto do actual equilíbrio de perguntas</td>\n",
       "      <td>Navegação na ferramenta;Modelo de negócios;Ges...</td>\n",
       "      <td>Não tenho do que não gostar;</td>\n",
       "      <td>Bastante</td>\n",
       "    </tr>\n",
       "    <tr>\n",
       "      <th>188</th>\n",
       "      <td>4- Muito Satisfeito</td>\n",
       "      <td>Foram muito úteis</td>\n",
       "      <td>Algo úteis</td>\n",
       "      <td>Gostaria de ter mais perguntas intermédias par...</td>\n",
       "      <td>Navegação na ferramenta;Modelo de negócios;Ges...</td>\n",
       "      <td>Perguntas;Exemplos;Gestão de equipa;</td>\n",
       "      <td>Bastante</td>\n",
       "    </tr>\n",
       "    <tr>\n",
       "      <th>189</th>\n",
       "      <td>3</td>\n",
       "      <td>Foram muito úteis</td>\n",
       "      <td>Algo úteis</td>\n",
       "      <td>Gosto do actual equilíbrio de perguntas</td>\n",
       "      <td>Exemplos;Modelo de negócios;Gestão de projectos;</td>\n",
       "      <td>Aspecto visual;Navegação na ferramenta;</td>\n",
       "      <td>Bastante</td>\n",
       "    </tr>\n",
       "  </tbody>\n",
       "</table>\n",
       "<p>190 rows × 7 columns</p>\n",
       "</div>"
      ],
      "text/plain": [
       "    Está satisfeito com a ferramenta DreamShaper?(Classifique de 1 a 4, sendo 1: Nada satisfeito e 4: Muito Satisfeito)  \\\n",
       "0                                                    3                                                                    \n",
       "1                                                    3                                                                    \n",
       "2                                   1- Nada Satisfeito                                                                    \n",
       "3                                                    3                                                                    \n",
       "4                                                    2                                                                    \n",
       "..                                                 ...                                                                    \n",
       "185                                4- Muito Satisfeito                                                                    \n",
       "186                                                  3                                                                    \n",
       "187                                                  3                                                                    \n",
       "188                                4- Muito Satisfeito                                                                    \n",
       "189                                                  3                                                                    \n",
       "\n",
       "    Sentiu que os videos da Dreamshaper foram úteis para si?  \\\n",
       "0                                    Foram muito úteis         \n",
       "1                                    Foram muito úteis         \n",
       "2                                      Não foram úteis         \n",
       "3                                    Foram muito úteis         \n",
       "4                                     Úteis, mas pouco         \n",
       "..                                                 ...         \n",
       "185                                  Foram muito úteis         \n",
       "186                                   Úteis, mas pouco         \n",
       "187                                  Foram muito úteis         \n",
       "188                                  Foram muito úteis         \n",
       "189                                  Foram muito úteis         \n",
       "\n",
       "    Os exemplos foram úteis para si?  \\\n",
       "0                        Muito úteis   \n",
       "1                         Algo úteis   \n",
       "2                    Não, nada úteis   \n",
       "3                        Muito úteis   \n",
       "4                        Pouco úteis   \n",
       "..                               ...   \n",
       "185                       Algo úteis   \n",
       "186                      Pouco úteis   \n",
       "187                      Muito úteis   \n",
       "188                       Algo úteis   \n",
       "189                       Algo úteis   \n",
       "\n",
       "    Acha que a ferramenta tem perguntas a mais ou, pelo contrário, gostaria de ter mais perguntas intermédias que ajudam a ir ‘entrando’ nos novos conceitos?  \\\n",
       "0    Tem perguntas a mais; gostaria de ir mais dire...                                                                                                          \n",
       "1    Tem perguntas a mais; gostaria de ir mais dire...                                                                                                          \n",
       "2    Tem perguntas a mais; gostaria de ir mais dire...                                                                                                          \n",
       "3    Tem perguntas a mais; gostaria de ir mais dire...                                                                                                          \n",
       "4    Tem perguntas a mais; gostaria de ir mais dire...                                                                                                          \n",
       "..                                                 ...                                                                                                          \n",
       "185            Gosto do actual equilíbrio de perguntas                                                                                                          \n",
       "186            Gosto do actual equilíbrio de perguntas                                                                                                          \n",
       "187            Gosto do actual equilíbrio de perguntas                                                                                                          \n",
       "188  Gostaria de ter mais perguntas intermédias par...                                                                                                          \n",
       "189            Gosto do actual equilíbrio de perguntas                                                                                                          \n",
       "\n",
       "    Quais são os seus 3 aspectos preferidos da ferramenta?  \\\n",
       "0    Resumo do negócio;Aspecto visual;Modelo de neg...       \n",
       "1                                  Modelo de negócios;       \n",
       "2                             Indicações de interface;       \n",
       "3          Navegação na ferramenta;Perguntas;Exemplos;       \n",
       "4                                      Aspecto visual;       \n",
       "..                                                 ...       \n",
       "185                           Vídeos;Gestão de equipa;       \n",
       "186        Vídeos;Modelo de negócios;Gestão de equipa;       \n",
       "187  Navegação na ferramenta;Modelo de negócios;Ges...       \n",
       "188  Navegação na ferramenta;Modelo de negócios;Ges...       \n",
       "189   Exemplos;Modelo de negócios;Gestão de projectos;       \n",
       "\n",
       "            E quais são os 3 aspectos que menos gosta?  \\\n",
       "0    Navegação na ferramenta;Indicações de interfac...   \n",
       "1              Aspecto visual;Navegação na ferramenta;   \n",
       "2                                          Monte pio ;   \n",
       "3    Aspecto visual;Modelo de negócios;Acesso a rec...   \n",
       "4    Navegação na ferramenta;Perguntas;Modelo de ne...   \n",
       "..                                                 ...   \n",
       "185                                    gostei de tudo;   \n",
       "186  Navegação na ferramenta;Perguntas;Acesso a rec...   \n",
       "187                       Não tenho do que não gostar;   \n",
       "188               Perguntas;Exemplos;Gestão de equipa;   \n",
       "189            Aspecto visual;Navegação na ferramenta;   \n",
       "\n",
       "    Quanto aprendeu com a DreamShaper?  \n",
       "0                         Alguma coisa  \n",
       "1                         Alguma coisa  \n",
       "2                         Alguma coisa  \n",
       "3                             Bastante  \n",
       "4                                Pouco  \n",
       "..                                 ...  \n",
       "185                           Bastante  \n",
       "186                              Pouco  \n",
       "187                           Bastante  \n",
       "188                           Bastante  \n",
       "189                           Bastante  \n",
       "\n",
       "[190 rows x 7 columns]"
      ]
     },
     "execution_count": 44,
     "metadata": {},
     "output_type": "execute_result"
    }
   ],
   "source": [
    "\n",
    "Ano20182019 = pd.read_excel (r'Data/DadosPorAno/Ano20182019.xlsx')\n",
    "Ano20182019"
   ]
  },
  {
   "cell_type": "code",
   "execution_count": null,
   "metadata": {},
   "outputs": [],
   "source": []
  },
  {
   "cell_type": "code",
   "execution_count": null,
   "metadata": {},
   "outputs": [],
   "source": []
  },
  {
   "cell_type": "markdown",
   "metadata": {},
   "source": [
    "### PreProcess Data  <a name=\"preprocess\"></a>\n",
    "* [Back to TOC](#backtoc)\n"
   ]
  },
  {
   "cell_type": "markdown",
   "metadata": {},
   "source": [
    "### Liked/Disliked <a name=\"likedDisliked\"></a>\n",
    "* [Back to TOC](#backtoc)\n"
   ]
  },
  {
   "cell_type": "code",
   "execution_count": 45,
   "metadata": {},
   "outputs": [],
   "source": [
    "Ano20182019['Está satisfeito com a ferramenta DreamShaper?'] =Ano20182019[\"Está satisfeito com a ferramenta DreamShaper?(Classifique de 1 a 4, sendo 1: Nada satisfeito e 4: Muito Satisfeito)\"]"
   ]
  },
  {
   "cell_type": "code",
   "execution_count": 46,
   "metadata": {},
   "outputs": [
    {
     "data": {
      "text/plain": [
       "array(['3', '1- Nada Satisfeito', '2', '4- Muito Satisfeito'],\n",
       "      dtype=object)"
      ]
     },
     "execution_count": 46,
     "metadata": {},
     "output_type": "execute_result"
    }
   ],
   "source": [
    "Ano20182019['Está satisfeito com a ferramenta DreamShaper?'].unique()"
   ]
  },
  {
   "cell_type": "code",
   "execution_count": 47,
   "metadata": {},
   "outputs": [
    {
     "data": {
      "text/html": [
       "<div>\n",
       "<style scoped>\n",
       "    .dataframe tbody tr th:only-of-type {\n",
       "        vertical-align: middle;\n",
       "    }\n",
       "\n",
       "    .dataframe tbody tr th {\n",
       "        vertical-align: top;\n",
       "    }\n",
       "\n",
       "    .dataframe thead th {\n",
       "        text-align: right;\n",
       "    }\n",
       "</style>\n",
       "<table border=\"1\" class=\"dataframe\">\n",
       "  <thead>\n",
       "    <tr style=\"text-align: right;\">\n",
       "      <th></th>\n",
       "      <th>Está satisfeito com a ferramenta DreamShaper?(Classifique de 1 a 4, sendo 1: Nada satisfeito e 4: Muito Satisfeito)</th>\n",
       "      <th>Sentiu que os videos da Dreamshaper foram úteis para si?</th>\n",
       "      <th>Os exemplos foram úteis para si?</th>\n",
       "      <th>Acha que a ferramenta tem perguntas a mais ou, pelo contrário, gostaria de ter mais perguntas intermédias que ajudam a ir ‘entrando’ nos novos conceitos?</th>\n",
       "      <th>Quais são os seus 3 aspectos preferidos da ferramenta?</th>\n",
       "      <th>E quais são os 3 aspectos que menos gosta?</th>\n",
       "      <th>Quanto aprendeu com a DreamShaper?</th>\n",
       "      <th>Está satisfeito com a ferramenta DreamShaper?</th>\n",
       "    </tr>\n",
       "  </thead>\n",
       "  <tbody>\n",
       "    <tr>\n",
       "      <th>0</th>\n",
       "      <td>3</td>\n",
       "      <td>Foram muito úteis</td>\n",
       "      <td>Muito úteis</td>\n",
       "      <td>Tem perguntas a mais; gostaria de ir mais dire...</td>\n",
       "      <td>Resumo do negócio;Aspecto visual;Modelo de neg...</td>\n",
       "      <td>Navegação na ferramenta;Indicações de interfac...</td>\n",
       "      <td>Alguma coisa</td>\n",
       "      <td>3</td>\n",
       "    </tr>\n",
       "    <tr>\n",
       "      <th>1</th>\n",
       "      <td>3</td>\n",
       "      <td>Foram muito úteis</td>\n",
       "      <td>Algo úteis</td>\n",
       "      <td>Tem perguntas a mais; gostaria de ir mais dire...</td>\n",
       "      <td>Modelo de negócios;</td>\n",
       "      <td>Aspecto visual;Navegação na ferramenta;</td>\n",
       "      <td>Alguma coisa</td>\n",
       "      <td>3</td>\n",
       "    </tr>\n",
       "    <tr>\n",
       "      <th>2</th>\n",
       "      <td>1- Nada Satisfeito</td>\n",
       "      <td>Não foram úteis</td>\n",
       "      <td>Não, nada úteis</td>\n",
       "      <td>Tem perguntas a mais; gostaria de ir mais dire...</td>\n",
       "      <td>Indicações de interface;</td>\n",
       "      <td>Monte pio ;</td>\n",
       "      <td>Alguma coisa</td>\n",
       "      <td>1- Nada Satisfeito</td>\n",
       "    </tr>\n",
       "    <tr>\n",
       "      <th>3</th>\n",
       "      <td>3</td>\n",
       "      <td>Foram muito úteis</td>\n",
       "      <td>Muito úteis</td>\n",
       "      <td>Tem perguntas a mais; gostaria de ir mais dire...</td>\n",
       "      <td>Navegação na ferramenta;Perguntas;Exemplos;</td>\n",
       "      <td>Aspecto visual;Modelo de negócios;Acesso a rec...</td>\n",
       "      <td>Bastante</td>\n",
       "      <td>3</td>\n",
       "    </tr>\n",
       "    <tr>\n",
       "      <th>4</th>\n",
       "      <td>2</td>\n",
       "      <td>Úteis, mas pouco</td>\n",
       "      <td>Pouco úteis</td>\n",
       "      <td>Tem perguntas a mais; gostaria de ir mais dire...</td>\n",
       "      <td>Aspecto visual;</td>\n",
       "      <td>Navegação na ferramenta;Perguntas;Modelo de ne...</td>\n",
       "      <td>Pouco</td>\n",
       "      <td>2</td>\n",
       "    </tr>\n",
       "    <tr>\n",
       "      <th>...</th>\n",
       "      <td>...</td>\n",
       "      <td>...</td>\n",
       "      <td>...</td>\n",
       "      <td>...</td>\n",
       "      <td>...</td>\n",
       "      <td>...</td>\n",
       "      <td>...</td>\n",
       "      <td>...</td>\n",
       "    </tr>\n",
       "    <tr>\n",
       "      <th>185</th>\n",
       "      <td>4- Muito Satisfeito</td>\n",
       "      <td>Foram muito úteis</td>\n",
       "      <td>Algo úteis</td>\n",
       "      <td>Gosto do actual equilíbrio de perguntas</td>\n",
       "      <td>Vídeos;Gestão de equipa;</td>\n",
       "      <td>gostei de tudo;</td>\n",
       "      <td>Bastante</td>\n",
       "      <td>4- Muito Satisfeito</td>\n",
       "    </tr>\n",
       "    <tr>\n",
       "      <th>186</th>\n",
       "      <td>3</td>\n",
       "      <td>Úteis, mas pouco</td>\n",
       "      <td>Pouco úteis</td>\n",
       "      <td>Gosto do actual equilíbrio de perguntas</td>\n",
       "      <td>Vídeos;Modelo de negócios;Gestão de equipa;</td>\n",
       "      <td>Navegação na ferramenta;Perguntas;Acesso a rec...</td>\n",
       "      <td>Pouco</td>\n",
       "      <td>3</td>\n",
       "    </tr>\n",
       "    <tr>\n",
       "      <th>187</th>\n",
       "      <td>3</td>\n",
       "      <td>Foram muito úteis</td>\n",
       "      <td>Muito úteis</td>\n",
       "      <td>Gosto do actual equilíbrio de perguntas</td>\n",
       "      <td>Navegação na ferramenta;Modelo de negócios;Ges...</td>\n",
       "      <td>Não tenho do que não gostar;</td>\n",
       "      <td>Bastante</td>\n",
       "      <td>3</td>\n",
       "    </tr>\n",
       "    <tr>\n",
       "      <th>188</th>\n",
       "      <td>4- Muito Satisfeito</td>\n",
       "      <td>Foram muito úteis</td>\n",
       "      <td>Algo úteis</td>\n",
       "      <td>Gostaria de ter mais perguntas intermédias par...</td>\n",
       "      <td>Navegação na ferramenta;Modelo de negócios;Ges...</td>\n",
       "      <td>Perguntas;Exemplos;Gestão de equipa;</td>\n",
       "      <td>Bastante</td>\n",
       "      <td>4- Muito Satisfeito</td>\n",
       "    </tr>\n",
       "    <tr>\n",
       "      <th>189</th>\n",
       "      <td>3</td>\n",
       "      <td>Foram muito úteis</td>\n",
       "      <td>Algo úteis</td>\n",
       "      <td>Gosto do actual equilíbrio de perguntas</td>\n",
       "      <td>Exemplos;Modelo de negócios;Gestão de projectos;</td>\n",
       "      <td>Aspecto visual;Navegação na ferramenta;</td>\n",
       "      <td>Bastante</td>\n",
       "      <td>3</td>\n",
       "    </tr>\n",
       "  </tbody>\n",
       "</table>\n",
       "<p>190 rows × 8 columns</p>\n",
       "</div>"
      ],
      "text/plain": [
       "    Está satisfeito com a ferramenta DreamShaper?(Classifique de 1 a 4, sendo 1: Nada satisfeito e 4: Muito Satisfeito)  \\\n",
       "0                                                    3                                                                    \n",
       "1                                                    3                                                                    \n",
       "2                                   1- Nada Satisfeito                                                                    \n",
       "3                                                    3                                                                    \n",
       "4                                                    2                                                                    \n",
       "..                                                 ...                                                                    \n",
       "185                                4- Muito Satisfeito                                                                    \n",
       "186                                                  3                                                                    \n",
       "187                                                  3                                                                    \n",
       "188                                4- Muito Satisfeito                                                                    \n",
       "189                                                  3                                                                    \n",
       "\n",
       "    Sentiu que os videos da Dreamshaper foram úteis para si?  \\\n",
       "0                                    Foram muito úteis         \n",
       "1                                    Foram muito úteis         \n",
       "2                                      Não foram úteis         \n",
       "3                                    Foram muito úteis         \n",
       "4                                     Úteis, mas pouco         \n",
       "..                                                 ...         \n",
       "185                                  Foram muito úteis         \n",
       "186                                   Úteis, mas pouco         \n",
       "187                                  Foram muito úteis         \n",
       "188                                  Foram muito úteis         \n",
       "189                                  Foram muito úteis         \n",
       "\n",
       "    Os exemplos foram úteis para si?  \\\n",
       "0                        Muito úteis   \n",
       "1                         Algo úteis   \n",
       "2                    Não, nada úteis   \n",
       "3                        Muito úteis   \n",
       "4                        Pouco úteis   \n",
       "..                               ...   \n",
       "185                       Algo úteis   \n",
       "186                      Pouco úteis   \n",
       "187                      Muito úteis   \n",
       "188                       Algo úteis   \n",
       "189                       Algo úteis   \n",
       "\n",
       "    Acha que a ferramenta tem perguntas a mais ou, pelo contrário, gostaria de ter mais perguntas intermédias que ajudam a ir ‘entrando’ nos novos conceitos?  \\\n",
       "0    Tem perguntas a mais; gostaria de ir mais dire...                                                                                                          \n",
       "1    Tem perguntas a mais; gostaria de ir mais dire...                                                                                                          \n",
       "2    Tem perguntas a mais; gostaria de ir mais dire...                                                                                                          \n",
       "3    Tem perguntas a mais; gostaria de ir mais dire...                                                                                                          \n",
       "4    Tem perguntas a mais; gostaria de ir mais dire...                                                                                                          \n",
       "..                                                 ...                                                                                                          \n",
       "185            Gosto do actual equilíbrio de perguntas                                                                                                          \n",
       "186            Gosto do actual equilíbrio de perguntas                                                                                                          \n",
       "187            Gosto do actual equilíbrio de perguntas                                                                                                          \n",
       "188  Gostaria de ter mais perguntas intermédias par...                                                                                                          \n",
       "189            Gosto do actual equilíbrio de perguntas                                                                                                          \n",
       "\n",
       "    Quais são os seus 3 aspectos preferidos da ferramenta?  \\\n",
       "0    Resumo do negócio;Aspecto visual;Modelo de neg...       \n",
       "1                                  Modelo de negócios;       \n",
       "2                             Indicações de interface;       \n",
       "3          Navegação na ferramenta;Perguntas;Exemplos;       \n",
       "4                                      Aspecto visual;       \n",
       "..                                                 ...       \n",
       "185                           Vídeos;Gestão de equipa;       \n",
       "186        Vídeos;Modelo de negócios;Gestão de equipa;       \n",
       "187  Navegação na ferramenta;Modelo de negócios;Ges...       \n",
       "188  Navegação na ferramenta;Modelo de negócios;Ges...       \n",
       "189   Exemplos;Modelo de negócios;Gestão de projectos;       \n",
       "\n",
       "            E quais são os 3 aspectos que menos gosta?  \\\n",
       "0    Navegação na ferramenta;Indicações de interfac...   \n",
       "1              Aspecto visual;Navegação na ferramenta;   \n",
       "2                                          Monte pio ;   \n",
       "3    Aspecto visual;Modelo de negócios;Acesso a rec...   \n",
       "4    Navegação na ferramenta;Perguntas;Modelo de ne...   \n",
       "..                                                 ...   \n",
       "185                                    gostei de tudo;   \n",
       "186  Navegação na ferramenta;Perguntas;Acesso a rec...   \n",
       "187                       Não tenho do que não gostar;   \n",
       "188               Perguntas;Exemplos;Gestão de equipa;   \n",
       "189            Aspecto visual;Navegação na ferramenta;   \n",
       "\n",
       "    Quanto aprendeu com a DreamShaper?  \\\n",
       "0                         Alguma coisa   \n",
       "1                         Alguma coisa   \n",
       "2                         Alguma coisa   \n",
       "3                             Bastante   \n",
       "4                                Pouco   \n",
       "..                                 ...   \n",
       "185                           Bastante   \n",
       "186                              Pouco   \n",
       "187                           Bastante   \n",
       "188                           Bastante   \n",
       "189                           Bastante   \n",
       "\n",
       "    Está satisfeito com a ferramenta DreamShaper?  \n",
       "0                                               3  \n",
       "1                                               3  \n",
       "2                              1- Nada Satisfeito  \n",
       "3                                               3  \n",
       "4                                               2  \n",
       "..                                            ...  \n",
       "185                           4- Muito Satisfeito  \n",
       "186                                             3  \n",
       "187                                             3  \n",
       "188                           4- Muito Satisfeito  \n",
       "189                                             3  \n",
       "\n",
       "[190 rows x 8 columns]"
      ]
     },
     "execution_count": 47,
     "metadata": {},
     "output_type": "execute_result"
    }
   ],
   "source": [
    "Ano20182019"
   ]
  },
  {
   "cell_type": "code",
   "execution_count": 48,
   "metadata": {},
   "outputs": [],
   "source": [
    "# drop rows where it is na\n",
    "Ano20182019 = Ano20182019[Ano20182019['Está satisfeito com a ferramenta DreamShaper?'].notna()]\n"
   ]
  },
  {
   "cell_type": "code",
   "execution_count": 49,
   "metadata": {},
   "outputs": [],
   "source": [
    "Ano20182019['Está satisfeito com a ferramenta DreamShaper?'] = Ano20182019['Está satisfeito com a ferramenta DreamShaper?'].replace(['1- Nada Satisfeito'],'1')\n",
    "\n",
    "\n",
    "Ano20182019['Está satisfeito com a ferramenta DreamShaper?'] = Ano20182019['Está satisfeito com a ferramenta DreamShaper?'].replace(['4- Muito Satisfeito'],'4')\n"
   ]
  },
  {
   "cell_type": "code",
   "execution_count": 50,
   "metadata": {},
   "outputs": [
    {
     "data": {
      "text/html": [
       "<div>\n",
       "<style scoped>\n",
       "    .dataframe tbody tr th:only-of-type {\n",
       "        vertical-align: middle;\n",
       "    }\n",
       "\n",
       "    .dataframe tbody tr th {\n",
       "        vertical-align: top;\n",
       "    }\n",
       "\n",
       "    .dataframe thead th {\n",
       "        text-align: right;\n",
       "    }\n",
       "</style>\n",
       "<table border=\"1\" class=\"dataframe\">\n",
       "  <thead>\n",
       "    <tr style=\"text-align: right;\">\n",
       "      <th></th>\n",
       "      <th>Está satisfeito com a ferramenta DreamShaper?(Classifique de 1 a 4, sendo 1: Nada satisfeito e 4: Muito Satisfeito)</th>\n",
       "      <th>Sentiu que os videos da Dreamshaper foram úteis para si?</th>\n",
       "      <th>Os exemplos foram úteis para si?</th>\n",
       "      <th>Acha que a ferramenta tem perguntas a mais ou, pelo contrário, gostaria de ter mais perguntas intermédias que ajudam a ir ‘entrando’ nos novos conceitos?</th>\n",
       "      <th>Quais são os seus 3 aspectos preferidos da ferramenta?</th>\n",
       "      <th>E quais são os 3 aspectos que menos gosta?</th>\n",
       "      <th>Quanto aprendeu com a DreamShaper?</th>\n",
       "      <th>Está satisfeito com a ferramenta DreamShaper?</th>\n",
       "    </tr>\n",
       "  </thead>\n",
       "  <tbody>\n",
       "    <tr>\n",
       "      <th>0</th>\n",
       "      <td>3</td>\n",
       "      <td>Foram muito úteis</td>\n",
       "      <td>Muito úteis</td>\n",
       "      <td>Tem perguntas a mais; gostaria de ir mais dire...</td>\n",
       "      <td>Resumo do negócio;Aspecto visual;Modelo de neg...</td>\n",
       "      <td>Navegação na ferramenta;Indicações de interfac...</td>\n",
       "      <td>Alguma coisa</td>\n",
       "      <td>3</td>\n",
       "    </tr>\n",
       "    <tr>\n",
       "      <th>1</th>\n",
       "      <td>3</td>\n",
       "      <td>Foram muito úteis</td>\n",
       "      <td>Algo úteis</td>\n",
       "      <td>Tem perguntas a mais; gostaria de ir mais dire...</td>\n",
       "      <td>Modelo de negócios;</td>\n",
       "      <td>Aspecto visual;Navegação na ferramenta;</td>\n",
       "      <td>Alguma coisa</td>\n",
       "      <td>3</td>\n",
       "    </tr>\n",
       "    <tr>\n",
       "      <th>2</th>\n",
       "      <td>1- Nada Satisfeito</td>\n",
       "      <td>Não foram úteis</td>\n",
       "      <td>Não, nada úteis</td>\n",
       "      <td>Tem perguntas a mais; gostaria de ir mais dire...</td>\n",
       "      <td>Indicações de interface;</td>\n",
       "      <td>Monte pio ;</td>\n",
       "      <td>Alguma coisa</td>\n",
       "      <td>1</td>\n",
       "    </tr>\n",
       "    <tr>\n",
       "      <th>3</th>\n",
       "      <td>3</td>\n",
       "      <td>Foram muito úteis</td>\n",
       "      <td>Muito úteis</td>\n",
       "      <td>Tem perguntas a mais; gostaria de ir mais dire...</td>\n",
       "      <td>Navegação na ferramenta;Perguntas;Exemplos;</td>\n",
       "      <td>Aspecto visual;Modelo de negócios;Acesso a rec...</td>\n",
       "      <td>Bastante</td>\n",
       "      <td>3</td>\n",
       "    </tr>\n",
       "    <tr>\n",
       "      <th>4</th>\n",
       "      <td>2</td>\n",
       "      <td>Úteis, mas pouco</td>\n",
       "      <td>Pouco úteis</td>\n",
       "      <td>Tem perguntas a mais; gostaria de ir mais dire...</td>\n",
       "      <td>Aspecto visual;</td>\n",
       "      <td>Navegação na ferramenta;Perguntas;Modelo de ne...</td>\n",
       "      <td>Pouco</td>\n",
       "      <td>2</td>\n",
       "    </tr>\n",
       "    <tr>\n",
       "      <th>...</th>\n",
       "      <td>...</td>\n",
       "      <td>...</td>\n",
       "      <td>...</td>\n",
       "      <td>...</td>\n",
       "      <td>...</td>\n",
       "      <td>...</td>\n",
       "      <td>...</td>\n",
       "      <td>...</td>\n",
       "    </tr>\n",
       "    <tr>\n",
       "      <th>185</th>\n",
       "      <td>4- Muito Satisfeito</td>\n",
       "      <td>Foram muito úteis</td>\n",
       "      <td>Algo úteis</td>\n",
       "      <td>Gosto do actual equilíbrio de perguntas</td>\n",
       "      <td>Vídeos;Gestão de equipa;</td>\n",
       "      <td>gostei de tudo;</td>\n",
       "      <td>Bastante</td>\n",
       "      <td>4</td>\n",
       "    </tr>\n",
       "    <tr>\n",
       "      <th>186</th>\n",
       "      <td>3</td>\n",
       "      <td>Úteis, mas pouco</td>\n",
       "      <td>Pouco úteis</td>\n",
       "      <td>Gosto do actual equilíbrio de perguntas</td>\n",
       "      <td>Vídeos;Modelo de negócios;Gestão de equipa;</td>\n",
       "      <td>Navegação na ferramenta;Perguntas;Acesso a rec...</td>\n",
       "      <td>Pouco</td>\n",
       "      <td>3</td>\n",
       "    </tr>\n",
       "    <tr>\n",
       "      <th>187</th>\n",
       "      <td>3</td>\n",
       "      <td>Foram muito úteis</td>\n",
       "      <td>Muito úteis</td>\n",
       "      <td>Gosto do actual equilíbrio de perguntas</td>\n",
       "      <td>Navegação na ferramenta;Modelo de negócios;Ges...</td>\n",
       "      <td>Não tenho do que não gostar;</td>\n",
       "      <td>Bastante</td>\n",
       "      <td>3</td>\n",
       "    </tr>\n",
       "    <tr>\n",
       "      <th>188</th>\n",
       "      <td>4- Muito Satisfeito</td>\n",
       "      <td>Foram muito úteis</td>\n",
       "      <td>Algo úteis</td>\n",
       "      <td>Gostaria de ter mais perguntas intermédias par...</td>\n",
       "      <td>Navegação na ferramenta;Modelo de negócios;Ges...</td>\n",
       "      <td>Perguntas;Exemplos;Gestão de equipa;</td>\n",
       "      <td>Bastante</td>\n",
       "      <td>4</td>\n",
       "    </tr>\n",
       "    <tr>\n",
       "      <th>189</th>\n",
       "      <td>3</td>\n",
       "      <td>Foram muito úteis</td>\n",
       "      <td>Algo úteis</td>\n",
       "      <td>Gosto do actual equilíbrio de perguntas</td>\n",
       "      <td>Exemplos;Modelo de negócios;Gestão de projectos;</td>\n",
       "      <td>Aspecto visual;Navegação na ferramenta;</td>\n",
       "      <td>Bastante</td>\n",
       "      <td>3</td>\n",
       "    </tr>\n",
       "  </tbody>\n",
       "</table>\n",
       "<p>190 rows × 8 columns</p>\n",
       "</div>"
      ],
      "text/plain": [
       "    Está satisfeito com a ferramenta DreamShaper?(Classifique de 1 a 4, sendo 1: Nada satisfeito e 4: Muito Satisfeito)  \\\n",
       "0                                                    3                                                                    \n",
       "1                                                    3                                                                    \n",
       "2                                   1- Nada Satisfeito                                                                    \n",
       "3                                                    3                                                                    \n",
       "4                                                    2                                                                    \n",
       "..                                                 ...                                                                    \n",
       "185                                4- Muito Satisfeito                                                                    \n",
       "186                                                  3                                                                    \n",
       "187                                                  3                                                                    \n",
       "188                                4- Muito Satisfeito                                                                    \n",
       "189                                                  3                                                                    \n",
       "\n",
       "    Sentiu que os videos da Dreamshaper foram úteis para si?  \\\n",
       "0                                    Foram muito úteis         \n",
       "1                                    Foram muito úteis         \n",
       "2                                      Não foram úteis         \n",
       "3                                    Foram muito úteis         \n",
       "4                                     Úteis, mas pouco         \n",
       "..                                                 ...         \n",
       "185                                  Foram muito úteis         \n",
       "186                                   Úteis, mas pouco         \n",
       "187                                  Foram muito úteis         \n",
       "188                                  Foram muito úteis         \n",
       "189                                  Foram muito úteis         \n",
       "\n",
       "    Os exemplos foram úteis para si?  \\\n",
       "0                        Muito úteis   \n",
       "1                         Algo úteis   \n",
       "2                    Não, nada úteis   \n",
       "3                        Muito úteis   \n",
       "4                        Pouco úteis   \n",
       "..                               ...   \n",
       "185                       Algo úteis   \n",
       "186                      Pouco úteis   \n",
       "187                      Muito úteis   \n",
       "188                       Algo úteis   \n",
       "189                       Algo úteis   \n",
       "\n",
       "    Acha que a ferramenta tem perguntas a mais ou, pelo contrário, gostaria de ter mais perguntas intermédias que ajudam a ir ‘entrando’ nos novos conceitos?  \\\n",
       "0    Tem perguntas a mais; gostaria de ir mais dire...                                                                                                          \n",
       "1    Tem perguntas a mais; gostaria de ir mais dire...                                                                                                          \n",
       "2    Tem perguntas a mais; gostaria de ir mais dire...                                                                                                          \n",
       "3    Tem perguntas a mais; gostaria de ir mais dire...                                                                                                          \n",
       "4    Tem perguntas a mais; gostaria de ir mais dire...                                                                                                          \n",
       "..                                                 ...                                                                                                          \n",
       "185            Gosto do actual equilíbrio de perguntas                                                                                                          \n",
       "186            Gosto do actual equilíbrio de perguntas                                                                                                          \n",
       "187            Gosto do actual equilíbrio de perguntas                                                                                                          \n",
       "188  Gostaria de ter mais perguntas intermédias par...                                                                                                          \n",
       "189            Gosto do actual equilíbrio de perguntas                                                                                                          \n",
       "\n",
       "    Quais são os seus 3 aspectos preferidos da ferramenta?  \\\n",
       "0    Resumo do negócio;Aspecto visual;Modelo de neg...       \n",
       "1                                  Modelo de negócios;       \n",
       "2                             Indicações de interface;       \n",
       "3          Navegação na ferramenta;Perguntas;Exemplos;       \n",
       "4                                      Aspecto visual;       \n",
       "..                                                 ...       \n",
       "185                           Vídeos;Gestão de equipa;       \n",
       "186        Vídeos;Modelo de negócios;Gestão de equipa;       \n",
       "187  Navegação na ferramenta;Modelo de negócios;Ges...       \n",
       "188  Navegação na ferramenta;Modelo de negócios;Ges...       \n",
       "189   Exemplos;Modelo de negócios;Gestão de projectos;       \n",
       "\n",
       "            E quais são os 3 aspectos que menos gosta?  \\\n",
       "0    Navegação na ferramenta;Indicações de interfac...   \n",
       "1              Aspecto visual;Navegação na ferramenta;   \n",
       "2                                          Monte pio ;   \n",
       "3    Aspecto visual;Modelo de negócios;Acesso a rec...   \n",
       "4    Navegação na ferramenta;Perguntas;Modelo de ne...   \n",
       "..                                                 ...   \n",
       "185                                    gostei de tudo;   \n",
       "186  Navegação na ferramenta;Perguntas;Acesso a rec...   \n",
       "187                       Não tenho do que não gostar;   \n",
       "188               Perguntas;Exemplos;Gestão de equipa;   \n",
       "189            Aspecto visual;Navegação na ferramenta;   \n",
       "\n",
       "    Quanto aprendeu com a DreamShaper?  \\\n",
       "0                         Alguma coisa   \n",
       "1                         Alguma coisa   \n",
       "2                         Alguma coisa   \n",
       "3                             Bastante   \n",
       "4                                Pouco   \n",
       "..                                 ...   \n",
       "185                           Bastante   \n",
       "186                              Pouco   \n",
       "187                           Bastante   \n",
       "188                           Bastante   \n",
       "189                           Bastante   \n",
       "\n",
       "    Está satisfeito com a ferramenta DreamShaper?  \n",
       "0                                               3  \n",
       "1                                               3  \n",
       "2                                               1  \n",
       "3                                               3  \n",
       "4                                               2  \n",
       "..                                            ...  \n",
       "185                                             4  \n",
       "186                                             3  \n",
       "187                                             3  \n",
       "188                                             4  \n",
       "189                                             3  \n",
       "\n",
       "[190 rows x 8 columns]"
      ]
     },
     "execution_count": 50,
     "metadata": {},
     "output_type": "execute_result"
    }
   ],
   "source": [
    "Ano20182019"
   ]
  },
  {
   "cell_type": "code",
   "execution_count": null,
   "metadata": {},
   "outputs": [],
   "source": []
  },
  {
   "cell_type": "code",
   "execution_count": null,
   "metadata": {},
   "outputs": [],
   "source": []
  },
  {
   "cell_type": "code",
   "execution_count": 51,
   "metadata": {
    "scrolled": true
   },
   "outputs": [
    {
     "data": {
      "text/html": [
       "<div>\n",
       "<style scoped>\n",
       "    .dataframe tbody tr th:only-of-type {\n",
       "        vertical-align: middle;\n",
       "    }\n",
       "\n",
       "    .dataframe tbody tr th {\n",
       "        vertical-align: top;\n",
       "    }\n",
       "\n",
       "    .dataframe thead th {\n",
       "        text-align: right;\n",
       "    }\n",
       "</style>\n",
       "<table border=\"1\" class=\"dataframe\">\n",
       "  <thead>\n",
       "    <tr style=\"text-align: right;\">\n",
       "      <th></th>\n",
       "      <th>Está satisfeito com a ferramenta DreamShaper?(Classifique de 1 a 4, sendo 1: Nada satisfeito e 4: Muito Satisfeito)</th>\n",
       "      <th>Sentiu que os videos da Dreamshaper foram úteis para si?</th>\n",
       "      <th>Os exemplos foram úteis para si?</th>\n",
       "      <th>Acha que a ferramenta tem perguntas a mais ou, pelo contrário, gostaria de ter mais perguntas intermédias que ajudam a ir ‘entrando’ nos novos conceitos?</th>\n",
       "      <th>Quais são os seus 3 aspectos preferidos da ferramenta?</th>\n",
       "      <th>E quais são os 3 aspectos que menos gosta?</th>\n",
       "      <th>Quanto aprendeu com a DreamShaper?</th>\n",
       "      <th>Está satisfeito com a ferramenta DreamShaper?</th>\n",
       "    </tr>\n",
       "  </thead>\n",
       "  <tbody>\n",
       "    <tr>\n",
       "      <th>0</th>\n",
       "      <td>3</td>\n",
       "      <td>Foram muito úteis</td>\n",
       "      <td>Muito úteis</td>\n",
       "      <td>Tem perguntas a mais; gostaria de ir mais dire...</td>\n",
       "      <td>Resumo do negócio;Aspecto visual;Modelo de neg...</td>\n",
       "      <td>Navegação na ferramenta;Indicações de interfac...</td>\n",
       "      <td>Alguma coisa</td>\n",
       "      <td>3</td>\n",
       "    </tr>\n",
       "    <tr>\n",
       "      <th>1</th>\n",
       "      <td>3</td>\n",
       "      <td>Foram muito úteis</td>\n",
       "      <td>Algo úteis</td>\n",
       "      <td>Tem perguntas a mais; gostaria de ir mais dire...</td>\n",
       "      <td>Modelo de negócios;</td>\n",
       "      <td>Aspecto visual;Navegação na ferramenta;</td>\n",
       "      <td>Alguma coisa</td>\n",
       "      <td>3</td>\n",
       "    </tr>\n",
       "    <tr>\n",
       "      <th>2</th>\n",
       "      <td>1- Nada Satisfeito</td>\n",
       "      <td>Não foram úteis</td>\n",
       "      <td>Não, nada úteis</td>\n",
       "      <td>Tem perguntas a mais; gostaria de ir mais dire...</td>\n",
       "      <td>Indicações de interface;</td>\n",
       "      <td>Monte pio ;</td>\n",
       "      <td>Alguma coisa</td>\n",
       "      <td>1</td>\n",
       "    </tr>\n",
       "    <tr>\n",
       "      <th>3</th>\n",
       "      <td>3</td>\n",
       "      <td>Foram muito úteis</td>\n",
       "      <td>Muito úteis</td>\n",
       "      <td>Tem perguntas a mais; gostaria de ir mais dire...</td>\n",
       "      <td>Navegação na ferramenta;Perguntas;Exemplos;</td>\n",
       "      <td>Aspecto visual;Modelo de negócios;Acesso a rec...</td>\n",
       "      <td>Bastante</td>\n",
       "      <td>3</td>\n",
       "    </tr>\n",
       "    <tr>\n",
       "      <th>4</th>\n",
       "      <td>2</td>\n",
       "      <td>Úteis, mas pouco</td>\n",
       "      <td>Pouco úteis</td>\n",
       "      <td>Tem perguntas a mais; gostaria de ir mais dire...</td>\n",
       "      <td>Aspecto visual;</td>\n",
       "      <td>Navegação na ferramenta;Perguntas;Modelo de ne...</td>\n",
       "      <td>Pouco</td>\n",
       "      <td>2</td>\n",
       "    </tr>\n",
       "  </tbody>\n",
       "</table>\n",
       "</div>"
      ],
      "text/plain": [
       "  Está satisfeito com a ferramenta DreamShaper?(Classifique de 1 a 4, sendo 1: Nada satisfeito e 4: Muito Satisfeito)  \\\n",
       "0                                                  3                                                                    \n",
       "1                                                  3                                                                    \n",
       "2                                 1- Nada Satisfeito                                                                    \n",
       "3                                                  3                                                                    \n",
       "4                                                  2                                                                    \n",
       "\n",
       "  Sentiu que os videos da Dreamshaper foram úteis para si?  \\\n",
       "0                                  Foram muito úteis         \n",
       "1                                  Foram muito úteis         \n",
       "2                                    Não foram úteis         \n",
       "3                                  Foram muito úteis         \n",
       "4                                   Úteis, mas pouco         \n",
       "\n",
       "  Os exemplos foram úteis para si?  \\\n",
       "0                      Muito úteis   \n",
       "1                       Algo úteis   \n",
       "2                  Não, nada úteis   \n",
       "3                      Muito úteis   \n",
       "4                      Pouco úteis   \n",
       "\n",
       "  Acha que a ferramenta tem perguntas a mais ou, pelo contrário, gostaria de ter mais perguntas intermédias que ajudam a ir ‘entrando’ nos novos conceitos?  \\\n",
       "0  Tem perguntas a mais; gostaria de ir mais dire...                                                                                                          \n",
       "1  Tem perguntas a mais; gostaria de ir mais dire...                                                                                                          \n",
       "2  Tem perguntas a mais; gostaria de ir mais dire...                                                                                                          \n",
       "3  Tem perguntas a mais; gostaria de ir mais dire...                                                                                                          \n",
       "4  Tem perguntas a mais; gostaria de ir mais dire...                                                                                                          \n",
       "\n",
       "  Quais são os seus 3 aspectos preferidos da ferramenta?  \\\n",
       "0  Resumo do negócio;Aspecto visual;Modelo de neg...       \n",
       "1                                Modelo de negócios;       \n",
       "2                           Indicações de interface;       \n",
       "3        Navegação na ferramenta;Perguntas;Exemplos;       \n",
       "4                                    Aspecto visual;       \n",
       "\n",
       "          E quais são os 3 aspectos que menos gosta?  \\\n",
       "0  Navegação na ferramenta;Indicações de interfac...   \n",
       "1            Aspecto visual;Navegação na ferramenta;   \n",
       "2                                        Monte pio ;   \n",
       "3  Aspecto visual;Modelo de negócios;Acesso a rec...   \n",
       "4  Navegação na ferramenta;Perguntas;Modelo de ne...   \n",
       "\n",
       "  Quanto aprendeu com a DreamShaper?  \\\n",
       "0                       Alguma coisa   \n",
       "1                       Alguma coisa   \n",
       "2                       Alguma coisa   \n",
       "3                           Bastante   \n",
       "4                              Pouco   \n",
       "\n",
       "  Está satisfeito com a ferramenta DreamShaper?  \n",
       "0                                             3  \n",
       "1                                             3  \n",
       "2                                             1  \n",
       "3                                             3  \n",
       "4                                             2  "
      ]
     },
     "execution_count": 51,
     "metadata": {},
     "output_type": "execute_result"
    }
   ],
   "source": [
    "Ano20182019.head(5)"
   ]
  },
  {
   "cell_type": "code",
   "execution_count": null,
   "metadata": {},
   "outputs": [],
   "source": []
  },
  {
   "cell_type": "markdown",
   "metadata": {},
   "source": [
    "### Learned/NotLearned  <a name=\"LearnedNot\"></a>\n",
    "* [Back to TOC](#backtoc)\n",
    "\n"
   ]
  },
  {
   "cell_type": "code",
   "execution_count": 52,
   "metadata": {},
   "outputs": [
    {
     "data": {
      "text/plain": [
       "array(['Alguma coisa', 'Bastante', 'Pouco', 'Imenso', 'Nada'],\n",
       "      dtype=object)"
      ]
     },
     "execution_count": 52,
     "metadata": {},
     "output_type": "execute_result"
    }
   ],
   "source": [
    "Ano20182019['Quanto aprendeu com a DreamShaper?'].unique()"
   ]
  },
  {
   "cell_type": "code",
   "execution_count": 53,
   "metadata": {},
   "outputs": [],
   "source": [
    "Ano20182019.loc[Ano20182019['Quanto aprendeu com a DreamShaper?'] == \"Nada\", 'Quanto aprendeu com a DreamShaper?Encod'] = 1\n",
    "Ano20182019.loc[Ano20182019['Quanto aprendeu com a DreamShaper?'] == \"Pouco\", 'Quanto aprendeu com a DreamShaper?Encod'] = 2\n",
    "Ano20182019.loc[Ano20182019['Quanto aprendeu com a DreamShaper?'] == \"Alguma coisa\", 'Quanto aprendeu com a DreamShaper?Encod'] = 3\n",
    "Ano20182019.loc[Ano20182019['Quanto aprendeu com a DreamShaper?'] == \"Bastante\", 'Quanto aprendeu com a DreamShaper?Encod'] = 4\n",
    "Ano20182019.loc[Ano20182019['Quanto aprendeu com a DreamShaper?'] == \"Imenso\", 'Quanto aprendeu com a DreamShaper?Encod'] = 5\n",
    "\n"
   ]
  },
  {
   "cell_type": "code",
   "execution_count": null,
   "metadata": {},
   "outputs": [],
   "source": []
  },
  {
   "cell_type": "code",
   "execution_count": 54,
   "metadata": {},
   "outputs": [],
   "source": [
    "Ano20182019Learned= Ano20182019['Quanto aprendeu com a DreamShaper?Encod']\n",
    "Ano20182019LearnedOrig=Ano20182019Learned.copy()"
   ]
  },
  {
   "cell_type": "code",
   "execution_count": 55,
   "metadata": {},
   "outputs": [],
   "source": [
    "unique_elements, counts_elements = np.unique(Ano20182019Learned, return_counts=True)\n"
   ]
  },
  {
   "cell_type": "code",
   "execution_count": 56,
   "metadata": {},
   "outputs": [],
   "source": [
    "Ano20182019Learned = pd.DataFrame({'Learned?':unique_elements, 'counts':counts_elements})\n"
   ]
  },
  {
   "cell_type": "code",
   "execution_count": 57,
   "metadata": {},
   "outputs": [],
   "source": [
    "Ano20182019Learned\n",
    "Ano20182019Learned['year'] = 2019\n",
    "\n",
    "Ano20182019Learned['population'] = 190\n",
    "Ano20182019Learned['percentage'] = Ano20182019Learned['counts']/Ano20182019Learned['population']\n",
    "\n"
   ]
  },
  {
   "cell_type": "code",
   "execution_count": 58,
   "metadata": {},
   "outputs": [
    {
     "data": {
      "text/html": [
       "<div>\n",
       "<style scoped>\n",
       "    .dataframe tbody tr th:only-of-type {\n",
       "        vertical-align: middle;\n",
       "    }\n",
       "\n",
       "    .dataframe tbody tr th {\n",
       "        vertical-align: top;\n",
       "    }\n",
       "\n",
       "    .dataframe thead th {\n",
       "        text-align: right;\n",
       "    }\n",
       "</style>\n",
       "<table border=\"1\" class=\"dataframe\">\n",
       "  <thead>\n",
       "    <tr style=\"text-align: right;\">\n",
       "      <th></th>\n",
       "      <th>Learned?</th>\n",
       "      <th>counts</th>\n",
       "      <th>year</th>\n",
       "      <th>population</th>\n",
       "      <th>percentage</th>\n",
       "    </tr>\n",
       "  </thead>\n",
       "  <tbody>\n",
       "    <tr>\n",
       "      <th>0</th>\n",
       "      <td>1.0</td>\n",
       "      <td>5</td>\n",
       "      <td>2019</td>\n",
       "      <td>190</td>\n",
       "      <td>0.026316</td>\n",
       "    </tr>\n",
       "    <tr>\n",
       "      <th>1</th>\n",
       "      <td>2.0</td>\n",
       "      <td>10</td>\n",
       "      <td>2019</td>\n",
       "      <td>190</td>\n",
       "      <td>0.052632</td>\n",
       "    </tr>\n",
       "    <tr>\n",
       "      <th>2</th>\n",
       "      <td>3.0</td>\n",
       "      <td>67</td>\n",
       "      <td>2019</td>\n",
       "      <td>190</td>\n",
       "      <td>0.352632</td>\n",
       "    </tr>\n",
       "    <tr>\n",
       "      <th>3</th>\n",
       "      <td>4.0</td>\n",
       "      <td>79</td>\n",
       "      <td>2019</td>\n",
       "      <td>190</td>\n",
       "      <td>0.415789</td>\n",
       "    </tr>\n",
       "    <tr>\n",
       "      <th>4</th>\n",
       "      <td>5.0</td>\n",
       "      <td>29</td>\n",
       "      <td>2019</td>\n",
       "      <td>190</td>\n",
       "      <td>0.152632</td>\n",
       "    </tr>\n",
       "  </tbody>\n",
       "</table>\n",
       "</div>"
      ],
      "text/plain": [
       "   Learned?  counts  year  population  percentage\n",
       "0       1.0       5  2019         190    0.026316\n",
       "1       2.0      10  2019         190    0.052632\n",
       "2       3.0      67  2019         190    0.352632\n",
       "3       4.0      79  2019         190    0.415789\n",
       "4       5.0      29  2019         190    0.152632"
      ]
     },
     "execution_count": 58,
     "metadata": {},
     "output_type": "execute_result"
    }
   ],
   "source": [
    "Ano20182019Learned"
   ]
  },
  {
   "cell_type": "code",
   "execution_count": 59,
   "metadata": {},
   "outputs": [],
   "source": [
    "Learned = [\"Year\", \"AverageLearned\"]\n",
    "\n",
    "\n",
    "LearnedOverYears = pd.DataFrame(columns = Learned)"
   ]
  },
  {
   "cell_type": "code",
   "execution_count": 60,
   "metadata": {},
   "outputs": [],
   "source": [
    "import statistics \n",
    "meanLearned=statistics.mean(Ano20182019LearnedOrig)"
   ]
  },
  {
   "cell_type": "code",
   "execution_count": 61,
   "metadata": {},
   "outputs": [],
   "source": [
    "Ano20182019LearnedOrig =Ano20182019LearnedOrig.astype(int)"
   ]
  },
  {
   "cell_type": "code",
   "execution_count": 62,
   "metadata": {},
   "outputs": [],
   "source": [
    "df2 = pd.DataFrame([ ['7-2018/2019', meanLearned]], columns=[\"Year\", \"AverageLearned\"])\n",
    "\n",
    "\n",
    "LearnedOverYears=LearnedOverYears.append(df2)\n",
    "\n"
   ]
  },
  {
   "cell_type": "code",
   "execution_count": 63,
   "metadata": {},
   "outputs": [
    {
     "data": {
      "text/html": [
       "<div>\n",
       "<style scoped>\n",
       "    .dataframe tbody tr th:only-of-type {\n",
       "        vertical-align: middle;\n",
       "    }\n",
       "\n",
       "    .dataframe tbody tr th {\n",
       "        vertical-align: top;\n",
       "    }\n",
       "\n",
       "    .dataframe thead th {\n",
       "        text-align: right;\n",
       "    }\n",
       "</style>\n",
       "<table border=\"1\" class=\"dataframe\">\n",
       "  <thead>\n",
       "    <tr style=\"text-align: right;\">\n",
       "      <th></th>\n",
       "      <th>Year</th>\n",
       "      <th>AverageLearned</th>\n",
       "    </tr>\n",
       "  </thead>\n",
       "  <tbody>\n",
       "    <tr>\n",
       "      <th>0</th>\n",
       "      <td>7-2018/2019</td>\n",
       "      <td>3.615789</td>\n",
       "    </tr>\n",
       "  </tbody>\n",
       "</table>\n",
       "</div>"
      ],
      "text/plain": [
       "          Year  AverageLearned\n",
       "0  7-2018/2019        3.615789"
      ]
     },
     "execution_count": 63,
     "metadata": {},
     "output_type": "execute_result"
    }
   ],
   "source": [
    "LearnedOverYears"
   ]
  },
  {
   "cell_type": "code",
   "execution_count": 64,
   "metadata": {},
   "outputs": [
    {
     "data": {
      "application/vnd.plotly.v1+json": {
       "config": {
        "plotlyServerURL": "https://plot.ly"
       },
       "data": [
        {
         "alignmentgroup": "True",
         "hovertemplate": "Learned?=%{x}<br>counts=%{y}<extra></extra>",
         "legendgroup": "",
         "marker": {
          "color": "#636efa"
         },
         "name": "",
         "offsetgroup": "",
         "orientation": "v",
         "showlegend": false,
         "textposition": "auto",
         "type": "bar",
         "x": [
          1,
          2,
          3,
          4,
          5
         ],
         "xaxis": "x",
         "y": [
          5,
          10,
          67,
          79,
          29
         ],
         "yaxis": "y"
        }
       ],
       "layout": {
        "barmode": "relative",
        "legend": {
         "tracegroupgap": 0
        },
        "margin": {
         "t": 60
        },
        "template": {
         "data": {
          "bar": [
           {
            "error_x": {
             "color": "#2a3f5f"
            },
            "error_y": {
             "color": "#2a3f5f"
            },
            "marker": {
             "line": {
              "color": "#E5ECF6",
              "width": 0.5
             }
            },
            "type": "bar"
           }
          ],
          "barpolar": [
           {
            "marker": {
             "line": {
              "color": "#E5ECF6",
              "width": 0.5
             }
            },
            "type": "barpolar"
           }
          ],
          "carpet": [
           {
            "aaxis": {
             "endlinecolor": "#2a3f5f",
             "gridcolor": "white",
             "linecolor": "white",
             "minorgridcolor": "white",
             "startlinecolor": "#2a3f5f"
            },
            "baxis": {
             "endlinecolor": "#2a3f5f",
             "gridcolor": "white",
             "linecolor": "white",
             "minorgridcolor": "white",
             "startlinecolor": "#2a3f5f"
            },
            "type": "carpet"
           }
          ],
          "choropleth": [
           {
            "colorbar": {
             "outlinewidth": 0,
             "ticks": ""
            },
            "type": "choropleth"
           }
          ],
          "contour": [
           {
            "colorbar": {
             "outlinewidth": 0,
             "ticks": ""
            },
            "colorscale": [
             [
              0,
              "#0d0887"
             ],
             [
              0.1111111111111111,
              "#46039f"
             ],
             [
              0.2222222222222222,
              "#7201a8"
             ],
             [
              0.3333333333333333,
              "#9c179e"
             ],
             [
              0.4444444444444444,
              "#bd3786"
             ],
             [
              0.5555555555555556,
              "#d8576b"
             ],
             [
              0.6666666666666666,
              "#ed7953"
             ],
             [
              0.7777777777777778,
              "#fb9f3a"
             ],
             [
              0.8888888888888888,
              "#fdca26"
             ],
             [
              1,
              "#f0f921"
             ]
            ],
            "type": "contour"
           }
          ],
          "contourcarpet": [
           {
            "colorbar": {
             "outlinewidth": 0,
             "ticks": ""
            },
            "type": "contourcarpet"
           }
          ],
          "heatmap": [
           {
            "colorbar": {
             "outlinewidth": 0,
             "ticks": ""
            },
            "colorscale": [
             [
              0,
              "#0d0887"
             ],
             [
              0.1111111111111111,
              "#46039f"
             ],
             [
              0.2222222222222222,
              "#7201a8"
             ],
             [
              0.3333333333333333,
              "#9c179e"
             ],
             [
              0.4444444444444444,
              "#bd3786"
             ],
             [
              0.5555555555555556,
              "#d8576b"
             ],
             [
              0.6666666666666666,
              "#ed7953"
             ],
             [
              0.7777777777777778,
              "#fb9f3a"
             ],
             [
              0.8888888888888888,
              "#fdca26"
             ],
             [
              1,
              "#f0f921"
             ]
            ],
            "type": "heatmap"
           }
          ],
          "heatmapgl": [
           {
            "colorbar": {
             "outlinewidth": 0,
             "ticks": ""
            },
            "colorscale": [
             [
              0,
              "#0d0887"
             ],
             [
              0.1111111111111111,
              "#46039f"
             ],
             [
              0.2222222222222222,
              "#7201a8"
             ],
             [
              0.3333333333333333,
              "#9c179e"
             ],
             [
              0.4444444444444444,
              "#bd3786"
             ],
             [
              0.5555555555555556,
              "#d8576b"
             ],
             [
              0.6666666666666666,
              "#ed7953"
             ],
             [
              0.7777777777777778,
              "#fb9f3a"
             ],
             [
              0.8888888888888888,
              "#fdca26"
             ],
             [
              1,
              "#f0f921"
             ]
            ],
            "type": "heatmapgl"
           }
          ],
          "histogram": [
           {
            "marker": {
             "colorbar": {
              "outlinewidth": 0,
              "ticks": ""
             }
            },
            "type": "histogram"
           }
          ],
          "histogram2d": [
           {
            "colorbar": {
             "outlinewidth": 0,
             "ticks": ""
            },
            "colorscale": [
             [
              0,
              "#0d0887"
             ],
             [
              0.1111111111111111,
              "#46039f"
             ],
             [
              0.2222222222222222,
              "#7201a8"
             ],
             [
              0.3333333333333333,
              "#9c179e"
             ],
             [
              0.4444444444444444,
              "#bd3786"
             ],
             [
              0.5555555555555556,
              "#d8576b"
             ],
             [
              0.6666666666666666,
              "#ed7953"
             ],
             [
              0.7777777777777778,
              "#fb9f3a"
             ],
             [
              0.8888888888888888,
              "#fdca26"
             ],
             [
              1,
              "#f0f921"
             ]
            ],
            "type": "histogram2d"
           }
          ],
          "histogram2dcontour": [
           {
            "colorbar": {
             "outlinewidth": 0,
             "ticks": ""
            },
            "colorscale": [
             [
              0,
              "#0d0887"
             ],
             [
              0.1111111111111111,
              "#46039f"
             ],
             [
              0.2222222222222222,
              "#7201a8"
             ],
             [
              0.3333333333333333,
              "#9c179e"
             ],
             [
              0.4444444444444444,
              "#bd3786"
             ],
             [
              0.5555555555555556,
              "#d8576b"
             ],
             [
              0.6666666666666666,
              "#ed7953"
             ],
             [
              0.7777777777777778,
              "#fb9f3a"
             ],
             [
              0.8888888888888888,
              "#fdca26"
             ],
             [
              1,
              "#f0f921"
             ]
            ],
            "type": "histogram2dcontour"
           }
          ],
          "mesh3d": [
           {
            "colorbar": {
             "outlinewidth": 0,
             "ticks": ""
            },
            "type": "mesh3d"
           }
          ],
          "parcoords": [
           {
            "line": {
             "colorbar": {
              "outlinewidth": 0,
              "ticks": ""
             }
            },
            "type": "parcoords"
           }
          ],
          "pie": [
           {
            "automargin": true,
            "type": "pie"
           }
          ],
          "scatter": [
           {
            "marker": {
             "colorbar": {
              "outlinewidth": 0,
              "ticks": ""
             }
            },
            "type": "scatter"
           }
          ],
          "scatter3d": [
           {
            "line": {
             "colorbar": {
              "outlinewidth": 0,
              "ticks": ""
             }
            },
            "marker": {
             "colorbar": {
              "outlinewidth": 0,
              "ticks": ""
             }
            },
            "type": "scatter3d"
           }
          ],
          "scattercarpet": [
           {
            "marker": {
             "colorbar": {
              "outlinewidth": 0,
              "ticks": ""
             }
            },
            "type": "scattercarpet"
           }
          ],
          "scattergeo": [
           {
            "marker": {
             "colorbar": {
              "outlinewidth": 0,
              "ticks": ""
             }
            },
            "type": "scattergeo"
           }
          ],
          "scattergl": [
           {
            "marker": {
             "colorbar": {
              "outlinewidth": 0,
              "ticks": ""
             }
            },
            "type": "scattergl"
           }
          ],
          "scattermapbox": [
           {
            "marker": {
             "colorbar": {
              "outlinewidth": 0,
              "ticks": ""
             }
            },
            "type": "scattermapbox"
           }
          ],
          "scatterpolar": [
           {
            "marker": {
             "colorbar": {
              "outlinewidth": 0,
              "ticks": ""
             }
            },
            "type": "scatterpolar"
           }
          ],
          "scatterpolargl": [
           {
            "marker": {
             "colorbar": {
              "outlinewidth": 0,
              "ticks": ""
             }
            },
            "type": "scatterpolargl"
           }
          ],
          "scatterternary": [
           {
            "marker": {
             "colorbar": {
              "outlinewidth": 0,
              "ticks": ""
             }
            },
            "type": "scatterternary"
           }
          ],
          "surface": [
           {
            "colorbar": {
             "outlinewidth": 0,
             "ticks": ""
            },
            "colorscale": [
             [
              0,
              "#0d0887"
             ],
             [
              0.1111111111111111,
              "#46039f"
             ],
             [
              0.2222222222222222,
              "#7201a8"
             ],
             [
              0.3333333333333333,
              "#9c179e"
             ],
             [
              0.4444444444444444,
              "#bd3786"
             ],
             [
              0.5555555555555556,
              "#d8576b"
             ],
             [
              0.6666666666666666,
              "#ed7953"
             ],
             [
              0.7777777777777778,
              "#fb9f3a"
             ],
             [
              0.8888888888888888,
              "#fdca26"
             ],
             [
              1,
              "#f0f921"
             ]
            ],
            "type": "surface"
           }
          ],
          "table": [
           {
            "cells": {
             "fill": {
              "color": "#EBF0F8"
             },
             "line": {
              "color": "white"
             }
            },
            "header": {
             "fill": {
              "color": "#C8D4E3"
             },
             "line": {
              "color": "white"
             }
            },
            "type": "table"
           }
          ]
         },
         "layout": {
          "annotationdefaults": {
           "arrowcolor": "#2a3f5f",
           "arrowhead": 0,
           "arrowwidth": 1
          },
          "coloraxis": {
           "colorbar": {
            "outlinewidth": 0,
            "ticks": ""
           }
          },
          "colorscale": {
           "diverging": [
            [
             0,
             "#8e0152"
            ],
            [
             0.1,
             "#c51b7d"
            ],
            [
             0.2,
             "#de77ae"
            ],
            [
             0.3,
             "#f1b6da"
            ],
            [
             0.4,
             "#fde0ef"
            ],
            [
             0.5,
             "#f7f7f7"
            ],
            [
             0.6,
             "#e6f5d0"
            ],
            [
             0.7,
             "#b8e186"
            ],
            [
             0.8,
             "#7fbc41"
            ],
            [
             0.9,
             "#4d9221"
            ],
            [
             1,
             "#276419"
            ]
           ],
           "sequential": [
            [
             0,
             "#0d0887"
            ],
            [
             0.1111111111111111,
             "#46039f"
            ],
            [
             0.2222222222222222,
             "#7201a8"
            ],
            [
             0.3333333333333333,
             "#9c179e"
            ],
            [
             0.4444444444444444,
             "#bd3786"
            ],
            [
             0.5555555555555556,
             "#d8576b"
            ],
            [
             0.6666666666666666,
             "#ed7953"
            ],
            [
             0.7777777777777778,
             "#fb9f3a"
            ],
            [
             0.8888888888888888,
             "#fdca26"
            ],
            [
             1,
             "#f0f921"
            ]
           ],
           "sequentialminus": [
            [
             0,
             "#0d0887"
            ],
            [
             0.1111111111111111,
             "#46039f"
            ],
            [
             0.2222222222222222,
             "#7201a8"
            ],
            [
             0.3333333333333333,
             "#9c179e"
            ],
            [
             0.4444444444444444,
             "#bd3786"
            ],
            [
             0.5555555555555556,
             "#d8576b"
            ],
            [
             0.6666666666666666,
             "#ed7953"
            ],
            [
             0.7777777777777778,
             "#fb9f3a"
            ],
            [
             0.8888888888888888,
             "#fdca26"
            ],
            [
             1,
             "#f0f921"
            ]
           ]
          },
          "colorway": [
           "#636efa",
           "#EF553B",
           "#00cc96",
           "#ab63fa",
           "#FFA15A",
           "#19d3f3",
           "#FF6692",
           "#B6E880",
           "#FF97FF",
           "#FECB52"
          ],
          "font": {
           "color": "#2a3f5f"
          },
          "geo": {
           "bgcolor": "white",
           "lakecolor": "white",
           "landcolor": "#E5ECF6",
           "showlakes": true,
           "showland": true,
           "subunitcolor": "white"
          },
          "hoverlabel": {
           "align": "left"
          },
          "hovermode": "closest",
          "mapbox": {
           "style": "light"
          },
          "paper_bgcolor": "white",
          "plot_bgcolor": "#E5ECF6",
          "polar": {
           "angularaxis": {
            "gridcolor": "white",
            "linecolor": "white",
            "ticks": ""
           },
           "bgcolor": "#E5ECF6",
           "radialaxis": {
            "gridcolor": "white",
            "linecolor": "white",
            "ticks": ""
           }
          },
          "scene": {
           "xaxis": {
            "backgroundcolor": "#E5ECF6",
            "gridcolor": "white",
            "gridwidth": 2,
            "linecolor": "white",
            "showbackground": true,
            "ticks": "",
            "zerolinecolor": "white"
           },
           "yaxis": {
            "backgroundcolor": "#E5ECF6",
            "gridcolor": "white",
            "gridwidth": 2,
            "linecolor": "white",
            "showbackground": true,
            "ticks": "",
            "zerolinecolor": "white"
           },
           "zaxis": {
            "backgroundcolor": "#E5ECF6",
            "gridcolor": "white",
            "gridwidth": 2,
            "linecolor": "white",
            "showbackground": true,
            "ticks": "",
            "zerolinecolor": "white"
           }
          },
          "shapedefaults": {
           "line": {
            "color": "#2a3f5f"
           }
          },
          "ternary": {
           "aaxis": {
            "gridcolor": "white",
            "linecolor": "white",
            "ticks": ""
           },
           "baxis": {
            "gridcolor": "white",
            "linecolor": "white",
            "ticks": ""
           },
           "bgcolor": "#E5ECF6",
           "caxis": {
            "gridcolor": "white",
            "linecolor": "white",
            "ticks": ""
           }
          },
          "title": {
           "x": 0.05
          },
          "xaxis": {
           "automargin": true,
           "gridcolor": "white",
           "linecolor": "white",
           "ticks": "",
           "title": {
            "standoff": 15
           },
           "zerolinecolor": "white",
           "zerolinewidth": 2
          },
          "yaxis": {
           "automargin": true,
           "gridcolor": "white",
           "linecolor": "white",
           "ticks": "",
           "title": {
            "standoff": 15
           },
           "zerolinecolor": "white",
           "zerolinewidth": 2
          }
         }
        },
        "title": {
         "text": "Quanto aprendeu com a DreamShaper?  - 2018/2019"
        },
        "xaxis": {
         "anchor": "y",
         "domain": [
          0,
          1
         ],
         "title": {
          "text": "Learned?"
         }
        },
        "yaxis": {
         "anchor": "x",
         "domain": [
          0,
          1
         ],
         "title": {
          "text": "counts"
         }
        }
       }
      },
      "text/html": [
       "<div>                            <div id=\"0187736a-a132-476b-bebc-58a7afbcf56d\" class=\"plotly-graph-div\" style=\"height:525px; width:100%;\"></div>            <script type=\"text/javascript\">                require([\"plotly\"], function(Plotly) {                    window.PLOTLYENV=window.PLOTLYENV || {};                                    if (document.getElementById(\"0187736a-a132-476b-bebc-58a7afbcf56d\")) {                    Plotly.newPlot(                        \"0187736a-a132-476b-bebc-58a7afbcf56d\",                        [{\"alignmentgroup\": \"True\", \"hovertemplate\": \"Learned?=%{x}<br>counts=%{y}<extra></extra>\", \"legendgroup\": \"\", \"marker\": {\"color\": \"#636efa\"}, \"name\": \"\", \"offsetgroup\": \"\", \"orientation\": \"v\", \"showlegend\": false, \"textposition\": \"auto\", \"type\": \"bar\", \"x\": [1.0, 2.0, 3.0, 4.0, 5.0], \"xaxis\": \"x\", \"y\": [5, 10, 67, 79, 29], \"yaxis\": \"y\"}],                        {\"barmode\": \"relative\", \"legend\": {\"tracegroupgap\": 0}, \"margin\": {\"t\": 60}, \"template\": {\"data\": {\"bar\": [{\"error_x\": {\"color\": \"#2a3f5f\"}, \"error_y\": {\"color\": \"#2a3f5f\"}, \"marker\": {\"line\": {\"color\": \"#E5ECF6\", \"width\": 0.5}}, \"type\": \"bar\"}], \"barpolar\": [{\"marker\": {\"line\": {\"color\": \"#E5ECF6\", \"width\": 0.5}}, \"type\": \"barpolar\"}], \"carpet\": [{\"aaxis\": {\"endlinecolor\": \"#2a3f5f\", \"gridcolor\": \"white\", \"linecolor\": \"white\", \"minorgridcolor\": \"white\", \"startlinecolor\": \"#2a3f5f\"}, \"baxis\": {\"endlinecolor\": \"#2a3f5f\", \"gridcolor\": \"white\", \"linecolor\": \"white\", \"minorgridcolor\": \"white\", \"startlinecolor\": \"#2a3f5f\"}, \"type\": \"carpet\"}], \"choropleth\": [{\"colorbar\": {\"outlinewidth\": 0, \"ticks\": \"\"}, \"type\": \"choropleth\"}], \"contour\": [{\"colorbar\": {\"outlinewidth\": 0, \"ticks\": \"\"}, \"colorscale\": [[0.0, \"#0d0887\"], [0.1111111111111111, \"#46039f\"], [0.2222222222222222, \"#7201a8\"], [0.3333333333333333, \"#9c179e\"], [0.4444444444444444, \"#bd3786\"], [0.5555555555555556, \"#d8576b\"], [0.6666666666666666, \"#ed7953\"], [0.7777777777777778, \"#fb9f3a\"], [0.8888888888888888, \"#fdca26\"], [1.0, \"#f0f921\"]], \"type\": \"contour\"}], \"contourcarpet\": [{\"colorbar\": {\"outlinewidth\": 0, \"ticks\": \"\"}, \"type\": \"contourcarpet\"}], \"heatmap\": [{\"colorbar\": {\"outlinewidth\": 0, \"ticks\": \"\"}, \"colorscale\": [[0.0, \"#0d0887\"], [0.1111111111111111, \"#46039f\"], [0.2222222222222222, \"#7201a8\"], [0.3333333333333333, \"#9c179e\"], [0.4444444444444444, \"#bd3786\"], [0.5555555555555556, \"#d8576b\"], [0.6666666666666666, \"#ed7953\"], [0.7777777777777778, \"#fb9f3a\"], [0.8888888888888888, \"#fdca26\"], [1.0, \"#f0f921\"]], \"type\": \"heatmap\"}], \"heatmapgl\": [{\"colorbar\": {\"outlinewidth\": 0, \"ticks\": \"\"}, \"colorscale\": [[0.0, \"#0d0887\"], [0.1111111111111111, \"#46039f\"], [0.2222222222222222, \"#7201a8\"], [0.3333333333333333, \"#9c179e\"], [0.4444444444444444, \"#bd3786\"], [0.5555555555555556, \"#d8576b\"], [0.6666666666666666, \"#ed7953\"], [0.7777777777777778, \"#fb9f3a\"], [0.8888888888888888, \"#fdca26\"], [1.0, \"#f0f921\"]], \"type\": \"heatmapgl\"}], \"histogram\": [{\"marker\": {\"colorbar\": {\"outlinewidth\": 0, \"ticks\": \"\"}}, \"type\": \"histogram\"}], \"histogram2d\": [{\"colorbar\": {\"outlinewidth\": 0, \"ticks\": \"\"}, \"colorscale\": [[0.0, \"#0d0887\"], [0.1111111111111111, \"#46039f\"], [0.2222222222222222, \"#7201a8\"], [0.3333333333333333, \"#9c179e\"], [0.4444444444444444, \"#bd3786\"], [0.5555555555555556, \"#d8576b\"], [0.6666666666666666, \"#ed7953\"], [0.7777777777777778, \"#fb9f3a\"], [0.8888888888888888, \"#fdca26\"], [1.0, \"#f0f921\"]], \"type\": \"histogram2d\"}], \"histogram2dcontour\": [{\"colorbar\": {\"outlinewidth\": 0, \"ticks\": \"\"}, \"colorscale\": [[0.0, \"#0d0887\"], [0.1111111111111111, \"#46039f\"], [0.2222222222222222, \"#7201a8\"], [0.3333333333333333, \"#9c179e\"], [0.4444444444444444, \"#bd3786\"], [0.5555555555555556, \"#d8576b\"], [0.6666666666666666, \"#ed7953\"], [0.7777777777777778, \"#fb9f3a\"], [0.8888888888888888, \"#fdca26\"], [1.0, \"#f0f921\"]], \"type\": \"histogram2dcontour\"}], \"mesh3d\": [{\"colorbar\": {\"outlinewidth\": 0, \"ticks\": \"\"}, \"type\": \"mesh3d\"}], \"parcoords\": [{\"line\": {\"colorbar\": {\"outlinewidth\": 0, \"ticks\": \"\"}}, \"type\": \"parcoords\"}], \"pie\": [{\"automargin\": true, \"type\": \"pie\"}], \"scatter\": [{\"marker\": {\"colorbar\": {\"outlinewidth\": 0, \"ticks\": \"\"}}, \"type\": \"scatter\"}], \"scatter3d\": [{\"line\": {\"colorbar\": {\"outlinewidth\": 0, \"ticks\": \"\"}}, \"marker\": {\"colorbar\": {\"outlinewidth\": 0, \"ticks\": \"\"}}, \"type\": \"scatter3d\"}], \"scattercarpet\": [{\"marker\": {\"colorbar\": {\"outlinewidth\": 0, \"ticks\": \"\"}}, \"type\": \"scattercarpet\"}], \"scattergeo\": [{\"marker\": {\"colorbar\": {\"outlinewidth\": 0, \"ticks\": \"\"}}, \"type\": \"scattergeo\"}], \"scattergl\": [{\"marker\": {\"colorbar\": {\"outlinewidth\": 0, \"ticks\": \"\"}}, \"type\": \"scattergl\"}], \"scattermapbox\": [{\"marker\": {\"colorbar\": {\"outlinewidth\": 0, \"ticks\": \"\"}}, \"type\": \"scattermapbox\"}], \"scatterpolar\": [{\"marker\": {\"colorbar\": {\"outlinewidth\": 0, \"ticks\": \"\"}}, \"type\": \"scatterpolar\"}], \"scatterpolargl\": [{\"marker\": {\"colorbar\": {\"outlinewidth\": 0, \"ticks\": \"\"}}, \"type\": \"scatterpolargl\"}], \"scatterternary\": [{\"marker\": {\"colorbar\": {\"outlinewidth\": 0, \"ticks\": \"\"}}, \"type\": \"scatterternary\"}], \"surface\": [{\"colorbar\": {\"outlinewidth\": 0, \"ticks\": \"\"}, \"colorscale\": [[0.0, \"#0d0887\"], [0.1111111111111111, \"#46039f\"], [0.2222222222222222, \"#7201a8\"], [0.3333333333333333, \"#9c179e\"], [0.4444444444444444, \"#bd3786\"], [0.5555555555555556, \"#d8576b\"], [0.6666666666666666, \"#ed7953\"], [0.7777777777777778, \"#fb9f3a\"], [0.8888888888888888, \"#fdca26\"], [1.0, \"#f0f921\"]], \"type\": \"surface\"}], \"table\": [{\"cells\": {\"fill\": {\"color\": \"#EBF0F8\"}, \"line\": {\"color\": \"white\"}}, \"header\": {\"fill\": {\"color\": \"#C8D4E3\"}, \"line\": {\"color\": \"white\"}}, \"type\": \"table\"}]}, \"layout\": {\"annotationdefaults\": {\"arrowcolor\": \"#2a3f5f\", \"arrowhead\": 0, \"arrowwidth\": 1}, \"coloraxis\": {\"colorbar\": {\"outlinewidth\": 0, \"ticks\": \"\"}}, \"colorscale\": {\"diverging\": [[0, \"#8e0152\"], [0.1, \"#c51b7d\"], [0.2, \"#de77ae\"], [0.3, \"#f1b6da\"], [0.4, \"#fde0ef\"], [0.5, \"#f7f7f7\"], [0.6, \"#e6f5d0\"], [0.7, \"#b8e186\"], [0.8, \"#7fbc41\"], [0.9, \"#4d9221\"], [1, \"#276419\"]], \"sequential\": [[0.0, \"#0d0887\"], [0.1111111111111111, \"#46039f\"], [0.2222222222222222, \"#7201a8\"], [0.3333333333333333, \"#9c179e\"], [0.4444444444444444, \"#bd3786\"], [0.5555555555555556, \"#d8576b\"], [0.6666666666666666, \"#ed7953\"], [0.7777777777777778, \"#fb9f3a\"], [0.8888888888888888, \"#fdca26\"], [1.0, \"#f0f921\"]], \"sequentialminus\": [[0.0, \"#0d0887\"], [0.1111111111111111, \"#46039f\"], [0.2222222222222222, \"#7201a8\"], [0.3333333333333333, \"#9c179e\"], [0.4444444444444444, \"#bd3786\"], [0.5555555555555556, \"#d8576b\"], [0.6666666666666666, \"#ed7953\"], [0.7777777777777778, \"#fb9f3a\"], [0.8888888888888888, \"#fdca26\"], [1.0, \"#f0f921\"]]}, \"colorway\": [\"#636efa\", \"#EF553B\", \"#00cc96\", \"#ab63fa\", \"#FFA15A\", \"#19d3f3\", \"#FF6692\", \"#B6E880\", \"#FF97FF\", \"#FECB52\"], \"font\": {\"color\": \"#2a3f5f\"}, \"geo\": {\"bgcolor\": \"white\", \"lakecolor\": \"white\", \"landcolor\": \"#E5ECF6\", \"showlakes\": true, \"showland\": true, \"subunitcolor\": \"white\"}, \"hoverlabel\": {\"align\": \"left\"}, \"hovermode\": \"closest\", \"mapbox\": {\"style\": \"light\"}, \"paper_bgcolor\": \"white\", \"plot_bgcolor\": \"#E5ECF6\", \"polar\": {\"angularaxis\": {\"gridcolor\": \"white\", \"linecolor\": \"white\", \"ticks\": \"\"}, \"bgcolor\": \"#E5ECF6\", \"radialaxis\": {\"gridcolor\": \"white\", \"linecolor\": \"white\", \"ticks\": \"\"}}, \"scene\": {\"xaxis\": {\"backgroundcolor\": \"#E5ECF6\", \"gridcolor\": \"white\", \"gridwidth\": 2, \"linecolor\": \"white\", \"showbackground\": true, \"ticks\": \"\", \"zerolinecolor\": \"white\"}, \"yaxis\": {\"backgroundcolor\": \"#E5ECF6\", \"gridcolor\": \"white\", \"gridwidth\": 2, \"linecolor\": \"white\", \"showbackground\": true, \"ticks\": \"\", \"zerolinecolor\": \"white\"}, \"zaxis\": {\"backgroundcolor\": \"#E5ECF6\", \"gridcolor\": \"white\", \"gridwidth\": 2, \"linecolor\": \"white\", \"showbackground\": true, \"ticks\": \"\", \"zerolinecolor\": \"white\"}}, \"shapedefaults\": {\"line\": {\"color\": \"#2a3f5f\"}}, \"ternary\": {\"aaxis\": {\"gridcolor\": \"white\", \"linecolor\": \"white\", \"ticks\": \"\"}, \"baxis\": {\"gridcolor\": \"white\", \"linecolor\": \"white\", \"ticks\": \"\"}, \"bgcolor\": \"#E5ECF6\", \"caxis\": {\"gridcolor\": \"white\", \"linecolor\": \"white\", \"ticks\": \"\"}}, \"title\": {\"x\": 0.05}, \"xaxis\": {\"automargin\": true, \"gridcolor\": \"white\", \"linecolor\": \"white\", \"ticks\": \"\", \"title\": {\"standoff\": 15}, \"zerolinecolor\": \"white\", \"zerolinewidth\": 2}, \"yaxis\": {\"automargin\": true, \"gridcolor\": \"white\", \"linecolor\": \"white\", \"ticks\": \"\", \"title\": {\"standoff\": 15}, \"zerolinecolor\": \"white\", \"zerolinewidth\": 2}}}, \"title\": {\"text\": \"Quanto aprendeu com a DreamShaper?  - 2018/2019\"}, \"xaxis\": {\"anchor\": \"y\", \"domain\": [0.0, 1.0], \"title\": {\"text\": \"Learned?\"}}, \"yaxis\": {\"anchor\": \"x\", \"domain\": [0.0, 1.0], \"title\": {\"text\": \"counts\"}}},                        {\"responsive\": true}                    ).then(function(){\n",
       "                            \n",
       "var gd = document.getElementById('0187736a-a132-476b-bebc-58a7afbcf56d');\n",
       "var x = new MutationObserver(function (mutations, observer) {{\n",
       "        var display = window.getComputedStyle(gd).display;\n",
       "        if (!display || display === 'none') {{\n",
       "            console.log([gd, 'removed!']);\n",
       "            Plotly.purge(gd);\n",
       "            observer.disconnect();\n",
       "        }}\n",
       "}});\n",
       "\n",
       "// Listen for the removal of the full notebook cells\n",
       "var notebookContainer = gd.closest('#notebook-container');\n",
       "if (notebookContainer) {{\n",
       "    x.observe(notebookContainer, {childList: true});\n",
       "}}\n",
       "\n",
       "// Listen for the clearing of the current output cell\n",
       "var outputEl = gd.closest('.output');\n",
       "if (outputEl) {{\n",
       "    x.observe(outputEl, {childList: true});\n",
       "}}\n",
       "\n",
       "                        })                };                });            </script>        </div>"
      ]
     },
     "metadata": {},
     "output_type": "display_data"
    }
   ],
   "source": [
    "import plotly_express as px\n",
    "\n",
    "fig = px.bar(Ano20182019Learned, x='Learned?', y='counts')\n",
    "\n",
    "fig.update_layout(title_text='Quanto aprendeu com a DreamShaper?  - 2018/2019')\n",
    "\n",
    "fig.show()\n",
    "fig.write_image('Outputs/ImageOutputsYear/Ano20182019Learned.png')\n"
   ]
  },
  {
   "cell_type": "code",
   "execution_count": 65,
   "metadata": {},
   "outputs": [
    {
     "data": {
      "image/png": "[encoded data removed]",
      "text/plain": [
       "<IPython.core.display.Image object>"
      ]
     },
     "execution_count": 65,
     "metadata": {},
     "output_type": "execute_result"
    }
   ],
   "source": [
    "from IPython.display import Image\n",
    "Image(filename='Outputs/ImageOutputsYear/Ano20182019Learned.png')\n",
    "\n"
   ]
  },
  {
   "cell_type": "code",
   "execution_count": null,
   "metadata": {},
   "outputs": [],
   "source": []
  },
  {
   "cell_type": "markdown",
   "metadata": {},
   "source": [
    "### Positives and Negatives  <a name=\"posneg\"></a>\n",
    "* [Back to TOC](#backtoc)\n"
   ]
  },
  {
   "cell_type": "code",
   "execution_count": 66,
   "metadata": {},
   "outputs": [
    {
     "ename": "NameError",
     "evalue": "name 'Ano20172018' is not defined",
     "output_type": "error",
     "traceback": [
      "\u001b[1;31m---------------------------------------------------------------------------\u001b[0m",
      "\u001b[1;31mNameError\u001b[0m                                 Traceback (most recent call last)",
      "\u001b[1;32m<ipython-input-66-17fc6a7784f1>\u001b[0m in \u001b[0;36m<module>\u001b[1;34m\u001b[0m\n\u001b[0;32m      1\u001b[0m \u001b[1;31m#Quais são os seus 3 aspectos preferidos da ferramenta ? Aspecto Visual\u001b[0m\u001b[1;33m\u001b[0m\u001b[1;33m\u001b[0m\u001b[1;33m\u001b[0m\u001b[0m\n\u001b[1;32m----> 2\u001b[1;33m \u001b[0mAno20172018\u001b[0m\u001b[1;33m.\u001b[0m\u001b[0mloc\u001b[0m\u001b[1;33m[\u001b[0m\u001b[0mAno20172018\u001b[0m\u001b[1;33m[\u001b[0m\u001b[1;34m'Quais são os seus 3 aspectos preferidos da ferramenta ? Aspecto Visual'\u001b[0m\u001b[1;33m]\u001b[0m \u001b[1;33m==\u001b[0m \u001b[1;34m\"Aspecto Visual\"\u001b[0m\u001b[1;33m,\u001b[0m \u001b[1;34m'Quais são os seus 3 aspectos preferidos da ferramenta ? Aspecto Visual'\u001b[0m\u001b[1;33m]\u001b[0m \u001b[1;33m=\u001b[0m \u001b[1;36m1\u001b[0m\u001b[1;33m\u001b[0m\u001b[1;33m\u001b[0m\u001b[0m\n\u001b[0m\u001b[0;32m      3\u001b[0m \u001b[0mAno20172018\u001b[0m\u001b[1;33m[\u001b[0m\u001b[1;34m'Quais são os seus 3 aspectos preferidos da ferramenta ? Aspecto Visual'\u001b[0m\u001b[1;33m]\u001b[0m\u001b[1;33m.\u001b[0m\u001b[0mfillna\u001b[0m\u001b[1;33m(\u001b[0m\u001b[1;36m0\u001b[0m\u001b[1;33m,\u001b[0m \u001b[0minplace\u001b[0m\u001b[1;33m=\u001b[0m\u001b[1;32mTrue\u001b[0m\u001b[1;33m)\u001b[0m\u001b[1;33m\u001b[0m\u001b[1;33m\u001b[0m\u001b[0m\n\u001b[0;32m      4\u001b[0m \u001b[1;33m\u001b[0m\u001b[0m\n\u001b[0;32m      5\u001b[0m \u001b[1;31m#Quais são os seus 3 aspectos preferidos da ferramenta ? Navegação na Ferramenta\u001b[0m\u001b[1;33m\u001b[0m\u001b[1;33m\u001b[0m\u001b[1;33m\u001b[0m\u001b[0m\n",
      "\u001b[1;31mNameError\u001b[0m: name 'Ano20172018' is not defined"
     ]
    }
   ],
   "source": [
    "\n",
    "#Quais são os seus 3 aspectos preferidos da ferramenta ? Aspecto Visual\t\n",
    "Ano20172018.loc[Ano20172018['Quais são os seus 3 aspectos preferidos da ferramenta ? Aspecto Visual'] == \"Aspecto Visual\", 'Quais são os seus 3 aspectos preferidos da ferramenta ? Aspecto Visual'] = 1\n",
    "Ano20172018['Quais são os seus 3 aspectos preferidos da ferramenta ? Aspecto Visual'].fillna(0, inplace=True)\n",
    "\n",
    "#Quais são os seus 3 aspectos preferidos da ferramenta ? Navegação na Ferramenta\n",
    "Ano20172018.loc[Ano20172018['Quais são os seus 3 aspectos preferidos da ferramenta ? Navegação na Ferramenta'] == \"Navegação na ferramenta\", 'Quais são os seus 3 aspectos preferidos da ferramenta ? Navegação na Ferramenta'] = 1\n",
    "Ano20172018['Quais são os seus 3 aspectos preferidos da ferramenta ? Navegação na Ferramenta'].fillna(0, inplace=True)\n",
    "\n",
    "#Quais são os seus 3 aspectos preferidos da ferramenta ? Perguntas\n",
    "Ano20172018.loc[Ano20172018['Quais são os seus 3 aspectos preferidos da ferramenta ? Perguntas'] == \"Perguntas\", 'Quais são os seus 3 aspectos preferidos da ferramenta ? Perguntas'] = 1\n",
    "Ano20172018['Quais são os seus 3 aspectos preferidos da ferramenta ? Perguntas'].fillna(0, inplace=True)\n",
    "\n",
    "\n",
    "#Quais são os seus 3 aspectos preferidos da ferramenta ? Exemplos\n",
    "Ano20172018.loc[Ano20172018['Quais são os seus 3 aspectos preferidos da ferramenta ? Exemplos'] == \"Exemplos\", 'Quais são os seus 3 aspectos preferidos da ferramenta ? Exemplos'] = 1\n",
    "Ano20172018['Quais são os seus 3 aspectos preferidos da ferramenta ? Exemplos'].fillna(0, inplace=True)\n",
    "\n",
    "#Quais são os seus 3 aspectos preferidos da ferramenta ? Vídeos\n",
    "Ano20172018.loc[Ano20172018['Quais são os seus 3 aspectos preferidos da ferramenta ? Vídeos'] == \"Vídeos\", 'Quais são os seus 3 aspectos preferidos da ferramenta ? Vídeos'] = 1\n",
    "Ano20172018['Quais são os seus 3 aspectos preferidos da ferramenta ? Vídeos'].fillna(0, inplace=True)\n",
    "\n",
    "#Quais são os seus 3 aspectos preferidos da ferramenta ? Modelo de Negócios\n",
    "Ano20172018.loc[Ano20172018['Quais são os seus 3 aspectos preferidos da ferramenta ? Modelo de negócios'] == \"Modelo de negócios\", 'Quais são os seus 3 aspectos preferidos da ferramenta ? Modelo de negócios'] = 1\n",
    "Ano20172018['Quais são os seus 3 aspectos preferidos da ferramenta ? Modelo de negócios'].fillna(0, inplace=True)\n",
    "\n",
    "#Quais são os seus 3 aspectos preferidos da ferramenta ? Indicações de Interface\n",
    "Ano20172018.loc[Ano20172018['Quais são os seus 3 aspectos preferidos da ferramenta ? Indicações de Interface'] == \"Indicações de Interface\", 'Quais são os seus 3 aspectos preferidos da ferramenta ? Indicações de Interface'] = 1\n",
    "Ano20172018['Quais são os seus 3 aspectos preferidos da ferramenta ? Indicações de Interface'].fillna(0, inplace=True)\n",
    "\n",
    "\n",
    "#Quais são os seus 3 aspectos preferidos da ferramenta ? Mural de equipa\n",
    "Ano20172018.loc[Ano20172018['Quais são os seus 3 aspectos preferidos da ferramenta ? Mural de equipa'] == \"Mural de equipa\", 'Quais são os seus 3 aspectos preferidos da ferramenta ? Mural de equipa'] = 1\n",
    "Ano20172018['Quais são os seus 3 aspectos preferidos da ferramenta ? Mural de equipa'].fillna(0, inplace=True)\n",
    "\n",
    "\n",
    "#Quais são os seus 3 aspectos preferidos da ferramenta ?  Gestão de equipa\n",
    "Ano20172018.loc[Ano20172018['Quais são os seus 3 aspectos preferidos da ferramenta ?  Gestão de equipa'] == \"Gestão de equipa\", 'Quais são os seus 3 aspectos preferidos da ferramenta ?  Gestão de equipa'] = 1\n",
    "Ano20172018['Quais são os seus 3 aspectos preferidos da ferramenta ?  Gestão de equipa'].fillna(0, inplace=True)\n",
    "\n",
    "\n",
    "#Quais são os seus 3 aspectos preferidos da ferramenta ? Gestão de projectos\n",
    "Ano20172018.loc[Ano20172018['Quais são os seus 3 aspectos preferidos da ferramenta ? Gestão de projectos'] == \"Gestão de projectos\", 'Quais são os seus 3 aspectos preferidos da ferramenta ? Gestão de projectos'] = 1\n",
    "Ano20172018['Quais são os seus 3 aspectos preferidos da ferramenta ? Gestão de projectos'].fillna(0, inplace=True)\n",
    "\n",
    "#E quais são os 3 aspectos que menos gosta? Aspecto visual\n",
    "Ano20172018.loc[Ano20172018['E quais são os 3 aspectos que menos gosta? Aspecto visual'] == \"Aspeto Visual\", 'E quais são os 3 aspectos que menos gosta? Aspecto visual'] = 1\n",
    "Ano20172018['E quais são os 3 aspectos que menos gosta? Aspecto visual'].fillna(0, inplace=True)\n",
    "\n",
    "#E quais são os 3 aspectos que menos gosta? Navegação na ferramenta\n",
    "Ano20172018.loc[Ano20172018['E quais são os 3 aspectos que menos gosta? Navegação na ferramenta'] == \"Navegação na ferramenta\", 'E quais são os 3 aspectos que menos gosta? Navegação na ferramenta'] = 1\n",
    "Ano20172018['E quais são os 3 aspectos que menos gosta? Navegação na ferramenta'].fillna(0, inplace=True)\n",
    "\n",
    "#E quais são os 3 aspectos que menos gosta? Perguntas\n",
    "Ano20172018.loc[Ano20172018['E quais são os 3 aspectos que menos gosta? Perguntas'] == \"Perguntas\", 'E quais são os 3 aspectos que menos gosta? Perguntas'] = 1\n",
    "Ano20172018['E quais são os 3 aspectos que menos gosta? Perguntas'].fillna(0, inplace=True)\n",
    "\n",
    "#E quais são os 3 aspectos que menos gosta? Exemplos\n",
    "Ano20172018.loc[Ano20172018['E quais são os 3 aspectos que menos gosta? Exemplos'] == \"Exemplos\", 'E quais são os 3 aspectos que menos gosta? Exemplos'] = 1\n",
    "Ano20172018['E quais são os 3 aspectos que menos gosta? Exemplos'].fillna(0, inplace=True)\n",
    "\n",
    "#E quais são os 3 aspectos que menos gosta? Vídeos\n",
    "Ano20172018.loc[Ano20172018['E quais são os 3 aspectos que menos gosta? Vídeos'] == \"Vídeos\", 'E quais são os 3 aspectos que menos gosta? Vídeos'] = 1\n",
    "Ano20172018['E quais são os 3 aspectos que menos gosta? Vídeos'].fillna(0, inplace=True)\n",
    "\n",
    "#E quais são os 3 aspectos que menos gosta? Modelo de negócios\n",
    "Ano20172018.loc[Ano20172018['E quais são os 3 aspectos que menos gosta? Modelo de negócios'] == \"Modelo de negócios\", 'E quais são os 3 aspectos que menos gosta? Modelo de negócios'] = 1\n",
    "Ano20172018['E quais são os 3 aspectos que menos gosta? Modelo de negócios'].fillna(0, inplace=True)\n",
    "\n",
    "\n",
    "#E quais são os 3 aspectos que menos gosta? Indicações de interface\n",
    "Ano20172018.loc[Ano20172018['E quais são os 3 aspectos que menos gosta? Indicações de interface'] == \"Indicações de Interface\", 'E quais são os 3 aspectos que menos gosta? Indicações de interface'] = 1\n",
    "Ano20172018['E quais são os 3 aspectos que menos gosta? Indicações de interface'].fillna(0, inplace=True)\n",
    "\n",
    "#E quais são os 3 aspectos que menos gosta? Mural de equipa\n",
    "Ano20172018.loc[Ano20172018['E quais são os 3 aspectos que menos gosta? Mural de equipa'] == \"Mural de equipa\", 'E quais são os 3 aspectos que menos gosta? Mural de equipa'] = 1\n",
    "Ano20172018['E quais são os 3 aspectos que menos gosta? Mural de equipa'].fillna(0, inplace=True)\n",
    "\n",
    "#E quais são os 3 aspectos que menos gosta? Gestão de equipa\n",
    "Ano20172018.loc[Ano20172018['E quais são os 3 aspectos que menos gosta? Gestão de equipa'] == \"Gestão de equipa\", 'E quais são os 3 aspectos que menos gosta? Gestão de equipa'] = 1\n",
    "Ano20172018['E quais são os 3 aspectos que menos gosta? Gestão de equipa'].fillna(0, inplace=True)\n",
    "\n",
    "#E quais são os 3 aspectos que menos gosta? Gestão de projectos\n",
    "Ano20172018.loc[Ano20172018['E quais são os 3 aspectos que menos gosta? Gestão de projectos'] == \"Gestão de projectos\", 'E quais são os 3 aspectos que menos gosta? Gestão de projectos'] = 1\n",
    "Ano20172018['E quais são os 3 aspectos que menos gosta? Gestão de projectos'].fillna(0, inplace=True)\n"
   ]
  },
  {
   "cell_type": "code",
   "execution_count": null,
   "metadata": {},
   "outputs": [],
   "source": []
  },
  {
   "cell_type": "code",
   "execution_count": null,
   "metadata": {},
   "outputs": [],
   "source": []
  },
  {
   "cell_type": "code",
   "execution_count": null,
   "metadata": {},
   "outputs": [],
   "source": []
  },
  {
   "cell_type": "code",
   "execution_count": null,
   "metadata": {},
   "outputs": [],
   "source": []
  },
  {
   "cell_type": "markdown",
   "metadata": {},
   "source": [
    "### Data Visualizations  <a name=\"dataviz\"></a>\n",
    "\n",
    "* [Back to TOC](#backtoc)\n"
   ]
  },
  {
   "cell_type": "code",
   "execution_count": 67,
   "metadata": {},
   "outputs": [],
   "source": [
    "Ano20182019Liked = Ano20182019['Está satisfeito com a ferramenta DreamShaper?']\n",
    "Ano20182019LikedOrig= Ano20182019Liked.copy()"
   ]
  },
  {
   "cell_type": "code",
   "execution_count": 68,
   "metadata": {},
   "outputs": [],
   "source": [
    "unique_elements, counts_elements = np.unique(Ano20182019Liked, return_counts=True)\n"
   ]
  },
  {
   "cell_type": "code",
   "execution_count": 69,
   "metadata": {},
   "outputs": [],
   "source": [
    "Ano20182019Liked = pd.DataFrame({'Liked?':unique_elements, 'counts':counts_elements})\n"
   ]
  },
  {
   "cell_type": "code",
   "execution_count": 70,
   "metadata": {},
   "outputs": [],
   "source": [
    "Ano20182019Liked\n",
    "Ano20182019Liked['year'] = 2019\n",
    "Ano20182019Liked['population'] = 190\n",
    "Ano20182019Liked['percentage'] = Ano20182019Liked['counts']/Ano20182019Liked['population']\n",
    "\n"
   ]
  },
  {
   "cell_type": "code",
   "execution_count": 71,
   "metadata": {},
   "outputs": [],
   "source": [
    "Liked = [\"Year\", \"AverageLiked\"]\n",
    "\n",
    "LikedOverYears = pd.DataFrame(columns = Liked)"
   ]
  },
  {
   "cell_type": "code",
   "execution_count": 72,
   "metadata": {},
   "outputs": [
    {
     "data": {
      "text/plain": [
       "0      3\n",
       "1      3\n",
       "2      1\n",
       "3      3\n",
       "4      2\n",
       "      ..\n",
       "185    4\n",
       "186    3\n",
       "187    3\n",
       "188    4\n",
       "189    3\n",
       "Name: Está satisfeito com a ferramenta DreamShaper?, Length: 190, dtype: int32"
      ]
     },
     "execution_count": 72,
     "metadata": {},
     "output_type": "execute_result"
    }
   ],
   "source": [
    "Ano20182019LikedOrig = Ano20182019LikedOrig.astype(str).astype(int)\n",
    "Ano20182019LikedOrig"
   ]
  },
  {
   "cell_type": "code",
   "execution_count": 73,
   "metadata": {},
   "outputs": [],
   "source": [
    "import statistics \n",
    "meanLiked=statistics.mean(Ano20182019LikedOrig)"
   ]
  },
  {
   "cell_type": "code",
   "execution_count": 74,
   "metadata": {},
   "outputs": [
    {
     "data": {
      "text/plain": [
       "3.331578947368421"
      ]
     },
     "execution_count": 74,
     "metadata": {},
     "output_type": "execute_result"
    }
   ],
   "source": [
    "meanLiked"
   ]
  },
  {
   "cell_type": "code",
   "execution_count": 75,
   "metadata": {},
   "outputs": [],
   "source": [
    "df2 = pd.DataFrame([ ['7-2018/2019', meanLiked]], columns=[\"Year\", \"AverageLiked\"])\n",
    "\n",
    "\n",
    "LikedOverYears=LikedOverYears.append(df2)\n",
    "\n"
   ]
  },
  {
   "cell_type": "code",
   "execution_count": 76,
   "metadata": {},
   "outputs": [
    {
     "data": {
      "text/html": [
       "<div>\n",
       "<style scoped>\n",
       "    .dataframe tbody tr th:only-of-type {\n",
       "        vertical-align: middle;\n",
       "    }\n",
       "\n",
       "    .dataframe tbody tr th {\n",
       "        vertical-align: top;\n",
       "    }\n",
       "\n",
       "    .dataframe thead th {\n",
       "        text-align: right;\n",
       "    }\n",
       "</style>\n",
       "<table border=\"1\" class=\"dataframe\">\n",
       "  <thead>\n",
       "    <tr style=\"text-align: right;\">\n",
       "      <th></th>\n",
       "      <th>Year</th>\n",
       "      <th>AverageLiked</th>\n",
       "    </tr>\n",
       "  </thead>\n",
       "  <tbody>\n",
       "    <tr>\n",
       "      <th>0</th>\n",
       "      <td>7-2018/2019</td>\n",
       "      <td>3.331579</td>\n",
       "    </tr>\n",
       "  </tbody>\n",
       "</table>\n",
       "</div>"
      ],
      "text/plain": [
       "          Year  AverageLiked\n",
       "0  7-2018/2019      3.331579"
      ]
     },
     "execution_count": 76,
     "metadata": {},
     "output_type": "execute_result"
    }
   ],
   "source": [
    "LikedOverYears"
   ]
  },
  {
   "cell_type": "code",
   "execution_count": 77,
   "metadata": {},
   "outputs": [
    {
     "data": {
      "application/vnd.plotly.v1+json": {
       "config": {
        "plotlyServerURL": "https://plot.ly"
       },
       "data": [
        {
         "alignmentgroup": "True",
         "hovertemplate": "Liked?=%{x}<br>percentage=%{y}<extra></extra>",
         "legendgroup": "",
         "marker": {
          "color": "#636efa"
         },
         "name": "",
         "offsetgroup": "",
         "orientation": "v",
         "showlegend": false,
         "textposition": "auto",
         "type": "bar",
         "x": [
          "1",
          "2",
          "3",
          "4"
         ],
         "xaxis": "x",
         "y": [
          0.02631578947368421,
          0.06842105263157895,
          0.45263157894736844,
          0.45263157894736844
         ],
         "yaxis": "y"
        }
       ],
       "layout": {
        "barmode": "relative",
        "legend": {
         "tracegroupgap": 0
        },
        "margin": {
         "t": 60
        },
        "template": {
         "data": {
          "bar": [
           {
            "error_x": {
             "color": "#2a3f5f"
            },
            "error_y": {
             "color": "#2a3f5f"
            },
            "marker": {
             "line": {
              "color": "#E5ECF6",
              "width": 0.5
             }
            },
            "type": "bar"
           }
          ],
          "barpolar": [
           {
            "marker": {
             "line": {
              "color": "#E5ECF6",
              "width": 0.5
             }
            },
            "type": "barpolar"
           }
          ],
          "carpet": [
           {
            "aaxis": {
             "endlinecolor": "#2a3f5f",
             "gridcolor": "white",
             "linecolor": "white",
             "minorgridcolor": "white",
             "startlinecolor": "#2a3f5f"
            },
            "baxis": {
             "endlinecolor": "#2a3f5f",
             "gridcolor": "white",
             "linecolor": "white",
             "minorgridcolor": "white",
             "startlinecolor": "#2a3f5f"
            },
            "type": "carpet"
           }
          ],
          "choropleth": [
           {
            "colorbar": {
             "outlinewidth": 0,
             "ticks": ""
            },
            "type": "choropleth"
           }
          ],
          "contour": [
           {
            "colorbar": {
             "outlinewidth": 0,
             "ticks": ""
            },
            "colorscale": [
             [
              0,
              "#0d0887"
             ],
             [
              0.1111111111111111,
              "#46039f"
             ],
             [
              0.2222222222222222,
              "#7201a8"
             ],
             [
              0.3333333333333333,
              "#9c179e"
             ],
             [
              0.4444444444444444,
              "#bd3786"
             ],
             [
              0.5555555555555556,
              "#d8576b"
             ],
             [
              0.6666666666666666,
              "#ed7953"
             ],
             [
              0.7777777777777778,
              "#fb9f3a"
             ],
             [
              0.8888888888888888,
              "#fdca26"
             ],
             [
              1,
              "#f0f921"
             ]
            ],
            "type": "contour"
           }
          ],
          "contourcarpet": [
           {
            "colorbar": {
             "outlinewidth": 0,
             "ticks": ""
            },
            "type": "contourcarpet"
           }
          ],
          "heatmap": [
           {
            "colorbar": {
             "outlinewidth": 0,
             "ticks": ""
            },
            "colorscale": [
             [
              0,
              "#0d0887"
             ],
             [
              0.1111111111111111,
              "#46039f"
             ],
             [
              0.2222222222222222,
              "#7201a8"
             ],
             [
              0.3333333333333333,
              "#9c179e"
             ],
             [
              0.4444444444444444,
              "#bd3786"
             ],
             [
              0.5555555555555556,
              "#d8576b"
             ],
             [
              0.6666666666666666,
              "#ed7953"
             ],
             [
              0.7777777777777778,
              "#fb9f3a"
             ],
             [
              0.8888888888888888,
              "#fdca26"
             ],
             [
              1,
              "#f0f921"
             ]
            ],
            "type": "heatmap"
           }
          ],
          "heatmapgl": [
           {
            "colorbar": {
             "outlinewidth": 0,
             "ticks": ""
            },
            "colorscale": [
             [
              0,
              "#0d0887"
             ],
             [
              0.1111111111111111,
              "#46039f"
             ],
             [
              0.2222222222222222,
              "#7201a8"
             ],
             [
              0.3333333333333333,
              "#9c179e"
             ],
             [
              0.4444444444444444,
              "#bd3786"
             ],
             [
              0.5555555555555556,
              "#d8576b"
             ],
             [
              0.6666666666666666,
              "#ed7953"
             ],
             [
              0.7777777777777778,
              "#fb9f3a"
             ],
             [
              0.8888888888888888,
              "#fdca26"
             ],
             [
              1,
              "#f0f921"
             ]
            ],
            "type": "heatmapgl"
           }
          ],
          "histogram": [
           {
            "marker": {
             "colorbar": {
              "outlinewidth": 0,
              "ticks": ""
             }
            },
            "type": "histogram"
           }
          ],
          "histogram2d": [
           {
            "colorbar": {
             "outlinewidth": 0,
             "ticks": ""
            },
            "colorscale": [
             [
              0,
              "#0d0887"
             ],
             [
              0.1111111111111111,
              "#46039f"
             ],
             [
              0.2222222222222222,
              "#7201a8"
             ],
             [
              0.3333333333333333,
              "#9c179e"
             ],
             [
              0.4444444444444444,
              "#bd3786"
             ],
             [
              0.5555555555555556,
              "#d8576b"
             ],
             [
              0.6666666666666666,
              "#ed7953"
             ],
             [
              0.7777777777777778,
              "#fb9f3a"
             ],
             [
              0.8888888888888888,
              "#fdca26"
             ],
             [
              1,
              "#f0f921"
             ]
            ],
            "type": "histogram2d"
           }
          ],
          "histogram2dcontour": [
           {
            "colorbar": {
             "outlinewidth": 0,
             "ticks": ""
            },
            "colorscale": [
             [
              0,
              "#0d0887"
             ],
             [
              0.1111111111111111,
              "#46039f"
             ],
             [
              0.2222222222222222,
              "#7201a8"
             ],
             [
              0.3333333333333333,
              "#9c179e"
             ],
             [
              0.4444444444444444,
              "#bd3786"
             ],
             [
              0.5555555555555556,
              "#d8576b"
             ],
             [
              0.6666666666666666,
              "#ed7953"
             ],
             [
              0.7777777777777778,
              "#fb9f3a"
             ],
             [
              0.8888888888888888,
              "#fdca26"
             ],
             [
              1,
              "#f0f921"
             ]
            ],
            "type": "histogram2dcontour"
           }
          ],
          "mesh3d": [
           {
            "colorbar": {
             "outlinewidth": 0,
             "ticks": ""
            },
            "type": "mesh3d"
           }
          ],
          "parcoords": [
           {
            "line": {
             "colorbar": {
              "outlinewidth": 0,
              "ticks": ""
             }
            },
            "type": "parcoords"
           }
          ],
          "pie": [
           {
            "automargin": true,
            "type": "pie"
           }
          ],
          "scatter": [
           {
            "marker": {
             "colorbar": {
              "outlinewidth": 0,
              "ticks": ""
             }
            },
            "type": "scatter"
           }
          ],
          "scatter3d": [
           {
            "line": {
             "colorbar": {
              "outlinewidth": 0,
              "ticks": ""
             }
            },
            "marker": {
             "colorbar": {
              "outlinewidth": 0,
              "ticks": ""
             }
            },
            "type": "scatter3d"
           }
          ],
          "scattercarpet": [
           {
            "marker": {
             "colorbar": {
              "outlinewidth": 0,
              "ticks": ""
             }
            },
            "type": "scattercarpet"
           }
          ],
          "scattergeo": [
           {
            "marker": {
             "colorbar": {
              "outlinewidth": 0,
              "ticks": ""
             }
            },
            "type": "scattergeo"
           }
          ],
          "scattergl": [
           {
            "marker": {
             "colorbar": {
              "outlinewidth": 0,
              "ticks": ""
             }
            },
            "type": "scattergl"
           }
          ],
          "scattermapbox": [
           {
            "marker": {
             "colorbar": {
              "outlinewidth": 0,
              "ticks": ""
             }
            },
            "type": "scattermapbox"
           }
          ],
          "scatterpolar": [
           {
            "marker": {
             "colorbar": {
              "outlinewidth": 0,
              "ticks": ""
             }
            },
            "type": "scatterpolar"
           }
          ],
          "scatterpolargl": [
           {
            "marker": {
             "colorbar": {
              "outlinewidth": 0,
              "ticks": ""
             }
            },
            "type": "scatterpolargl"
           }
          ],
          "scatterternary": [
           {
            "marker": {
             "colorbar": {
              "outlinewidth": 0,
              "ticks": ""
             }
            },
            "type": "scatterternary"
           }
          ],
          "surface": [
           {
            "colorbar": {
             "outlinewidth": 0,
             "ticks": ""
            },
            "colorscale": [
             [
              0,
              "#0d0887"
             ],
             [
              0.1111111111111111,
              "#46039f"
             ],
             [
              0.2222222222222222,
              "#7201a8"
             ],
             [
              0.3333333333333333,
              "#9c179e"
             ],
             [
              0.4444444444444444,
              "#bd3786"
             ],
             [
              0.5555555555555556,
              "#d8576b"
             ],
             [
              0.6666666666666666,
              "#ed7953"
             ],
             [
              0.7777777777777778,
              "#fb9f3a"
             ],
             [
              0.8888888888888888,
              "#fdca26"
             ],
             [
              1,
              "#f0f921"
             ]
            ],
            "type": "surface"
           }
          ],
          "table": [
           {
            "cells": {
             "fill": {
              "color": "#EBF0F8"
             },
             "line": {
              "color": "white"
             }
            },
            "header": {
             "fill": {
              "color": "#C8D4E3"
             },
             "line": {
              "color": "white"
             }
            },
            "type": "table"
           }
          ]
         },
         "layout": {
          "annotationdefaults": {
           "arrowcolor": "#2a3f5f",
           "arrowhead": 0,
           "arrowwidth": 1
          },
          "coloraxis": {
           "colorbar": {
            "outlinewidth": 0,
            "ticks": ""
           }
          },
          "colorscale": {
           "diverging": [
            [
             0,
             "#8e0152"
            ],
            [
             0.1,
             "#c51b7d"
            ],
            [
             0.2,
             "#de77ae"
            ],
            [
             0.3,
             "#f1b6da"
            ],
            [
             0.4,
             "#fde0ef"
            ],
            [
             0.5,
             "#f7f7f7"
            ],
            [
             0.6,
             "#e6f5d0"
            ],
            [
             0.7,
             "#b8e186"
            ],
            [
             0.8,
             "#7fbc41"
            ],
            [
             0.9,
             "#4d9221"
            ],
            [
             1,
             "#276419"
            ]
           ],
           "sequential": [
            [
             0,
             "#0d0887"
            ],
            [
             0.1111111111111111,
             "#46039f"
            ],
            [
             0.2222222222222222,
             "#7201a8"
            ],
            [
             0.3333333333333333,
             "#9c179e"
            ],
            [
             0.4444444444444444,
             "#bd3786"
            ],
            [
             0.5555555555555556,
             "#d8576b"
            ],
            [
             0.6666666666666666,
             "#ed7953"
            ],
            [
             0.7777777777777778,
             "#fb9f3a"
            ],
            [
             0.8888888888888888,
             "#fdca26"
            ],
            [
             1,
             "#f0f921"
            ]
           ],
           "sequentialminus": [
            [
             0,
             "#0d0887"
            ],
            [
             0.1111111111111111,
             "#46039f"
            ],
            [
             0.2222222222222222,
             "#7201a8"
            ],
            [
             0.3333333333333333,
             "#9c179e"
            ],
            [
             0.4444444444444444,
             "#bd3786"
            ],
            [
             0.5555555555555556,
             "#d8576b"
            ],
            [
             0.6666666666666666,
             "#ed7953"
            ],
            [
             0.7777777777777778,
             "#fb9f3a"
            ],
            [
             0.8888888888888888,
             "#fdca26"
            ],
            [
             1,
             "#f0f921"
            ]
           ]
          },
          "colorway": [
           "#636efa",
           "#EF553B",
           "#00cc96",
           "#ab63fa",
           "#FFA15A",
           "#19d3f3",
           "#FF6692",
           "#B6E880",
           "#FF97FF",
           "#FECB52"
          ],
          "font": {
           "color": "#2a3f5f"
          },
          "geo": {
           "bgcolor": "white",
           "lakecolor": "white",
           "landcolor": "#E5ECF6",
           "showlakes": true,
           "showland": true,
           "subunitcolor": "white"
          },
          "hoverlabel": {
           "align": "left"
          },
          "hovermode": "closest",
          "mapbox": {
           "style": "light"
          },
          "paper_bgcolor": "white",
          "plot_bgcolor": "#E5ECF6",
          "polar": {
           "angularaxis": {
            "gridcolor": "white",
            "linecolor": "white",
            "ticks": ""
           },
           "bgcolor": "#E5ECF6",
           "radialaxis": {
            "gridcolor": "white",
            "linecolor": "white",
            "ticks": ""
           }
          },
          "scene": {
           "xaxis": {
            "backgroundcolor": "#E5ECF6",
            "gridcolor": "white",
            "gridwidth": 2,
            "linecolor": "white",
            "showbackground": true,
            "ticks": "",
            "zerolinecolor": "white"
           },
           "yaxis": {
            "backgroundcolor": "#E5ECF6",
            "gridcolor": "white",
            "gridwidth": 2,
            "linecolor": "white",
            "showbackground": true,
            "ticks": "",
            "zerolinecolor": "white"
           },
           "zaxis": {
            "backgroundcolor": "#E5ECF6",
            "gridcolor": "white",
            "gridwidth": 2,
            "linecolor": "white",
            "showbackground": true,
            "ticks": "",
            "zerolinecolor": "white"
           }
          },
          "shapedefaults": {
           "line": {
            "color": "#2a3f5f"
           }
          },
          "ternary": {
           "aaxis": {
            "gridcolor": "white",
            "linecolor": "white",
            "ticks": ""
           },
           "baxis": {
            "gridcolor": "white",
            "linecolor": "white",
            "ticks": ""
           },
           "bgcolor": "#E5ECF6",
           "caxis": {
            "gridcolor": "white",
            "linecolor": "white",
            "ticks": ""
           }
          },
          "title": {
           "x": 0.05
          },
          "xaxis": {
           "automargin": true,
           "gridcolor": "white",
           "linecolor": "white",
           "ticks": "",
           "title": {
            "standoff": 15
           },
           "zerolinecolor": "white",
           "zerolinewidth": 2
          },
          "yaxis": {
           "automargin": true,
           "gridcolor": "white",
           "linecolor": "white",
           "ticks": "",
           "title": {
            "standoff": 15
           },
           "zerolinecolor": "white",
           "zerolinewidth": 2
          }
         }
        },
        "title": {
         "text": "Está satisfeito com a ferramenta DreamShaper? - 2018/2019"
        },
        "xaxis": {
         "anchor": "y",
         "domain": [
          0,
          1
         ],
         "title": {
          "text": "Liked?"
         }
        },
        "yaxis": {
         "anchor": "x",
         "domain": [
          0,
          1
         ],
         "title": {
          "text": "percentage"
         }
        }
       }
      },
      "text/html": [
       "<div>                            <div id=\"0e870fef-cb50-47ed-acee-000c281fc8d8\" class=\"plotly-graph-div\" style=\"height:525px; width:100%;\"></div>            <script type=\"text/javascript\">                require([\"plotly\"], function(Plotly) {                    window.PLOTLYENV=window.PLOTLYENV || {};                                    if (document.getElementById(\"0e870fef-cb50-47ed-acee-000c281fc8d8\")) {                    Plotly.newPlot(                        \"0e870fef-cb50-47ed-acee-000c281fc8d8\",                        [{\"alignmentgroup\": \"True\", \"hovertemplate\": \"Liked?=%{x}<br>percentage=%{y}<extra></extra>\", \"legendgroup\": \"\", \"marker\": {\"color\": \"#636efa\"}, \"name\": \"\", \"offsetgroup\": \"\", \"orientation\": \"v\", \"showlegend\": false, \"textposition\": \"auto\", \"type\": \"bar\", \"x\": [\"1\", \"2\", \"3\", \"4\"], \"xaxis\": \"x\", \"y\": [0.02631578947368421, 0.06842105263157895, 0.45263157894736844, 0.45263157894736844], \"yaxis\": \"y\"}],                        {\"barmode\": \"relative\", \"legend\": {\"tracegroupgap\": 0}, \"margin\": {\"t\": 60}, \"template\": {\"data\": {\"bar\": [{\"error_x\": {\"color\": \"#2a3f5f\"}, \"error_y\": {\"color\": \"#2a3f5f\"}, \"marker\": {\"line\": {\"color\": \"#E5ECF6\", \"width\": 0.5}}, \"type\": \"bar\"}], \"barpolar\": [{\"marker\": {\"line\": {\"color\": \"#E5ECF6\", \"width\": 0.5}}, \"type\": \"barpolar\"}], \"carpet\": [{\"aaxis\": {\"endlinecolor\": \"#2a3f5f\", \"gridcolor\": \"white\", \"linecolor\": \"white\", \"minorgridcolor\": \"white\", \"startlinecolor\": \"#2a3f5f\"}, \"baxis\": {\"endlinecolor\": \"#2a3f5f\", \"gridcolor\": \"white\", \"linecolor\": \"white\", \"minorgridcolor\": \"white\", \"startlinecolor\": \"#2a3f5f\"}, \"type\": \"carpet\"}], \"choropleth\": [{\"colorbar\": {\"outlinewidth\": 0, \"ticks\": \"\"}, \"type\": \"choropleth\"}], \"contour\": [{\"colorbar\": {\"outlinewidth\": 0, \"ticks\": \"\"}, \"colorscale\": [[0.0, \"#0d0887\"], [0.1111111111111111, \"#46039f\"], [0.2222222222222222, \"#7201a8\"], [0.3333333333333333, \"#9c179e\"], [0.4444444444444444, \"#bd3786\"], [0.5555555555555556, \"#d8576b\"], [0.6666666666666666, \"#ed7953\"], [0.7777777777777778, \"#fb9f3a\"], [0.8888888888888888, \"#fdca26\"], [1.0, \"#f0f921\"]], \"type\": \"contour\"}], \"contourcarpet\": [{\"colorbar\": {\"outlinewidth\": 0, \"ticks\": \"\"}, \"type\": \"contourcarpet\"}], \"heatmap\": [{\"colorbar\": {\"outlinewidth\": 0, \"ticks\": \"\"}, \"colorscale\": [[0.0, \"#0d0887\"], [0.1111111111111111, \"#46039f\"], [0.2222222222222222, \"#7201a8\"], [0.3333333333333333, \"#9c179e\"], [0.4444444444444444, \"#bd3786\"], [0.5555555555555556, \"#d8576b\"], [0.6666666666666666, \"#ed7953\"], [0.7777777777777778, \"#fb9f3a\"], [0.8888888888888888, \"#fdca26\"], [1.0, \"#f0f921\"]], \"type\": \"heatmap\"}], \"heatmapgl\": [{\"colorbar\": {\"outlinewidth\": 0, \"ticks\": \"\"}, \"colorscale\": [[0.0, \"#0d0887\"], [0.1111111111111111, \"#46039f\"], [0.2222222222222222, \"#7201a8\"], [0.3333333333333333, \"#9c179e\"], [0.4444444444444444, \"#bd3786\"], [0.5555555555555556, \"#d8576b\"], [0.6666666666666666, \"#ed7953\"], [0.7777777777777778, \"#fb9f3a\"], [0.8888888888888888, \"#fdca26\"], [1.0, \"#f0f921\"]], \"type\": \"heatmapgl\"}], \"histogram\": [{\"marker\": {\"colorbar\": {\"outlinewidth\": 0, \"ticks\": \"\"}}, \"type\": \"histogram\"}], \"histogram2d\": [{\"colorbar\": {\"outlinewidth\": 0, \"ticks\": \"\"}, \"colorscale\": [[0.0, \"#0d0887\"], [0.1111111111111111, \"#46039f\"], [0.2222222222222222, \"#7201a8\"], [0.3333333333333333, \"#9c179e\"], [0.4444444444444444, \"#bd3786\"], [0.5555555555555556, \"#d8576b\"], [0.6666666666666666, \"#ed7953\"], [0.7777777777777778, \"#fb9f3a\"], [0.8888888888888888, \"#fdca26\"], [1.0, \"#f0f921\"]], \"type\": \"histogram2d\"}], \"histogram2dcontour\": [{\"colorbar\": {\"outlinewidth\": 0, \"ticks\": \"\"}, \"colorscale\": [[0.0, \"#0d0887\"], [0.1111111111111111, \"#46039f\"], [0.2222222222222222, \"#7201a8\"], [0.3333333333333333, \"#9c179e\"], [0.4444444444444444, \"#bd3786\"], [0.5555555555555556, \"#d8576b\"], [0.6666666666666666, \"#ed7953\"], [0.7777777777777778, \"#fb9f3a\"], [0.8888888888888888, \"#fdca26\"], [1.0, \"#f0f921\"]], \"type\": \"histogram2dcontour\"}], \"mesh3d\": [{\"colorbar\": {\"outlinewidth\": 0, \"ticks\": \"\"}, \"type\": \"mesh3d\"}], \"parcoords\": [{\"line\": {\"colorbar\": {\"outlinewidth\": 0, \"ticks\": \"\"}}, \"type\": \"parcoords\"}], \"pie\": [{\"automargin\": true, \"type\": \"pie\"}], \"scatter\": [{\"marker\": {\"colorbar\": {\"outlinewidth\": 0, \"ticks\": \"\"}}, \"type\": \"scatter\"}], \"scatter3d\": [{\"line\": {\"colorbar\": {\"outlinewidth\": 0, \"ticks\": \"\"}}, \"marker\": {\"colorbar\": {\"outlinewidth\": 0, \"ticks\": \"\"}}, \"type\": \"scatter3d\"}], \"scattercarpet\": [{\"marker\": {\"colorbar\": {\"outlinewidth\": 0, \"ticks\": \"\"}}, \"type\": \"scattercarpet\"}], \"scattergeo\": [{\"marker\": {\"colorbar\": {\"outlinewidth\": 0, \"ticks\": \"\"}}, \"type\": \"scattergeo\"}], \"scattergl\": [{\"marker\": {\"colorbar\": {\"outlinewidth\": 0, \"ticks\": \"\"}}, \"type\": \"scattergl\"}], \"scattermapbox\": [{\"marker\": {\"colorbar\": {\"outlinewidth\": 0, \"ticks\": \"\"}}, \"type\": \"scattermapbox\"}], \"scatterpolar\": [{\"marker\": {\"colorbar\": {\"outlinewidth\": 0, \"ticks\": \"\"}}, \"type\": \"scatterpolar\"}], \"scatterpolargl\": [{\"marker\": {\"colorbar\": {\"outlinewidth\": 0, \"ticks\": \"\"}}, \"type\": \"scatterpolargl\"}], \"scatterternary\": [{\"marker\": {\"colorbar\": {\"outlinewidth\": 0, \"ticks\": \"\"}}, \"type\": \"scatterternary\"}], \"surface\": [{\"colorbar\": {\"outlinewidth\": 0, \"ticks\": \"\"}, \"colorscale\": [[0.0, \"#0d0887\"], [0.1111111111111111, \"#46039f\"], [0.2222222222222222, \"#7201a8\"], [0.3333333333333333, \"#9c179e\"], [0.4444444444444444, \"#bd3786\"], [0.5555555555555556, \"#d8576b\"], [0.6666666666666666, \"#ed7953\"], [0.7777777777777778, \"#fb9f3a\"], [0.8888888888888888, \"#fdca26\"], [1.0, \"#f0f921\"]], \"type\": \"surface\"}], \"table\": [{\"cells\": {\"fill\": {\"color\": \"#EBF0F8\"}, \"line\": {\"color\": \"white\"}}, \"header\": {\"fill\": {\"color\": \"#C8D4E3\"}, \"line\": {\"color\": \"white\"}}, \"type\": \"table\"}]}, \"layout\": {\"annotationdefaults\": {\"arrowcolor\": \"#2a3f5f\", \"arrowhead\": 0, \"arrowwidth\": 1}, \"coloraxis\": {\"colorbar\": {\"outlinewidth\": 0, \"ticks\": \"\"}}, \"colorscale\": {\"diverging\": [[0, \"#8e0152\"], [0.1, \"#c51b7d\"], [0.2, \"#de77ae\"], [0.3, \"#f1b6da\"], [0.4, \"#fde0ef\"], [0.5, \"#f7f7f7\"], [0.6, \"#e6f5d0\"], [0.7, \"#b8e186\"], [0.8, \"#7fbc41\"], [0.9, \"#4d9221\"], [1, \"#276419\"]], \"sequential\": [[0.0, \"#0d0887\"], [0.1111111111111111, \"#46039f\"], [0.2222222222222222, \"#7201a8\"], [0.3333333333333333, \"#9c179e\"], [0.4444444444444444, \"#bd3786\"], [0.5555555555555556, \"#d8576b\"], [0.6666666666666666, \"#ed7953\"], [0.7777777777777778, \"#fb9f3a\"], [0.8888888888888888, \"#fdca26\"], [1.0, \"#f0f921\"]], \"sequentialminus\": [[0.0, \"#0d0887\"], [0.1111111111111111, \"#46039f\"], [0.2222222222222222, \"#7201a8\"], [0.3333333333333333, \"#9c179e\"], [0.4444444444444444, \"#bd3786\"], [0.5555555555555556, \"#d8576b\"], [0.6666666666666666, \"#ed7953\"], [0.7777777777777778, \"#fb9f3a\"], [0.8888888888888888, \"#fdca26\"], [1.0, \"#f0f921\"]]}, \"colorway\": [\"#636efa\", \"#EF553B\", \"#00cc96\", \"#ab63fa\", \"#FFA15A\", \"#19d3f3\", \"#FF6692\", \"#B6E880\", \"#FF97FF\", \"#FECB52\"], \"font\": {\"color\": \"#2a3f5f\"}, \"geo\": {\"bgcolor\": \"white\", \"lakecolor\": \"white\", \"landcolor\": \"#E5ECF6\", \"showlakes\": true, \"showland\": true, \"subunitcolor\": \"white\"}, \"hoverlabel\": {\"align\": \"left\"}, \"hovermode\": \"closest\", \"mapbox\": {\"style\": \"light\"}, \"paper_bgcolor\": \"white\", \"plot_bgcolor\": \"#E5ECF6\", \"polar\": {\"angularaxis\": {\"gridcolor\": \"white\", \"linecolor\": \"white\", \"ticks\": \"\"}, \"bgcolor\": \"#E5ECF6\", \"radialaxis\": {\"gridcolor\": \"white\", \"linecolor\": \"white\", \"ticks\": \"\"}}, \"scene\": {\"xaxis\": {\"backgroundcolor\": \"#E5ECF6\", \"gridcolor\": \"white\", \"gridwidth\": 2, \"linecolor\": \"white\", \"showbackground\": true, \"ticks\": \"\", \"zerolinecolor\": \"white\"}, \"yaxis\": {\"backgroundcolor\": \"#E5ECF6\", \"gridcolor\": \"white\", \"gridwidth\": 2, \"linecolor\": \"white\", \"showbackground\": true, \"ticks\": \"\", \"zerolinecolor\": \"white\"}, \"zaxis\": {\"backgroundcolor\": \"#E5ECF6\", \"gridcolor\": \"white\", \"gridwidth\": 2, \"linecolor\": \"white\", \"showbackground\": true, \"ticks\": \"\", \"zerolinecolor\": \"white\"}}, \"shapedefaults\": {\"line\": {\"color\": \"#2a3f5f\"}}, \"ternary\": {\"aaxis\": {\"gridcolor\": \"white\", \"linecolor\": \"white\", \"ticks\": \"\"}, \"baxis\": {\"gridcolor\": \"white\", \"linecolor\": \"white\", \"ticks\": \"\"}, \"bgcolor\": \"#E5ECF6\", \"caxis\": {\"gridcolor\": \"white\", \"linecolor\": \"white\", \"ticks\": \"\"}}, \"title\": {\"x\": 0.05}, \"xaxis\": {\"automargin\": true, \"gridcolor\": \"white\", \"linecolor\": \"white\", \"ticks\": \"\", \"title\": {\"standoff\": 15}, \"zerolinecolor\": \"white\", \"zerolinewidth\": 2}, \"yaxis\": {\"automargin\": true, \"gridcolor\": \"white\", \"linecolor\": \"white\", \"ticks\": \"\", \"title\": {\"standoff\": 15}, \"zerolinecolor\": \"white\", \"zerolinewidth\": 2}}}, \"title\": {\"text\": \"Est\\u00e1 satisfeito com a ferramenta DreamShaper? - 2018/2019\"}, \"xaxis\": {\"anchor\": \"y\", \"domain\": [0.0, 1.0], \"title\": {\"text\": \"Liked?\"}}, \"yaxis\": {\"anchor\": \"x\", \"domain\": [0.0, 1.0], \"title\": {\"text\": \"percentage\"}}},                        {\"responsive\": true}                    ).then(function(){\n",
       "                            \n",
       "var gd = document.getElementById('0e870fef-cb50-47ed-acee-000c281fc8d8');\n",
       "var x = new MutationObserver(function (mutations, observer) {{\n",
       "        var display = window.getComputedStyle(gd).display;\n",
       "        if (!display || display === 'none') {{\n",
       "            console.log([gd, 'removed!']);\n",
       "            Plotly.purge(gd);\n",
       "            observer.disconnect();\n",
       "        }}\n",
       "}});\n",
       "\n",
       "// Listen for the removal of the full notebook cells\n",
       "var notebookContainer = gd.closest('#notebook-container');\n",
       "if (notebookContainer) {{\n",
       "    x.observe(notebookContainer, {childList: true});\n",
       "}}\n",
       "\n",
       "// Listen for the clearing of the current output cell\n",
       "var outputEl = gd.closest('.output');\n",
       "if (outputEl) {{\n",
       "    x.observe(outputEl, {childList: true});\n",
       "}}\n",
       "\n",
       "                        })                };                });            </script>        </div>"
      ]
     },
     "metadata": {},
     "output_type": "display_data"
    }
   ],
   "source": [
    "import plotly_express as px\n",
    "\n",
    "fig = px.bar(Ano20182019Liked, x='Liked?', y='percentage')\n",
    "\n",
    "fig.update_layout(title_text='Está satisfeito com a ferramenta DreamShaper? - 2018/2019')\n",
    "\n",
    "fig.show()\n",
    "fig.write_image('Outputs/ImageOutputsYear/Ano20182019Liked.png')\n"
   ]
  },
  {
   "cell_type": "code",
   "execution_count": 78,
   "metadata": {},
   "outputs": [
    {
     "data": {
      "image/png": "[encoded data removed]",
      "text/plain": [
       "<IPython.core.display.Image object>"
      ]
     },
     "execution_count": 78,
     "metadata": {},
     "output_type": "execute_result"
    }
   ],
   "source": [
    "from IPython.display import Image\n",
    "Image(filename='Outputs/ImageOutputsYear/Ano20182019Liked.png')\n"
   ]
  },
  {
   "cell_type": "code",
   "execution_count": null,
   "metadata": {},
   "outputs": [],
   "source": []
  },
  {
   "cell_type": "code",
   "execution_count": null,
   "metadata": {},
   "outputs": [],
   "source": []
  },
  {
   "cell_type": "markdown",
   "metadata": {},
   "source": [
    "### Save Processed Data<a name=\"processeddata\"></a>\n",
    "* [Back to TOC](#backtoc)\n"
   ]
  },
  {
   "cell_type": "code",
   "execution_count": 79,
   "metadata": {},
   "outputs": [],
   "source": [
    "Ano20182019.to_csv(r'Data/DadosPorAnoProcessados/Ano20182019Processed.csv', index = False)\n"
   ]
  },
  {
   "cell_type": "code",
   "execution_count": 80,
   "metadata": {},
   "outputs": [
    {
     "data": {
      "text/html": [
       "<div>\n",
       "<style scoped>\n",
       "    .dataframe tbody tr th:only-of-type {\n",
       "        vertical-align: middle;\n",
       "    }\n",
       "\n",
       "    .dataframe tbody tr th {\n",
       "        vertical-align: top;\n",
       "    }\n",
       "\n",
       "    .dataframe thead th {\n",
       "        text-align: right;\n",
       "    }\n",
       "</style>\n",
       "<table border=\"1\" class=\"dataframe\">\n",
       "  <thead>\n",
       "    <tr style=\"text-align: right;\">\n",
       "      <th></th>\n",
       "      <th>Está satisfeito com a ferramenta DreamShaper?(Classifique de 1 a 4, sendo 1: Nada satisfeito e 4: Muito Satisfeito)</th>\n",
       "      <th>Sentiu que os videos da Dreamshaper foram úteis para si?</th>\n",
       "      <th>Os exemplos foram úteis para si?</th>\n",
       "      <th>Acha que a ferramenta tem perguntas a mais ou, pelo contrário, gostaria de ter mais perguntas intermédias que ajudam a ir ‘entrando’ nos novos conceitos?</th>\n",
       "      <th>Quais são os seus 3 aspectos preferidos da ferramenta?</th>\n",
       "      <th>E quais são os 3 aspectos que menos gosta?</th>\n",
       "      <th>Quanto aprendeu com a DreamShaper?</th>\n",
       "      <th>Está satisfeito com a ferramenta DreamShaper?</th>\n",
       "      <th>Quanto aprendeu com a DreamShaper?Encod</th>\n",
       "    </tr>\n",
       "  </thead>\n",
       "  <tbody>\n",
       "    <tr>\n",
       "      <th>0</th>\n",
       "      <td>3</td>\n",
       "      <td>Foram muito úteis</td>\n",
       "      <td>Muito úteis</td>\n",
       "      <td>Tem perguntas a mais; gostaria de ir mais dire...</td>\n",
       "      <td>Resumo do negócio;Aspecto visual;Modelo de neg...</td>\n",
       "      <td>Navegação na ferramenta;Indicações de interfac...</td>\n",
       "      <td>Alguma coisa</td>\n",
       "      <td>3</td>\n",
       "      <td>3.0</td>\n",
       "    </tr>\n",
       "    <tr>\n",
       "      <th>1</th>\n",
       "      <td>3</td>\n",
       "      <td>Foram muito úteis</td>\n",
       "      <td>Algo úteis</td>\n",
       "      <td>Tem perguntas a mais; gostaria de ir mais dire...</td>\n",
       "      <td>Modelo de negócios;</td>\n",
       "      <td>Aspecto visual;Navegação na ferramenta;</td>\n",
       "      <td>Alguma coisa</td>\n",
       "      <td>3</td>\n",
       "      <td>3.0</td>\n",
       "    </tr>\n",
       "    <tr>\n",
       "      <th>2</th>\n",
       "      <td>1- Nada Satisfeito</td>\n",
       "      <td>Não foram úteis</td>\n",
       "      <td>Não, nada úteis</td>\n",
       "      <td>Tem perguntas a mais; gostaria de ir mais dire...</td>\n",
       "      <td>Indicações de interface;</td>\n",
       "      <td>Monte pio ;</td>\n",
       "      <td>Alguma coisa</td>\n",
       "      <td>1</td>\n",
       "      <td>3.0</td>\n",
       "    </tr>\n",
       "    <tr>\n",
       "      <th>3</th>\n",
       "      <td>3</td>\n",
       "      <td>Foram muito úteis</td>\n",
       "      <td>Muito úteis</td>\n",
       "      <td>Tem perguntas a mais; gostaria de ir mais dire...</td>\n",
       "      <td>Navegação na ferramenta;Perguntas;Exemplos;</td>\n",
       "      <td>Aspecto visual;Modelo de negócios;Acesso a rec...</td>\n",
       "      <td>Bastante</td>\n",
       "      <td>3</td>\n",
       "      <td>4.0</td>\n",
       "    </tr>\n",
       "    <tr>\n",
       "      <th>4</th>\n",
       "      <td>2</td>\n",
       "      <td>Úteis, mas pouco</td>\n",
       "      <td>Pouco úteis</td>\n",
       "      <td>Tem perguntas a mais; gostaria de ir mais dire...</td>\n",
       "      <td>Aspecto visual;</td>\n",
       "      <td>Navegação na ferramenta;Perguntas;Modelo de ne...</td>\n",
       "      <td>Pouco</td>\n",
       "      <td>2</td>\n",
       "      <td>2.0</td>\n",
       "    </tr>\n",
       "    <tr>\n",
       "      <th>...</th>\n",
       "      <td>...</td>\n",
       "      <td>...</td>\n",
       "      <td>...</td>\n",
       "      <td>...</td>\n",
       "      <td>...</td>\n",
       "      <td>...</td>\n",
       "      <td>...</td>\n",
       "      <td>...</td>\n",
       "      <td>...</td>\n",
       "    </tr>\n",
       "    <tr>\n",
       "      <th>185</th>\n",
       "      <td>4- Muito Satisfeito</td>\n",
       "      <td>Foram muito úteis</td>\n",
       "      <td>Algo úteis</td>\n",
       "      <td>Gosto do actual equilíbrio de perguntas</td>\n",
       "      <td>Vídeos;Gestão de equipa;</td>\n",
       "      <td>gostei de tudo;</td>\n",
       "      <td>Bastante</td>\n",
       "      <td>4</td>\n",
       "      <td>4.0</td>\n",
       "    </tr>\n",
       "    <tr>\n",
       "      <th>186</th>\n",
       "      <td>3</td>\n",
       "      <td>Úteis, mas pouco</td>\n",
       "      <td>Pouco úteis</td>\n",
       "      <td>Gosto do actual equilíbrio de perguntas</td>\n",
       "      <td>Vídeos;Modelo de negócios;Gestão de equipa;</td>\n",
       "      <td>Navegação na ferramenta;Perguntas;Acesso a rec...</td>\n",
       "      <td>Pouco</td>\n",
       "      <td>3</td>\n",
       "      <td>2.0</td>\n",
       "    </tr>\n",
       "    <tr>\n",
       "      <th>187</th>\n",
       "      <td>3</td>\n",
       "      <td>Foram muito úteis</td>\n",
       "      <td>Muito úteis</td>\n",
       "      <td>Gosto do actual equilíbrio de perguntas</td>\n",
       "      <td>Navegação na ferramenta;Modelo de negócios;Ges...</td>\n",
       "      <td>Não tenho do que não gostar;</td>\n",
       "      <td>Bastante</td>\n",
       "      <td>3</td>\n",
       "      <td>4.0</td>\n",
       "    </tr>\n",
       "    <tr>\n",
       "      <th>188</th>\n",
       "      <td>4- Muito Satisfeito</td>\n",
       "      <td>Foram muito úteis</td>\n",
       "      <td>Algo úteis</td>\n",
       "      <td>Gostaria de ter mais perguntas intermédias par...</td>\n",
       "      <td>Navegação na ferramenta;Modelo de negócios;Ges...</td>\n",
       "      <td>Perguntas;Exemplos;Gestão de equipa;</td>\n",
       "      <td>Bastante</td>\n",
       "      <td>4</td>\n",
       "      <td>4.0</td>\n",
       "    </tr>\n",
       "    <tr>\n",
       "      <th>189</th>\n",
       "      <td>3</td>\n",
       "      <td>Foram muito úteis</td>\n",
       "      <td>Algo úteis</td>\n",
       "      <td>Gosto do actual equilíbrio de perguntas</td>\n",
       "      <td>Exemplos;Modelo de negócios;Gestão de projectos;</td>\n",
       "      <td>Aspecto visual;Navegação na ferramenta;</td>\n",
       "      <td>Bastante</td>\n",
       "      <td>3</td>\n",
       "      <td>4.0</td>\n",
       "    </tr>\n",
       "  </tbody>\n",
       "</table>\n",
       "<p>190 rows × 9 columns</p>\n",
       "</div>"
      ],
      "text/plain": [
       "    Está satisfeito com a ferramenta DreamShaper?(Classifique de 1 a 4, sendo 1: Nada satisfeito e 4: Muito Satisfeito)  \\\n",
       "0                                                    3                                                                    \n",
       "1                                                    3                                                                    \n",
       "2                                   1- Nada Satisfeito                                                                    \n",
       "3                                                    3                                                                    \n",
       "4                                                    2                                                                    \n",
       "..                                                 ...                                                                    \n",
       "185                                4- Muito Satisfeito                                                                    \n",
       "186                                                  3                                                                    \n",
       "187                                                  3                                                                    \n",
       "188                                4- Muito Satisfeito                                                                    \n",
       "189                                                  3                                                                    \n",
       "\n",
       "    Sentiu que os videos da Dreamshaper foram úteis para si?  \\\n",
       "0                                    Foram muito úteis         \n",
       "1                                    Foram muito úteis         \n",
       "2                                      Não foram úteis         \n",
       "3                                    Foram muito úteis         \n",
       "4                                     Úteis, mas pouco         \n",
       "..                                                 ...         \n",
       "185                                  Foram muito úteis         \n",
       "186                                   Úteis, mas pouco         \n",
       "187                                  Foram muito úteis         \n",
       "188                                  Foram muito úteis         \n",
       "189                                  Foram muito úteis         \n",
       "\n",
       "    Os exemplos foram úteis para si?  \\\n",
       "0                        Muito úteis   \n",
       "1                         Algo úteis   \n",
       "2                    Não, nada úteis   \n",
       "3                        Muito úteis   \n",
       "4                        Pouco úteis   \n",
       "..                               ...   \n",
       "185                       Algo úteis   \n",
       "186                      Pouco úteis   \n",
       "187                      Muito úteis   \n",
       "188                       Algo úteis   \n",
       "189                       Algo úteis   \n",
       "\n",
       "    Acha que a ferramenta tem perguntas a mais ou, pelo contrário, gostaria de ter mais perguntas intermédias que ajudam a ir ‘entrando’ nos novos conceitos?  \\\n",
       "0    Tem perguntas a mais; gostaria de ir mais dire...                                                                                                          \n",
       "1    Tem perguntas a mais; gostaria de ir mais dire...                                                                                                          \n",
       "2    Tem perguntas a mais; gostaria de ir mais dire...                                                                                                          \n",
       "3    Tem perguntas a mais; gostaria de ir mais dire...                                                                                                          \n",
       "4    Tem perguntas a mais; gostaria de ir mais dire...                                                                                                          \n",
       "..                                                 ...                                                                                                          \n",
       "185            Gosto do actual equilíbrio de perguntas                                                                                                          \n",
       "186            Gosto do actual equilíbrio de perguntas                                                                                                          \n",
       "187            Gosto do actual equilíbrio de perguntas                                                                                                          \n",
       "188  Gostaria de ter mais perguntas intermédias par...                                                                                                          \n",
       "189            Gosto do actual equilíbrio de perguntas                                                                                                          \n",
       "\n",
       "    Quais são os seus 3 aspectos preferidos da ferramenta?  \\\n",
       "0    Resumo do negócio;Aspecto visual;Modelo de neg...       \n",
       "1                                  Modelo de negócios;       \n",
       "2                             Indicações de interface;       \n",
       "3          Navegação na ferramenta;Perguntas;Exemplos;       \n",
       "4                                      Aspecto visual;       \n",
       "..                                                 ...       \n",
       "185                           Vídeos;Gestão de equipa;       \n",
       "186        Vídeos;Modelo de negócios;Gestão de equipa;       \n",
       "187  Navegação na ferramenta;Modelo de negócios;Ges...       \n",
       "188  Navegação na ferramenta;Modelo de negócios;Ges...       \n",
       "189   Exemplos;Modelo de negócios;Gestão de projectos;       \n",
       "\n",
       "            E quais são os 3 aspectos que menos gosta?  \\\n",
       "0    Navegação na ferramenta;Indicações de interfac...   \n",
       "1              Aspecto visual;Navegação na ferramenta;   \n",
       "2                                          Monte pio ;   \n",
       "3    Aspecto visual;Modelo de negócios;Acesso a rec...   \n",
       "4    Navegação na ferramenta;Perguntas;Modelo de ne...   \n",
       "..                                                 ...   \n",
       "185                                    gostei de tudo;   \n",
       "186  Navegação na ferramenta;Perguntas;Acesso a rec...   \n",
       "187                       Não tenho do que não gostar;   \n",
       "188               Perguntas;Exemplos;Gestão de equipa;   \n",
       "189            Aspecto visual;Navegação na ferramenta;   \n",
       "\n",
       "    Quanto aprendeu com a DreamShaper?  \\\n",
       "0                         Alguma coisa   \n",
       "1                         Alguma coisa   \n",
       "2                         Alguma coisa   \n",
       "3                             Bastante   \n",
       "4                                Pouco   \n",
       "..                                 ...   \n",
       "185                           Bastante   \n",
       "186                              Pouco   \n",
       "187                           Bastante   \n",
       "188                           Bastante   \n",
       "189                           Bastante   \n",
       "\n",
       "    Está satisfeito com a ferramenta DreamShaper?  \\\n",
       "0                                               3   \n",
       "1                                               3   \n",
       "2                                               1   \n",
       "3                                               3   \n",
       "4                                               2   \n",
       "..                                            ...   \n",
       "185                                             4   \n",
       "186                                             3   \n",
       "187                                             3   \n",
       "188                                             4   \n",
       "189                                             3   \n",
       "\n",
       "     Quanto aprendeu com a DreamShaper?Encod  \n",
       "0                                        3.0  \n",
       "1                                        3.0  \n",
       "2                                        3.0  \n",
       "3                                        4.0  \n",
       "4                                        2.0  \n",
       "..                                       ...  \n",
       "185                                      4.0  \n",
       "186                                      2.0  \n",
       "187                                      4.0  \n",
       "188                                      4.0  \n",
       "189                                      4.0  \n",
       "\n",
       "[190 rows x 9 columns]"
      ]
     },
     "execution_count": 80,
     "metadata": {},
     "output_type": "execute_result"
    }
   ],
   "source": [
    "Ano20182019"
   ]
  },
  {
   "cell_type": "code",
   "execution_count": 81,
   "metadata": {},
   "outputs": [],
   "source": [
    "LikedOverYears.to_csv(r'Data/DadosAoLongoDosAnos/LikedOverYearsAno20182019.csv', index = False)\n"
   ]
  },
  {
   "cell_type": "code",
   "execution_count": 82,
   "metadata": {},
   "outputs": [
    {
     "data": {
      "text/html": [
       "<div>\n",
       "<style scoped>\n",
       "    .dataframe tbody tr th:only-of-type {\n",
       "        vertical-align: middle;\n",
       "    }\n",
       "\n",
       "    .dataframe tbody tr th {\n",
       "        vertical-align: top;\n",
       "    }\n",
       "\n",
       "    .dataframe thead th {\n",
       "        text-align: right;\n",
       "    }\n",
       "</style>\n",
       "<table border=\"1\" class=\"dataframe\">\n",
       "  <thead>\n",
       "    <tr style=\"text-align: right;\">\n",
       "      <th></th>\n",
       "      <th>Year</th>\n",
       "      <th>AverageLiked</th>\n",
       "    </tr>\n",
       "  </thead>\n",
       "  <tbody>\n",
       "    <tr>\n",
       "      <th>0</th>\n",
       "      <td>7-2018/2019</td>\n",
       "      <td>3.331579</td>\n",
       "    </tr>\n",
       "  </tbody>\n",
       "</table>\n",
       "</div>"
      ],
      "text/plain": [
       "          Year  AverageLiked\n",
       "0  7-2018/2019      3.331579"
      ]
     },
     "execution_count": 82,
     "metadata": {},
     "output_type": "execute_result"
    }
   ],
   "source": [
    "LikedOverYears"
   ]
  },
  {
   "cell_type": "code",
   "execution_count": 83,
   "metadata": {},
   "outputs": [],
   "source": [
    "LearnedOverYears.to_csv(r'Data/DadosAoLongoDosAnos/LearnedOverYearsAno20182019.csv', index = False)\n"
   ]
  },
  {
   "cell_type": "code",
   "execution_count": 84,
   "metadata": {},
   "outputs": [
    {
     "data": {
      "text/html": [
       "<div>\n",
       "<style scoped>\n",
       "    .dataframe tbody tr th:only-of-type {\n",
       "        vertical-align: middle;\n",
       "    }\n",
       "\n",
       "    .dataframe tbody tr th {\n",
       "        vertical-align: top;\n",
       "    }\n",
       "\n",
       "    .dataframe thead th {\n",
       "        text-align: right;\n",
       "    }\n",
       "</style>\n",
       "<table border=\"1\" class=\"dataframe\">\n",
       "  <thead>\n",
       "    <tr style=\"text-align: right;\">\n",
       "      <th></th>\n",
       "      <th>Year</th>\n",
       "      <th>AverageLearned</th>\n",
       "    </tr>\n",
       "  </thead>\n",
       "  <tbody>\n",
       "    <tr>\n",
       "      <th>0</th>\n",
       "      <td>7-2018/2019</td>\n",
       "      <td>3.615789</td>\n",
       "    </tr>\n",
       "  </tbody>\n",
       "</table>\n",
       "</div>"
      ],
      "text/plain": [
       "          Year  AverageLearned\n",
       "0  7-2018/2019        3.615789"
      ]
     },
     "execution_count": 84,
     "metadata": {},
     "output_type": "execute_result"
    }
   ],
   "source": [
    "LearnedOverYears"
   ]
  },
  {
   "cell_type": "code",
   "execution_count": null,
   "metadata": {},
   "outputs": [],
   "source": []
  },
  {
   "cell_type": "code",
   "execution_count": null,
   "metadata": {},
   "outputs": [],
   "source": []
  }
 ],
 "metadata": {
  "kernelspec": {
   "display_name": "Python 3",
   "language": "python",
   "name": "python3"
  },
  "language_info": {
   "codemirror_mode": {
    "name": "ipython",
    "version": 3
   },
   "file_extension": ".py",
   "mimetype": "text/x-python",
   "name": "python",
   "nbconvert_exporter": "python",
   "pygments_lexer": "ipython3",
   "version": "3.8.5"
  }
 },
 "nbformat": 4,
 "nbformat_minor": 4
}
