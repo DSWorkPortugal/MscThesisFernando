{
 "cells": [
  {
   "cell_type": "markdown",
   "metadata": {},
   "source": [
    "# Msc Thesis - Fernando Fraga\n",
    "\n",
    "## DreamShaper Usage along the Years\n"
   ]
  },
  {
   "cell_type": "code",
   "execution_count": null,
   "metadata": {},
   "outputs": [],
   "source": []
  },
  {
   "cell_type": "markdown",
   "metadata": {},
   "source": [
    "# Table of Contents\n",
    "1. [Import Packages](#imports)\n",
    "2. [Import the Data](#importdata)\n",
    "\n",
    "2. [Satisfação com a Ferramenta](#satisfacao)\n",
    "2. [Aprendeu com a Ferramenta](#aprendizagem)\n",
    "\n",
    "\n"
   ]
  },
  {
   "cell_type": "markdown",
   "metadata": {},
   "source": [
    "### Import Packages   <a name=\"imports\"></a>"
   ]
  },
  {
   "cell_type": "code",
   "execution_count": 1,
   "metadata": {},
   "outputs": [],
   "source": [
    "# Import required libraries\n",
    "\n",
    "#basic data wrangling\n",
    "import pandas as pd\n",
    "import numpy as np \n"
   ]
  },
  {
   "cell_type": "code",
   "execution_count": null,
   "metadata": {},
   "outputs": [],
   "source": []
  },
  {
   "cell_type": "markdown",
   "metadata": {},
   "source": [
    "### Import the data  <a name=\"importdata\"></a>"
   ]
  },
  {
   "cell_type": "code",
   "execution_count": 2,
   "metadata": {},
   "outputs": [
    {
     "data": {
      "text/html": [
       "<div>\n",
       "<style scoped>\n",
       "    .dataframe tbody tr th:only-of-type {\n",
       "        vertical-align: middle;\n",
       "    }\n",
       "\n",
       "    .dataframe tbody tr th {\n",
       "        vertical-align: top;\n",
       "    }\n",
       "\n",
       "    .dataframe thead th {\n",
       "        text-align: right;\n",
       "    }\n",
       "</style>\n",
       "<table border=\"1\" class=\"dataframe\">\n",
       "  <thead>\n",
       "    <tr style=\"text-align: right;\">\n",
       "      <th></th>\n",
       "      <th>Edição</th>\n",
       "      <th>Tamanho População</th>\n",
       "    </tr>\n",
       "  </thead>\n",
       "  <tbody>\n",
       "    <tr>\n",
       "      <th>0</th>\n",
       "      <td>-1</td>\n",
       "      <td>2965</td>\n",
       "    </tr>\n",
       "    <tr>\n",
       "      <th>1</th>\n",
       "      <td>13-14</td>\n",
       "      <td>14238</td>\n",
       "    </tr>\n",
       "    <tr>\n",
       "      <th>2</th>\n",
       "      <td>14-15</td>\n",
       "      <td>18702</td>\n",
       "    </tr>\n",
       "    <tr>\n",
       "      <th>3</th>\n",
       "      <td>15-16</td>\n",
       "      <td>13093</td>\n",
       "    </tr>\n",
       "    <tr>\n",
       "      <th>4</th>\n",
       "      <td>16-17</td>\n",
       "      <td>12986</td>\n",
       "    </tr>\n",
       "    <tr>\n",
       "      <th>5</th>\n",
       "      <td>17-18</td>\n",
       "      <td>11477</td>\n",
       "    </tr>\n",
       "    <tr>\n",
       "      <th>6</th>\n",
       "      <td>18-19</td>\n",
       "      <td>10739</td>\n",
       "    </tr>\n",
       "  </tbody>\n",
       "</table>\n",
       "</div>"
      ],
      "text/plain": [
       "  Edição  Tamanho População\n",
       "0     -1               2965\n",
       "1  13-14              14238\n",
       "2  14-15              18702\n",
       "3  15-16              13093\n",
       "4  16-17              12986\n",
       "5  17-18              11477\n",
       "6  18-19              10739"
      ]
     },
     "execution_count": 2,
     "metadata": {},
     "output_type": "execute_result"
    }
   ],
   "source": [
    "PopPorAno = pd.read_csv('Data/PopPorAno.csv', encoding=\"ANSI\", sep=';')\n",
    "PopPorAno"
   ]
  },
  {
   "cell_type": "code",
   "execution_count": 3,
   "metadata": {},
   "outputs": [
    {
     "data": {
      "text/html": [
       "<div>\n",
       "<style scoped>\n",
       "    .dataframe tbody tr th:only-of-type {\n",
       "        vertical-align: middle;\n",
       "    }\n",
       "\n",
       "    .dataframe tbody tr th {\n",
       "        vertical-align: top;\n",
       "    }\n",
       "\n",
       "    .dataframe thead th {\n",
       "        text-align: right;\n",
       "    }\n",
       "</style>\n",
       "<table border=\"1\" class=\"dataframe\">\n",
       "  <thead>\n",
       "    <tr style=\"text-align: right;\">\n",
       "      <th></th>\n",
       "      <th>Estruturação da Dreamfactory</th>\n",
       "      <th>Estruturação da Dreamfactory.1</th>\n",
       "      <th>Em que medida os vídeos foram úteis ou pedagógicos?</th>\n",
       "      <th>Em que medida os exemplos foram úteis ou pedagógicos?</th>\n",
       "    </tr>\n",
       "  </thead>\n",
       "  <tbody>\n",
       "    <tr>\n",
       "      <th>0</th>\n",
       "      <td>Satisfeito</td>\n",
       "      <td>está no seu formato ideal</td>\n",
       "      <td>5</td>\n",
       "      <td>3</td>\n",
       "    </tr>\n",
       "    <tr>\n",
       "      <th>1</th>\n",
       "      <td>Indiferente</td>\n",
       "      <td>está no seu formato ideal</td>\n",
       "      <td>1</td>\n",
       "      <td>4</td>\n",
       "    </tr>\n",
       "    <tr>\n",
       "      <th>2</th>\n",
       "      <td>Satisfeito</td>\n",
       "      <td>gostaria de mais perguntas intermédias</td>\n",
       "      <td>5</td>\n",
       "      <td>4</td>\n",
       "    </tr>\n",
       "  </tbody>\n",
       "</table>\n",
       "</div>"
      ],
      "text/plain": [
       "  Estruturação da Dreamfactory          Estruturação da Dreamfactory.1  \\\n",
       "0                   Satisfeito               está no seu formato ideal   \n",
       "1                  Indiferente               está no seu formato ideal   \n",
       "2                   Satisfeito  gostaria de mais perguntas intermédias   \n",
       "\n",
       "  Em que medida os vídeos foram úteis ou pedagógicos?  \\\n",
       "0                                                  5    \n",
       "1                                                  1    \n",
       "2                                                  5    \n",
       "\n",
       "  Em que medida os exemplos foram úteis ou pedagógicos?  \n",
       "0                                                  3     \n",
       "1                                                  4     \n",
       "2                                                  4     "
      ]
     },
     "execution_count": 3,
     "metadata": {},
     "output_type": "execute_result"
    }
   ],
   "source": [
    "Year1 = pd.read_csv('Data/Year1Raw.csv', encoding=\"ANSI\", sep=';')\n",
    "Year1.head(3)"
   ]
  },
  {
   "cell_type": "code",
   "execution_count": 4,
   "metadata": {},
   "outputs": [
    {
     "data": {
      "text/html": [
       "<div>\n",
       "<style scoped>\n",
       "    .dataframe tbody tr th:only-of-type {\n",
       "        vertical-align: middle;\n",
       "    }\n",
       "\n",
       "    .dataframe tbody tr th {\n",
       "        vertical-align: top;\n",
       "    }\n",
       "\n",
       "    .dataframe thead th {\n",
       "        text-align: right;\n",
       "    }\n",
       "</style>\n",
       "<table border=\"1\" class=\"dataframe\">\n",
       "  <thead>\n",
       "    <tr style=\"text-align: right;\">\n",
       "      <th></th>\n",
       "      <th>Está satisfeito com a ferramenta DreamShaper?</th>\n",
       "      <th>Sentiu que os vídeos da DreamShaper foram úteis para si?</th>\n",
       "      <th>Os exemplos foram úteis para si?</th>\n",
       "      <th>Acha que a ferramenta tem perguntas a mais ou, pelo contrário, gostaria de ter mais perguntas intermédias que ajudam a ir ‘entrando’ nos novos conceitos?</th>\n",
       "      <th>Quais são os seus 3 aspectos preferidos da ferramenta ? Aspecto Visual</th>\n",
       "      <th>Quais são os seus 3 aspectos preferidos da ferramenta ? Navegação na Ferramenta</th>\n",
       "      <th>Quais são os seus 3 aspectos preferidos da ferramenta ? Perguntas</th>\n",
       "      <th>Quais são os seus 3 aspectos preferidos da ferramenta ? Exemplos</th>\n",
       "      <th>Quais são os seus 3 aspectos preferidos da ferramenta ? Vídeos</th>\n",
       "      <th>Quais são os seus 3 aspectos preferidos da ferramenta ? Modelo de Negócios</th>\n",
       "      <th>...</th>\n",
       "      <th>E quais são os 3 aspectos que menos gosta? Exemplos</th>\n",
       "      <th>E quais são os 3 aspectos que menos gosta? Vídeos</th>\n",
       "      <th>E quais são os 3 aspectos que menos gosta? Modelo de negócios</th>\n",
       "      <th>E quais são os 3 aspectos que menos gosta? Indicações de interface</th>\n",
       "      <th>E quais são os 3 aspectos que menos gosta? Mural de equipa</th>\n",
       "      <th>E quais são os 3 aspectos que menos gosta? Gestão de equipa</th>\n",
       "      <th>E quais são os 3 aspectos que menos gosta? Gestão de projectos</th>\n",
       "      <th>E quais são os 3 aspectos que menos gosta? Acesso a recursos externos</th>\n",
       "      <th>E quais são os 3 aspectos que menos gosta? Outros</th>\n",
       "      <th>Quanto aprendeu com a DreamShaper?</th>\n",
       "    </tr>\n",
       "  </thead>\n",
       "  <tbody>\n",
       "    <tr>\n",
       "      <th>0</th>\n",
       "      <td>Satisfeito</td>\n",
       "      <td>Não foram úteis</td>\n",
       "      <td>Não, nada úteis</td>\n",
       "      <td>Tem perguntas a mais; gostaria de ir mais dire...</td>\n",
       "      <td>Aspecto visual</td>\n",
       "      <td>Navegação na ferramenta</td>\n",
       "      <td>NaN</td>\n",
       "      <td>NaN</td>\n",
       "      <td>NaN</td>\n",
       "      <td>Modelo de negócios</td>\n",
       "      <td>...</td>\n",
       "      <td>NaN</td>\n",
       "      <td>NaN</td>\n",
       "      <td>NaN</td>\n",
       "      <td>NaN</td>\n",
       "      <td>Mural de equipa</td>\n",
       "      <td>Gestão de equipa</td>\n",
       "      <td>NaN</td>\n",
       "      <td>Acesso a recursos externos</td>\n",
       "      <td>NaN</td>\n",
       "      <td>Pouco</td>\n",
       "    </tr>\n",
       "    <tr>\n",
       "      <th>1</th>\n",
       "      <td>Satisfeito</td>\n",
       "      <td>Não foram úteis</td>\n",
       "      <td>Não, nada úteis</td>\n",
       "      <td>Gosto do actual equilíbrio de perguntas</td>\n",
       "      <td>Aspecto visual</td>\n",
       "      <td>Navegação na ferramenta</td>\n",
       "      <td>NaN</td>\n",
       "      <td>NaN</td>\n",
       "      <td>NaN</td>\n",
       "      <td>NaN</td>\n",
       "      <td>...</td>\n",
       "      <td>NaN</td>\n",
       "      <td>Vídeos</td>\n",
       "      <td>Modelo de negócios</td>\n",
       "      <td>NaN</td>\n",
       "      <td>NaN</td>\n",
       "      <td>NaN</td>\n",
       "      <td>NaN</td>\n",
       "      <td>Acesso a recursos externos</td>\n",
       "      <td>NaN</td>\n",
       "      <td>Pouco</td>\n",
       "    </tr>\n",
       "    <tr>\n",
       "      <th>2</th>\n",
       "      <td>Satisfeito</td>\n",
       "      <td>Foram muito úteis</td>\n",
       "      <td>Muito úteis</td>\n",
       "      <td>Gosto do actual equilíbrio de perguntas</td>\n",
       "      <td>Aspecto visual</td>\n",
       "      <td>NaN</td>\n",
       "      <td>NaN</td>\n",
       "      <td>Exemplos</td>\n",
       "      <td>NaN</td>\n",
       "      <td>NaN</td>\n",
       "      <td>...</td>\n",
       "      <td>NaN</td>\n",
       "      <td>NaN</td>\n",
       "      <td>NaN</td>\n",
       "      <td>NaN</td>\n",
       "      <td>NaN</td>\n",
       "      <td>NaN</td>\n",
       "      <td>NaN</td>\n",
       "      <td>Acesso a recursos externos</td>\n",
       "      <td>NaN</td>\n",
       "      <td>Pouco</td>\n",
       "    </tr>\n",
       "  </tbody>\n",
       "</table>\n",
       "<p>3 rows × 29 columns</p>\n",
       "</div>"
      ],
      "text/plain": [
       "  Está satisfeito com a ferramenta DreamShaper?  \\\n",
       "0                                    Satisfeito   \n",
       "1                                    Satisfeito   \n",
       "2                                    Satisfeito   \n",
       "\n",
       "  Sentiu que os vídeos da DreamShaper foram úteis para si?  \\\n",
       "0                                    Não foram úteis         \n",
       "1                                    Não foram úteis         \n",
       "2                                  Foram muito úteis         \n",
       "\n",
       "  Os exemplos foram úteis para si?  \\\n",
       "0                  Não, nada úteis   \n",
       "1                  Não, nada úteis   \n",
       "2                      Muito úteis   \n",
       "\n",
       "  Acha que a ferramenta tem perguntas a mais ou, pelo contrário, gostaria de ter mais perguntas intermédias que ajudam a ir ‘entrando’ nos novos conceitos?  \\\n",
       "0  Tem perguntas a mais; gostaria de ir mais dire...                                                                                                          \n",
       "1            Gosto do actual equilíbrio de perguntas                                                                                                          \n",
       "2            Gosto do actual equilíbrio de perguntas                                                                                                          \n",
       "\n",
       "  Quais são os seus 3 aspectos preferidos da ferramenta ? Aspecto Visual  \\\n",
       "0                                     Aspecto visual                       \n",
       "1                                     Aspecto visual                       \n",
       "2                                     Aspecto visual                       \n",
       "\n",
       "  Quais são os seus 3 aspectos preferidos da ferramenta ? Navegação na Ferramenta  \\\n",
       "0                            Navegação na ferramenta                                \n",
       "1                            Navegação na ferramenta                                \n",
       "2                                                NaN                                \n",
       "\n",
       "  Quais são os seus 3 aspectos preferidos da ferramenta ? Perguntas  \\\n",
       "0                                                NaN                  \n",
       "1                                                NaN                  \n",
       "2                                                NaN                  \n",
       "\n",
       "  Quais são os seus 3 aspectos preferidos da ferramenta ? Exemplos  \\\n",
       "0                                                NaN                 \n",
       "1                                                NaN                 \n",
       "2                                           Exemplos                 \n",
       "\n",
       "  Quais são os seus 3 aspectos preferidos da ferramenta ? Vídeos  \\\n",
       "0                                                NaN               \n",
       "1                                                NaN               \n",
       "2                                                NaN               \n",
       "\n",
       "  Quais são os seus 3 aspectos preferidos da ferramenta ? Modelo de Negócios  \\\n",
       "0                                 Modelo de negócios                           \n",
       "1                                                NaN                           \n",
       "2                                                NaN                           \n",
       "\n",
       "   ... E quais são os 3 aspectos que menos gosta? Exemplos  \\\n",
       "0  ...                                                NaN    \n",
       "1  ...                                                NaN    \n",
       "2  ...                                                NaN    \n",
       "\n",
       "  E quais são os 3 aspectos que menos gosta? Vídeos  \\\n",
       "0                                               NaN   \n",
       "1                                            Vídeos   \n",
       "2                                               NaN   \n",
       "\n",
       "  E quais são os 3 aspectos que menos gosta? Modelo de negócios  \\\n",
       "0                                                NaN              \n",
       "1                                 Modelo de negócios              \n",
       "2                                                NaN              \n",
       "\n",
       "  E quais são os 3 aspectos que menos gosta? Indicações de interface  \\\n",
       "0                                                NaN                   \n",
       "1                                                NaN                   \n",
       "2                                                NaN                   \n",
       "\n",
       "  E quais são os 3 aspectos que menos gosta? Mural de equipa  \\\n",
       "0                                    Mural de equipa           \n",
       "1                                                NaN           \n",
       "2                                                NaN           \n",
       "\n",
       "  E quais são os 3 aspectos que menos gosta? Gestão de equipa  \\\n",
       "0                                   Gestão de equipa            \n",
       "1                                                NaN            \n",
       "2                                                NaN            \n",
       "\n",
       "  E quais são os 3 aspectos que menos gosta? Gestão de projectos  \\\n",
       "0                                                NaN               \n",
       "1                                                NaN               \n",
       "2                                                NaN               \n",
       "\n",
       "  E quais são os 3 aspectos que menos gosta? Acesso a recursos externos  \\\n",
       "0                         Acesso a recursos externos                      \n",
       "1                         Acesso a recursos externos                      \n",
       "2                         Acesso a recursos externos                      \n",
       "\n",
       "  E quais são os 3 aspectos que menos gosta? Outros  \\\n",
       "0                                               NaN   \n",
       "1                                               NaN   \n",
       "2                                               NaN   \n",
       "\n",
       "  Quanto aprendeu com a DreamShaper?  \n",
       "0                              Pouco  \n",
       "1                              Pouco  \n",
       "2                              Pouco  \n",
       "\n",
       "[3 rows x 29 columns]"
      ]
     },
     "execution_count": 4,
     "metadata": {},
     "output_type": "execute_result"
    }
   ],
   "source": [
    "Ano20132014 = pd.read_csv('Data/Ano20132014.csv', encoding=\"ANSI\", sep=';')\n",
    "Ano20132014.head(3)"
   ]
  },
  {
   "cell_type": "code",
   "execution_count": 5,
   "metadata": {},
   "outputs": [
    {
     "data": {
      "text/html": [
       "<div>\n",
       "<style scoped>\n",
       "    .dataframe tbody tr th:only-of-type {\n",
       "        vertical-align: middle;\n",
       "    }\n",
       "\n",
       "    .dataframe tbody tr th {\n",
       "        vertical-align: top;\n",
       "    }\n",
       "\n",
       "    .dataframe thead th {\n",
       "        text-align: right;\n",
       "    }\n",
       "</style>\n",
       "<table border=\"1\" class=\"dataframe\">\n",
       "  <thead>\n",
       "    <tr style=\"text-align: right;\">\n",
       "      <th></th>\n",
       "      <th>Está satisfeito com a ferramenta DreamShaper?</th>\n",
       "      <th>Quais são os seus 3 aspectos preferidos da ferramenta? Aspecto visual</th>\n",
       "      <th>Quais são os seus 3 aspectos preferidos da ferramenta? Navegação na ferramenta</th>\n",
       "      <th>Quais são os seus 3 aspectos preferidos da ferramenta? Perguntas</th>\n",
       "      <th>Quais são os seus 3 aspectos preferidos da ferramenta? Exemplos</th>\n",
       "      <th>Quais são os seus 3 aspectos preferidos da ferramenta? Vídeos</th>\n",
       "      <th>Quais são os seus 3 aspectos preferidos da ferramenta? Modelo de negócios</th>\n",
       "      <th>Quais são os seus 3 aspectos preferidos da ferramenta? Indicações de interface</th>\n",
       "      <th>Quais são os seus 3 aspectos preferidos da ferramenta? Mural de equipa</th>\n",
       "      <th>Quais são os seus 3 aspectos preferidos da ferramenta? Gestão de equipa</th>\n",
       "      <th>...</th>\n",
       "      <th>E quais são os 3 aspectos que menos gosta? Exemplos</th>\n",
       "      <th>E quais são os 3 aspectos que menos gosta? Vídeos</th>\n",
       "      <th>E quais são os 3 aspectos que menos gosta? Modelo de negócios</th>\n",
       "      <th>E quais são os 3 aspectos que menos gosta? Indicações de interface</th>\n",
       "      <th>E quais são os 3 aspectos que menos gosta? Mural de equipa</th>\n",
       "      <th>E quais são os 3 aspectos que menos gosta? Gestão de equipa</th>\n",
       "      <th>E quais são os 3 aspectos que menos gosta? Gestão de projectos</th>\n",
       "      <th>E quais são os 3 aspectos que menos gosta? Acesso a recursos externos</th>\n",
       "      <th>E quais são os 3 aspectos que menos gosta? Outro (especifique)</th>\n",
       "      <th>Quanto aprendeu com a DreamShaper?</th>\n",
       "    </tr>\n",
       "  </thead>\n",
       "  <tbody>\n",
       "    <tr>\n",
       "      <th>0</th>\n",
       "      <td>Satisfeito</td>\n",
       "      <td>NaN</td>\n",
       "      <td>NaN</td>\n",
       "      <td>NaN</td>\n",
       "      <td>NaN</td>\n",
       "      <td>Vídeos</td>\n",
       "      <td>Modelo de negócios</td>\n",
       "      <td>NaN</td>\n",
       "      <td>NaN</td>\n",
       "      <td>NaN</td>\n",
       "      <td>...</td>\n",
       "      <td>Exemplos</td>\n",
       "      <td>NaN</td>\n",
       "      <td>NaN</td>\n",
       "      <td>NaN</td>\n",
       "      <td>NaN</td>\n",
       "      <td>NaN</td>\n",
       "      <td>NaN</td>\n",
       "      <td>NaN</td>\n",
       "      <td>NaN</td>\n",
       "      <td>Aprendi alguma coisa</td>\n",
       "    </tr>\n",
       "    <tr>\n",
       "      <th>1</th>\n",
       "      <td>Satisfeito</td>\n",
       "      <td>NaN</td>\n",
       "      <td>NaN</td>\n",
       "      <td>Perguntas</td>\n",
       "      <td>Exemplos</td>\n",
       "      <td>NaN</td>\n",
       "      <td>Modelo de negócios</td>\n",
       "      <td>NaN</td>\n",
       "      <td>NaN</td>\n",
       "      <td>NaN</td>\n",
       "      <td>...</td>\n",
       "      <td>NaN</td>\n",
       "      <td>NaN</td>\n",
       "      <td>NaN</td>\n",
       "      <td>NaN</td>\n",
       "      <td>Mural de equipa</td>\n",
       "      <td>NaN</td>\n",
       "      <td>NaN</td>\n",
       "      <td>Acesso a recursos externos</td>\n",
       "      <td>NaN</td>\n",
       "      <td>Aprendi bastante</td>\n",
       "    </tr>\n",
       "    <tr>\n",
       "      <th>2</th>\n",
       "      <td>Muito Satisfeito</td>\n",
       "      <td>NaN</td>\n",
       "      <td>Navegação na ferramenta</td>\n",
       "      <td>Perguntas</td>\n",
       "      <td>NaN</td>\n",
       "      <td>NaN</td>\n",
       "      <td>Modelo de negócios</td>\n",
       "      <td>NaN</td>\n",
       "      <td>NaN</td>\n",
       "      <td>NaN</td>\n",
       "      <td>...</td>\n",
       "      <td>NaN</td>\n",
       "      <td>Vídeos</td>\n",
       "      <td>NaN</td>\n",
       "      <td>NaN</td>\n",
       "      <td>NaN</td>\n",
       "      <td>NaN</td>\n",
       "      <td>NaN</td>\n",
       "      <td>Acesso a recursos externos</td>\n",
       "      <td>NaN</td>\n",
       "      <td>Aprendi bastante</td>\n",
       "    </tr>\n",
       "  </tbody>\n",
       "</table>\n",
       "<p>3 rows × 26 columns</p>\n",
       "</div>"
      ],
      "text/plain": [
       "  Está satisfeito com a ferramenta DreamShaper?  \\\n",
       "0                                    Satisfeito   \n",
       "1                                    Satisfeito   \n",
       "2                              Muito Satisfeito   \n",
       "\n",
       "  Quais são os seus 3 aspectos preferidos da ferramenta? Aspecto visual  \\\n",
       "0                                                NaN                      \n",
       "1                                                NaN                      \n",
       "2                                                NaN                      \n",
       "\n",
       "  Quais são os seus 3 aspectos preferidos da ferramenta? Navegação na ferramenta  \\\n",
       "0                                                NaN                               \n",
       "1                                                NaN                               \n",
       "2                            Navegação na ferramenta                               \n",
       "\n",
       "  Quais são os seus 3 aspectos preferidos da ferramenta? Perguntas  \\\n",
       "0                                                NaN                 \n",
       "1                                          Perguntas                 \n",
       "2                                          Perguntas                 \n",
       "\n",
       "  Quais são os seus 3 aspectos preferidos da ferramenta? Exemplos  \\\n",
       "0                                                NaN                \n",
       "1                                           Exemplos                \n",
       "2                                                NaN                \n",
       "\n",
       "  Quais são os seus 3 aspectos preferidos da ferramenta? Vídeos  \\\n",
       "0                                             Vídeos              \n",
       "1                                                NaN              \n",
       "2                                                NaN              \n",
       "\n",
       "  Quais são os seus 3 aspectos preferidos da ferramenta? Modelo de negócios  \\\n",
       "0                                 Modelo de negócios                          \n",
       "1                                 Modelo de negócios                          \n",
       "2                                 Modelo de negócios                          \n",
       "\n",
       "  Quais são os seus 3 aspectos preferidos da ferramenta? Indicações de interface  \\\n",
       "0                                                NaN                               \n",
       "1                                                NaN                               \n",
       "2                                                NaN                               \n",
       "\n",
       "  Quais são os seus 3 aspectos preferidos da ferramenta? Mural de equipa  \\\n",
       "0                                                NaN                       \n",
       "1                                                NaN                       \n",
       "2                                                NaN                       \n",
       "\n",
       "  Quais são os seus 3 aspectos preferidos da ferramenta? Gestão de equipa  \\\n",
       "0                                                NaN                        \n",
       "1                                                NaN                        \n",
       "2                                                NaN                        \n",
       "\n",
       "   ...  E quais são os 3 aspectos que menos gosta? Exemplos  \\\n",
       "0  ...                                           Exemplos     \n",
       "1  ...                                                NaN     \n",
       "2  ...                                                NaN     \n",
       "\n",
       "  E quais são os 3 aspectos que menos gosta? Vídeos  \\\n",
       "0                                               NaN   \n",
       "1                                               NaN   \n",
       "2                                            Vídeos   \n",
       "\n",
       "  E quais são os 3 aspectos que menos gosta? Modelo de negócios  \\\n",
       "0                                                NaN              \n",
       "1                                                NaN              \n",
       "2                                                NaN              \n",
       "\n",
       "  E quais são os 3 aspectos que menos gosta? Indicações de interface  \\\n",
       "0                                                NaN                   \n",
       "1                                                NaN                   \n",
       "2                                                NaN                   \n",
       "\n",
       "  E quais são os 3 aspectos que menos gosta? Mural de equipa  \\\n",
       "0                                                NaN           \n",
       "1                                    Mural de equipa           \n",
       "2                                                NaN           \n",
       "\n",
       "  E quais são os 3 aspectos que menos gosta? Gestão de equipa  \\\n",
       "0                                                NaN            \n",
       "1                                                NaN            \n",
       "2                                                NaN            \n",
       "\n",
       "  E quais são os 3 aspectos que menos gosta? Gestão de projectos  \\\n",
       "0                                                NaN               \n",
       "1                                                NaN               \n",
       "2                                                NaN               \n",
       "\n",
       "  E quais são os 3 aspectos que menos gosta? Acesso a recursos externos  \\\n",
       "0                                                NaN                      \n",
       "1                         Acesso a recursos externos                      \n",
       "2                         Acesso a recursos externos                      \n",
       "\n",
       "  E quais são os 3 aspectos que menos gosta? Outro (especifique)  \\\n",
       "0                                                NaN               \n",
       "1                                                NaN               \n",
       "2                                                NaN               \n",
       "\n",
       "  Quanto aprendeu com a DreamShaper?  \n",
       "0               Aprendi alguma coisa  \n",
       "1                   Aprendi bastante  \n",
       "2                   Aprendi bastante  \n",
       "\n",
       "[3 rows x 26 columns]"
      ]
     },
     "execution_count": 5,
     "metadata": {},
     "output_type": "execute_result"
    }
   ],
   "source": [
    "Ano20142015 = pd.read_csv('Data/Ano20142015.csv', encoding=\"ANSI\", sep=';')\n",
    "Ano20142015.head(3)"
   ]
  },
  {
   "cell_type": "code",
   "execution_count": 6,
   "metadata": {},
   "outputs": [
    {
     "data": {
      "text/html": [
       "<div>\n",
       "<style scoped>\n",
       "    .dataframe tbody tr th:only-of-type {\n",
       "        vertical-align: middle;\n",
       "    }\n",
       "\n",
       "    .dataframe tbody tr th {\n",
       "        vertical-align: top;\n",
       "    }\n",
       "\n",
       "    .dataframe thead th {\n",
       "        text-align: right;\n",
       "    }\n",
       "</style>\n",
       "<table border=\"1\" class=\"dataframe\">\n",
       "  <thead>\n",
       "    <tr style=\"text-align: right;\">\n",
       "      <th></th>\n",
       "      <th>Está satisfeito com a ferramenta DreamShaper?(Classifique de 1 a 4, sendo 1: Nada satisfeito e 4: Muito Satisfeito)</th>\n",
       "      <th>Quais são os aspectos preferidos da ferramenta? Aspecto Visual</th>\n",
       "      <th>Quais são os aspectos preferidos da ferramenta? Navegação na ferramenta</th>\n",
       "      <th>Quais são os aspectos preferidos da ferramenta? Perguntas</th>\n",
       "      <th>Quais são os aspectos preferidos da ferramenta? Exemplos</th>\n",
       "      <th>Quais são os aspectos preferidos da ferramenta? Videos</th>\n",
       "      <th>Quais são os aspectos preferidos da ferramenta? Modelo de Negócio</th>\n",
       "      <th>Quais são os aspectos preferidos da ferramenta? Indicações de Interface</th>\n",
       "      <th>Quais são os aspectos preferidos da ferramenta? Mural da equipa</th>\n",
       "      <th>Quais são os aspectos preferidos da ferramenta? Gestão da Equipa</th>\n",
       "      <th>...</th>\n",
       "      <th>E quais são os 3 aspectos que menos gosta? Modelo de Negócio</th>\n",
       "      <th>E quais são os 3 aspectos que menos gosta? Indicações de Interface</th>\n",
       "      <th>E quais são os 3 aspectos que menos gosta? Mural da equipa</th>\n",
       "      <th>E quais são os 3 aspectos que menos gosta? Gestão da Equipa</th>\n",
       "      <th>E quais são os 3 aspectos que menos gosta? Gestão de Projectos</th>\n",
       "      <th>E quais são os 3 aspectos que menos gosta? Outro (especifique)</th>\n",
       "      <th>Unnamed: 24</th>\n",
       "      <th>Quanto aprendeu com a DreamShaper?</th>\n",
       "      <th>Unnamed: 26</th>\n",
       "      <th>Em que etapa do concurso sentiu mais dificuldade?</th>\n",
       "    </tr>\n",
       "  </thead>\n",
       "  <tbody>\n",
       "    <tr>\n",
       "      <th>0</th>\n",
       "      <td>3.0</td>\n",
       "      <td>Aspecto Visual</td>\n",
       "      <td>NaN</td>\n",
       "      <td>NaN</td>\n",
       "      <td>NaN</td>\n",
       "      <td>NaN</td>\n",
       "      <td>Modelo de Negócio</td>\n",
       "      <td>NaN</td>\n",
       "      <td>NaN</td>\n",
       "      <td>NaN</td>\n",
       "      <td>...</td>\n",
       "      <td>NaN</td>\n",
       "      <td>NaN</td>\n",
       "      <td>NaN</td>\n",
       "      <td>Gestão da Equipa</td>\n",
       "      <td>NaN</td>\n",
       "      <td>NaN</td>\n",
       "      <td>NaN</td>\n",
       "      <td>Bastante</td>\n",
       "      <td>NaN</td>\n",
       "      <td>Etapa 3</td>\n",
       "    </tr>\n",
       "    <tr>\n",
       "      <th>1</th>\n",
       "      <td>4.0</td>\n",
       "      <td>Aspecto Visual</td>\n",
       "      <td>Navegação na ferramenta</td>\n",
       "      <td>NaN</td>\n",
       "      <td>NaN</td>\n",
       "      <td>Videos</td>\n",
       "      <td>Modelo de Negócio</td>\n",
       "      <td>NaN</td>\n",
       "      <td>NaN</td>\n",
       "      <td>NaN</td>\n",
       "      <td>...</td>\n",
       "      <td>NaN</td>\n",
       "      <td>Indicações de Interface</td>\n",
       "      <td>Mural da equipa</td>\n",
       "      <td>NaN</td>\n",
       "      <td>NaN</td>\n",
       "      <td>NaN</td>\n",
       "      <td>NaN</td>\n",
       "      <td>Alguma coisa</td>\n",
       "      <td>NaN</td>\n",
       "      <td>Caso não se lembre do número exacto da etapa i...</td>\n",
       "    </tr>\n",
       "    <tr>\n",
       "      <th>2</th>\n",
       "      <td>4.0</td>\n",
       "      <td>NaN</td>\n",
       "      <td>NaN</td>\n",
       "      <td>NaN</td>\n",
       "      <td>Exemplos</td>\n",
       "      <td>Videos</td>\n",
       "      <td>NaN</td>\n",
       "      <td>NaN</td>\n",
       "      <td>NaN</td>\n",
       "      <td>NaN</td>\n",
       "      <td>...</td>\n",
       "      <td>NaN</td>\n",
       "      <td>NaN</td>\n",
       "      <td>NaN</td>\n",
       "      <td>NaN</td>\n",
       "      <td>NaN</td>\n",
       "      <td>NaN</td>\n",
       "      <td>NaN</td>\n",
       "      <td>Imenso</td>\n",
       "      <td>NaN</td>\n",
       "      <td>Etapa 3</td>\n",
       "    </tr>\n",
       "  </tbody>\n",
       "</table>\n",
       "<p>3 rows × 28 columns</p>\n",
       "</div>"
      ],
      "text/plain": [
       "   Está satisfeito com a ferramenta DreamShaper?(Classifique de 1 a 4, sendo 1: Nada satisfeito e 4: Muito Satisfeito)  \\\n",
       "0                                                3.0                                                                     \n",
       "1                                                4.0                                                                     \n",
       "2                                                4.0                                                                     \n",
       "\n",
       "  Quais são os aspectos preferidos da ferramenta? Aspecto Visual  \\\n",
       "0                                     Aspecto Visual               \n",
       "1                                     Aspecto Visual               \n",
       "2                                                NaN               \n",
       "\n",
       "  Quais são os aspectos preferidos da ferramenta? Navegação na ferramenta  \\\n",
       "0                                                NaN                        \n",
       "1                            Navegação na ferramenta                        \n",
       "2                                                NaN                        \n",
       "\n",
       "  Quais são os aspectos preferidos da ferramenta? Perguntas  \\\n",
       "0                                                NaN          \n",
       "1                                                NaN          \n",
       "2                                                NaN          \n",
       "\n",
       "  Quais são os aspectos preferidos da ferramenta? Exemplos  \\\n",
       "0                                                NaN         \n",
       "1                                                NaN         \n",
       "2                                           Exemplos         \n",
       "\n",
       "  Quais são os aspectos preferidos da ferramenta? Videos  \\\n",
       "0                                                NaN       \n",
       "1                                             Videos       \n",
       "2                                             Videos       \n",
       "\n",
       "  Quais são os aspectos preferidos da ferramenta? Modelo de Negócio  \\\n",
       "0                                  Modelo de Negócio                  \n",
       "1                                  Modelo de Negócio                  \n",
       "2                                                NaN                  \n",
       "\n",
       "  Quais são os aspectos preferidos da ferramenta? Indicações de Interface  \\\n",
       "0                                                NaN                        \n",
       "1                                                NaN                        \n",
       "2                                                NaN                        \n",
       "\n",
       "  Quais são os aspectos preferidos da ferramenta? Mural da equipa  \\\n",
       "0                                                NaN                \n",
       "1                                                NaN                \n",
       "2                                                NaN                \n",
       "\n",
       "  Quais são os aspectos preferidos da ferramenta? Gestão da Equipa  ...  \\\n",
       "0                                                NaN                ...   \n",
       "1                                                NaN                ...   \n",
       "2                                                NaN                ...   \n",
       "\n",
       "  E quais são os 3 aspectos que menos gosta? Modelo de Negócio  \\\n",
       "0                                                NaN             \n",
       "1                                                NaN             \n",
       "2                                                NaN             \n",
       "\n",
       "  E quais são os 3 aspectos que menos gosta? Indicações de Interface  \\\n",
       "0                                                NaN                   \n",
       "1                            Indicações de Interface                   \n",
       "2                                                NaN                   \n",
       "\n",
       "   E quais são os 3 aspectos que menos gosta? Mural da equipa  \\\n",
       "0                                                NaN            \n",
       "1                                    Mural da equipa            \n",
       "2                                                NaN            \n",
       "\n",
       "  E quais são os 3 aspectos que menos gosta? Gestão da Equipa  \\\n",
       "0                                   Gestão da Equipa            \n",
       "1                                                NaN            \n",
       "2                                                NaN            \n",
       "\n",
       "  E quais são os 3 aspectos que menos gosta? Gestão de Projectos  \\\n",
       "0                                                NaN               \n",
       "1                                                NaN               \n",
       "2                                                NaN               \n",
       "\n",
       "  E quais são os 3 aspectos que menos gosta? Outro (especifique) Unnamed: 24  \\\n",
       "0                                                NaN                     NaN   \n",
       "1                                                NaN                     NaN   \n",
       "2                                                NaN                     NaN   \n",
       "\n",
       "  Quanto aprendeu com a DreamShaper? Unnamed: 26  \\\n",
       "0                           Bastante         NaN   \n",
       "1                       Alguma coisa         NaN   \n",
       "2                             Imenso         NaN   \n",
       "\n",
       "   Em que etapa do concurso sentiu mais dificuldade?  \n",
       "0                                            Etapa 3  \n",
       "1  Caso não se lembre do número exacto da etapa i...  \n",
       "2                                            Etapa 3  \n",
       "\n",
       "[3 rows x 28 columns]"
      ]
     },
     "execution_count": 6,
     "metadata": {},
     "output_type": "execute_result"
    }
   ],
   "source": [
    "Ano20152016 = pd.read_csv('Data/Ano20152016.csv', encoding=\"ANSI\", sep=';')\n",
    "Ano20152016.head(3)"
   ]
  },
  {
   "cell_type": "code",
   "execution_count": 7,
   "metadata": {},
   "outputs": [
    {
     "data": {
      "text/html": [
       "<div>\n",
       "<style scoped>\n",
       "    .dataframe tbody tr th:only-of-type {\n",
       "        vertical-align: middle;\n",
       "    }\n",
       "\n",
       "    .dataframe tbody tr th {\n",
       "        vertical-align: top;\n",
       "    }\n",
       "\n",
       "    .dataframe thead th {\n",
       "        text-align: right;\n",
       "    }\n",
       "</style>\n",
       "<table border=\"1\" class=\"dataframe\">\n",
       "  <thead>\n",
       "    <tr style=\"text-align: right;\">\n",
       "      <th></th>\n",
       "      <th>Está satisfeito com a ferramenta DreamShaper?(Classifique de 1 a 4, sendo 1: Nada satisfeito e 4: Muito Satisfeito)</th>\n",
       "      <th>Quais são os aspectos preferidos da ferramenta? Aspecto Visual</th>\n",
       "      <th>Quais são os aspectos preferidos da ferramenta? Navegação na ferramenta</th>\n",
       "      <th>Quais são os aspectos preferidos da ferramenta?Perguntas</th>\n",
       "      <th>Quais são os aspectos preferidos da ferramenta? Exemplos</th>\n",
       "      <th>Quais são os aspectos preferidos da ferramenta? Videos</th>\n",
       "      <th>Quais são os aspectos preferidos da ferramenta? Modelo de Negócio</th>\n",
       "      <th>Quais são os aspectos preferidos da ferramenta? Indicações de Interface</th>\n",
       "      <th>Quais são os aspectos preferidos da ferramenta? Mural da equipa</th>\n",
       "      <th>Quais são os aspectos preferidos da ferramenta? Gestão da Equipa</th>\n",
       "      <th>...</th>\n",
       "      <th>E quais são os 3 aspectos que menos gosta? Perguntas</th>\n",
       "      <th>E quais são os 3 aspectos que menos gosta? Exemplos</th>\n",
       "      <th>E quais são os 3 aspectos que menos gosta? Videos</th>\n",
       "      <th>E quais são os 3 aspectos que menos gosta? Modelo de Negócio</th>\n",
       "      <th>E quais são os 3 aspectos que menos gosta? Indicações de Interface</th>\n",
       "      <th>E quais são os 3 aspectos que menos gosta? Mural da equipa</th>\n",
       "      <th>E quais são os 3 aspectos que menos gosta? Gestão da Equipa</th>\n",
       "      <th>E quais são os 3 aspectos que menos gosta? Gestão de Projectos</th>\n",
       "      <th>E quais são os 3 aspectos que menos gosta? Outro (especifique)</th>\n",
       "      <th>Quanto aprendeu com a DreamShaper?</th>\n",
       "    </tr>\n",
       "  </thead>\n",
       "  <tbody>\n",
       "    <tr>\n",
       "      <th>0</th>\n",
       "      <td>4</td>\n",
       "      <td>Aspecto Visual</td>\n",
       "      <td>Navegação na ferramenta</td>\n",
       "      <td>NaN</td>\n",
       "      <td>NaN</td>\n",
       "      <td>Videos</td>\n",
       "      <td>NaN</td>\n",
       "      <td>NaN</td>\n",
       "      <td>NaN</td>\n",
       "      <td>NaN</td>\n",
       "      <td>...</td>\n",
       "      <td>Perguntas</td>\n",
       "      <td>NaN</td>\n",
       "      <td>NaN</td>\n",
       "      <td>NaN</td>\n",
       "      <td>NaN</td>\n",
       "      <td>NaN</td>\n",
       "      <td>NaN</td>\n",
       "      <td>NaN</td>\n",
       "      <td>NaN</td>\n",
       "      <td>Imenso</td>\n",
       "    </tr>\n",
       "    <tr>\n",
       "      <th>1</th>\n",
       "      <td>3</td>\n",
       "      <td>Aspecto Visual</td>\n",
       "      <td>Navegação na ferramenta</td>\n",
       "      <td>NaN</td>\n",
       "      <td>Exemplos</td>\n",
       "      <td>Videos</td>\n",
       "      <td>NaN</td>\n",
       "      <td>NaN</td>\n",
       "      <td>NaN</td>\n",
       "      <td>NaN</td>\n",
       "      <td>...</td>\n",
       "      <td>NaN</td>\n",
       "      <td>NaN</td>\n",
       "      <td>NaN</td>\n",
       "      <td>Modelo de Negócio</td>\n",
       "      <td>NaN</td>\n",
       "      <td>NaN</td>\n",
       "      <td>NaN</td>\n",
       "      <td>Gestão de Projectos</td>\n",
       "      <td>Falta de apoio de um gestor.</td>\n",
       "      <td>Alguma coisa</td>\n",
       "    </tr>\n",
       "    <tr>\n",
       "      <th>2</th>\n",
       "      <td>3</td>\n",
       "      <td>NaN</td>\n",
       "      <td>NaN</td>\n",
       "      <td>NaN</td>\n",
       "      <td>NaN</td>\n",
       "      <td>NaN</td>\n",
       "      <td>Modelo de Negócio</td>\n",
       "      <td>NaN</td>\n",
       "      <td>NaN</td>\n",
       "      <td>NaN</td>\n",
       "      <td>...</td>\n",
       "      <td>NaN</td>\n",
       "      <td>NaN</td>\n",
       "      <td>NaN</td>\n",
       "      <td>Modelo de Negócio</td>\n",
       "      <td>NaN</td>\n",
       "      <td>NaN</td>\n",
       "      <td>NaN</td>\n",
       "      <td>Gestão de Projectos</td>\n",
       "      <td>Os detalhes associados ao investimento, relati...</td>\n",
       "      <td>Imenso</td>\n",
       "    </tr>\n",
       "  </tbody>\n",
       "</table>\n",
       "<p>3 rows × 24 columns</p>\n",
       "</div>"
      ],
      "text/plain": [
       "   Está satisfeito com a ferramenta DreamShaper?(Classifique de 1 a 4, sendo 1: Nada satisfeito e 4: Muito Satisfeito)  \\\n",
       "0                                                  4                                                                     \n",
       "1                                                  3                                                                     \n",
       "2                                                  3                                                                     \n",
       "\n",
       "  Quais são os aspectos preferidos da ferramenta? Aspecto Visual  \\\n",
       "0                                     Aspecto Visual               \n",
       "1                                     Aspecto Visual               \n",
       "2                                                NaN               \n",
       "\n",
       "  Quais são os aspectos preferidos da ferramenta? Navegação na ferramenta  \\\n",
       "0                            Navegação na ferramenta                        \n",
       "1                            Navegação na ferramenta                        \n",
       "2                                                NaN                        \n",
       "\n",
       "  Quais são os aspectos preferidos da ferramenta?Perguntas  \\\n",
       "0                                                NaN         \n",
       "1                                                NaN         \n",
       "2                                                NaN         \n",
       "\n",
       "  Quais são os aspectos preferidos da ferramenta? Exemplos  \\\n",
       "0                                                NaN         \n",
       "1                                           Exemplos         \n",
       "2                                                NaN         \n",
       "\n",
       "  Quais são os aspectos preferidos da ferramenta? Videos  \\\n",
       "0                                             Videos       \n",
       "1                                             Videos       \n",
       "2                                                NaN       \n",
       "\n",
       "  Quais são os aspectos preferidos da ferramenta? Modelo de Negócio  \\\n",
       "0                                                NaN                  \n",
       "1                                                NaN                  \n",
       "2                                  Modelo de Negócio                  \n",
       "\n",
       "  Quais são os aspectos preferidos da ferramenta? Indicações de Interface  \\\n",
       "0                                                NaN                        \n",
       "1                                                NaN                        \n",
       "2                                                NaN                        \n",
       "\n",
       "  Quais são os aspectos preferidos da ferramenta? Mural da equipa  \\\n",
       "0                                                NaN                \n",
       "1                                                NaN                \n",
       "2                                                NaN                \n",
       "\n",
       "  Quais são os aspectos preferidos da ferramenta? Gestão da Equipa  ...  \\\n",
       "0                                                NaN                ...   \n",
       "1                                                NaN                ...   \n",
       "2                                                NaN                ...   \n",
       "\n",
       "  E quais são os 3 aspectos que menos gosta? Perguntas  \\\n",
       "0                                          Perguntas     \n",
       "1                                                NaN     \n",
       "2                                                NaN     \n",
       "\n",
       "  E quais são os 3 aspectos que menos gosta? Exemplos  \\\n",
       "0                                                NaN    \n",
       "1                                                NaN    \n",
       "2                                                NaN    \n",
       "\n",
       "  E quais são os 3 aspectos que menos gosta? Videos  \\\n",
       "0                                               NaN   \n",
       "1                                               NaN   \n",
       "2                                               NaN   \n",
       "\n",
       "  E quais são os 3 aspectos que menos gosta? Modelo de Negócio  \\\n",
       "0                                                NaN             \n",
       "1                                  Modelo de Negócio             \n",
       "2                                  Modelo de Negócio             \n",
       "\n",
       "  E quais são os 3 aspectos que menos gosta? Indicações de Interface  \\\n",
       "0                                                NaN                   \n",
       "1                                                NaN                   \n",
       "2                                                NaN                   \n",
       "\n",
       "  E quais são os 3 aspectos que menos gosta? Mural da equipa  \\\n",
       "0                                                NaN           \n",
       "1                                                NaN           \n",
       "2                                                NaN           \n",
       "\n",
       "  E quais são os 3 aspectos que menos gosta? Gestão da Equipa  \\\n",
       "0                                                NaN            \n",
       "1                                                NaN            \n",
       "2                                                NaN            \n",
       "\n",
       "  E quais são os 3 aspectos que menos gosta? Gestão de Projectos  \\\n",
       "0                                                NaN               \n",
       "1                                Gestão de Projectos               \n",
       "2                                Gestão de Projectos               \n",
       "\n",
       "  E quais são os 3 aspectos que menos gosta? Outro (especifique)  \\\n",
       "0                                                NaN               \n",
       "1                       Falta de apoio de um gestor.               \n",
       "2  Os detalhes associados ao investimento, relati...               \n",
       "\n",
       "  Quanto aprendeu com a DreamShaper?  \n",
       "0                             Imenso  \n",
       "1                       Alguma coisa  \n",
       "2                             Imenso  \n",
       "\n",
       "[3 rows x 24 columns]"
      ]
     },
     "execution_count": 7,
     "metadata": {},
     "output_type": "execute_result"
    }
   ],
   "source": [
    "Ano20162017 = pd.read_csv('Data/Ano20162017.csv', encoding=\"ANSI\", sep=';')\n",
    "Ano20162017.head(3)"
   ]
  },
  {
   "cell_type": "code",
   "execution_count": 8,
   "metadata": {},
   "outputs": [
    {
     "data": {
      "text/html": [
       "<div>\n",
       "<style scoped>\n",
       "    .dataframe tbody tr th:only-of-type {\n",
       "        vertical-align: middle;\n",
       "    }\n",
       "\n",
       "    .dataframe tbody tr th {\n",
       "        vertical-align: top;\n",
       "    }\n",
       "\n",
       "    .dataframe thead th {\n",
       "        text-align: right;\n",
       "    }\n",
       "</style>\n",
       "<table border=\"1\" class=\"dataframe\">\n",
       "  <thead>\n",
       "    <tr style=\"text-align: right;\">\n",
       "      <th></th>\n",
       "      <th>Está satisfeito com a ferramenta DreamShaper?(Classifique de 1 a 4, sendo 1: Nada satisfeito e 4: Muito Satisfeito)</th>\n",
       "      <th>Quais são os aspetos preferidos da ferramenta? Aspecto Visual</th>\n",
       "      <th>Quais são os aspetos preferidos da ferramenta? Navegação na ferramenta</th>\n",
       "      <th>Quais são os aspetos preferidos da ferramenta? Perguntas</th>\n",
       "      <th>Quais são os aspetos preferidos da ferramenta? Exemplos</th>\n",
       "      <th>Quais são os aspetos preferidos da ferramenta? Vídeos</th>\n",
       "      <th>Quais são os aspetos preferidos da ferramenta? Modelo de Negócio</th>\n",
       "      <th>Quais são os aspetos preferidos da ferramenta? Indicações de Interface</th>\n",
       "      <th>Quais são os aspetos preferidos da ferramenta? Mural da equipa</th>\n",
       "      <th>Quais são os aspetos preferidos da ferramenta? Gestão da Equipa</th>\n",
       "      <th>...</th>\n",
       "      <th>E quais são os 3 aspetos que menos gosta? Perguntas</th>\n",
       "      <th>E quais são os 3 aspetos que menos gosta? Exemplos</th>\n",
       "      <th>E quais são os 3 aspetos que menos gosta? Vídeos</th>\n",
       "      <th>E quais são os 3 aspetos que menos gosta? Modelo de Negócio</th>\n",
       "      <th>E quais são os 3 aspetos que menos gosta? Indicações de Interface</th>\n",
       "      <th>E quais são os 3 aspetos que menos gosta? Mural da equipa</th>\n",
       "      <th>E quais são os 3 aspetos que menos gosta? Gestão da Equipa</th>\n",
       "      <th>E quais são os 3 aspetos que menos gosta? Gestão de Projectos</th>\n",
       "      <th>E quais são os 3 aspetos que menos gosta? Outro (especifique)</th>\n",
       "      <th>Quanto aprendeu com a DreamShaper?</th>\n",
       "    </tr>\n",
       "  </thead>\n",
       "  <tbody>\n",
       "    <tr>\n",
       "      <th>0</th>\n",
       "      <td>4.0</td>\n",
       "      <td>NaN</td>\n",
       "      <td>NaN</td>\n",
       "      <td>Perguntas</td>\n",
       "      <td>Exemplos</td>\n",
       "      <td>NaN</td>\n",
       "      <td>NaN</td>\n",
       "      <td>Indicações de Interface</td>\n",
       "      <td>NaN</td>\n",
       "      <td>NaN</td>\n",
       "      <td>...</td>\n",
       "      <td>NaN</td>\n",
       "      <td>NaN</td>\n",
       "      <td>NaN</td>\n",
       "      <td>NaN</td>\n",
       "      <td>NaN</td>\n",
       "      <td>NaN</td>\n",
       "      <td>NaN</td>\n",
       "      <td>Gestão de Projectos</td>\n",
       "      <td>O local onde mostra o progresso do projeto não...</td>\n",
       "      <td>Alguma coisa</td>\n",
       "    </tr>\n",
       "    <tr>\n",
       "      <th>1</th>\n",
       "      <td>4.0</td>\n",
       "      <td>NaN</td>\n",
       "      <td>Navegação na ferramenta</td>\n",
       "      <td>NaN</td>\n",
       "      <td>Exemplos</td>\n",
       "      <td>NaN</td>\n",
       "      <td>Modelo de Negócio</td>\n",
       "      <td>NaN</td>\n",
       "      <td>NaN</td>\n",
       "      <td>NaN</td>\n",
       "      <td>...</td>\n",
       "      <td>NaN</td>\n",
       "      <td>NaN</td>\n",
       "      <td>NaN</td>\n",
       "      <td>NaN</td>\n",
       "      <td>NaN</td>\n",
       "      <td>Mural da equipa</td>\n",
       "      <td>Gestão da Equipa</td>\n",
       "      <td>Gestão de Projectos</td>\n",
       "      <td>NaN</td>\n",
       "      <td>Bastante</td>\n",
       "    </tr>\n",
       "    <tr>\n",
       "      <th>2</th>\n",
       "      <td>4.0</td>\n",
       "      <td>NaN</td>\n",
       "      <td>Navegação na ferramenta</td>\n",
       "      <td>Perguntas</td>\n",
       "      <td>NaN</td>\n",
       "      <td>NaN</td>\n",
       "      <td>NaN</td>\n",
       "      <td>NaN</td>\n",
       "      <td>NaN</td>\n",
       "      <td>NaN</td>\n",
       "      <td>...</td>\n",
       "      <td>NaN</td>\n",
       "      <td>Exemplos</td>\n",
       "      <td>NaN</td>\n",
       "      <td>NaN</td>\n",
       "      <td>NaN</td>\n",
       "      <td>NaN</td>\n",
       "      <td>NaN</td>\n",
       "      <td>NaN</td>\n",
       "      <td>NaN</td>\n",
       "      <td>Alguma coisa</td>\n",
       "    </tr>\n",
       "  </tbody>\n",
       "</table>\n",
       "<p>3 rows × 24 columns</p>\n",
       "</div>"
      ],
      "text/plain": [
       "   Está satisfeito com a ferramenta DreamShaper?(Classifique de 1 a 4, sendo 1: Nada satisfeito e 4: Muito Satisfeito)  \\\n",
       "0                                                4.0                                                                     \n",
       "1                                                4.0                                                                     \n",
       "2                                                4.0                                                                     \n",
       "\n",
       "  Quais são os aspetos preferidos da ferramenta? Aspecto Visual  \\\n",
       "0                                                NaN              \n",
       "1                                                NaN              \n",
       "2                                                NaN              \n",
       "\n",
       "  Quais são os aspetos preferidos da ferramenta? Navegação na ferramenta  \\\n",
       "0                                                NaN                       \n",
       "1                            Navegação na ferramenta                       \n",
       "2                            Navegação na ferramenta                       \n",
       "\n",
       "  Quais são os aspetos preferidos da ferramenta? Perguntas  \\\n",
       "0                                          Perguntas         \n",
       "1                                                NaN         \n",
       "2                                          Perguntas         \n",
       "\n",
       "  Quais são os aspetos preferidos da ferramenta? Exemplos  \\\n",
       "0                                           Exemplos        \n",
       "1                                           Exemplos        \n",
       "2                                                NaN        \n",
       "\n",
       "  Quais são os aspetos preferidos da ferramenta? Vídeos  \\\n",
       "0                                                NaN      \n",
       "1                                                NaN      \n",
       "2                                                NaN      \n",
       "\n",
       "  Quais são os aspetos preferidos da ferramenta? Modelo de Negócio  \\\n",
       "0                                                NaN                 \n",
       "1                                  Modelo de Negócio                 \n",
       "2                                                NaN                 \n",
       "\n",
       "  Quais são os aspetos preferidos da ferramenta? Indicações de Interface  \\\n",
       "0                            Indicações de Interface                       \n",
       "1                                                NaN                       \n",
       "2                                                NaN                       \n",
       "\n",
       "  Quais são os aspetos preferidos da ferramenta? Mural da equipa  \\\n",
       "0                                                NaN               \n",
       "1                                                NaN               \n",
       "2                                                NaN               \n",
       "\n",
       "  Quais são os aspetos preferidos da ferramenta? Gestão da Equipa  ...  \\\n",
       "0                                                NaN               ...   \n",
       "1                                                NaN               ...   \n",
       "2                                                NaN               ...   \n",
       "\n",
       "  E quais são os 3 aspetos que menos gosta? Perguntas  \\\n",
       "0                                                NaN    \n",
       "1                                                NaN    \n",
       "2                                                NaN    \n",
       "\n",
       "  E quais são os 3 aspetos que menos gosta? Exemplos  \\\n",
       "0                                                NaN   \n",
       "1                                                NaN   \n",
       "2                                           Exemplos   \n",
       "\n",
       "  E quais são os 3 aspetos que menos gosta? Vídeos  \\\n",
       "0                                              NaN   \n",
       "1                                              NaN   \n",
       "2                                              NaN   \n",
       "\n",
       "  E quais são os 3 aspetos que menos gosta? Modelo de Negócio  \\\n",
       "0                                                NaN            \n",
       "1                                                NaN            \n",
       "2                                                NaN            \n",
       "\n",
       "  E quais são os 3 aspetos que menos gosta? Indicações de Interface  \\\n",
       "0                                                NaN                  \n",
       "1                                                NaN                  \n",
       "2                                                NaN                  \n",
       "\n",
       "  E quais são os 3 aspetos que menos gosta? Mural da equipa  \\\n",
       "0                                                NaN          \n",
       "1                                    Mural da equipa          \n",
       "2                                                NaN          \n",
       "\n",
       "  E quais são os 3 aspetos que menos gosta? Gestão da Equipa  \\\n",
       "0                                                NaN           \n",
       "1                                   Gestão da Equipa           \n",
       "2                                                NaN           \n",
       "\n",
       "  E quais são os 3 aspetos que menos gosta? Gestão de Projectos  \\\n",
       "0                                Gestão de Projectos              \n",
       "1                                Gestão de Projectos              \n",
       "2                                                NaN              \n",
       "\n",
       "  E quais são os 3 aspetos que menos gosta? Outro (especifique)  \\\n",
       "0  O local onde mostra o progresso do projeto não...              \n",
       "1                                                NaN              \n",
       "2                                                NaN              \n",
       "\n",
       "  Quanto aprendeu com a DreamShaper?  \n",
       "0                       Alguma coisa  \n",
       "1                           Bastante  \n",
       "2                       Alguma coisa  \n",
       "\n",
       "[3 rows x 24 columns]"
      ]
     },
     "execution_count": 8,
     "metadata": {},
     "output_type": "execute_result"
    }
   ],
   "source": [
    "Ano20172018 = pd.read_csv('Data/Ano20172018.csv', encoding=\"ANSI\", sep=';')\n",
    "Ano20172018.head(3)"
   ]
  },
  {
   "cell_type": "code",
   "execution_count": null,
   "metadata": {},
   "outputs": [],
   "source": []
  },
  {
   "cell_type": "markdown",
   "metadata": {},
   "source": [
    "## Data Prepation "
   ]
  },
  {
   "cell_type": "code",
   "execution_count": 9,
   "metadata": {},
   "outputs": [],
   "source": [
    "#add num answers per year\n",
    "PopPorAno['Respostas'] = np.nan\n",
    "\n",
    "PopPorAno.at[0, 'Respostas'] = Year1.shape[0] #year 1\n",
    "PopPorAno.at[1, 'Respostas'] = Ano20132014.shape[0]\n",
    "PopPorAno.at[2, 'Respostas'] = Ano20142015.shape[0]\n",
    "PopPorAno.at[3, 'Respostas'] = Ano20152016.shape[0]\n",
    "PopPorAno.at[4, 'Respostas'] = Ano20162017.shape[0]\n",
    "PopPorAno.at[5, 'Respostas'] = Ano20172018.shape[0]\n",
    "\n",
    "PopPorAno = PopPorAno.drop(6)"
   ]
  },
  {
   "cell_type": "code",
   "execution_count": 10,
   "metadata": {},
   "outputs": [],
   "source": [
    "PopPorAno ['%Respostas'] = (PopPorAno['Respostas']/PopPorAno['Tamanho População'])*100"
   ]
  },
  {
   "cell_type": "code",
   "execution_count": 11,
   "metadata": {},
   "outputs": [
    {
     "data": {
      "text/html": [
       "<div>\n",
       "<style scoped>\n",
       "    .dataframe tbody tr th:only-of-type {\n",
       "        vertical-align: middle;\n",
       "    }\n",
       "\n",
       "    .dataframe tbody tr th {\n",
       "        vertical-align: top;\n",
       "    }\n",
       "\n",
       "    .dataframe thead th {\n",
       "        text-align: right;\n",
       "    }\n",
       "</style>\n",
       "<table border=\"1\" class=\"dataframe\">\n",
       "  <thead>\n",
       "    <tr style=\"text-align: right;\">\n",
       "      <th></th>\n",
       "      <th>Edição</th>\n",
       "      <th>Tamanho População</th>\n",
       "      <th>Respostas</th>\n",
       "      <th>%Respostas</th>\n",
       "    </tr>\n",
       "  </thead>\n",
       "  <tbody>\n",
       "    <tr>\n",
       "      <th>0</th>\n",
       "      <td>-1</td>\n",
       "      <td>2965</td>\n",
       "      <td>91.0</td>\n",
       "      <td>3.069140</td>\n",
       "    </tr>\n",
       "    <tr>\n",
       "      <th>1</th>\n",
       "      <td>13-14</td>\n",
       "      <td>14238</td>\n",
       "      <td>1550.0</td>\n",
       "      <td>10.886360</td>\n",
       "    </tr>\n",
       "    <tr>\n",
       "      <th>2</th>\n",
       "      <td>14-15</td>\n",
       "      <td>18702</td>\n",
       "      <td>100.0</td>\n",
       "      <td>0.534702</td>\n",
       "    </tr>\n",
       "    <tr>\n",
       "      <th>3</th>\n",
       "      <td>15-16</td>\n",
       "      <td>13093</td>\n",
       "      <td>280.0</td>\n",
       "      <td>2.138547</td>\n",
       "    </tr>\n",
       "    <tr>\n",
       "      <th>4</th>\n",
       "      <td>16-17</td>\n",
       "      <td>12986</td>\n",
       "      <td>442.0</td>\n",
       "      <td>3.403665</td>\n",
       "    </tr>\n",
       "    <tr>\n",
       "      <th>5</th>\n",
       "      <td>17-18</td>\n",
       "      <td>11477</td>\n",
       "      <td>887.0</td>\n",
       "      <td>7.728500</td>\n",
       "    </tr>\n",
       "  </tbody>\n",
       "</table>\n",
       "</div>"
      ],
      "text/plain": [
       "  Edição  Tamanho População  Respostas  %Respostas\n",
       "0     -1               2965       91.0    3.069140\n",
       "1  13-14              14238     1550.0   10.886360\n",
       "2  14-15              18702      100.0    0.534702\n",
       "3  15-16              13093      280.0    2.138547\n",
       "4  16-17              12986      442.0    3.403665\n",
       "5  17-18              11477      887.0    7.728500"
      ]
     },
     "execution_count": 11,
     "metadata": {},
     "output_type": "execute_result"
    }
   ],
   "source": [
    "PopPorAno"
   ]
  },
  {
   "cell_type": "code",
   "execution_count": null,
   "metadata": {},
   "outputs": [],
   "source": []
  },
  {
   "cell_type": "code",
   "execution_count": null,
   "metadata": {},
   "outputs": [],
   "source": []
  },
  {
   "cell_type": "markdown",
   "metadata": {},
   "source": [
    "# Satisfação com a Ferramenta <a name=\"satisfacao\"></a>"
   ]
  },
  {
   "cell_type": "markdown",
   "metadata": {},
   "source": [
    "Exige pré preparação dos dados"
   ]
  },
  {
   "cell_type": "code",
   "execution_count": 12,
   "metadata": {},
   "outputs": [],
   "source": [
    "Ano20132014.loc[Ano20132014['Está satisfeito com a ferramenta DreamShaper?'] == \"Muito insatisfeito\", 'Está satisfeito com a ferramenta DreamShaper?Encod'] = 1\n",
    "Ano20132014.loc[Ano20132014['Está satisfeito com a ferramenta DreamShaper?'] == \"Insatisfeito\", 'Está satisfeito com a ferramenta DreamShaper?Encod'] = 2\n",
    "Ano20132014.loc[Ano20132014['Está satisfeito com a ferramenta DreamShaper?'] == \"Nem satisfeito nem insatisfeito\", 'Está satisfeito com a ferramenta DreamShaper?Encod'] = 3\n",
    "Ano20132014.loc[Ano20132014['Está satisfeito com a ferramenta DreamShaper?'] == \"Satisfeito\", 'Está satisfeito com a ferramenta DreamShaper?Encod'] = 4\n",
    "Ano20132014.loc[Ano20132014['Está satisfeito com a ferramenta DreamShaper?'] == \"Muito Satisfeito\", 'Está satisfeito com a ferramenta DreamShaper?Encod'] = 5\n",
    "\n",
    "\n",
    "Ano20142015.loc[Ano20142015['Está satisfeito com a ferramenta DreamShaper?'] == \"Muito insatisfeito\", 'Está satisfeito com a ferramenta DreamShaper?Encod'] = 1\n",
    "Ano20142015.loc[Ano20142015['Está satisfeito com a ferramenta DreamShaper?'] == \"Insatisfeito\", 'Está satisfeito com a ferramenta DreamShaper?Encod'] = 2\n",
    "Ano20142015.loc[Ano20142015['Está satisfeito com a ferramenta DreamShaper?'] == \"Nem satisfeito nem insatisfeito\", 'Está satisfeito com a ferramenta DreamShaper?Encod'] = 3\n",
    "Ano20142015.loc[Ano20142015['Está satisfeito com a ferramenta DreamShaper?'] == \"Satisfeito\", 'Está satisfeito com a ferramenta DreamShaper?Encod'] = 4\n",
    "Ano20142015.loc[Ano20142015['Está satisfeito com a ferramenta DreamShaper?'] == \"Muito Satisfeito\", 'Está satisfeito com a ferramenta DreamShaper?Encod'] = 5\n"
   ]
  },
  {
   "cell_type": "code",
   "execution_count": null,
   "metadata": {},
   "outputs": [],
   "source": []
  },
  {
   "cell_type": "code",
   "execution_count": 13,
   "metadata": {},
   "outputs": [
    {
     "data": {
      "text/plain": [
       "<seaborn.axisgrid.FacetGrid at 0x20ede0f7888>"
      ]
     },
     "execution_count": 13,
     "metadata": {},
     "output_type": "execute_result"
    },
    {
     "data": {
      "image/png": "[encoded data removed]",
      "text/plain": [
       "<Figure size 720x360 with 1 Axes>"
      ]
     },
     "metadata": {
      "needs_background": "light"
     },
     "output_type": "display_data"
    }
   ],
   "source": [
    "import seaborn as sns\n",
    "import matplotlib.pyplot as plt\n",
    "\n",
    "#Ano20132014\n",
    "f2_ax1 =  sns.catplot(x=\"Está satisfeito com a ferramenta DreamShaper?Encod\", kind=\"count\", palette=\"ch:.25\", data=Ano20132014, aspect = 2 )\n",
    "f2_ax1.set(xlabel='Está satisfeito com a ferramenta DreamShaper?', ylabel='Counts', title='Está satisfeito com a ferramenta DreamShaper?Ano20132014 ')"
   ]
  },
  {
   "cell_type": "code",
   "execution_count": 14,
   "metadata": {},
   "outputs": [
    {
     "data": {
      "text/plain": [
       "<seaborn.axisgrid.FacetGrid at 0x20edfbb6548>"
      ]
     },
     "execution_count": 14,
     "metadata": {},
     "output_type": "execute_result"
    },
    {
     "data": {
      "image/png": "[encoded data removed]",
      "text/plain": [
       "<Figure size 720x360 with 1 Axes>"
      ]
     },
     "metadata": {
      "needs_background": "light"
     },
     "output_type": "display_data"
    }
   ],
   "source": [
    "#Ano20142015\n",
    "f2_ax2 =  sns.catplot(x=\"Está satisfeito com a ferramenta DreamShaper?Encod\", kind=\"count\", palette=\"ch:.25\", data=Ano20142015, aspect = 2 );\n",
    "f2_ax2.set(xlabel='Está satisfeito com a ferramenta DreamShaper?', ylabel='Counts', title='Está satisfeito com a ferramenta DreamShaper?Ano20142015 ')\n"
   ]
  },
  {
   "cell_type": "code",
   "execution_count": 15,
   "metadata": {},
   "outputs": [
    {
     "data": {
      "text/plain": [
       "<seaborn.axisgrid.FacetGrid at 0x20edfd38dc8>"
      ]
     },
     "execution_count": 15,
     "metadata": {},
     "output_type": "execute_result"
    },
    {
     "data": {
      "image/png": "[encoded data removed]",
      "text/plain": [
       "<Figure size 720x360 with 1 Axes>"
      ]
     },
     "metadata": {
      "needs_background": "light"
     },
     "output_type": "display_data"
    }
   ],
   "source": [
    "#Ano20152016\n",
    "f3_ax2 =  sns.catplot(x=\"Está satisfeito com a ferramenta DreamShaper?(Classifique de 1 a 4, sendo 1: Nada satisfeito e 4: Muito Satisfeito)\", kind=\"count\", palette=\"ch:.25\", data=Ano20152016, aspect = 2 );\n",
    "f3_ax2.set(xlabel='Está satisfeito com a ferramenta DreamShaper?', ylabel='Counts', title='Está satisfeito com a ferramenta DreamShaper?Ano20152016 ')\n"
   ]
  },
  {
   "cell_type": "code",
   "execution_count": 16,
   "metadata": {},
   "outputs": [
    {
     "data": {
      "text/plain": [
       "<seaborn.axisgrid.FacetGrid at 0x20edfed09c8>"
      ]
     },
     "execution_count": 16,
     "metadata": {},
     "output_type": "execute_result"
    },
    {
     "data": {
      "image/png": "[encoded data removed]",
      "text/plain": [
       "<Figure size 720x360 with 1 Axes>"
      ]
     },
     "metadata": {
      "needs_background": "light"
     },
     "output_type": "display_data"
    }
   ],
   "source": [
    "#Ano201620170 \n",
    "f4_ax2 =  sns.catplot(x=\"Está satisfeito com a ferramenta DreamShaper?(Classifique de 1 a 4, sendo 1: Nada satisfeito e 4: Muito Satisfeito)\", kind=\"count\", palette=\"ch:.25\", data=Ano20162017, aspect = 2 );\n",
    "f4_ax2.set(xlabel='Está satisfeito com a ferramenta DreamShaper?', ylabel='Counts', title='Está satisfeito com a ferramenta DreamShaper?Ano20162017 ')\n"
   ]
  },
  {
   "cell_type": "code",
   "execution_count": 17,
   "metadata": {},
   "outputs": [
    {
     "data": {
      "text/plain": [
       "<seaborn.axisgrid.FacetGrid at 0x20edfeea488>"
      ]
     },
     "execution_count": 17,
     "metadata": {},
     "output_type": "execute_result"
    },
    {
     "data": {
      "image/png": "[encoded data removed]",
      "text/plain": [
       "<Figure size 720x360 with 1 Axes>"
      ]
     },
     "metadata": {
      "needs_background": "light"
     },
     "output_type": "display_data"
    }
   ],
   "source": [
    "#Ano20172018\n",
    "f5_ax2 =  sns.catplot(x=\"Está satisfeito com a ferramenta DreamShaper?(Classifique de 1 a 4, sendo 1: Nada satisfeito e 4: Muito Satisfeito)\", kind=\"count\", palette=\"ch:.25\", data=Ano20172018, aspect = 2 );\n",
    "f5_ax2.set(xlabel='Está satisfeito com a ferramenta DreamShaper?', ylabel='Counts', title='Está satisfeito com a ferramenta DreamShaper?Ano20172018 ')\n"
   ]
  },
  {
   "cell_type": "code",
   "execution_count": null,
   "metadata": {},
   "outputs": [],
   "source": []
  },
  {
   "cell_type": "markdown",
   "metadata": {},
   "source": [
    "# Aprendeu com a Ferramenta ? <a name=\"aprendizagem\"></a>"
   ]
  },
  {
   "cell_type": "code",
   "execution_count": null,
   "metadata": {},
   "outputs": [],
   "source": []
  },
  {
   "cell_type": "code",
   "execution_count": 18,
   "metadata": {},
   "outputs": [],
   "source": [
    "Ano20132014.loc[Ano20132014['Quanto aprendeu com a DreamShaper?'] == \"Nada\", 'Quanto aprendeu com a DreamShaper?Encod'] = 1\n",
    "Ano20132014.loc[Ano20132014['Quanto aprendeu com a DreamShaper?'] == \"Pouco\", 'Quanto aprendeu com a DreamShaper?Encod'] = 2\n",
    "Ano20132014.loc[Ano20132014['Quanto aprendeu com a DreamShaper?'] == \"Alguma coisa\", 'Quanto aprendeu com a DreamShaper?Encod'] = 3\n",
    "Ano20132014.loc[Ano20132014['Quanto aprendeu com a DreamShaper?'] == \"Bastante\", 'Quanto aprendeu com a DreamShaper?Encod'] = 4\n",
    "Ano20132014.loc[Ano20132014['Quanto aprendeu com a DreamShaper?'] == \"Imenso\", 'Quanto aprendeu com a DreamShaper?Encod'] = 5\n",
    "\n",
    "\n",
    "Ano20142015.loc[Ano20142015['Quanto aprendeu com a DreamShaper?'] == \"Não aprendi nada\", 'Quanto aprendeu com a DreamShaper?Encod'] = 1\n",
    "Ano20142015.loc[Ano20142015['Quanto aprendeu com a DreamShaper?'] == \"Aprendi, mas pouco\", 'Quanto aprendeu com a DreamShaper?Encod'] = 2\n",
    "Ano20142015.loc[Ano20142015['Quanto aprendeu com a DreamShaper?'] == \"Aprendi alguma coisa\", 'Quanto aprendeu com a DreamShaper?Encod'] = 3\n",
    "Ano20142015.loc[Ano20142015['Quanto aprendeu com a DreamShaper?'] == \"Aprendi bastante\", 'Quanto aprendeu com a DreamShaper?Encod'] = 4\n",
    "Ano20142015.loc[Ano20142015['Quanto aprendeu com a DreamShaper?'] == \"Aprendi imenso!\", 'Quanto aprendeu com a DreamShaper?Encod'] = 5\n",
    "\n",
    "\n",
    "Ano20152016.loc[Ano20152016['Quanto aprendeu com a DreamShaper?'] == \"Nada\", 'Quanto aprendeu com a DreamShaper?Encod'] = 1\n",
    "Ano20152016.loc[Ano20152016['Quanto aprendeu com a DreamShaper?'] == \"Pouco\", 'Quanto aprendeu com a DreamShaper?Encod'] = 2\n",
    "Ano20152016.loc[Ano20152016['Quanto aprendeu com a DreamShaper?'] == \"Alguma coisa\", 'Quanto aprendeu com a DreamShaper?Encod'] = 3\n",
    "Ano20152016.loc[Ano20152016['Quanto aprendeu com a DreamShaper?'] == \"Bastante\", 'Quanto aprendeu com a DreamShaper?Encod'] = 4\n",
    "Ano20152016.loc[Ano20152016['Quanto aprendeu com a DreamShaper?'] == \"Imenso\", 'Quanto aprendeu com a DreamShaper?Encod'] = 5\n",
    "\n",
    "\n",
    "Ano20162017.loc[Ano20162017['Quanto aprendeu com a DreamShaper?'] == \"Nada\", 'Quanto aprendeu com a DreamShaper?Encod'] = 1\n",
    "Ano20162017.loc[Ano20162017['Quanto aprendeu com a DreamShaper?'] == \"Pouco\", 'Quanto aprendeu com a DreamShaper?Encod'] = 2\n",
    "Ano20162017.loc[Ano20162017['Quanto aprendeu com a DreamShaper?'] == \"Alguma coisa\", 'Quanto aprendeu com a DreamShaper?Encod'] = 3\n",
    "Ano20162017.loc[Ano20162017['Quanto aprendeu com a DreamShaper?'] == \"Bastante\", 'Quanto aprendeu com a DreamShaper?Encod'] = 4\n",
    "Ano20162017.loc[Ano20162017['Quanto aprendeu com a DreamShaper?'] == \"Imenso\", 'Quanto aprendeu com a DreamShaper?Encod'] = 5\n",
    "\n",
    "Ano20172018.loc[Ano20172018['Quanto aprendeu com a DreamShaper?'] == \"Nada\", 'Quanto aprendeu com a DreamShaper?Encod'] = 1\n",
    "Ano20172018.loc[Ano20172018['Quanto aprendeu com a DreamShaper?'] == \"Pouco\", 'Quanto aprendeu com a DreamShaper?Encod'] = 2\n",
    "Ano20172018.loc[Ano20172018['Quanto aprendeu com a DreamShaper?'] == \"Alguma coisa\", 'Quanto aprendeu com a DreamShaper?Encod'] = 3\n",
    "Ano20172018.loc[Ano20172018['Quanto aprendeu com a DreamShaper?'] == \"Bastante\", 'Quanto aprendeu com a DreamShaper?Encod'] = 4\n",
    "Ano20172018.loc[Ano20172018['Quanto aprendeu com a DreamShaper?'] == \"Imenso\", 'Quanto aprendeu com a DreamShaper?Encod'] = 5\n"
   ]
  },
  {
   "cell_type": "code",
   "execution_count": null,
   "metadata": {},
   "outputs": [],
   "source": []
  },
  {
   "cell_type": "code",
   "execution_count": 19,
   "metadata": {},
   "outputs": [
    {
     "data": {
      "text/plain": [
       "<seaborn.axisgrid.FacetGrid at 0x20ee01e09c8>"
      ]
     },
     "execution_count": 19,
     "metadata": {},
     "output_type": "execute_result"
    },
    {
     "data": {
      "image/png": "[encoded data removed]",
      "text/plain": [
       "<Figure size 720x360 with 1 Axes>"
      ]
     },
     "metadata": {
      "needs_background": "light"
     },
     "output_type": "display_data"
    }
   ],
   "source": [
    "\n",
    "#Ano20132014\n",
    "a1_ax1 =  sns.catplot(x=\"Quanto aprendeu com a DreamShaper?Encod\", kind=\"count\", palette=\"ch:.25\", data=Ano20132014, aspect = 2 )\n",
    "a1_ax1.set(xlabel='Quanto aprendeu com a DreamShaper?', ylabel='Counts', title='Quanto aprendeu com a DreamShaper??Ano20132014 ')"
   ]
  },
  {
   "cell_type": "code",
   "execution_count": 20,
   "metadata": {},
   "outputs": [
    {
     "data": {
      "text/plain": [
       "<seaborn.axisgrid.FacetGrid at 0x20ee03560c8>"
      ]
     },
     "execution_count": 20,
     "metadata": {},
     "output_type": "execute_result"
    },
    {
     "data": {
      "image/png": "[encoded data removed]",
      "text/plain": [
       "<Figure size 720x360 with 1 Axes>"
      ]
     },
     "metadata": {
      "needs_background": "light"
     },
     "output_type": "display_data"
    }
   ],
   "source": [
    "\n",
    "#Ano20142015\n",
    "a1_ax2 =  sns.catplot(x=\"Quanto aprendeu com a DreamShaper?Encod\", kind=\"count\", palette=\"ch:.25\", data=Ano20142015, aspect = 2 )\n",
    "a1_ax2.set(xlabel='Quanto aprendeu com a DreamShaper?', ylabel='Counts', title='Quanto aprendeu com a DreamShaper??Ano20142015 ')"
   ]
  },
  {
   "cell_type": "code",
   "execution_count": 21,
   "metadata": {},
   "outputs": [
    {
     "data": {
      "text/plain": [
       "<seaborn.axisgrid.FacetGrid at 0x20edc610648>"
      ]
     },
     "execution_count": 21,
     "metadata": {},
     "output_type": "execute_result"
    },
    {
     "data": {
      "image/png": "[encoded data removed]",
      "text/plain": [
       "<Figure size 720x360 with 1 Axes>"
      ]
     },
     "metadata": {
      "needs_background": "light"
     },
     "output_type": "display_data"
    }
   ],
   "source": [
    "\n",
    "#Ano20152016\n",
    "a1_ax3 =  sns.catplot(x=\"Quanto aprendeu com a DreamShaper?Encod\", kind=\"count\", palette=\"ch:.25\", data=Ano20152016, aspect = 2 )\n",
    "a1_ax3.set(xlabel='Quanto aprendeu com a DreamShaper?', ylabel='Counts', title='Quanto aprendeu com a DreamShaper??Ano20152016 ')"
   ]
  },
  {
   "cell_type": "code",
   "execution_count": 22,
   "metadata": {},
   "outputs": [
    {
     "data": {
      "text/plain": [
       "<seaborn.axisgrid.FacetGrid at 0x20ee01ddb88>"
      ]
     },
     "execution_count": 22,
     "metadata": {},
     "output_type": "execute_result"
    },
    {
     "data": {
      "image/png": "[encoded data removed]",
      "text/plain": [
       "<Figure size 720x360 with 1 Axes>"
      ]
     },
     "metadata": {
      "needs_background": "light"
     },
     "output_type": "display_data"
    }
   ],
   "source": [
    "\n",
    "#Ano20162017\n",
    "a1_ax4 =  sns.catplot(x=\"Quanto aprendeu com a DreamShaper?Encod\", kind=\"count\", palette=\"ch:.25\", data=Ano20162017, aspect = 2 )\n",
    "a1_ax4.set(xlabel='Quanto aprendeu com a DreamShaper?', ylabel='Counts', title='Quanto aprendeu com a DreamShaper??Ano20162017 ')"
   ]
  },
  {
   "cell_type": "code",
   "execution_count": 23,
   "metadata": {},
   "outputs": [
    {
     "data": {
      "text/plain": [
       "<seaborn.axisgrid.FacetGrid at 0x20ee035ae48>"
      ]
     },
     "execution_count": 23,
     "metadata": {},
     "output_type": "execute_result"
    },
    {
     "data": {
      "image/png": "[encoded data removed]",
      "text/plain": [
       "<Figure size 720x360 with 1 Axes>"
      ]
     },
     "metadata": {
      "needs_background": "light"
     },
     "output_type": "display_data"
    }
   ],
   "source": [
    "\n",
    "#Ano20172018\n",
    "a1_ax5 =  sns.catplot(x=\"Quanto aprendeu com a DreamShaper?Encod\", kind=\"count\", palette=\"ch:.25\", data=Ano20172018, aspect = 2 )\n",
    "a1_ax5.set(xlabel='Quanto aprendeu com a DreamShaper?', ylabel='Counts', title='Quanto aprendeu com a DreamShaper??Ano20172018 ')"
   ]
  },
  {
   "cell_type": "code",
   "execution_count": null,
   "metadata": {},
   "outputs": [],
   "source": [
    "\n",
    "\n",
    "\n"
   ]
  },
  {
   "cell_type": "markdown",
   "metadata": {},
   "source": [
    "# Existe Correlação entre Gosto e Aprendizagem ? <a name=\"gostovsaprendizagem\"></a>\n"
   ]
  },
  {
   "cell_type": "markdown",
   "metadata": {},
   "source": [
    " ### Ano 2013/2014"
   ]
  },
  {
   "cell_type": "code",
   "execution_count": 39,
   "metadata": {},
   "outputs": [
    {
     "data": {
      "text/html": [
       "<div>\n",
       "<style scoped>\n",
       "    .dataframe tbody tr th:only-of-type {\n",
       "        vertical-align: middle;\n",
       "    }\n",
       "\n",
       "    .dataframe tbody tr th {\n",
       "        vertical-align: top;\n",
       "    }\n",
       "\n",
       "    .dataframe thead th {\n",
       "        text-align: right;\n",
       "    }\n",
       "</style>\n",
       "<table border=\"1\" class=\"dataframe\">\n",
       "  <thead>\n",
       "    <tr style=\"text-align: right;\">\n",
       "      <th></th>\n",
       "      <th>Está satisfeito com a ferramenta DreamShaper?Encod</th>\n",
       "      <th>Quanto aprendeu com a DreamShaper?</th>\n",
       "      <th>count</th>\n",
       "      <th>Satisfação E Aprendizagem</th>\n",
       "    </tr>\n",
       "  </thead>\n",
       "  <tbody>\n",
       "    <tr>\n",
       "      <th>0</th>\n",
       "      <td>1.0</td>\n",
       "      <td>Alguma coisa</td>\n",
       "      <td>21</td>\n",
       "      <td>1.0 - Alguma coisa</td>\n",
       "    </tr>\n",
       "    <tr>\n",
       "      <th>1</th>\n",
       "      <td>1.0</td>\n",
       "      <td>Bastante</td>\n",
       "      <td>74</td>\n",
       "      <td>1.0 - Bastante</td>\n",
       "    </tr>\n",
       "    <tr>\n",
       "      <th>2</th>\n",
       "      <td>1.0</td>\n",
       "      <td>Imenso</td>\n",
       "      <td>17</td>\n",
       "      <td>1.0 - Imenso</td>\n",
       "    </tr>\n",
       "    <tr>\n",
       "      <th>3</th>\n",
       "      <td>1.0</td>\n",
       "      <td>Nada</td>\n",
       "      <td>1</td>\n",
       "      <td>1.0 - Nada</td>\n",
       "    </tr>\n",
       "    <tr>\n",
       "      <th>4</th>\n",
       "      <td>1.0</td>\n",
       "      <td>Pouco</td>\n",
       "      <td>3</td>\n",
       "      <td>1.0 - Pouco</td>\n",
       "    </tr>\n",
       "  </tbody>\n",
       "</table>\n",
       "</div>"
      ],
      "text/plain": [
       "  Está satisfeito com a ferramenta DreamShaper?Encod  \\\n",
       "0                                                1.0   \n",
       "1                                                1.0   \n",
       "2                                                1.0   \n",
       "3                                                1.0   \n",
       "4                                                1.0   \n",
       "\n",
       "  Quanto aprendeu com a DreamShaper?  count Satisfação E Aprendizagem  \n",
       "0                       Alguma coisa     21        1.0 - Alguma coisa  \n",
       "1                           Bastante     74            1.0 - Bastante  \n",
       "2                             Imenso     17              1.0 - Imenso  \n",
       "3                               Nada      1                1.0 - Nada  \n",
       "4                              Pouco      3               1.0 - Pouco  "
      ]
     },
     "execution_count": 39,
     "metadata": {},
     "output_type": "execute_result"
    }
   ],
   "source": [
    "Ano20132014LearnvsTaste = Ano20132014.groupby(['Está satisfeito com a ferramenta DreamShaper?Encod','Quanto aprendeu com a DreamShaper?']).size().to_frame('count').reset_index()\n",
    "\n",
    "\n",
    "Ano20132014LearnvsTaste['Está satisfeito com a ferramenta DreamShaper?Encod'] = Ano20132014LearnvsTaste['Está satisfeito com a ferramenta DreamShaper?Encod'].astype(str)\n",
    "Ano20132014LearnvsTaste[\"Satisfação E Aprendizagem\"]= Ano20132014LearnvsTaste[['Está satisfeito com a ferramenta DreamShaper?Encod', 'Quanto aprendeu com a DreamShaper?']].agg(' - '.join, axis=1)\n",
    "Ano20132014LearnvsTaste.head(5)"
   ]
  },
  {
   "cell_type": "code",
   "execution_count": 26,
   "metadata": {},
   "outputs": [
    {
     "data": {
      "text/plain": [
       "<seaborn.axisgrid.FacetGrid at 0x20ee0917b08>"
      ]
     },
     "execution_count": 26,
     "metadata": {},
     "output_type": "execute_result"
    },
    {
     "data": {
      "image/png": "[encoded data removed]",
      "text/plain": [
       "<Figure size 720x360 with 1 Axes>"
      ]
     },
     "metadata": {
      "needs_background": "light"
     },
     "output_type": "display_data"
    }
   ],
   "source": [
    "#Ano20132014\n",
    "sva_ax5 =  sns.catplot(x = 'Satisfação E Aprendizagem', y='count', kind=\"bar\", palette=\"ch:.25\", data=Ano20132014LearnvsTaste ,aspect = 2 )\n",
    "\n",
    "sva_ax5.set(xlabel='Satisfação - Aprendizagem', ylabel='Counts', title='Satisfação E Aprendizagem - Ano 2013/2014 ')\n",
    "sva_ax5.set_xticklabels(rotation=90)\n",
    "\n"
   ]
  },
  {
   "cell_type": "markdown",
   "metadata": {},
   "source": [
    " ### Ano 2014/2015"
   ]
  },
  {
   "cell_type": "code",
   "execution_count": 41,
   "metadata": {},
   "outputs": [
    {
     "data": {
      "text/html": [
       "<div>\n",
       "<style scoped>\n",
       "    .dataframe tbody tr th:only-of-type {\n",
       "        vertical-align: middle;\n",
       "    }\n",
       "\n",
       "    .dataframe tbody tr th {\n",
       "        vertical-align: top;\n",
       "    }\n",
       "\n",
       "    .dataframe thead th {\n",
       "        text-align: right;\n",
       "    }\n",
       "</style>\n",
       "<table border=\"1\" class=\"dataframe\">\n",
       "  <thead>\n",
       "    <tr style=\"text-align: right;\">\n",
       "      <th></th>\n",
       "      <th>Está satisfeito com a ferramenta DreamShaper?Encod</th>\n",
       "      <th>Quanto aprendeu com a DreamShaper?</th>\n",
       "      <th>count</th>\n",
       "      <th>Satisfação E Aprendizagem</th>\n",
       "    </tr>\n",
       "  </thead>\n",
       "  <tbody>\n",
       "    <tr>\n",
       "      <th>0</th>\n",
       "      <td>1.0</td>\n",
       "      <td>Aprendi alguma coisa</td>\n",
       "      <td>1</td>\n",
       "      <td>1.0 - Aprendi alguma coisa</td>\n",
       "    </tr>\n",
       "    <tr>\n",
       "      <th>1</th>\n",
       "      <td>1.0</td>\n",
       "      <td>Aprendi bastante</td>\n",
       "      <td>3</td>\n",
       "      <td>1.0 - Aprendi bastante</td>\n",
       "    </tr>\n",
       "    <tr>\n",
       "      <th>2</th>\n",
       "      <td>1.0</td>\n",
       "      <td>Aprendi imenso!</td>\n",
       "      <td>4</td>\n",
       "      <td>1.0 - Aprendi imenso!</td>\n",
       "    </tr>\n",
       "    <tr>\n",
       "      <th>3</th>\n",
       "      <td>2.0</td>\n",
       "      <td>Não aprendi nada</td>\n",
       "      <td>1</td>\n",
       "      <td>2.0 - Não aprendi nada</td>\n",
       "    </tr>\n",
       "    <tr>\n",
       "      <th>4</th>\n",
       "      <td>3.0</td>\n",
       "      <td>Aprendi alguma coisa</td>\n",
       "      <td>2</td>\n",
       "      <td>3.0 - Aprendi alguma coisa</td>\n",
       "    </tr>\n",
       "  </tbody>\n",
       "</table>\n",
       "</div>"
      ],
      "text/plain": [
       "  Está satisfeito com a ferramenta DreamShaper?Encod  \\\n",
       "0                                                1.0   \n",
       "1                                                1.0   \n",
       "2                                                1.0   \n",
       "3                                                2.0   \n",
       "4                                                3.0   \n",
       "\n",
       "  Quanto aprendeu com a DreamShaper?  count   Satisfação E Aprendizagem  \n",
       "0               Aprendi alguma coisa      1  1.0 - Aprendi alguma coisa  \n",
       "1                   Aprendi bastante      3      1.0 - Aprendi bastante  \n",
       "2                    Aprendi imenso!      4       1.0 - Aprendi imenso!  \n",
       "3                   Não aprendi nada      1      2.0 - Não aprendi nada  \n",
       "4               Aprendi alguma coisa      2  3.0 - Aprendi alguma coisa  "
      ]
     },
     "execution_count": 41,
     "metadata": {},
     "output_type": "execute_result"
    }
   ],
   "source": [
    "Ano20142015LearnvsTaste = Ano20142015.groupby(['Está satisfeito com a ferramenta DreamShaper?Encod','Quanto aprendeu com a DreamShaper?']).size().to_frame('count').reset_index()\n",
    "Ano20142015LearnvsTaste.head(5)\n",
    "\n",
    "Ano20142015LearnvsTaste['Está satisfeito com a ferramenta DreamShaper?Encod'] = Ano20142015LearnvsTaste['Está satisfeito com a ferramenta DreamShaper?Encod'].astype(str)\n",
    "\n",
    "Ano20142015LearnvsTaste[\"Satisfação E Aprendizagem\"]= Ano20142015LearnvsTaste[['Está satisfeito com a ferramenta DreamShaper?Encod', 'Quanto aprendeu com a DreamShaper?']].agg(' - '.join, axis=1)\n",
    "Ano20142015LearnvsTaste.head(5)"
   ]
  },
  {
   "cell_type": "code",
   "execution_count": 42,
   "metadata": {},
   "outputs": [
    {
     "data": {
      "text/plain": [
       "<seaborn.axisgrid.FacetGrid at 0x20ee25b79c8>"
      ]
     },
     "execution_count": 42,
     "metadata": {},
     "output_type": "execute_result"
    },
    {
     "data": {
      "image/png": "[encoded data removed]",
      "text/plain": [
       "<Figure size 720x360 with 1 Axes>"
      ]
     },
     "metadata": {
      "needs_background": "light"
     },
     "output_type": "display_data"
    }
   ],
   "source": [
    "#Ano20132014\n",
    "sva_ax2 =  sns.catplot(x = 'Satisfação E Aprendizagem', y='count', kind=\"bar\", palette=\"ch:.25\", data=Ano20142015LearnvsTaste ,aspect = 2 )\n",
    "\n",
    "sva_ax2.set(xlabel='Satisfação - Aprendizagem', ylabel='Counts', title='Satisfação E Aprendizagem - Ano 2014/2015 ')\n",
    "sva_ax2.set_xticklabels(rotation=90)\n",
    "\n"
   ]
  },
  {
   "cell_type": "markdown",
   "metadata": {},
   "source": [
    " ### Ano 2015/2016"
   ]
  },
  {
   "cell_type": "code",
   "execution_count": 43,
   "metadata": {},
   "outputs": [
    {
     "data": {
      "text/html": [
       "<div>\n",
       "<style scoped>\n",
       "    .dataframe tbody tr th:only-of-type {\n",
       "        vertical-align: middle;\n",
       "    }\n",
       "\n",
       "    .dataframe tbody tr th {\n",
       "        vertical-align: top;\n",
       "    }\n",
       "\n",
       "    .dataframe thead th {\n",
       "        text-align: right;\n",
       "    }\n",
       "</style>\n",
       "<table border=\"1\" class=\"dataframe\">\n",
       "  <thead>\n",
       "    <tr style=\"text-align: right;\">\n",
       "      <th></th>\n",
       "      <th>Está satisfeito com a ferramenta DreamShaper?(Classifique de 1 a 4, sendo 1: Nada satisfeito e 4: Muito Satisfeito)</th>\n",
       "      <th>Quanto aprendeu com a DreamShaper?</th>\n",
       "      <th>count</th>\n",
       "      <th>Satisfação E Aprendizagem</th>\n",
       "    </tr>\n",
       "  </thead>\n",
       "  <tbody>\n",
       "    <tr>\n",
       "      <th>0</th>\n",
       "      <td>1.0</td>\n",
       "      <td>Alguma coisa</td>\n",
       "      <td>1</td>\n",
       "      <td>1.0 - Alguma coisa</td>\n",
       "    </tr>\n",
       "    <tr>\n",
       "      <th>1</th>\n",
       "      <td>1.0</td>\n",
       "      <td>Nada</td>\n",
       "      <td>5</td>\n",
       "      <td>1.0 - Nada</td>\n",
       "    </tr>\n",
       "    <tr>\n",
       "      <th>2</th>\n",
       "      <td>1.0</td>\n",
       "      <td>Pouco</td>\n",
       "      <td>4</td>\n",
       "      <td>1.0 - Pouco</td>\n",
       "    </tr>\n",
       "    <tr>\n",
       "      <th>3</th>\n",
       "      <td>2.0</td>\n",
       "      <td>Alguma coisa</td>\n",
       "      <td>23</td>\n",
       "      <td>2.0 - Alguma coisa</td>\n",
       "    </tr>\n",
       "    <tr>\n",
       "      <th>4</th>\n",
       "      <td>2.0</td>\n",
       "      <td>Bastante</td>\n",
       "      <td>1</td>\n",
       "      <td>2.0 - Bastante</td>\n",
       "    </tr>\n",
       "  </tbody>\n",
       "</table>\n",
       "</div>"
      ],
      "text/plain": [
       "  Está satisfeito com a ferramenta DreamShaper?(Classifique de 1 a 4, sendo 1: Nada satisfeito e 4: Muito Satisfeito)  \\\n",
       "0                                                1.0                                                                    \n",
       "1                                                1.0                                                                    \n",
       "2                                                1.0                                                                    \n",
       "3                                                2.0                                                                    \n",
       "4                                                2.0                                                                    \n",
       "\n",
       "  Quanto aprendeu com a DreamShaper?  count Satisfação E Aprendizagem  \n",
       "0                       Alguma coisa      1        1.0 - Alguma coisa  \n",
       "1                               Nada      5                1.0 - Nada  \n",
       "2                              Pouco      4               1.0 - Pouco  \n",
       "3                       Alguma coisa     23        2.0 - Alguma coisa  \n",
       "4                           Bastante      1            2.0 - Bastante  "
      ]
     },
     "execution_count": 43,
     "metadata": {},
     "output_type": "execute_result"
    }
   ],
   "source": [
    "Ano20152016LearnvsTaste = Ano20152016.groupby(['Está satisfeito com a ferramenta DreamShaper?(Classifique de 1 a 4, sendo 1: Nada satisfeito e 4: Muito Satisfeito)','Quanto aprendeu com a DreamShaper?']).size().to_frame('count').reset_index()\n",
    "\n",
    "Ano20152016LearnvsTaste['Está satisfeito com a ferramenta DreamShaper?(Classifique de 1 a 4, sendo 1: Nada satisfeito e 4: Muito Satisfeito)'] = Ano20152016LearnvsTaste['Está satisfeito com a ferramenta DreamShaper?(Classifique de 1 a 4, sendo 1: Nada satisfeito e 4: Muito Satisfeito)'].astype(str)\n",
    "Ano20152016LearnvsTaste[\"Satisfação E Aprendizagem\"]= Ano20152016LearnvsTaste[['Está satisfeito com a ferramenta DreamShaper?(Classifique de 1 a 4, sendo 1: Nada satisfeito e 4: Muito Satisfeito)', 'Quanto aprendeu com a DreamShaper?']].agg(' - '.join, axis=1)\n",
    "Ano20152016LearnvsTaste.head(5)"
   ]
  },
  {
   "cell_type": "code",
   "execution_count": 44,
   "metadata": {},
   "outputs": [
    {
     "data": {
      "text/plain": [
       "<seaborn.axisgrid.FacetGrid at 0x20ee27d5688>"
      ]
     },
     "execution_count": 44,
     "metadata": {},
     "output_type": "execute_result"
    },
    {
     "data": {
      "image/png": "[encoded data removed]",
      "text/plain": [
       "<Figure size 720x360 with 1 Axes>"
      ]
     },
     "metadata": {
      "needs_background": "light"
     },
     "output_type": "display_data"
    }
   ],
   "source": [
    "#Ano20152016\n",
    "sva_ax3 =  sns.catplot(x = 'Satisfação E Aprendizagem', y='count', kind=\"bar\", palette=\"ch:.25\", data=Ano20152016LearnvsTaste ,aspect = 2 )\n",
    "\n",
    "sva_ax3.set(xlabel='Satisfação - Aprendizagem', ylabel='Counts', title='Satisfação E Aprendizagem - Ano 2015/2016 ')\n",
    "sva_ax3.set_xticklabels(rotation=90)"
   ]
  },
  {
   "cell_type": "markdown",
   "metadata": {},
   "source": [
    " ### Ano 2016/2017"
   ]
  },
  {
   "cell_type": "code",
   "execution_count": 45,
   "metadata": {},
   "outputs": [
    {
     "data": {
      "text/html": [
       "<div>\n",
       "<style scoped>\n",
       "    .dataframe tbody tr th:only-of-type {\n",
       "        vertical-align: middle;\n",
       "    }\n",
       "\n",
       "    .dataframe tbody tr th {\n",
       "        vertical-align: top;\n",
       "    }\n",
       "\n",
       "    .dataframe thead th {\n",
       "        text-align: right;\n",
       "    }\n",
       "</style>\n",
       "<table border=\"1\" class=\"dataframe\">\n",
       "  <thead>\n",
       "    <tr style=\"text-align: right;\">\n",
       "      <th></th>\n",
       "      <th>Está satisfeito com a ferramenta DreamShaper?(Classifique de 1 a 4, sendo 1: Nada satisfeito e 4: Muito Satisfeito)</th>\n",
       "      <th>Quanto aprendeu com a DreamShaper?</th>\n",
       "      <th>count</th>\n",
       "      <th>Satisfação E Aprendizagem</th>\n",
       "    </tr>\n",
       "  </thead>\n",
       "  <tbody>\n",
       "    <tr>\n",
       "      <th>0</th>\n",
       "      <td>1</td>\n",
       "      <td>Alguma coisa</td>\n",
       "      <td>1</td>\n",
       "      <td>1 - Alguma coisa</td>\n",
       "    </tr>\n",
       "    <tr>\n",
       "      <th>1</th>\n",
       "      <td>1</td>\n",
       "      <td>Bastante</td>\n",
       "      <td>1</td>\n",
       "      <td>1 - Bastante</td>\n",
       "    </tr>\n",
       "    <tr>\n",
       "      <th>2</th>\n",
       "      <td>1</td>\n",
       "      <td>Imenso</td>\n",
       "      <td>1</td>\n",
       "      <td>1 - Imenso</td>\n",
       "    </tr>\n",
       "    <tr>\n",
       "      <th>3</th>\n",
       "      <td>2</td>\n",
       "      <td>Alguma coisa</td>\n",
       "      <td>6</td>\n",
       "      <td>2 - Alguma coisa</td>\n",
       "    </tr>\n",
       "    <tr>\n",
       "      <th>4</th>\n",
       "      <td>2</td>\n",
       "      <td>Bastante</td>\n",
       "      <td>1</td>\n",
       "      <td>2 - Bastante</td>\n",
       "    </tr>\n",
       "  </tbody>\n",
       "</table>\n",
       "</div>"
      ],
      "text/plain": [
       "  Está satisfeito com a ferramenta DreamShaper?(Classifique de 1 a 4, sendo 1: Nada satisfeito e 4: Muito Satisfeito)  \\\n",
       "0                                                  1                                                                    \n",
       "1                                                  1                                                                    \n",
       "2                                                  1                                                                    \n",
       "3                                                  2                                                                    \n",
       "4                                                  2                                                                    \n",
       "\n",
       "  Quanto aprendeu com a DreamShaper?  count Satisfação E Aprendizagem  \n",
       "0                       Alguma coisa      1          1 - Alguma coisa  \n",
       "1                           Bastante      1              1 - Bastante  \n",
       "2                             Imenso      1                1 - Imenso  \n",
       "3                       Alguma coisa      6          2 - Alguma coisa  \n",
       "4                           Bastante      1              2 - Bastante  "
      ]
     },
     "execution_count": 45,
     "metadata": {},
     "output_type": "execute_result"
    }
   ],
   "source": [
    "Ano20162017LearnvsTaste = Ano20162017.groupby(['Está satisfeito com a ferramenta DreamShaper?(Classifique de 1 a 4, sendo 1: Nada satisfeito e 4: Muito Satisfeito)','Quanto aprendeu com a DreamShaper?']).size().to_frame('count').reset_index()\n",
    "\n",
    "Ano20162017LearnvsTaste['Está satisfeito com a ferramenta DreamShaper?(Classifique de 1 a 4, sendo 1: Nada satisfeito e 4: Muito Satisfeito)'] = Ano20162017LearnvsTaste['Está satisfeito com a ferramenta DreamShaper?(Classifique de 1 a 4, sendo 1: Nada satisfeito e 4: Muito Satisfeito)'].astype(str)\n",
    "Ano20162017LearnvsTaste[\"Satisfação E Aprendizagem\"]= Ano20162017LearnvsTaste[['Está satisfeito com a ferramenta DreamShaper?(Classifique de 1 a 4, sendo 1: Nada satisfeito e 4: Muito Satisfeito)', 'Quanto aprendeu com a DreamShaper?']].agg(' - '.join, axis=1)\n",
    "Ano20162017LearnvsTaste.head(5)"
   ]
  },
  {
   "cell_type": "code",
   "execution_count": 47,
   "metadata": {},
   "outputs": [
    {
     "data": {
      "text/plain": [
       "<seaborn.axisgrid.FacetGrid at 0x20ee2a5abc8>"
      ]
     },
     "execution_count": 47,
     "metadata": {},
     "output_type": "execute_result"
    },
    {
     "data": {
      "image/png": "[encoded data removed]",
      "text/plain": [
       "<Figure size 720x360 with 1 Axes>"
      ]
     },
     "metadata": {
      "needs_background": "light"
     },
     "output_type": "display_data"
    }
   ],
   "source": [
    "#Ano20162017\n",
    "sva_ax3 =  sns.catplot(x = 'Satisfação E Aprendizagem', y='count', kind=\"bar\", palette=\"ch:.25\", data=Ano20162017LearnvsTaste ,aspect = 2 )\n",
    "\n",
    "sva_ax3.set(xlabel='Satisfação - Aprendizagem', ylabel='Counts', title='Satisfação E Aprendizagem - Ano 2016/2017 ')\n",
    "sva_ax3.set_xticklabels(rotation=90)"
   ]
  },
  {
   "cell_type": "markdown",
   "metadata": {},
   "source": [
    " ### Ano 2017/2018"
   ]
  },
  {
   "cell_type": "code",
   "execution_count": 48,
   "metadata": {},
   "outputs": [
    {
     "data": {
      "text/html": [
       "<div>\n",
       "<style scoped>\n",
       "    .dataframe tbody tr th:only-of-type {\n",
       "        vertical-align: middle;\n",
       "    }\n",
       "\n",
       "    .dataframe tbody tr th {\n",
       "        vertical-align: top;\n",
       "    }\n",
       "\n",
       "    .dataframe thead th {\n",
       "        text-align: right;\n",
       "    }\n",
       "</style>\n",
       "<table border=\"1\" class=\"dataframe\">\n",
       "  <thead>\n",
       "    <tr style=\"text-align: right;\">\n",
       "      <th></th>\n",
       "      <th>Está satisfeito com a ferramenta DreamShaper?(Classifique de 1 a 4, sendo 1: Nada satisfeito e 4: Muito Satisfeito)</th>\n",
       "      <th>Quanto aprendeu com a DreamShaper?</th>\n",
       "      <th>count</th>\n",
       "      <th>Satisfação E Aprendizagem</th>\n",
       "    </tr>\n",
       "  </thead>\n",
       "  <tbody>\n",
       "    <tr>\n",
       "      <th>0</th>\n",
       "      <td>1.0</td>\n",
       "      <td>Bastante</td>\n",
       "      <td>1</td>\n",
       "      <td>1.0 - Bastante</td>\n",
       "    </tr>\n",
       "    <tr>\n",
       "      <th>1</th>\n",
       "      <td>1.0</td>\n",
       "      <td>Nada</td>\n",
       "      <td>2</td>\n",
       "      <td>1.0 - Nada</td>\n",
       "    </tr>\n",
       "    <tr>\n",
       "      <th>2</th>\n",
       "      <td>1.0</td>\n",
       "      <td>Pouco</td>\n",
       "      <td>1</td>\n",
       "      <td>1.0 - Pouco</td>\n",
       "    </tr>\n",
       "    <tr>\n",
       "      <th>3</th>\n",
       "      <td>2.0</td>\n",
       "      <td>Alguma coisa</td>\n",
       "      <td>10</td>\n",
       "      <td>2.0 - Alguma coisa</td>\n",
       "    </tr>\n",
       "    <tr>\n",
       "      <th>4</th>\n",
       "      <td>2.0</td>\n",
       "      <td>Bastante</td>\n",
       "      <td>1</td>\n",
       "      <td>2.0 - Bastante</td>\n",
       "    </tr>\n",
       "  </tbody>\n",
       "</table>\n",
       "</div>"
      ],
      "text/plain": [
       "  Está satisfeito com a ferramenta DreamShaper?(Classifique de 1 a 4, sendo 1: Nada satisfeito e 4: Muito Satisfeito)  \\\n",
       "0                                                1.0                                                                    \n",
       "1                                                1.0                                                                    \n",
       "2                                                1.0                                                                    \n",
       "3                                                2.0                                                                    \n",
       "4                                                2.0                                                                    \n",
       "\n",
       "  Quanto aprendeu com a DreamShaper?  count Satisfação E Aprendizagem  \n",
       "0                           Bastante      1            1.0 - Bastante  \n",
       "1                               Nada      2                1.0 - Nada  \n",
       "2                              Pouco      1               1.0 - Pouco  \n",
       "3                       Alguma coisa     10        2.0 - Alguma coisa  \n",
       "4                           Bastante      1            2.0 - Bastante  "
      ]
     },
     "execution_count": 48,
     "metadata": {},
     "output_type": "execute_result"
    }
   ],
   "source": [
    "Ano20172018LearnvsTaste = Ano20172018.groupby(['Está satisfeito com a ferramenta DreamShaper?(Classifique de 1 a 4, sendo 1: Nada satisfeito e 4: Muito Satisfeito)','Quanto aprendeu com a DreamShaper?']).size().to_frame('count').reset_index()\n",
    "\n",
    "Ano20172018LearnvsTaste['Está satisfeito com a ferramenta DreamShaper?(Classifique de 1 a 4, sendo 1: Nada satisfeito e 4: Muito Satisfeito)'] = Ano20172018LearnvsTaste['Está satisfeito com a ferramenta DreamShaper?(Classifique de 1 a 4, sendo 1: Nada satisfeito e 4: Muito Satisfeito)'].astype(str)\n",
    "Ano20172018LearnvsTaste[\"Satisfação E Aprendizagem\"]= Ano20172018LearnvsTaste[['Está satisfeito com a ferramenta DreamShaper?(Classifique de 1 a 4, sendo 1: Nada satisfeito e 4: Muito Satisfeito)', 'Quanto aprendeu com a DreamShaper?']].agg(' - '.join, axis=1)\n",
    "Ano20172018LearnvsTaste.head(5)\n"
   ]
  },
  {
   "cell_type": "code",
   "execution_count": 49,
   "metadata": {},
   "outputs": [
    {
     "data": {
      "text/plain": [
       "<seaborn.axisgrid.FacetGrid at 0x20ee2e04188>"
      ]
     },
     "execution_count": 49,
     "metadata": {},
     "output_type": "execute_result"
    },
    {
     "data": {
      "image/png": "[encoded data removed]",
      "text/plain": [
       "<Figure size 720x360 with 1 Axes>"
      ]
     },
     "metadata": {
      "needs_background": "light"
     },
     "output_type": "display_data"
    }
   ],
   "source": [
    "#Ano20172018\n",
    "sva_ax4 =  sns.catplot(x = 'Satisfação E Aprendizagem', y='count', kind=\"bar\", palette=\"ch:.25\", data=Ano20172018LearnvsTaste ,aspect = 2 )\n",
    "\n",
    "sva_ax4.set(xlabel='Satisfação - Aprendizagem', ylabel='Counts', title='Satisfação E Aprendizagem - Ano 2017/2018 ')\n",
    "sva_ax4.set_xticklabels(rotation=90)"
   ]
  },
  {
   "cell_type": "code",
   "execution_count": null,
   "metadata": {},
   "outputs": [],
   "source": []
  }
 ],
 "metadata": {
  "kernelspec": {
   "display_name": "Python 3",
   "language": "python",
   "name": "python3"
  },
  "language_info": {
   "codemirror_mode": {
    "name": "ipython",
    "version": 3
   },
   "file_extension": ".py",
   "mimetype": "text/x-python",
   "name": "python",
   "nbconvert_exporter": "python",
   "pygments_lexer": "ipython3",
   "version": "3.7.6"
  }
 },
 "nbformat": 4,
 "nbformat_minor": 4
}
