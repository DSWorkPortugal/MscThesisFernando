{
 "cells": [
  {
   "cell_type": "code",
   "execution_count": null,
   "metadata": {},
   "outputs": [],
   "source": []
  },
  {
   "cell_type": "code",
   "execution_count": 46,
   "metadata": {},
   "outputs": [],
   "source": [
    "# Imports\n",
    "\n",
    "#basic data wrangling\n",
    "import pandas as pd\n",
    "import numpy as np \n"
   ]
  },
  {
   "cell_type": "code",
   "execution_count": 47,
   "metadata": {},
   "outputs": [],
   "source": [
    "Ano20132014negativos = pd.read_csv('Data/PositivosNegativosStandardized/Ano20132014negativos.csv', sep=',')\n",
    "Ano20132014positivos = pd.read_csv('Data/PositivosNegativosStandardized/Ano20132014positivos.csv', sep=',')\n",
    "\n",
    "Ano20142015negativos = pd.read_csv('Data/PositivosNegativosStandardized/Ano20142015negativos.csv', sep=',')\n",
    "Ano20142015positivos = pd.read_csv('Data/PositivosNegativosStandardized/Ano20142015positivos.csv', sep=',')\n",
    "\n",
    "Ano20152016negativos = pd.read_csv('Data/PositivosNegativosStandardized/Ano20152016negativos.csv', sep=',')\n",
    "Ano20152016positivos = pd.read_csv('Data/PositivosNegativosStandardized/Ano20152016positivos.csv', sep=',')\n",
    "\n",
    "Ano20162017negativos = pd.read_csv('Data/PositivosNegativosStandardized/Ano20162017negativos.csv', sep=',')\n",
    "Ano20162017positivos = pd.read_csv('Data/PositivosNegativosStandardized/Ano20162017positivos.csv', sep=',')\n",
    "\n",
    "Ano20172018negativos = pd.read_csv('Data/PositivosNegativosStandardized/Ano20172018negativos.csv', sep=',')\n",
    "Ano20172018positivos = pd.read_csv('Data/PositivosNegativosStandardized/Ano20172018positivos.csv', sep=',')\n",
    "\n"
   ]
  },
  {
   "cell_type": "code",
   "execution_count": 48,
   "metadata": {},
   "outputs": [],
   "source": [
    "#Ano20132014\n",
    "Ano20132014negativosSum=Ano20132014negativos.sum(axis = 0, skipna = True) \n",
    "Ano20132014negativosSum = pd.DataFrame(Ano20132014negativosSum)\n",
    "Ano20132014negativosSum['year'] = 2014\n",
    "Ano20132014negativosSum.reset_index(level=0, inplace=True)\n",
    "Ano20132014negativosSum.columns=[['Question', 'Counts', 'Year']]\n",
    "Ano20132014negativosSum['population'] = 1550\n",
    "Ano20132014negativosSum.to_csv(r'Data/PositivosNegativosStandardized/Ano20132014negativosSum.csv', index = False)\n",
    "Ano20132014negativosSum = pd.read_csv('Data/PositivosNegativosStandardized/Ano20132014negativosSum.csv', sep=',')\n",
    "Ano20132014negativosSum['Percentage'] = Ano20132014negativosSum['Counts']/Ano20132014negativosSum['population']\n",
    "Ano20132014negativosSum.to_csv(r'Data/PositivosNegativosStandardized/Ano20132014negativosSum.csv', index = False)\n",
    "Ano20132014negativosSum = pd.read_csv('Data/PositivosNegativosStandardized/Ano20132014negativosSum.csv', sep=',')\n",
    "\n",
    "\n",
    "Ano20132014positivosSum=Ano20132014positivos.sum(axis = 0, skipna = True) \n",
    "Ano20132014positivosSum = pd.DataFrame(Ano20132014positivosSum)\n",
    "Ano20132014positivosSum['year'] = 2014\n",
    "Ano20132014positivosSum.reset_index(level=0, inplace=True)\n",
    "Ano20132014positivosSum.columns=[['Question', 'Counts', 'Year']]\n",
    "Ano20132014positivosSum['population'] = 1550\n",
    "\n",
    "Ano20132014positivosSum.to_csv(r'Data/PositivosNegativosStandardized/Ano20132014positivosSum.csv', index = False)\n",
    "Ano20132014positivosSum = pd.read_csv('Data/PositivosNegativosStandardized/Ano20132014positivosSum.csv', sep=',')\n",
    "Ano20132014positivosSum['Percentage'] = Ano20132014positivosSum['Counts']/Ano20132014positivosSum['population']\n",
    "Ano20132014positivosSum.to_csv(r'Data/PositivosNegativosStandardized/Ano20132014positivosSum.csv', index = False)\n",
    "Ano20132014positivosSum = pd.read_csv('Data/PositivosNegativosStandardized/Ano20132014positivosSum.csv', sep=',')\n",
    "\n",
    "\n",
    "#Ano20142015\n",
    "Ano20142015negativosSum=Ano20142015negativos.sum(axis = 0, skipna = True) \n",
    "Ano20142015negativosSum = pd.DataFrame(Ano20142015negativosSum)\n",
    "Ano20142015negativosSum['year'] = 2015\n",
    "Ano20142015negativosSum.reset_index(level=0, inplace=True)\n",
    "Ano20142015negativosSum.columns=[['Question', 'Counts', 'Year']]\n",
    "\n",
    "Ano20142015negativosSum['population'] = 88\n",
    "\n",
    "Ano20142015negativosSum.to_csv(r'Data/PositivosNegativosStandardized/Ano20142015negativosSum.csv', index = False)\n",
    "Ano20142015negativosSum = pd.read_csv('Data/PositivosNegativosStandardized/Ano20142015negativosSum.csv', sep=',')\n",
    "Ano20142015negativosSum['Percentage']  = Ano20142015negativosSum['Counts']/Ano20142015negativosSum['population']\n",
    "Ano20142015negativosSum.to_csv(r'Data/PositivosNegativosStandardized/Ano20142015negativosSum.csv', index = False)\n",
    "Ano20142015negativosSum = pd.read_csv('Data/PositivosNegativosStandardized/Ano20142015negativosSum.csv', sep=',')\n",
    "\n",
    "\n",
    "\n",
    "Ano20142015positivosSum=Ano20142015positivos.sum(axis = 0, skipna = True) \n",
    "Ano20142015positivosSum = pd.DataFrame(Ano20142015positivosSum)\n",
    "Ano20142015positivosSum['year'] = 2015\n",
    "Ano20142015positivosSum.reset_index(level=0, inplace=True)\n",
    "Ano20142015positivosSum.columns=[['Question', 'Counts', 'Year']]\n",
    "\n",
    "Ano20142015positivosSum['population'] = 88\n",
    "\n",
    "Ano20142015positivosSum.to_csv(r'Data/PositivosNegativosStandardized/Ano20142015positivosSum.csv', index = False)\n",
    "Ano20142015positivosSum = pd.read_csv('Data/PositivosNegativosStandardized/Ano20142015positivosSum.csv', sep=',')\n",
    "Ano20142015positivosSum['Percentage']= Ano20142015positivosSum['Counts']/Ano20142015positivosSum['population']\n",
    "Ano20142015positivosSum.to_csv(r'Data/PositivosNegativosStandardized/Ano20142015positivosSum.csv', index = False)\n",
    "Ano20142015positivosSum = pd.read_csv('Data/PositivosNegativosStandardized/Ano20142015positivosSum.csv', sep=',')\n",
    "\n",
    "\n",
    "\n",
    "\n",
    "#Ano20152016\n",
    "Ano20152016negativosSum=Ano20152016negativos.sum(axis = 0, skipna = True) \n",
    "Ano20152016negativosSum = pd.DataFrame(Ano20152016negativosSum)\n",
    "Ano20152016negativosSum['year'] = 2016\n",
    "Ano20152016negativosSum.reset_index(level=0, inplace=True)\n",
    "Ano20152016negativosSum.columns=[['Question', 'Counts', 'Year']]\n",
    "\n",
    "Ano20152016negativosSum['population'] = 249\n",
    "\n",
    "Ano20152016negativosSum.to_csv(r'Data/PositivosNegativosStandardized/Ano20152016negativosSum.csv', index = False)\n",
    "Ano20152016negativosSum = pd.read_csv('Data/PositivosNegativosStandardized/Ano20152016negativosSum.csv', sep=',')\n",
    "Ano20152016negativosSum['Percentage'] = Ano20152016negativosSum['Counts']/Ano20152016negativosSum['population']\n",
    "Ano20152016negativosSum.to_csv(r'Data/PositivosNegativosStandardized/Ano20152016negativosSum.csv', index = False)\n",
    "Ano20152016negativosSum = pd.read_csv('Data/PositivosNegativosStandardized/Ano20152016negativosSum.csv', sep=',')\n",
    "\n",
    "\n",
    "\n",
    "\n",
    "\n",
    "Ano20152016positivosSum=Ano20152016positivos.sum(axis = 0, skipna = True) \n",
    "Ano20152016positivosSum = pd.DataFrame(Ano20152016positivosSum)\n",
    "Ano20152016positivosSum['year'] = 2016\n",
    "Ano20152016positivosSum.reset_index(level=0, inplace=True)\n",
    "Ano20152016positivosSum.columns=[['Question', 'Counts', 'Year']]\n",
    "\n",
    "Ano20152016positivosSum['population'] = 249\n",
    "\n",
    "Ano20152016positivosSum.to_csv(r'Data/PositivosNegativosStandardized/Ano20152016positivosSum.csv', index = False)\n",
    "Ano20152016positivosSum = pd.read_csv('Data/PositivosNegativosStandardized/Ano20152016positivosSum.csv', sep=',')\n",
    "Ano20152016positivosSum['Percentage'] = Ano20152016positivosSum['Counts']/Ano20152016positivosSum['population']\n",
    "Ano20152016positivosSum.to_csv(r'Data/PositivosNegativosStandardized/Ano20152016positivosSum.csv', index = False)\n",
    "Ano20152016positivosSum = pd.read_csv('Data/PositivosNegativosStandardized/Ano20152016positivosSum.csv', sep=',')\n",
    "\n",
    "\n",
    "\n",
    "\n",
    "\n",
    "\n",
    "#Ano20162017\n",
    "Ano20162017negativosSum=Ano20162017negativos.sum(axis = 0, skipna = True) \n",
    "Ano20162017negativosSum = pd.DataFrame(Ano20162017negativosSum)\n",
    "Ano20162017negativosSum['year'] = 2017\n",
    "Ano20162017negativosSum.reset_index(level=0, inplace=True)\n",
    "Ano20162017negativosSum.columns=[['Question', 'Counts', 'Year']]\n",
    "\n",
    "Ano20162017negativosSum['population'] = 442\n",
    "\n",
    "Ano20162017negativosSum.to_csv(r'Data/PositivosNegativosStandardized/Ano20162017negativosSum.csv', index = False)\n",
    "Ano20162017negativosSum = pd.read_csv('Data/PositivosNegativosStandardized/Ano20162017negativosSum.csv', sep=',')\n",
    "Ano20162017negativosSum['Percentage'] = Ano20162017negativosSum['Counts']/Ano20162017negativosSum['population']\n",
    "Ano20162017negativosSum.to_csv(r'Data/PositivosNegativosStandardized/Ano20162017negativosSum.csv', index = False)\n",
    "Ano20162017negativosSum = pd.read_csv('Data/PositivosNegativosStandardized/Ano20162017negativosSum.csv', sep=',')\n",
    "\n",
    "\n",
    "\n",
    "\n",
    "\n",
    "Ano20162017positivosSum=Ano20162017positivos.sum(axis = 0, skipna = True) \n",
    "Ano20162017positivosSum = pd.DataFrame(Ano20162017positivosSum)\n",
    "Ano20162017positivosSum['year'] = 2017\n",
    "Ano20162017positivosSum.reset_index(level=0, inplace=True)\n",
    "Ano20162017positivosSum.columns=[['Question', 'Counts', 'Year']]\n",
    "\n",
    "\n",
    "Ano20162017positivosSum['population'] = 442\n",
    "\n",
    "Ano20162017positivosSum.to_csv(r'Data/PositivosNegativosStandardized/Ano20162017positivosSum.csv', index = False)\n",
    "Ano20162017positivosSum = pd.read_csv('Data/PositivosNegativosStandardized/Ano20162017positivosSum.csv', sep=',')\n",
    "Ano20162017positivosSum['Percentage'] = Ano20162017positivosSum['Counts']/Ano20162017positivosSum['population']\n",
    "Ano20162017positivosSum.to_csv(r'Data/PositivosNegativosStandardized/Ano20162017positivosSum.csv', index = False)\n",
    "Ano20162017positivosSum = pd.read_csv('Data/PositivosNegativosStandardized/Ano20162017positivosSum.csv', sep=',')\n",
    "\n",
    "\n",
    "\n",
    "\n",
    "#Ano20172018\n",
    "Ano20172018negativosSum=Ano20172018negativos.sum(axis = 0, skipna = True) \n",
    "Ano20172018negativosSum = pd.DataFrame(Ano20172018negativosSum)\n",
    "Ano20172018negativosSum['year'] = 2018\n",
    "Ano20172018negativosSum.reset_index(level=0, inplace=True)\n",
    "Ano20172018negativosSum.columns=[['Question', 'Counts', 'Year']]\n",
    "\n",
    "Ano20172018negativosSum['population'] = 870\n",
    "\n",
    "Ano20172018negativosSum.to_csv(r'Data/PositivosNegativosStandardized/Ano20172018negativosSum.csv', index = False)\n",
    "Ano20172018negativosSum = pd.read_csv('Data/PositivosNegativosStandardized/Ano20172018negativosSum.csv', sep=',')\n",
    "Ano20172018negativosSum['Percentage'] = Ano20172018negativosSum['Counts']/Ano20172018negativosSum['population']\n",
    "Ano20172018negativosSum.to_csv(r'Data/PositivosNegativosStandardized/Ano20172018negativosSum.csv', index = False)\n",
    "Ano20172018negativosSum = pd.read_csv('Data/PositivosNegativosStandardized/Ano20172018negativosSum.csv', sep=',')\n",
    "\n",
    "\n",
    "\n",
    "\n",
    "\n",
    "Ano20172018positivosSum=Ano20172018positivos.sum(axis = 0, skipna = True) \n",
    "Ano20172018positivosSum = pd.DataFrame(Ano20172018positivosSum)\n",
    "Ano20172018positivosSum['year'] = 2018\n",
    "Ano20172018positivosSum.reset_index(level=0, inplace=True)\n",
    "Ano20172018positivosSum.columns=[['Question', 'Counts', 'Year']]\n",
    "\n",
    "Ano20172018positivosSum['population'] = 870\n",
    "\n",
    "Ano20172018positivosSum.to_csv(r'Data/PositivosNegativosStandardized/Ano20172018positivosSum.csv', index = False)\n",
    "Ano20172018positivosSum = pd.read_csv('Data/PositivosNegativosStandardized/Ano20172018positivosSum.csv', sep=',')\n",
    "Ano20172018positivosSum['Percentage']  = Ano20172018positivosSum['Counts']/Ano20172018positivosSum['population']\n",
    "Ano20172018positivosSum.to_csv(r'Data/PositivosNegativosStandardized/Ano20172018positivosSum.csv', index = False)\n",
    "Ano20172018positivosSum = pd.read_csv('Data/PositivosNegativosStandardized/Ano20172018positivosSum.csv', sep=',')\n",
    "\n",
    "\n",
    "\n",
    "\n"
   ]
  },
  {
   "cell_type": "code",
   "execution_count": 41,
   "metadata": {
    "scrolled": true
   },
   "outputs": [
    {
     "data": {
      "text/html": [
       "<div>\n",
       "<style scoped>\n",
       "    .dataframe tbody tr th:only-of-type {\n",
       "        vertical-align: middle;\n",
       "    }\n",
       "\n",
       "    .dataframe tbody tr th {\n",
       "        vertical-align: top;\n",
       "    }\n",
       "\n",
       "    .dataframe thead th {\n",
       "        text-align: right;\n",
       "    }\n",
       "</style>\n",
       "<table border=\"1\" class=\"dataframe\">\n",
       "  <thead>\n",
       "    <tr style=\"text-align: right;\">\n",
       "      <th></th>\n",
       "      <th>Question</th>\n",
       "      <th>Counts</th>\n",
       "      <th>Year</th>\n",
       "      <th>population</th>\n",
       "      <th>Percentage</th>\n",
       "    </tr>\n",
       "  </thead>\n",
       "  <tbody>\n",
       "    <tr>\n",
       "      <th>0</th>\n",
       "      <td>Aspecto Visual</td>\n",
       "      <td>36</td>\n",
       "      <td>2015</td>\n",
       "      <td>88</td>\n",
       "      <td>0.409091</td>\n",
       "    </tr>\n",
       "    <tr>\n",
       "      <th>1</th>\n",
       "      <td>Navegação na Ferramenta</td>\n",
       "      <td>44</td>\n",
       "      <td>2015</td>\n",
       "      <td>88</td>\n",
       "      <td>0.500000</td>\n",
       "    </tr>\n",
       "    <tr>\n",
       "      <th>2</th>\n",
       "      <td>Perguntas</td>\n",
       "      <td>15</td>\n",
       "      <td>2015</td>\n",
       "      <td>88</td>\n",
       "      <td>0.170455</td>\n",
       "    </tr>\n",
       "    <tr>\n",
       "      <th>3</th>\n",
       "      <td>Exemplos</td>\n",
       "      <td>25</td>\n",
       "      <td>2015</td>\n",
       "      <td>88</td>\n",
       "      <td>0.284091</td>\n",
       "    </tr>\n",
       "    <tr>\n",
       "      <th>4</th>\n",
       "      <td>Vídeos</td>\n",
       "      <td>32</td>\n",
       "      <td>2015</td>\n",
       "      <td>88</td>\n",
       "      <td>0.363636</td>\n",
       "    </tr>\n",
       "    <tr>\n",
       "      <th>5</th>\n",
       "      <td>Modelo de Negócios</td>\n",
       "      <td>47</td>\n",
       "      <td>2015</td>\n",
       "      <td>88</td>\n",
       "      <td>0.534091</td>\n",
       "    </tr>\n",
       "    <tr>\n",
       "      <th>6</th>\n",
       "      <td>Indicações de Interface</td>\n",
       "      <td>11</td>\n",
       "      <td>2015</td>\n",
       "      <td>88</td>\n",
       "      <td>0.125000</td>\n",
       "    </tr>\n",
       "    <tr>\n",
       "      <th>7</th>\n",
       "      <td>Mural de equipa</td>\n",
       "      <td>4</td>\n",
       "      <td>2015</td>\n",
       "      <td>88</td>\n",
       "      <td>0.045455</td>\n",
       "    </tr>\n",
       "    <tr>\n",
       "      <th>8</th>\n",
       "      <td>Gestão de equipa</td>\n",
       "      <td>4</td>\n",
       "      <td>2015</td>\n",
       "      <td>88</td>\n",
       "      <td>0.045455</td>\n",
       "    </tr>\n",
       "    <tr>\n",
       "      <th>9</th>\n",
       "      <td>Gestão de projectos</td>\n",
       "      <td>38</td>\n",
       "      <td>2015</td>\n",
       "      <td>88</td>\n",
       "      <td>0.431818</td>\n",
       "    </tr>\n",
       "  </tbody>\n",
       "</table>\n",
       "</div>"
      ],
      "text/plain": [
       "                  Question  Counts  Year  population  Percentage\n",
       "0           Aspecto Visual      36  2015          88    0.409091\n",
       "1  Navegação na Ferramenta      44  2015          88    0.500000\n",
       "2                Perguntas      15  2015          88    0.170455\n",
       "3                 Exemplos      25  2015          88    0.284091\n",
       "4                   Vídeos      32  2015          88    0.363636\n",
       "5       Modelo de Negócios      47  2015          88    0.534091\n",
       "6  Indicações de Interface      11  2015          88    0.125000\n",
       "7          Mural de equipa       4  2015          88    0.045455\n",
       "8         Gestão de equipa       4  2015          88    0.045455\n",
       "9      Gestão de projectos      38  2015          88    0.431818"
      ]
     },
     "execution_count": 41,
     "metadata": {},
     "output_type": "execute_result"
    }
   ],
   "source": [
    "Ano20142015positivosSum\n"
   ]
  },
  {
   "cell_type": "code",
   "execution_count": 42,
   "metadata": {},
   "outputs": [],
   "source": [
    "PositivosPerYear = pd.concat([Ano20132014positivosSum, Ano20142015positivosSum, Ano20152016positivosSum, Ano20162017positivosSum, Ano20172018positivosSum], axis=0)\n",
    "\n",
    "\n",
    "NegativosPerYear = pd.concat([Ano20132014negativosSum, Ano20142015negativosSum, Ano20152016negativosSum, Ano20162017negativosSum, Ano20172018negativosSum], axis=0)\n",
    "\n",
    "\n",
    "PositivosPerYear.to_csv(r'Data/PositivosNegativosStandardized/PositivosPerYear.csv', index = False)\n",
    "NegativosPerYear.to_csv(r'Data/PositivosNegativosStandardized/NegativosPerYear.csv', index = False)\n",
    "\n"
   ]
  },
  {
   "cell_type": "code",
   "execution_count": null,
   "metadata": {},
   "outputs": [],
   "source": []
  },
  {
   "cell_type": "code",
   "execution_count": 43,
   "metadata": {},
   "outputs": [
    {
     "data": {
      "text/plain": [
       "Question       object\n",
       "Counts          int64\n",
       "Year            int64\n",
       "population      int64\n",
       "Percentage    float64\n",
       "dtype: object"
      ]
     },
     "execution_count": 43,
     "metadata": {},
     "output_type": "execute_result"
    }
   ],
   "source": [
    "PositivosPerYear = pd.read_csv('Data/PositivosNegativosStandardized/PositivosPerYear.csv', sep=',')\n",
    "PositivosPerYear.dtypes\n",
    "\n",
    "NegativosPerYear = pd.read_csv('Data/PositivosNegativosStandardized/NegativosPerYear.csv', sep=',')\n",
    "NegativosPerYear"
   ]
  },
  {
   "cell_type": "code",
   "execution_count": null,
   "metadata": {},
   "outputs": [],
   "source": []
  },
  {
   "cell_type": "code",
   "execution_count": 44,
   "metadata": {},
   "outputs": [
    {
     "data": {
      "application/vnd.plotly.v1+json": {
       "config": {
        "plotlyServerURL": "https://plot.ly"
       },
       "data": [
        {
         "alignmentgroup": "True",
         "hovertemplate": "<b>%{hovertext}</b><br><br>Year=2014<br>Question=%{x}<br>Percentage=%{y}<extra></extra>",
         "hovertext": [
          "Aspecto Visual",
          "Navegação na Ferramenta",
          "Perguntas",
          "Exemplos",
          "Vídeos",
          "Modelo de Negócios",
          "Indicações de Interface",
          "Mural de equipa",
          "Gestão de equipa",
          "Gestão de projectos"
         ],
         "legendgroup": "",
         "marker": {
          "color": "#636efa"
         },
         "name": "",
         "offsetgroup": "",
         "orientation": "v",
         "showlegend": false,
         "textposition": "auto",
         "type": "bar",
         "x": [
          "Aspecto Visual",
          "Navegação na Ferramenta",
          "Perguntas",
          "Exemplos",
          "Vídeos",
          "Modelo de Negócios",
          "Indicações de Interface",
          "Mural de equipa",
          "Gestão de equipa",
          "Gestão de projectos"
         ],
         "xaxis": "x",
         "y": [
          0.5851612903225807,
          0.5748387096774193,
          0.3335483870967742,
          0.4316129032258065,
          0.16322580645161291,
          0.3832258064516129,
          0.12387096774193547,
          0.044516129032258066,
          0.03612903225806452,
          0.2812903225806452
         ],
         "yaxis": "y"
        }
       ],
       "frames": [
        {
         "data": [
          {
           "alignmentgroup": "True",
           "hovertemplate": "<b>%{hovertext}</b><br><br>Year=2014<br>Question=%{x}<br>Percentage=%{y}<extra></extra>",
           "hovertext": [
            "Aspecto Visual",
            "Navegação na Ferramenta",
            "Perguntas",
            "Exemplos",
            "Vídeos",
            "Modelo de Negócios",
            "Indicações de Interface",
            "Mural de equipa",
            "Gestão de equipa",
            "Gestão de projectos"
           ],
           "legendgroup": "",
           "marker": {
            "color": "#636efa"
           },
           "name": "",
           "offsetgroup": "",
           "orientation": "v",
           "showlegend": false,
           "textposition": "auto",
           "type": "bar",
           "x": [
            "Aspecto Visual",
            "Navegação na Ferramenta",
            "Perguntas",
            "Exemplos",
            "Vídeos",
            "Modelo de Negócios",
            "Indicações de Interface",
            "Mural de equipa",
            "Gestão de equipa",
            "Gestão de projectos"
           ],
           "xaxis": "x",
           "y": [
            0.5851612903225807,
            0.5748387096774193,
            0.3335483870967742,
            0.4316129032258065,
            0.16322580645161291,
            0.3832258064516129,
            0.12387096774193547,
            0.044516129032258066,
            0.03612903225806452,
            0.2812903225806452
           ],
           "yaxis": "y"
          }
         ],
         "name": "2014"
        },
        {
         "data": [
          {
           "alignmentgroup": "True",
           "hovertemplate": "<b>%{hovertext}</b><br><br>Year=2015<br>Question=%{x}<br>Percentage=%{y}<extra></extra>",
           "hovertext": [
            "Aspecto Visual",
            "Navegação na Ferramenta",
            "Perguntas",
            "Exemplos",
            "Vídeos",
            "Modelo de Negócios",
            "Indicações de Interface",
            "Mural de equipa",
            "Gestão de equipa",
            "Gestão de projectos"
           ],
           "legendgroup": "",
           "marker": {
            "color": "#636efa"
           },
           "name": "",
           "offsetgroup": "",
           "orientation": "v",
           "showlegend": false,
           "textposition": "auto",
           "type": "bar",
           "x": [
            "Aspecto Visual",
            "Navegação na Ferramenta",
            "Perguntas",
            "Exemplos",
            "Vídeos",
            "Modelo de Negócios",
            "Indicações de Interface",
            "Mural de equipa",
            "Gestão de equipa",
            "Gestão de projectos"
           ],
           "xaxis": "x",
           "y": [
            0.4090909090909091,
            0.5,
            0.17045454545454544,
            0.2840909090909091,
            0.3636363636363637,
            0.5340909090909091,
            0.125,
            0.045454545454545456,
            0.045454545454545456,
            0.4318181818181818
           ],
           "yaxis": "y"
          }
         ],
         "name": "2015"
        },
        {
         "data": [
          {
           "alignmentgroup": "True",
           "hovertemplate": "<b>%{hovertext}</b><br><br>Year=2016<br>Question=%{x}<br>Percentage=%{y}<extra></extra>",
           "hovertext": [
            "Aspecto Visual",
            "Navegação na Ferramenta",
            "Perguntas",
            "Exemplos",
            "Vídeos",
            "Modelo de Negócios",
            "Indicações de Interface",
            "Mural de equipa",
            "Gestão de equipa",
            "Gestão de projectos"
           ],
           "legendgroup": "",
           "marker": {
            "color": "#636efa"
           },
           "name": "",
           "offsetgroup": "",
           "orientation": "v",
           "showlegend": false,
           "textposition": "auto",
           "type": "bar",
           "x": [
            "Aspecto Visual",
            "Navegação na Ferramenta",
            "Perguntas",
            "Exemplos",
            "Vídeos",
            "Modelo de Negócios",
            "Indicações de Interface",
            "Mural de equipa",
            "Gestão de equipa",
            "Gestão de projectos"
           ],
           "xaxis": "x",
           "y": [
            0.4297188755020081,
            0.4738955823293173,
            0.2329317269076305,
            0.3694779116465863,
            0.3614457831325301,
            0.5180722891566265,
            0.1686746987951807,
            0.0642570281124498,
            0.10843373493975904,
            0.3373493975903614
           ],
           "yaxis": "y"
          }
         ],
         "name": "2016"
        },
        {
         "data": [
          {
           "alignmentgroup": "True",
           "hovertemplate": "<b>%{hovertext}</b><br><br>Year=2017<br>Question=%{x}<br>Percentage=%{y}<extra></extra>",
           "hovertext": [
            "Aspecto Visual",
            "Navegação na Ferramenta",
            "Perguntas",
            "Exemplos",
            "Vídeos",
            "Modelo de Negócios",
            "Indicações de Interface",
            "Mural de equipa",
            "Gestão de equipa",
            "Gestão de projectos"
           ],
           "legendgroup": "",
           "marker": {
            "color": "#636efa"
           },
           "name": "",
           "offsetgroup": "",
           "orientation": "v",
           "showlegend": false,
           "textposition": "auto",
           "type": "bar",
           "x": [
            "Aspecto Visual",
            "Navegação na Ferramenta",
            "Perguntas",
            "Exemplos",
            "Vídeos",
            "Modelo de Negócios",
            "Indicações de Interface",
            "Mural de equipa",
            "Gestão de equipa",
            "Gestão de projectos"
           ],
           "xaxis": "x",
           "y": [
            0.5113122171945701,
            0.6108597285067874,
            0.25339366515837103,
            0.4343891402714932,
            0.6176470588235294,
            0.5542986425339367,
            0.2420814479638009,
            0.05203619909502264,
            0.10407239819004524,
            0.3981900452488688
           ],
           "yaxis": "y"
          }
         ],
         "name": "2017"
        },
        {
         "data": [
          {
           "alignmentgroup": "True",
           "hovertemplate": "<b>%{hovertext}</b><br><br>Year=2018<br>Question=%{x}<br>Percentage=%{y}<extra></extra>",
           "hovertext": [
            "Aspecto Visual",
            "Navegação na Ferramenta",
            "Perguntas",
            "Exemplos",
            "Vídeos",
            "Modelo de Negócios",
            "Indicações de Interface",
            "Mural de equipa",
            "Gestão de equipa",
            "Gestão de projectos"
           ],
           "legendgroup": "",
           "marker": {
            "color": "#636efa"
           },
           "name": "",
           "offsetgroup": "",
           "orientation": "v",
           "showlegend": false,
           "textposition": "auto",
           "type": "bar",
           "x": [
            "Aspecto Visual",
            "Navegação na Ferramenta",
            "Perguntas",
            "Exemplos",
            "Vídeos",
            "Modelo de Negócios",
            "Indicações de Interface",
            "Mural de equipa",
            "Gestão de equipa",
            "Gestão de projectos"
           ],
           "xaxis": "x",
           "y": [
            0.5287356321839081,
            0.603448275862069,
            0.27011494252873564,
            0.4160919540229885,
            0.46781609195402296,
            0.5494252873563218,
            0.2367816091954023,
            0.04367816091954023,
            0.11149425287356322,
            0.3402298850574713
           ],
           "yaxis": "y"
          }
         ],
         "name": "2018"
        }
       ],
       "layout": {
        "barmode": "relative",
        "legend": {
         "tracegroupgap": 0
        },
        "margin": {
         "t": 60
        },
        "sliders": [
         {
          "active": 0,
          "currentvalue": {
           "prefix": "Year="
          },
          "len": 0.9,
          "pad": {
           "b": 10,
           "t": 60
          },
          "steps": [
           {
            "args": [
             [
              "2014"
             ],
             {
              "frame": {
               "duration": 0,
               "redraw": true
              },
              "fromcurrent": true,
              "mode": "immediate",
              "transition": {
               "duration": 0,
               "easing": "linear"
              }
             }
            ],
            "label": "2014",
            "method": "animate"
           },
           {
            "args": [
             [
              "2015"
             ],
             {
              "frame": {
               "duration": 0,
               "redraw": true
              },
              "fromcurrent": true,
              "mode": "immediate",
              "transition": {
               "duration": 0,
               "easing": "linear"
              }
             }
            ],
            "label": "2015",
            "method": "animate"
           },
           {
            "args": [
             [
              "2016"
             ],
             {
              "frame": {
               "duration": 0,
               "redraw": true
              },
              "fromcurrent": true,
              "mode": "immediate",
              "transition": {
               "duration": 0,
               "easing": "linear"
              }
             }
            ],
            "label": "2016",
            "method": "animate"
           },
           {
            "args": [
             [
              "2017"
             ],
             {
              "frame": {
               "duration": 0,
               "redraw": true
              },
              "fromcurrent": true,
              "mode": "immediate",
              "transition": {
               "duration": 0,
               "easing": "linear"
              }
             }
            ],
            "label": "2017",
            "method": "animate"
           },
           {
            "args": [
             [
              "2018"
             ],
             {
              "frame": {
               "duration": 0,
               "redraw": true
              },
              "fromcurrent": true,
              "mode": "immediate",
              "transition": {
               "duration": 0,
               "easing": "linear"
              }
             }
            ],
            "label": "2018",
            "method": "animate"
           }
          ],
          "x": 0.1,
          "xanchor": "left",
          "y": 0,
          "yanchor": "top"
         }
        ],
        "template": {
         "data": {
          "bar": [
           {
            "error_x": {
             "color": "#2a3f5f"
            },
            "error_y": {
             "color": "#2a3f5f"
            },
            "marker": {
             "line": {
              "color": "#E5ECF6",
              "width": 0.5
             }
            },
            "type": "bar"
           }
          ],
          "barpolar": [
           {
            "marker": {
             "line": {
              "color": "#E5ECF6",
              "width": 0.5
             }
            },
            "type": "barpolar"
           }
          ],
          "carpet": [
           {
            "aaxis": {
             "endlinecolor": "#2a3f5f",
             "gridcolor": "white",
             "linecolor": "white",
             "minorgridcolor": "white",
             "startlinecolor": "#2a3f5f"
            },
            "baxis": {
             "endlinecolor": "#2a3f5f",
             "gridcolor": "white",
             "linecolor": "white",
             "minorgridcolor": "white",
             "startlinecolor": "#2a3f5f"
            },
            "type": "carpet"
           }
          ],
          "choropleth": [
           {
            "colorbar": {
             "outlinewidth": 0,
             "ticks": ""
            },
            "type": "choropleth"
           }
          ],
          "contour": [
           {
            "colorbar": {
             "outlinewidth": 0,
             "ticks": ""
            },
            "colorscale": [
             [
              0,
              "#0d0887"
             ],
             [
              0.1111111111111111,
              "#46039f"
             ],
             [
              0.2222222222222222,
              "#7201a8"
             ],
             [
              0.3333333333333333,
              "#9c179e"
             ],
             [
              0.4444444444444444,
              "#bd3786"
             ],
             [
              0.5555555555555556,
              "#d8576b"
             ],
             [
              0.6666666666666666,
              "#ed7953"
             ],
             [
              0.7777777777777778,
              "#fb9f3a"
             ],
             [
              0.8888888888888888,
              "#fdca26"
             ],
             [
              1,
              "#f0f921"
             ]
            ],
            "type": "contour"
           }
          ],
          "contourcarpet": [
           {
            "colorbar": {
             "outlinewidth": 0,
             "ticks": ""
            },
            "type": "contourcarpet"
           }
          ],
          "heatmap": [
           {
            "colorbar": {
             "outlinewidth": 0,
             "ticks": ""
            },
            "colorscale": [
             [
              0,
              "#0d0887"
             ],
             [
              0.1111111111111111,
              "#46039f"
             ],
             [
              0.2222222222222222,
              "#7201a8"
             ],
             [
              0.3333333333333333,
              "#9c179e"
             ],
             [
              0.4444444444444444,
              "#bd3786"
             ],
             [
              0.5555555555555556,
              "#d8576b"
             ],
             [
              0.6666666666666666,
              "#ed7953"
             ],
             [
              0.7777777777777778,
              "#fb9f3a"
             ],
             [
              0.8888888888888888,
              "#fdca26"
             ],
             [
              1,
              "#f0f921"
             ]
            ],
            "type": "heatmap"
           }
          ],
          "heatmapgl": [
           {
            "colorbar": {
             "outlinewidth": 0,
             "ticks": ""
            },
            "colorscale": [
             [
              0,
              "#0d0887"
             ],
             [
              0.1111111111111111,
              "#46039f"
             ],
             [
              0.2222222222222222,
              "#7201a8"
             ],
             [
              0.3333333333333333,
              "#9c179e"
             ],
             [
              0.4444444444444444,
              "#bd3786"
             ],
             [
              0.5555555555555556,
              "#d8576b"
             ],
             [
              0.6666666666666666,
              "#ed7953"
             ],
             [
              0.7777777777777778,
              "#fb9f3a"
             ],
             [
              0.8888888888888888,
              "#fdca26"
             ],
             [
              1,
              "#f0f921"
             ]
            ],
            "type": "heatmapgl"
           }
          ],
          "histogram": [
           {
            "marker": {
             "colorbar": {
              "outlinewidth": 0,
              "ticks": ""
             }
            },
            "type": "histogram"
           }
          ],
          "histogram2d": [
           {
            "colorbar": {
             "outlinewidth": 0,
             "ticks": ""
            },
            "colorscale": [
             [
              0,
              "#0d0887"
             ],
             [
              0.1111111111111111,
              "#46039f"
             ],
             [
              0.2222222222222222,
              "#7201a8"
             ],
             [
              0.3333333333333333,
              "#9c179e"
             ],
             [
              0.4444444444444444,
              "#bd3786"
             ],
             [
              0.5555555555555556,
              "#d8576b"
             ],
             [
              0.6666666666666666,
              "#ed7953"
             ],
             [
              0.7777777777777778,
              "#fb9f3a"
             ],
             [
              0.8888888888888888,
              "#fdca26"
             ],
             [
              1,
              "#f0f921"
             ]
            ],
            "type": "histogram2d"
           }
          ],
          "histogram2dcontour": [
           {
            "colorbar": {
             "outlinewidth": 0,
             "ticks": ""
            },
            "colorscale": [
             [
              0,
              "#0d0887"
             ],
             [
              0.1111111111111111,
              "#46039f"
             ],
             [
              0.2222222222222222,
              "#7201a8"
             ],
             [
              0.3333333333333333,
              "#9c179e"
             ],
             [
              0.4444444444444444,
              "#bd3786"
             ],
             [
              0.5555555555555556,
              "#d8576b"
             ],
             [
              0.6666666666666666,
              "#ed7953"
             ],
             [
              0.7777777777777778,
              "#fb9f3a"
             ],
             [
              0.8888888888888888,
              "#fdca26"
             ],
             [
              1,
              "#f0f921"
             ]
            ],
            "type": "histogram2dcontour"
           }
          ],
          "mesh3d": [
           {
            "colorbar": {
             "outlinewidth": 0,
             "ticks": ""
            },
            "type": "mesh3d"
           }
          ],
          "parcoords": [
           {
            "line": {
             "colorbar": {
              "outlinewidth": 0,
              "ticks": ""
             }
            },
            "type": "parcoords"
           }
          ],
          "pie": [
           {
            "automargin": true,
            "type": "pie"
           }
          ],
          "scatter": [
           {
            "marker": {
             "colorbar": {
              "outlinewidth": 0,
              "ticks": ""
             }
            },
            "type": "scatter"
           }
          ],
          "scatter3d": [
           {
            "line": {
             "colorbar": {
              "outlinewidth": 0,
              "ticks": ""
             }
            },
            "marker": {
             "colorbar": {
              "outlinewidth": 0,
              "ticks": ""
             }
            },
            "type": "scatter3d"
           }
          ],
          "scattercarpet": [
           {
            "marker": {
             "colorbar": {
              "outlinewidth": 0,
              "ticks": ""
             }
            },
            "type": "scattercarpet"
           }
          ],
          "scattergeo": [
           {
            "marker": {
             "colorbar": {
              "outlinewidth": 0,
              "ticks": ""
             }
            },
            "type": "scattergeo"
           }
          ],
          "scattergl": [
           {
            "marker": {
             "colorbar": {
              "outlinewidth": 0,
              "ticks": ""
             }
            },
            "type": "scattergl"
           }
          ],
          "scattermapbox": [
           {
            "marker": {
             "colorbar": {
              "outlinewidth": 0,
              "ticks": ""
             }
            },
            "type": "scattermapbox"
           }
          ],
          "scatterpolar": [
           {
            "marker": {
             "colorbar": {
              "outlinewidth": 0,
              "ticks": ""
             }
            },
            "type": "scatterpolar"
           }
          ],
          "scatterpolargl": [
           {
            "marker": {
             "colorbar": {
              "outlinewidth": 0,
              "ticks": ""
             }
            },
            "type": "scatterpolargl"
           }
          ],
          "scatterternary": [
           {
            "marker": {
             "colorbar": {
              "outlinewidth": 0,
              "ticks": ""
             }
            },
            "type": "scatterternary"
           }
          ],
          "surface": [
           {
            "colorbar": {
             "outlinewidth": 0,
             "ticks": ""
            },
            "colorscale": [
             [
              0,
              "#0d0887"
             ],
             [
              0.1111111111111111,
              "#46039f"
             ],
             [
              0.2222222222222222,
              "#7201a8"
             ],
             [
              0.3333333333333333,
              "#9c179e"
             ],
             [
              0.4444444444444444,
              "#bd3786"
             ],
             [
              0.5555555555555556,
              "#d8576b"
             ],
             [
              0.6666666666666666,
              "#ed7953"
             ],
             [
              0.7777777777777778,
              "#fb9f3a"
             ],
             [
              0.8888888888888888,
              "#fdca26"
             ],
             [
              1,
              "#f0f921"
             ]
            ],
            "type": "surface"
           }
          ],
          "table": [
           {
            "cells": {
             "fill": {
              "color": "#EBF0F8"
             },
             "line": {
              "color": "white"
             }
            },
            "header": {
             "fill": {
              "color": "#C8D4E3"
             },
             "line": {
              "color": "white"
             }
            },
            "type": "table"
           }
          ]
         },
         "layout": {
          "annotationdefaults": {
           "arrowcolor": "#2a3f5f",
           "arrowhead": 0,
           "arrowwidth": 1
          },
          "coloraxis": {
           "colorbar": {
            "outlinewidth": 0,
            "ticks": ""
           }
          },
          "colorscale": {
           "diverging": [
            [
             0,
             "#8e0152"
            ],
            [
             0.1,
             "#c51b7d"
            ],
            [
             0.2,
             "#de77ae"
            ],
            [
             0.3,
             "#f1b6da"
            ],
            [
             0.4,
             "#fde0ef"
            ],
            [
             0.5,
             "#f7f7f7"
            ],
            [
             0.6,
             "#e6f5d0"
            ],
            [
             0.7,
             "#b8e186"
            ],
            [
             0.8,
             "#7fbc41"
            ],
            [
             0.9,
             "#4d9221"
            ],
            [
             1,
             "#276419"
            ]
           ],
           "sequential": [
            [
             0,
             "#0d0887"
            ],
            [
             0.1111111111111111,
             "#46039f"
            ],
            [
             0.2222222222222222,
             "#7201a8"
            ],
            [
             0.3333333333333333,
             "#9c179e"
            ],
            [
             0.4444444444444444,
             "#bd3786"
            ],
            [
             0.5555555555555556,
             "#d8576b"
            ],
            [
             0.6666666666666666,
             "#ed7953"
            ],
            [
             0.7777777777777778,
             "#fb9f3a"
            ],
            [
             0.8888888888888888,
             "#fdca26"
            ],
            [
             1,
             "#f0f921"
            ]
           ],
           "sequentialminus": [
            [
             0,
             "#0d0887"
            ],
            [
             0.1111111111111111,
             "#46039f"
            ],
            [
             0.2222222222222222,
             "#7201a8"
            ],
            [
             0.3333333333333333,
             "#9c179e"
            ],
            [
             0.4444444444444444,
             "#bd3786"
            ],
            [
             0.5555555555555556,
             "#d8576b"
            ],
            [
             0.6666666666666666,
             "#ed7953"
            ],
            [
             0.7777777777777778,
             "#fb9f3a"
            ],
            [
             0.8888888888888888,
             "#fdca26"
            ],
            [
             1,
             "#f0f921"
            ]
           ]
          },
          "colorway": [
           "#636efa",
           "#EF553B",
           "#00cc96",
           "#ab63fa",
           "#FFA15A",
           "#19d3f3",
           "#FF6692",
           "#B6E880",
           "#FF97FF",
           "#FECB52"
          ],
          "font": {
           "color": "#2a3f5f"
          },
          "geo": {
           "bgcolor": "white",
           "lakecolor": "white",
           "landcolor": "#E5ECF6",
           "showlakes": true,
           "showland": true,
           "subunitcolor": "white"
          },
          "hoverlabel": {
           "align": "left"
          },
          "hovermode": "closest",
          "mapbox": {
           "style": "light"
          },
          "paper_bgcolor": "white",
          "plot_bgcolor": "#E5ECF6",
          "polar": {
           "angularaxis": {
            "gridcolor": "white",
            "linecolor": "white",
            "ticks": ""
           },
           "bgcolor": "#E5ECF6",
           "radialaxis": {
            "gridcolor": "white",
            "linecolor": "white",
            "ticks": ""
           }
          },
          "scene": {
           "xaxis": {
            "backgroundcolor": "#E5ECF6",
            "gridcolor": "white",
            "gridwidth": 2,
            "linecolor": "white",
            "showbackground": true,
            "ticks": "",
            "zerolinecolor": "white"
           },
           "yaxis": {
            "backgroundcolor": "#E5ECF6",
            "gridcolor": "white",
            "gridwidth": 2,
            "linecolor": "white",
            "showbackground": true,
            "ticks": "",
            "zerolinecolor": "white"
           },
           "zaxis": {
            "backgroundcolor": "#E5ECF6",
            "gridcolor": "white",
            "gridwidth": 2,
            "linecolor": "white",
            "showbackground": true,
            "ticks": "",
            "zerolinecolor": "white"
           }
          },
          "shapedefaults": {
           "line": {
            "color": "#2a3f5f"
           }
          },
          "ternary": {
           "aaxis": {
            "gridcolor": "white",
            "linecolor": "white",
            "ticks": ""
           },
           "baxis": {
            "gridcolor": "white",
            "linecolor": "white",
            "ticks": ""
           },
           "bgcolor": "#E5ECF6",
           "caxis": {
            "gridcolor": "white",
            "linecolor": "white",
            "ticks": ""
           }
          },
          "title": {
           "x": 0.05
          },
          "xaxis": {
           "automargin": true,
           "gridcolor": "white",
           "linecolor": "white",
           "ticks": "",
           "title": {
            "standoff": 15
           },
           "zerolinecolor": "white",
           "zerolinewidth": 2
          },
          "yaxis": {
           "automargin": true,
           "gridcolor": "white",
           "linecolor": "white",
           "ticks": "",
           "title": {
            "standoff": 15
           },
           "zerolinecolor": "white",
           "zerolinewidth": 2
          }
         }
        },
        "updatemenus": [
         {
          "buttons": [
           {
            "args": [
             null,
             {
              "frame": {
               "duration": 500,
               "redraw": true
              },
              "fromcurrent": true,
              "mode": "immediate",
              "transition": {
               "duration": 500,
               "easing": "linear"
              }
             }
            ],
            "label": "&#9654;",
            "method": "animate"
           },
           {
            "args": [
             [
              null
             ],
             {
              "frame": {
               "duration": 0,
               "redraw": true
              },
              "fromcurrent": true,
              "mode": "immediate",
              "transition": {
               "duration": 0,
               "easing": "linear"
              }
             }
            ],
            "label": "&#9724;",
            "method": "animate"
           }
          ],
          "direction": "left",
          "pad": {
           "r": 10,
           "t": 70
          },
          "showactive": false,
          "type": "buttons",
          "x": 0.1,
          "xanchor": "right",
          "y": 0,
          "yanchor": "top"
         }
        ],
        "xaxis": {
         "anchor": "y",
         "domain": [
          0,
          1
         ],
         "title": {
          "text": "Question"
         }
        },
        "yaxis": {
         "anchor": "x",
         "domain": [
          0,
          1
         ],
         "range": [
          0,
          1
         ],
         "title": {
          "text": "Percentage"
         }
        }
       }
      },
      "text/html": [
       "<div>\n",
       "        \n",
       "        \n",
       "            <div id=\"b11a393e-2d24-48b1-84ec-66c330d706f2\" class=\"plotly-graph-div\" style=\"height:525px; width:100%;\"></div>\n",
       "            <script type=\"text/javascript\">\n",
       "                require([\"plotly\"], function(Plotly) {\n",
       "                    window.PLOTLYENV=window.PLOTLYENV || {};\n",
       "                    \n",
       "                if (document.getElementById(\"b11a393e-2d24-48b1-84ec-66c330d706f2\")) {\n",
       "                    Plotly.newPlot(\n",
       "                        'b11a393e-2d24-48b1-84ec-66c330d706f2',\n",
       "                        [{\"alignmentgroup\": \"True\", \"hovertemplate\": \"<b>%{hovertext}</b><br><br>Year=2014<br>Question=%{x}<br>Percentage=%{y}<extra></extra>\", \"hovertext\": [\"Aspecto Visual\", \"Navega\\u00e7\\u00e3o na Ferramenta\", \"Perguntas\", \"Exemplos\", \"V\\u00eddeos\", \"Modelo de Neg\\u00f3cios\", \"Indica\\u00e7\\u00f5es de Interface\", \"Mural de equipa\", \"Gest\\u00e3o de equipa\", \"Gest\\u00e3o de projectos\"], \"legendgroup\": \"\", \"marker\": {\"color\": \"#636efa\"}, \"name\": \"\", \"offsetgroup\": \"\", \"orientation\": \"v\", \"showlegend\": false, \"textposition\": \"auto\", \"type\": \"bar\", \"x\": [\"Aspecto Visual\", \"Navega\\u00e7\\u00e3o na Ferramenta\", \"Perguntas\", \"Exemplos\", \"V\\u00eddeos\", \"Modelo de Neg\\u00f3cios\", \"Indica\\u00e7\\u00f5es de Interface\", \"Mural de equipa\", \"Gest\\u00e3o de equipa\", \"Gest\\u00e3o de projectos\"], \"xaxis\": \"x\", \"y\": [0.5851612903225807, 0.5748387096774193, 0.3335483870967742, 0.4316129032258065, 0.16322580645161291, 0.3832258064516129, 0.12387096774193547, 0.044516129032258066, 0.03612903225806452, 0.2812903225806452], \"yaxis\": \"y\"}],\n",
       "                        {\"barmode\": \"relative\", \"legend\": {\"tracegroupgap\": 0}, \"margin\": {\"t\": 60}, \"sliders\": [{\"active\": 0, \"currentvalue\": {\"prefix\": \"Year=\"}, \"len\": 0.9, \"pad\": {\"b\": 10, \"t\": 60}, \"steps\": [{\"args\": [[\"2014\"], {\"frame\": {\"duration\": 0, \"redraw\": true}, \"fromcurrent\": true, \"mode\": \"immediate\", \"transition\": {\"duration\": 0, \"easing\": \"linear\"}}], \"label\": \"2014\", \"method\": \"animate\"}, {\"args\": [[\"2015\"], {\"frame\": {\"duration\": 0, \"redraw\": true}, \"fromcurrent\": true, \"mode\": \"immediate\", \"transition\": {\"duration\": 0, \"easing\": \"linear\"}}], \"label\": \"2015\", \"method\": \"animate\"}, {\"args\": [[\"2016\"], {\"frame\": {\"duration\": 0, \"redraw\": true}, \"fromcurrent\": true, \"mode\": \"immediate\", \"transition\": {\"duration\": 0, \"easing\": \"linear\"}}], \"label\": \"2016\", \"method\": \"animate\"}, {\"args\": [[\"2017\"], {\"frame\": {\"duration\": 0, \"redraw\": true}, \"fromcurrent\": true, \"mode\": \"immediate\", \"transition\": {\"duration\": 0, \"easing\": \"linear\"}}], \"label\": \"2017\", \"method\": \"animate\"}, {\"args\": [[\"2018\"], {\"frame\": {\"duration\": 0, \"redraw\": true}, \"fromcurrent\": true, \"mode\": \"immediate\", \"transition\": {\"duration\": 0, \"easing\": \"linear\"}}], \"label\": \"2018\", \"method\": \"animate\"}], \"x\": 0.1, \"xanchor\": \"left\", \"y\": 0, \"yanchor\": \"top\"}], \"template\": {\"data\": {\"bar\": [{\"error_x\": {\"color\": \"#2a3f5f\"}, \"error_y\": {\"color\": \"#2a3f5f\"}, \"marker\": {\"line\": {\"color\": \"#E5ECF6\", \"width\": 0.5}}, \"type\": \"bar\"}], \"barpolar\": [{\"marker\": {\"line\": {\"color\": \"#E5ECF6\", \"width\": 0.5}}, \"type\": \"barpolar\"}], \"carpet\": [{\"aaxis\": {\"endlinecolor\": \"#2a3f5f\", \"gridcolor\": \"white\", \"linecolor\": \"white\", \"minorgridcolor\": \"white\", \"startlinecolor\": \"#2a3f5f\"}, \"baxis\": {\"endlinecolor\": \"#2a3f5f\", \"gridcolor\": \"white\", \"linecolor\": \"white\", \"minorgridcolor\": \"white\", \"startlinecolor\": \"#2a3f5f\"}, \"type\": \"carpet\"}], \"choropleth\": [{\"colorbar\": {\"outlinewidth\": 0, \"ticks\": \"\"}, \"type\": \"choropleth\"}], \"contour\": [{\"colorbar\": {\"outlinewidth\": 0, \"ticks\": \"\"}, \"colorscale\": [[0.0, \"#0d0887\"], [0.1111111111111111, \"#46039f\"], [0.2222222222222222, \"#7201a8\"], [0.3333333333333333, \"#9c179e\"], [0.4444444444444444, \"#bd3786\"], [0.5555555555555556, \"#d8576b\"], [0.6666666666666666, \"#ed7953\"], [0.7777777777777778, \"#fb9f3a\"], [0.8888888888888888, \"#fdca26\"], [1.0, \"#f0f921\"]], \"type\": \"contour\"}], \"contourcarpet\": [{\"colorbar\": {\"outlinewidth\": 0, \"ticks\": \"\"}, \"type\": \"contourcarpet\"}], \"heatmap\": [{\"colorbar\": {\"outlinewidth\": 0, \"ticks\": \"\"}, \"colorscale\": [[0.0, \"#0d0887\"], [0.1111111111111111, \"#46039f\"], [0.2222222222222222, \"#7201a8\"], [0.3333333333333333, \"#9c179e\"], [0.4444444444444444, \"#bd3786\"], [0.5555555555555556, \"#d8576b\"], [0.6666666666666666, \"#ed7953\"], [0.7777777777777778, \"#fb9f3a\"], [0.8888888888888888, \"#fdca26\"], [1.0, \"#f0f921\"]], \"type\": \"heatmap\"}], \"heatmapgl\": [{\"colorbar\": {\"outlinewidth\": 0, \"ticks\": \"\"}, \"colorscale\": [[0.0, \"#0d0887\"], [0.1111111111111111, \"#46039f\"], [0.2222222222222222, \"#7201a8\"], [0.3333333333333333, \"#9c179e\"], [0.4444444444444444, \"#bd3786\"], [0.5555555555555556, \"#d8576b\"], [0.6666666666666666, \"#ed7953\"], [0.7777777777777778, \"#fb9f3a\"], [0.8888888888888888, \"#fdca26\"], [1.0, \"#f0f921\"]], \"type\": \"heatmapgl\"}], \"histogram\": [{\"marker\": {\"colorbar\": {\"outlinewidth\": 0, \"ticks\": \"\"}}, \"type\": \"histogram\"}], \"histogram2d\": [{\"colorbar\": {\"outlinewidth\": 0, \"ticks\": \"\"}, \"colorscale\": [[0.0, \"#0d0887\"], [0.1111111111111111, \"#46039f\"], [0.2222222222222222, \"#7201a8\"], [0.3333333333333333, \"#9c179e\"], [0.4444444444444444, \"#bd3786\"], [0.5555555555555556, \"#d8576b\"], [0.6666666666666666, \"#ed7953\"], [0.7777777777777778, \"#fb9f3a\"], [0.8888888888888888, \"#fdca26\"], [1.0, \"#f0f921\"]], \"type\": \"histogram2d\"}], \"histogram2dcontour\": [{\"colorbar\": {\"outlinewidth\": 0, \"ticks\": \"\"}, \"colorscale\": [[0.0, \"#0d0887\"], [0.1111111111111111, \"#46039f\"], [0.2222222222222222, \"#7201a8\"], [0.3333333333333333, \"#9c179e\"], [0.4444444444444444, \"#bd3786\"], [0.5555555555555556, \"#d8576b\"], [0.6666666666666666, \"#ed7953\"], [0.7777777777777778, \"#fb9f3a\"], [0.8888888888888888, \"#fdca26\"], [1.0, \"#f0f921\"]], \"type\": \"histogram2dcontour\"}], \"mesh3d\": [{\"colorbar\": {\"outlinewidth\": 0, \"ticks\": \"\"}, \"type\": \"mesh3d\"}], \"parcoords\": [{\"line\": {\"colorbar\": {\"outlinewidth\": 0, \"ticks\": \"\"}}, \"type\": \"parcoords\"}], \"pie\": [{\"automargin\": true, \"type\": \"pie\"}], \"scatter\": [{\"marker\": {\"colorbar\": {\"outlinewidth\": 0, \"ticks\": \"\"}}, \"type\": \"scatter\"}], \"scatter3d\": [{\"line\": {\"colorbar\": {\"outlinewidth\": 0, \"ticks\": \"\"}}, \"marker\": {\"colorbar\": {\"outlinewidth\": 0, \"ticks\": \"\"}}, \"type\": \"scatter3d\"}], \"scattercarpet\": [{\"marker\": {\"colorbar\": {\"outlinewidth\": 0, \"ticks\": \"\"}}, \"type\": \"scattercarpet\"}], \"scattergeo\": [{\"marker\": {\"colorbar\": {\"outlinewidth\": 0, \"ticks\": \"\"}}, \"type\": \"scattergeo\"}], \"scattergl\": [{\"marker\": {\"colorbar\": {\"outlinewidth\": 0, \"ticks\": \"\"}}, \"type\": \"scattergl\"}], \"scattermapbox\": [{\"marker\": {\"colorbar\": {\"outlinewidth\": 0, \"ticks\": \"\"}}, \"type\": \"scattermapbox\"}], \"scatterpolar\": [{\"marker\": {\"colorbar\": {\"outlinewidth\": 0, \"ticks\": \"\"}}, \"type\": \"scatterpolar\"}], \"scatterpolargl\": [{\"marker\": {\"colorbar\": {\"outlinewidth\": 0, \"ticks\": \"\"}}, \"type\": \"scatterpolargl\"}], \"scatterternary\": [{\"marker\": {\"colorbar\": {\"outlinewidth\": 0, \"ticks\": \"\"}}, \"type\": \"scatterternary\"}], \"surface\": [{\"colorbar\": {\"outlinewidth\": 0, \"ticks\": \"\"}, \"colorscale\": [[0.0, \"#0d0887\"], [0.1111111111111111, \"#46039f\"], [0.2222222222222222, \"#7201a8\"], [0.3333333333333333, \"#9c179e\"], [0.4444444444444444, \"#bd3786\"], [0.5555555555555556, \"#d8576b\"], [0.6666666666666666, \"#ed7953\"], [0.7777777777777778, \"#fb9f3a\"], [0.8888888888888888, \"#fdca26\"], [1.0, \"#f0f921\"]], \"type\": \"surface\"}], \"table\": [{\"cells\": {\"fill\": {\"color\": \"#EBF0F8\"}, \"line\": {\"color\": \"white\"}}, \"header\": {\"fill\": {\"color\": \"#C8D4E3\"}, \"line\": {\"color\": \"white\"}}, \"type\": \"table\"}]}, \"layout\": {\"annotationdefaults\": {\"arrowcolor\": \"#2a3f5f\", \"arrowhead\": 0, \"arrowwidth\": 1}, \"coloraxis\": {\"colorbar\": {\"outlinewidth\": 0, \"ticks\": \"\"}}, \"colorscale\": {\"diverging\": [[0, \"#8e0152\"], [0.1, \"#c51b7d\"], [0.2, \"#de77ae\"], [0.3, \"#f1b6da\"], [0.4, \"#fde0ef\"], [0.5, \"#f7f7f7\"], [0.6, \"#e6f5d0\"], [0.7, \"#b8e186\"], [0.8, \"#7fbc41\"], [0.9, \"#4d9221\"], [1, \"#276419\"]], \"sequential\": [[0.0, \"#0d0887\"], [0.1111111111111111, \"#46039f\"], [0.2222222222222222, \"#7201a8\"], [0.3333333333333333, \"#9c179e\"], [0.4444444444444444, \"#bd3786\"], [0.5555555555555556, \"#d8576b\"], [0.6666666666666666, \"#ed7953\"], [0.7777777777777778, \"#fb9f3a\"], [0.8888888888888888, \"#fdca26\"], [1.0, \"#f0f921\"]], \"sequentialminus\": [[0.0, \"#0d0887\"], [0.1111111111111111, \"#46039f\"], [0.2222222222222222, \"#7201a8\"], [0.3333333333333333, \"#9c179e\"], [0.4444444444444444, \"#bd3786\"], [0.5555555555555556, \"#d8576b\"], [0.6666666666666666, \"#ed7953\"], [0.7777777777777778, \"#fb9f3a\"], [0.8888888888888888, \"#fdca26\"], [1.0, \"#f0f921\"]]}, \"colorway\": [\"#636efa\", \"#EF553B\", \"#00cc96\", \"#ab63fa\", \"#FFA15A\", \"#19d3f3\", \"#FF6692\", \"#B6E880\", \"#FF97FF\", \"#FECB52\"], \"font\": {\"color\": \"#2a3f5f\"}, \"geo\": {\"bgcolor\": \"white\", \"lakecolor\": \"white\", \"landcolor\": \"#E5ECF6\", \"showlakes\": true, \"showland\": true, \"subunitcolor\": \"white\"}, \"hoverlabel\": {\"align\": \"left\"}, \"hovermode\": \"closest\", \"mapbox\": {\"style\": \"light\"}, \"paper_bgcolor\": \"white\", \"plot_bgcolor\": \"#E5ECF6\", \"polar\": {\"angularaxis\": {\"gridcolor\": \"white\", \"linecolor\": \"white\", \"ticks\": \"\"}, \"bgcolor\": \"#E5ECF6\", \"radialaxis\": {\"gridcolor\": \"white\", \"linecolor\": \"white\", \"ticks\": \"\"}}, \"scene\": {\"xaxis\": {\"backgroundcolor\": \"#E5ECF6\", \"gridcolor\": \"white\", \"gridwidth\": 2, \"linecolor\": \"white\", \"showbackground\": true, \"ticks\": \"\", \"zerolinecolor\": \"white\"}, \"yaxis\": {\"backgroundcolor\": \"#E5ECF6\", \"gridcolor\": \"white\", \"gridwidth\": 2, \"linecolor\": \"white\", \"showbackground\": true, \"ticks\": \"\", \"zerolinecolor\": \"white\"}, \"zaxis\": {\"backgroundcolor\": \"#E5ECF6\", \"gridcolor\": \"white\", \"gridwidth\": 2, \"linecolor\": \"white\", \"showbackground\": true, \"ticks\": \"\", \"zerolinecolor\": \"white\"}}, \"shapedefaults\": {\"line\": {\"color\": \"#2a3f5f\"}}, \"ternary\": {\"aaxis\": {\"gridcolor\": \"white\", \"linecolor\": \"white\", \"ticks\": \"\"}, \"baxis\": {\"gridcolor\": \"white\", \"linecolor\": \"white\", \"ticks\": \"\"}, \"bgcolor\": \"#E5ECF6\", \"caxis\": {\"gridcolor\": \"white\", \"linecolor\": \"white\", \"ticks\": \"\"}}, \"title\": {\"x\": 0.05}, \"xaxis\": {\"automargin\": true, \"gridcolor\": \"white\", \"linecolor\": \"white\", \"ticks\": \"\", \"title\": {\"standoff\": 15}, \"zerolinecolor\": \"white\", \"zerolinewidth\": 2}, \"yaxis\": {\"automargin\": true, \"gridcolor\": \"white\", \"linecolor\": \"white\", \"ticks\": \"\", \"title\": {\"standoff\": 15}, \"zerolinecolor\": \"white\", \"zerolinewidth\": 2}}}, \"updatemenus\": [{\"buttons\": [{\"args\": [null, {\"frame\": {\"duration\": 500, \"redraw\": true}, \"fromcurrent\": true, \"mode\": \"immediate\", \"transition\": {\"duration\": 500, \"easing\": \"linear\"}}], \"label\": \"&#9654;\", \"method\": \"animate\"}, {\"args\": [[null], {\"frame\": {\"duration\": 0, \"redraw\": true}, \"fromcurrent\": true, \"mode\": \"immediate\", \"transition\": {\"duration\": 0, \"easing\": \"linear\"}}], \"label\": \"&#9724;\", \"method\": \"animate\"}], \"direction\": \"left\", \"pad\": {\"r\": 10, \"t\": 70}, \"showactive\": false, \"type\": \"buttons\", \"x\": 0.1, \"xanchor\": \"right\", \"y\": 0, \"yanchor\": \"top\"}], \"xaxis\": {\"anchor\": \"y\", \"domain\": [0.0, 1.0], \"title\": {\"text\": \"Question\"}}, \"yaxis\": {\"anchor\": \"x\", \"domain\": [0.0, 1.0], \"range\": [0, 1], \"title\": {\"text\": \"Percentage\"}}},\n",
       "                        {\"responsive\": true}\n",
       "                    ).then(function(){\n",
       "                            Plotly.addFrames('b11a393e-2d24-48b1-84ec-66c330d706f2', [{\"data\": [{\"alignmentgroup\": \"True\", \"hovertemplate\": \"<b>%{hovertext}</b><br><br>Year=2014<br>Question=%{x}<br>Percentage=%{y}<extra></extra>\", \"hovertext\": [\"Aspecto Visual\", \"Navega\\u00e7\\u00e3o na Ferramenta\", \"Perguntas\", \"Exemplos\", \"V\\u00eddeos\", \"Modelo de Neg\\u00f3cios\", \"Indica\\u00e7\\u00f5es de Interface\", \"Mural de equipa\", \"Gest\\u00e3o de equipa\", \"Gest\\u00e3o de projectos\"], \"legendgroup\": \"\", \"marker\": {\"color\": \"#636efa\"}, \"name\": \"\", \"offsetgroup\": \"\", \"orientation\": \"v\", \"showlegend\": false, \"textposition\": \"auto\", \"x\": [\"Aspecto Visual\", \"Navega\\u00e7\\u00e3o na Ferramenta\", \"Perguntas\", \"Exemplos\", \"V\\u00eddeos\", \"Modelo de Neg\\u00f3cios\", \"Indica\\u00e7\\u00f5es de Interface\", \"Mural de equipa\", \"Gest\\u00e3o de equipa\", \"Gest\\u00e3o de projectos\"], \"xaxis\": \"x\", \"y\": [0.5851612903225807, 0.5748387096774193, 0.3335483870967742, 0.4316129032258065, 0.16322580645161291, 0.3832258064516129, 0.12387096774193547, 0.044516129032258066, 0.03612903225806452, 0.2812903225806452], \"yaxis\": \"y\", \"type\": \"bar\"}], \"name\": \"2014\"}, {\"data\": [{\"alignmentgroup\": \"True\", \"hovertemplate\": \"<b>%{hovertext}</b><br><br>Year=2015<br>Question=%{x}<br>Percentage=%{y}<extra></extra>\", \"hovertext\": [\"Aspecto Visual\", \"Navega\\u00e7\\u00e3o na Ferramenta\", \"Perguntas\", \"Exemplos\", \"V\\u00eddeos\", \"Modelo de Neg\\u00f3cios\", \"Indica\\u00e7\\u00f5es de Interface\", \"Mural de equipa\", \"Gest\\u00e3o de equipa\", \"Gest\\u00e3o de projectos\"], \"legendgroup\": \"\", \"marker\": {\"color\": \"#636efa\"}, \"name\": \"\", \"offsetgroup\": \"\", \"orientation\": \"v\", \"showlegend\": false, \"textposition\": \"auto\", \"x\": [\"Aspecto Visual\", \"Navega\\u00e7\\u00e3o na Ferramenta\", \"Perguntas\", \"Exemplos\", \"V\\u00eddeos\", \"Modelo de Neg\\u00f3cios\", \"Indica\\u00e7\\u00f5es de Interface\", \"Mural de equipa\", \"Gest\\u00e3o de equipa\", \"Gest\\u00e3o de projectos\"], \"xaxis\": \"x\", \"y\": [0.4090909090909091, 0.5, 0.17045454545454544, 0.2840909090909091, 0.3636363636363637, 0.5340909090909091, 0.125, 0.045454545454545456, 0.045454545454545456, 0.4318181818181818], \"yaxis\": \"y\", \"type\": \"bar\"}], \"name\": \"2015\"}, {\"data\": [{\"alignmentgroup\": \"True\", \"hovertemplate\": \"<b>%{hovertext}</b><br><br>Year=2016<br>Question=%{x}<br>Percentage=%{y}<extra></extra>\", \"hovertext\": [\"Aspecto Visual\", \"Navega\\u00e7\\u00e3o na Ferramenta\", \"Perguntas\", \"Exemplos\", \"V\\u00eddeos\", \"Modelo de Neg\\u00f3cios\", \"Indica\\u00e7\\u00f5es de Interface\", \"Mural de equipa\", \"Gest\\u00e3o de equipa\", \"Gest\\u00e3o de projectos\"], \"legendgroup\": \"\", \"marker\": {\"color\": \"#636efa\"}, \"name\": \"\", \"offsetgroup\": \"\", \"orientation\": \"v\", \"showlegend\": false, \"textposition\": \"auto\", \"x\": [\"Aspecto Visual\", \"Navega\\u00e7\\u00e3o na Ferramenta\", \"Perguntas\", \"Exemplos\", \"V\\u00eddeos\", \"Modelo de Neg\\u00f3cios\", \"Indica\\u00e7\\u00f5es de Interface\", \"Mural de equipa\", \"Gest\\u00e3o de equipa\", \"Gest\\u00e3o de projectos\"], \"xaxis\": \"x\", \"y\": [0.4297188755020081, 0.4738955823293173, 0.2329317269076305, 0.3694779116465863, 0.3614457831325301, 0.5180722891566265, 0.1686746987951807, 0.0642570281124498, 0.10843373493975904, 0.3373493975903614], \"yaxis\": \"y\", \"type\": \"bar\"}], \"name\": \"2016\"}, {\"data\": [{\"alignmentgroup\": \"True\", \"hovertemplate\": \"<b>%{hovertext}</b><br><br>Year=2017<br>Question=%{x}<br>Percentage=%{y}<extra></extra>\", \"hovertext\": [\"Aspecto Visual\", \"Navega\\u00e7\\u00e3o na Ferramenta\", \"Perguntas\", \"Exemplos\", \"V\\u00eddeos\", \"Modelo de Neg\\u00f3cios\", \"Indica\\u00e7\\u00f5es de Interface\", \"Mural de equipa\", \"Gest\\u00e3o de equipa\", \"Gest\\u00e3o de projectos\"], \"legendgroup\": \"\", \"marker\": {\"color\": \"#636efa\"}, \"name\": \"\", \"offsetgroup\": \"\", \"orientation\": \"v\", \"showlegend\": false, \"textposition\": \"auto\", \"x\": [\"Aspecto Visual\", \"Navega\\u00e7\\u00e3o na Ferramenta\", \"Perguntas\", \"Exemplos\", \"V\\u00eddeos\", \"Modelo de Neg\\u00f3cios\", \"Indica\\u00e7\\u00f5es de Interface\", \"Mural de equipa\", \"Gest\\u00e3o de equipa\", \"Gest\\u00e3o de projectos\"], \"xaxis\": \"x\", \"y\": [0.5113122171945701, 0.6108597285067874, 0.25339366515837103, 0.4343891402714932, 0.6176470588235294, 0.5542986425339367, 0.2420814479638009, 0.05203619909502264, 0.10407239819004524, 0.3981900452488688], \"yaxis\": \"y\", \"type\": \"bar\"}], \"name\": \"2017\"}, {\"data\": [{\"alignmentgroup\": \"True\", \"hovertemplate\": \"<b>%{hovertext}</b><br><br>Year=2018<br>Question=%{x}<br>Percentage=%{y}<extra></extra>\", \"hovertext\": [\"Aspecto Visual\", \"Navega\\u00e7\\u00e3o na Ferramenta\", \"Perguntas\", \"Exemplos\", \"V\\u00eddeos\", \"Modelo de Neg\\u00f3cios\", \"Indica\\u00e7\\u00f5es de Interface\", \"Mural de equipa\", \"Gest\\u00e3o de equipa\", \"Gest\\u00e3o de projectos\"], \"legendgroup\": \"\", \"marker\": {\"color\": \"#636efa\"}, \"name\": \"\", \"offsetgroup\": \"\", \"orientation\": \"v\", \"showlegend\": false, \"textposition\": \"auto\", \"x\": [\"Aspecto Visual\", \"Navega\\u00e7\\u00e3o na Ferramenta\", \"Perguntas\", \"Exemplos\", \"V\\u00eddeos\", \"Modelo de Neg\\u00f3cios\", \"Indica\\u00e7\\u00f5es de Interface\", \"Mural de equipa\", \"Gest\\u00e3o de equipa\", \"Gest\\u00e3o de projectos\"], \"xaxis\": \"x\", \"y\": [0.5287356321839081, 0.603448275862069, 0.27011494252873564, 0.4160919540229885, 0.46781609195402296, 0.5494252873563218, 0.2367816091954023, 0.04367816091954023, 0.11149425287356322, 0.3402298850574713], \"yaxis\": \"y\", \"type\": \"bar\"}], \"name\": \"2018\"}]);\n",
       "                        }).then(function(){\n",
       "                            \n",
       "var gd = document.getElementById('b11a393e-2d24-48b1-84ec-66c330d706f2');\n",
       "var x = new MutationObserver(function (mutations, observer) {{\n",
       "        var display = window.getComputedStyle(gd).display;\n",
       "        if (!display || display === 'none') {{\n",
       "            console.log([gd, 'removed!']);\n",
       "            Plotly.purge(gd);\n",
       "            observer.disconnect();\n",
       "        }}\n",
       "}});\n",
       "\n",
       "// Listen for the removal of the full notebook cells\n",
       "var notebookContainer = gd.closest('#notebook-container');\n",
       "if (notebookContainer) {{\n",
       "    x.observe(notebookContainer, {childList: true});\n",
       "}}\n",
       "\n",
       "// Listen for the clearing of the current output cell\n",
       "var outputEl = gd.closest('.output');\n",
       "if (outputEl) {{\n",
       "    x.observe(outputEl, {childList: true});\n",
       "}}\n",
       "\n",
       "                        })\n",
       "                };\n",
       "                });\n",
       "            </script>\n",
       "        </div>"
      ]
     },
     "metadata": {},
     "output_type": "display_data"
    }
   ],
   "source": [
    "import plotly_express as px\n",
    "\n",
    "fig = px.bar(PositivosPerYear, x=\"Question\", y=\"Percentage\",\n",
    "            animation_frame='Year', hover_name='Question', range_y=[0,1])\n",
    "fig.show()"
   ]
  },
  {
   "cell_type": "code",
   "execution_count": 45,
   "metadata": {},
   "outputs": [
    {
     "data": {
      "application/vnd.plotly.v1+json": {
       "config": {
        "plotlyServerURL": "https://plot.ly"
       },
       "data": [
        {
         "alignmentgroup": "True",
         "hovertemplate": "<b>%{hovertext}</b><br><br>Year=2014<br>Question=%{x}<br>Percentage=%{y}<extra></extra>",
         "hovertext": [
          "Aspecto visual",
          "Navegação na Ferramenta",
          "Perguntas",
          "Exemplos",
          "Vídeos",
          "Modelo de Negócios",
          "Indicações de interface",
          "Mural de equipa",
          "Gestão de equipa",
          "Gestão de projectos"
         ],
         "legendgroup": "",
         "marker": {
          "color": "#636efa"
         },
         "name": "",
         "offsetgroup": "",
         "orientation": "v",
         "showlegend": false,
         "textposition": "auto",
         "type": "bar",
         "x": [
          "Aspecto visual",
          "Navegação na Ferramenta",
          "Perguntas",
          "Exemplos",
          "Vídeos",
          "Modelo de Negócios",
          "Indicações de interface",
          "Mural de equipa",
          "Gestão de equipa",
          "Gestão de projectos"
         ],
         "xaxis": "x",
         "y": [
          0.09806451612903226,
          0.17870967741935484,
          0.15935483870967745,
          0.20387096774193547,
          0.4154838709677419,
          0.08967741935483871,
          0.3109677419354839,
          0.3716129032258065,
          0.32193548387096776,
          0.13419354838709674
         ],
         "yaxis": "y"
        }
       ],
       "frames": [
        {
         "data": [
          {
           "alignmentgroup": "True",
           "hovertemplate": "<b>%{hovertext}</b><br><br>Year=2014<br>Question=%{x}<br>Percentage=%{y}<extra></extra>",
           "hovertext": [
            "Aspecto visual",
            "Navegação na Ferramenta",
            "Perguntas",
            "Exemplos",
            "Vídeos",
            "Modelo de Negócios",
            "Indicações de interface",
            "Mural de equipa",
            "Gestão de equipa",
            "Gestão de projectos"
           ],
           "legendgroup": "",
           "marker": {
            "color": "#636efa"
           },
           "name": "",
           "offsetgroup": "",
           "orientation": "v",
           "showlegend": false,
           "textposition": "auto",
           "type": "bar",
           "x": [
            "Aspecto visual",
            "Navegação na Ferramenta",
            "Perguntas",
            "Exemplos",
            "Vídeos",
            "Modelo de Negócios",
            "Indicações de interface",
            "Mural de equipa",
            "Gestão de equipa",
            "Gestão de projectos"
           ],
           "xaxis": "x",
           "y": [
            0.09806451612903226,
            0.17870967741935484,
            0.15935483870967745,
            0.20387096774193547,
            0.4154838709677419,
            0.08967741935483871,
            0.3109677419354839,
            0.3716129032258065,
            0.32193548387096776,
            0.13419354838709674
           ],
           "yaxis": "y"
          }
         ],
         "name": "2014"
        },
        {
         "data": [
          {
           "alignmentgroup": "True",
           "hovertemplate": "<b>%{hovertext}</b><br><br>Year=2015<br>Question=%{x}<br>Percentage=%{y}<extra></extra>",
           "hovertext": [
            "Aspecto visual",
            "Navegação na Ferramenta",
            "Perguntas",
            "Exemplos",
            "Vídeos",
            "Modelo de Negócios",
            "Indicações de interface",
            "Mural de equipa",
            "Gestão de equipa",
            "Gestão de projectos"
           ],
           "legendgroup": "",
           "marker": {
            "color": "#636efa"
           },
           "name": "",
           "offsetgroup": "",
           "orientation": "v",
           "showlegend": false,
           "textposition": "auto",
           "type": "bar",
           "x": [
            "Aspecto visual",
            "Navegação na Ferramenta",
            "Perguntas",
            "Exemplos",
            "Vídeos",
            "Modelo de Negócios",
            "Indicações de interface",
            "Mural de equipa",
            "Gestão de equipa",
            "Gestão de projectos"
           ],
           "xaxis": "x",
           "y": [
            0.14772727272727273,
            0.26136363636363635,
            0.25,
            0.23863636363636365,
            0.25,
            0.10227272727272728,
            0.3636363636363637,
            0.3181818181818182,
            0.2840909090909091,
            0.125
           ],
           "yaxis": "y"
          }
         ],
         "name": "2015"
        },
        {
         "data": [
          {
           "alignmentgroup": "True",
           "hovertemplate": "<b>%{hovertext}</b><br><br>Year=2016<br>Question=%{x}<br>Percentage=%{y}<extra></extra>",
           "hovertext": [
            "Aspecto visual",
            "Navegação na Ferramenta",
            "Perguntas",
            "Exemplos",
            "Vídeos",
            "Modelo de Negócios",
            "Indicações de interface",
            "Mural de equipa",
            "Gestão de equipa",
            "Gestão de projectos"
           ],
           "legendgroup": "",
           "marker": {
            "color": "#636efa"
           },
           "name": "",
           "offsetgroup": "",
           "orientation": "v",
           "showlegend": false,
           "textposition": "auto",
           "type": "bar",
           "x": [
            "Aspecto visual",
            "Navegação na Ferramenta",
            "Perguntas",
            "Exemplos",
            "Vídeos",
            "Modelo de Negócios",
            "Indicações de interface",
            "Mural de equipa",
            "Gestão de equipa",
            "Gestão de projectos"
           ],
           "xaxis": "x",
           "y": [
            0.14056224899598393,
            0.2289156626506024,
            0.22088353413654616,
            0.2329317269076305,
            0.17269076305220885,
            0.10441767068273093,
            0.3734939759036144,
            0.2891566265060241,
            0.20481927710843373,
            0.18875502008032127
           ],
           "yaxis": "y"
          }
         ],
         "name": "2016"
        },
        {
         "data": [
          {
           "alignmentgroup": "True",
           "hovertemplate": "<b>%{hovertext}</b><br><br>Year=2017<br>Question=%{x}<br>Percentage=%{y}<extra></extra>",
           "hovertext": [
            "Aspecto visual",
            "Navegação na Ferramenta",
            "Perguntas",
            "Exemplos",
            "Vídeos",
            "Modelo de Negócios",
            "Indicações de interface",
            "Mural de equipa",
            "Gestão de equipa",
            "Gestão de projectos"
           ],
           "legendgroup": "",
           "marker": {
            "color": "#636efa"
           },
           "name": "",
           "offsetgroup": "",
           "orientation": "v",
           "showlegend": false,
           "textposition": "auto",
           "type": "bar",
           "x": [
            "Aspecto visual",
            "Navegação na Ferramenta",
            "Perguntas",
            "Exemplos",
            "Vídeos",
            "Modelo de Negócios",
            "Indicações de interface",
            "Mural de equipa",
            "Gestão de equipa",
            "Gestão de projectos"
           ],
           "xaxis": "x",
           "y": [
            0.1334841628959276,
            0.2262443438914027,
            0.2398190045248869,
            0.2420814479638009,
            0.1425339366515837,
            0.0746606334841629,
            0.2963800904977376,
            0.2420814479638009,
            0.1809954751131221,
            0.1176470588235294
           ],
           "yaxis": "y"
          }
         ],
         "name": "2017"
        },
        {
         "data": [
          {
           "alignmentgroup": "True",
           "hovertemplate": "<b>%{hovertext}</b><br><br>Year=2018<br>Question=%{x}<br>Percentage=%{y}<extra></extra>",
           "hovertext": [
            "Aspecto visual",
            "Navegação na Ferramenta",
            "Perguntas",
            "Exemplos",
            "Vídeos",
            "Modelo de Negócios",
            "Indicações de interface",
            "Mural de equipa",
            "Gestão de equipa",
            "Gestão de projectos"
           ],
           "legendgroup": "",
           "marker": {
            "color": "#636efa"
           },
           "name": "",
           "offsetgroup": "",
           "orientation": "v",
           "showlegend": false,
           "textposition": "auto",
           "type": "bar",
           "x": [
            "Aspecto visual",
            "Navegação na Ferramenta",
            "Perguntas",
            "Exemplos",
            "Vídeos",
            "Modelo de Negócios",
            "Indicações de interface",
            "Mural de equipa",
            "Gestão de equipa",
            "Gestão de projectos"
           ],
           "xaxis": "x",
           "y": [
            0.15057471264367814,
            0.2183908045977012,
            0.3057471264367816,
            0.2988505747126437,
            0.206896551724138,
            0.0896551724137931,
            0.3275862068965517,
            0.2574712643678161,
            0.15402298850574714,
            0.10919540229885058
           ],
           "yaxis": "y"
          }
         ],
         "name": "2018"
        }
       ],
       "layout": {
        "barmode": "relative",
        "legend": {
         "tracegroupgap": 0
        },
        "margin": {
         "t": 60
        },
        "sliders": [
         {
          "active": 0,
          "currentvalue": {
           "prefix": "Year="
          },
          "len": 0.9,
          "pad": {
           "b": 10,
           "t": 60
          },
          "steps": [
           {
            "args": [
             [
              "2014"
             ],
             {
              "frame": {
               "duration": 0,
               "redraw": true
              },
              "fromcurrent": true,
              "mode": "immediate",
              "transition": {
               "duration": 0,
               "easing": "linear"
              }
             }
            ],
            "label": "2014",
            "method": "animate"
           },
           {
            "args": [
             [
              "2015"
             ],
             {
              "frame": {
               "duration": 0,
               "redraw": true
              },
              "fromcurrent": true,
              "mode": "immediate",
              "transition": {
               "duration": 0,
               "easing": "linear"
              }
             }
            ],
            "label": "2015",
            "method": "animate"
           },
           {
            "args": [
             [
              "2016"
             ],
             {
              "frame": {
               "duration": 0,
               "redraw": true
              },
              "fromcurrent": true,
              "mode": "immediate",
              "transition": {
               "duration": 0,
               "easing": "linear"
              }
             }
            ],
            "label": "2016",
            "method": "animate"
           },
           {
            "args": [
             [
              "2017"
             ],
             {
              "frame": {
               "duration": 0,
               "redraw": true
              },
              "fromcurrent": true,
              "mode": "immediate",
              "transition": {
               "duration": 0,
               "easing": "linear"
              }
             }
            ],
            "label": "2017",
            "method": "animate"
           },
           {
            "args": [
             [
              "2018"
             ],
             {
              "frame": {
               "duration": 0,
               "redraw": true
              },
              "fromcurrent": true,
              "mode": "immediate",
              "transition": {
               "duration": 0,
               "easing": "linear"
              }
             }
            ],
            "label": "2018",
            "method": "animate"
           }
          ],
          "x": 0.1,
          "xanchor": "left",
          "y": 0,
          "yanchor": "top"
         }
        ],
        "template": {
         "data": {
          "bar": [
           {
            "error_x": {
             "color": "#2a3f5f"
            },
            "error_y": {
             "color": "#2a3f5f"
            },
            "marker": {
             "line": {
              "color": "#E5ECF6",
              "width": 0.5
             }
            },
            "type": "bar"
           }
          ],
          "barpolar": [
           {
            "marker": {
             "line": {
              "color": "#E5ECF6",
              "width": 0.5
             }
            },
            "type": "barpolar"
           }
          ],
          "carpet": [
           {
            "aaxis": {
             "endlinecolor": "#2a3f5f",
             "gridcolor": "white",
             "linecolor": "white",
             "minorgridcolor": "white",
             "startlinecolor": "#2a3f5f"
            },
            "baxis": {
             "endlinecolor": "#2a3f5f",
             "gridcolor": "white",
             "linecolor": "white",
             "minorgridcolor": "white",
             "startlinecolor": "#2a3f5f"
            },
            "type": "carpet"
           }
          ],
          "choropleth": [
           {
            "colorbar": {
             "outlinewidth": 0,
             "ticks": ""
            },
            "type": "choropleth"
           }
          ],
          "contour": [
           {
            "colorbar": {
             "outlinewidth": 0,
             "ticks": ""
            },
            "colorscale": [
             [
              0,
              "#0d0887"
             ],
             [
              0.1111111111111111,
              "#46039f"
             ],
             [
              0.2222222222222222,
              "#7201a8"
             ],
             [
              0.3333333333333333,
              "#9c179e"
             ],
             [
              0.4444444444444444,
              "#bd3786"
             ],
             [
              0.5555555555555556,
              "#d8576b"
             ],
             [
              0.6666666666666666,
              "#ed7953"
             ],
             [
              0.7777777777777778,
              "#fb9f3a"
             ],
             [
              0.8888888888888888,
              "#fdca26"
             ],
             [
              1,
              "#f0f921"
             ]
            ],
            "type": "contour"
           }
          ],
          "contourcarpet": [
           {
            "colorbar": {
             "outlinewidth": 0,
             "ticks": ""
            },
            "type": "contourcarpet"
           }
          ],
          "heatmap": [
           {
            "colorbar": {
             "outlinewidth": 0,
             "ticks": ""
            },
            "colorscale": [
             [
              0,
              "#0d0887"
             ],
             [
              0.1111111111111111,
              "#46039f"
             ],
             [
              0.2222222222222222,
              "#7201a8"
             ],
             [
              0.3333333333333333,
              "#9c179e"
             ],
             [
              0.4444444444444444,
              "#bd3786"
             ],
             [
              0.5555555555555556,
              "#d8576b"
             ],
             [
              0.6666666666666666,
              "#ed7953"
             ],
             [
              0.7777777777777778,
              "#fb9f3a"
             ],
             [
              0.8888888888888888,
              "#fdca26"
             ],
             [
              1,
              "#f0f921"
             ]
            ],
            "type": "heatmap"
           }
          ],
          "heatmapgl": [
           {
            "colorbar": {
             "outlinewidth": 0,
             "ticks": ""
            },
            "colorscale": [
             [
              0,
              "#0d0887"
             ],
             [
              0.1111111111111111,
              "#46039f"
             ],
             [
              0.2222222222222222,
              "#7201a8"
             ],
             [
              0.3333333333333333,
              "#9c179e"
             ],
             [
              0.4444444444444444,
              "#bd3786"
             ],
             [
              0.5555555555555556,
              "#d8576b"
             ],
             [
              0.6666666666666666,
              "#ed7953"
             ],
             [
              0.7777777777777778,
              "#fb9f3a"
             ],
             [
              0.8888888888888888,
              "#fdca26"
             ],
             [
              1,
              "#f0f921"
             ]
            ],
            "type": "heatmapgl"
           }
          ],
          "histogram": [
           {
            "marker": {
             "colorbar": {
              "outlinewidth": 0,
              "ticks": ""
             }
            },
            "type": "histogram"
           }
          ],
          "histogram2d": [
           {
            "colorbar": {
             "outlinewidth": 0,
             "ticks": ""
            },
            "colorscale": [
             [
              0,
              "#0d0887"
             ],
             [
              0.1111111111111111,
              "#46039f"
             ],
             [
              0.2222222222222222,
              "#7201a8"
             ],
             [
              0.3333333333333333,
              "#9c179e"
             ],
             [
              0.4444444444444444,
              "#bd3786"
             ],
             [
              0.5555555555555556,
              "#d8576b"
             ],
             [
              0.6666666666666666,
              "#ed7953"
             ],
             [
              0.7777777777777778,
              "#fb9f3a"
             ],
             [
              0.8888888888888888,
              "#fdca26"
             ],
             [
              1,
              "#f0f921"
             ]
            ],
            "type": "histogram2d"
           }
          ],
          "histogram2dcontour": [
           {
            "colorbar": {
             "outlinewidth": 0,
             "ticks": ""
            },
            "colorscale": [
             [
              0,
              "#0d0887"
             ],
             [
              0.1111111111111111,
              "#46039f"
             ],
             [
              0.2222222222222222,
              "#7201a8"
             ],
             [
              0.3333333333333333,
              "#9c179e"
             ],
             [
              0.4444444444444444,
              "#bd3786"
             ],
             [
              0.5555555555555556,
              "#d8576b"
             ],
             [
              0.6666666666666666,
              "#ed7953"
             ],
             [
              0.7777777777777778,
              "#fb9f3a"
             ],
             [
              0.8888888888888888,
              "#fdca26"
             ],
             [
              1,
              "#f0f921"
             ]
            ],
            "type": "histogram2dcontour"
           }
          ],
          "mesh3d": [
           {
            "colorbar": {
             "outlinewidth": 0,
             "ticks": ""
            },
            "type": "mesh3d"
           }
          ],
          "parcoords": [
           {
            "line": {
             "colorbar": {
              "outlinewidth": 0,
              "ticks": ""
             }
            },
            "type": "parcoords"
           }
          ],
          "pie": [
           {
            "automargin": true,
            "type": "pie"
           }
          ],
          "scatter": [
           {
            "marker": {
             "colorbar": {
              "outlinewidth": 0,
              "ticks": ""
             }
            },
            "type": "scatter"
           }
          ],
          "scatter3d": [
           {
            "line": {
             "colorbar": {
              "outlinewidth": 0,
              "ticks": ""
             }
            },
            "marker": {
             "colorbar": {
              "outlinewidth": 0,
              "ticks": ""
             }
            },
            "type": "scatter3d"
           }
          ],
          "scattercarpet": [
           {
            "marker": {
             "colorbar": {
              "outlinewidth": 0,
              "ticks": ""
             }
            },
            "type": "scattercarpet"
           }
          ],
          "scattergeo": [
           {
            "marker": {
             "colorbar": {
              "outlinewidth": 0,
              "ticks": ""
             }
            },
            "type": "scattergeo"
           }
          ],
          "scattergl": [
           {
            "marker": {
             "colorbar": {
              "outlinewidth": 0,
              "ticks": ""
             }
            },
            "type": "scattergl"
           }
          ],
          "scattermapbox": [
           {
            "marker": {
             "colorbar": {
              "outlinewidth": 0,
              "ticks": ""
             }
            },
            "type": "scattermapbox"
           }
          ],
          "scatterpolar": [
           {
            "marker": {
             "colorbar": {
              "outlinewidth": 0,
              "ticks": ""
             }
            },
            "type": "scatterpolar"
           }
          ],
          "scatterpolargl": [
           {
            "marker": {
             "colorbar": {
              "outlinewidth": 0,
              "ticks": ""
             }
            },
            "type": "scatterpolargl"
           }
          ],
          "scatterternary": [
           {
            "marker": {
             "colorbar": {
              "outlinewidth": 0,
              "ticks": ""
             }
            },
            "type": "scatterternary"
           }
          ],
          "surface": [
           {
            "colorbar": {
             "outlinewidth": 0,
             "ticks": ""
            },
            "colorscale": [
             [
              0,
              "#0d0887"
             ],
             [
              0.1111111111111111,
              "#46039f"
             ],
             [
              0.2222222222222222,
              "#7201a8"
             ],
             [
              0.3333333333333333,
              "#9c179e"
             ],
             [
              0.4444444444444444,
              "#bd3786"
             ],
             [
              0.5555555555555556,
              "#d8576b"
             ],
             [
              0.6666666666666666,
              "#ed7953"
             ],
             [
              0.7777777777777778,
              "#fb9f3a"
             ],
             [
              0.8888888888888888,
              "#fdca26"
             ],
             [
              1,
              "#f0f921"
             ]
            ],
            "type": "surface"
           }
          ],
          "table": [
           {
            "cells": {
             "fill": {
              "color": "#EBF0F8"
             },
             "line": {
              "color": "white"
             }
            },
            "header": {
             "fill": {
              "color": "#C8D4E3"
             },
             "line": {
              "color": "white"
             }
            },
            "type": "table"
           }
          ]
         },
         "layout": {
          "annotationdefaults": {
           "arrowcolor": "#2a3f5f",
           "arrowhead": 0,
           "arrowwidth": 1
          },
          "coloraxis": {
           "colorbar": {
            "outlinewidth": 0,
            "ticks": ""
           }
          },
          "colorscale": {
           "diverging": [
            [
             0,
             "#8e0152"
            ],
            [
             0.1,
             "#c51b7d"
            ],
            [
             0.2,
             "#de77ae"
            ],
            [
             0.3,
             "#f1b6da"
            ],
            [
             0.4,
             "#fde0ef"
            ],
            [
             0.5,
             "#f7f7f7"
            ],
            [
             0.6,
             "#e6f5d0"
            ],
            [
             0.7,
             "#b8e186"
            ],
            [
             0.8,
             "#7fbc41"
            ],
            [
             0.9,
             "#4d9221"
            ],
            [
             1,
             "#276419"
            ]
           ],
           "sequential": [
            [
             0,
             "#0d0887"
            ],
            [
             0.1111111111111111,
             "#46039f"
            ],
            [
             0.2222222222222222,
             "#7201a8"
            ],
            [
             0.3333333333333333,
             "#9c179e"
            ],
            [
             0.4444444444444444,
             "#bd3786"
            ],
            [
             0.5555555555555556,
             "#d8576b"
            ],
            [
             0.6666666666666666,
             "#ed7953"
            ],
            [
             0.7777777777777778,
             "#fb9f3a"
            ],
            [
             0.8888888888888888,
             "#fdca26"
            ],
            [
             1,
             "#f0f921"
            ]
           ],
           "sequentialminus": [
            [
             0,
             "#0d0887"
            ],
            [
             0.1111111111111111,
             "#46039f"
            ],
            [
             0.2222222222222222,
             "#7201a8"
            ],
            [
             0.3333333333333333,
             "#9c179e"
            ],
            [
             0.4444444444444444,
             "#bd3786"
            ],
            [
             0.5555555555555556,
             "#d8576b"
            ],
            [
             0.6666666666666666,
             "#ed7953"
            ],
            [
             0.7777777777777778,
             "#fb9f3a"
            ],
            [
             0.8888888888888888,
             "#fdca26"
            ],
            [
             1,
             "#f0f921"
            ]
           ]
          },
          "colorway": [
           "#636efa",
           "#EF553B",
           "#00cc96",
           "#ab63fa",
           "#FFA15A",
           "#19d3f3",
           "#FF6692",
           "#B6E880",
           "#FF97FF",
           "#FECB52"
          ],
          "font": {
           "color": "#2a3f5f"
          },
          "geo": {
           "bgcolor": "white",
           "lakecolor": "white",
           "landcolor": "#E5ECF6",
           "showlakes": true,
           "showland": true,
           "subunitcolor": "white"
          },
          "hoverlabel": {
           "align": "left"
          },
          "hovermode": "closest",
          "mapbox": {
           "style": "light"
          },
          "paper_bgcolor": "white",
          "plot_bgcolor": "#E5ECF6",
          "polar": {
           "angularaxis": {
            "gridcolor": "white",
            "linecolor": "white",
            "ticks": ""
           },
           "bgcolor": "#E5ECF6",
           "radialaxis": {
            "gridcolor": "white",
            "linecolor": "white",
            "ticks": ""
           }
          },
          "scene": {
           "xaxis": {
            "backgroundcolor": "#E5ECF6",
            "gridcolor": "white",
            "gridwidth": 2,
            "linecolor": "white",
            "showbackground": true,
            "ticks": "",
            "zerolinecolor": "white"
           },
           "yaxis": {
            "backgroundcolor": "#E5ECF6",
            "gridcolor": "white",
            "gridwidth": 2,
            "linecolor": "white",
            "showbackground": true,
            "ticks": "",
            "zerolinecolor": "white"
           },
           "zaxis": {
            "backgroundcolor": "#E5ECF6",
            "gridcolor": "white",
            "gridwidth": 2,
            "linecolor": "white",
            "showbackground": true,
            "ticks": "",
            "zerolinecolor": "white"
           }
          },
          "shapedefaults": {
           "line": {
            "color": "#2a3f5f"
           }
          },
          "ternary": {
           "aaxis": {
            "gridcolor": "white",
            "linecolor": "white",
            "ticks": ""
           },
           "baxis": {
            "gridcolor": "white",
            "linecolor": "white",
            "ticks": ""
           },
           "bgcolor": "#E5ECF6",
           "caxis": {
            "gridcolor": "white",
            "linecolor": "white",
            "ticks": ""
           }
          },
          "title": {
           "x": 0.05
          },
          "xaxis": {
           "automargin": true,
           "gridcolor": "white",
           "linecolor": "white",
           "ticks": "",
           "title": {
            "standoff": 15
           },
           "zerolinecolor": "white",
           "zerolinewidth": 2
          },
          "yaxis": {
           "automargin": true,
           "gridcolor": "white",
           "linecolor": "white",
           "ticks": "",
           "title": {
            "standoff": 15
           },
           "zerolinecolor": "white",
           "zerolinewidth": 2
          }
         }
        },
        "updatemenus": [
         {
          "buttons": [
           {
            "args": [
             null,
             {
              "frame": {
               "duration": 500,
               "redraw": true
              },
              "fromcurrent": true,
              "mode": "immediate",
              "transition": {
               "duration": 500,
               "easing": "linear"
              }
             }
            ],
            "label": "&#9654;",
            "method": "animate"
           },
           {
            "args": [
             [
              null
             ],
             {
              "frame": {
               "duration": 0,
               "redraw": true
              },
              "fromcurrent": true,
              "mode": "immediate",
              "transition": {
               "duration": 0,
               "easing": "linear"
              }
             }
            ],
            "label": "&#9724;",
            "method": "animate"
           }
          ],
          "direction": "left",
          "pad": {
           "r": 10,
           "t": 70
          },
          "showactive": false,
          "type": "buttons",
          "x": 0.1,
          "xanchor": "right",
          "y": 0,
          "yanchor": "top"
         }
        ],
        "xaxis": {
         "anchor": "y",
         "domain": [
          0,
          1
         ],
         "title": {
          "text": "Question"
         }
        },
        "yaxis": {
         "anchor": "x",
         "domain": [
          0,
          1
         ],
         "range": [
          0,
          1
         ],
         "title": {
          "text": "Percentage"
         }
        }
       }
      },
      "text/html": [
       "<div>\n",
       "        \n",
       "        \n",
       "            <div id=\"9a298305-940e-4392-ae4d-213326072eb0\" class=\"plotly-graph-div\" style=\"height:525px; width:100%;\"></div>\n",
       "            <script type=\"text/javascript\">\n",
       "                require([\"plotly\"], function(Plotly) {\n",
       "                    window.PLOTLYENV=window.PLOTLYENV || {};\n",
       "                    \n",
       "                if (document.getElementById(\"9a298305-940e-4392-ae4d-213326072eb0\")) {\n",
       "                    Plotly.newPlot(\n",
       "                        '9a298305-940e-4392-ae4d-213326072eb0',\n",
       "                        [{\"alignmentgroup\": \"True\", \"hovertemplate\": \"<b>%{hovertext}</b><br><br>Year=2014<br>Question=%{x}<br>Percentage=%{y}<extra></extra>\", \"hovertext\": [\"Aspecto visual\", \"Navega\\u00e7\\u00e3o na Ferramenta\", \"Perguntas\", \"Exemplos\", \"V\\u00eddeos\", \"Modelo de Neg\\u00f3cios\", \"Indica\\u00e7\\u00f5es de interface\", \"Mural de equipa\", \"Gest\\u00e3o de equipa\", \"Gest\\u00e3o de projectos\"], \"legendgroup\": \"\", \"marker\": {\"color\": \"#636efa\"}, \"name\": \"\", \"offsetgroup\": \"\", \"orientation\": \"v\", \"showlegend\": false, \"textposition\": \"auto\", \"type\": \"bar\", \"x\": [\"Aspecto visual\", \"Navega\\u00e7\\u00e3o na Ferramenta\", \"Perguntas\", \"Exemplos\", \"V\\u00eddeos\", \"Modelo de Neg\\u00f3cios\", \"Indica\\u00e7\\u00f5es de interface\", \"Mural de equipa\", \"Gest\\u00e3o de equipa\", \"Gest\\u00e3o de projectos\"], \"xaxis\": \"x\", \"y\": [0.09806451612903226, 0.17870967741935484, 0.15935483870967745, 0.20387096774193547, 0.4154838709677419, 0.08967741935483871, 0.3109677419354839, 0.3716129032258065, 0.32193548387096776, 0.13419354838709674], \"yaxis\": \"y\"}],\n",
       "                        {\"barmode\": \"relative\", \"legend\": {\"tracegroupgap\": 0}, \"margin\": {\"t\": 60}, \"sliders\": [{\"active\": 0, \"currentvalue\": {\"prefix\": \"Year=\"}, \"len\": 0.9, \"pad\": {\"b\": 10, \"t\": 60}, \"steps\": [{\"args\": [[\"2014\"], {\"frame\": {\"duration\": 0, \"redraw\": true}, \"fromcurrent\": true, \"mode\": \"immediate\", \"transition\": {\"duration\": 0, \"easing\": \"linear\"}}], \"label\": \"2014\", \"method\": \"animate\"}, {\"args\": [[\"2015\"], {\"frame\": {\"duration\": 0, \"redraw\": true}, \"fromcurrent\": true, \"mode\": \"immediate\", \"transition\": {\"duration\": 0, \"easing\": \"linear\"}}], \"label\": \"2015\", \"method\": \"animate\"}, {\"args\": [[\"2016\"], {\"frame\": {\"duration\": 0, \"redraw\": true}, \"fromcurrent\": true, \"mode\": \"immediate\", \"transition\": {\"duration\": 0, \"easing\": \"linear\"}}], \"label\": \"2016\", \"method\": \"animate\"}, {\"args\": [[\"2017\"], {\"frame\": {\"duration\": 0, \"redraw\": true}, \"fromcurrent\": true, \"mode\": \"immediate\", \"transition\": {\"duration\": 0, \"easing\": \"linear\"}}], \"label\": \"2017\", \"method\": \"animate\"}, {\"args\": [[\"2018\"], {\"frame\": {\"duration\": 0, \"redraw\": true}, \"fromcurrent\": true, \"mode\": \"immediate\", \"transition\": {\"duration\": 0, \"easing\": \"linear\"}}], \"label\": \"2018\", \"method\": \"animate\"}], \"x\": 0.1, \"xanchor\": \"left\", \"y\": 0, \"yanchor\": \"top\"}], \"template\": {\"data\": {\"bar\": [{\"error_x\": {\"color\": \"#2a3f5f\"}, \"error_y\": {\"color\": \"#2a3f5f\"}, \"marker\": {\"line\": {\"color\": \"#E5ECF6\", \"width\": 0.5}}, \"type\": \"bar\"}], \"barpolar\": [{\"marker\": {\"line\": {\"color\": \"#E5ECF6\", \"width\": 0.5}}, \"type\": \"barpolar\"}], \"carpet\": [{\"aaxis\": {\"endlinecolor\": \"#2a3f5f\", \"gridcolor\": \"white\", \"linecolor\": \"white\", \"minorgridcolor\": \"white\", \"startlinecolor\": \"#2a3f5f\"}, \"baxis\": {\"endlinecolor\": \"#2a3f5f\", \"gridcolor\": \"white\", \"linecolor\": \"white\", \"minorgridcolor\": \"white\", \"startlinecolor\": \"#2a3f5f\"}, \"type\": \"carpet\"}], \"choropleth\": [{\"colorbar\": {\"outlinewidth\": 0, \"ticks\": \"\"}, \"type\": \"choropleth\"}], \"contour\": [{\"colorbar\": {\"outlinewidth\": 0, \"ticks\": \"\"}, \"colorscale\": [[0.0, \"#0d0887\"], [0.1111111111111111, \"#46039f\"], [0.2222222222222222, \"#7201a8\"], [0.3333333333333333, \"#9c179e\"], [0.4444444444444444, \"#bd3786\"], [0.5555555555555556, \"#d8576b\"], [0.6666666666666666, \"#ed7953\"], [0.7777777777777778, \"#fb9f3a\"], [0.8888888888888888, \"#fdca26\"], [1.0, \"#f0f921\"]], \"type\": \"contour\"}], \"contourcarpet\": [{\"colorbar\": {\"outlinewidth\": 0, \"ticks\": \"\"}, \"type\": \"contourcarpet\"}], \"heatmap\": [{\"colorbar\": {\"outlinewidth\": 0, \"ticks\": \"\"}, \"colorscale\": [[0.0, \"#0d0887\"], [0.1111111111111111, \"#46039f\"], [0.2222222222222222, \"#7201a8\"], [0.3333333333333333, \"#9c179e\"], [0.4444444444444444, \"#bd3786\"], [0.5555555555555556, \"#d8576b\"], [0.6666666666666666, \"#ed7953\"], [0.7777777777777778, \"#fb9f3a\"], [0.8888888888888888, \"#fdca26\"], [1.0, \"#f0f921\"]], \"type\": \"heatmap\"}], \"heatmapgl\": [{\"colorbar\": {\"outlinewidth\": 0, \"ticks\": \"\"}, \"colorscale\": [[0.0, \"#0d0887\"], [0.1111111111111111, \"#46039f\"], [0.2222222222222222, \"#7201a8\"], [0.3333333333333333, \"#9c179e\"], [0.4444444444444444, \"#bd3786\"], [0.5555555555555556, \"#d8576b\"], [0.6666666666666666, \"#ed7953\"], [0.7777777777777778, \"#fb9f3a\"], [0.8888888888888888, \"#fdca26\"], [1.0, \"#f0f921\"]], \"type\": \"heatmapgl\"}], \"histogram\": [{\"marker\": {\"colorbar\": {\"outlinewidth\": 0, \"ticks\": \"\"}}, \"type\": \"histogram\"}], \"histogram2d\": [{\"colorbar\": {\"outlinewidth\": 0, \"ticks\": \"\"}, \"colorscale\": [[0.0, \"#0d0887\"], [0.1111111111111111, \"#46039f\"], [0.2222222222222222, \"#7201a8\"], [0.3333333333333333, \"#9c179e\"], [0.4444444444444444, \"#bd3786\"], [0.5555555555555556, \"#d8576b\"], [0.6666666666666666, \"#ed7953\"], [0.7777777777777778, \"#fb9f3a\"], [0.8888888888888888, \"#fdca26\"], [1.0, \"#f0f921\"]], \"type\": \"histogram2d\"}], \"histogram2dcontour\": [{\"colorbar\": {\"outlinewidth\": 0, \"ticks\": \"\"}, \"colorscale\": [[0.0, \"#0d0887\"], [0.1111111111111111, \"#46039f\"], [0.2222222222222222, \"#7201a8\"], [0.3333333333333333, \"#9c179e\"], [0.4444444444444444, \"#bd3786\"], [0.5555555555555556, \"#d8576b\"], [0.6666666666666666, \"#ed7953\"], [0.7777777777777778, \"#fb9f3a\"], [0.8888888888888888, \"#fdca26\"], [1.0, \"#f0f921\"]], \"type\": \"histogram2dcontour\"}], \"mesh3d\": [{\"colorbar\": {\"outlinewidth\": 0, \"ticks\": \"\"}, \"type\": \"mesh3d\"}], \"parcoords\": [{\"line\": {\"colorbar\": {\"outlinewidth\": 0, \"ticks\": \"\"}}, \"type\": \"parcoords\"}], \"pie\": [{\"automargin\": true, \"type\": \"pie\"}], \"scatter\": [{\"marker\": {\"colorbar\": {\"outlinewidth\": 0, \"ticks\": \"\"}}, \"type\": \"scatter\"}], \"scatter3d\": [{\"line\": {\"colorbar\": {\"outlinewidth\": 0, \"ticks\": \"\"}}, \"marker\": {\"colorbar\": {\"outlinewidth\": 0, \"ticks\": \"\"}}, \"type\": \"scatter3d\"}], \"scattercarpet\": [{\"marker\": {\"colorbar\": {\"outlinewidth\": 0, \"ticks\": \"\"}}, \"type\": \"scattercarpet\"}], \"scattergeo\": [{\"marker\": {\"colorbar\": {\"outlinewidth\": 0, \"ticks\": \"\"}}, \"type\": \"scattergeo\"}], \"scattergl\": [{\"marker\": {\"colorbar\": {\"outlinewidth\": 0, \"ticks\": \"\"}}, \"type\": \"scattergl\"}], \"scattermapbox\": [{\"marker\": {\"colorbar\": {\"outlinewidth\": 0, \"ticks\": \"\"}}, \"type\": \"scattermapbox\"}], \"scatterpolar\": [{\"marker\": {\"colorbar\": {\"outlinewidth\": 0, \"ticks\": \"\"}}, \"type\": \"scatterpolar\"}], \"scatterpolargl\": [{\"marker\": {\"colorbar\": {\"outlinewidth\": 0, \"ticks\": \"\"}}, \"type\": \"scatterpolargl\"}], \"scatterternary\": [{\"marker\": {\"colorbar\": {\"outlinewidth\": 0, \"ticks\": \"\"}}, \"type\": \"scatterternary\"}], \"surface\": [{\"colorbar\": {\"outlinewidth\": 0, \"ticks\": \"\"}, \"colorscale\": [[0.0, \"#0d0887\"], [0.1111111111111111, \"#46039f\"], [0.2222222222222222, \"#7201a8\"], [0.3333333333333333, \"#9c179e\"], [0.4444444444444444, \"#bd3786\"], [0.5555555555555556, \"#d8576b\"], [0.6666666666666666, \"#ed7953\"], [0.7777777777777778, \"#fb9f3a\"], [0.8888888888888888, \"#fdca26\"], [1.0, \"#f0f921\"]], \"type\": \"surface\"}], \"table\": [{\"cells\": {\"fill\": {\"color\": \"#EBF0F8\"}, \"line\": {\"color\": \"white\"}}, \"header\": {\"fill\": {\"color\": \"#C8D4E3\"}, \"line\": {\"color\": \"white\"}}, \"type\": \"table\"}]}, \"layout\": {\"annotationdefaults\": {\"arrowcolor\": \"#2a3f5f\", \"arrowhead\": 0, \"arrowwidth\": 1}, \"coloraxis\": {\"colorbar\": {\"outlinewidth\": 0, \"ticks\": \"\"}}, \"colorscale\": {\"diverging\": [[0, \"#8e0152\"], [0.1, \"#c51b7d\"], [0.2, \"#de77ae\"], [0.3, \"#f1b6da\"], [0.4, \"#fde0ef\"], [0.5, \"#f7f7f7\"], [0.6, \"#e6f5d0\"], [0.7, \"#b8e186\"], [0.8, \"#7fbc41\"], [0.9, \"#4d9221\"], [1, \"#276419\"]], \"sequential\": [[0.0, \"#0d0887\"], [0.1111111111111111, \"#46039f\"], [0.2222222222222222, \"#7201a8\"], [0.3333333333333333, \"#9c179e\"], [0.4444444444444444, \"#bd3786\"], [0.5555555555555556, \"#d8576b\"], [0.6666666666666666, \"#ed7953\"], [0.7777777777777778, \"#fb9f3a\"], [0.8888888888888888, \"#fdca26\"], [1.0, \"#f0f921\"]], \"sequentialminus\": [[0.0, \"#0d0887\"], [0.1111111111111111, \"#46039f\"], [0.2222222222222222, \"#7201a8\"], [0.3333333333333333, \"#9c179e\"], [0.4444444444444444, \"#bd3786\"], [0.5555555555555556, \"#d8576b\"], [0.6666666666666666, \"#ed7953\"], [0.7777777777777778, \"#fb9f3a\"], [0.8888888888888888, \"#fdca26\"], [1.0, \"#f0f921\"]]}, \"colorway\": [\"#636efa\", \"#EF553B\", \"#00cc96\", \"#ab63fa\", \"#FFA15A\", \"#19d3f3\", \"#FF6692\", \"#B6E880\", \"#FF97FF\", \"#FECB52\"], \"font\": {\"color\": \"#2a3f5f\"}, \"geo\": {\"bgcolor\": \"white\", \"lakecolor\": \"white\", \"landcolor\": \"#E5ECF6\", \"showlakes\": true, \"showland\": true, \"subunitcolor\": \"white\"}, \"hoverlabel\": {\"align\": \"left\"}, \"hovermode\": \"closest\", \"mapbox\": {\"style\": \"light\"}, \"paper_bgcolor\": \"white\", \"plot_bgcolor\": \"#E5ECF6\", \"polar\": {\"angularaxis\": {\"gridcolor\": \"white\", \"linecolor\": \"white\", \"ticks\": \"\"}, \"bgcolor\": \"#E5ECF6\", \"radialaxis\": {\"gridcolor\": \"white\", \"linecolor\": \"white\", \"ticks\": \"\"}}, \"scene\": {\"xaxis\": {\"backgroundcolor\": \"#E5ECF6\", \"gridcolor\": \"white\", \"gridwidth\": 2, \"linecolor\": \"white\", \"showbackground\": true, \"ticks\": \"\", \"zerolinecolor\": \"white\"}, \"yaxis\": {\"backgroundcolor\": \"#E5ECF6\", \"gridcolor\": \"white\", \"gridwidth\": 2, \"linecolor\": \"white\", \"showbackground\": true, \"ticks\": \"\", \"zerolinecolor\": \"white\"}, \"zaxis\": {\"backgroundcolor\": \"#E5ECF6\", \"gridcolor\": \"white\", \"gridwidth\": 2, \"linecolor\": \"white\", \"showbackground\": true, \"ticks\": \"\", \"zerolinecolor\": \"white\"}}, \"shapedefaults\": {\"line\": {\"color\": \"#2a3f5f\"}}, \"ternary\": {\"aaxis\": {\"gridcolor\": \"white\", \"linecolor\": \"white\", \"ticks\": \"\"}, \"baxis\": {\"gridcolor\": \"white\", \"linecolor\": \"white\", \"ticks\": \"\"}, \"bgcolor\": \"#E5ECF6\", \"caxis\": {\"gridcolor\": \"white\", \"linecolor\": \"white\", \"ticks\": \"\"}}, \"title\": {\"x\": 0.05}, \"xaxis\": {\"automargin\": true, \"gridcolor\": \"white\", \"linecolor\": \"white\", \"ticks\": \"\", \"title\": {\"standoff\": 15}, \"zerolinecolor\": \"white\", \"zerolinewidth\": 2}, \"yaxis\": {\"automargin\": true, \"gridcolor\": \"white\", \"linecolor\": \"white\", \"ticks\": \"\", \"title\": {\"standoff\": 15}, \"zerolinecolor\": \"white\", \"zerolinewidth\": 2}}}, \"updatemenus\": [{\"buttons\": [{\"args\": [null, {\"frame\": {\"duration\": 500, \"redraw\": true}, \"fromcurrent\": true, \"mode\": \"immediate\", \"transition\": {\"duration\": 500, \"easing\": \"linear\"}}], \"label\": \"&#9654;\", \"method\": \"animate\"}, {\"args\": [[null], {\"frame\": {\"duration\": 0, \"redraw\": true}, \"fromcurrent\": true, \"mode\": \"immediate\", \"transition\": {\"duration\": 0, \"easing\": \"linear\"}}], \"label\": \"&#9724;\", \"method\": \"animate\"}], \"direction\": \"left\", \"pad\": {\"r\": 10, \"t\": 70}, \"showactive\": false, \"type\": \"buttons\", \"x\": 0.1, \"xanchor\": \"right\", \"y\": 0, \"yanchor\": \"top\"}], \"xaxis\": {\"anchor\": \"y\", \"domain\": [0.0, 1.0], \"title\": {\"text\": \"Question\"}}, \"yaxis\": {\"anchor\": \"x\", \"domain\": [0.0, 1.0], \"range\": [0, 1], \"title\": {\"text\": \"Percentage\"}}},\n",
       "                        {\"responsive\": true}\n",
       "                    ).then(function(){\n",
       "                            Plotly.addFrames('9a298305-940e-4392-ae4d-213326072eb0', [{\"data\": [{\"alignmentgroup\": \"True\", \"hovertemplate\": \"<b>%{hovertext}</b><br><br>Year=2014<br>Question=%{x}<br>Percentage=%{y}<extra></extra>\", \"hovertext\": [\"Aspecto visual\", \"Navega\\u00e7\\u00e3o na Ferramenta\", \"Perguntas\", \"Exemplos\", \"V\\u00eddeos\", \"Modelo de Neg\\u00f3cios\", \"Indica\\u00e7\\u00f5es de interface\", \"Mural de equipa\", \"Gest\\u00e3o de equipa\", \"Gest\\u00e3o de projectos\"], \"legendgroup\": \"\", \"marker\": {\"color\": \"#636efa\"}, \"name\": \"\", \"offsetgroup\": \"\", \"orientation\": \"v\", \"showlegend\": false, \"textposition\": \"auto\", \"x\": [\"Aspecto visual\", \"Navega\\u00e7\\u00e3o na Ferramenta\", \"Perguntas\", \"Exemplos\", \"V\\u00eddeos\", \"Modelo de Neg\\u00f3cios\", \"Indica\\u00e7\\u00f5es de interface\", \"Mural de equipa\", \"Gest\\u00e3o de equipa\", \"Gest\\u00e3o de projectos\"], \"xaxis\": \"x\", \"y\": [0.09806451612903226, 0.17870967741935484, 0.15935483870967745, 0.20387096774193547, 0.4154838709677419, 0.08967741935483871, 0.3109677419354839, 0.3716129032258065, 0.32193548387096776, 0.13419354838709674], \"yaxis\": \"y\", \"type\": \"bar\"}], \"name\": \"2014\"}, {\"data\": [{\"alignmentgroup\": \"True\", \"hovertemplate\": \"<b>%{hovertext}</b><br><br>Year=2015<br>Question=%{x}<br>Percentage=%{y}<extra></extra>\", \"hovertext\": [\"Aspecto visual\", \"Navega\\u00e7\\u00e3o na Ferramenta\", \"Perguntas\", \"Exemplos\", \"V\\u00eddeos\", \"Modelo de Neg\\u00f3cios\", \"Indica\\u00e7\\u00f5es de interface\", \"Mural de equipa\", \"Gest\\u00e3o de equipa\", \"Gest\\u00e3o de projectos\"], \"legendgroup\": \"\", \"marker\": {\"color\": \"#636efa\"}, \"name\": \"\", \"offsetgroup\": \"\", \"orientation\": \"v\", \"showlegend\": false, \"textposition\": \"auto\", \"x\": [\"Aspecto visual\", \"Navega\\u00e7\\u00e3o na Ferramenta\", \"Perguntas\", \"Exemplos\", \"V\\u00eddeos\", \"Modelo de Neg\\u00f3cios\", \"Indica\\u00e7\\u00f5es de interface\", \"Mural de equipa\", \"Gest\\u00e3o de equipa\", \"Gest\\u00e3o de projectos\"], \"xaxis\": \"x\", \"y\": [0.14772727272727273, 0.26136363636363635, 0.25, 0.23863636363636365, 0.25, 0.10227272727272728, 0.3636363636363637, 0.3181818181818182, 0.2840909090909091, 0.125], \"yaxis\": \"y\", \"type\": \"bar\"}], \"name\": \"2015\"}, {\"data\": [{\"alignmentgroup\": \"True\", \"hovertemplate\": \"<b>%{hovertext}</b><br><br>Year=2016<br>Question=%{x}<br>Percentage=%{y}<extra></extra>\", \"hovertext\": [\"Aspecto visual\", \"Navega\\u00e7\\u00e3o na Ferramenta\", \"Perguntas\", \"Exemplos\", \"V\\u00eddeos\", \"Modelo de Neg\\u00f3cios\", \"Indica\\u00e7\\u00f5es de interface\", \"Mural de equipa\", \"Gest\\u00e3o de equipa\", \"Gest\\u00e3o de projectos\"], \"legendgroup\": \"\", \"marker\": {\"color\": \"#636efa\"}, \"name\": \"\", \"offsetgroup\": \"\", \"orientation\": \"v\", \"showlegend\": false, \"textposition\": \"auto\", \"x\": [\"Aspecto visual\", \"Navega\\u00e7\\u00e3o na Ferramenta\", \"Perguntas\", \"Exemplos\", \"V\\u00eddeos\", \"Modelo de Neg\\u00f3cios\", \"Indica\\u00e7\\u00f5es de interface\", \"Mural de equipa\", \"Gest\\u00e3o de equipa\", \"Gest\\u00e3o de projectos\"], \"xaxis\": \"x\", \"y\": [0.14056224899598393, 0.2289156626506024, 0.22088353413654616, 0.2329317269076305, 0.17269076305220885, 0.10441767068273093, 0.3734939759036144, 0.2891566265060241, 0.20481927710843373, 0.18875502008032127], \"yaxis\": \"y\", \"type\": \"bar\"}], \"name\": \"2016\"}, {\"data\": [{\"alignmentgroup\": \"True\", \"hovertemplate\": \"<b>%{hovertext}</b><br><br>Year=2017<br>Question=%{x}<br>Percentage=%{y}<extra></extra>\", \"hovertext\": [\"Aspecto visual\", \"Navega\\u00e7\\u00e3o na Ferramenta\", \"Perguntas\", \"Exemplos\", \"V\\u00eddeos\", \"Modelo de Neg\\u00f3cios\", \"Indica\\u00e7\\u00f5es de interface\", \"Mural de equipa\", \"Gest\\u00e3o de equipa\", \"Gest\\u00e3o de projectos\"], \"legendgroup\": \"\", \"marker\": {\"color\": \"#636efa\"}, \"name\": \"\", \"offsetgroup\": \"\", \"orientation\": \"v\", \"showlegend\": false, \"textposition\": \"auto\", \"x\": [\"Aspecto visual\", \"Navega\\u00e7\\u00e3o na Ferramenta\", \"Perguntas\", \"Exemplos\", \"V\\u00eddeos\", \"Modelo de Neg\\u00f3cios\", \"Indica\\u00e7\\u00f5es de interface\", \"Mural de equipa\", \"Gest\\u00e3o de equipa\", \"Gest\\u00e3o de projectos\"], \"xaxis\": \"x\", \"y\": [0.1334841628959276, 0.2262443438914027, 0.2398190045248869, 0.2420814479638009, 0.1425339366515837, 0.0746606334841629, 0.2963800904977376, 0.2420814479638009, 0.1809954751131221, 0.1176470588235294], \"yaxis\": \"y\", \"type\": \"bar\"}], \"name\": \"2017\"}, {\"data\": [{\"alignmentgroup\": \"True\", \"hovertemplate\": \"<b>%{hovertext}</b><br><br>Year=2018<br>Question=%{x}<br>Percentage=%{y}<extra></extra>\", \"hovertext\": [\"Aspecto visual\", \"Navega\\u00e7\\u00e3o na Ferramenta\", \"Perguntas\", \"Exemplos\", \"V\\u00eddeos\", \"Modelo de Neg\\u00f3cios\", \"Indica\\u00e7\\u00f5es de interface\", \"Mural de equipa\", \"Gest\\u00e3o de equipa\", \"Gest\\u00e3o de projectos\"], \"legendgroup\": \"\", \"marker\": {\"color\": \"#636efa\"}, \"name\": \"\", \"offsetgroup\": \"\", \"orientation\": \"v\", \"showlegend\": false, \"textposition\": \"auto\", \"x\": [\"Aspecto visual\", \"Navega\\u00e7\\u00e3o na Ferramenta\", \"Perguntas\", \"Exemplos\", \"V\\u00eddeos\", \"Modelo de Neg\\u00f3cios\", \"Indica\\u00e7\\u00f5es de interface\", \"Mural de equipa\", \"Gest\\u00e3o de equipa\", \"Gest\\u00e3o de projectos\"], \"xaxis\": \"x\", \"y\": [0.15057471264367814, 0.2183908045977012, 0.3057471264367816, 0.2988505747126437, 0.206896551724138, 0.0896551724137931, 0.3275862068965517, 0.2574712643678161, 0.15402298850574714, 0.10919540229885058], \"yaxis\": \"y\", \"type\": \"bar\"}], \"name\": \"2018\"}]);\n",
       "                        }).then(function(){\n",
       "                            \n",
       "var gd = document.getElementById('9a298305-940e-4392-ae4d-213326072eb0');\n",
       "var x = new MutationObserver(function (mutations, observer) {{\n",
       "        var display = window.getComputedStyle(gd).display;\n",
       "        if (!display || display === 'none') {{\n",
       "            console.log([gd, 'removed!']);\n",
       "            Plotly.purge(gd);\n",
       "            observer.disconnect();\n",
       "        }}\n",
       "}});\n",
       "\n",
       "// Listen for the removal of the full notebook cells\n",
       "var notebookContainer = gd.closest('#notebook-container');\n",
       "if (notebookContainer) {{\n",
       "    x.observe(notebookContainer, {childList: true});\n",
       "}}\n",
       "\n",
       "// Listen for the clearing of the current output cell\n",
       "var outputEl = gd.closest('.output');\n",
       "if (outputEl) {{\n",
       "    x.observe(outputEl, {childList: true});\n",
       "}}\n",
       "\n",
       "                        })\n",
       "                };\n",
       "                });\n",
       "            </script>\n",
       "        </div>"
      ]
     },
     "metadata": {},
     "output_type": "display_data"
    }
   ],
   "source": [
    "import plotly_express as px\n",
    "\n",
    "fig = px.bar(NegativosPerYear, x=\"Question\", y=\"Percentage\",\n",
    "            animation_frame='Year', hover_name='Question', range_y=[0,1])\n",
    "fig.show()"
   ]
  },
  {
   "cell_type": "code",
   "execution_count": null,
   "metadata": {},
   "outputs": [],
   "source": []
  },
  {
   "cell_type": "markdown",
   "metadata": {},
   "source": [
    "Histogramas a fazer:\n",
    "\n",
    "\n",
    "- Aprendizagem\n",
    "- Gostou?\n",
    "-  Quem aprendeu muito/nada  vs positivos e negativos\n",
    "- Quem gostou muito/nada vs positivos e negativos\n",
    "- Casos estranhos : - Aprendeu muito/não gostou -positivos e negativos\n",
    "                    - Aprendeu nada /gostou - positivos e negativos\n",
    "                    \n",
    "Extra :  os incoerentes - Assinalam os mesmos positivos e negativos"
   ]
  },
  {
   "cell_type": "code",
   "execution_count": null,
   "metadata": {},
   "outputs": [],
   "source": []
  }
 ],
 "metadata": {
  "kernelspec": {
   "display_name": "Python 3",
   "language": "python",
   "name": "python3"
  },
  "language_info": {
   "codemirror_mode": {
    "name": "ipython",
    "version": 3
   },
   "file_extension": ".py",
   "mimetype": "text/x-python",
   "name": "python",
   "nbconvert_exporter": "python",
   "pygments_lexer": "ipython3",
   "version": "3.7.6"
  }
 },
 "nbformat": 4,
 "nbformat_minor": 4
}
